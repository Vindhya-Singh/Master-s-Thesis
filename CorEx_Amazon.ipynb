{
  "nbformat": 4,
  "nbformat_minor": 0,
  "metadata": {
    "colab": {
      "name": "CorEx_Amazon.ipynb",
      "provenance": [],
      "collapsed_sections": [],
      "include_colab_link": true
    },
    "kernelspec": {
      "name": "python3",
      "display_name": "Python 3"
    }
  },
  "cells": [
    {
      "cell_type": "markdown",
      "metadata": {
        "id": "view-in-github",
        "colab_type": "text"
      },
      "source": [
        "<a href=\"https://colab.research.google.com/github/VindhyaSRajan/Master-s-Thesis/blob/master/CorEx_Amazon.ipynb\" target=\"_parent\"><img src=\"https://colab.research.google.com/assets/colab-badge.svg\" alt=\"Open In Colab\"/></a>"
      ]
    },
    {
      "cell_type": "markdown",
      "metadata": {
        "id": "kvBOJjCDKtpY",
        "colab_type": "text"
      },
      "source": [
        "##Mounting the drive"
      ]
    },
    {
      "cell_type": "code",
      "metadata": {
        "id": "AFEKAncOKmvx",
        "colab_type": "code",
        "colab": {}
      },
      "source": [
        "from google.colab import drive\n",
        "drive.mount('/gdrive')\n",
        "%cd /gdrive"
      ],
      "execution_count": 0,
      "outputs": []
    },
    {
      "cell_type": "markdown",
      "metadata": {
        "id": "ml8fcYBwKoJz",
        "colab_type": "text"
      },
      "source": [
        "##All Imports go here but first, installations"
      ]
    },
    {
      "cell_type": "code",
      "metadata": {
        "id": "BC-fLq19LQ3-",
        "colab_type": "code",
        "colab": {}
      },
      "source": [
        "!pip install corextopic\n",
        "!pip install joblib"
      ],
      "execution_count": 0,
      "outputs": []
    },
    {
      "cell_type": "code",
      "metadata": {
        "id": "WstfHqthKFZM",
        "colab_type": "code",
        "colab": {}
      },
      "source": [
        "import numpy as np\n",
        "import scipy.sparse as ss\n",
        "import matplotlib.pyplot as plt\n",
        "import pandas as pd\n",
        "\n",
        "from corextopic import corextopic as ct\n",
        "from corextopic import vis_topic as vt \n",
        "from sklearn.feature_extraction.text import CountVectorizer\n",
        "\n",
        "%matplotlib inline"
      ],
      "execution_count": 0,
      "outputs": []
    },
    {
      "cell_type": "markdown",
      "metadata": {
        "id": "GFJdHcwpK_nG",
        "colab_type": "text"
      },
      "source": [
        "##Reading the data"
      ]
    },
    {
      "cell_type": "code",
      "metadata": {
        "id": "FL1x4w02Lv2L",
        "colab_type": "code",
        "outputId": "17fd0274-41f8-4323-abcd-b0b211796ba0",
        "colab": {
          "base_uri": "https://localhost:8080/",
          "height": 35
        }
      },
      "source": [
        "df = pd.read_csv('/gdrive/My Drive/reviews_samples.csv')\n",
        "df.head()\n",
        "df.shape"
      ],
      "execution_count": 0,
      "outputs": [
        {
          "output_type": "execute_result",
          "data": {
            "text/plain": [
              "(993490, 10)"
            ]
          },
          "metadata": {
            "tags": []
          },
          "execution_count": 34
        }
      ]
    },
    {
      "cell_type": "code",
      "metadata": {
        "id": "ofx5dWhLTZgy",
        "colab_type": "code",
        "outputId": "a65fb429-810b-4878-f03c-e0ec36a0eba3",
        "colab": {
          "base_uri": "https://localhost:8080/",
          "height": 54
        }
      },
      "source": [
        "#Converting the DF to list to feed to the CorEx Model\n",
        "dfToList = df['summary'].tolist()\n",
        "\n",
        "dfList = list(df['summary'])\n",
        "\n",
        "dfValues = df['summary'].values\n",
        "#print(dfList)\n",
        "print(dfValues)"
      ],
      "execution_count": 0,
      "outputs": [
        {
          "output_type": "stream",
          "text": [
            "['Delish' 'Just what my husband wanted' 'Love This Show!' ...\n",
            " 'Comfy Chaise!' 'Great for the Entire Family' 'Really glad I bought this']\n"
          ],
          "name": "stdout"
        }
      ]
    },
    {
      "cell_type": "markdown",
      "metadata": {
        "id": "vo9okNWqtjDv",
        "colab_type": "text"
      },
      "source": [
        "##Building Dictionary,Term-Doc Matrix"
      ]
    },
    {
      "cell_type": "code",
      "metadata": {
        "id": "xPhW34DxMMM9",
        "colab_type": "code",
        "outputId": "1a314740-3d34-4856-e44a-ced23ae9ae9d",
        "colab": {
          "base_uri": "https://localhost:8080/",
          "height": 35
        }
      },
      "source": [
        "# Transform Amazon Reviews data into a sparse matrix\n",
        "vectorizer = CountVectorizer(stop_words='english', max_features=20000,binary = True)\n",
        "doc_word = vectorizer.fit_transform(df['summary'].values.astype('U')) #Learn the vocabulary dictionary and return term-document matrix.\n",
        "doc_word = ss.csr_matrix(doc_word)\n",
        "\n",
        "doc_word.shape # n_docs x m_words"
      ],
      "execution_count": 0,
      "outputs": [
        {
          "output_type": "execute_result",
          "data": {
            "text/plain": [
              "(993490, 20000)"
            ]
          },
          "metadata": {
            "tags": []
          },
          "execution_count": 36
        }
      ]
    },
    {
      "cell_type": "code",
      "metadata": {
        "id": "f_bUXNp5NFG8",
        "colab_type": "code",
        "colab": {}
      },
      "source": [
        "# Get words that label the columns (needed to extract readable topics and make anchoring easier)\n",
        "words = list(np.asarray(vectorizer.get_feature_names()))"
      ],
      "execution_count": 0,
      "outputs": []
    },
    {
      "cell_type": "code",
      "metadata": {
        "id": "yHsn6cG2NuH0",
        "colab_type": "code",
        "outputId": "574515aa-005e-40e5-a799-d2c03935fd6f",
        "colab": {
          "base_uri": "https://localhost:8080/",
          "height": 35
        }
      },
      "source": [
        "not_digit_inds = [ind for ind,word in enumerate(words) if not word.isdigit()]\n",
        "doc_word = doc_word[:,not_digit_inds]\n",
        "words    = [word for ind,word in enumerate(words) if not word.isdigit()]\n",
        "\n",
        "doc_word.shape # n_docs x m_words"
      ],
      "execution_count": 0,
      "outputs": [
        {
          "output_type": "execute_result",
          "data": {
            "text/plain": [
              "(993490, 19098)"
            ]
          },
          "metadata": {
            "tags": []
          },
          "execution_count": 38
        }
      ]
    },
    {
      "cell_type": "markdown",
      "metadata": {
        "id": "SWPi_MkNtbsc",
        "colab_type": "text"
      },
      "source": [
        "##Training the CorEx Topic Model"
      ]
    },
    {
      "cell_type": "code",
      "metadata": {
        "id": "Z-FDTwAYNxid",
        "colab_type": "code",
        "colab": {}
      },
      "source": [
        "# Train the CorEx topic model with 10 topics\n",
        "topic_model = ct.Corex(n_hidden=10, words=words, max_iter=200, verbose=False, seed=1)\n",
        "topic_model.fit(doc_word, words=words);"
      ],
      "execution_count": 0,
      "outputs": []
    },
    {
      "cell_type": "code",
      "metadata": {
        "id": "7OKbfhueN1sE",
        "colab_type": "code",
        "outputId": "b5b5a40a-85cd-4350-ca90-b94f70f54377",
        "colab": {
          "base_uri": "https://localhost:8080/",
          "height": 199
        }
      },
      "source": [
        "# Print a single topic from CorEx topic model. This model is trained on the Amazon Garden and Lawn Products\n",
        "topic_model.get_topics(topic=7, n_words=10)"
      ],
      "execution_count": 0,
      "outputs": [
        {
          "output_type": "execute_result",
          "data": {
            "text/plain": [
              "[('hose', 0.029132999383915236),\n",
              " ('heavy', 0.01669357131735469),\n",
              " ('duty', 0.010935424893359016),\n",
              " ('reel', 0.005973615250989113),\n",
              " ('weight', 0.005672835147350455),\n",
              " ('light', 0.005503785856799797),\n",
              " ('umbrella', 0.005076314694303988),\n",
              " ('patio', 0.0031858289356087957),\n",
              " ('cover', 0.0029471155393640002),\n",
              " ('easily', 0.0027251459014974657)]"
            ]
          },
          "metadata": {
            "tags": []
          },
          "execution_count": 42
        }
      ]
    },
    {
      "cell_type": "code",
      "metadata": {
        "id": "PXEY_OBON4mi",
        "colab_type": "code",
        "outputId": "134f9458-6868-42b4-b4ff-0c201169b9ae",
        "colab": {
          "base_uri": "https://localhost:8080/",
          "height": 199
        }
      },
      "source": [
        "# Print all topics from the CorEx topic model\n",
        "topics = topic_model.get_topics()\n",
        "for n,topic in enumerate(topics):\n",
        "    topic_words,_ = zip(*topic)\n",
        "    print('{}: '.format(n) + ','.join(topic_words))"
      ],
      "execution_count": 0,
      "outputs": [
        {
          "output_type": "stream",
          "text": [
            "0: trimmer,washer,electric,replacement,black,mower,battery,solar,decker,cordless\n",
            "1: feeder,bird,best,snow,ve,squirrel,garden,product,weed,hummingbird\n",
            "2: money,waste,trap,worth,away,bugs,mouse,bug,save,mice\n",
            "3: great,good,love,like,price,quality,plant,birds,did,seeds\n",
            "4: don,time,water,long,broke,buy,year,months,problem,know\n",
            "5: grill,weber,bbq,charcoal,outdoor,smoker,brush,cooking,heat,char\n",
            "6: easy,does,job,use,fast,shipping,install,quick,delivery,gets\n",
            "7: hose,heavy,duty,reel,weight,light,umbrella,patio,cover,easily\n",
            "8: pool,pump,parts,missing,cleaner,poorly,intex,description,cheaper,ground\n",
            "9: just,excellent,needed,exactly,junk,service,looking,right,piece,didn\n"
          ],
          "name": "stdout"
        }
      ]
    },
    {
      "cell_type": "code",
      "metadata": {
        "id": "qJPbeUImN8UC",
        "colab_type": "code",
        "outputId": "6afb3d28-c54e-4e08-ade4-b74510b994aa",
        "colab": {
          "base_uri": "https://localhost:8080/",
          "height": 199
        }
      },
      "source": [
        "topic_model.get_topics(topic=5, n_words=10, print_words=False)"
      ],
      "execution_count": 0,
      "outputs": [
        {
          "output_type": "execute_result",
          "data": {
            "text/plain": [
              "[(7448, 0.026388301996361992),\n",
              " (18376, 0.018571382184366075),\n",
              " (1587, 0.005509258632415831),\n",
              " (2946, 0.00481149318882399),\n",
              " (11646, 0.004090152030781693),\n",
              " (15242, 0.0035619354247982357),\n",
              " (2332, 0.003290337050958336),\n",
              " (3730, 0.003054574616373883),\n",
              " (7897, 0.0028796312760634014),\n",
              " (2942, 0.002871438855985352)]"
            ]
          },
          "metadata": {
            "tags": []
          },
          "execution_count": 43
        }
      ]
    },
    {
      "cell_type": "code",
      "metadata": {
        "id": "v-CIEn-vOA0O",
        "colab_type": "code",
        "outputId": "7cc87468-9094-4dca-cff5-abfeb455724f",
        "colab": {
          "base_uri": "https://localhost:8080/",
          "height": 54
        }
      },
      "source": [
        "print(topic_model.clusters)\n",
        "print(topic_model.clusters.shape) # m_words"
      ],
      "execution_count": 0,
      "outputs": [
        {
          "output_type": "stream",
          "text": [
            "[0 7 7 ... 3 1 1]\n",
            "(19098,)\n"
          ],
          "name": "stdout"
        }
      ]
    },
    {
      "cell_type": "code",
      "metadata": {
        "id": "dTw-6XgaOD4l",
        "colab_type": "code",
        "outputId": "18553867-6d49-4bf6-fdc0-09f83140baca",
        "colab": {
          "base_uri": "https://localhost:8080/",
          "height": 217
        }
      },
      "source": [
        "# Print a single topic from CorEx topic model\n",
        "topic_model.get_top_docs(topic=7, n_docs=10, sort_by='log_prob')"
      ],
      "execution_count": 0,
      "outputs": [
        {
          "output_type": "stream",
          "text": [
            "NOTE: 'docs' not provided to CorEx. Returning top docs as lists of row indices\n"
          ],
          "name": "stdout"
        },
        {
          "output_type": "execute_result",
          "data": {
            "text/plain": [
              "[(424066, 0.0),\n",
              " (119096, 0.0),\n",
              " (949163, 0.0),\n",
              " (340507, 0.0),\n",
              " (423669, 0.0),\n",
              " (126295, 0.0),\n",
              " (502064, 0.0),\n",
              " (119301, 0.0),\n",
              " (155047, 0.0),\n",
              " (805199, 0.0)]"
            ]
          },
          "metadata": {
            "tags": []
          },
          "execution_count": 45
        }
      ]
    },
    {
      "cell_type": "code",
      "metadata": {
        "id": "z0tW_lfZOG0b",
        "colab_type": "code",
        "outputId": "25d06ab1-b52a-4f6a-8191-6a137fabcdfe",
        "colab": {
          "base_uri": "https://localhost:8080/",
          "height": 35
        }
      },
      "source": [
        "print(topic_model.p_y_given_x.shape) # n_docs x k_topics"
      ],
      "execution_count": 0,
      "outputs": [
        {
          "output_type": "stream",
          "text": [
            "(993490, 10)\n"
          ],
          "name": "stdout"
        }
      ]
    },
    {
      "cell_type": "code",
      "metadata": {
        "id": "jiDsOSZ-OJj5",
        "colab_type": "code",
        "outputId": "5f82dfe2-06db-4db3-ef5e-a0c429abc476",
        "colab": {
          "base_uri": "https://localhost:8080/",
          "height": 35
        }
      },
      "source": [
        "print(topic_model.labels.shape) # n_docs x k_topics"
      ],
      "execution_count": 0,
      "outputs": [
        {
          "output_type": "stream",
          "text": [
            "(993490, 10)\n"
          ],
          "name": "stdout"
        }
      ]
    },
    {
      "cell_type": "markdown",
      "metadata": {
        "id": "5iMH505FvuIj",
        "colab_type": "text"
      },
      "source": [
        "##Total Corelation and Model Selection"
      ]
    },
    {
      "cell_type": "code",
      "metadata": {
        "id": "dYUzAssfOMhv",
        "colab_type": "code",
        "outputId": "8b73b337-90eb-491f-cc16-4a452b435d40",
        "colab": {
          "base_uri": "https://localhost:8080/",
          "height": 35
        }
      },
      "source": [
        "#Here trying to implement what the paper proposes. Total correlation is the measure which CorEx maximize when constructing the topic model. It can be accessed through tc and is reported in nats.\n",
        "topic_model.tc "
      ],
      "execution_count": 0,
      "outputs": [
        {
          "output_type": "execute_result",
          "data": {
            "text/plain": [
              "0.4514645920166664"
            ]
          },
          "metadata": {
            "tags": []
          },
          "execution_count": 48
        }
      ]
    },
    {
      "cell_type": "code",
      "metadata": {
        "id": "L2FcresfOPCv",
        "colab_type": "code",
        "outputId": "50549447-7d5f-4ba2-cf38-8fcf9c375e15",
        "colab": {
          "base_uri": "https://localhost:8080/",
          "height": 35
        }
      },
      "source": [
        "topic_model.tcs.shape # k_topics"
      ],
      "execution_count": 0,
      "outputs": [
        {
          "output_type": "execute_result",
          "data": {
            "text/plain": [
              "(10,)"
            ]
          },
          "metadata": {
            "tags": []
          },
          "execution_count": 49
        }
      ]
    },
    {
      "cell_type": "code",
      "metadata": {
        "id": "HFc3wdEvOTTo",
        "colab_type": "code",
        "outputId": "43e96fb9-9f3d-41ce-9525-4bf3fa12b8ce",
        "colab": {
          "base_uri": "https://localhost:8080/",
          "height": 54
        }
      },
      "source": [
        "print(np.sum(topic_model.tcs))\n",
        "print(topic_model.tc)"
      ],
      "execution_count": 0,
      "outputs": [
        {
          "output_type": "stream",
          "text": [
            "0.4514645920166664\n",
            "0.4514645920166664\n"
          ],
          "name": "stdout"
        }
      ]
    },
    {
      "cell_type": "code",
      "metadata": {
        "id": "foK49skqOXP8",
        "colab_type": "code",
        "outputId": "737b79a8-047e-41e7-e3ed-1cc28c98ca72",
        "colab": {
          "base_uri": "https://localhost:8080/",
          "height": 339
        }
      },
      "source": [
        "#Selecting number of topics:Choosing from the data visualised\n",
        "plt.figure(figsize=(10,5))\n",
        "plt.bar(range(topic_model.tcs.shape[0]), topic_model.tcs, color='#4e79a7', width=0.5)\n",
        "plt.xlabel('Topic', fontsize=16)\n",
        "plt.ylabel('Total Correlation (nats)', fontsize=16);\n",
        "plt.savefig('Distribution of TCs for each topic', dpi=600)"
      ],
      "execution_count": 0,
      "outputs": [
        {
          "output_type": "display_data",
          "data": {
            "image/png": "[encoded data removed]",
            "text/plain": [
              "<Figure size 720x360 with 1 Axes>"
            ]
          },
          "metadata": {
            "tags": []
          }
        }
      ]
    },
    {
      "cell_type": "markdown",
      "metadata": {
        "id": "XcR06sfEwsHe",
        "colab_type": "text"
      },
      "source": [
        "##Pointwise Document TC"
      ]
    },
    {
      "cell_type": "code",
      "metadata": {
        "id": "1Nc2jSGSOaaO",
        "colab_type": "code",
        "outputId": "68820f58-85c9-4726-f655-745d34f4c323",
        "colab": {
          "base_uri": "https://localhost:8080/",
          "height": 35
        }
      },
      "source": [
        "topic_model.log_z.shape # n_docs x k_topics"
      ],
      "execution_count": 0,
      "outputs": [
        {
          "output_type": "execute_result",
          "data": {
            "text/plain": [
              "(993490, 10)"
            ]
          },
          "metadata": {
            "tags": []
          },
          "execution_count": 52
        }
      ]
    },
    {
      "cell_type": "code",
      "metadata": {
        "id": "NoKQM_roOdWs",
        "colab_type": "code",
        "outputId": "f3a9c5aa-18b4-41bd-d4dd-08f4c20ab738",
        "colab": {
          "base_uri": "https://localhost:8080/",
          "height": 90
        }
      },
      "source": [
        "print(np.mean(topic_model.log_z, axis=0)) #The pointwise total correlations in log_z represent the correlations within an individual document explained by a particular topic. These correlations have been used to measure how \"surprising\" documents are with respect to given topics\n",
        "print(topic_model.tcs)"
      ],
      "execution_count": 0,
      "outputs": [
        {
          "output_type": "stream",
          "text": [
            "[0.08558585 0.06529124 0.06312844 0.05079521 0.04153885 0.04149329\n",
            " 0.04010682 0.03071867 0.01818844 0.01461778]\n",
            "[0.08558585 0.06529124 0.06312844 0.05079521 0.04153885 0.04149329\n",
            " 0.04010682 0.03071867 0.01818844 0.01461778]\n"
          ],
          "name": "stdout"
        }
      ]
    },
    {
      "cell_type": "markdown",
      "metadata": {
        "id": "siSYaPTdw_dP",
        "colab_type": "text"
      },
      "source": [
        "##Now adding some hierarchy to the Topic Model"
      ]
    },
    {
      "cell_type": "code",
      "metadata": {
        "id": "Sbj0ToiWOgSr",
        "colab_type": "code",
        "colab": {}
      },
      "source": [
        "# Train a second layer to the topic model\n",
        "tm_layer2 = ct.Corex(n_hidden=10)\n",
        "tm_layer2.fit(topic_model.labels);\n",
        "\n",
        "# Train a third layer to the topic model\n",
        "tm_layer3 = ct.Corex(n_hidden=1)\n",
        "tm_layer3.fit(tm_layer2.labels);"
      ],
      "execution_count": 0,
      "outputs": []
    },
    {
      "cell_type": "code",
      "metadata": {
        "id": "KaaeJOWBOj8W",
        "colab_type": "code",
        "colab": {}
      },
      "source": [
        "vt.vis_hierarchy([topic_model, tm_layer2, tm_layer3], column_label=words, max_edges=200, prefix='topic-model-example')\n"
      ],
      "execution_count": 0,
      "outputs": []
    },
    {
      "cell_type": "markdown",
      "metadata": {
        "id": "zeVZe0KLxoRx",
        "colab_type": "text"
      },
      "source": [
        "##Introducing Anchoring in the semi-supervised topic model"
      ]
    },
    {
      "cell_type": "code",
      "metadata": {
        "id": "QEOuGm-bOmgc",
        "colab_type": "code",
        "colab": {}
      },
      "source": [
        "# Anchor one word to the seventh topic\n",
        "anchor_words = ['shipping']"
      ],
      "execution_count": 0,
      "outputs": []
    },
    {
      "cell_type": "code",
      "metadata": {
        "id": "tyhJ29RjOoxo",
        "colab_type": "code",
        "colab": {}
      },
      "source": [
        "# Anchor the word 'shipping' to the seventh topic\n",
        "anchored_topic_model = ct.Corex(n_hidden=50, seed=2)\n",
        "anchored_topic_model.fit(doc_word, words=words, anchors=anchor_words, anchor_strength=6);"
      ],
      "execution_count": 0,
      "outputs": []
    },
    {
      "cell_type": "code",
      "metadata": {
        "id": "bwEZKJ7EOsUe",
        "colab_type": "code",
        "outputId": "b05ff616-9df5-4174-8d9e-542f0dbc62e2",
        "colab": {
          "base_uri": "https://localhost:8080/",
          "height": 35
        }
      },
      "source": [
        "topic_words,_ = zip(*anchored_topic_model.get_topics(topic=6))\n",
        "print('6: ' + ','.join(topic_words))"
      ],
      "execution_count": 0,
      "outputs": [
        {
          "output_type": "stream",
          "text": [
            "6: amazing,leaks,wow,simply,cracked,incredible,invention,gadget,leaky,half\n"
          ],
          "name": "stdout"
        }
      ]
    },
    {
      "cell_type": "code",
      "metadata": {
        "id": "30rha9MkOwCS",
        "colab_type": "code",
        "colab": {}
      },
      "source": [
        "# Anchor 'electric' and 'electronic' to first topic, 'birds' and 'garden' to second topic, so on...\n",
        "anchor_words = [['electric', 'electronic'], ['birds', 'garden'], ['money', 'worth'], ['price', 'quality']]\n",
        "\n",
        "anchored_topic_model = ct.Corex(n_hidden=50, seed=2)\n",
        "anchored_topic_model.fit(doc_word, words=words, anchors=anchor_words, anchor_strength=6);"
      ],
      "execution_count": 0,
      "outputs": []
    },
    {
      "cell_type": "code",
      "metadata": {
        "id": "cYbA1tRqOzU7",
        "colab_type": "code",
        "outputId": "626adf96-537e-421e-e9fe-f132f497b73e",
        "colab": {
          "base_uri": "https://localhost:8080/",
          "height": 90
        }
      },
      "source": [
        "for n in range(len(anchor_words)):\n",
        "    topic_words,_ = zip(*anchored_topic_model.get_topics(topic=n))\n",
        "    print('{}: '.format(n) + ','.join(topic_words))"
      ],
      "execution_count": 0,
      "outputs": [
        {
          "output_type": "stream",
          "text": [
            "0: electric,trimmer,electronic,mower,decker,blower,cordless,washer,black,chain\n",
            "1: garden,birds,love,fairy,herb,addition,kneeler,weasel,stool,raised\n",
            "2: money,worth,waste,save,penny,spent,wasted,extra,spend,cost\n",
            "3: quality,price,poor,high,reasonable,low,beat,decent,fair,build\n"
          ],
          "name": "stdout"
        }
      ]
    },
    {
      "cell_type": "code",
      "metadata": {
        "id": "MA-gBh5jO3C4",
        "colab_type": "code",
        "colab": {}
      },
      "source": [
        "# Anchor with single words and groups of words\n",
        "anchor_words = ['job', ['job', 'use'], ['job', 'delivery'], 'shopping']\n",
        "\n",
        "anchored_topic_model = ct.Corex(n_hidden=50, seed=2)\n",
        "anchored_topic_model.fit(doc_word, words=words, anchors=anchor_words, anchor_strength=6);"
      ],
      "execution_count": 0,
      "outputs": []
    },
    {
      "cell_type": "code",
      "metadata": {
        "id": "z88QyNfUO6Yb",
        "colab_type": "code",
        "outputId": "2d26a1d2-d7fd-44d1-9758-0fdd464a0af9",
        "colab": {
          "base_uri": "https://localhost:8080/",
          "height": 90
        }
      },
      "source": [
        "for n in range(len(anchor_words)):\n",
        "    topic_words,_ = zip(*anchored_topic_model.get_topics(topic=n))\n",
        "    print('{}: '.format(n) + ','.join(topic_words))"
      ],
      "execution_count": 0,
      "outputs": [
        {
          "output_type": "stream",
          "text": [
            "0: job,does,gets,doing,dose,adequately,certainly,adequate,doin,slower\n",
            "1: use,job,easy,ease,lightweight,occasional,indoor,everyday,residential,pleasure\n",
            "2: job,delivery,prompt,speedy,timely,ref,www,gp,http,nicely\n",
            "3: mower,trimmer,blower,lawn,electric,black,cordless,chain,saw,decker\n"
          ],
          "name": "stdout"
        }
      ]
    },
    {
      "cell_type": "code",
      "metadata": {
        "id": "U8R2h2y4O80R",
        "colab_type": "code",
        "colab": {}
      },
      "source": [
        "vt.vis_rep(topic_model, column_label=words, prefix='./twenty')"
      ],
      "execution_count": 0,
      "outputs": []
    },
    {
      "cell_type": "code",
      "metadata": {
        "id": "Ku3ObOoGFoSV",
        "colab_type": "code",
        "outputId": "57504b70-a403-406b-8769-5dd804c842b2",
        "colab": {
          "base_uri": "https://localhost:8080/",
          "height": 54
        }
      },
      "source": [
        "%pwd\n",
        "%cd /content/\n",
        "%pwd"
      ],
      "execution_count": 0,
      "outputs": [
        {
          "output_type": "stream",
          "text": [
            "/content\n"
          ],
          "name": "stdout"
        },
        {
          "output_type": "execute_result",
          "data": {
            "text/plain": [
              "'/content'"
            ]
          },
          "metadata": {
            "tags": []
          },
          "execution_count": 78
        }
      ]
    },
    {
      "cell_type": "code",
      "metadata": {
        "id": "ArJckdkIEmb_",
        "colab_type": "code",
        "colab": {}
      },
      "source": [
        "#Saving the CorEx topics generated in a file\n",
        "import sys\n",
        "import csv\n",
        "with open(\"corex_topic.txt\",\"w+\") as file:\n",
        "     for n in range(len(anchor_words)):\n",
        "         topic_words,_ = zip(*anchored_topic_model.get_topics(topic=n))\n",
        "         #print('{}: '.format(n) + ','.join(topic_words))\n",
        "         file.write('{}: '.format(n) + ','.join(topic_words)+'\\n')"
      ],
      "execution_count": 0,
      "outputs": []
    }
  ]
}