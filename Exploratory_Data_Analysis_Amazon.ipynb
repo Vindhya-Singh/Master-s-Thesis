{
  "nbformat": 4,
  "nbformat_minor": 0,
  "metadata": {
    "colab": {
      "name": "Exploratory_Data_Analysis_Amazon.ipynb",
      "provenance": [],
      "include_colab_link": true
    },
    "kernelspec": {
      "name": "python3",
      "display_name": "Python 3"
    }
  },
  "cells": [
    {
      "cell_type": "markdown",
      "metadata": {
        "id": "view-in-github",
        "colab_type": "text"
      },
      "source": [
        "<a href=\"https://colab.research.google.com/github/VindhyaSRajan/Master-s-Thesis/blob/master/Exploratory_Data_Analysis_Amazon.ipynb\" target=\"_parent\"><img src=\"https://colab.research.google.com/assets/colab-badge.svg\" alt=\"Open In Colab\"/></a>"
      ]
    },
    {
      "cell_type": "code",
      "metadata": {
        "id": "T0sv-WLF4J4c",
        "colab_type": "code",
        "colab": {}
      },
      "source": [
        "from google.colab import drive\n",
        "drive.mount('/content/drive')"
      ],
      "execution_count": 0,
      "outputs": []
    },
    {
      "cell_type": "markdown",
      "metadata": {
        "id": "INtbJn1g5IuB",
        "colab_type": "text"
      },
      "source": [
        "##Data Exploration"
      ]
    },
    {
      "cell_type": "code",
      "metadata": {
        "id": "x4_cf8MY5M4X",
        "colab_type": "code",
        "colab": {}
      },
      "source": [
        "!pip install gensim\n",
        "!pip install bs4\n",
        "!pip install pyLDAvis\n",
        "!pip install warnings"
      ],
      "execution_count": 0,
      "outputs": []
    },
    {
      "cell_type": "code",
      "metadata": {
        "id": "Gir6jOiw4FhY",
        "colab_type": "code",
        "colab": {
          "base_uri": "https://localhost:8080/",
          "height": 51
        },
        "outputId": "89f6c822-46cc-4ddc-94e9-3fbddef29da5"
      },
      "source": [
        "import pandas as pd\n",
        "pd.set_option('display.max_colwidth', -1)  # to view entire text in any column\n",
        "import numpy as np\n",
        "import random\n",
        "import matplotlib.pyplot as plt\n",
        "%matplotlib inline\n",
        "import seaborn as sns\n",
        "import re\n",
        "import string\n",
        "import gzip\n",
        "from pprint import pprint\n",
        "\n",
        "from bs4 import BeautifulSoup\n",
        "import nltk\n",
        "from nltk import FreqDist\n",
        "nltk.download('stopwords') \n",
        "from nltk.corpus import stopwords\n",
        "# from nltk.stem.wordnet import WordNetLemmatizer  # alternative lemmatizer\n",
        "# lemma = WordNetLemmatizer()\n",
        "\n",
        "import spacy\n",
        "import gensim\n",
        "from gensim import corpora\n",
        "from gensim.models import CoherenceModel\n",
        "\n",
        "import pyLDAvis\n",
        "import pyLDAvis.gensim   # for visualizing found topics\n",
        "\n",
        "import os\n",
        "\n",
        "\n",
        "import warnings\n",
        "warnings.filterwarnings(\"ignore\",category=DeprecationWarning)  # suppressing deprecation warnings when running gensim LDA\n",
        "\n",
        "#from specialmaps import CONTRACTION_MAP\n",
        "#from collections import defaultdict"
      ],
      "execution_count": 1,
      "outputs": [
        {
          "output_type": "stream",
          "text": [
            "[nltk_data] Downloading package stopwords to /root/nltk_data...\n",
            "[nltk_data]   Package stopwords is already up-to-date!\n"
          ],
          "name": "stdout"
        }
      ]
    },
    {
      "cell_type": "code",
      "metadata": {
        "id": "-zwLrBqe6m3D",
        "colab_type": "code",
        "colab": {}
      },
      "source": [
        "import pandas as pd\n",
        "import gzip\n",
        "import json\n",
        "\n",
        "def parse(path):\n",
        "  g = gzip.open(path, 'rb')\n",
        "  for l in g:\n",
        "    yield json.loads(l)\n",
        "\n",
        "def getDF(path):\n",
        "  i = 0\n",
        "  df = {}\n",
        "  for d in parse(path):\n",
        "    df[i] = d\n",
        "    i += 1\n",
        "  return pd.DataFrame.from_dict(df, orient='index')"
      ],
      "execution_count": 0,
      "outputs": []
    },
    {
      "cell_type": "code",
      "metadata": {
        "id": "dLBZ5APk6LZI",
        "colab_type": "code",
        "colab": {
          "base_uri": "https://localhost:8080/",
          "height": 34
        },
        "outputId": "626480b3-0583-4bb2-8d20-4b61b797b380"
      },
      "source": [
        "df = pd.read_csv('/content/drive/My Drive/Amazon_data/reviews_Patio_Lawn_And_Garden.csv', nrows  = 100000, error_bad_lines = False)\n",
        "#meta_df = getDF('/content/drive/My Drive/Amazon_data/meta_Patio_Lawn_and_Garden.json.gz')\n",
        "print('Shape of the actual data is ',df.shape)\n",
        "#print('Shape of the meta-data is ', meta_df.shape)"
      ],
      "execution_count": 3,
      "outputs": [
        {
          "output_type": "stream",
          "text": [
            "Shape of the actual data is  (100000, 9)\n"
          ],
          "name": "stdout"
        }
      ]
    },
    {
      "cell_type": "code",
      "metadata": {
        "id": "fCGh7ABZ7WhP",
        "colab_type": "code",
        "colab": {
          "base_uri": "https://localhost:8080/",
          "height": 391
        },
        "outputId": "d415362b-b5a9-4430-9c03-d1cf5ebc86bd"
      },
      "source": [
        "df = df[['asin','reviewText','overall','summary']]\n",
        "df.sample(5)"
      ],
      "execution_count": 4,
      "outputs": [
        {
          "output_type": "execute_result",
          "data": {
            "text/html": [
              "<div>\n",
              "<style scoped>\n",
              "    .dataframe tbody tr th:only-of-type {\n",
              "        vertical-align: middle;\n",
              "    }\n",
              "\n",
              "    .dataframe tbody tr th {\n",
              "        vertical-align: top;\n",
              "    }\n",
              "\n",
              "    .dataframe thead th {\n",
              "        text-align: right;\n",
              "    }\n",
              "</style>\n",
              "<table border=\"1\" class=\"dataframe\">\n",
              "  <thead>\n",
              "    <tr style=\"text-align: right;\">\n",
              "      <th></th>\n",
              "      <th>asin</th>\n",
              "      <th>reviewText</th>\n",
              "      <th>overall</th>\n",
              "      <th>summary</th>\n",
              "    </tr>\n",
              "  </thead>\n",
              "  <tbody>\n",
              "    <tr>\n",
              "      <th>60205</th>\n",
              "      <td>B0000AV0T8</td>\n",
              "      <td>I bought this product for my parents and they love it! My mom hates to pop the cork on champagne and now its so easy for her. I will def. purchase this product again for gifts in the future. I liked the box it came in too, very pretty.</td>\n",
              "      <td>5.0</td>\n",
              "      <td>great gift idea</td>\n",
              "    </tr>\n",
              "    <tr>\n",
              "      <th>81526</th>\n",
              "      <td>B00022OK2A</td>\n",
              "      <td>It's back to basics with this little jewel. I love the convenience and simplicity of this grill. It makes quick work of most meats, i.e. steaks , burgers &amp; brats. Chicken takes a little more care and attention to avoid burning or cooking too fast. It takes a time or two to get the right amount of charcoals and venting just right, but once you do, it's easy to prepare a meal in a jiffy. Clean up is a snap too, but remember to wipe it down with a little veggie oil before storing it away.</td>\n",
              "      <td>5.0</td>\n",
              "      <td>Best Little Grill Ever...</td>\n",
              "    </tr>\n",
              "    <tr>\n",
              "      <th>5211</th>\n",
              "      <td>B00002NC1Y</td>\n",
              "      <td>Bought as a gift for Christmas last year and it cleaned the BBQ Grill well.  It did what its suppose to do.</td>\n",
              "      <td>5.0</td>\n",
              "      <td>works well</td>\n",
              "    </tr>\n",
              "    <tr>\n",
              "      <th>80936</th>\n",
              "      <td>B00021FLQK</td>\n",
              "      <td>Nice cover that's fits my Sears 5 burner grill.</td>\n",
              "      <td>5.0</td>\n",
              "      <td>Five Stars</td>\n",
              "    </tr>\n",
              "    <tr>\n",
              "      <th>65293</th>\n",
              "      <td>B0000DBIKK</td>\n",
              "      <td>I wanted a set that was high quality, had a knife, and wasn't outrageously priced. I didn't want a 12, 18, or more piece set as I didn't need corn cob holders, skewers, grill brush, etc. This set meets all of my requirements. The tools are 18 1/2\" long. This prevents you from having your hand over hot parts of the grill. The metal thickness is 3/32\". This is much thicker than the thinner guage of lower priced sets. The handles are thick, beaufifully rounded, and very comfortable to hold. There are no rough or sharp edges on the stainless steel. The same quality by other makers easily approaches $100. Check the pieces of any other set [except for Weber, which does not offer a knife] and compare. You'll find they are thin stainless steel, have less than comfortable handles, have sharp or rough edges on the stainless steel, and may be much shorter. To top all of the qreat qualities of this set, it's backed by a lifetime warranty [excluding the brush on the baster.]</td>\n",
              "      <td>5.0</td>\n",
              "      <td>Top quality, heavy guage stainless BBQ tools</td>\n",
              "    </tr>\n",
              "  </tbody>\n",
              "</table>\n",
              "</div>"
            ],
            "text/plain": [
              "             asin  ...                                       summary\n",
              "60205  B0000AV0T8  ...  great gift idea                             \n",
              "81526  B00022OK2A  ...  Best Little Grill Ever...                   \n",
              "5211   B00002NC1Y  ...  works well                                  \n",
              "80936  B00021FLQK  ...  Five Stars                                  \n",
              "65293  B0000DBIKK  ...  Top quality, heavy guage stainless BBQ tools\n",
              "\n",
              "[5 rows x 4 columns]"
            ]
          },
          "metadata": {
            "tags": []
          },
          "execution_count": 4
        }
      ]
    },
    {
      "cell_type": "code",
      "metadata": {
        "id": "f1U8mTKD8XF1",
        "colab_type": "code",
        "colab": {}
      },
      "source": [
        "# function to plot most frequent terms. This is used to gauge the quality of text processing\n",
        "def freq_words(x, terms = 30):\n",
        "  all_words = ' '.join([text for text in x])\n",
        "  all_words = all_words.split()\n",
        "\n",
        "  fdist = FreqDist(all_words)\n",
        "  words_df = pd.DataFrame({'word':list(fdist.keys()), 'count':list(fdist.values())})\n",
        "\n",
        "  # selecting top n most frequent words\n",
        "  d = words_df.nlargest(columns=\"count\", n = terms) \n",
        "  plt.figure(figsize=(20,5))\n",
        "  ax = sns.barplot(data=d, x= \"word\", y = \"count\")\n",
        "  ax.set(ylabel = 'Count')\n",
        "  plt.show()"
      ],
      "execution_count": 0,
      "outputs": []
    },
    {
      "cell_type": "code",
      "metadata": {
        "id": "y9wPiv3V8iqO",
        "colab_type": "code",
        "colab": {
          "base_uri": "https://localhost:8080/",
          "height": 34
        },
        "outputId": "b91b05d0-738a-4672-ab70-e7f4d8b43ea8"
      },
      "source": [
        "df = df.dropna(subset = ['reviewText'])\n",
        "df.shape[0] #shape should come around 99941"
      ],
      "execution_count": 6,
      "outputs": [
        {
          "output_type": "execute_result",
          "data": {
            "text/plain": [
              "99941"
            ]
          },
          "metadata": {
            "tags": []
          },
          "execution_count": 6
        }
      ]
    },
    {
      "cell_type": "code",
      "metadata": {
        "id": "AkoNJOX88mxX",
        "colab_type": "code",
        "colab": {
          "base_uri": "https://localhost:8080/",
          "height": 673
        },
        "outputId": "22e85b63-ea5f-4e5a-c24d-9ad95fcffcfc"
      },
      "source": [
        "#Amazon Review Data\n",
        "# number of asins, number of associated reviews for each asin\n",
        "review_cnts = df.groupby('asin').agg({'reviewText':'count'}).sort_values(by = 'reviewText', ascending = False)\n",
        "review_cnts = review_cnts.reset_index()\n",
        "review_cnts = review_cnts.rename({'reviewText':'reviewCnt'}, axis = 'columns')\n",
        "print('Top 10 most reviewed:\\n', review_cnts.head(10),'\\n')\n",
        "print(review_cnts.reviewCnt.describe())\n",
        "plt.figure(figsize=(8,10))\n",
        "\n",
        "# a few products are much more highly reviewed than the rest, zoom in to x < 200\n",
        "review_cnts.plot.hist(by='reviewCnt', bins = 100, rwidth = 0.8)  \n",
        "plt.xlim([-1,100])   # enmt: log y axis"
      ],
      "execution_count": 10,
      "outputs": [
        {
          "output_type": "stream",
          "text": [
            "Top 10 most reviewed:\n",
            "          asin  reviewCnt\n",
            "0  B000071NUS  2339     \n",
            "1  B00004R9VV  2083     \n",
            "2  B00004SD7B  1706     \n",
            "3  B00004RA3E  944      \n",
            "4  B0001Q2EMU  876      \n",
            "5  B00005OQMG  800      \n",
            "6  B00025H2PY  793      \n",
            "7  B00022OK2A  657      \n",
            "8  B00004DTNH  640      \n",
            "9  B00005AKZI  637       \n",
            "\n",
            "count    4409.000000\n",
            "mean     22.667498  \n",
            "std      81.517822  \n",
            "min      1.000000   \n",
            "25%      2.000000   \n",
            "50%      4.000000   \n",
            "75%      13.000000  \n",
            "max      2339.000000\n",
            "Name: reviewCnt, dtype: float64\n"
          ],
          "name": "stdout"
        },
        {
          "output_type": "execute_result",
          "data": {
            "text/plain": [
              "(-1, 100)"
            ]
          },
          "metadata": {
            "tags": []
          },
          "execution_count": 10
        },
        {
          "output_type": "display_data",
          "data": {
            "text/plain": [
              "<Figure size 576x720 with 0 Axes>"
            ]
          },
          "metadata": {
            "tags": []
          }
        },
        {
          "output_type": "display_data",
          "data": {
            "image/png": "[encoded data removed]",
            "text/plain": [
              "<Figure size 432x288 with 1 Axes>"
            ]
          },
          "metadata": {
            "tags": []
          }
        }
      ]
    },
    {
      "cell_type": "code",
      "metadata": {
        "id": "Pekn-e7r8tBC",
        "colab_type": "code",
        "colab": {
          "base_uri": "https://localhost:8080/",
          "height": 336
        },
        "outputId": "0670f3c3-56c2-48d6-feb9-0aae7757265f"
      },
      "source": [
        "freq_words(list(df['reviewText']))"
      ],
      "execution_count": 11,
      "outputs": [
        {
          "output_type": "display_data",
          "data": {
            "image/png": "[encoded data removed]",
            "text/plain": [
              "<Figure size 1440x360 with 1 Axes>"
            ]
          },
          "metadata": {
            "tags": []
          }
        }
      ]
    },
    {
      "cell_type": "code",
      "metadata": {
        "id": "diFntuIz8xIq",
        "colab_type": "code",
        "colab": {}
      },
      "source": [
        "# functions for text cleaning and pre-processing\n",
        "\n",
        "def chk_has_html(rev_df,print_all=True):\n",
        "    # check for review text that has tags such as &#34;\n",
        "    # rev_df: e.g. df['reviewText']\n",
        "    html_num = defaultdict(int)\n",
        "    review_w_html = []\n",
        "    for idx, text in enumerate(rev_df):\n",
        "        strange_text = re.findall(r'&#\\d+;',text)\n",
        "        if len(strange_text) > 1:\n",
        "            for t in strange_text:\n",
        "                html_num[t] += 1\n",
        "            review_w_html.append(text)\n",
        "    \n",
        "    if print_all == True:\n",
        "        print(sorted(html_num.items(), key = lambda kv:(kv[1], kv[0]), reverse=True))     \n",
        "    return html_num\n",
        "\n",
        "def chk_html_num(rev_df,tag):\n",
        "    # prints reviews that contain the special HTML numbers specified by tag\n",
        "    # tag: HTML numbers with pattern r'&#\\d+;'\n",
        "    for idx, text in enumerate(rev_df):\n",
        "        if tag in text:\n",
        "            print(idx, text, '\\n')\n",
        "\n",
        "def convert_html(rev): \n",
        "    # replace the html tags by the corresponding symbol using HTML_MAP\n",
        "    html_entity = re.findall(r'&#\\d+;',rev)\n",
        "    rev_new = rev\n",
        "    if len(html_entity) > 0:\n",
        "        for t in html_entity:\n",
        "            rev_new = rev_new.replace(t,HTML_MAP[t])\n",
        "    return rev_new\n",
        "\n",
        "def remove_html_tags(text):\n",
        "    return BeautifulSoup(text, \"html.parser\").get_text()\n",
        "\n",
        "# def expand_contractions(text, contraction_mapping=CONTRACTION_MAP):    \n",
        "#     # expand contractions. I'm -> I am. Aren't -> are not\n",
        "#     # This is a simple version, see more elaborate version that considers word sense: https://pypi.org/project/pycontractions/\n",
        "#     contractions_pattern = re.compile('({})'.format('|'.join(contraction_mapping.keys())), \n",
        "#                                       flags=re.IGNORECASE|re.DOTALL)\n",
        "    \n",
        "#     def expand_match(contraction):\n",
        "#         match = contraction.group(0)\n",
        "#         first_char = match[0]\n",
        "#         expanded_contraction = contraction_mapping.get(match)\\\n",
        "#                                 if contraction_mapping.get(match)\\\n",
        "#                                 else contraction_mapping.get(match.lower())                       \n",
        "#         expanded_contraction = first_char+expanded_contraction[1:]\n",
        "#         return expanded_contraction\n",
        "\n",
        "#     expanded_text = contractions_pattern.sub(expand_match, text)\n",
        "#     expanded_text = re.sub(\"'\", \"\", expanded_text)\n",
        "#     return expanded_text\n",
        "\n",
        "punc_char = set(string.punctuation)\n",
        "\n",
        "def remove_punctuation(rev):\n",
        "    # remove punctuation from the input string rev\n",
        "    return ''.join([ch for ch in rev if ch not in punc_char])\n",
        "\n",
        "stop_words = stopwords.words('english')\n",
        "stop_words.extend(['would','dont','cant','should'])  \n",
        "\n",
        "def remove_stopwords(rev):\n",
        "    # rev is a review text, one string\n",
        "    rev_new = \" \".join([i for i in rev.split() if i not in stop_words])\n",
        "    return rev_new\n",
        "\n",
        "nlp = spacy.load('en', disable=['parser', 'ner'])\n",
        "\n",
        "def lemmatization(rev): \n",
        "    # lemmatize input string rev, i.e. reduce all forms of a word to the lemma\n",
        "    doc = nlp(\" \".join(rev.split()))\n",
        "    return \" \".join([token.lemma_ for token in doc])\n",
        "\n",
        "def lemmatization_tag(rev, tags = ['NOUN', 'ADJ']): # filter noun and adjective\n",
        "    doc = nlp(\" \".join(rev.split()))\n",
        "    return \" \".join([token.lemma_ for token in doc if token.pos_ in tags])\n",
        "\n",
        "def remove_num(s):\n",
        "    # s is a string, e.g. an entire review text\n",
        "    return ''.join([i for i in s if not i.isdigit()])"
      ],
      "execution_count": 0,
      "outputs": []
    },
    {
      "cell_type": "code",
      "metadata": {
        "id": "38W629349H5g",
        "colab_type": "code",
        "colab": {
          "base_uri": "https://localhost:8080/",
          "height": 71
        },
        "outputId": "39f03136-fe8e-41ea-9e86-c3927033c1d6"
      },
      "source": [
        "# use beautiful soup to remove html entities\n",
        "\n",
        "df.loc[:,'review_no_html'] = df['reviewText'].apply(remove_html_tags)\n",
        "df.loc[:,'review_no_html'] = df['review_no_html'].apply(remove_html_tags)"
      ],
      "execution_count": 8,
      "outputs": [
        {
          "output_type": "stream",
          "text": [
            "/usr/local/lib/python3.6/dist-packages/bs4/__init__.py:273: UserWarning: \"b'.'\" looks like a filename, not markup. You should probably open this file and pass the filehandle into Beautiful Soup.\n",
            "  ' Beautiful Soup.' % markup)\n"
          ],
          "name": "stderr"
        }
      ]
    },
    {
      "cell_type": "code",
      "metadata": {
        "id": "1oSONDaH9MgL",
        "colab_type": "code",
        "colab": {
          "base_uri": "https://localhost:8080/",
          "height": 139
        },
        "outputId": "e5a8d33f-6a04-4222-ae89-5ef0ef7765cb"
      },
      "source": [
        "df['review_no_html'].sample(5)"
      ],
      "execution_count": 14,
      "outputs": [
        {
          "output_type": "execute_result",
          "data": {
            "text/plain": [
              "45369    I have used mine four times in the last two weeks. In fact, I needed it a day earlier than the first snow here in upper NH. Despite the fact that most of the externals are plastic, it works perfectly, on light snow and wet snow. I have a driveway that is about 50' x 28', and I get it done in ten minutes. It has plenty of power. The only issue I have is that my driveway is crushed gravel and stone. And the stones - when I manage to go too low - are thrown against the side of my neighbor's house. :)I also bought the 100' Coleman cable. I would highly recommend this pair of products.                                                                                                                                                                                                                                                                                                                                                                          \n",
              "92086    Since I had purchased a wrought iron table for my kitchen dining nook, I wanted to replace a small wooden stand with something more appropriate.  I saw this online and thought I'd give it a try.  It looks beautiful and completes the look I was hoping for.  It is quite sturdy, too.  I am very pleased with the product.                                                                                                                                                                                                                                                                                                                                                                                                                                                                                                                                                                                                                                                       \n",
              "3032     I have purchased these before and have been very satisfied with them. I think one would put them in the entire yard and not have any problems. Which I have done. Really satisfied                                                                                                                                                                                                                                                                                                                                                                                                                                                                                                                                                                                                                                                                                                                                                                                                   \n",
              "79893    only used once so far.  it worked very well.  only drawback is the lever for the flow control.  it does not close completely, and you must play with it to get the right setting.                                                                                                                                                                                                                                                                                                                                                                                                                                                                                                                                                                                                                                                                                                                                                                                                    \n",
              "40201    This metal detector is nice, notwithstanding, it performs poorly when in all metal mode.  Initially all metal mode works fine, however, after half an hour of use the batteries begin to wear out and the battery low indicator does not come on.  When all metal mode is used after half an hour of the detector's use, it just squeals uncontrollably.  It's supposed to go off over metal and pin point the source of your initial find with great accuracy.  Again, after thirty minutes of use of the detector, it will no longer go off over the source, it will just go off constantly, no mater where you hold it.  I could hold it into the air and it still squeals.  I made every adjustment I could and it just continues to make noise.  This mode is worthless unless your using it with two fresh 9 volt batteries every half an hour.  Finally, if you're hunting say meteorites for four hours, you can expect to spend over $56.00 on batteries for that afternoon.\n",
              "Name: review_no_html, dtype: object"
            ]
          },
          "metadata": {
            "tags": []
          },
          "execution_count": 14
        }
      ]
    },
    {
      "cell_type": "code",
      "metadata": {
        "id": "hKodste39TFW",
        "colab_type": "code",
        "colab": {
          "base_uri": "https://localhost:8080/",
          "height": 173
        },
        "outputId": "96731b0c-6726-424c-a617-6823c4d6e941"
      },
      "source": [
        "# contraction expansion tests\n",
        "\n",
        "#df.loc[:,'review_no_contraction'] = df['review_no_html'].apply(expand_contractions)\n",
        "print(df['review_no_html'].sample(n=5, random_state = 0))\n",
        "print(\"\\n\")\n",
        "#print(df['review_no_contraction'].sample(n=5, random_state = 0))"
      ],
      "execution_count": 15,
      "outputs": [
        {
          "output_type": "stream",
          "text": [
            "26178    These shears are ergonomic and work great.  Makes pruninga much easier task.  You won't regret the purchase.Its been one season and they seem to have kept fairly sharp.                                                                                                                                                                                                                                                                                                                                                                                                                                                                                                                                                                                                                                                                                                                                                                                                                                                                                                                                                                                                                                                                                                                                                                                                                                                                                                                                                                           \n",
            "96160    I just received this hatched and absolutely love it. It came very sharp and the plastic handle/sheet is hardy and keeps the tool very secure. Further, the weight feel of this hatchet is wonderful relative to some that I have used recently (including a  rather expensive brand I will not mention here). I would recommend.                                                                                                                                                                                                                                                                                                                                                                                                                                                                                                                                                                                                                                                                                                                                                                                                                                                                                                                                                                                                                                                                                                                                                                                                                   \n",
            "62606    The Baltimore Orioles visited it several times a day when we first purchased it, butafter 2 weeks, it started to leak and continues to. We don't see the orioles as often now, not sure why.                                                                                                                                                                                                                                                                                                                                                                                                                                                                                                                                                                                                                                                                                                                                                                                                                                                                                                                                                                                                                                                                                                                                                                                                                                                                                                                                                       \n",
            "59948    My old chipper vac (Model 47261, 5HP) is better---a bit beefier for chipping, and easier to adjust for vacuuming, plus has reverse, and 5 or so forward speeds.  This model doesn't self-feed very well for the chipper.  However, the vacuum doesn't seem to clog like my old one (probably because there is no screen in this one).  The self-propelling feature is useless---only one forward speed and it's too fast.This vac is best for smallish, flat, non sloping, yards, with only moderate leaf clean up required.  Chipper good only for small limbs, no good for twiggy brush.                                                                                                                                                                                                                                                                                                                                                                                                                                                                                                                                                                                                                                                                                                                                                                                                                                                                                                                                                         \n",
            "49941    I bought this mower in fall of 2001. I have a small (about 4500 sq ft), flat lawn. The mower was recalled due to battery problems in 2003. I had to mail the mower to a faraway authorized service center. Apparently South Bend IN isn't a big enough city to merit B & D locating a nearby service center. When the mower came back from recall repair it was damaged. B & D replaced it. Now three years later, my battery won't hold a charge for more than a few minutes. The cost to replace the battery: $160 and a 60-mile drive. I now have to mow my front lawn, recharge for several hours and then do my back lawn.I was trying to be energy concious by purchasing a battery operated mower, but I can't justify spending twice what a gas mower costs up front, and then spending $160 every three years for a battery. This mower is very heavy. However the contruction of this mower is flimsy. The rubber handle cover disintegrated early. A wheel fell off last year. It was held on only by a pinch nut. When I attempted to fold down the handle for winter storage, the dead man's wire almost split. The plastic covers on the handle bolts break easily.The mower is not without positives. It starts up the first time, every time. You do not smell of oil and gas after you mow with it. The one-handle height adjustment is handy, but is easily damaged (as my first one was in shipping). Overall, this mower is too expensive and not-ready for prime time use. I'm afraid it's back to a gas-powered mower for me.\n",
            "Name: review_no_html, dtype: object\n",
            "\n",
            "\n"
          ],
          "name": "stdout"
        }
      ]
    },
    {
      "cell_type": "code",
      "metadata": {
        "id": "GFDlDYdI9UB4",
        "colab_type": "code",
        "colab": {}
      },
      "source": [
        "df.loc[:,'review_no_punc'] = [remove_punctuation(r) for r in df['review_no_html']]\n",
        "#df[:'review_no_punc']"
      ],
      "execution_count": 0,
      "outputs": []
    },
    {
      "cell_type": "code",
      "metadata": {
        "id": "It0pqslFCXYh",
        "colab_type": "code",
        "colab": {}
      },
      "source": [
        "df.shape()"
      ],
      "execution_count": 0,
      "outputs": []
    },
    {
      "cell_type": "code",
      "metadata": {
        "id": "9KZUZOtt9Yim",
        "colab_type": "code",
        "colab": {}
      },
      "source": [
        "df.loc[:,'review_no_stopwords'] = [remove_stopwords(r.lower()) for r in df['review_no_html']]"
      ],
      "execution_count": 0,
      "outputs": []
    },
    {
      "cell_type": "code",
      "metadata": {
        "id": "lDWQ0mTj9bRW",
        "colab_type": "code",
        "colab": {
          "base_uri": "https://localhost:8080/",
          "height": 275
        },
        "outputId": "5f7398d4-7fa9-43d3-f9ed-297ab216c167"
      },
      "source": [
        "print(df['reviewText'].sample(n=5, random_state = 0),'\\n')\n",
        "#print(df['review_no_punc'].sample(n=5, random_state = 0),'\\n')\n",
        "print(df['review_no_stopwords'].sample(n=5, random_state = 0),'\\n')"
      ],
      "execution_count": 10,
      "outputs": [
        {
          "output_type": "stream",
          "text": [
            "26178    These shears are ergonomic and work great.  Makes pruninga much easier task.  You won't regret the purchase.Its been one season and they seem to have kept fairly sharp.                                                                                                                                                                                                                                                                                                                                                                                                                                                                                                                                                                                                                                                                                                                                                                                                                                                                                                                                                                                                                                                                                                                                                                                                                                                                                                                                                                           \n",
            "96160    I just received this hatched and absolutely love it. It came very sharp and the plastic handle/sheet is hardy and keeps the tool very secure. Further, the weight feel of this hatchet is wonderful relative to some that I have used recently (including a  rather expensive brand I will not mention here). I would recommend.                                                                                                                                                                                                                                                                                                                                                                                                                                                                                                                                                                                                                                                                                                                                                                                                                                                                                                                                                                                                                                                                                                                                                                                                                   \n",
            "62606    The Baltimore Orioles visited it several times a day when we first purchased it, butafter 2 weeks, it started to leak and continues to. We don't see the orioles as often now, not sure why.                                                                                                                                                                                                                                                                                                                                                                                                                                                                                                                                                                                                                                                                                                                                                                                                                                                                                                                                                                                                                                                                                                                                                                                                                                                                                                                                                       \n",
            "59948    My old chipper vac (Model 47261, 5HP) is better---a bit beefier for chipping, and easier to adjust for vacuuming, plus has reverse, and 5 or so forward speeds.  This model doesn't self-feed very well for the chipper.  However, the vacuum doesn't seem to clog like my old one (probably because there is no screen in this one).  The self-propelling feature is useless---only one forward speed and it's too fast.This vac is best for smallish, flat, non sloping, yards, with only moderate leaf clean up required.  Chipper good only for small limbs, no good for twiggy brush.                                                                                                                                                                                                                                                                                                                                                                                                                                                                                                                                                                                                                                                                                                                                                                                                                                                                                                                                                         \n",
            "49941    I bought this mower in fall of 2001. I have a small (about 4500 sq ft), flat lawn. The mower was recalled due to battery problems in 2003. I had to mail the mower to a faraway authorized service center. Apparently South Bend IN isn't a big enough city to merit B & D locating a nearby service center. When the mower came back from recall repair it was damaged. B & D replaced it. Now three years later, my battery won't hold a charge for more than a few minutes. The cost to replace the battery: $160 and a 60-mile drive. I now have to mow my front lawn, recharge for several hours and then do my back lawn.I was trying to be energy concious by purchasing a battery operated mower, but I can't justify spending twice what a gas mower costs up front, and then spending $160 every three years for a battery. This mower is very heavy. However the contruction of this mower is flimsy. The rubber handle cover disintegrated early. A wheel fell off last year. It was held on only by a pinch nut. When I attempted to fold down the handle for winter storage, the dead man's wire almost split. The plastic covers on the handle bolts break easily.The mower is not without positives. It starts up the first time, every time. You do not smell of oil and gas after you mow with it. The one-handle height adjustment is handy, but is easily damaged (as my first one was in shipping). Overall, this mower is too expensive and not-ready for prime time use. I'm afraid it's back to a gas-powered mower for me.\n",
            "Name: reviewText, dtype: object \n",
            "\n",
            "26178    shears ergonomic work great. makes pruninga much easier task. regret purchase.its one season seem kept fairly sharp.                                                                                                                                                                                                                                                                                                                                                                                                                                                                                                                                                                                                                                                                                                                                                                                                                                                                                                                                                                              \n",
            "96160    received hatched absolutely love it. came sharp plastic handle/sheet hardy keeps tool secure. further, weight feel hatchet wonderful relative used recently (including rather expensive brand mention here). recommend.                                                                                                                                                                                                                                                                                                                                                                                                                                                                                                                                                                                                                                                                                                                                                                                                                                                                           \n",
            "62606    baltimore orioles visited several times day first purchased it, butafter 2 weeks, started leak continues to. see orioles often now, sure why.                                                                                                                                                                                                                                                                                                                                                                                                                                                                                                                                                                                                                                                                                                                                                                                                                                                                                                                                                     \n",
            "59948    old chipper vac (model 47261, 5hp) better---a bit beefier chipping, easier adjust vacuuming, plus reverse, 5 forward speeds. model self-feed well chipper. however, vacuum seem clog like old one (probably screen one). self-propelling feature useless---only one forward speed fast.this vac best smallish, flat, non sloping, yards, moderate leaf clean required. chipper good small limbs, good twiggy brush.                                                                                                                                                                                                                                                                                                                                                                                                                                                                                                                                                                                                                                                                               \n",
            "49941    bought mower fall 2001. small (about 4500 sq ft), flat lawn. mower recalled due battery problems 2003. mail mower faraway authorized service center. apparently south bend big enough city merit b & locating nearby service center. mower came back recall repair damaged. b & replaced it. three years later, battery hold charge minutes. cost replace battery: $160 60-mile drive. mow front lawn, recharge several hours back lawn.i trying energy concious purchasing battery operated mower, can't justify spending twice gas mower costs front, spending $160 every three years battery. mower heavy. however contruction mower flimsy. rubber handle cover disintegrated early. wheel fell last year. held pinch nut. attempted fold handle winter storage, dead man's wire almost split. plastic covers handle bolts break easily.the mower without positives. starts first time, every time. smell oil gas mow it. one-handle height adjustment handy, easily damaged (as first one shipping). overall, mower expensive not-ready prime time use. i'm afraid back gas-powered mower me.\n",
            "Name: review_no_stopwords, dtype: object \n",
            "\n"
          ],
          "name": "stdout"
        }
      ]
    },
    {
      "cell_type": "code",
      "metadata": {
        "id": "Y68j3dGQ9ejH",
        "colab_type": "code",
        "colab": {
          "base_uri": "https://localhost:8080/",
          "height": 334
        },
        "outputId": "6e27f1bf-68c3-4cdc-b351-ae4aeaec37e7"
      },
      "source": [
        "freq_words(df['review_no_stopwords'])"
      ],
      "execution_count": 11,
      "outputs": [
        {
          "output_type": "display_data",
          "data": {
            "image/png": "[encoded data removed]",
            "text/plain": [
              "<Figure size 1440x360 with 1 Axes>"
            ]
          },
          "metadata": {
            "tags": []
          }
        }
      ]
    },
    {
      "cell_type": "code",
      "metadata": {
        "id": "Hgm0dR759h4a",
        "colab_type": "code",
        "colab": {}
      },
      "source": [
        "# lemmatize, this is a relatively slow preprocessing step \n",
        "df.loc[:,'review_lemmatized'] = df['review_no_stopwords'].apply(lemmatization)"
      ],
      "execution_count": 0,
      "outputs": []
    },
    {
      "cell_type": "code",
      "metadata": {
        "id": "BWFvn4Ix9oso",
        "colab_type": "code",
        "colab": {}
      },
      "source": [
        "# run remove stop words again because the lemmatization process generates more stop words\n",
        "df.loc[:,'review_lemmatized'] = df['review_lemmatized'].apply(remove_stopwords)"
      ],
      "execution_count": 0,
      "outputs": []
    },
    {
      "cell_type": "code",
      "metadata": {
        "id": "XXzRsoBN9qz0",
        "colab_type": "code",
        "colab": {}
      },
      "source": [
        "# remove numbers\n",
        "df.loc[:, 'review_lemmatized'] = df['review_lemmatized'].apply(remove_num)"
      ],
      "execution_count": 0,
      "outputs": []
    },
    {
      "cell_type": "code",
      "metadata": {
        "id": "lKWUwbL49s7x",
        "colab_type": "code",
        "colab": {}
      },
      "source": [
        "print(df['reviewText'].sample(n=3, random_state = 0),'\\n')\n",
        "print(df['review_no_stopwords'].sample(n=3, random_state = 0),'\\n')\n",
        "print(df['review_lemmatized'].sample(n=3, random_state = 0),'\\n')"
      ],
      "execution_count": 0,
      "outputs": []
    },
    {
      "cell_type": "code",
      "metadata": {
        "id": "oc9ieNzX9wtD",
        "colab_type": "code",
        "colab": {}
      },
      "source": [
        "# PorterStemmer deals with cases like TVs, but produce incomplete workds like instal\n",
        "from nltk.stem import PorterStemmer\n",
        "porter = PorterStemmer()\n",
        "print(porter.stem('installation'))\n",
        "print(porter.stem('tvs'))"
      ],
      "execution_count": 0,
      "outputs": []
    },
    {
      "cell_type": "code",
      "metadata": {
        "id": "a7t-XNM39zrR",
        "colab_type": "code",
        "colab": {
          "base_uri": "https://localhost:8080/",
          "height": 334
        },
        "outputId": "7a057004-ec93-4bf2-b1cb-5e2d0fc98c61"
      },
      "source": [
        "freq_words(df['review_lemmatized'])"
      ],
      "execution_count": 15,
      "outputs": [
        {
          "output_type": "display_data",
          "data": {
            "image/png": "[encoded data removed]",
            "text/plain": [
              "<Figure size 1440x360 with 1 Axes>"
            ]
          },
          "metadata": {
            "tags": []
          }
        }
      ]
    },
    {
      "cell_type": "code",
      "metadata": {
        "id": "8jNHV0w392T4",
        "colab_type": "code",
        "colab": {
          "base_uri": "https://localhost:8080/",
          "height": 68
        },
        "outputId": "a564bf8a-c5b0-4490-daed-4b6e69a114e1"
      },
      "source": [
        "df.columns"
      ],
      "execution_count": 14,
      "outputs": [
        {
          "output_type": "execute_result",
          "data": {
            "text/plain": [
              "Index(['asin', 'reviewText', 'overall', 'summary', 'review_no_html',\n",
              "       'review_no_stopwords', 'review_lemmatized'],\n",
              "      dtype='object')"
            ]
          },
          "metadata": {
            "tags": []
          },
          "execution_count": 14
        }
      ]
    },
    {
      "cell_type": "code",
      "metadata": {
        "id": "9QXmvd8t950Y",
        "colab_type": "code",
        "colab": {}
      },
      "source": [
        "# save processed review df for LDA modeling\n",
        "# remove html in 'title'\n",
        "\n",
        "df[['asin', 'overall', 'reviewText', 'review_no_html', 'review_lemmatized']].to_csv('lawn_processed.csv')"
      ],
      "execution_count": 0,
      "outputs": []
    },
    {
      "cell_type": "code",
      "metadata": {
        "id": "8fB1OXpK-JSs",
        "colab_type": "code",
        "colab": {
          "base_uri": "https://localhost:8080/",
          "height": 221
        },
        "outputId": "4a859b52-5968-44ae-ffb2-8a38e77742f2"
      },
      "source": [
        "# useful attributes & methods: dictionary.token2id to get mapping, dictionary.num_docs \n",
        "df = pd.read_csv(\"/content/drive/My Drive/Amazon_data/processed.csv\", index_col= 0)\n",
        "reviews = df['review_lemmatized'].copy()\n",
        "reviews = reviews.apply(lambda x: x.split())\n",
        "\n",
        "# Dictionary expects a list of list (of tokens)\n",
        "dictionary = corpora.Dictionary(reviews)\n",
        "dictionary.filter_extremes(no_below=3)  # remove terms that appear in < 3 documents, memory use estimate: 8 bytes * num_terms * num_topics * 3\n",
        "\n",
        "# number of terms\n",
        "nd = dictionary.num_docs\n",
        "nt = len(dictionary.keys())\n",
        "print(\"number of documents\", nd)\n",
        "print(\"number of terms\", nt)\n",
        "\n",
        "# check some ids and tokens in the dictionary\n",
        "for i in random.sample(range(nt),10):\n",
        "    print(i, dictionary[i])"
      ],
      "execution_count": 17,
      "outputs": [
        {
          "output_type": "stream",
          "text": [
            "number of documents 99941\n",
            "number of terms 21218\n",
            "9988 black&decker\n",
            "17776 manufaturer\n",
            "18305 months.this\n",
            "18833 caused\n",
            "1218 1940\n",
            "14095 outgrow\n",
            "2439 crap\n",
            "9368 resharpen\n",
            "9688 spooled\n",
            "11896 terrorizing\n"
          ],
          "name": "stdout"
        }
      ]
    },
    {
      "cell_type": "code",
      "metadata": {
        "id": "ecaKoEfK-oit",
        "colab_type": "code",
        "colab": {}
      },
      "source": [
        ""
      ],
      "execution_count": 0,
      "outputs": []
    }
  ]
}