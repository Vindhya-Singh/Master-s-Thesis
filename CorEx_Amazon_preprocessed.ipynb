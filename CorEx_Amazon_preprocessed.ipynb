{
  "nbformat": 4,
  "nbformat_minor": 0,
  "metadata": {
    "colab": {
      "name": "CorEx_Amazon.ipynb",
      "provenance": [],
      "collapsed_sections": [],
      "toc_visible": true,
      "include_colab_link": true
    },
    "kernelspec": {
      "name": "python3",
      "display_name": "Python 3"
    }
  },
  "cells": [
    {
      "cell_type": "markdown",
      "metadata": {
        "id": "view-in-github",
        "colab_type": "text"
      },
      "source": [
        "<a href=\"https://colab.research.google.com/github/VindhyaSRajan/Master-s-Thesis/blob/master/CorEx_Amazon_preprocessed.ipynb\" target=\"_parent\"><img src=\"https://colab.research.google.com/assets/colab-badge.svg\" alt=\"Open In Colab\"/></a>"
      ]
    },
    {
      "cell_type": "markdown",
      "metadata": {
        "id": "kvBOJjCDKtpY",
        "colab_type": "text"
      },
      "source": [
        "##Mounting the drive"
      ]
    },
    {
      "cell_type": "code",
      "metadata": {
        "id": "AFEKAncOKmvx",
        "colab_type": "code",
        "colab": {
          "base_uri": "https://localhost:8080/",
          "height": 51
        },
        "outputId": "c2b9d60d-ccaf-48ac-ae29-3d04e3853a0a"
      },
      "source": [
        "from google.colab import drive\n",
        "drive.mount('/gdrive')\n",
        "%cd /gdrive"
      ],
      "execution_count": 1,
      "outputs": [
        {
          "output_type": "stream",
          "text": [
            "Drive already mounted at /gdrive; to attempt to forcibly remount, call drive.mount(\"/gdrive\", force_remount=True).\n",
            "/gdrive\n"
          ],
          "name": "stdout"
        }
      ]
    },
    {
      "cell_type": "markdown",
      "metadata": {
        "id": "ml8fcYBwKoJz",
        "colab_type": "text"
      },
      "source": [
        "##All Imports go here but first, installations"
      ]
    },
    {
      "cell_type": "code",
      "metadata": {
        "id": "BC-fLq19LQ3-",
        "colab_type": "code",
        "colab": {
          "base_uri": "https://localhost:8080/",
          "height": 408
        },
        "outputId": "35c2b4ff-8bbd-4686-b61d-0d66badfaae8"
      },
      "source": [
        "!pip install corextopic\n",
        "!pip install joblib\n",
        "!pip install pyLDAvis"
      ],
      "execution_count": 1,
      "outputs": [
        {
          "output_type": "stream",
          "text": [
            "Requirement already satisfied: corextopic in /usr/local/lib/python3.6/dist-packages (1.0.5)\n",
            "Requirement already satisfied: joblib in /usr/local/lib/python3.6/dist-packages (0.14.0)\n",
            "Requirement already satisfied: pyLDAvis in /usr/local/lib/python3.6/dist-packages (2.1.2)\n",
            "Requirement already satisfied: pandas>=0.17.0 in /usr/local/lib/python3.6/dist-packages (from pyLDAvis) (0.25.3)\n",
            "Requirement already satisfied: joblib>=0.8.4 in /usr/local/lib/python3.6/dist-packages (from pyLDAvis) (0.14.0)\n",
            "Requirement already satisfied: numpy>=1.9.2 in /usr/local/lib/python3.6/dist-packages (from pyLDAvis) (1.17.3)\n",
            "Requirement already satisfied: numexpr in /usr/local/lib/python3.6/dist-packages (from pyLDAvis) (2.7.0)\n",
            "Requirement already satisfied: pytest in /usr/local/lib/python3.6/dist-packages (from pyLDAvis) (3.6.4)\n",
            "Requirement already satisfied: funcy in /usr/local/lib/python3.6/dist-packages (from pyLDAvis) (1.13)\n",
            "Requirement already satisfied: wheel>=0.23.0 in /usr/local/lib/python3.6/dist-packages (from pyLDAvis) (0.33.6)\n",
            "Requirement already satisfied: future in /usr/local/lib/python3.6/dist-packages (from pyLDAvis) (0.16.0)\n",
            "Requirement already satisfied: jinja2>=2.7.2 in /usr/local/lib/python3.6/dist-packages (from pyLDAvis) (2.10.3)\n",
            "Requirement already satisfied: scipy>=0.18.0 in /usr/local/lib/python3.6/dist-packages (from pyLDAvis) (1.3.1)\n",
            "Requirement already satisfied: python-dateutil>=2.6.1 in /usr/local/lib/python3.6/dist-packages (from pandas>=0.17.0->pyLDAvis) (2.6.1)\n",
            "Requirement already satisfied: pytz>=2017.2 in /usr/local/lib/python3.6/dist-packages (from pandas>=0.17.0->pyLDAvis) (2018.9)\n",
            "Requirement already satisfied: more-itertools>=4.0.0 in /usr/local/lib/python3.6/dist-packages (from pytest->pyLDAvis) (7.2.0)\n",
            "Requirement already satisfied: six>=1.10.0 in /usr/local/lib/python3.6/dist-packages (from pytest->pyLDAvis) (1.12.0)\n",
            "Requirement already satisfied: setuptools in /usr/local/lib/python3.6/dist-packages (from pytest->pyLDAvis) (41.4.0)\n",
            "Requirement already satisfied: py>=1.5.0 in /usr/local/lib/python3.6/dist-packages (from pytest->pyLDAvis) (1.8.0)\n",
            "Requirement already satisfied: pluggy<0.8,>=0.5 in /usr/local/lib/python3.6/dist-packages (from pytest->pyLDAvis) (0.7.1)\n",
            "Requirement already satisfied: attrs>=17.4.0 in /usr/local/lib/python3.6/dist-packages (from pytest->pyLDAvis) (19.3.0)\n",
            "Requirement already satisfied: atomicwrites>=1.0 in /usr/local/lib/python3.6/dist-packages (from pytest->pyLDAvis) (1.3.0)\n",
            "Requirement already satisfied: MarkupSafe>=0.23 in /usr/local/lib/python3.6/dist-packages (from jinja2>=2.7.2->pyLDAvis) (1.1.1)\n"
          ],
          "name": "stdout"
        }
      ]
    },
    {
      "cell_type": "code",
      "metadata": {
        "id": "WstfHqthKFZM",
        "colab_type": "code",
        "colab": {
          "base_uri": "https://localhost:8080/",
          "height": 105
        },
        "outputId": "89eb56b5-b9bf-4702-fbdf-28e1fba075e0"
      },
      "source": [
        "import numpy as np\n",
        "import scipy.sparse as ss\n",
        "import matplotlib.pyplot as plt\n",
        "import pandas as pd\n",
        "\n",
        "import string\n",
        "\n",
        "from corextopic import corextopic as ct\n",
        "from corextopic import vis_topic as vt \n",
        "from sklearn.feature_extraction.text import CountVectorizer\n",
        "\n",
        "\n",
        "\n",
        "pd.set_option('display.max_colwidth', -1)  # to view entire text in any column\n",
        "import random\n",
        "import matplotlib.pyplot as plt\n",
        "%matplotlib inline\n",
        "import seaborn as sns\n",
        "import re\n",
        "import string\n",
        "import gzip\n",
        "from pprint import pprint\n",
        "\n",
        "from bs4 import BeautifulSoup\n",
        "import nltk\n",
        "from nltk import FreqDist\n",
        "nltk.download('stopwords') \n",
        "from nltk.corpus import stopwords\n",
        "# from nltk.stem.wordnet import WordNetLemmatizer  # alternative lemmatizer\n",
        "# lemma = WordNetLemmatizer()\n",
        "\n",
        "import spacy\n",
        "import gensim\n",
        "from gensim import corpora\n",
        "from gensim.models import CoherenceModel\n",
        "\n",
        "import pyLDAvis\n",
        "import pyLDAvis.gensim   # for visualizing found topics\n",
        "\n",
        "import os\n",
        "\n",
        "\n",
        "import warnings\n",
        "warnings.filterwarnings(\"ignore\",category=DeprecationWarning) \n",
        "%matplotlib inline"
      ],
      "execution_count": 2,
      "outputs": [
        {
          "output_type": "stream",
          "text": [
            "/usr/local/lib/python3.6/dist-packages/sklearn/externals/joblib/__init__.py:15: DeprecationWarning: sklearn.externals.joblib is deprecated in 0.21 and will be removed in 0.23. Please import this functionality directly from joblib, which can be installed with: pip install joblib. If this warning is raised when loading pickled models, you may need to re-serialize those models with scikit-learn 0.21+.\n",
            "  warnings.warn(msg, category=DeprecationWarning)\n"
          ],
          "name": "stderr"
        },
        {
          "output_type": "stream",
          "text": [
            "[nltk_data] Downloading package stopwords to /root/nltk_data...\n",
            "[nltk_data]   Package stopwords is already up-to-date!\n"
          ],
          "name": "stdout"
        }
      ]
    },
    {
      "cell_type": "markdown",
      "metadata": {
        "id": "GFJdHcwpK_nG",
        "colab_type": "text"
      },
      "source": [
        "##Reading the data"
      ]
    },
    {
      "cell_type": "code",
      "metadata": {
        "id": "FL1x4w02Lv2L",
        "colab_type": "code",
        "outputId": "cf797960-7829-4275-d225-861754c6bbe7",
        "colab": {
          "base_uri": "https://localhost:8080/",
          "height": 34
        }
      },
      "source": [
        "df = pd.read_csv('/gdrive/My Drive/Amazon_data/lawn_processed.csv')\n",
        "df.head()\n",
        "df.shape"
      ],
      "execution_count": 3,
      "outputs": [
        {
          "output_type": "execute_result",
          "data": {
            "text/plain": [
              "(99941, 6)"
            ]
          },
          "metadata": {
            "tags": []
          },
          "execution_count": 3
        }
      ]
    },
    {
      "cell_type": "code",
      "metadata": {
        "id": "qMIFGXK8LELH",
        "colab_type": "code",
        "colab": {}
      },
      "source": [
        "df['review_lemmatized'] = df['review_lemmatized'].astype(str)"
      ],
      "execution_count": 0,
      "outputs": []
    },
    {
      "cell_type": "markdown",
      "metadata": {
        "id": "vo9okNWqtjDv",
        "colab_type": "text"
      },
      "source": [
        "##Building Dictionary,Term-Doc Matrix"
      ]
    },
    {
      "cell_type": "code",
      "metadata": {
        "id": "WkKHwCcaHvDe",
        "colab_type": "code",
        "colab": {
          "base_uri": "https://localhost:8080/",
          "height": 340
        },
        "outputId": "eb7195a1-0a82-4639-f7f2-ed7c1002017f"
      },
      "source": [
        "#Amazon Review Data\n",
        "# number of asins, number of associated reviews for each rating\n",
        "review_cnts = df.groupby('overall').agg({'review_lemmatized':'count'}).sort_values(by = 'review_lemmatized', ascending = False)\n",
        "review_cnts = review_cnts.reset_index()\n",
        "review_cnts = review_cnts.rename({'review_lemmatized':'reviewCnt'}, axis = 'columns')\n",
        "print('Top 10 most reviewed:\\n', review_cnts.head(10),'\\n')\n",
        "print(review_cnts.reviewCnt.describe())\n",
        "plt.figure(figsize=(8,10))\n"
      ],
      "execution_count": 4,
      "outputs": [
        {
          "output_type": "stream",
          "text": [
            "Top 10 most reviewed:\n",
            "    overall  reviewCnt\n",
            "0  5.0      57019    \n",
            "1  4.0      18352    \n",
            "2  1.0      11305    \n",
            "3  3.0      7741     \n",
            "4  2.0      5524      \n",
            "\n",
            "count    5.000000    \n",
            "mean     19988.200000\n",
            "std      21263.597125\n",
            "min      5524.000000 \n",
            "25%      7741.000000 \n",
            "50%      11305.000000\n",
            "75%      18352.000000\n",
            "max      57019.000000\n",
            "Name: reviewCnt, dtype: float64\n"
          ],
          "name": "stdout"
        },
        {
          "output_type": "execute_result",
          "data": {
            "text/plain": [
              "<Figure size 576x720 with 0 Axes>"
            ]
          },
          "metadata": {
            "tags": []
          },
          "execution_count": 4
        },
        {
          "output_type": "display_data",
          "data": {
            "text/plain": [
              "<Figure size 576x720 with 0 Axes>"
            ]
          },
          "metadata": {
            "tags": []
          }
        }
      ]
    },
    {
      "cell_type": "code",
      "metadata": {
        "id": "ofx5dWhLTZgy",
        "colab_type": "code",
        "outputId": "7df69892-0bb0-4184-c250-9b27c4880126",
        "colab": {
          "base_uri": "https://localhost:8080/",
          "height": 156
        }
      },
      "source": [
        "#Converting the DF to list to feed to the CorEx Model\n",
        "dfToList = df['review_lemmatized'].tolist()\n",
        "\n",
        "dfList = list(df['review_lemmatized'])\n",
        "\n",
        "dfValues = df['review_lemmatized'].values\n",
        "#print(dfList)\n",
        "print(dfValues)"
      ],
      "execution_count": 5,
      "outputs": [
        {
          "output_type": "stream",
          "text": [
            "['gift husband . -PRON- be make -PRON- thing time love food . direction simple , easy read interpret , fun make . love different kind cuisine raichlen provide recipe everywhere along barbecue trail call -PRON- . get open page . -PRON- . love food provide -PRON- insight culture produce -PRON- . broaden horizon . yum ! !'\n",
            " 'husband rarely ask anything specific , really like show . glad could find -PRON- . happy find -PRON- .'\n",
            " 'guy know stuff . love seriously step step approach real food cook right . good buy second one well .'\n",
            " ...\n",
            " 'recommend heater anyone . replace every year three year row . unfortunately receipt cover warranty first unit . save receipt second one 3rd one free since break within one year warranty . bad figure get use 5 month outta year ! ! also misfortune pond heater local nursery carry . -PRON- will sure home work summer get well replacement heater time one break next year put in .'\n",
            " 'keep hole open ice . heavy snow clean ice up . first one 5 year replace -PRON- .'\n",
            " 'decide pond heater - -PRON- be think since go thru 4 farm innovator pond heater 1250 watt last long ( the last one work couple week ) may well one operate 100 watt work . however , quite impressed heater , especially design . know long last ( -PRON- one year guarantee oppose three year other ) , work well easy clean ( just wipe ) collect clump lime farm innovator ( this one plastic ; metal bottom ) . cord placement ( at top ) cord length well think out . overall appear excellent product .']\n"
          ],
          "name": "stdout"
        }
      ]
    },
    {
      "cell_type": "code",
      "metadata": {
        "id": "xPhW34DxMMM9",
        "colab_type": "code",
        "outputId": "0e454043-101d-4eca-fbfd-c27b182e042b",
        "colab": {
          "base_uri": "https://localhost:8080/",
          "height": 34
        }
      },
      "source": [
        "# Transform Amazon Reviews data into a sparse matrix\n",
        "vectorizer = CountVectorizer(stop_words='english', max_features=20000,binary = True)\n",
        "doc_word = vectorizer.fit_transform(df['review_lemmatized'].values.astype('U')) #Learn the vocabulary dictionary and return term-document matrix.\n",
        "doc_word = ss.csr_matrix(doc_word)\n",
        "\n",
        "doc_word.shape # n_docs x m_words"
      ],
      "execution_count": 6,
      "outputs": [
        {
          "output_type": "execute_result",
          "data": {
            "text/plain": [
              "(99941, 20000)"
            ]
          },
          "metadata": {
            "tags": []
          },
          "execution_count": 6
        }
      ]
    },
    {
      "cell_type": "code",
      "metadata": {
        "id": "f_bUXNp5NFG8",
        "colab_type": "code",
        "colab": {}
      },
      "source": [
        "# Get words that label the columns (needed to extract readable topics and make anchoring easier)\n",
        "words = list(np.asarray(vectorizer.get_feature_names()))"
      ],
      "execution_count": 0,
      "outputs": []
    },
    {
      "cell_type": "code",
      "metadata": {
        "id": "yHsn6cG2NuH0",
        "colab_type": "code",
        "outputId": "7f034276-e044-4828-89c1-68617c5968b6",
        "colab": {
          "base_uri": "https://localhost:8080/",
          "height": 34
        }
      },
      "source": [
        "not_digit_inds = [ind for ind,word in enumerate(words) if not word.isdigit()]\n",
        "doc_word = doc_word[:,not_digit_inds]\n",
        "words    = [word for ind,word in enumerate(words) if not word.isdigit()]\n",
        "\n",
        "doc_word.shape # n_docs x m_words"
      ],
      "execution_count": 8,
      "outputs": [
        {
          "output_type": "execute_result",
          "data": {
            "text/plain": [
              "(99941, 19437)"
            ]
          },
          "metadata": {
            "tags": []
          },
          "execution_count": 8
        }
      ]
    },
    {
      "cell_type": "markdown",
      "metadata": {
        "id": "SWPi_MkNtbsc",
        "colab_type": "text"
      },
      "source": [
        "##Training the CorEx Topic Model"
      ]
    },
    {
      "cell_type": "code",
      "metadata": {
        "id": "Z-FDTwAYNxid",
        "colab_type": "code",
        "colab": {}
      },
      "source": [
        "# Train the CorEx topic model with 10 topics\n",
        "topic_model = ct.Corex(n_hidden=10, words=words, max_iter=200, verbose=False, seed=1)\n",
        "topic_model.fit(doc_word, words=words);"
      ],
      "execution_count": 0,
      "outputs": []
    },
    {
      "cell_type": "code",
      "metadata": {
        "id": "7OKbfhueN1sE",
        "colab_type": "code",
        "outputId": "f4f5440d-2478-46d6-e20b-d76f5e566a43",
        "colab": {
          "base_uri": "https://localhost:8080/",
          "height": 187
        }
      },
      "source": [
        "# Print a single topic from CorEx topic model. This model is trained on the Amazon Garden and Lawn Products\n",
        "topic_model.get_topics(topic=7, n_words=10)"
      ],
      "execution_count": 10,
      "outputs": [
        {
          "output_type": "execute_result",
          "data": {
            "text/plain": [
              "[('cut', 0.08681133901812729),\n",
              " ('blade', 0.05943530996835716),\n",
              " ('sharp', 0.04606920651805803),\n",
              " ('handle', 0.04452866637094754),\n",
              " ('axe', 0.038133798028409854),\n",
              " ('fiskar', 0.03662265178878793),\n",
              " ('branch', 0.03491889673276145),\n",
              " ('split', 0.031131921710946593),\n",
              " ('tool', 0.030751476273563057),\n",
              " ('wood', 0.02777463463125172)]"
            ]
          },
          "metadata": {
            "tags": []
          },
          "execution_count": 10
        }
      ]
    },
    {
      "cell_type": "code",
      "metadata": {
        "id": "PXEY_OBON4mi",
        "colab_type": "code",
        "outputId": "f796e878-583a-4bb6-aa5d-5ecd94119a05",
        "colab": {
          "base_uri": "https://localhost:8080/",
          "height": 187
        }
      },
      "source": [
        "# Print all topics from the CorEx topic model\n",
        "topics = topic_model.get_topics()\n",
        "for n,topic in enumerate(topics):\n",
        "    topic_words,_ = zip(*topic)\n",
        "    print('{}: '.format(n) + ','.join(topic_words))"
      ],
      "execution_count": 11,
      "outputs": [
        {
          "output_type": "stream",
          "text": [
            "0: make,use,like,small,need,way,little,bit,want,long\n",
            "1: grill,cook,weber,charcoal,cooking,heat,chicken,meat,smoker,steak\n",
            "2: trap,catch,mouse,kill,mosquito,bug,fly,bait,cat,night\n",
            "3: mower,grass,mow,lawn,power,gas,cord,electric,trim,blower\n",
            "4: pron,thing,try,day,think,say,know,really,let,lot\n",
            "5: time,problem,start,run,review,unit,hour,turn,leave,minute\n",
            "6: come,water,feeder,customer,plastic,send,instruction,read,box,return\n",
            "7: cut,blade,sharp,handle,axe,fiskar,branch,split,tool,wood\n",
            "8: amazon,year,buy,new,store,purchase,local,cost,home,replace\n",
            "9: cover,place,hold,hose,fit,hole,inside,attach,sit,outside\n"
          ],
          "name": "stdout"
        }
      ]
    },
    {
      "cell_type": "code",
      "metadata": {
        "id": "qJPbeUImN8UC",
        "colab_type": "code",
        "outputId": "fb3e6844-112a-4769-aca3-15fd8a06fde6",
        "colab": {
          "base_uri": "https://localhost:8080/",
          "height": 187
        }
      },
      "source": [
        "topic_model.get_topics(topic=5, n_words=10, print_words=False)"
      ],
      "execution_count": 12,
      "outputs": [
        {
          "output_type": "execute_result",
          "data": {
            "text/plain": [
              "[(17307, 0.05617776013102268),\n",
              " (13011, 0.03852661525392694),\n",
              " (16127, 0.037825596903446994),\n",
              " (14483, 0.03693886483857519),\n",
              " (14193, 0.035386546632041764),\n",
              " (18080, 0.03368303067259606),\n",
              " (8258, 0.029472072479397395),\n",
              " (17818, 0.02792415449430446),\n",
              " (9638, 0.02778208988836475),\n",
              " (10642, 0.026591310982534973)]"
            ]
          },
          "metadata": {
            "tags": []
          },
          "execution_count": 12
        }
      ]
    },
    {
      "cell_type": "code",
      "metadata": {
        "id": "v-CIEn-vOA0O",
        "colab_type": "code",
        "outputId": "54ac7261-942d-4bcd-8b4a-31fcd9f71592",
        "colab": {
          "base_uri": "https://localhost:8080/",
          "height": 51
        }
      },
      "source": [
        "print(topic_model.clusters)\n",
        "print(topic_model.clusters.shape) # m_words"
      ],
      "execution_count": 13,
      "outputs": [
        {
          "output_type": "stream",
          "text": [
            "[8 5 3 ... 4 3 6]\n",
            "(19437,)\n"
          ],
          "name": "stdout"
        }
      ]
    },
    {
      "cell_type": "code",
      "metadata": {
        "id": "dTw-6XgaOD4l",
        "colab_type": "code",
        "outputId": "f4946d11-61e6-4a8f-d587-6df2b4357dc8",
        "colab": {
          "base_uri": "https://localhost:8080/",
          "height": 204
        }
      },
      "source": [
        "# Print a single topic from CorEx topic model\n",
        "topic_model.get_top_docs(topic=7, n_docs=10, sort_by='log_prob')"
      ],
      "execution_count": 14,
      "outputs": [
        {
          "output_type": "stream",
          "text": [
            "NOTE: 'docs' not provided to CorEx. Returning top docs as lists of row indices\n"
          ],
          "name": "stdout"
        },
        {
          "output_type": "execute_result",
          "data": {
            "text/plain": [
              "[(17675, 0.0),\n",
              " (27880, 0.0),\n",
              " (72135, 0.0),\n",
              " (27876, 0.0),\n",
              " (25664, 0.0),\n",
              " (28510, 0.0),\n",
              " (1140, 0.0),\n",
              " (27875, 0.0),\n",
              " (27872, 0.0),\n",
              " (9016, 0.0)]"
            ]
          },
          "metadata": {
            "tags": []
          },
          "execution_count": 14
        }
      ]
    },
    {
      "cell_type": "code",
      "metadata": {
        "id": "z0tW_lfZOG0b",
        "colab_type": "code",
        "outputId": "3131b262-39f3-46e0-d413-0b372d015093",
        "colab": {
          "base_uri": "https://localhost:8080/",
          "height": 34
        }
      },
      "source": [
        "print(topic_model.p_y_given_x.shape) # n_docs x k_topics"
      ],
      "execution_count": 15,
      "outputs": [
        {
          "output_type": "stream",
          "text": [
            "(99941, 10)\n"
          ],
          "name": "stdout"
        }
      ]
    },
    {
      "cell_type": "code",
      "metadata": {
        "id": "jiDsOSZ-OJj5",
        "colab_type": "code",
        "outputId": "f23b0983-7218-462c-deb8-3c7763f14fae",
        "colab": {
          "base_uri": "https://localhost:8080/",
          "height": 34
        }
      },
      "source": [
        "print(topic_model.labels.shape) # n_docs x k_topics"
      ],
      "execution_count": 16,
      "outputs": [
        {
          "output_type": "stream",
          "text": [
            "(99941, 10)\n"
          ],
          "name": "stdout"
        }
      ]
    },
    {
      "cell_type": "markdown",
      "metadata": {
        "id": "5iMH505FvuIj",
        "colab_type": "text"
      },
      "source": [
        "##Total Corelation and Model Selection"
      ]
    },
    {
      "cell_type": "code",
      "metadata": {
        "id": "dYUzAssfOMhv",
        "colab_type": "code",
        "outputId": "0709a03c-67ab-4f5c-d9fa-e59c9e89b723",
        "colab": {
          "base_uri": "https://localhost:8080/",
          "height": 34
        }
      },
      "source": [
        "#Here trying to implement what the paper proposes. Total correlation is the measure which CorEx maximize when constructing the topic model. It can be accessed through tc and is reported in nats.\n",
        "topic_model.tc "
      ],
      "execution_count": 17,
      "outputs": [
        {
          "output_type": "execute_result",
          "data": {
            "text/plain": [
              "8.888952179668108"
            ]
          },
          "metadata": {
            "tags": []
          },
          "execution_count": 17
        }
      ]
    },
    {
      "cell_type": "code",
      "metadata": {
        "id": "L2FcresfOPCv",
        "colab_type": "code",
        "outputId": "6edc14b5-761c-49f1-e1de-591674a5b0e2",
        "colab": {
          "base_uri": "https://localhost:8080/",
          "height": 34
        }
      },
      "source": [
        "topic_model.tcs.shape # k_topics"
      ],
      "execution_count": 18,
      "outputs": [
        {
          "output_type": "execute_result",
          "data": {
            "text/plain": [
              "(10,)"
            ]
          },
          "metadata": {
            "tags": []
          },
          "execution_count": 18
        }
      ]
    },
    {
      "cell_type": "code",
      "metadata": {
        "id": "HFc3wdEvOTTo",
        "colab_type": "code",
        "outputId": "0b5e5ded-57d3-4dfe-84c1-66bea91c96ea",
        "colab": {
          "base_uri": "https://localhost:8080/",
          "height": 51
        }
      },
      "source": [
        "print(np.sum(topic_model.tcs))\n",
        "print(topic_model.tc)"
      ],
      "execution_count": 19,
      "outputs": [
        {
          "output_type": "stream",
          "text": [
            "8.888952179668108\n",
            "8.888952179668108\n"
          ],
          "name": "stdout"
        }
      ]
    },
    {
      "cell_type": "code",
      "metadata": {
        "id": "foK49skqOXP8",
        "colab_type": "code",
        "outputId": "e2858978-c634-446d-ddbb-d84a2de98ffe",
        "colab": {
          "base_uri": "https://localhost:8080/",
          "height": 339
        }
      },
      "source": [
        "#Selecting number of topics:Choosing from the data visualised\n",
        "plt.figure(figsize=(10,5))\n",
        "plt.bar(range(topic_model.tcs.shape[0]), topic_model.tcs, color='#4e79a7', width=0.5)\n",
        "plt.xlabel('Topic', fontsize=16)\n",
        "plt.ylabel('Total Correlation (nats)', fontsize=16);\n",
        "plt.savefig('Distribution of TCs for each topic', dpi=600)"
      ],
      "execution_count": 20,
      "outputs": [
        {
          "output_type": "display_data",
          "data": {
            "image/png": "[encoded data removed]",
            "text/plain": [
              "<Figure size 720x360 with 1 Axes>"
            ]
          },
          "metadata": {
            "tags": []
          }
        }
      ]
    },
    {
      "cell_type": "markdown",
      "metadata": {
        "id": "XcR06sfEwsHe",
        "colab_type": "text"
      },
      "source": [
        "##Pointwise Document TC"
      ]
    },
    {
      "cell_type": "code",
      "metadata": {
        "id": "1Nc2jSGSOaaO",
        "colab_type": "code",
        "outputId": "4d5980d9-5ea3-4c3b-84ea-7955eb2700ef",
        "colab": {
          "base_uri": "https://localhost:8080/",
          "height": 34
        }
      },
      "source": [
        "topic_model.log_z.shape # n_docs x k_topics"
      ],
      "execution_count": 21,
      "outputs": [
        {
          "output_type": "execute_result",
          "data": {
            "text/plain": [
              "(99941, 10)"
            ]
          },
          "metadata": {
            "tags": []
          },
          "execution_count": 21
        }
      ]
    },
    {
      "cell_type": "code",
      "metadata": {
        "id": "NoKQM_roOdWs",
        "colab_type": "code",
        "outputId": "6fe15413-1faf-453d-ed8d-42a0d90b3708",
        "colab": {
          "base_uri": "https://localhost:8080/",
          "height": 85
        }
      },
      "source": [
        "print(np.mean(topic_model.log_z, axis=0)) #The pointwise total correlations in log_z represent the correlations within an individual document explained by a particular topic. These correlations have been used to measure how \"surprising\" documents are with respect to given topics\n",
        "print(topic_model.tcs)"
      ],
      "execution_count": 22,
      "outputs": [
        {
          "output_type": "stream",
          "text": [
            "[1.38017317 1.02648705 1.02618352 1.01171852 0.9342494  0.88593937\n",
            " 0.7935054  0.66537163 0.60955051 0.55577361]\n",
            "[1.38017317 1.02648705 1.02618352 1.01171852 0.9342494  0.88593937\n",
            " 0.7935054  0.66537163 0.60955051 0.55577361]\n"
          ],
          "name": "stdout"
        }
      ]
    },
    {
      "cell_type": "markdown",
      "metadata": {
        "id": "siSYaPTdw_dP",
        "colab_type": "text"
      },
      "source": [
        "##Now adding some hierarchy to the Topic Model"
      ]
    },
    {
      "cell_type": "code",
      "metadata": {
        "id": "Sbj0ToiWOgSr",
        "colab_type": "code",
        "colab": {
          "base_uri": "https://localhost:8080/",
          "height": 34
        },
        "outputId": "f3a10a0a-a60e-4800-8879-e3ecd251f821"
      },
      "source": [
        "# Train a second layer to the topic model\n",
        "tm_layer2 = ct.Corex(n_hidden=10)\n",
        "tm_layer2.fit(topic_model.labels);\n",
        "\n",
        "# Train a third layer to the topic model\n",
        "tm_layer3 = ct.Corex(n_hidden=1)\n",
        "tm_layer3.fit(tm_layer2.labels);"
      ],
      "execution_count": 23,
      "outputs": [
        {
          "output_type": "stream",
          "text": [
            "WARNING: Some words never appear (or always appear)\n"
          ],
          "name": "stdout"
        }
      ]
    },
    {
      "cell_type": "code",
      "metadata": {
        "id": "KaaeJOWBOj8W",
        "colab_type": "code",
        "colab": {}
      },
      "source": [
        "vt.vis_hierarchy([topic_model, tm_layer2, tm_layer3], column_label=words, max_edges=200, prefix='topic-model-example')\n"
      ],
      "execution_count": 0,
      "outputs": []
    },
    {
      "cell_type": "markdown",
      "metadata": {
        "id": "zeVZe0KLxoRx",
        "colab_type": "text"
      },
      "source": [
        "##Introducing Anchoring in the semi-supervised topic model"
      ]
    },
    {
      "cell_type": "code",
      "metadata": {
        "id": "QEOuGm-bOmgc",
        "colab_type": "code",
        "colab": {}
      },
      "source": [
        "# Anchor one word to the eighth topic\n",
        "anchor_words = ['purchase']"
      ],
      "execution_count": 0,
      "outputs": []
    },
    {
      "cell_type": "code",
      "metadata": {
        "id": "tyhJ29RjOoxo",
        "colab_type": "code",
        "colab": {}
      },
      "source": [
        "# Anchor the word 'shipping' to the seventh topic\n",
        "anchored_topic_model = ct.Corex(n_hidden=50, seed=2)\n",
        "anchored_topic_model.fit(doc_word, words=words, anchors=anchor_words, anchor_strength=6);"
      ],
      "execution_count": 0,
      "outputs": []
    },
    {
      "cell_type": "code",
      "metadata": {
        "id": "bwEZKJ7EOsUe",
        "colab_type": "code",
        "outputId": "afff7b7d-9b17-4383-fe3b-941ba5244997",
        "colab": {
          "base_uri": "https://localhost:8080/",
          "height": 34
        }
      },
      "source": [
        "topic_words,_ = zip(*anchored_topic_model.get_topics(topic=9))\n",
        "print('8: ' + ','.join(topic_words))"
      ],
      "execution_count": 30,
      "outputs": [
        {
          "output_type": "stream",
          "text": [
            "8: sound,hear,true,buck,extra,complain,folk,person,temper,speak\n"
          ],
          "name": "stdout"
        }
      ]
    },
    {
      "cell_type": "code",
      "metadata": {
        "id": "30rha9MkOwCS",
        "colab_type": "code",
        "colab": {}
      },
      "source": [
        "# Anchor 'electric' and 'electronic' to first topic, 'birds' and 'garden' to second topic, so on...\n",
        "anchor_words = [['use', 'efficient'], ['shipping', 'delivery'], ['money', 'worth'], ['price', 'quality']]\n",
        "\n",
        "anchored_topic_model = ct.Corex(n_hidden=50, seed=2)\n",
        "anchored_topic_model.fit(doc_word, words=words, anchors=anchor_words, anchor_strength=6);"
      ],
      "execution_count": 0,
      "outputs": []
    },
    {
      "cell_type": "code",
      "metadata": {
        "id": "cYbA1tRqOzU7",
        "colab_type": "code",
        "outputId": "7f75e59c-3266-46b4-d41a-d406039350c9",
        "colab": {
          "base_uri": "https://localhost:8080/",
          "height": 85
        }
      },
      "source": [
        "for n in range(len(anchor_words)):\n",
        "    topic_words,_ = zip(*anchored_topic_model.get_topics(topic=n))\n",
        "    print('{}: '.format(n) + ','.join(topic_words))"
      ],
      "execution_count": 32,
      "outputs": [
        {
          "output_type": "stream",
          "text": [
            "0: use,efficient,extensively,conjunction,exclusively,seldom,sparingly,ordinarily,trickier,preclude\n",
            "1: shipping,delivery,amazon,customer,service,send,order,free,ship,receive\n",
            "2: money,worth,waste,save,penny,investment,pricey,spent,aggravation,wast\n",
            "3: price,quality,reasonable,beat,reasonably,excellent,value,fair,tag,bargain\n"
          ],
          "name": "stdout"
        }
      ]
    },
    {
      "cell_type": "code",
      "metadata": {
        "id": "MA-gBh5jO3C4",
        "colab_type": "code",
        "colab": {}
      },
      "source": [
        "# Anchor with single words and groups of words\n",
        "anchor_words = ['job', ['job', 'use'], ['job', 'delivery'], 'shopping']\n",
        "\n",
        "anchored_topic_model = ct.Corex(n_hidden=50, seed=2)\n",
        "anchored_topic_model.fit(doc_word, words=words, anchors=anchor_words, anchor_strength=6);"
      ],
      "execution_count": 0,
      "outputs": []
    },
    {
      "cell_type": "code",
      "metadata": {
        "id": "z88QyNfUO6Yb",
        "colab_type": "code",
        "outputId": "8e2f669f-1b37-4217-edb0-2e6e3c2000f4",
        "colab": {
          "base_uri": "https://localhost:8080/",
          "height": 85
        }
      },
      "source": [
        "for n in range(len(anchor_words)):\n",
        "    topic_words,_ = zip(*anchored_topic_model.get_topics(topic=n))\n",
        "    print('{}: '.format(n) + ','.join(topic_words))"
      ],
      "execution_count": 34,
      "outputs": [
        {
          "output_type": "stream",
          "text": [
            "0: job,drifted,reassurance,pressurewasherparts,untethered,crisscross,contemplated,cmm,boogle,battleship\n",
            "1: use,job,extensively,conjunction,seldom,sparingly,workhorse,silently,trickier,sporadic\n",
            "2: job,delivery,deservedly,swerve,hazzle,thee,willed,chamomile,rd,trustworthy\n",
            "3: shopping,point,note,experience,mean,reviewer,update,level,simply,research\n"
          ],
          "name": "stdout"
        }
      ]
    },
    {
      "cell_type": "code",
      "metadata": {
        "id": "U8R2h2y4O80R",
        "colab_type": "code",
        "colab": {}
      },
      "source": [
        "vt.vis_rep(topic_model, column_label=words, prefix='./twenty')"
      ],
      "execution_count": 0,
      "outputs": []
    },
    {
      "cell_type": "code",
      "metadata": {
        "id": "Ku3ObOoGFoSV",
        "colab_type": "code",
        "outputId": "57504b70-a403-406b-8769-5dd804c842b2",
        "colab": {
          "base_uri": "https://localhost:8080/",
          "height": 54
        }
      },
      "source": [
        "%pwd\n",
        "%cd /content/\n",
        "%pwd"
      ],
      "execution_count": 0,
      "outputs": [
        {
          "output_type": "stream",
          "text": [
            "/content\n"
          ],
          "name": "stdout"
        },
        {
          "output_type": "execute_result",
          "data": {
            "text/plain": [
              "'/content'"
            ]
          },
          "metadata": {
            "tags": []
          },
          "execution_count": 78
        }
      ]
    },
    {
      "cell_type": "code",
      "metadata": {
        "id": "ArJckdkIEmb_",
        "colab_type": "code",
        "colab": {}
      },
      "source": [
        "#Saving the CorEx topics generated in a file\n",
        "import sys\n",
        "import csv\n",
        "with open(\"corex_topic.txt\",\"w+\") as file:\n",
        "     for n in range(len(anchor_words)):\n",
        "         topic_words,_ = zip(*anchored_topic_model.get_topics(topic=n))\n",
        "         #print('{}: '.format(n) + ','.join(topic_words))\n",
        "         file.write('{}: '.format(n) + ','.join(topic_words)+'\\n')"
      ],
      "execution_count": 0,
      "outputs": []
    },
    {
      "cell_type": "code",
      "metadata": {
        "id": "nTklZFhJz_b2",
        "colab_type": "code",
        "colab": {}
      },
      "source": [
        ""
      ],
      "execution_count": 0,
      "outputs": []
    }
  ]
}