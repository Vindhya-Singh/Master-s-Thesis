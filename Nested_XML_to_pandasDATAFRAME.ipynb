{
  "nbformat": 4,
  "nbformat_minor": 0,
  "metadata": {
    "colab": {
      "name": "Nested_XML_to_pandasDATAFRAME.ipynb",
      "provenance": [],
      "collapsed_sections": [],
      "include_colab_link": true
    },
    "kernelspec": {
      "name": "python3",
      "display_name": "Python 3"
    }
  },
  "cells": [
    {
      "cell_type": "markdown",
      "metadata": {
        "id": "view-in-github",
        "colab_type": "text"
      },
      "source": [
        "<a href=\"https://colab.research.google.com/github/VindhyaSRajan/Master-s-Thesis/blob/master/Nested_XML_to_pandasDATAFRAME.ipynb\" target=\"_parent\"><img src=\"https://colab.research.google.com/assets/colab-badge.svg\" alt=\"Open In Colab\"/></a>"
      ]
    },
    {
      "cell_type": "markdown",
      "metadata": {
        "id": "4199MKksQZVI",
        "colab_type": "text"
      },
      "source": [
        "##Mounting the drive\n"
      ]
    },
    {
      "cell_type": "code",
      "metadata": {
        "id": "IcX7Sy6sP6h_",
        "colab_type": "code",
        "colab": {}
      },
      "source": [
        "from google.colab import drive\n",
        "drive.mount('/gdrive')\n",
        "%cd /gdrive"
      ],
      "execution_count": 0,
      "outputs": []
    },
    {
      "cell_type": "code",
      "metadata": {
        "id": "j0f0DtnAT9Zd",
        "colab_type": "code",
        "colab": {
          "base_uri": "https://localhost:8080/",
          "height": 35
        },
        "outputId": "1c1771fb-4fe1-4a0b-9b6c-45c807b8eef5"
      },
      "source": [
        "from google.colab import drive\n",
        "drive.mount('/content/drive')"
      ],
      "execution_count": 117,
      "outputs": [
        {
          "output_type": "stream",
          "text": [
            "Mounted at /content/drive\n"
          ],
          "name": "stdout"
        }
      ]
    },
    {
      "cell_type": "markdown",
      "metadata": {
        "id": "lymTK4mkQON2",
        "colab_type": "text"
      },
      "source": [
        "##Import Section"
      ]
    },
    {
      "cell_type": "code",
      "metadata": {
        "id": "cxUOtLLELYGN",
        "colab_type": "code",
        "colab": {}
      },
      "source": [
        "import pandas as pd\n",
        "import xml.etree.ElementTree as et\n",
        "import os\n",
        "from pathlib import Path\n",
        "import glob"
      ],
      "execution_count": 0,
      "outputs": []
    },
    {
      "cell_type": "markdown",
      "metadata": {
        "id": "H-iG-nUmQSAG",
        "colab_type": "text"
      },
      "source": [
        "##Reading the nested XML file into pandas dataframe\n"
      ]
    },
    {
      "cell_type": "code",
      "metadata": {
        "id": "exKzblpDmkBu",
        "colab_type": "code",
        "colab": {}
      },
      "source": [
        "with os.scandir('/content/drive/My Drive/NLMCXR_reports/ecgen-radiology/') as entries:\n",
        "    for entry in entries:\n",
        "        print(entry.name)"
      ],
      "execution_count": 0,
      "outputs": []
    },
    {
      "cell_type": "code",
      "metadata": {
        "id": "BTKOHmFoqFHH",
        "colab_type": "code",
        "colab": {}
      },
      "source": [
        "print(glob.glob(\"/content/drive/My Drive/NLMCXR_reports/ecgen-radiology/*.xml\")) #Run this to check Colab is reading the folder"
      ],
      "execution_count": 0,
      "outputs": []
    },
    {
      "cell_type": "markdown",
      "metadata": {
        "id": "ROmSGGmMLxjr",
        "colab_type": "text"
      },
      "source": [
        "###Reading the child nodes of e-Citation, calling it the LEFT Dataframe"
      ]
    },
    {
      "cell_type": "code",
      "metadata": {
        "id": "BDU6Dm9F31kr",
        "colab_type": "code",
        "colab": {
          "base_uri": "https://localhost:8080/",
          "height": 198
        },
        "outputId": "a538fc9d-7207-4cda-c313-5a592126c9ac"
      },
      "source": [
        "def getvalueofnode(node):\n",
        "    \"\"\" return node text or None \"\"\"\n",
        "    return node.text if node is not None else None\n",
        "\n",
        "def main():\n",
        "    \"\"\" main \"\"\"\n",
        "    filenames =  glob.glob(\"/content/drive/My Drive/NLMCXR_reports/ecgen-radiology/*.xml\") #Change to your filepath\n",
        "    filename = [] \n",
        "    li = []\n",
        "    for filename in filenames :\n",
        "         \n",
        "         global left\n",
        "         parsed_xml = et.parse(filename)\n",
        "         dfcols = ['uId', 'pmcId', 'Owner', 'parentImage_id']\n",
        "         left = pd.DataFrame(columns=dfcols)\n",
        "\n",
        "         root = parsed_xml.getroot()\n",
        "         \n",
        "        \n",
        "         for uIdFind in parsed_xml.findall('./uId'):\n",
        "             uId = uIdFind.get('id')\n",
        "\n",
        "         for pmcIdFind in parsed_xml.findall('./pmcId'):\n",
        "             pmcId = pmcIdFind.get('id')\n",
        "    \n",
        "         for MedlineCitationFind in parsed_xml.findall('./MedlineCitation'):\n",
        "             Owner = MedlineCitationFind.get('Owner')\n",
        "       \n",
        "         for parentImage_idFind in parsed_xml.findall('./parentImage'):\n",
        "             ParentImageId = parentImage_idFind.get('id')\n",
        "             \n",
        "             left = left.append(pd.Series([uId, pmcId, Owner, ParentImageId], index=dfcols),ignore_index=True)\n",
        "             li.append(left)\n",
        "             \n",
        "    left = pd.concat(li, axis=0, ignore_index=True)\n",
        "\n",
        "    return left\n",
        "\n",
        "main()\n",
        "\n",
        "left = main()\n",
        "\n",
        "left.head(5)\n",
        "\n",
        "    \n",
        "#     BidIdentificationString = './AllocationTimeSeries[%d]/BidIdentification'%(i) -- DO NOT DELETE THIS LINE\n",
        "    \n",
        "    "
      ],
      "execution_count": 120,
      "outputs": [
        {
          "output_type": "execute_result",
          "data": {
            "text/html": [
              "<div>\n",
              "<style scoped>\n",
              "    .dataframe tbody tr th:only-of-type {\n",
              "        vertical-align: middle;\n",
              "    }\n",
              "\n",
              "    .dataframe tbody tr th {\n",
              "        vertical-align: top;\n",
              "    }\n",
              "\n",
              "    .dataframe thead th {\n",
              "        text-align: right;\n",
              "    }\n",
              "</style>\n",
              "<table border=\"1\" class=\"dataframe\">\n",
              "  <thead>\n",
              "    <tr style=\"text-align: right;\">\n",
              "      <th></th>\n",
              "      <th>uId</th>\n",
              "      <th>pmcId</th>\n",
              "      <th>Owner</th>\n",
              "      <th>parentImage_id</th>\n",
              "    </tr>\n",
              "  </thead>\n",
              "  <tbody>\n",
              "    <tr>\n",
              "      <th>0</th>\n",
              "      <td>CXR1158</td>\n",
              "      <td>1158</td>\n",
              "      <td>Indiana University</td>\n",
              "      <td>CXR1158_IM-0107-1001</td>\n",
              "    </tr>\n",
              "    <tr>\n",
              "      <th>1</th>\n",
              "      <td>CXR1158</td>\n",
              "      <td>1158</td>\n",
              "      <td>Indiana University</td>\n",
              "      <td>CXR1158_IM-0107-1001</td>\n",
              "    </tr>\n",
              "    <tr>\n",
              "      <th>2</th>\n",
              "      <td>CXR1158</td>\n",
              "      <td>1158</td>\n",
              "      <td>Indiana University</td>\n",
              "      <td>CXR1158_IM-0107-2001</td>\n",
              "    </tr>\n",
              "    <tr>\n",
              "      <th>3</th>\n",
              "      <td>CXR2821</td>\n",
              "      <td>2821</td>\n",
              "      <td>Indiana University</td>\n",
              "      <td>CXR2821_IM-1244-1001</td>\n",
              "    </tr>\n",
              "    <tr>\n",
              "      <th>4</th>\n",
              "      <td>CXR2821</td>\n",
              "      <td>2821</td>\n",
              "      <td>Indiana University</td>\n",
              "      <td>CXR2821_IM-1244-1001</td>\n",
              "    </tr>\n",
              "  </tbody>\n",
              "</table>\n",
              "</div>"
            ],
            "text/plain": [
              "       uId pmcId               Owner        parentImage_id\n",
              "0  CXR1158  1158  Indiana University  CXR1158_IM-0107-1001\n",
              "1  CXR1158  1158  Indiana University  CXR1158_IM-0107-1001\n",
              "2  CXR1158  1158  Indiana University  CXR1158_IM-0107-2001\n",
              "3  CXR2821  2821  Indiana University  CXR2821_IM-1244-1001\n",
              "4  CXR2821  2821  Indiana University  CXR2821_IM-1244-1001"
            ]
          },
          "metadata": {
            "tags": []
          },
          "execution_count": 120
        }
      ]
    },
    {
      "cell_type": "code",
      "metadata": {
        "id": "7ZgdfAQZDa_x",
        "colab_type": "code",
        "colab": {
          "base_uri": "https://localhost:8080/",
          "height": 35
        },
        "outputId": "d350465b-aa07-483c-cc59-435460e2f485"
      },
      "source": [
        "left.shape #Shape should be (11321,4)"
      ],
      "execution_count": 121,
      "outputs": [
        {
          "output_type": "execute_result",
          "data": {
            "text/plain": [
              "(11321, 4)"
            ]
          },
          "metadata": {
            "tags": []
          },
          "execution_count": 121
        }
      ]
    },
    {
      "cell_type": "code",
      "metadata": {
        "id": "tZNVvaiZHuMt",
        "colab_type": "code",
        "colab": {
          "base_uri": "https://localhost:8080/",
          "height": 216
        },
        "outputId": "87f2f9db-1b5f-4a72-93a9-768106f4fcc7"
      },
      "source": [
        "left = left.drop_duplicates()\n",
        "print('Shape after dropping all duplicate values of the left datatframe : ', left.shape) #Shape should be (7470,4)\n",
        "left.head(5)"
      ],
      "execution_count": 122,
      "outputs": [
        {
          "output_type": "stream",
          "text": [
            "Shape after dropping all duplicate values of the left datatframe :  (7470, 4)\n"
          ],
          "name": "stdout"
        },
        {
          "output_type": "execute_result",
          "data": {
            "text/html": [
              "<div>\n",
              "<style scoped>\n",
              "    .dataframe tbody tr th:only-of-type {\n",
              "        vertical-align: middle;\n",
              "    }\n",
              "\n",
              "    .dataframe tbody tr th {\n",
              "        vertical-align: top;\n",
              "    }\n",
              "\n",
              "    .dataframe thead th {\n",
              "        text-align: right;\n",
              "    }\n",
              "</style>\n",
              "<table border=\"1\" class=\"dataframe\">\n",
              "  <thead>\n",
              "    <tr style=\"text-align: right;\">\n",
              "      <th></th>\n",
              "      <th>uId</th>\n",
              "      <th>pmcId</th>\n",
              "      <th>Owner</th>\n",
              "      <th>parentImage_id</th>\n",
              "    </tr>\n",
              "  </thead>\n",
              "  <tbody>\n",
              "    <tr>\n",
              "      <th>0</th>\n",
              "      <td>CXR1158</td>\n",
              "      <td>1158</td>\n",
              "      <td>Indiana University</td>\n",
              "      <td>CXR1158_IM-0107-1001</td>\n",
              "    </tr>\n",
              "    <tr>\n",
              "      <th>2</th>\n",
              "      <td>CXR1158</td>\n",
              "      <td>1158</td>\n",
              "      <td>Indiana University</td>\n",
              "      <td>CXR1158_IM-0107-2001</td>\n",
              "    </tr>\n",
              "    <tr>\n",
              "      <th>3</th>\n",
              "      <td>CXR2821</td>\n",
              "      <td>2821</td>\n",
              "      <td>Indiana University</td>\n",
              "      <td>CXR2821_IM-1244-1001</td>\n",
              "    </tr>\n",
              "    <tr>\n",
              "      <th>5</th>\n",
              "      <td>CXR2821</td>\n",
              "      <td>2821</td>\n",
              "      <td>Indiana University</td>\n",
              "      <td>CXR2821_IM-1244-2001</td>\n",
              "    </tr>\n",
              "    <tr>\n",
              "      <th>6</th>\n",
              "      <td>CXR3005</td>\n",
              "      <td>3005</td>\n",
              "      <td>Indiana University</td>\n",
              "      <td>CXR3005_IM-1388-1001</td>\n",
              "    </tr>\n",
              "  </tbody>\n",
              "</table>\n",
              "</div>"
            ],
            "text/plain": [
              "       uId pmcId               Owner        parentImage_id\n",
              "0  CXR1158  1158  Indiana University  CXR1158_IM-0107-1001\n",
              "2  CXR1158  1158  Indiana University  CXR1158_IM-0107-2001\n",
              "3  CXR2821  2821  Indiana University  CXR2821_IM-1244-1001\n",
              "5  CXR2821  2821  Indiana University  CXR2821_IM-1244-2001\n",
              "6  CXR3005  3005  Indiana University  CXR3005_IM-1388-1001"
            ]
          },
          "metadata": {
            "tags": []
          },
          "execution_count": 122
        }
      ]
    },
    {
      "cell_type": "code",
      "metadata": {
        "id": "4auEtUEs59z6",
        "colab_type": "code",
        "colab": {
          "base_uri": "https://localhost:8080/",
          "height": 108
        },
        "outputId": "0c3110f4-153b-4214-d8bb-0d1874ed2449"
      },
      "source": [
        "left.iloc[0] #Ensuring that the results are aligned with the original XML and dataframe"
      ],
      "execution_count": 123,
      "outputs": [
        {
          "output_type": "execute_result",
          "data": {
            "text/plain": [
              "uId                            CXR1158\n",
              "pmcId                             1158\n",
              "Owner               Indiana University\n",
              "parentImage_id    CXR1158_IM-0107-1001\n",
              "Name: 0, dtype: object"
            ]
          },
          "metadata": {
            "tags": []
          },
          "execution_count": 123
        }
      ]
    },
    {
      "cell_type": "markdown",
      "metadata": {
        "id": "fdjWP9tpMC_M",
        "colab_type": "text"
      },
      "source": [
        "###Reading the heavily nested elements, calling it the RIGHT Dataframe"
      ]
    },
    {
      "cell_type": "code",
      "metadata": {
        "id": "aVV3jaNwe0Wo",
        "colab_type": "code",
        "colab": {}
      },
      "source": [
        "filenames = glob.glob(\"/content/drive/My Drive/NLMCXR_reports/ecgen-radiology/*.xml\") #Change to your file path\n",
        "print(filenames)"
      ],
      "execution_count": 0,
      "outputs": []
    },
    {
      "cell_type": "code",
      "metadata": {
        "id": "xTrKKdNeMUXx",
        "colab_type": "code",
        "colab": {
          "base_uri": "https://localhost:8080/",
          "height": 285
        },
        "outputId": "71e46f7c-4883-4632-f98a-a71e137c329d"
      },
      "source": [
        "def rightmain():\n",
        "    \"\"\" main \"\"\"\n",
        "    filenames =  glob.glob(\"/content/drive/My Drive/NLMCXR_reports/ecgen-radiology/*.xml\") #Change to your filepath\n",
        "    filename = [] \n",
        "    li = []\n",
        "    for filename in filenames :\n",
        "         \n",
        "         global right\n",
        "         parsed_xml = et.parse(filename)\n",
        "         dfcols_right = ['uId', 'Comparison', 'Indication', 'Findings', 'Impression', 'Major']\n",
        "         right = pd.DataFrame(columns= dfcols_right)\n",
        "\n",
        "         root = parsed_xml.getroot()\n",
        "         \n",
        "        \n",
        "         for uIdFind in parsed_xml.findall('./uId'):\n",
        "             uId = uIdFind.get('id')\n",
        "         Comparison = (root[16][0][2][0].text) #This is how to access the Comparison\n",
        "         Indication = (root[16][0][2][1].text) #This is how to access the Indication\n",
        "         Findings = (root[16][0][2][2].text) #This is how to access the Findings\n",
        "         Impression = (root[16][0][2][3].text) #This is how to access the Impression\n",
        "         Major = (root[17][0].text) #This is how to access the Major\n",
        "         #Major_2 = (root[17][1].text) #This is how to access the Major\n",
        "            \n",
        "         right = right.append(pd.Series([uId,Comparison,Indication,Findings,Impression,Major], index=dfcols_right),ignore_index=True)\n",
        "         li.append(right)\n",
        "             \n",
        "    right = pd.concat(li, axis=0, ignore_index=True)\n",
        "\n",
        "    return right\n",
        "\n",
        "rightmain()\n",
        "\n",
        "right = rightmain()\n",
        "\n",
        "right.head(5)"
      ],
      "execution_count": 134,
      "outputs": [
        {
          "output_type": "execute_result",
          "data": {
            "text/html": [
              "<div>\n",
              "<style scoped>\n",
              "    .dataframe tbody tr th:only-of-type {\n",
              "        vertical-align: middle;\n",
              "    }\n",
              "\n",
              "    .dataframe tbody tr th {\n",
              "        vertical-align: top;\n",
              "    }\n",
              "\n",
              "    .dataframe thead th {\n",
              "        text-align: right;\n",
              "    }\n",
              "</style>\n",
              "<table border=\"1\" class=\"dataframe\">\n",
              "  <thead>\n",
              "    <tr style=\"text-align: right;\">\n",
              "      <th></th>\n",
              "      <th>uId</th>\n",
              "      <th>Comparison</th>\n",
              "      <th>Indication</th>\n",
              "      <th>Findings</th>\n",
              "      <th>Impression</th>\n",
              "      <th>Major</th>\n",
              "    </tr>\n",
              "  </thead>\n",
              "  <tbody>\n",
              "    <tr>\n",
              "      <th>0</th>\n",
              "      <td>CXR1158</td>\n",
              "      <td>XXXX, XXXX.</td>\n",
              "      <td>dyspnea</td>\n",
              "      <td>Heart size remains slightly large. Aorta remai...</td>\n",
              "      <td>Continued slight cardiomegaly with no evidence...</td>\n",
              "      <td>Cardiomegaly/mild</td>\n",
              "    </tr>\n",
              "    <tr>\n",
              "      <th>1</th>\n",
              "      <td>CXR2821</td>\n",
              "      <td>None</td>\n",
              "      <td>Right-sided chest pain after XXXX</td>\n",
              "      <td>Cardiomediastinal silhouette and pulmonary vas...</td>\n",
              "      <td>No acute cardiopulmonary findings.</td>\n",
              "      <td>Calcinosis/aorta</td>\n",
              "    </tr>\n",
              "    <tr>\n",
              "      <th>2</th>\n",
              "      <td>CXR3005</td>\n",
              "      <td>XXXX</td>\n",
              "      <td>XXXX with XXXX and XXXX loss</td>\n",
              "      <td>The heart is normal in size. The mediastinum i...</td>\n",
              "      <td>1. Emphysema without acute infiltrate. 2. Prog...</td>\n",
              "      <td>Aorta/tortuous</td>\n",
              "    </tr>\n",
              "    <tr>\n",
              "      <th>3</th>\n",
              "      <td>CXR3899</td>\n",
              "      <td>CT chest XXXX, XXXX and chest radiograph XXXX,...</td>\n",
              "      <td>XXXX-year-old with abdominal pain.</td>\n",
              "      <td>Chest. Mildly hyperexpanded lungs. The right l...</td>\n",
              "      <td>Chest 1. No acute cardiopulmonary findings. Ab...</td>\n",
              "      <td>Lung/hyperdistention/mild</td>\n",
              "    </tr>\n",
              "    <tr>\n",
              "      <th>4</th>\n",
              "      <td>CXR2667</td>\n",
              "      <td>None available.</td>\n",
              "      <td>XXXX-year-old male with XXXX, XXXX, and XXXX.</td>\n",
              "      <td>Heart size normal. No focal airspace disease. ...</td>\n",
              "      <td>No acute cardiopulmonary findings.</td>\n",
              "      <td>normal</td>\n",
              "    </tr>\n",
              "  </tbody>\n",
              "</table>\n",
              "</div>"
            ],
            "text/plain": [
              "       uId  ...                      Major\n",
              "0  CXR1158  ...          Cardiomegaly/mild\n",
              "1  CXR2821  ...           Calcinosis/aorta\n",
              "2  CXR3005  ...             Aorta/tortuous\n",
              "3  CXR3899  ...  Lung/hyperdistention/mild\n",
              "4  CXR2667  ...                     normal\n",
              "\n",
              "[5 rows x 6 columns]"
            ]
          },
          "metadata": {
            "tags": []
          },
          "execution_count": 134
        }
      ]
    },
    {
      "cell_type": "code",
      "metadata": {
        "id": "xRdIbeRWhS4W",
        "colab_type": "code",
        "colab": {
          "base_uri": "https://localhost:8080/",
          "height": 35
        },
        "outputId": "69f7a6fb-a690-4f7c-dc5c-88be6c064609"
      },
      "source": [
        "right.shape #Shape should be (3955,6) as we have 3955 reports"
      ],
      "execution_count": 135,
      "outputs": [
        {
          "output_type": "execute_result",
          "data": {
            "text/plain": [
              "(3955, 6)"
            ]
          },
          "metadata": {
            "tags": []
          },
          "execution_count": 135
        }
      ]
    },
    {
      "cell_type": "code",
      "metadata": {
        "id": "pZl6l5SMhwr1",
        "colab_type": "code",
        "colab": {
          "base_uri": "https://localhost:8080/",
          "height": 35
        },
        "outputId": "f3430f15-e151-43be-cb56-5b6852b071b5"
      },
      "source": [
        "right.columns"
      ],
      "execution_count": 136,
      "outputs": [
        {
          "output_type": "execute_result",
          "data": {
            "text/plain": [
              "Index(['uId', 'Comparison', 'Indication', 'Findings', 'Impression', 'Major'], dtype='object')"
            ]
          },
          "metadata": {
            "tags": []
          },
          "execution_count": 136
        }
      ]
    },
    {
      "cell_type": "markdown",
      "metadata": {
        "id": "cJPdOCxfjzlU",
        "colab_type": "text"
      },
      "source": [
        "##Merging the two dataframes : LEFT and RIGHT"
      ]
    },
    {
      "cell_type": "code",
      "metadata": {
        "id": "6GaK03Obj5ci",
        "colab_type": "code",
        "colab": {
          "base_uri": "https://localhost:8080/",
          "height": 303
        },
        "outputId": "47307f1c-0bfd-4537-93d3-82d51c12da19"
      },
      "source": [
        "result = pd.merge(left, right, how='outer', on=['uId'])\n",
        "print('The shape for the final merged data frame is: ',result.shape) #should be (7574,9)\n",
        "result.head()"
      ],
      "execution_count": 139,
      "outputs": [
        {
          "output_type": "stream",
          "text": [
            "The shape for the final merged data frame is:  (7574, 9)\n"
          ],
          "name": "stdout"
        },
        {
          "output_type": "execute_result",
          "data": {
            "text/html": [
              "<div>\n",
              "<style scoped>\n",
              "    .dataframe tbody tr th:only-of-type {\n",
              "        vertical-align: middle;\n",
              "    }\n",
              "\n",
              "    .dataframe tbody tr th {\n",
              "        vertical-align: top;\n",
              "    }\n",
              "\n",
              "    .dataframe thead th {\n",
              "        text-align: right;\n",
              "    }\n",
              "</style>\n",
              "<table border=\"1\" class=\"dataframe\">\n",
              "  <thead>\n",
              "    <tr style=\"text-align: right;\">\n",
              "      <th></th>\n",
              "      <th>uId</th>\n",
              "      <th>pmcId</th>\n",
              "      <th>Owner</th>\n",
              "      <th>parentImage_id</th>\n",
              "      <th>Comparison</th>\n",
              "      <th>Indication</th>\n",
              "      <th>Findings</th>\n",
              "      <th>Impression</th>\n",
              "      <th>Major</th>\n",
              "    </tr>\n",
              "  </thead>\n",
              "  <tbody>\n",
              "    <tr>\n",
              "      <th>0</th>\n",
              "      <td>CXR1158</td>\n",
              "      <td>1158</td>\n",
              "      <td>Indiana University</td>\n",
              "      <td>CXR1158_IM-0107-1001</td>\n",
              "      <td>XXXX, XXXX.</td>\n",
              "      <td>dyspnea</td>\n",
              "      <td>Heart size remains slightly large. Aorta remai...</td>\n",
              "      <td>Continued slight cardiomegaly with no evidence...</td>\n",
              "      <td>Cardiomegaly/mild</td>\n",
              "    </tr>\n",
              "    <tr>\n",
              "      <th>1</th>\n",
              "      <td>CXR1158</td>\n",
              "      <td>1158</td>\n",
              "      <td>Indiana University</td>\n",
              "      <td>CXR1158_IM-0107-2001</td>\n",
              "      <td>XXXX, XXXX.</td>\n",
              "      <td>dyspnea</td>\n",
              "      <td>Heart size remains slightly large. Aorta remai...</td>\n",
              "      <td>Continued slight cardiomegaly with no evidence...</td>\n",
              "      <td>Cardiomegaly/mild</td>\n",
              "    </tr>\n",
              "    <tr>\n",
              "      <th>2</th>\n",
              "      <td>CXR2821</td>\n",
              "      <td>2821</td>\n",
              "      <td>Indiana University</td>\n",
              "      <td>CXR2821_IM-1244-1001</td>\n",
              "      <td>None</td>\n",
              "      <td>Right-sided chest pain after XXXX</td>\n",
              "      <td>Cardiomediastinal silhouette and pulmonary vas...</td>\n",
              "      <td>No acute cardiopulmonary findings.</td>\n",
              "      <td>Calcinosis/aorta</td>\n",
              "    </tr>\n",
              "    <tr>\n",
              "      <th>3</th>\n",
              "      <td>CXR2821</td>\n",
              "      <td>2821</td>\n",
              "      <td>Indiana University</td>\n",
              "      <td>CXR2821_IM-1244-2001</td>\n",
              "      <td>None</td>\n",
              "      <td>Right-sided chest pain after XXXX</td>\n",
              "      <td>Cardiomediastinal silhouette and pulmonary vas...</td>\n",
              "      <td>No acute cardiopulmonary findings.</td>\n",
              "      <td>Calcinosis/aorta</td>\n",
              "    </tr>\n",
              "    <tr>\n",
              "      <th>4</th>\n",
              "      <td>CXR3005</td>\n",
              "      <td>3005</td>\n",
              "      <td>Indiana University</td>\n",
              "      <td>CXR3005_IM-1388-1001</td>\n",
              "      <td>XXXX</td>\n",
              "      <td>XXXX with XXXX and XXXX loss</td>\n",
              "      <td>The heart is normal in size. The mediastinum i...</td>\n",
              "      <td>1. Emphysema without acute infiltrate. 2. Prog...</td>\n",
              "      <td>Aorta/tortuous</td>\n",
              "    </tr>\n",
              "  </tbody>\n",
              "</table>\n",
              "</div>"
            ],
            "text/plain": [
              "       uId  ...              Major\n",
              "0  CXR1158  ...  Cardiomegaly/mild\n",
              "1  CXR1158  ...  Cardiomegaly/mild\n",
              "2  CXR2821  ...   Calcinosis/aorta\n",
              "3  CXR2821  ...   Calcinosis/aorta\n",
              "4  CXR3005  ...     Aorta/tortuous\n",
              "\n",
              "[5 rows x 9 columns]"
            ]
          },
          "metadata": {
            "tags": []
          },
          "execution_count": 139
        }
      ]
    },
    {
      "cell_type": "code",
      "metadata": {
        "id": "9AdcPeV2l-1-",
        "colab_type": "code",
        "colab": {
          "base_uri": "https://localhost:8080/",
          "height": 35
        },
        "outputId": "a1ffa951-20a8-4bc7-ad43-41d4653e3074"
      },
      "source": [
        "type(result)"
      ],
      "execution_count": 150,
      "outputs": [
        {
          "output_type": "execute_result",
          "data": {
            "text/plain": [
              "pandas.core.frame.DataFrame"
            ]
          },
          "metadata": {
            "tags": []
          },
          "execution_count": 150
        }
      ]
    },
    {
      "cell_type": "markdown",
      "metadata": {
        "id": "Sk-tdjO9jfsB",
        "colab_type": "text"
      },
      "source": [
        "##Converting the final merged dataframe into a CSV and saving to the Drive"
      ]
    },
    {
      "cell_type": "code",
      "metadata": {
        "id": "lJ8Znxyajnfv",
        "colab_type": "code",
        "colab": {}
      },
      "source": [
        "from google.colab import files\n",
        "result.to_csv('OpeniReports.csv')"
      ],
      "execution_count": 0,
      "outputs": []
    },
    {
      "cell_type": "markdown",
      "metadata": {
        "id": "9h2fQPHSoOJM",
        "colab_type": "text"
      },
      "source": [
        "##Data Analysis of the Open-i Reports"
      ]
    },
    {
      "cell_type": "code",
      "metadata": {
        "id": "R64SiTmKoWEg",
        "colab_type": "code",
        "colab": {
          "base_uri": "https://localhost:8080/",
          "height": 445
        },
        "outputId": "9bb9dab2-4864-4a13-b34f-68a99c855299"
      },
      "source": [
        "##Filtering out all rows with value as None\n",
        "is_filtered_df = result['Comparison'] != 'None'\n",
        "print(is_filtered_df.head())\n",
        "filtered_df = result[is_filtered_df]\n",
        "filtered_df.head()"
      ],
      "execution_count": 156,
      "outputs": [
        {
          "output_type": "stream",
          "text": [
            "0     True\n",
            "1     True\n",
            "2    False\n",
            "3    False\n",
            "4     True\n",
            "Name: Comparison, dtype: bool\n"
          ],
          "name": "stdout"
        },
        {
          "output_type": "execute_result",
          "data": {
            "text/html": [
              "<div>\n",
              "<style scoped>\n",
              "    .dataframe tbody tr th:only-of-type {\n",
              "        vertical-align: middle;\n",
              "    }\n",
              "\n",
              "    .dataframe tbody tr th {\n",
              "        vertical-align: top;\n",
              "    }\n",
              "\n",
              "    .dataframe thead th {\n",
              "        text-align: right;\n",
              "    }\n",
              "</style>\n",
              "<table border=\"1\" class=\"dataframe\">\n",
              "  <thead>\n",
              "    <tr style=\"text-align: right;\">\n",
              "      <th></th>\n",
              "      <th>uId</th>\n",
              "      <th>pmcId</th>\n",
              "      <th>Owner</th>\n",
              "      <th>parentImage_id</th>\n",
              "      <th>Comparison</th>\n",
              "      <th>Indication</th>\n",
              "      <th>Findings</th>\n",
              "      <th>Impression</th>\n",
              "      <th>Major</th>\n",
              "    </tr>\n",
              "  </thead>\n",
              "  <tbody>\n",
              "    <tr>\n",
              "      <th>0</th>\n",
              "      <td>CXR1158</td>\n",
              "      <td>1158</td>\n",
              "      <td>Indiana University</td>\n",
              "      <td>CXR1158_IM-0107-1001</td>\n",
              "      <td>XXXX, XXXX.</td>\n",
              "      <td>dyspnea</td>\n",
              "      <td>Heart size remains slightly large. Aorta remai...</td>\n",
              "      <td>Continued slight cardiomegaly with no evidence...</td>\n",
              "      <td>Cardiomegaly/mild</td>\n",
              "    </tr>\n",
              "    <tr>\n",
              "      <th>1</th>\n",
              "      <td>CXR1158</td>\n",
              "      <td>1158</td>\n",
              "      <td>Indiana University</td>\n",
              "      <td>CXR1158_IM-0107-2001</td>\n",
              "      <td>XXXX, XXXX.</td>\n",
              "      <td>dyspnea</td>\n",
              "      <td>Heart size remains slightly large. Aorta remai...</td>\n",
              "      <td>Continued slight cardiomegaly with no evidence...</td>\n",
              "      <td>Cardiomegaly/mild</td>\n",
              "    </tr>\n",
              "    <tr>\n",
              "      <th>4</th>\n",
              "      <td>CXR3005</td>\n",
              "      <td>3005</td>\n",
              "      <td>Indiana University</td>\n",
              "      <td>CXR3005_IM-1388-1001</td>\n",
              "      <td>XXXX</td>\n",
              "      <td>XXXX with XXXX and XXXX loss</td>\n",
              "      <td>The heart is normal in size. The mediastinum i...</td>\n",
              "      <td>1. Emphysema without acute infiltrate. 2. Prog...</td>\n",
              "      <td>Aorta/tortuous</td>\n",
              "    </tr>\n",
              "    <tr>\n",
              "      <th>5</th>\n",
              "      <td>CXR3899</td>\n",
              "      <td>3899</td>\n",
              "      <td>Indiana University</td>\n",
              "      <td>CXR3899_IM-1978-1001</td>\n",
              "      <td>CT chest XXXX, XXXX and chest radiograph XXXX,...</td>\n",
              "      <td>XXXX-year-old with abdominal pain.</td>\n",
              "      <td>Chest. Mildly hyperexpanded lungs. The right l...</td>\n",
              "      <td>Chest 1. No acute cardiopulmonary findings. Ab...</td>\n",
              "      <td>Lung/hyperdistention/mild</td>\n",
              "    </tr>\n",
              "    <tr>\n",
              "      <th>6</th>\n",
              "      <td>CXR2667</td>\n",
              "      <td>2667</td>\n",
              "      <td>Indiana University</td>\n",
              "      <td>CXR2667_IM-1146-1001</td>\n",
              "      <td>None available.</td>\n",
              "      <td>XXXX-year-old male with XXXX, XXXX, and XXXX.</td>\n",
              "      <td>Heart size normal. No focal airspace disease. ...</td>\n",
              "      <td>No acute cardiopulmonary findings.</td>\n",
              "      <td>normal</td>\n",
              "    </tr>\n",
              "  </tbody>\n",
              "</table>\n",
              "</div>"
            ],
            "text/plain": [
              "       uId  ...                      Major\n",
              "0  CXR1158  ...          Cardiomegaly/mild\n",
              "1  CXR1158  ...          Cardiomegaly/mild\n",
              "4  CXR3005  ...             Aorta/tortuous\n",
              "5  CXR3899  ...  Lung/hyperdistention/mild\n",
              "6  CXR2667  ...                     normal\n",
              "\n",
              "[5 rows x 9 columns]"
            ]
          },
          "metadata": {
            "tags": []
          },
          "execution_count": 156
        }
      ]
    },
    {
      "cell_type": "code",
      "metadata": {
        "id": "FLj2Km7vqIli",
        "colab_type": "code",
        "colab": {
          "base_uri": "https://localhost:8080/",
          "height": 35
        },
        "outputId": "2baf250c-67f7-4298-9c1e-0cdc46932642"
      },
      "source": [
        "filtered_df.shape"
      ],
      "execution_count": 157,
      "outputs": [
        {
          "output_type": "execute_result",
          "data": {
            "text/plain": [
              "(6462, 9)"
            ]
          },
          "metadata": {
            "tags": []
          },
          "execution_count": 157
        }
      ]
    },
    {
      "cell_type": "markdown",
      "metadata": {
        "id": "orbppWnCiLa-",
        "colab_type": "text"
      },
      "source": [
        "##This was the initial code block to test how to extract all elements from the XML file"
      ]
    },
    {
      "cell_type": "code",
      "metadata": {
        "id": "l87X-DyrfX91",
        "colab_type": "code",
        "outputId": "1a47193f-0038-43f2-9003-050cf0b0bf41",
        "colab": {
          "base_uri": "https://localhost:8080/",
          "height": 55
        }
      },
      "source": [
        "tree = et.parse(filename)\n",
        "root = tree.getroot()\n",
        "root.tag\n",
        "root.attrib\n",
        "for child in root:\n",
        "    print(child.tag, child.attrib)\n",
        "\n",
        "parsed_xml = et.parse(\"/content/drive/My Drive/NLMCXR_reports/ecgen-radiology/607.xml\")\n",
        "for uIdFind in parsed_xml.findall('./uId'):\n",
        "  uId = uIdFind.get('id')\n",
        "root = tree.getroot()\n",
        "Comparison = (root[16][0][2][0].text) #This is how to access the Comparison\n",
        "Indication = (root[16][0][2][1].text) #This is how to access the Indication\n",
        "Findings = (root[16][0][2][2].text) #This is how to access the Findings\n",
        "Impression = (root[16][0][2][3].text) #This is how to access the Impression\n",
        "Major_1 = (root[17][0].text) #This is how to access the Major\n",
        "Major_2 = (root[17][1].text) #This is how to access the Major\n",
        "print(uId,Comparison,Indication,Findings,Impression,Major_1,Major_2)"
      ],
      "execution_count": 0,
      "outputs": [
        {
          "output_type": "stream",
          "text": [
            "CXR607 PA and lateral chest radiographs XXXX. XXXX-year-old female, lung nodules. The cardiomediastinal silhouette is within normal limits for size and contour. The lungs are normally inflated without evidence of focal airspace disease, pleural effusion, or pneumothorax. Scattered bilateral calcified pulmonary nodules. No acute bone abnormality. No acute cardiopulmonary process. Calcinosis/lung/bilateral/scattered Nodule/lung/bilateral/scattered\n"
          ],
          "name": "stdout"
        }
      ]
    },
    {
      "cell_type": "code",
      "metadata": {
        "id": "LsIBmqKFimqN",
        "colab_type": "code",
        "outputId": "ca0fc87d-f968-4fc3-8051-43dc352baec4",
        "colab": {
          "base_uri": "https://localhost:8080/",
          "height": 72
        }
      },
      "source": [
        "d = {'uId': uId,'Comparison': (root[16][0][2][0].text), 'Indication': (root[16][0][2][1].text), 'Findings': (root[16][0][2][2].text), 'Impression' : (root[16][0][2][3].text), 'Major_1' : (root[17][0].text), 'Major_2' : (root[17][1].text)}\n",
        "right = pd.DataFrame(data=d,index =['0'])\n",
        "right.head()\n",
        "right.columns"
      ],
      "execution_count": 0,
      "outputs": [
        {
          "output_type": "execute_result",
          "data": {
            "text/plain": [
              "Index(['uId', 'Comparison', 'Indication', 'Findings', 'Impression', 'Major_1',\n",
              "       'Major_2'],\n",
              "      dtype='object')"
            ]
          },
          "metadata": {
            "tags": []
          },
          "execution_count": 112
        }
      ]
    },
    {
      "cell_type": "markdown",
      "metadata": {
        "id": "h_i1-lF5nTwz",
        "colab_type": "text"
      },
      "source": [
        "##Miscellaneous Code -- To be discarded later"
      ]
    },
    {
      "cell_type": "code",
      "metadata": {
        "id": "QvavoPkbNZQL",
        "colab_type": "code",
        "colab": {}
      },
      "source": [
        "xtree = et.parse(\"/content/drive/My Drive/NLMCXR_reports/ecgen-radiology/607.xml\")"
      ],
      "execution_count": 0,
      "outputs": []
    },
    {
      "cell_type": "code",
      "metadata": {
        "id": "iZYv6LWINZ3s",
        "colab_type": "code",
        "colab": {}
      },
      "source": [
        "for node in xroot: \n",
        "    abstract_comparison = node.attrib.get(\"COMPARISON\")\n",
        "    abstract_indication = node.attrib.get(\"INDICATION\")\n",
        "    abstract_findings = node.attrib.get(\"label\")\n",
        "    abstract_impression = node.attrib.get(\"IMPRESSION\")\n",
        "    rows.append({\"COMPARISON\": abstract_comparison, \"INDICATION\": abstract_indication, \n",
        "                 \"FINDINGS\": abstract_findings, \"IMPRESSION\": abstract_impression})\n"
      ],
      "execution_count": 0,
      "outputs": []
    },
    {
      "cell_type": "code",
      "metadata": {
        "id": "cbmgVhf-t6-E",
        "colab_type": "code",
        "colab": {}
      },
      "source": [
        "xroot = xtree.getroot()\n",
        "rows = []"
      ],
      "execution_count": 0,
      "outputs": []
    },
    {
      "cell_type": "code",
      "metadata": {
        "id": "1F_5lg1QNmtR",
        "colab_type": "code",
        "outputId": "fba044ea-0a4c-422b-c262-ac409c427dc2",
        "colab": {
          "base_uri": "https://localhost:8080/",
          "height": 110
        }
      },
      "source": [
        "out_df.head(2)"
      ],
      "execution_count": 0,
      "outputs": [
        {
          "output_type": "execute_result",
          "data": {
            "text/html": [
              "<div>\n",
              "<style scoped>\n",
              "    .dataframe tbody tr th:only-of-type {\n",
              "        vertical-align: middle;\n",
              "    }\n",
              "\n",
              "    .dataframe tbody tr th {\n",
              "        vertical-align: top;\n",
              "    }\n",
              "\n",
              "    .dataframe thead th {\n",
              "        text-align: right;\n",
              "    }\n",
              "</style>\n",
              "<table border=\"1\" class=\"dataframe\">\n",
              "  <thead>\n",
              "    <tr style=\"text-align: right;\">\n",
              "      <th></th>\n",
              "      <th>COMPARISON</th>\n",
              "      <th>INDICATION</th>\n",
              "      <th>FINDINGS</th>\n",
              "      <th>IMPRESSION</th>\n",
              "    </tr>\n",
              "  </thead>\n",
              "  <tbody>\n",
              "    <tr>\n",
              "      <th>0</th>\n",
              "      <td>None</td>\n",
              "      <td>None</td>\n",
              "      <td>None</td>\n",
              "      <td>None</td>\n",
              "    </tr>\n",
              "    <tr>\n",
              "      <th>1</th>\n",
              "      <td>None</td>\n",
              "      <td>None</td>\n",
              "      <td>None</td>\n",
              "      <td>None</td>\n",
              "    </tr>\n",
              "  </tbody>\n",
              "</table>\n",
              "</div>"
            ],
            "text/plain": [
              "  COMPARISON INDICATION FINDINGS IMPRESSION\n",
              "0       None       None     None       None\n",
              "1       None       None     None       None"
            ]
          },
          "metadata": {
            "tags": []
          },
          "execution_count": 52
        }
      ]
    },
    {
      "cell_type": "code",
      "metadata": {
        "id": "vMspTfR4NraP",
        "colab_type": "code",
        "colab": {}
      },
      "source": [
        "def parse_XML(xml_file, df_cols): \n",
        "    \"\"\"Parse the input XML file and store the result in a pandas \n",
        "    DataFrame with the given columns. \n",
        "    \n",
        "    The first element of df_cols is supposed to be the identifier \n",
        "    variable, which is an attribute of each node element in the \n",
        "    XML data; other features will be parsed from the text content \n",
        "    of each sub-element. \n",
        "    \"\"\"\n",
        "    \n",
        "    xtree = et.parse(xml_file)\n",
        "    xroot = xtree.getroot()\n",
        "    rows = []\n",
        "    \n",
        "    for node in xroot: \n",
        "        res = []\n",
        "        res.append(node.attrib.get(df_cols[0]))\n",
        "        for el in df_cols[1:]: \n",
        "            if node is not None and node.find(el) is not None:\n",
        "                res.append(node.find(el).text)\n",
        "            else: \n",
        "                res.append(None)\n",
        "        rows.append({df_cols[i]: res[i] \n",
        "                     for i, _ in enumerate(df_cols)})\n",
        "    \n",
        "    out2_df = pd.DataFrame(rows, columns=df_cols)\n",
        "        \n",
        "    return out2_df"
      ],
      "execution_count": 0,
      "outputs": []
    },
    {
      "cell_type": "code",
      "metadata": {
        "id": "PQgaaHgxNgin",
        "colab_type": "code",
        "colab": {}
      },
      "source": [
        "df_cols = [\"COMPARISON\", \"INDICATION\", \"FINDINGS\", \"IMPRESSION\"]\n",
        "out_df = pd.DataFrame(rows, columns = df_cols)"
      ],
      "execution_count": 0,
      "outputs": []
    },
    {
      "cell_type": "code",
      "metadata": {
        "id": "Qzf7VEkHYLTY",
        "colab_type": "code",
        "colab": {}
      },
      "source": [
        "import xml.etree.ElementTree as ET\n",
        "import csv\n",
        "\n",
        "tree = ET.parse(\"/content/drive/My Drive/NLMCXR_reports/ecgen-radiology/1303.xml\")\n",
        "root = tree.getroot()\n",
        "\n",
        "# open a file for writing\n",
        "\n",
        "Resident_data = open('/content/drive/My Drive/NLMCXR_reports/ecgen-radiology/1303.csv', 'w')\n",
        "\n",
        "# create the csv writer object\n",
        "\n",
        "csvwriter = csv.writer(Resident_data)\n",
        "resident_head = []\n",
        "\n",
        "count = 0\n",
        "for member in root.findall('AbstractText'):\n",
        "\tabstract = []\n",
        "\t#address_list = []\n",
        "\tif count == 0:\n",
        "\t\tcomparison = member.find('COMPARISON').tag\n",
        "\t\tresident_head.append(comparison)\n",
        "\t\tindication = member.find('INDICATION').tag\n",
        "\t\tresident_head.append(indication)\n",
        "\t\tfindings = member.find('FINDINGS').tag\n",
        "\t\tresident_head.append(findings)\n",
        "\t\timpression = member.find('IMPRESSION').tag\n",
        "\t\tresident_head.append(impression)\n",
        "\t\tcsvwriter.writerow(resident_head)\n",
        "\t\tcount = count + 1\n",
        "\n",
        "\tcomparison = member.find('COMPARISON').text\n",
        "\tabstract.append(comparison)\n",
        "\tindication = member.find('INDICATION').text\n",
        "\tabstract.append(indication)\n",
        "\tfindings = member.find('FINDINGS').text\n",
        "\tabstract.append(findings)\n",
        "\timpression = member.find('IMPRESSION').text\n",
        "\tabstract.append(impression)\n",
        "\t#City = member[3][1].text\n",
        "\t#address_list.append(City)\n",
        "\t#StateCode = member[3][2].text\n",
        "\t#address_list.append(StateCode)\n",
        "\t#PostalCode = member[3][3].text\n",
        "\t#address_list.append(PostalCode)\n",
        "\t#resident.append(address_list)\n",
        "\tcsvwriter.writerow(resident)\n",
        "Resident_data.close()"
      ],
      "execution_count": 0,
      "outputs": []
    },
    {
      "cell_type": "markdown",
      "metadata": {
        "id": "qMrfipkVNcdL",
        "colab_type": "text"
      },
      "source": [
        "##Trying to convert the xml file into JSON\n"
      ]
    },
    {
      "cell_type": "code",
      "metadata": {
        "id": "A-h_LMUZC5Cg",
        "colab_type": "code",
        "colab": {}
      },
      "source": [
        "import json\n",
        "import pandas as pd\n",
        "from pandas.io.json import json_normalize \n",
        "with open('/content/drive/My Drive/Data_JSON/999.json', 'r') as f:\n",
        "    data = json.load(f)\n",
        "df_json = pd.DataFrame(data)\n",
        "df_json.transpose()\n",
        "df_norm_json = json_normalize(data \n",
        "                    )\n",
        "df_norm_json.head()\n",
        "df_norm_json.columns\n",
        "df_norm_json.drop(['eCitation.IUXRId._id', 'eCitation.MeSH.major',\n",
        "       \n",
        "       'eCitation.MedlineCitation.Article.Affiliation',\n",
        "       'eCitation.MedlineCitation.Article.ArticleDate.Day',\n",
        "       'eCitation.MedlineCitation.Article.ArticleDate.Month',\n",
        "       'eCitation.MedlineCitation.Article.ArticleDate.Year',\n",
        "       'eCitation.MedlineCitation.Article.ArticleTitle',\n",
        "       'eCitation.MedlineCitation.Article.AuthorList.Author',\n",
        "       'eCitation.MedlineCitation.Article.AuthorList._CompleteYN',\n",
        "       'eCitation.MedlineCitation.Article.Journal.JournalIssue.PubDate.Day',\n",
        "       'eCitation.MedlineCitation.Article.Journal.JournalIssue.PubDate.Month',\n",
        "       'eCitation.MedlineCitation.Article.Journal.JournalIssue.PubDate.Year',\n",
        "       'eCitation.MedlineCitation.Article.Language',\n",
        "       'eCitation.MedlineCitation.Article.PublicationTypeList.PublicationType',\n",
        "       'eCitation.MedlineCitation.Article._PubModel',\n",
        "       'eCitation.MedlineCitation.EssieArticleTitle',\n",
        "       'eCitation.MedlineCitation.IMedAuthor',\n",
        "       'eCitation.MedlineCitation._Owner', 'eCitation.MedlineCitation._Status',\n",
        "       'eCitation.articleDate', 'eCitation.articleType',\n",
        "       'eCitation.articleURL', 'eCitation.ccLicense', 'eCitation.docSource',\n",
        "       'eCitation.licenseType', 'eCitation.licenseURL', 'eCitation.meta._type',\n",
        "       \n",
        "       'eCitation.title', 'eCitation.uId._id'])\n",
        "df_norm_json.head()"
      ],
      "execution_count": 0,
      "outputs": []
    }
  ]
}