{
  "nbformat": 4,
  "nbformat_minor": 0,
  "metadata": {
    "colab": {
      "name": "Amazon_DataAnalysis.ipynb",
      "provenance": [],
      "include_colab_link": true
    },
    "kernelspec": {
      "name": "python3",
      "display_name": "Python 3"
    }
  },
  "cells": [
    {
      "cell_type": "markdown",
      "metadata": {
        "id": "view-in-github",
        "colab_type": "text"
      },
      "source": [
        "<a href=\"https://colab.research.google.com/github/VindhyaSRajan/Master-s-Thesis/blob/master/Amazon_DataAnalysis.ipynb\" target=\"_parent\"><img src=\"https://colab.research.google.com/assets/colab-badge.svg\" alt=\"Open In Colab\"/></a>"
      ]
    },
    {
      "cell_type": "code",
      "metadata": {
        "id": "iRw9mDeKyvpQ",
        "colab_type": "code",
        "colab": {
          "base_uri": "https://localhost:8080/",
          "height": 128
        },
        "outputId": "1e10b1f5-84f8-43a3-fb75-5411f14cbc85"
      },
      "source": [
        "from google.colab import drive\n",
        "drive.mount('drive')"
      ],
      "execution_count": 1,
      "outputs": [
        {
          "output_type": "stream",
          "text": [
            "Go to this URL in a browser: https://accounts.google.com/o/oauth2/auth?client_id=947318989803-6bn6qk8qdgf4n4g3pfee6491hc0brc4i.apps.googleusercontent.com&redirect_uri=urn%3Aietf%3Awg%3Aoauth%3A2.0%3Aoob&scope=email%20https%3A%2F%2Fwww.googleapis.com%2Fauth%2Fdocs.test%20https%3A%2F%2Fwww.googleapis.com%2Fauth%2Fdrive%20https%3A%2F%2Fwww.googleapis.com%2Fauth%2Fdrive.photos.readonly%20https%3A%2F%2Fwww.googleapis.com%2Fauth%2Fpeopleapi.readonly&response_type=code\n",
            "\n",
            "Enter your authorization code:\n",
            "··········\n",
            "Mounted at drive\n"
          ],
          "name": "stdout"
        }
      ]
    },
    {
      "cell_type": "code",
      "metadata": {
        "id": "kF6RxB4Ky5Qs",
        "colab_type": "code",
        "colab": {
          "resources": {
            "http://localhost:8080/nbextensions/google.colab/files.js": {
              "data": "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",
              "ok": true,
              "headers": [
                [
                  "content-type",
                  "application/javascript"
                ]
              ],
              "status": 200,
              "status_text": ""
            }
          },
          "base_uri": "https://localhost:8080/",
          "height": 93
        },
        "outputId": "b91d14df-ee59-4a76-93b0-a80c0c40d97b"
      },
      "source": [
        "from google.colab import files\n",
        "\n",
        "uploaded = files.upload()\n",
        "\n",
        "for fn in uploaded.keys():\n",
        "  print('User uploaded file \"{name}\" with length {length} bytes'.format(\n",
        "      name=fn, length=len(uploaded[fn])))"
      ],
      "execution_count": 3,
      "outputs": [
        {
          "output_type": "display_data",
          "data": {
            "text/html": [
              "\n",
              "     <input type=\"file\" id=\"files-43d6adf9-906e-443f-a421-f5a03beaa2a7\" name=\"files[]\" multiple disabled />\n",
              "     <output id=\"result-43d6adf9-906e-443f-a421-f5a03beaa2a7\">\n",
              "      Upload widget is only available when the cell has been executed in the\n",
              "      current browser session. Please rerun this cell to enable.\n",
              "      </output>\n",
              "      <script src=\"/nbextensions/google.colab/files.js\"></script> "
            ],
            "text/plain": [
              "<IPython.core.display.HTML object>"
            ]
          },
          "metadata": {
            "tags": []
          }
        },
        {
          "output_type": "stream",
          "text": [
            "Saving reviews_Patio_Lawn_and_Garden.json.gz to reviews_Patio_Lawn_and_Garden.json.gz\n",
            "User uploaded file \"reviews_Patio_Lawn_and_Garden.json.gz\" with length 199689225 bytes\n"
          ],
          "name": "stdout"
        }
      ]
    },
    {
      "cell_type": "code",
      "metadata": {
        "id": "-N5fneIYzWNw",
        "colab_type": "code",
        "colab": {
          "base_uri": "https://localhost:8080/",
          "height": 54
        },
        "outputId": "e7075095-5efb-4c5e-d949-3d7730dec4ec"
      },
      "source": [
        "#!pip install -U turicreate\n",
        "#!pip install graphlab-create"
      ],
      "execution_count": 7,
      "outputs": [
        {
          "output_type": "stream",
          "text": [
            "\u001b[31mERROR: Could not find a version that satisfies the requirement graphlab-create (from versions: none)\u001b[0m\n",
            "\u001b[31mERROR: No matching distribution found for graphlab-create\u001b[0m\n"
          ],
          "name": "stdout"
        }
      ]
    },
    {
      "cell_type": "code",
      "metadata": {
        "id": "dTWM0EPgy8Uq",
        "colab_type": "code",
        "colab": {}
      },
      "source": [
        "import pandas as pd\n",
        "import gzip\n",
        "import turicreate as tc\n",
        "\n",
        "def parse(path):\n",
        "  g = gzip.open(path, 'rb')\n",
        "  for l in g:\n",
        "    yield eval(l)\n",
        "\n",
        "def getDF(path):\n",
        "  i = 0\n",
        "  df = {}\n",
        "  for d in parse(path):\n",
        "    df[i] = d\n",
        "    i += 1\n",
        "  return pd.DataFrame.from_dict(df, orient='index')\n"
      ],
      "execution_count": 0,
      "outputs": []
    },
    {
      "cell_type": "code",
      "metadata": {
        "id": "SC880sl7y8b_",
        "colab_type": "code",
        "colab": {
          "base_uri": "https://localhost:8080/",
          "height": 285
        },
        "outputId": "32c567d4-f55f-42ff-922f-2ca8d897f7b6"
      },
      "source": [
        "df = getDF('/content/reviews_Patio_Lawn_and_Garden.json.gz')\n",
        "df.head()"
      ],
      "execution_count": 9,
      "outputs": [
        {
          "output_type": "execute_result",
          "data": {
            "text/html": [
              "<div>\n",
              "<style scoped>\n",
              "    .dataframe tbody tr th:only-of-type {\n",
              "        vertical-align: middle;\n",
              "    }\n",
              "\n",
              "    .dataframe tbody tr th {\n",
              "        vertical-align: top;\n",
              "    }\n",
              "\n",
              "    .dataframe thead th {\n",
              "        text-align: right;\n",
              "    }\n",
              "</style>\n",
              "<table border=\"1\" class=\"dataframe\">\n",
              "  <thead>\n",
              "    <tr style=\"text-align: right;\">\n",
              "      <th></th>\n",
              "      <th>reviewerID</th>\n",
              "      <th>asin</th>\n",
              "      <th>reviewerName</th>\n",
              "      <th>helpful</th>\n",
              "      <th>reviewText</th>\n",
              "      <th>overall</th>\n",
              "      <th>summary</th>\n",
              "      <th>unixReviewTime</th>\n",
              "      <th>reviewTime</th>\n",
              "    </tr>\n",
              "  </thead>\n",
              "  <tbody>\n",
              "    <tr>\n",
              "      <th>0</th>\n",
              "      <td>A2VNYWOPJ13AFP</td>\n",
              "      <td>0981850006</td>\n",
              "      <td>Amazon Customer \"carringt0n\"</td>\n",
              "      <td>[6, 7]</td>\n",
              "      <td>This was a gift for my other husband.  He's ma...</td>\n",
              "      <td>5.0</td>\n",
              "      <td>Delish</td>\n",
              "      <td>1259798400</td>\n",
              "      <td>12 3, 2009</td>\n",
              "    </tr>\n",
              "    <tr>\n",
              "      <th>1</th>\n",
              "      <td>A20DWVV8HML3AW</td>\n",
              "      <td>0981850006</td>\n",
              "      <td>Cyndy</td>\n",
              "      <td>[0, 0]</td>\n",
              "      <td>My husband rarely asks for anything specific, ...</td>\n",
              "      <td>5.0</td>\n",
              "      <td>Just what my husband wanted</td>\n",
              "      <td>1371081600</td>\n",
              "      <td>06 13, 2013</td>\n",
              "    </tr>\n",
              "    <tr>\n",
              "      <th>2</th>\n",
              "      <td>A3RVP3YBYYOPRH</td>\n",
              "      <td>0981850006</td>\n",
              "      <td>John Warren</td>\n",
              "      <td>[9, 11]</td>\n",
              "      <td>This guy knows his stuff. I love the seriously...</td>\n",
              "      <td>5.0</td>\n",
              "      <td>Love This Show!</td>\n",
              "      <td>1257984000</td>\n",
              "      <td>11 12, 2009</td>\n",
              "    </tr>\n",
              "    <tr>\n",
              "      <th>3</th>\n",
              "      <td>A28XY55TP3Q90O</td>\n",
              "      <td>0981850006</td>\n",
              "      <td>JSG \"Lover of Learning\"</td>\n",
              "      <td>[1, 1]</td>\n",
              "      <td>THIS CAN BE FOUND AT: [...] FOR $19.99, also a...</td>\n",
              "      <td>5.0</td>\n",
              "      <td>BUY ELSEWHERE, TOO EXPENSIVE</td>\n",
              "      <td>1314144000</td>\n",
              "      <td>08 24, 2011</td>\n",
              "    </tr>\n",
              "    <tr>\n",
              "      <th>4</th>\n",
              "      <td>A3VZW1BGUQO0V3</td>\n",
              "      <td>0981850006</td>\n",
              "      <td>Marc G. Belisle \"Allswell2001\"</td>\n",
              "      <td>[2, 2]</td>\n",
              "      <td>Quite good particularly for inspiration (DVD g...</td>\n",
              "      <td>5.0</td>\n",
              "      <td>Quite good but I *much* prefer the cookbooks</td>\n",
              "      <td>1308268800</td>\n",
              "      <td>06 17, 2011</td>\n",
              "    </tr>\n",
              "  </tbody>\n",
              "</table>\n",
              "</div>"
            ],
            "text/plain": [
              "       reviewerID        asin  ... unixReviewTime   reviewTime\n",
              "0  A2VNYWOPJ13AFP  0981850006  ...     1259798400   12 3, 2009\n",
              "1  A20DWVV8HML3AW  0981850006  ...     1371081600  06 13, 2013\n",
              "2  A3RVP3YBYYOPRH  0981850006  ...     1257984000  11 12, 2009\n",
              "3  A28XY55TP3Q90O  0981850006  ...     1314144000  08 24, 2011\n",
              "4  A3VZW1BGUQO0V3  0981850006  ...     1308268800  06 17, 2011\n",
              "\n",
              "[5 rows x 9 columns]"
            ]
          },
          "metadata": {
            "tags": []
          },
          "execution_count": 9
        }
      ]
    },
    {
      "cell_type": "code",
      "metadata": {
        "id": "f5KW_2_7KeUk",
        "colab_type": "code",
        "colab": {
          "base_uri": "https://localhost:8080/",
          "height": 35
        },
        "outputId": "72c07ccc-eaa2-4907-d7b7-312e59632cd7"
      },
      "source": [
        "df.to_csv('reviews_Patio_Lawn_And_Garden.csv', index = False)\n",
        "df.shape\n",
        "df.columns\n",
        "type(df)"
      ],
      "execution_count": 18,
      "outputs": [
        {
          "output_type": "execute_result",
          "data": {
            "text/plain": [
              "pandas.core.frame.DataFrame"
            ]
          },
          "metadata": {
            "tags": []
          },
          "execution_count": 18
        }
      ]
    },
    {
      "cell_type": "code",
      "metadata": {
        "id": "ZLuvwjX4NFGb",
        "colab_type": "code",
        "colab": {
          "base_uri": "https://localhost:8080/",
          "height": 1000
        },
        "outputId": "36d2a6a9-4f6b-440d-a47a-e80b2e668d71"
      },
      "source": [
        "turicate_df = tc.SFrame.read_csv(\"/content/reviews_Patio_Lawn_And_Garden.csv\")"
      ],
      "execution_count": 21,
      "outputs": [
        {
          "output_type": "display_data",
          "data": {
            "text/html": [
              "<pre>Unexpected characters after last column. \"\"I bought an axe at my local hardware store, and it would stick in the wood as I tried splitting it, and it was SUCH a pain to get it out. Yeah, it was dull. I wanted something better, and I wanted a splitting axe.I searched amazon, and saw that this Fiskars axe had a 5 star rating, which is always attractive. I read the reviews, and was VERY skeptical. I just could not believe the axe was really that good... So I went to youtube, and sure enough there was a video of a guy splitting with this axe. He was splitting like butter, I could not believe my eyes. I placed my order and waited patiently.I got it, and WoW!!!I can't believe how well this axe splits wood... it has totally made splitting wood fun, because I can do so much more than the crappy axe I had before.I've never been more sure of anything that this axe, and I would recommend it for everyone!\"\"\n",
              "Parse failed at token ending at: \n",
              "\thing that this axe, and I would recommend it for everyone!\",\u001b[1;31m^\u001b[0m5.0,It is the Real Deal!,1283212800,\"08 31, 2010\n",
              "Successfully parsed 10 tokens: \n",
              "\t0: A10QLNVP8HVMGM\n",
              "\t1: B00004SD7B\n",
              "\t2: EJ Truth\n",
              "\t3: [12 34]\n",
              "\t4: let the tr ... 322352000,\n",
              "\t5: 2011\"\n",
              "\t6: False\n",
              "A7VAKV3UOS96X\n",
              "\t7: B00004SD7B\n",
              "\t8: eknal \"L\"\n",
              "\t9: [1 1]</pre>"
            ],
            "text/plain": [
              "Unexpected characters after last column. \"\"I bought an axe at my local hardware store, and it would stick in the wood as I tried splitting it, and it was SUCH a pain to get it out. Yeah, it was dull. I wanted something better, and I wanted a splitting axe.I searched amazon, and saw that this Fiskars axe had a 5 star rating, which is always attractive. I read the reviews, and was VERY skeptical. I just could not believe the axe was really that good... So I went to youtube, and sure enough there was a video of a guy splitting with this axe. He was splitting like butter, I could not believe my eyes. I placed my order and waited patiently.I got it, and WoW!!!I can't believe how well this axe splits wood... it has totally made splitting wood fun, because I can do so much more than the crappy axe I had before.I've never been more sure of anything that this axe, and I would recommend it for everyone!\"\"\n",
              "Parse failed at token ending at: \n",
              "\thing that this axe, and I would recommend it for everyone!\",\u001b[1;31m^\u001b[0m5.0,It is the Real Deal!,1283212800,\"08 31, 2010\n",
              "Successfully parsed 10 tokens: \n",
              "\t0: A10QLNVP8HVMGM\n",
              "\t1: B00004SD7B\n",
              "\t2: EJ Truth\n",
              "\t3: [12 34]\n",
              "\t4: let the tr ... 322352000,\n",
              "\t5: 2011\"\n",
              "\t6: False\n",
              "A7VAKV3UOS96X\n",
              "\t7: B00004SD7B\n",
              "\t8: eknal \"L\"\n",
              "\t9: [1 1]"
            ]
          },
          "metadata": {
            "tags": []
          }
        },
        {
          "output_type": "display_data",
          "data": {
            "text/html": [
              "<pre>1 lines failed to parse correctly</pre>"
            ],
            "text/plain": [
              "1 lines failed to parse correctly"
            ]
          },
          "metadata": {
            "tags": []
          }
        },
        {
          "output_type": "display_data",
          "data": {
            "text/html": [
              "<pre>Finished parsing file /content/reviews_Patio_Lawn_And_Garden.csv</pre>"
            ],
            "text/plain": [
              "Finished parsing file /content/reviews_Patio_Lawn_And_Garden.csv"
            ]
          },
          "metadata": {
            "tags": []
          }
        },
        {
          "output_type": "display_data",
          "data": {
            "text/html": [
              "<pre>Parsing completed. Parsed 100 lines in 1.22395 secs.</pre>"
            ],
            "text/plain": [
              "Parsing completed. Parsed 100 lines in 1.22395 secs."
            ]
          },
          "metadata": {
            "tags": []
          }
        },
        {
          "output_type": "stream",
          "text": [
            "------------------------------------------------------\n",
            "Inferred types from first 100 line(s) of file as \n",
            "column_type_hints=[str,str,str,array,str,float,str,int,str,str]\n",
            "If parsing fails due to incorrect types, you can correct\n",
            "the inferred type list above and pass it to read_csv in\n",
            "the column_type_hints argument\n",
            "------------------------------------------------------\n"
          ],
          "name": "stdout"
        },
        {
          "output_type": "display_data",
          "data": {
            "text/html": [
              "<pre>Unable to interpret \"B00004SD7B\" as a integer\n",
              "Parse failed at token ending at: \n",
              "\ty!!,1322352000,\"11 27, 2011\",False\n",
              "A7VAKV3UOS96X,B00004SD7B,\u001b[1;31m^\u001b[0m\"eknal \"\"L\"\"\",\"[1, 1]\",\"I bought an axe at my lo\n",
              "Successfully parsed 7 tokens: \n",
              "\t0: A10QLNVP8HVMGM\n",
              "\t1: B00004SD7B\n",
              "\t2: EJ Truth\n",
              "\t3: [12 34]\n",
              "\t4: \"let the t ... 000,\"11 27\n",
              "\t5: 2011\n",
              "\t6: False\n",
              "A7VAKV3UOS96X</pre>"
            ],
            "text/plain": [
              "Unable to interpret \"B00004SD7B\" as a integer\n",
              "Parse failed at token ending at: \n",
              "\ty!!,1322352000,\"11 27, 2011\",False\n",
              "A7VAKV3UOS96X,B00004SD7B,\u001b[1;31m^\u001b[0m\"eknal \"\"L\"\"\",\"[1, 1]\",\"I bought an axe at my lo\n",
              "Successfully parsed 7 tokens: \n",
              "\t0: A10QLNVP8HVMGM\n",
              "\t1: B00004SD7B\n",
              "\t2: EJ Truth\n",
              "\t3: [12 34]\n",
              "\t4: \"let the t ... 000,\"11 27\n",
              "\t5: 2011\n",
              "\t6: False\n",
              "A7VAKV3UOS96X"
            ]
          },
          "metadata": {
            "tags": []
          }
        },
        {
          "output_type": "display_data",
          "data": {
            "text/html": [
              "<pre>Unable to interpret \"1]\"\" as a array\n",
              "Parse failed at token ending at: \n",
              "\tA2UT71E4AT07YW,B000B9P0UK,\"coast critic \"\"\\\"\"\",\"[0, 1]\",\u001b[1;31m^\u001b[0m\"The polywire works fine and the price is very g\n",
              "Successfully parsed 3 tokens: \n",
              "\t0: A2UT71E4AT07YW\n",
              "\t1: B000B9P0UK\n",
              "\t2: \"coast cri ... \"\"\\\"\"\",\"[0</pre>"
            ],
            "text/plain": [
              "Unable to interpret \"1]\"\" as a array\n",
              "Parse failed at token ending at: \n",
              "\tA2UT71E4AT07YW,B000B9P0UK,\"coast critic \"\"\\\"\"\",\"[0, 1]\",\u001b[1;31m^\u001b[0m\"The polywire works fine and the price is very g\n",
              "Successfully parsed 3 tokens: \n",
              "\t0: A2UT71E4AT07YW\n",
              "\t1: B000B9P0UK\n",
              "\t2: \"coast cri ... \"\"\\\"\"\",\"[0"
            ]
          },
          "metadata": {
            "tags": []
          }
        },
        {
          "output_type": "display_data",
          "data": {
            "text/html": [
              "<pre>Read 80887 lines. Lines per second: 65650.2</pre>"
            ],
            "text/plain": [
              "Read 80887 lines. Lines per second: 65650.2"
            ]
          },
          "metadata": {
            "tags": []
          }
        },
        {
          "output_type": "display_data",
          "data": {
            "text/html": [
              "<pre>Unable to interpret \"B000EADFYE\" as a integer\n",
              "Parse failed at token ending at: \n",
              "\t-(,1345766400,\"08 24, 2012\",False\n",
              "A18NQM9J5VUX86,B000EADFYE,\u001b[1;31m^\u001b[0mConstant  Reader,\"[0, 0]\",Used for about 6 weeks\n",
              "Successfully parsed 7 tokens: \n",
              "\t0: A2Y451Y6PO5830\n",
              "\t1: B000EADFYE\n",
              "\t2: Claudia Hosky\n",
              "\t3: [0 0]\n",
              "\t4: \"After wat ... 400,\"08 24\n",
              "\t5: 2012\n",
              "\t6: False\n",
              "A18NQM9J5VUX86</pre>"
            ],
            "text/plain": [
              "Unable to interpret \"B000EADFYE\" as a integer\n",
              "Parse failed at token ending at: \n",
              "\t-(,1345766400,\"08 24, 2012\",False\n",
              "A18NQM9J5VUX86,B000EADFYE,\u001b[1;31m^\u001b[0mConstant  Reader,\"[0, 0]\",Used for about 6 weeks\n",
              "Successfully parsed 7 tokens: \n",
              "\t0: A2Y451Y6PO5830\n",
              "\t1: B000EADFYE\n",
              "\t2: Claudia Hosky\n",
              "\t3: [0 0]\n",
              "\t4: \"After wat ... 400,\"08 24\n",
              "\t5: 2012\n",
              "\t6: False\n",
              "A18NQM9J5VUX86"
            ]
          },
          "metadata": {
            "tags": []
          }
        },
        {
          "output_type": "display_data",
          "data": {
            "text/html": [
              "<pre>Unable to interpret \"5.0\" as a array\n",
              "Parse failed at token ending at: \n",
              "\tut as a kid...Anyway, I digress.Buy it you'll like it.\",5.0,\u001b[1;31m^\u001b[0mBest Indoor Fly Trap made,1218499200,\"08 12, 200\n",
              "Successfully parsed 3 tokens: \n",
              "\t0: A young re ... ed Mar...\"\n",
              "\t1: [8, 8]\n",
              "\t2: It is conc ... l like it.</pre>"
            ],
            "text/plain": [
              "Unable to interpret \"5.0\" as a array\n",
              "Parse failed at token ending at: \n",
              "\tut as a kid...Anyway, I digress.Buy it you'll like it.\",5.0,\u001b[1;31m^\u001b[0mBest Indoor Fly Trap made,1218499200,\"08 12, 200\n",
              "Successfully parsed 3 tokens: \n",
              "\t0: A young re ... ed Mar...\"\n",
              "\t1: [8, 8]\n",
              "\t2: It is conc ... l like it."
            ]
          },
          "metadata": {
            "tags": []
          }
        },
        {
          "output_type": "display_data",
          "data": {
            "text/html": [
              "<pre>Unable to interpret \"B000WB13QC\" as a integer\n",
              "Parse failed at token ending at: \n",
              "\tll!,1343433600,\"07 28, 2012\",False\n",
              "AVJWESQJJN6GQ,B000WB13QC,\u001b[1;31m^\u001b[0mC. Cox,\"[0, 0]\",This is the best little mouse tr\n",
              "Successfully parsed 7 tokens: \n",
              "\t0: A9Y70VN7AHQMT\n",
              "\t1: B000WB13QC\n",
              "\t2: C. Costa \" ... thusiast!\"\n",
              "\t3: [0 0]\n",
              "\t4: \"I'm reall ... 600,\"07 28\n",
              "\t5: 2012\n",
              "\t6: False\n",
              "AVJWESQJJN6GQ</pre>"
            ],
            "text/plain": [
              "Unable to interpret \"B000WB13QC\" as a integer\n",
              "Parse failed at token ending at: \n",
              "\tll!,1343433600,\"07 28, 2012\",False\n",
              "AVJWESQJJN6GQ,B000WB13QC,\u001b[1;31m^\u001b[0mC. Cox,\"[0, 0]\",This is the best little mouse tr\n",
              "Successfully parsed 7 tokens: \n",
              "\t0: A9Y70VN7AHQMT\n",
              "\t1: B000WB13QC\n",
              "\t2: C. Costa \" ... thusiast!\"\n",
              "\t3: [0 0]\n",
              "\t4: \"I'm reall ... 600,\"07 28\n",
              "\t5: 2012\n",
              "\t6: False\n",
              "AVJWESQJJN6GQ"
            ]
          },
          "metadata": {
            "tags": []
          }
        },
        {
          "output_type": "display_data",
          "data": {
            "text/html": [
              "<pre>Unable to interpret \"B001QOGN82\" as a integer\n",
              "Parse failed at token ending at: \n",
              "\tine,1308787200,\"06 23, 2011\",True\n",
              "A3R2T6JDDLS89V,B001QOGN82,\u001b[1;31m^\u001b[0man_amazon_shopper_like_you,\"[1, 1]\",\"Our pool is\n",
              "Successfully parsed 7 tokens: \n",
              "\t0: A34AAMDOJ53S1Z\n",
              "\t1: B001QOGN82\n",
              "\t2: Amber Christenson\n",
              "\t3: [0 0]\n",
              "\t4: \"We just a ... 200,\"06 23\n",
              "\t5: 2011\n",
              "\t6: True\n",
              "A3R2T6JDDLS89V</pre>"
            ],
            "text/plain": [
              "Unable to interpret \"B001QOGN82\" as a integer\n",
              "Parse failed at token ending at: \n",
              "\tine,1308787200,\"06 23, 2011\",True\n",
              "A3R2T6JDDLS89V,B001QOGN82,\u001b[1;31m^\u001b[0man_amazon_shopper_like_you,\"[1, 1]\",\"Our pool is\n",
              "Successfully parsed 7 tokens: \n",
              "\t0: A34AAMDOJ53S1Z\n",
              "\t1: B001QOGN82\n",
              "\t2: Amber Christenson\n",
              "\t3: [0 0]\n",
              "\t4: \"We just a ... 200,\"06 23\n",
              "\t5: 2011\n",
              "\t6: True\n",
              "A3R2T6JDDLS89V"
            ]
          },
          "metadata": {
            "tags": []
          }
        },
        {
          "output_type": "display_data",
          "data": {
            "text/html": [
              "<pre>Unable to interpret \"B005F5FY9M\" as a integer\n",
              "Parse failed at token ending at: \n",
              "\tet.,1386547200,\"12 9, 2013\",False\n",
              "A2JXPHZORW26IF,B005F5FY9M,\u001b[1;31m^\u001b[0moldlendog,\"[0, 0]\",These cranes are really nice \n",
              "Successfully parsed 7 tokens: \n",
              "\t0: A2FJEYWA48OXAL\n",
              "\t1: B005F5FY9M\n",
              "\t2: M Hopper\n",
              "\t3: [1 1]\n",
              "\t4: \"Judging b ... 7200,\"12 9\n",
              "\t5: 2013\n",
              "\t6: False\n",
              "A2JXPHZORW26IF</pre>"
            ],
            "text/plain": [
              "Unable to interpret \"B005F5FY9M\" as a integer\n",
              "Parse failed at token ending at: \n",
              "\tet.,1386547200,\"12 9, 2013\",False\n",
              "A2JXPHZORW26IF,B005F5FY9M,\u001b[1;31m^\u001b[0moldlendog,\"[0, 0]\",These cranes are really nice \n",
              "Successfully parsed 7 tokens: \n",
              "\t0: A2FJEYWA48OXAL\n",
              "\t1: B005F5FY9M\n",
              "\t2: M Hopper\n",
              "\t3: [1 1]\n",
              "\t4: \"Judging b ... 7200,\"12 9\n",
              "\t5: 2013\n",
              "\t6: False\n",
              "A2JXPHZORW26IF"
            ]
          },
          "metadata": {
            "tags": []
          }
        },
        {
          "output_type": "display_data",
          "data": {
            "text/html": [
              "<pre>Unable to interpret \"5.0\" as a array\n",
              "Parse failed at token ending at: \n",
              "\t, a milk box crate & bungee cords and it did the trick\",5.0,\u001b[1;31m^\u001b[0m\"I bought it to make a rolling file box out of t\n",
              "Successfully parsed 3 tokens: \n",
              "\t0: with var...\"\n",
              "\t1: [3, 3]\n",
              "\t2: I bought i ...  the trick</pre>"
            ],
            "text/plain": [
              "Unable to interpret \"5.0\" as a array\n",
              "Parse failed at token ending at: \n",
              "\t, a milk box crate & bungee cords and it did the trick\",5.0,\u001b[1;31m^\u001b[0m\"I bought it to make a rolling file box out of t\n",
              "Successfully parsed 3 tokens: \n",
              "\t0: with var...\"\n",
              "\t1: [3, 3]\n",
              "\t2: I bought i ...  the trick"
            ]
          },
          "metadata": {
            "tags": []
          }
        },
        {
          "output_type": "display_data",
          "data": {
            "text/html": [
              "<pre>Unable to interpret \"5.0\" as a array\n",
              "Parse failed at token ending at: \n",
              "\t.As advertised. delivered on time and at a great price.,5.0,\u001b[1;31m^\u001b[0mdid the trick,1400544000,\"05 20, 2014\",True\n",
              "A33G\n",
              "Successfully parsed 3 tokens: \n",
              "\t0: Steven Ki...\"\n",
              "\t1: [0, 0]\n",
              "\t2: Perfect re ... eat price.</pre>"
            ],
            "text/plain": [
              "Unable to interpret \"5.0\" as a array\n",
              "Parse failed at token ending at: \n",
              "\t.As advertised. delivered on time and at a great price.,5.0,\u001b[1;31m^\u001b[0mdid the trick,1400544000,\"05 20, 2014\",True\n",
              "A33G\n",
              "Successfully parsed 3 tokens: \n",
              "\t0: Steven Ki...\"\n",
              "\t1: [0, 0]\n",
              "\t2: Perfect re ... eat price."
            ]
          },
          "metadata": {
            "tags": []
          }
        },
        {
          "output_type": "display_data",
          "data": {
            "text/html": [
              "<pre>Unable to interpret \"B009YZ5RKK\" as a integer\n",
              "Parse failed at token ending at: \n",
              "\ting,1371513600,\"06 18, 2013\",True\n",
              "A2O38CKO366VDQ,B009YZ5RKK,\u001b[1;31m^\u001b[0mc jansen,\"[1, 1]\",\"An easy, inexpensive solution\n",
              "Successfully parsed 7 tokens: \n",
              "\t0: A1QJ1FE8A5NATP\n",
              "\t1: B009YZ5RKK\n",
              "\t2: AIU3910\n",
              "\t3: [5 5]\n",
              "\t4: \"Works ver ... 600,\"06 18\n",
              "\t5: 2013\n",
              "\t6: True\n",
              "A2O38CKO366VDQ</pre>"
            ],
            "text/plain": [
              "Unable to interpret \"B009YZ5RKK\" as a integer\n",
              "Parse failed at token ending at: \n",
              "\ting,1371513600,\"06 18, 2013\",True\n",
              "A2O38CKO366VDQ,B009YZ5RKK,\u001b[1;31m^\u001b[0mc jansen,\"[1, 1]\",\"An easy, inexpensive solution\n",
              "Successfully parsed 7 tokens: \n",
              "\t0: A1QJ1FE8A5NATP\n",
              "\t1: B009YZ5RKK\n",
              "\t2: AIU3910\n",
              "\t3: [5 5]\n",
              "\t4: \"Works ver ... 600,\"06 18\n",
              "\t5: 2013\n",
              "\t6: True\n",
              "A2O38CKO366VDQ"
            ]
          },
          "metadata": {
            "tags": []
          }
        },
        {
          "output_type": "display_data",
          "data": {
            "text/html": [
              "<pre>13 lines failed to parse correctly</pre>"
            ],
            "text/plain": [
              "13 lines failed to parse correctly"
            ]
          },
          "metadata": {
            "tags": []
          }
        },
        {
          "output_type": "display_data",
          "data": {
            "text/html": [
              "<pre>Finished parsing file /content/reviews_Patio_Lawn_And_Garden.csv</pre>"
            ],
            "text/plain": [
              "Finished parsing file /content/reviews_Patio_Lawn_And_Garden.csv"
            ]
          },
          "metadata": {
            "tags": []
          }
        },
        {
          "output_type": "display_data",
          "data": {
            "text/html": [
              "<pre>Parsing completed. Parsed 503271 lines in 5.29297 secs.</pre>"
            ],
            "text/plain": [
              "Parsing completed. Parsed 503271 lines in 5.29297 secs."
            ]
          },
          "metadata": {
            "tags": []
          }
        }
      ]
    },
    {
      "cell_type": "code",
      "metadata": {
        "id": "i7-7tXvKy8fS",
        "colab_type": "code",
        "colab": {}
      },
      "source": [
        "turicate_df['wordcount'] = tc.text_analytics.count_words(turicate_df['reviewText'])"
      ],
      "execution_count": 0,
      "outputs": []
    },
    {
      "cell_type": "code",
      "metadata": {
        "id": "FpbP3L4Qy8Zr",
        "colab_type": "code",
        "colab": {
          "base_uri": "https://localhost:8080/",
          "height": 804
        },
        "outputId": "1f76945f-79c2-4605-e174-39de41f80531"
      },
      "source": [
        "turicate_df = turicate_df[turicate_df['overall'] !=3.0]\n",
        "turicate_df['binrating'] = turicate_df['overall'] >= 4.0\n",
        "turicate_df.head()\n"
      ],
      "execution_count": 24,
      "outputs": [
        {
          "output_type": "execute_result",
          "data": {
            "text/html": [
              "<div style=\"max-height:1000px;max-width:1500px;overflow:auto;\"><table frame=\"box\" rules=\"cols\">\n",
              "    <tr>\n",
              "        <th style=\"padding-left: 1em; padding-right: 1em; text-align: center\">reviewerID</th>\n",
              "        <th style=\"padding-left: 1em; padding-right: 1em; text-align: center\">asin</th>\n",
              "        <th style=\"padding-left: 1em; padding-right: 1em; text-align: center\">reviewerName</th>\n",
              "        <th style=\"padding-left: 1em; padding-right: 1em; text-align: center\">helpful</th>\n",
              "        <th style=\"padding-left: 1em; padding-right: 1em; text-align: center\">reviewText</th>\n",
              "        <th style=\"padding-left: 1em; padding-right: 1em; text-align: center\">overall</th>\n",
              "    </tr>\n",
              "    <tr>\n",
              "        <td style=\"padding-left: 1em; padding-right: 1em; text-align: center; vertical-align: top\">A2VNYWOPJ13AFP</td>\n",
              "        <td style=\"padding-left: 1em; padding-right: 1em; text-align: center; vertical-align: top\">0981850006</td>\n",
              "        <td style=\"padding-left: 1em; padding-right: 1em; text-align: center; vertical-align: top\">Amazon Customer<br>&quot;carringt0n&quot; ...</td>\n",
              "        <td style=\"padding-left: 1em; padding-right: 1em; text-align: center; vertical-align: top\">[6.0, 7.0]</td>\n",
              "        <td style=\"padding-left: 1em; padding-right: 1em; text-align: center; vertical-align: top\">This was a gift for my<br>other husband.  He&#x27;s ...</td>\n",
              "        <td style=\"padding-left: 1em; padding-right: 1em; text-align: center; vertical-align: top\">5.0</td>\n",
              "    </tr>\n",
              "    <tr>\n",
              "        <td style=\"padding-left: 1em; padding-right: 1em; text-align: center; vertical-align: top\">A20DWVV8HML3AW</td>\n",
              "        <td style=\"padding-left: 1em; padding-right: 1em; text-align: center; vertical-align: top\">0981850006</td>\n",
              "        <td style=\"padding-left: 1em; padding-right: 1em; text-align: center; vertical-align: top\">Cyndy</td>\n",
              "        <td style=\"padding-left: 1em; padding-right: 1em; text-align: center; vertical-align: top\">[0.0, 0.0]</td>\n",
              "        <td style=\"padding-left: 1em; padding-right: 1em; text-align: center; vertical-align: top\">My husband rarely asks<br>for anything specific, ...</td>\n",
              "        <td style=\"padding-left: 1em; padding-right: 1em; text-align: center; vertical-align: top\">5.0</td>\n",
              "    </tr>\n",
              "    <tr>\n",
              "        <td style=\"padding-left: 1em; padding-right: 1em; text-align: center; vertical-align: top\">A3RVP3YBYYOPRH</td>\n",
              "        <td style=\"padding-left: 1em; padding-right: 1em; text-align: center; vertical-align: top\">0981850006</td>\n",
              "        <td style=\"padding-left: 1em; padding-right: 1em; text-align: center; vertical-align: top\">John Warren</td>\n",
              "        <td style=\"padding-left: 1em; padding-right: 1em; text-align: center; vertical-align: top\">[9.0, 11.0]</td>\n",
              "        <td style=\"padding-left: 1em; padding-right: 1em; text-align: center; vertical-align: top\">This guy knows his stuff.<br>I love the seriously  ...</td>\n",
              "        <td style=\"padding-left: 1em; padding-right: 1em; text-align: center; vertical-align: top\">5.0</td>\n",
              "    </tr>\n",
              "    <tr>\n",
              "        <td style=\"padding-left: 1em; padding-right: 1em; text-align: center; vertical-align: top\">A28XY55TP3Q90O</td>\n",
              "        <td style=\"padding-left: 1em; padding-right: 1em; text-align: center; vertical-align: top\">0981850006</td>\n",
              "        <td style=\"padding-left: 1em; padding-right: 1em; text-align: center; vertical-align: top\">JSG &quot;Lover of Learning&quot;</td>\n",
              "        <td style=\"padding-left: 1em; padding-right: 1em; text-align: center; vertical-align: top\">[1.0, 1.0]</td>\n",
              "        <td style=\"padding-left: 1em; padding-right: 1em; text-align: center; vertical-align: top\">THIS CAN BE FOUND AT:<br>[...] FOR $19.99, als ...</td>\n",
              "        <td style=\"padding-left: 1em; padding-right: 1em; text-align: center; vertical-align: top\">5.0</td>\n",
              "    </tr>\n",
              "    <tr>\n",
              "        <td style=\"padding-left: 1em; padding-right: 1em; text-align: center; vertical-align: top\">A3VZW1BGUQO0V3</td>\n",
              "        <td style=\"padding-left: 1em; padding-right: 1em; text-align: center; vertical-align: top\">0981850006</td>\n",
              "        <td style=\"padding-left: 1em; padding-right: 1em; text-align: center; vertical-align: top\">Marc G. Belisle<br>&quot;Allswell2001&quot; ...</td>\n",
              "        <td style=\"padding-left: 1em; padding-right: 1em; text-align: center; vertical-align: top\">[2.0, 2.0]</td>\n",
              "        <td style=\"padding-left: 1em; padding-right: 1em; text-align: center; vertical-align: top\">Quite good particularly<br>for inspiration (DVD ...</td>\n",
              "        <td style=\"padding-left: 1em; padding-right: 1em; text-align: center; vertical-align: top\">5.0</td>\n",
              "    </tr>\n",
              "    <tr>\n",
              "        <td style=\"padding-left: 1em; padding-right: 1em; text-align: center; vertical-align: top\">A2R9T5D7UVQZB0</td>\n",
              "        <td style=\"padding-left: 1em; padding-right: 1em; text-align: center; vertical-align: top\">0981850006</td>\n",
              "        <td style=\"padding-left: 1em; padding-right: 1em; text-align: center; vertical-align: top\">S. Samaras</td>\n",
              "        <td style=\"padding-left: 1em; padding-right: 1em; text-align: center; vertical-align: top\">[6.0, 8.0]</td>\n",
              "        <td style=\"padding-left: 1em; padding-right: 1em; text-align: center; vertical-align: top\">The DVD is very useful<br>and very detailed and ...</td>\n",
              "        <td style=\"padding-left: 1em; padding-right: 1em; text-align: center; vertical-align: top\">5.0</td>\n",
              "    </tr>\n",
              "    <tr>\n",
              "        <td style=\"padding-left: 1em; padding-right: 1em; text-align: center; vertical-align: top\">A2MH49GAEWEI95</td>\n",
              "        <td style=\"padding-left: 1em; padding-right: 1em; text-align: center; vertical-align: top\">0981850006</td>\n",
              "        <td style=\"padding-left: 1em; padding-right: 1em; text-align: center; vertical-align: top\">Thomas O.</td>\n",
              "        <td style=\"padding-left: 1em; padding-right: 1em; text-align: center; vertical-align: top\">[0.0, 0.0]</td>\n",
              "        <td style=\"padding-left: 1em; padding-right: 1em; text-align: center; vertical-align: top\">Have learned to use my<br>grill for making many ...</td>\n",
              "        <td style=\"padding-left: 1em; padding-right: 1em; text-align: center; vertical-align: top\">5.0</td>\n",
              "    </tr>\n",
              "    <tr>\n",
              "        <td style=\"padding-left: 1em; padding-right: 1em; text-align: center; vertical-align: top\">AR5DPX4ZU3D4Z</td>\n",
              "        <td style=\"padding-left: 1em; padding-right: 1em; text-align: center; vertical-align: top\">144072007X</td>\n",
              "        <td style=\"padding-left: 1em; padding-right: 1em; text-align: center; vertical-align: top\">Aaron Daniels</td>\n",
              "        <td style=\"padding-left: 1em; padding-right: 1em; text-align: center; vertical-align: top\">[1.0, 6.0]</td>\n",
              "        <td style=\"padding-left: 1em; padding-right: 1em; text-align: center; vertical-align: top\">I saw this deal and<br>ordered it immediatel ...</td>\n",
              "        <td style=\"padding-left: 1em; padding-right: 1em; text-align: center; vertical-align: top\">1.0</td>\n",
              "    </tr>\n",
              "    <tr>\n",
              "        <td style=\"padding-left: 1em; padding-right: 1em; text-align: center; vertical-align: top\">A3OGMCRM3NL8OM</td>\n",
              "        <td style=\"padding-left: 1em; padding-right: 1em; text-align: center; vertical-align: top\">144072007X</td>\n",
              "        <td style=\"padding-left: 1em; padding-right: 1em; text-align: center; vertical-align: top\">Ivan Moreno</td>\n",
              "        <td style=\"padding-left: 1em; padding-right: 1em; text-align: center; vertical-align: top\">[1.0, 1.0]</td>\n",
              "        <td style=\"padding-left: 1em; padding-right: 1em; text-align: center; vertical-align: top\">This metal detector is<br>light and powerful. It ...</td>\n",
              "        <td style=\"padding-left: 1em; padding-right: 1em; text-align: center; vertical-align: top\">5.0</td>\n",
              "    </tr>\n",
              "    <tr>\n",
              "        <td style=\"padding-left: 1em; padding-right: 1em; text-align: center; vertical-align: top\">A7E1GKNNT96QQ</td>\n",
              "        <td style=\"padding-left: 1em; padding-right: 1em; text-align: center; vertical-align: top\">144072007X</td>\n",
              "        <td style=\"padding-left: 1em; padding-right: 1em; text-align: center; vertical-align: top\">S. Tunder</td>\n",
              "        <td style=\"padding-left: 1em; padding-right: 1em; text-align: center; vertical-align: top\">[15.0, 16.0]</td>\n",
              "        <td style=\"padding-left: 1em; padding-right: 1em; text-align: center; vertical-align: top\">Don&#x27;t buy this machine. I<br>have one and I don&#x27;t  ...</td>\n",
              "        <td style=\"padding-left: 1em; padding-right: 1em; text-align: center; vertical-align: top\">5.0</td>\n",
              "    </tr>\n",
              "</table>\n",
              "<table frame=\"box\" rules=\"cols\">\n",
              "    <tr>\n",
              "        <th style=\"padding-left: 1em; padding-right: 1em; text-align: center\">summary</th>\n",
              "        <th style=\"padding-left: 1em; padding-right: 1em; text-align: center\">unixReviewTime</th>\n",
              "        <th style=\"padding-left: 1em; padding-right: 1em; text-align: center\">reviewTime</th>\n",
              "        <th style=\"padding-left: 1em; padding-right: 1em; text-align: center\">binrating</th>\n",
              "        <th style=\"padding-left: 1em; padding-right: 1em; text-align: center\">wordcount</th>\n",
              "    </tr>\n",
              "    <tr>\n",
              "        <td style=\"padding-left: 1em; padding-right: 1em; text-align: center; vertical-align: top\">Delish</td>\n",
              "        <td style=\"padding-left: 1em; padding-right: 1em; text-align: center; vertical-align: top\">1259798400</td>\n",
              "        <td style=\"padding-left: 1em; padding-right: 1em; text-align: center; vertical-align: top\">12 3, 2009</td>\n",
              "        <td style=\"padding-left: 1em; padding-right: 1em; text-align: center; vertical-align: top\">1</td>\n",
              "        <td style=\"padding-left: 1em; padding-right: 1em; text-align: center; vertical-align: top\">{&#x27;yum&#x27;: 1, &#x27;about&#x27;: 1,<br>&#x27;that&#x27;: 1, &#x27;into&#x27;: 1, ...</td>\n",
              "    </tr>\n",
              "    <tr>\n",
              "        <td style=\"padding-left: 1em; padding-right: 1em; text-align: center; vertical-align: top\">Just what my husband<br>wanted ...</td>\n",
              "        <td style=\"padding-left: 1em; padding-right: 1em; text-align: center; vertical-align: top\">1371081600</td>\n",
              "        <td style=\"padding-left: 1em; padding-right: 1em; text-align: center; vertical-align: top\">06 13, 2013</td>\n",
              "        <td style=\"padding-left: 1em; padding-right: 1em; text-align: center; vertical-align: top\">1</td>\n",
              "        <td style=\"padding-left: 1em; padding-right: 1em; text-align: center; vertical-align: top\">{&#x27;really&#x27;: 1, &#x27;but&#x27;: 1,<br>&#x27;specific&#x27;: 1, &#x27;so&#x27;: 2, ...</td>\n",
              "    </tr>\n",
              "    <tr>\n",
              "        <td style=\"padding-left: 1em; padding-right: 1em; text-align: center; vertical-align: top\">Love This Show!</td>\n",
              "        <td style=\"padding-left: 1em; padding-right: 1em; text-align: center; vertical-align: top\">1257984000</td>\n",
              "        <td style=\"padding-left: 1em; padding-right: 1em; text-align: center; vertical-align: top\">11 12, 2009</td>\n",
              "        <td style=\"padding-left: 1em; padding-right: 1em; text-align: center; vertical-align: top\">1</td>\n",
              "        <td style=\"padding-left: 1em; padding-right: 1em; text-align: center; vertical-align: top\">{&#x27;well&#x27;: 1, &#x27;as&#x27;: 1,<br>&#x27;by&#x27;: 1, &#x27;the&#x27;: 2, &#x27;o ...</td>\n",
              "    </tr>\n",
              "    <tr>\n",
              "        <td style=\"padding-left: 1em; padding-right: 1em; text-align: center; vertical-align: top\">BUY ELSEWHERE, TOO<br>EXPENSIVE ...</td>\n",
              "        <td style=\"padding-left: 1em; padding-right: 1em; text-align: center; vertical-align: top\">1314144000</td>\n",
              "        <td style=\"padding-left: 1em; padding-right: 1em; text-align: center; vertical-align: top\">08 24, 2011</td>\n",
              "        <td style=\"padding-left: 1em; padding-right: 1em; text-align: center; vertical-align: top\">1</td>\n",
              "        <td style=\"padding-left: 1em; padding-right: 1em; text-align: center; vertical-align: top\">{&#x27;little&#x27;: 1, &#x27;too&#x27;: 1,<br>&#x27;and&#x27;: 1, &#x27;raichlen&#x27;: 1, ...</td>\n",
              "    </tr>\n",
              "    <tr>\n",
              "        <td style=\"padding-left: 1em; padding-right: 1em; text-align: center; vertical-align: top\">Quite good but I *much*<br>prefer the cookbooks ...</td>\n",
              "        <td style=\"padding-left: 1em; padding-right: 1em; text-align: center; vertical-align: top\">1308268800</td>\n",
              "        <td style=\"padding-left: 1em; padding-right: 1em; text-align: center; vertical-align: top\">06 17, 2011</td>\n",
              "        <td style=\"padding-left: 1em; padding-right: 1em; text-align: center; vertical-align: top\">1</td>\n",
              "        <td style=\"padding-left: 1em; padding-right: 1em; text-align: center; vertical-align: top\">{&#x27;winter&#x27;: 1, &#x27;that&#x27;: 1,<br>&#x27;baking&#x27;: 1, &#x27;by&#x27;: 1, ...</td>\n",
              "    </tr>\n",
              "    <tr>\n",
              "        <td style=\"padding-left: 1em; padding-right: 1em; text-align: center; vertical-align: top\">Good Stuff</td>\n",
              "        <td style=\"padding-left: 1em; padding-right: 1em; text-align: center; vertical-align: top\">1253577600</td>\n",
              "        <td style=\"padding-left: 1em; padding-right: 1em; text-align: center; vertical-align: top\">09 22, 2009</td>\n",
              "        <td style=\"padding-left: 1em; padding-right: 1em; text-align: center; vertical-align: top\">1</td>\n",
              "        <td style=\"padding-left: 1em; padding-right: 1em; text-align: center; vertical-align: top\">{&#x27;easy&#x27;: 1, &#x27;makes&#x27;: 1,<br>&#x27;detailed&#x27;: 1, &#x27;for&#x27;: 1, ...</td>\n",
              "    </tr>\n",
              "    <tr>\n",
              "        <td style=\"padding-left: 1em; padding-right: 1em; text-align: center; vertical-align: top\">wonderfull ideas for<br>using your grill for  ...</td>\n",
              "        <td style=\"padding-left: 1em; padding-right: 1em; text-align: center; vertical-align: top\">1395532800</td>\n",
              "        <td style=\"padding-left: 1em; padding-right: 1em; text-align: center; vertical-align: top\">03 23, 2014</td>\n",
              "        <td style=\"padding-left: 1em; padding-right: 1em; text-align: center; vertical-align: top\">1</td>\n",
              "        <td style=\"padding-left: 1em; padding-right: 1em; text-align: center; vertical-align: top\">{&#x27;cook&#x27;: 1, &#x27;has&#x27;: 1,<br>&#x27;it&#x27;: 1, &#x27;friends&#x27;: 1, ...</td>\n",
              "    </tr>\n",
              "    <tr>\n",
              "        <td style=\"padding-left: 1em; padding-right: 1em; text-align: center; vertical-align: top\">They sent me a book?</td>\n",
              "        <td style=\"padding-left: 1em; padding-right: 1em; text-align: center; vertical-align: top\">1360886400</td>\n",
              "        <td style=\"padding-left: 1em; padding-right: 1em; text-align: center; vertical-align: top\">02 15, 2013</td>\n",
              "        <td style=\"padding-left: 1em; padding-right: 1em; text-align: center; vertical-align: top\">0</td>\n",
              "        <td style=\"padding-left: 1em; padding-right: 1em; text-align: center; vertical-align: top\">{&#x27;before&#x27;: 1,<br>&#x27;everything&#x27;: 1, &#x27;into&#x27;: ...</td>\n",
              "    </tr>\n",
              "    <tr>\n",
              "        <td style=\"padding-left: 1em; padding-right: 1em; text-align: center; vertical-align: top\">Tesoro Sand Shark metal<br>detector ...</td>\n",
              "        <td style=\"padding-left: 1em; padding-right: 1em; text-align: center; vertical-align: top\">1360108800</td>\n",
              "        <td style=\"padding-left: 1em; padding-right: 1em; text-align: center; vertical-align: top\">02 6, 2013</td>\n",
              "        <td style=\"padding-left: 1em; padding-right: 1em; text-align: center; vertical-align: top\">1</td>\n",
              "        <td style=\"padding-left: 1em; padding-right: 1em; text-align: center; vertical-align: top\">{&#x27;impressed&#x27;: 1, &#x27;am&#x27;: 1,<br>&#x27;few&#x27;: 1, &#x27;days&#x27;: 1,  ...</td>\n",
              "    </tr>\n",
              "    <tr>\n",
              "        <td style=\"padding-left: 1em; padding-right: 1em; text-align: center; vertical-align: top\">Don&#x27;t buy it</td>\n",
              "        <td style=\"padding-left: 1em; padding-right: 1em; text-align: center; vertical-align: top\">1206057600</td>\n",
              "        <td style=\"padding-left: 1em; padding-right: 1em; text-align: center; vertical-align: top\">03 21, 2008</td>\n",
              "        <td style=\"padding-left: 1em; padding-right: 1em; text-align: center; vertical-align: top\">1</td>\n",
              "        <td style=\"padding-left: 1em; padding-right: 1em; text-align: center; vertical-align: top\">{&#x27;caps&#x27;: 1, &#x27;or&#x27;: 1,<br>&#x27;tabs&#x27;: 1, &#x27;like&#x27;: 1, ...</td>\n",
              "    </tr>\n",
              "</table>\n",
              "[10 rows x 11 columns]<br/>\n",
              "</div>"
            ],
            "text/plain": [
              "Columns:\n",
              "\treviewerID\tstr\n",
              "\tasin\tstr\n",
              "\treviewerName\tstr\n",
              "\thelpful\tarray\n",
              "\treviewText\tstr\n",
              "\toverall\tfloat\n",
              "\tsummary\tstr\n",
              "\tunixReviewTime\tint\n",
              "\treviewTime\tstr\n",
              "\tbinrating\tint\n",
              "\twordcount\tdict\n",
              "\n",
              "Rows: 10\n",
              "\n",
              "Data:\n",
              "+----------------+------------+--------------------------------+--------------+\n",
              "|   reviewerID   |    asin    |          reviewerName          |   helpful    |\n",
              "+----------------+------------+--------------------------------+--------------+\n",
              "| A2VNYWOPJ13AFP | 0981850006 |  Amazon Customer \"carringt0n\"  |  [6.0, 7.0]  |\n",
              "| A20DWVV8HML3AW | 0981850006 |             Cyndy              |  [0.0, 0.0]  |\n",
              "| A3RVP3YBYYOPRH | 0981850006 |          John Warren           | [9.0, 11.0]  |\n",
              "| A28XY55TP3Q90O | 0981850006 |    JSG \"Lover of Learning\"     |  [1.0, 1.0]  |\n",
              "| A3VZW1BGUQO0V3 | 0981850006 | Marc G. Belisle \"Allswell2001\" |  [2.0, 2.0]  |\n",
              "| A2R9T5D7UVQZB0 | 0981850006 |           S. Samaras           |  [6.0, 8.0]  |\n",
              "| A2MH49GAEWEI95 | 0981850006 |           Thomas O.            |  [0.0, 0.0]  |\n",
              "| AR5DPX4ZU3D4Z  | 144072007X |         Aaron Daniels          |  [1.0, 6.0]  |\n",
              "| A3OGMCRM3NL8OM | 144072007X |          Ivan Moreno           |  [1.0, 1.0]  |\n",
              "| A7E1GKNNT96QQ  | 144072007X |           S. Tunder            | [15.0, 16.0] |\n",
              "+----------------+------------+--------------------------------+--------------+\n",
              "+-------------------------------+---------+-------------------------------+\n",
              "|           reviewText          | overall |            summary            |\n",
              "+-------------------------------+---------+-------------------------------+\n",
              "| This was a gift for my oth... |   5.0   |             Delish            |\n",
              "| My husband rarely asks for... |   5.0   |  Just what my husband wanted  |\n",
              "| This guy knows his stuff. ... |   5.0   |        Love This Show!        |\n",
              "| THIS CAN BE FOUND AT: [...... |   5.0   |  BUY ELSEWHERE, TOO EXPENSIVE |\n",
              "| Quite good particularly fo... |   5.0   | Quite good but I *much* pr... |\n",
              "| The DVD is very useful and... |   5.0   |           Good Stuff          |\n",
              "| Have learned to use my gri... |   5.0   | wonderfull ideas for using... |\n",
              "| I saw this deal and ordere... |   1.0   |      They sent me a book?     |\n",
              "| This metal detector is lig... |   5.0   | Tesoro Sand Shark metal de... |\n",
              "| Don't buy this machine. I ... |   5.0   |          Don't buy it         |\n",
              "+-------------------------------+---------+-------------------------------+\n",
              "+----------------+-------------+-----------+-------------------------------+\n",
              "| unixReviewTime |  reviewTime | binrating |           wordcount           |\n",
              "+----------------+-------------+-----------+-------------------------------+\n",
              "|   1259798400   |  12 3, 2009 |     1     | {'yum': 1, 'about': 1, 'th... |\n",
              "|   1371081600   | 06 13, 2013 |     1     | {'really': 1, 'but': 1, 's... |\n",
              "|   1257984000   | 11 12, 2009 |     1     | {'well': 1, 'as': 1, 'by':... |\n",
              "|   1314144000   | 08 24, 2011 |     1     | {'little': 1, 'too': 1, 'a... |\n",
              "|   1308268800   | 06 17, 2011 |     1     | {'winter': 1, 'that': 1, '... |\n",
              "|   1253577600   | 09 22, 2009 |     1     | {'easy': 1, 'makes': 1, 'd... |\n",
              "|   1395532800   | 03 23, 2014 |     1     | {'cook': 1, 'has': 1, 'it'... |\n",
              "|   1360886400   | 02 15, 2013 |     0     | {'before': 1, 'everything'... |\n",
              "|   1360108800   |  02 6, 2013 |     1     | {'impressed': 1, 'am': 1, ... |\n",
              "|   1206057600   | 03 21, 2008 |     1     | {'caps': 1, 'or': 1, 'tabs... |\n",
              "+----------------+-------------+-----------+-------------------------------+\n",
              "[10 rows x 11 columns]"
            ]
          },
          "metadata": {
            "tags": []
          },
          "execution_count": 24
        }
      ]
    },
    {
      "cell_type": "code",
      "metadata": {
        "id": "_Q4vAUK10tBd",
        "colab_type": "code",
        "colab": {}
      },
      "source": [
        "#Create training and test data set.\n",
        "train_data, test_data = turicate_df.random_split(0.8, seed=0)"
      ],
      "execution_count": 0,
      "outputs": []
    },
    {
      "cell_type": "code",
      "metadata": {
        "id": "HkUAfGE10y2M",
        "colab_type": "code",
        "colab": {
          "base_uri": "https://localhost:8080/",
          "height": 328
        },
        "outputId": "a238d4ef-c9fe-45a7-d054-773d8a7f011d"
      },
      "source": [
        "sentiment_model = tc.logistic_classifier.create (train_data,\n",
        "                    target='binrating',\n",
        "                    features=['wordcount'],\n",
        "                    validation_set=test_data)"
      ],
      "execution_count": 26,
      "outputs": [
        {
          "output_type": "display_data",
          "data": {
            "text/html": [
              "<pre>Logistic regression:</pre>"
            ],
            "text/plain": [
              "Logistic regression:"
            ]
          },
          "metadata": {
            "tags": []
          }
        },
        {
          "output_type": "display_data",
          "data": {
            "text/html": [
              "<pre>--------------------------------------------------------</pre>"
            ],
            "text/plain": [
              "--------------------------------------------------------"
            ]
          },
          "metadata": {
            "tags": []
          }
        },
        {
          "output_type": "display_data",
          "data": {
            "text/html": [
              "<pre>Number of examples          : 402543</pre>"
            ],
            "text/plain": [
              "Number of examples          : 402543"
            ]
          },
          "metadata": {
            "tags": []
          }
        },
        {
          "output_type": "display_data",
          "data": {
            "text/html": [
              "<pre>Number of classes           : 2</pre>"
            ],
            "text/plain": [
              "Number of classes           : 2"
            ]
          },
          "metadata": {
            "tags": []
          }
        },
        {
          "output_type": "display_data",
          "data": {
            "text/html": [
              "<pre>Number of feature columns   : 1</pre>"
            ],
            "text/plain": [
              "Number of feature columns   : 1"
            ]
          },
          "metadata": {
            "tags": []
          }
        },
        {
          "output_type": "display_data",
          "data": {
            "text/html": [
              "<pre>Number of unpacked features : 130883</pre>"
            ],
            "text/plain": [
              "Number of unpacked features : 130883"
            ]
          },
          "metadata": {
            "tags": []
          }
        },
        {
          "output_type": "display_data",
          "data": {
            "text/html": [
              "<pre>Number of coefficients      : 130884</pre>"
            ],
            "text/plain": [
              "Number of coefficients      : 130884"
            ]
          },
          "metadata": {
            "tags": []
          }
        },
        {
          "output_type": "display_data",
          "data": {
            "text/html": [
              "<pre>Starting L-BFGS</pre>"
            ],
            "text/plain": [
              "Starting L-BFGS"
            ]
          },
          "metadata": {
            "tags": []
          }
        },
        {
          "output_type": "display_data",
          "data": {
            "text/html": [
              "<pre>--------------------------------------------------------</pre>"
            ],
            "text/plain": [
              "--------------------------------------------------------"
            ]
          },
          "metadata": {
            "tags": []
          }
        },
        {
          "output_type": "display_data",
          "data": {
            "text/html": [
              "<pre>+-----------+----------+-----------+--------------+-------------------+---------------------+</pre>"
            ],
            "text/plain": [
              "+-----------+----------+-----------+--------------+-------------------+---------------------+"
            ]
          },
          "metadata": {
            "tags": []
          }
        },
        {
          "output_type": "display_data",
          "data": {
            "text/html": [
              "<pre>| Iteration | Passes   | Step size | Elapsed Time | Training Accuracy | Validation Accuracy |</pre>"
            ],
            "text/plain": [
              "| Iteration | Passes   | Step size | Elapsed Time | Training Accuracy | Validation Accuracy |"
            ]
          },
          "metadata": {
            "tags": []
          }
        },
        {
          "output_type": "display_data",
          "data": {
            "text/html": [
              "<pre>+-----------+----------+-----------+--------------+-------------------+---------------------+</pre>"
            ],
            "text/plain": [
              "+-----------+----------+-----------+--------------+-------------------+---------------------+"
            ]
          },
          "metadata": {
            "tags": []
          }
        },
        {
          "output_type": "display_data",
          "data": {
            "text/html": [
              "<pre>| 0         | 5        | 0.098632  | 5.476955     | 0.804813          | 0.804384            |</pre>"
            ],
            "text/plain": [
              "| 0         | 5        | 0.098632  | 5.476955     | 0.804813          | 0.804384            |"
            ]
          },
          "metadata": {
            "tags": []
          }
        },
        {
          "output_type": "display_data",
          "data": {
            "text/html": [
              "<pre>| 1         | 10       | 8.383759  | 10.588769    | 0.909632          | 0.893565            |</pre>"
            ],
            "text/plain": [
              "| 1         | 10       | 8.383759  | 10.588769    | 0.909632          | 0.893565            |"
            ]
          },
          "metadata": {
            "tags": []
          }
        },
        {
          "output_type": "display_data",
          "data": {
            "text/html": [
              "<pre>| 2         | 11       | 8.383759  | 12.174244    | 0.927056          | 0.905061            |</pre>"
            ],
            "text/plain": [
              "| 2         | 11       | 8.383759  | 12.174244    | 0.927056          | 0.905061            |"
            ]
          },
          "metadata": {
            "tags": []
          }
        },
        {
          "output_type": "display_data",
          "data": {
            "text/html": [
              "<pre>| 3         | 13       | 4.402062  | 14.645834    | 0.931625          | 0.896225            |</pre>"
            ],
            "text/plain": [
              "| 3         | 13       | 4.402062  | 14.645834    | 0.931625          | 0.896225            |"
            ]
          },
          "metadata": {
            "tags": []
          }
        },
        {
          "output_type": "display_data",
          "data": {
            "text/html": [
              "<pre>| 4         | 14       | 4.402062  | 16.228223    | 0.931625          | 0.896225            |</pre>"
            ],
            "text/plain": [
              "| 4         | 14       | 4.402062  | 16.228223    | 0.931625          | 0.896225            |"
            ]
          },
          "metadata": {
            "tags": []
          }
        },
        {
          "output_type": "display_data",
          "data": {
            "text/html": [
              "<pre>+-----------+----------+-----------+--------------+-------------------+---------------------+</pre>"
            ],
            "text/plain": [
              "+-----------+----------+-----------+--------------+-------------------+---------------------+"
            ]
          },
          "metadata": {
            "tags": []
          }
        }
      ]
    },
    {
      "cell_type": "code",
      "metadata": {
        "id": "2yHzv8fh04_b",
        "colab_type": "code",
        "colab": {
          "base_uri": "https://localhost:8080/",
          "height": 508
        },
        "outputId": "9ac1cfd8-8db8-43aa-cc4e-c322c8eaf307"
      },
      "source": [
        "sentiment_model.evaluate(test_data, metric='roc_curve')"
      ],
      "execution_count": 27,
      "outputs": [
        {
          "output_type": "execute_result",
          "data": {
            "text/plain": [
              "{'roc_curve': Columns:\n",
              " \tthreshold\tfloat\n",
              " \tfpr\tfloat\n",
              " \ttpr\tfloat\n",
              " \tp\tint\n",
              " \tn\tint\n",
              " \n",
              " Rows: 100001\n",
              " \n",
              " Data:\n",
              " +-----------+--------------------+--------------------+-------+-------+\n",
              " | threshold |        fpr         |        tpr         |   p   |   n   |\n",
              " +-----------+--------------------+--------------------+-------+-------+\n",
              " |    0.0    |        1.0         |        1.0         | 81024 | 19704 |\n",
              " |   1e-05   | 0.9082419813235891 | 0.9987040876777251 | 81024 | 19704 |\n",
              " |   2e-05   | 0.8951481932602517 | 0.998580667456556  | 81024 | 19704 |\n",
              " |   3e-05   | 0.8856577344701584 | 0.9983831951026856 | 81024 | 19704 |\n",
              " |   4e-05   | 0.8793138449045879 | 0.9981980647709321 | 81024 | 19704 |\n",
              " |   5e-05   | 0.8738327243199351 | 0.9980869865718799 | 81024 | 19704 |\n",
              " |   6e-05   | 0.8691128704831507 | 0.9979635663507109 | 81024 | 19704 |\n",
              " |   7e-05   | 0.8648497766950873 | 0.9979018562401264 | 81024 | 19704 |\n",
              " |   8e-05   | 0.8611956963053187 | 0.997827804107425  | 81024 | 19704 |\n",
              " |   9e-05   | 0.8579983759642712 | 0.9978031200631912 | 81024 | 19704 |\n",
              " +-----------+--------------------+--------------------+-------+-------+\n",
              " [100001 rows x 5 columns]\n",
              " Note: Only the head of the SFrame is printed.\n",
              " You can use print_rows(num_rows=m, num_columns=n) to print more rows and columns.}"
            ]
          },
          "metadata": {
            "tags": []
          },
          "execution_count": 27
        }
      ]
    },
    {
      "cell_type": "code",
      "metadata": {
        "id": "V2OxJOkh08fe",
        "colab_type": "code",
        "colab": {
          "base_uri": "https://localhost:8080/",
          "height": 298
        },
        "outputId": "19b975c5-0478-436e-bf8a-c7d24bb95cab"
      },
      "source": [
        "sentiment_model.show(view='Evaluation')\n"
      ],
      "execution_count": 28,
      "outputs": [
        {
          "output_type": "error",
          "ename": "AttributeError",
          "evalue": "ignored",
          "traceback": [
            "\u001b[0;31m---------------------------------------------------------------------------\u001b[0m",
            "\u001b[0;31mAttributeError\u001b[0m                            Traceback (most recent call last)",
            "\u001b[0;32m<ipython-input-28-00194c5914b1>\u001b[0m in \u001b[0;36m<module>\u001b[0;34m()\u001b[0m\n\u001b[0;32m----> 1\u001b[0;31m \u001b[0msentiment_model\u001b[0m\u001b[0;34m.\u001b[0m\u001b[0mshow\u001b[0m\u001b[0;34m(\u001b[0m\u001b[0mview\u001b[0m\u001b[0;34m=\u001b[0m\u001b[0;34m'Evaluation'\u001b[0m\u001b[0;34m)\u001b[0m\u001b[0;34m\u001b[0m\u001b[0;34m\u001b[0m\u001b[0m\n\u001b[0m",
            "\u001b[0;32m/usr/local/lib/python3.6/dist-packages/turicreate/toolkits/_model.py\u001b[0m in \u001b[0;36m__getattribute__\u001b[0;34m(self, attr)\u001b[0m\n\u001b[1;32m    347\u001b[0m             \u001b[0;32mreturn\u001b[0m \u001b[0mself\u001b[0m\u001b[0;34m.\u001b[0m\u001b[0m_get\u001b[0m\u001b[0;34m(\u001b[0m\u001b[0mattr\u001b[0m\u001b[0;34m)\u001b[0m\u001b[0;34m\u001b[0m\u001b[0;34m\u001b[0m\u001b[0m\n\u001b[1;32m    348\u001b[0m         \u001b[0;32melse\u001b[0m\u001b[0;34m:\u001b[0m\u001b[0;34m\u001b[0m\u001b[0;34m\u001b[0m\u001b[0m\n\u001b[0;32m--> 349\u001b[0;31m             \u001b[0;32mreturn\u001b[0m \u001b[0mobject\u001b[0m\u001b[0;34m.\u001b[0m\u001b[0m__getattribute__\u001b[0m\u001b[0;34m(\u001b[0m\u001b[0mself\u001b[0m\u001b[0;34m,\u001b[0m \u001b[0mattr\u001b[0m\u001b[0;34m)\u001b[0m\u001b[0;34m\u001b[0m\u001b[0;34m\u001b[0m\u001b[0m\n\u001b[0m\u001b[1;32m    350\u001b[0m \u001b[0;34m\u001b[0m\u001b[0m\n\u001b[1;32m    351\u001b[0m \u001b[0;34m@\u001b[0m\u001b[0m_six\u001b[0m\u001b[0;34m.\u001b[0m\u001b[0madd_metaclass\u001b[0m\u001b[0;34m(\u001b[0m\u001b[0mRegistrationMetaClass\u001b[0m\u001b[0;34m)\u001b[0m\u001b[0;34m\u001b[0m\u001b[0;34m\u001b[0m\u001b[0m\n",
            "\u001b[0;31mAttributeError\u001b[0m: 'LogisticClassifier' object has no attribute 'show'"
          ]
        }
      ]
    },
    {
      "cell_type": "code",
      "metadata": {
        "id": "KMlUhiMoOYsK",
        "colab_type": "code",
        "colab": {}
      },
      "source": [
        ""
      ],
      "execution_count": 0,
      "outputs": []
    }
  ]
}