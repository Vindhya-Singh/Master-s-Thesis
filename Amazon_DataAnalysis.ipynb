{
  "nbformat": 4,
  "nbformat_minor": 0,
  "metadata": {
    "colab": {
      "name": "Amazon_DataAnalysis.ipynb",
      "provenance": [],
      "include_colab_link": true
    },
    "kernelspec": {
      "name": "python3",
      "display_name": "Python 3"
    }
  },
  "cells": [
    {
      "cell_type": "markdown",
      "metadata": {
        "id": "view-in-github",
        "colab_type": "text"
      },
      "source": [
        "<a href=\"https://colab.research.google.com/github/VindhyaSRajan/Master-s-Thesis/blob/master/Amazon_DataAnalysis.ipynb\" target=\"_parent\"><img src=\"https://colab.research.google.com/assets/colab-badge.svg\" alt=\"Open In Colab\"/></a>"
      ]
    },
    {
      "cell_type": "code",
      "metadata": {
        "id": "iRw9mDeKyvpQ",
        "colab_type": "code",
        "colab": {}
      },
      "source": [
        "from google.colab import drive\n",
        "drive.mount('drive')"
      ],
      "execution_count": 0,
      "outputs": []
    },
    {
      "cell_type": "code",
      "metadata": {
        "id": "kF6RxB4Ky5Qs",
        "colab_type": "code",
        "colab": {}
      },
      "source": [
        "from google.colab import files\n",
        "\n",
        "uploaded = files.upload()\n",
        "\n",
        "for fn in uploaded.keys():\n",
        "  print('User uploaded file \"{name}\" with length {length} bytes'.format(\n",
        "      name=fn, length=len(uploaded[fn])))"
      ],
      "execution_count": 0,
      "outputs": []
    },
    {
      "cell_type": "code",
      "metadata": {
        "id": "-N5fneIYzWNw",
        "colab_type": "code",
        "colab": {}
      },
      "source": [
        "#!pip install -U turicreate\n",
        "#!pip install graphlab-create"
      ],
      "execution_count": 0,
      "outputs": []
    },
    {
      "cell_type": "code",
      "metadata": {
        "id": "dTWM0EPgy8Uq",
        "colab_type": "code",
        "colab": {}
      },
      "source": [
        "import pandas as pd\n",
        "import gzip\n",
        "import turicreate as tc\n",
        "\n",
        "def parse(path):\n",
        "  g = gzip.open(path, 'rb')\n",
        "  for l in g:\n",
        "    yield eval(l)\n",
        "\n",
        "def getDF(path):\n",
        "  i = 0\n",
        "  df = {}\n",
        "  for d in parse(path):\n",
        "    df[i] = d\n",
        "    i += 1\n",
        "  return pd.DataFrame.from_dict(df, orient='index')\n"
      ],
      "execution_count": 0,
      "outputs": []
    },
    {
      "cell_type": "code",
      "metadata": {
        "id": "SC880sl7y8b_",
        "colab_type": "code",
        "colab": {
          "base_uri": "https://localhost:8080/",
          "height": 285
        },
        "outputId": "32c567d4-f55f-42ff-922f-2ca8d897f7b6"
      },
      "source": [
        "df = getDF('/content/reviews_Patio_Lawn_and_Garden.json.gz')\n",
        "df.head()"
      ],
      "execution_count": 9,
      "outputs": [
        {
          "output_type": "execute_result",
          "data": {
            "text/html": [
              "<div>\n",
              "<style scoped>\n",
              "    .dataframe tbody tr th:only-of-type {\n",
              "        vertical-align: middle;\n",
              "    }\n",
              "\n",
              "    .dataframe tbody tr th {\n",
              "        vertical-align: top;\n",
              "    }\n",
              "\n",
              "    .dataframe thead th {\n",
              "        text-align: right;\n",
              "    }\n",
              "</style>\n",
              "<table border=\"1\" class=\"dataframe\">\n",
              "  <thead>\n",
              "    <tr style=\"text-align: right;\">\n",
              "      <th></th>\n",
              "      <th>reviewerID</th>\n",
              "      <th>asin</th>\n",
              "      <th>reviewerName</th>\n",
              "      <th>helpful</th>\n",
              "      <th>reviewText</th>\n",
              "      <th>overall</th>\n",
              "      <th>summary</th>\n",
              "      <th>unixReviewTime</th>\n",
              "      <th>reviewTime</th>\n",
              "    </tr>\n",
              "  </thead>\n",
              "  <tbody>\n",
              "    <tr>\n",
              "      <th>0</th>\n",
              "      <td>A2VNYWOPJ13AFP</td>\n",
              "      <td>0981850006</td>\n",
              "      <td>Amazon Customer \"carringt0n\"</td>\n",
              "      <td>[6, 7]</td>\n",
              "      <td>This was a gift for my other husband.  He's ma...</td>\n",
              "      <td>5.0</td>\n",
              "      <td>Delish</td>\n",
              "      <td>1259798400</td>\n",
              "      <td>12 3, 2009</td>\n",
              "    </tr>\n",
              "    <tr>\n",
              "      <th>1</th>\n",
              "      <td>A20DWVV8HML3AW</td>\n",
              "      <td>0981850006</td>\n",
              "      <td>Cyndy</td>\n",
              "      <td>[0, 0]</td>\n",
              "      <td>My husband rarely asks for anything specific, ...</td>\n",
              "      <td>5.0</td>\n",
              "      <td>Just what my husband wanted</td>\n",
              "      <td>1371081600</td>\n",
              "      <td>06 13, 2013</td>\n",
              "    </tr>\n",
              "    <tr>\n",
              "      <th>2</th>\n",
              "      <td>A3RVP3YBYYOPRH</td>\n",
              "      <td>0981850006</td>\n",
              "      <td>John Warren</td>\n",
              "      <td>[9, 11]</td>\n",
              "      <td>This guy knows his stuff. I love the seriously...</td>\n",
              "      <td>5.0</td>\n",
              "      <td>Love This Show!</td>\n",
              "      <td>1257984000</td>\n",
              "      <td>11 12, 2009</td>\n",
              "    </tr>\n",
              "    <tr>\n",
              "      <th>3</th>\n",
              "      <td>A28XY55TP3Q90O</td>\n",
              "      <td>0981850006</td>\n",
              "      <td>JSG \"Lover of Learning\"</td>\n",
              "      <td>[1, 1]</td>\n",
              "      <td>THIS CAN BE FOUND AT: [...] FOR $19.99, also a...</td>\n",
              "      <td>5.0</td>\n",
              "      <td>BUY ELSEWHERE, TOO EXPENSIVE</td>\n",
              "      <td>1314144000</td>\n",
              "      <td>08 24, 2011</td>\n",
              "    </tr>\n",
              "    <tr>\n",
              "      <th>4</th>\n",
              "      <td>A3VZW1BGUQO0V3</td>\n",
              "      <td>0981850006</td>\n",
              "      <td>Marc G. Belisle \"Allswell2001\"</td>\n",
              "      <td>[2, 2]</td>\n",
              "      <td>Quite good particularly for inspiration (DVD g...</td>\n",
              "      <td>5.0</td>\n",
              "      <td>Quite good but I *much* prefer the cookbooks</td>\n",
              "      <td>1308268800</td>\n",
              "      <td>06 17, 2011</td>\n",
              "    </tr>\n",
              "  </tbody>\n",
              "</table>\n",
              "</div>"
            ],
            "text/plain": [
              "       reviewerID        asin  ... unixReviewTime   reviewTime\n",
              "0  A2VNYWOPJ13AFP  0981850006  ...     1259798400   12 3, 2009\n",
              "1  A20DWVV8HML3AW  0981850006  ...     1371081600  06 13, 2013\n",
              "2  A3RVP3YBYYOPRH  0981850006  ...     1257984000  11 12, 2009\n",
              "3  A28XY55TP3Q90O  0981850006  ...     1314144000  08 24, 2011\n",
              "4  A3VZW1BGUQO0V3  0981850006  ...     1308268800  06 17, 2011\n",
              "\n",
              "[5 rows x 9 columns]"
            ]
          },
          "metadata": {
            "tags": []
          },
          "execution_count": 9
        }
      ]
    },
    {
      "cell_type": "code",
      "metadata": {
        "id": "f5KW_2_7KeUk",
        "colab_type": "code",
        "colab": {
          "base_uri": "https://localhost:8080/",
          "height": 35
        },
        "outputId": "72c07ccc-eaa2-4907-d7b7-312e59632cd7"
      },
      "source": [
        "df.to_csv('reviews_Patio_Lawn_And_Garden.csv', index = False)\n",
        "df.shape\n",
        "df.columns\n",
        "type(df)"
      ],
      "execution_count": 18,
      "outputs": [
        {
          "output_type": "execute_result",
          "data": {
            "text/plain": [
              "pandas.core.frame.DataFrame"
            ]
          },
          "metadata": {
            "tags": []
          },
          "execution_count": 18
        }
      ]
    },
    {
      "cell_type": "code",
      "metadata": {
        "id": "ZLuvwjX4NFGb",
        "colab_type": "code",
        "colab": {
          "base_uri": "https://localhost:8080/",
          "height": 1000
        },
        "outputId": "36d2a6a9-4f6b-440d-a47a-e80b2e668d71"
      },
      "source": [
        "turicate_df = tc.SFrame.read_csv(\"/content/reviews_Patio_Lawn_And_Garden.csv\")"
      ],
      "execution_count": 21,
      "outputs": [
        {
          "output_type": "display_data",
          "data": {
            "text/html": [
              "<pre>Unexpected characters after last column. \"\"I bought an axe at my local hardware store, and it would stick in the wood as I tried splitting it, and it was SUCH a pain to get it out. Yeah, it was dull. I wanted something better, and I wanted a splitting axe.I searched amazon, and saw that this Fiskars axe had a 5 star rating, which is always attractive. I read the reviews, and was VERY skeptical. I just could not believe the axe was really that good... So I went to youtube, and sure enough there was a video of a guy splitting with this axe. He was splitting like butter, I could not believe my eyes. I placed my order and waited patiently.I got it, and WoW!!!I can't believe how well this axe splits wood... it has totally made splitting wood fun, because I can do so much more than the crappy axe I had before.I've never been more sure of anything that this axe, and I would recommend it for everyone!\"\"\n",
              "Parse failed at token ending at: \n",
              "\thing that this axe, and I would recommend it for everyone!\",\u001b[1;31m^\u001b[0m5.0,It is the Real Deal!,1283212800,\"08 31, 2010\n",
              "Successfully parsed 10 tokens: \n",
              "\t0: A10QLNVP8HVMGM\n",
              "\t1: B00004SD7B\n",
              "\t2: EJ Truth\n",
              "\t3: [12 34]\n",
              "\t4: let the tr ... 322352000,\n",
              "\t5: 2011\"\n",
              "\t6: False\n",
              "A7VAKV3UOS96X\n",
              "\t7: B00004SD7B\n",
              "\t8: eknal \"L\"\n",
              "\t9: [1 1]</pre>"
            ],
            "text/plain": [
              "Unexpected characters after last column. \"\"I bought an axe at my local hardware store, and it would stick in the wood as I tried splitting it, and it was SUCH a pain to get it out. Yeah, it was dull. I wanted something better, and I wanted a splitting axe.I searched amazon, and saw that this Fiskars axe had a 5 star rating, which is always attractive. I read the reviews, and was VERY skeptical. I just could not believe the axe was really that good... So I went to youtube, and sure enough there was a video of a guy splitting with this axe. He was splitting like butter, I could not believe my eyes. I placed my order and waited patiently.I got it, and WoW!!!I can't believe how well this axe splits wood... it has totally made splitting wood fun, because I can do so much more than the crappy axe I had before.I've never been more sure of anything that this axe, and I would recommend it for everyone!\"\"\n",
              "Parse failed at token ending at: \n",
              "\thing that this axe, and I would recommend it for everyone!\",\u001b[1;31m^\u001b[0m5.0,It is the Real Deal!,1283212800,\"08 31, 2010\n",
              "Successfully parsed 10 tokens: \n",
              "\t0: A10QLNVP8HVMGM\n",
              "\t1: B00004SD7B\n",
              "\t2: EJ Truth\n",
              "\t3: [12 34]\n",
              "\t4: let the tr ... 322352000,\n",
              "\t5: 2011\"\n",
              "\t6: False\n",
              "A7VAKV3UOS96X\n",
              "\t7: B00004SD7B\n",
              "\t8: eknal \"L\"\n",
              "\t9: [1 1]"
            ]
          },
          "metadata": {
            "tags": []
          }
        },
        {
          "output_type": "display_data",
          "data": {
            "text/html": [
              "<pre>1 lines failed to parse correctly</pre>"
            ],
            "text/plain": [
              "1 lines failed to parse correctly"
            ]
          },
          "metadata": {
            "tags": []
          }
        },
        {
          "output_type": "display_data",
          "data": {
            "text/html": [
              "<pre>Finished parsing file /content/reviews_Patio_Lawn_And_Garden.csv</pre>"
            ],
            "text/plain": [
              "Finished parsing file /content/reviews_Patio_Lawn_And_Garden.csv"
            ]
          },
          "metadata": {
            "tags": []
          }
        },
        {
          "output_type": "display_data",
          "data": {
            "text/html": [
              "<pre>Parsing completed. Parsed 100 lines in 1.22395 secs.</pre>"
            ],
            "text/plain": [
              "Parsing completed. Parsed 100 lines in 1.22395 secs."
            ]
          },
          "metadata": {
            "tags": []
          }
        },
        {
          "output_type": "stream",
          "text": [
            "------------------------------------------------------\n",
            "Inferred types from first 100 line(s) of file as \n",
            "column_type_hints=[str,str,str,array,str,float,str,int,str,str]\n",
            "If parsing fails due to incorrect types, you can correct\n",
            "the inferred type list above and pass it to read_csv in\n",
            "the column_type_hints argument\n",
            "------------------------------------------------------\n"
          ],
          "name": "stdout"
        },
        {
          "output_type": "display_data",
          "data": {
            "text/html": [
              "<pre>Unable to interpret \"B00004SD7B\" as a integer\n",
              "Parse failed at token ending at: \n",
              "\ty!!,1322352000,\"11 27, 2011\",False\n",
              "A7VAKV3UOS96X,B00004SD7B,\u001b[1;31m^\u001b[0m\"eknal \"\"L\"\"\",\"[1, 1]\",\"I bought an axe at my lo\n",
              "Successfully parsed 7 tokens: \n",
              "\t0: A10QLNVP8HVMGM\n",
              "\t1: B00004SD7B\n",
              "\t2: EJ Truth\n",
              "\t3: [12 34]\n",
              "\t4: \"let the t ... 000,\"11 27\n",
              "\t5: 2011\n",
              "\t6: False\n",
              "A7VAKV3UOS96X</pre>"
            ],
            "text/plain": [
              "Unable to interpret \"B00004SD7B\" as a integer\n",
              "Parse failed at token ending at: \n",
              "\ty!!,1322352000,\"11 27, 2011\",False\n",
              "A7VAKV3UOS96X,B00004SD7B,\u001b[1;31m^\u001b[0m\"eknal \"\"L\"\"\",\"[1, 1]\",\"I bought an axe at my lo\n",
              "Successfully parsed 7 tokens: \n",
              "\t0: A10QLNVP8HVMGM\n",
              "\t1: B00004SD7B\n",
              "\t2: EJ Truth\n",
              "\t3: [12 34]\n",
              "\t4: \"let the t ... 000,\"11 27\n",
              "\t5: 2011\n",
              "\t6: False\n",
              "A7VAKV3UOS96X"
            ]
          },
          "metadata": {
            "tags": []
          }
        },
        {
          "output_type": "display_data",
          "data": {
            "text/html": [
              "<pre>Unable to interpret \"1]\"\" as a array\n",
              "Parse failed at token ending at: \n",
              "\tA2UT71E4AT07YW,B000B9P0UK,\"coast critic \"\"\\\"\"\",\"[0, 1]\",\u001b[1;31m^\u001b[0m\"The polywire works fine and the price is very g\n",
              "Successfully parsed 3 tokens: \n",
              "\t0: A2UT71E4AT07YW\n",
              "\t1: B000B9P0UK\n",
              "\t2: \"coast cri ... \"\"\\\"\"\",\"[0</pre>"
            ],
            "text/plain": [
              "Unable to interpret \"1]\"\" as a array\n",
              "Parse failed at token ending at: \n",
              "\tA2UT71E4AT07YW,B000B9P0UK,\"coast critic \"\"\\\"\"\",\"[0, 1]\",\u001b[1;31m^\u001b[0m\"The polywire works fine and the price is very g\n",
              "Successfully parsed 3 tokens: \n",
              "\t0: A2UT71E4AT07YW\n",
              "\t1: B000B9P0UK\n",
              "\t2: \"coast cri ... \"\"\\\"\"\",\"[0"
            ]
          },
          "metadata": {
            "tags": []
          }
        },
        {
          "output_type": "display_data",
          "data": {
            "text/html": [
              "<pre>Read 80887 lines. Lines per second: 65650.2</pre>"
            ],
            "text/plain": [
              "Read 80887 lines. Lines per second: 65650.2"
            ]
          },
          "metadata": {
            "tags": []
          }
        },
        {
          "output_type": "display_data",
          "data": {
            "text/html": [
              "<pre>Unable to interpret \"B000EADFYE\" as a integer\n",
              "Parse failed at token ending at: \n",
              "\t-(,1345766400,\"08 24, 2012\",False\n",
              "A18NQM9J5VUX86,B000EADFYE,\u001b[1;31m^\u001b[0mConstant  Reader,\"[0, 0]\",Used for about 6 weeks\n",
              "Successfully parsed 7 tokens: \n",
              "\t0: A2Y451Y6PO5830\n",
              "\t1: B000EADFYE\n",
              "\t2: Claudia Hosky\n",
              "\t3: [0 0]\n",
              "\t4: \"After wat ... 400,\"08 24\n",
              "\t5: 2012\n",
              "\t6: False\n",
              "A18NQM9J5VUX86</pre>"
            ],
            "text/plain": [
              "Unable to interpret \"B000EADFYE\" as a integer\n",
              "Parse failed at token ending at: \n",
              "\t-(,1345766400,\"08 24, 2012\",False\n",
              "A18NQM9J5VUX86,B000EADFYE,\u001b[1;31m^\u001b[0mConstant  Reader,\"[0, 0]\",Used for about 6 weeks\n",
              "Successfully parsed 7 tokens: \n",
              "\t0: A2Y451Y6PO5830\n",
              "\t1: B000EADFYE\n",
              "\t2: Claudia Hosky\n",
              "\t3: [0 0]\n",
              "\t4: \"After wat ... 400,\"08 24\n",
              "\t5: 2012\n",
              "\t6: False\n",
              "A18NQM9J5VUX86"
            ]
          },
          "metadata": {
            "tags": []
          }
        },
        {
          "output_type": "display_data",
          "data": {
            "text/html": [
              "<pre>Unable to interpret \"5.0\" as a array\n",
              "Parse failed at token ending at: \n",
              "\tut as a kid...Anyway, I digress.Buy it you'll like it.\",5.0,\u001b[1;31m^\u001b[0mBest Indoor Fly Trap made,1218499200,\"08 12, 200\n",
              "Successfully parsed 3 tokens: \n",
              "\t0: A young re ... ed Mar...\"\n",
              "\t1: [8, 8]\n",
              "\t2: It is conc ... l like it.</pre>"
            ],
            "text/plain": [
              "Unable to interpret \"5.0\" as a array\n",
              "Parse failed at token ending at: \n",
              "\tut as a kid...Anyway, I digress.Buy it you'll like it.\",5.0,\u001b[1;31m^\u001b[0mBest Indoor Fly Trap made,1218499200,\"08 12, 200\n",
              "Successfully parsed 3 tokens: \n",
              "\t0: A young re ... ed Mar...\"\n",
              "\t1: [8, 8]\n",
              "\t2: It is conc ... l like it."
            ]
          },
          "metadata": {
            "tags": []
          }
        },
        {
          "output_type": "display_data",
          "data": {
            "text/html": [
              "<pre>Unable to interpret \"B000WB13QC\" as a integer\n",
              "Parse failed at token ending at: \n",
              "\tll!,1343433600,\"07 28, 2012\",False\n",
              "AVJWESQJJN6GQ,B000WB13QC,\u001b[1;31m^\u001b[0mC. Cox,\"[0, 0]\",This is the best little mouse tr\n",
              "Successfully parsed 7 tokens: \n",
              "\t0: A9Y70VN7AHQMT\n",
              "\t1: B000WB13QC\n",
              "\t2: C. Costa \" ... thusiast!\"\n",
              "\t3: [0 0]\n",
              "\t4: \"I'm reall ... 600,\"07 28\n",
              "\t5: 2012\n",
              "\t6: False\n",
              "AVJWESQJJN6GQ</pre>"
            ],
            "text/plain": [
              "Unable to interpret \"B000WB13QC\" as a integer\n",
              "Parse failed at token ending at: \n",
              "\tll!,1343433600,\"07 28, 2012\",False\n",
              "AVJWESQJJN6GQ,B000WB13QC,\u001b[1;31m^\u001b[0mC. Cox,\"[0, 0]\",This is the best little mouse tr\n",
              "Successfully parsed 7 tokens: \n",
              "\t0: A9Y70VN7AHQMT\n",
              "\t1: B000WB13QC\n",
              "\t2: C. Costa \" ... thusiast!\"\n",
              "\t3: [0 0]\n",
              "\t4: \"I'm reall ... 600,\"07 28\n",
              "\t5: 2012\n",
              "\t6: False\n",
              "AVJWESQJJN6GQ"
            ]
          },
          "metadata": {
            "tags": []
          }
        },
        {
          "output_type": "display_data",
          "data": {
            "text/html": [
              "<pre>Unable to interpret \"B001QOGN82\" as a integer\n",
              "Parse failed at token ending at: \n",
              "\tine,1308787200,\"06 23, 2011\",True\n",
              "A3R2T6JDDLS89V,B001QOGN82,\u001b[1;31m^\u001b[0man_amazon_shopper_like_you,\"[1, 1]\",\"Our pool is\n",
              "Successfully parsed 7 tokens: \n",
              "\t0: A34AAMDOJ53S1Z\n",
              "\t1: B001QOGN82\n",
              "\t2: Amber Christenson\n",
              "\t3: [0 0]\n",
              "\t4: \"We just a ... 200,\"06 23\n",
              "\t5: 2011\n",
              "\t6: True\n",
              "A3R2T6JDDLS89V</pre>"
            ],
            "text/plain": [
              "Unable to interpret \"B001QOGN82\" as a integer\n",
              "Parse failed at token ending at: \n",
              "\tine,1308787200,\"06 23, 2011\",True\n",
              "A3R2T6JDDLS89V,B001QOGN82,\u001b[1;31m^\u001b[0man_amazon_shopper_like_you,\"[1, 1]\",\"Our pool is\n",
              "Successfully parsed 7 tokens: \n",
              "\t0: A34AAMDOJ53S1Z\n",
              "\t1: B001QOGN82\n",
              "\t2: Amber Christenson\n",
              "\t3: [0 0]\n",
              "\t4: \"We just a ... 200,\"06 23\n",
              "\t5: 2011\n",
              "\t6: True\n",
              "A3R2T6JDDLS89V"
            ]
          },
          "metadata": {
            "tags": []
          }
        },
        {
          "output_type": "display_data",
          "data": {
            "text/html": [
              "<pre>Unable to interpret \"B005F5FY9M\" as a integer\n",
              "Parse failed at token ending at: \n",
              "\tet.,1386547200,\"12 9, 2013\",False\n",
              "A2JXPHZORW26IF,B005F5FY9M,\u001b[1;31m^\u001b[0moldlendog,\"[0, 0]\",These cranes are really nice \n",
              "Successfully parsed 7 tokens: \n",
              "\t0: A2FJEYWA48OXAL\n",
              "\t1: B005F5FY9M\n",
              "\t2: M Hopper\n",
              "\t3: [1 1]\n",
              "\t4: \"Judging b ... 7200,\"12 9\n",
              "\t5: 2013\n",
              "\t6: False\n",
              "A2JXPHZORW26IF</pre>"
            ],
            "text/plain": [
              "Unable to interpret \"B005F5FY9M\" as a integer\n",
              "Parse failed at token ending at: \n",
              "\tet.,1386547200,\"12 9, 2013\",False\n",
              "A2JXPHZORW26IF,B005F5FY9M,\u001b[1;31m^\u001b[0moldlendog,\"[0, 0]\",These cranes are really nice \n",
              "Successfully parsed 7 tokens: \n",
              "\t0: A2FJEYWA48OXAL\n",
              "\t1: B005F5FY9M\n",
              "\t2: M Hopper\n",
              "\t3: [1 1]\n",
              "\t4: \"Judging b ... 7200,\"12 9\n",
              "\t5: 2013\n",
              "\t6: False\n",
              "A2JXPHZORW26IF"
            ]
          },
          "metadata": {
            "tags": []
          }
        },
        {
          "output_type": "display_data",
          "data": {
            "text/html": [
              "<pre>Unable to interpret \"5.0\" as a array\n",
              "Parse failed at token ending at: \n",
              "\t, a milk box crate & bungee cords and it did the trick\",5.0,\u001b[1;31m^\u001b[0m\"I bought it to make a rolling file box out of t\n",
              "Successfully parsed 3 tokens: \n",
              "\t0: with var...\"\n",
              "\t1: [3, 3]\n",
              "\t2: I bought i ...  the trick</pre>"
            ],
            "text/plain": [
              "Unable to interpret \"5.0\" as a array\n",
              "Parse failed at token ending at: \n",
              "\t, a milk box crate & bungee cords and it did the trick\",5.0,\u001b[1;31m^\u001b[0m\"I bought it to make a rolling file box out of t\n",
              "Successfully parsed 3 tokens: \n",
              "\t0: with var...\"\n",
              "\t1: [3, 3]\n",
              "\t2: I bought i ...  the trick"
            ]
          },
          "metadata": {
            "tags": []
          }
        },
        {
          "output_type": "display_data",
          "data": {
            "text/html": [
              "<pre>Unable to interpret \"5.0\" as a array\n",
              "Parse failed at token ending at: \n",
              "\t.As advertised. delivered on time and at a great price.,5.0,\u001b[1;31m^\u001b[0mdid the trick,1400544000,\"05 20, 2014\",True\n",
              "A33G\n",
              "Successfully parsed 3 tokens: \n",
              "\t0: Steven Ki...\"\n",
              "\t1: [0, 0]\n",
              "\t2: Perfect re ... eat price.</pre>"
            ],
            "text/plain": [
              "Unable to interpret \"5.0\" as a array\n",
              "Parse failed at token ending at: \n",
              "\t.As advertised. delivered on time and at a great price.,5.0,\u001b[1;31m^\u001b[0mdid the trick,1400544000,\"05 20, 2014\",True\n",
              "A33G\n",
              "Successfully parsed 3 tokens: \n",
              "\t0: Steven Ki...\"\n",
              "\t1: [0, 0]\n",
              "\t2: Perfect re ... eat price."
            ]
          },
          "metadata": {
            "tags": []
          }
        },
        {
          "output_type": "display_data",
          "data": {
            "text/html": [
              "<pre>Unable to interpret \"B009YZ5RKK\" as a integer\n",
              "Parse failed at token ending at: \n",
              "\ting,1371513600,\"06 18, 2013\",True\n",
              "A2O38CKO366VDQ,B009YZ5RKK,\u001b[1;31m^\u001b[0mc jansen,\"[1, 1]\",\"An easy, inexpensive solution\n",
              "Successfully parsed 7 tokens: \n",
              "\t0: A1QJ1FE8A5NATP\n",
              "\t1: B009YZ5RKK\n",
              "\t2: AIU3910\n",
              "\t3: [5 5]\n",
              "\t4: \"Works ver ... 600,\"06 18\n",
              "\t5: 2013\n",
              "\t6: True\n",
              "A2O38CKO366VDQ</pre>"
            ],
            "text/plain": [
              "Unable to interpret \"B009YZ5RKK\" as a integer\n",
              "Parse failed at token ending at: \n",
              "\ting,1371513600,\"06 18, 2013\",True\n",
              "A2O38CKO366VDQ,B009YZ5RKK,\u001b[1;31m^\u001b[0mc jansen,\"[1, 1]\",\"An easy, inexpensive solution\n",
              "Successfully parsed 7 tokens: \n",
              "\t0: A1QJ1FE8A5NATP\n",
              "\t1: B009YZ5RKK\n",
              "\t2: AIU3910\n",
              "\t3: [5 5]\n",
              "\t4: \"Works ver ... 600,\"06 18\n",
              "\t5: 2013\n",
              "\t6: True\n",
              "A2O38CKO366VDQ"
            ]
          },
          "metadata": {
            "tags": []
          }
        },
        {
          "output_type": "display_data",
          "data": {
            "text/html": [
              "<pre>13 lines failed to parse correctly</pre>"
            ],
            "text/plain": [
              "13 lines failed to parse correctly"
            ]
          },
          "metadata": {
            "tags": []
          }
        },
        {
          "output_type": "display_data",
          "data": {
            "text/html": [
              "<pre>Finished parsing file /content/reviews_Patio_Lawn_And_Garden.csv</pre>"
            ],
            "text/plain": [
              "Finished parsing file /content/reviews_Patio_Lawn_And_Garden.csv"
            ]
          },
          "metadata": {
            "tags": []
          }
        },
        {
          "output_type": "display_data",
          "data": {
            "text/html": [
              "<pre>Parsing completed. Parsed 503271 lines in 5.29297 secs.</pre>"
            ],
            "text/plain": [
              "Parsing completed. Parsed 503271 lines in 5.29297 secs."
            ]
          },
          "metadata": {
            "tags": []
          }
        }
      ]
    },
    {
      "cell_type": "code",
      "metadata": {
        "id": "i7-7tXvKy8fS",
        "colab_type": "code",
        "colab": {}
      },
      "source": [
        "turicate_df['wordcount'] = tc.text_analytics.count_words(turicate_df['reviewText'])"
      ],
      "execution_count": 0,
      "outputs": []
    },
    {
      "cell_type": "code",
      "metadata": {
        "id": "FpbP3L4Qy8Zr",
        "colab_type": "code",
        "colab": {
          "base_uri": "https://localhost:8080/",
          "height": 804
        },
        "outputId": "1f76945f-79c2-4605-e174-39de41f80531"
      },
      "source": [
        "turicate_df = turicate_df[turicate_df['overall'] !=3.0]\n",
        "turicate_df['binrating'] = turicate_df['overall'] >= 4.0\n",
        "turicate_df.head()\n"
      ],
      "execution_count": 24,
      "outputs": [
        {
          "output_type": "execute_result",
          "data": {
            "text/html": [
              "<div style=\"max-height:1000px;max-width:1500px;overflow:auto;\"><table frame=\"box\" rules=\"cols\">\n",
              "    <tr>\n",
              "        <th style=\"padding-left: 1em; padding-right: 1em; text-align: center\">reviewerID</th>\n",
              "        <th style=\"padding-left: 1em; padding-right: 1em; text-align: center\">asin</th>\n",
              "        <th style=\"padding-left: 1em; padding-right: 1em; text-align: center\">reviewerName</th>\n",
              "        <th style=\"padding-left: 1em; padding-right: 1em; text-align: center\">helpful</th>\n",
              "        <th style=\"padding-left: 1em; padding-right: 1em; text-align: center\">reviewText</th>\n",
              "        <th style=\"padding-left: 1em; padding-right: 1em; text-align: center\">overall</th>\n",
              "    </tr>\n",
              "    <tr>\n",
              "        <td style=\"padding-left: 1em; padding-right: 1em; text-align: center; vertical-align: top\">A2VNYWOPJ13AFP</td>\n",
              "        <td style=\"padding-left: 1em; padding-right: 1em; text-align: center; vertical-align: top\">0981850006</td>\n",
              "        <td style=\"padding-left: 1em; padding-right: 1em; text-align: center; vertical-align: top\">Amazon Customer<br>&quot;carringt0n&quot; ...</td>\n",
              "        <td style=\"padding-left: 1em; padding-right: 1em; text-align: center; vertical-align: top\">[6.0, 7.0]</td>\n",
              "        <td style=\"padding-left: 1em; padding-right: 1em; text-align: center; vertical-align: top\">This was a gift for my<br>other husband.  He&#x27;s ...</td>\n",
              "        <td style=\"padding-left: 1em; padding-right: 1em; text-align: center; vertical-align: top\">5.0</td>\n",
              "    </tr>\n",
              "    <tr>\n",
              "        <td style=\"padding-left: 1em; padding-right: 1em; text-align: center; vertical-align: top\">A20DWVV8HML3AW</td>\n",
              "        <td style=\"padding-left: 1em; padding-right: 1em; text-align: center; vertical-align: top\">0981850006</td>\n",
              "        <td style=\"padding-left: 1em; padding-right: 1em; text-align: center; vertical-align: top\">Cyndy</td>\n",
              "        <td style=\"padding-left: 1em; padding-right: 1em; text-align: center; vertical-align: top\">[0.0, 0.0]</td>\n",
              "        <td style=\"padding-left: 1em; padding-right: 1em; text-align: center; vertical-align: top\">My husband rarely asks<br>for anything specific, ...</td>\n",
              "        <td style=\"padding-left: 1em; padding-right: 1em; text-align: center; vertical-align: top\">5.0</td>\n",
              "    </tr>\n",
              "    <tr>\n",
              "        <td style=\"padding-left: 1em; padding-right: 1em; text-align: center; vertical-align: top\">A3RVP3YBYYOPRH</td>\n",
              "        <td style=\"padding-left: 1em; padding-right: 1em; text-align: center; vertical-align: top\">0981850006</td>\n",
              "        <td style=\"padding-left: 1em; padding-right: 1em; text-align: center; vertical-align: top\">John Warren</td>\n",
              "        <td style=\"padding-left: 1em; padding-right: 1em; text-align: center; vertical-align: top\">[9.0, 11.0]</td>\n",
              "        <td style=\"padding-left: 1em; padding-right: 1em; text-align: center; vertical-align: top\">This guy knows his stuff.<br>I love the seriously  ...</td>\n",
              "        <td style=\"padding-left: 1em; padding-right: 1em; text-align: center; vertical-align: top\">5.0</td>\n",
              "    </tr>\n",
              "    <tr>\n",
              "        <td style=\"padding-left: 1em; padding-right: 1em; text-align: center; vertical-align: top\">A28XY55TP3Q90O</td>\n",
              "        <td style=\"padding-left: 1em; padding-right: 1em; text-align: center; vertical-align: top\">0981850006</td>\n",
              "        <td style=\"padding-left: 1em; padding-right: 1em; text-align: center; vertical-align: top\">JSG &quot;Lover of Learning&quot;</td>\n",
              "        <td style=\"padding-left: 1em; padding-right: 1em; text-align: center; vertical-align: top\">[1.0, 1.0]</td>\n",
              "        <td style=\"padding-left: 1em; padding-right: 1em; text-align: center; vertical-align: top\">THIS CAN BE FOUND AT:<br>[...] FOR $19.99, als ...</td>\n",
              "        <td style=\"padding-left: 1em; padding-right: 1em; text-align: center; vertical-align: top\">5.0</td>\n",
              "    </tr>\n",
              "    <tr>\n",
              "        <td style=\"padding-left: 1em; padding-right: 1em; text-align: center; vertical-align: top\">A3VZW1BGUQO0V3</td>\n",
              "        <td style=\"padding-left: 1em; padding-right: 1em; text-align: center; vertical-align: top\">0981850006</td>\n",
              "        <td style=\"padding-left: 1em; padding-right: 1em; text-align: center; vertical-align: top\">Marc G. Belisle<br>&quot;Allswell2001&quot; ...</td>\n",
              "        <td style=\"padding-left: 1em; padding-right: 1em; text-align: center; vertical-align: top\">[2.0, 2.0]</td>\n",
              "        <td style=\"padding-left: 1em; padding-right: 1em; text-align: center; vertical-align: top\">Quite good particularly<br>for inspiration (DVD ...</td>\n",
              "        <td style=\"padding-left: 1em; padding-right: 1em; text-align: center; vertical-align: top\">5.0</td>\n",
              "    </tr>\n",
              "    <tr>\n",
              "        <td style=\"padding-left: 1em; padding-right: 1em; text-align: center; vertical-align: top\">A2R9T5D7UVQZB0</td>\n",
              "        <td style=\"padding-left: 1em; padding-right: 1em; text-align: center; vertical-align: top\">0981850006</td>\n",
              "        <td style=\"padding-left: 1em; padding-right: 1em; text-align: center; vertical-align: top\">S. Samaras</td>\n",
              "        <td style=\"padding-left: 1em; padding-right: 1em; text-align: center; vertical-align: top\">[6.0, 8.0]</td>\n",
              "        <td style=\"padding-left: 1em; padding-right: 1em; text-align: center; vertical-align: top\">The DVD is very useful<br>and very detailed and ...</td>\n",
              "        <td style=\"padding-left: 1em; padding-right: 1em; text-align: center; vertical-align: top\">5.0</td>\n",
              "    </tr>\n",
              "    <tr>\n",
              "        <td style=\"padding-left: 1em; padding-right: 1em; text-align: center; vertical-align: top\">A2MH49GAEWEI95</td>\n",
              "        <td style=\"padding-left: 1em; padding-right: 1em; text-align: center; vertical-align: top\">0981850006</td>\n",
              "        <td style=\"padding-left: 1em; padding-right: 1em; text-align: center; vertical-align: top\">Thomas O.</td>\n",
              "        <td style=\"padding-left: 1em; padding-right: 1em; text-align: center; vertical-align: top\">[0.0, 0.0]</td>\n",
              "        <td style=\"padding-left: 1em; padding-right: 1em; text-align: center; vertical-align: top\">Have learned to use my<br>grill for making many ...</td>\n",
              "        <td style=\"padding-left: 1em; padding-right: 1em; text-align: center; vertical-align: top\">5.0</td>\n",
              "    </tr>\n",
              "    <tr>\n",
              "        <td style=\"padding-left: 1em; padding-right: 1em; text-align: center; vertical-align: top\">AR5DPX4ZU3D4Z</td>\n",
              "        <td style=\"padding-left: 1em; padding-right: 1em; text-align: center; vertical-align: top\">144072007X</td>\n",
              "        <td style=\"padding-left: 1em; padding-right: 1em; text-align: center; vertical-align: top\">Aaron Daniels</td>\n",
              "        <td style=\"padding-left: 1em; padding-right: 1em; text-align: center; vertical-align: top\">[1.0, 6.0]</td>\n",
              "        <td style=\"padding-left: 1em; padding-right: 1em; text-align: center; vertical-align: top\">I saw this deal and<br>ordered it immediatel ...</td>\n",
              "        <td style=\"padding-left: 1em; padding-right: 1em; text-align: center; vertical-align: top\">1.0</td>\n",
              "    </tr>\n",
              "    <tr>\n",
              "        <td style=\"padding-left: 1em; padding-right: 1em; text-align: center; vertical-align: top\">A3OGMCRM3NL8OM</td>\n",
              "        <td style=\"padding-left: 1em; padding-right: 1em; text-align: center; vertical-align: top\">144072007X</td>\n",
              "        <td style=\"padding-left: 1em; padding-right: 1em; text-align: center; vertical-align: top\">Ivan Moreno</td>\n",
              "        <td style=\"padding-left: 1em; padding-right: 1em; text-align: center; vertical-align: top\">[1.0, 1.0]</td>\n",
              "        <td style=\"padding-left: 1em; padding-right: 1em; text-align: center; vertical-align: top\">This metal detector is<br>light and powerful. It ...</td>\n",
              "        <td style=\"padding-left: 1em; padding-right: 1em; text-align: center; vertical-align: top\">5.0</td>\n",
              "    </tr>\n",
              "    <tr>\n",
              "        <td style=\"padding-left: 1em; padding-right: 1em; text-align: center; vertical-align: top\">A7E1GKNNT96QQ</td>\n",
              "        <td style=\"padding-left: 1em; padding-right: 1em; text-align: center; vertical-align: top\">144072007X</td>\n",
              "        <td style=\"padding-left: 1em; padding-right: 1em; text-align: center; vertical-align: top\">S. Tunder</td>\n",
              "        <td style=\"padding-left: 1em; padding-right: 1em; text-align: center; vertical-align: top\">[15.0, 16.0]</td>\n",
              "        <td style=\"padding-left: 1em; padding-right: 1em; text-align: center; vertical-align: top\">Don&#x27;t buy this machine. I<br>have one and I don&#x27;t  ...</td>\n",
              "        <td style=\"padding-left: 1em; padding-right: 1em; text-align: center; vertical-align: top\">5.0</td>\n",
              "    </tr>\n",
              "</table>\n",
              "<table frame=\"box\" rules=\"cols\">\n",
              "    <tr>\n",
              "        <th style=\"padding-left: 1em; padding-right: 1em; text-align: center\">summary</th>\n",
              "        <th style=\"padding-left: 1em; padding-right: 1em; text-align: center\">unixReviewTime</th>\n",
              "        <th style=\"padding-left: 1em; padding-right: 1em; text-align: center\">reviewTime</th>\n",
              "        <th style=\"padding-left: 1em; padding-right: 1em; text-align: center\">binrating</th>\n",
              "        <th style=\"padding-left: 1em; padding-right: 1em; text-align: center\">wordcount</th>\n",
              "    </tr>\n",
              "    <tr>\n",
              "        <td style=\"padding-left: 1em; padding-right: 1em; text-align: center; vertical-align: top\">Delish</td>\n",
              "        <td style=\"padding-left: 1em; padding-right: 1em; text-align: center; vertical-align: top\">1259798400</td>\n",
              "        <td style=\"padding-left: 1em; padding-right: 1em; text-align: center; vertical-align: top\">12 3, 2009</td>\n",
              "        <td style=\"padding-left: 1em; padding-right: 1em; text-align: center; vertical-align: top\">1</td>\n",
              "        <td style=\"padding-left: 1em; padding-right: 1em; text-align: center; vertical-align: top\">{&#x27;yum&#x27;: 1, &#x27;about&#x27;: 1,<br>&#x27;that&#x27;: 1, &#x27;into&#x27;: 1, ...</td>\n",
              "    </tr>\n",
              "    <tr>\n",
              "        <td style=\"padding-left: 1em; padding-right: 1em; text-align: center; vertical-align: top\">Just what my husband<br>wanted ...</td>\n",
              "        <td style=\"padding-left: 1em; padding-right: 1em; text-align: center; vertical-align: top\">1371081600</td>\n",
              "        <td style=\"padding-left: 1em; padding-right: 1em; text-align: center; vertical-align: top\">06 13, 2013</td>\n",
              "        <td style=\"padding-left: 1em; padding-right: 1em; text-align: center; vertical-align: top\">1</td>\n",
              "        <td style=\"padding-left: 1em; padding-right: 1em; text-align: center; vertical-align: top\">{&#x27;really&#x27;: 1, &#x27;but&#x27;: 1,<br>&#x27;specific&#x27;: 1, &#x27;so&#x27;: 2, ...</td>\n",
              "    </tr>\n",
              "    <tr>\n",
              "        <td style=\"padding-left: 1em; padding-right: 1em; text-align: center; vertical-align: top\">Love This Show!</td>\n",
              "        <td style=\"padding-left: 1em; padding-right: 1em; text-align: center; vertical-align: top\">1257984000</td>\n",
              "        <td style=\"padding-left: 1em; padding-right: 1em; text-align: center; vertical-align: top\">11 12, 2009</td>\n",
              "        <td style=\"padding-left: 1em; padding-right: 1em; text-align: center; vertical-align: top\">1</td>\n",
              "        <td style=\"padding-left: 1em; padding-right: 1em; text-align: center; vertical-align: top\">{&#x27;well&#x27;: 1, &#x27;as&#x27;: 1,<br>&#x27;by&#x27;: 1, &#x27;the&#x27;: 2, &#x27;o ...</td>\n",
              "    </tr>\n",
              "    <tr>\n",
              "        <td style=\"padding-left: 1em; padding-right: 1em; text-align: center; vertical-align: top\">BUY ELSEWHERE, TOO<br>EXPENSIVE ...</td>\n",
              "        <td style=\"padding-left: 1em; padding-right: 1em; text-align: center; vertical-align: top\">1314144000</td>\n",
              "        <td style=\"padding-left: 1em; padding-right: 1em; text-align: center; vertical-align: top\">08 24, 2011</td>\n",
              "        <td style=\"padding-left: 1em; padding-right: 1em; text-align: center; vertical-align: top\">1</td>\n",
              "        <td style=\"padding-left: 1em; padding-right: 1em; text-align: center; vertical-align: top\">{&#x27;little&#x27;: 1, &#x27;too&#x27;: 1,<br>&#x27;and&#x27;: 1, &#x27;raichlen&#x27;: 1, ...</td>\n",
              "    </tr>\n",
              "    <tr>\n",
              "        <td style=\"padding-left: 1em; padding-right: 1em; text-align: center; vertical-align: top\">Quite good but I *much*<br>prefer the cookbooks ...</td>\n",
              "        <td style=\"padding-left: 1em; padding-right: 1em; text-align: center; vertical-align: top\">1308268800</td>\n",
              "        <td style=\"padding-left: 1em; padding-right: 1em; text-align: center; vertical-align: top\">06 17, 2011</td>\n",
              "        <td style=\"padding-left: 1em; padding-right: 1em; text-align: center; vertical-align: top\">1</td>\n",
              "        <td style=\"padding-left: 1em; padding-right: 1em; text-align: center; vertical-align: top\">{&#x27;winter&#x27;: 1, &#x27;that&#x27;: 1,<br>&#x27;baking&#x27;: 1, &#x27;by&#x27;: 1, ...</td>\n",
              "    </tr>\n",
              "    <tr>\n",
              "        <td style=\"padding-left: 1em; padding-right: 1em; text-align: center; vertical-align: top\">Good Stuff</td>\n",
              "        <td style=\"padding-left: 1em; padding-right: 1em; text-align: center; vertical-align: top\">1253577600</td>\n",
              "        <td style=\"padding-left: 1em; padding-right: 1em; text-align: center; vertical-align: top\">09 22, 2009</td>\n",
              "        <td style=\"padding-left: 1em; padding-right: 1em; text-align: center; vertical-align: top\">1</td>\n",
              "        <td style=\"padding-left: 1em; padding-right: 1em; text-align: center; vertical-align: top\">{&#x27;easy&#x27;: 1, &#x27;makes&#x27;: 1,<br>&#x27;detailed&#x27;: 1, &#x27;for&#x27;: 1, ...</td>\n",
              "    </tr>\n",
              "    <tr>\n",
              "        <td style=\"padding-left: 1em; padding-right: 1em; text-align: center; vertical-align: top\">wonderfull ideas for<br>using your grill for  ...</td>\n",
              "        <td style=\"padding-left: 1em; padding-right: 1em; text-align: center; vertical-align: top\">1395532800</td>\n",
              "        <td style=\"padding-left: 1em; padding-right: 1em; text-align: center; vertical-align: top\">03 23, 2014</td>\n",
              "        <td style=\"padding-left: 1em; padding-right: 1em; text-align: center; vertical-align: top\">1</td>\n",
              "        <td style=\"padding-left: 1em; padding-right: 1em; text-align: center; vertical-align: top\">{&#x27;cook&#x27;: 1, &#x27;has&#x27;: 1,<br>&#x27;it&#x27;: 1, &#x27;friends&#x27;: 1, ...</td>\n",
              "    </tr>\n",
              "    <tr>\n",
              "        <td style=\"padding-left: 1em; padding-right: 1em; text-align: center; vertical-align: top\">They sent me a book?</td>\n",
              "        <td style=\"padding-left: 1em; padding-right: 1em; text-align: center; vertical-align: top\">1360886400</td>\n",
              "        <td style=\"padding-left: 1em; padding-right: 1em; text-align: center; vertical-align: top\">02 15, 2013</td>\n",
              "        <td style=\"padding-left: 1em; padding-right: 1em; text-align: center; vertical-align: top\">0</td>\n",
              "        <td style=\"padding-left: 1em; padding-right: 1em; text-align: center; vertical-align: top\">{&#x27;before&#x27;: 1,<br>&#x27;everything&#x27;: 1, &#x27;into&#x27;: ...</td>\n",
              "    </tr>\n",
              "    <tr>\n",
              "        <td style=\"padding-left: 1em; padding-right: 1em; text-align: center; vertical-align: top\">Tesoro Sand Shark metal<br>detector ...</td>\n",
              "        <td style=\"padding-left: 1em; padding-right: 1em; text-align: center; vertical-align: top\">1360108800</td>\n",
              "        <td style=\"padding-left: 1em; padding-right: 1em; text-align: center; vertical-align: top\">02 6, 2013</td>\n",
              "        <td style=\"padding-left: 1em; padding-right: 1em; text-align: center; vertical-align: top\">1</td>\n",
              "        <td style=\"padding-left: 1em; padding-right: 1em; text-align: center; vertical-align: top\">{&#x27;impressed&#x27;: 1, &#x27;am&#x27;: 1,<br>&#x27;few&#x27;: 1, &#x27;days&#x27;: 1,  ...</td>\n",
              "    </tr>\n",
              "    <tr>\n",
              "        <td style=\"padding-left: 1em; padding-right: 1em; text-align: center; vertical-align: top\">Don&#x27;t buy it</td>\n",
              "        <td style=\"padding-left: 1em; padding-right: 1em; text-align: center; vertical-align: top\">1206057600</td>\n",
              "        <td style=\"padding-left: 1em; padding-right: 1em; text-align: center; vertical-align: top\">03 21, 2008</td>\n",
              "        <td style=\"padding-left: 1em; padding-right: 1em; text-align: center; vertical-align: top\">1</td>\n",
              "        <td style=\"padding-left: 1em; padding-right: 1em; text-align: center; vertical-align: top\">{&#x27;caps&#x27;: 1, &#x27;or&#x27;: 1,<br>&#x27;tabs&#x27;: 1, &#x27;like&#x27;: 1, ...</td>\n",
              "    </tr>\n",
              "</table>\n",
              "[10 rows x 11 columns]<br/>\n",
              "</div>"
            ],
            "text/plain": [
              "Columns:\n",
              "\treviewerID\tstr\n",
              "\tasin\tstr\n",
              "\treviewerName\tstr\n",
              "\thelpful\tarray\n",
              "\treviewText\tstr\n",
              "\toverall\tfloat\n",
              "\tsummary\tstr\n",
              "\tunixReviewTime\tint\n",
              "\treviewTime\tstr\n",
              "\tbinrating\tint\n",
              "\twordcount\tdict\n",
              "\n",
              "Rows: 10\n",
              "\n",
              "Data:\n",
              "+----------------+------------+--------------------------------+--------------+\n",
              "|   reviewerID   |    asin    |          reviewerName          |   helpful    |\n",
              "+----------------+------------+--------------------------------+--------------+\n",
              "| A2VNYWOPJ13AFP | 0981850006 |  Amazon Customer \"carringt0n\"  |  [6.0, 7.0]  |\n",
              "| A20DWVV8HML3AW | 0981850006 |             Cyndy              |  [0.0, 0.0]  |\n",
              "| A3RVP3YBYYOPRH | 0981850006 |          John Warren           | [9.0, 11.0]  |\n",
              "| A28XY55TP3Q90O | 0981850006 |    JSG \"Lover of Learning\"     |  [1.0, 1.0]  |\n",
              "| A3VZW1BGUQO0V3 | 0981850006 | Marc G. Belisle \"Allswell2001\" |  [2.0, 2.0]  |\n",
              "| A2R9T5D7UVQZB0 | 0981850006 |           S. Samaras           |  [6.0, 8.0]  |\n",
              "| A2MH49GAEWEI95 | 0981850006 |           Thomas O.            |  [0.0, 0.0]  |\n",
              "| AR5DPX4ZU3D4Z  | 144072007X |         Aaron Daniels          |  [1.0, 6.0]  |\n",
              "| A3OGMCRM3NL8OM | 144072007X |          Ivan Moreno           |  [1.0, 1.0]  |\n",
              "| A7E1GKNNT96QQ  | 144072007X |           S. Tunder            | [15.0, 16.0] |\n",
              "+----------------+------------+--------------------------------+--------------+\n",
              "+-------------------------------+---------+-------------------------------+\n",
              "|           reviewText          | overall |            summary            |\n",
              "+-------------------------------+---------+-------------------------------+\n",
              "| This was a gift for my oth... |   5.0   |             Delish            |\n",
              "| My husband rarely asks for... |   5.0   |  Just what my husband wanted  |\n",
              "| This guy knows his stuff. ... |   5.0   |        Love This Show!        |\n",
              "| THIS CAN BE FOUND AT: [...... |   5.0   |  BUY ELSEWHERE, TOO EXPENSIVE |\n",
              "| Quite good particularly fo... |   5.0   | Quite good but I *much* pr... |\n",
              "| The DVD is very useful and... |   5.0   |           Good Stuff          |\n",
              "| Have learned to use my gri... |   5.0   | wonderfull ideas for using... |\n",
              "| I saw this deal and ordere... |   1.0   |      They sent me a book?     |\n",
              "| This metal detector is lig... |   5.0   | Tesoro Sand Shark metal de... |\n",
              "| Don't buy this machine. I ... |   5.0   |          Don't buy it         |\n",
              "+-------------------------------+---------+-------------------------------+\n",
              "+----------------+-------------+-----------+-------------------------------+\n",
              "| unixReviewTime |  reviewTime | binrating |           wordcount           |\n",
              "+----------------+-------------+-----------+-------------------------------+\n",
              "|   1259798400   |  12 3, 2009 |     1     | {'yum': 1, 'about': 1, 'th... |\n",
              "|   1371081600   | 06 13, 2013 |     1     | {'really': 1, 'but': 1, 's... |\n",
              "|   1257984000   | 11 12, 2009 |     1     | {'well': 1, 'as': 1, 'by':... |\n",
              "|   1314144000   | 08 24, 2011 |     1     | {'little': 1, 'too': 1, 'a... |\n",
              "|   1308268800   | 06 17, 2011 |     1     | {'winter': 1, 'that': 1, '... |\n",
              "|   1253577600   | 09 22, 2009 |     1     | {'easy': 1, 'makes': 1, 'd... |\n",
              "|   1395532800   | 03 23, 2014 |     1     | {'cook': 1, 'has': 1, 'it'... |\n",
              "|   1360886400   | 02 15, 2013 |     0     | {'before': 1, 'everything'... |\n",
              "|   1360108800   |  02 6, 2013 |     1     | {'impressed': 1, 'am': 1, ... |\n",
              "|   1206057600   | 03 21, 2008 |     1     | {'caps': 1, 'or': 1, 'tabs... |\n",
              "+----------------+-------------+-----------+-------------------------------+\n",
              "[10 rows x 11 columns]"
            ]
          },
          "metadata": {
            "tags": []
          },
          "execution_count": 24
        }
      ]
    },
    {
      "cell_type": "code",
      "metadata": {
        "id": "_Q4vAUK10tBd",
        "colab_type": "code",
        "colab": {}
      },
      "source": [
        "#Create training and test data set.\n",
        "train_data, test_data = turicate_df.random_split(0.8, seed=0)"
      ],
      "execution_count": 0,
      "outputs": []
    },
    {
      "cell_type": "code",
      "metadata": {
        "id": "YAHRJt6PPxF8",
        "colab_type": "code",
        "colab": {
          "base_uri": "https://localhost:8080/",
          "height": 365
        },
        "outputId": "04e7bbb6-9e36-4b63-f939-d3843c7cee7c"
      },
      "source": [
        "model = tc.regression.create(train_data,\n",
        "                    target='binrating',\n",
        "                    features=['wordcount'])"
      ],
      "execution_count": 30,
      "outputs": [
        {
          "output_type": "display_data",
          "data": {
            "text/html": [
              "<pre>Automatically generating validation set by sampling about 10000 out of 402543 datapoints.</pre>"
            ],
            "text/plain": [
              "Automatically generating validation set by sampling about 10000 out of 402543 datapoints."
            ]
          },
          "metadata": {
            "tags": []
          }
        },
        {
          "output_type": "display_data",
          "data": {
            "text/html": [
              "<pre>Linear regression:</pre>"
            ],
            "text/plain": [
              "Linear regression:"
            ]
          },
          "metadata": {
            "tags": []
          }
        },
        {
          "output_type": "display_data",
          "data": {
            "text/html": [
              "<pre>--------------------------------------------------------</pre>"
            ],
            "text/plain": [
              "--------------------------------------------------------"
            ]
          },
          "metadata": {
            "tags": []
          }
        },
        {
          "output_type": "display_data",
          "data": {
            "text/html": [
              "<pre>Number of examples          : 99981</pre>"
            ],
            "text/plain": [
              "Number of examples          : 99981"
            ]
          },
          "metadata": {
            "tags": []
          }
        },
        {
          "output_type": "display_data",
          "data": {
            "text/html": [
              "<pre>Number of features          : 1</pre>"
            ],
            "text/plain": [
              "Number of features          : 1"
            ]
          },
          "metadata": {
            "tags": []
          }
        },
        {
          "output_type": "display_data",
          "data": {
            "text/html": [
              "<pre>Number of unpacked features : 61901</pre>"
            ],
            "text/plain": [
              "Number of unpacked features : 61901"
            ]
          },
          "metadata": {
            "tags": []
          }
        },
        {
          "output_type": "display_data",
          "data": {
            "text/html": [
              "<pre>Number of coefficients    : 61902</pre>"
            ],
            "text/plain": [
              "Number of coefficients    : 61902"
            ]
          },
          "metadata": {
            "tags": []
          }
        },
        {
          "output_type": "display_data",
          "data": {
            "text/html": [
              "<pre>Starting L-BFGS</pre>"
            ],
            "text/plain": [
              "Starting L-BFGS"
            ]
          },
          "metadata": {
            "tags": []
          }
        },
        {
          "output_type": "display_data",
          "data": {
            "text/html": [
              "<pre>--------------------------------------------------------</pre>"
            ],
            "text/plain": [
              "--------------------------------------------------------"
            ]
          },
          "metadata": {
            "tags": []
          }
        },
        {
          "output_type": "display_data",
          "data": {
            "text/html": [
              "<pre>+-----------+----------+-----------+--------------+--------------------+----------------------+---------------------------------+-----------------------------------+</pre>"
            ],
            "text/plain": [
              "+-----------+----------+-----------+--------------+--------------------+----------------------+---------------------------------+-----------------------------------+"
            ]
          },
          "metadata": {
            "tags": []
          }
        },
        {
          "output_type": "display_data",
          "data": {
            "text/html": [
              "<pre>| Iteration | Passes   | Step size | Elapsed Time | Training Max Error | Validation Max Error | Training Root-Mean-Square Error | Validation Root-Mean-Square Error |</pre>"
            ],
            "text/plain": [
              "| Iteration | Passes   | Step size | Elapsed Time | Training Max Error | Validation Max Error | Training Root-Mean-Square Error | Validation Root-Mean-Square Error |"
            ]
          },
          "metadata": {
            "tags": []
          }
        },
        {
          "output_type": "display_data",
          "data": {
            "text/html": [
              "<pre>+-----------+----------+-----------+--------------+--------------------+----------------------+---------------------------------+-----------------------------------+</pre>"
            ],
            "text/plain": [
              "+-----------+----------+-----------+--------------+--------------------+----------------------+---------------------------------+-----------------------------------+"
            ]
          },
          "metadata": {
            "tags": []
          }
        },
        {
          "output_type": "display_data",
          "data": {
            "text/html": [
              "<pre>| 0         | 5        | 0.012829  | 1.015867     | 11.920252          | 9.064055             | 0.732664                        | 0.731770                          |</pre>"
            ],
            "text/plain": [
              "| 0         | 5        | 0.012829  | 1.015867     | 11.920252          | 9.064055             | 0.732664                        | 0.731770                          |"
            ]
          },
          "metadata": {
            "tags": []
          }
        },
        {
          "output_type": "display_data",
          "data": {
            "text/html": [
              "<pre>| 1         | 11       | 4.374636  | 2.368529     | 37.285613          | 7.207034             | 0.630986                        | 0.647929                          |</pre>"
            ],
            "text/plain": [
              "| 1         | 11       | 4.374636  | 2.368529     | 37.285613          | 7.207034             | 0.630986                        | 0.647929                          |"
            ]
          },
          "metadata": {
            "tags": []
          }
        },
        {
          "output_type": "display_data",
          "data": {
            "text/html": [
              "<pre>| 2         | 12       | 4.374636  | 2.745161     | 176.399162         | 7.439480             | 1.064310                        | 0.692178                          |</pre>"
            ],
            "text/plain": [
              "| 2         | 12       | 4.374636  | 2.745161     | 176.399162         | 7.439480             | 1.064310                        | 0.692178                          |"
            ]
          },
          "metadata": {
            "tags": []
          }
        },
        {
          "output_type": "display_data",
          "data": {
            "text/html": [
              "<pre>| 3         | 14       | 1.148143  | 3.317981     | 13.803794          | 5.572170             | 0.484588                        | 0.526459                          |</pre>"
            ],
            "text/plain": [
              "| 3         | 14       | 1.148143  | 3.317981     | 13.803794          | 5.572170             | 0.484588                        | 0.526459                          |"
            ]
          },
          "metadata": {
            "tags": []
          }
        },
        {
          "output_type": "display_data",
          "data": {
            "text/html": [
              "<pre>| 4         | 15       | 1.148143  | 3.701823     | 10.319909          | 4.930816             | 0.442877                        | 0.504020                          |</pre>"
            ],
            "text/plain": [
              "| 4         | 15       | 1.148143  | 3.701823     | 10.319909          | 4.930816             | 0.442877                        | 0.504020                          |"
            ]
          },
          "metadata": {
            "tags": []
          }
        },
        {
          "output_type": "display_data",
          "data": {
            "text/html": [
              "<pre>| 9         | 24       | 1.000000  | 6.382607     | 7.516517           | 4.036400             | 0.327714                        | 0.460117                          |</pre>"
            ],
            "text/plain": [
              "| 9         | 24       | 1.000000  | 6.382607     | 7.516517           | 4.036400             | 0.327714                        | 0.460117                          |"
            ]
          },
          "metadata": {
            "tags": []
          }
        },
        {
          "output_type": "display_data",
          "data": {
            "text/html": [
              "<pre>+-----------+----------+-----------+--------------+--------------------+----------------------+---------------------------------+-----------------------------------+</pre>"
            ],
            "text/plain": [
              "+-----------+----------+-----------+--------------+--------------------+----------------------+---------------------------------+-----------------------------------+"
            ]
          },
          "metadata": {
            "tags": []
          }
        }
      ]
    },
    {
      "cell_type": "code",
      "metadata": {
        "id": "zVdhvSzmP7OV",
        "colab_type": "code",
        "colab": {
          "base_uri": "https://localhost:8080/",
          "height": 92
        },
        "outputId": "66da49cf-6434-4bf2-b061-53c6184a1553"
      },
      "source": [
        "predictions = model.predict(test_data)\n",
        "predictions"
      ],
      "execution_count": 34,
      "outputs": [
        {
          "output_type": "execute_result",
          "data": {
            "text/plain": [
              "dtype: float\n",
              "Rows: 100728\n",
              "[0.3342255323775024, 0.6676317735235132, 0.6953092733978444, 0.5731594426664443, 0.8648568451835962, 0.7350442099734219, 1.6126417619715911, 1.1037132226660287, 0.9474621696154182, -0.19646025365143902, 0.676478934821499, 1.400021569456624, 1.0898135156317723, 0.7467270688686962, 0.7553378180075638, 1.4446789048342186, 0.009476045684895962, 0.898211502349855, 0.13302230888130825, 1.109741536210011, 0.7409469954947336, 1.2543019168339888, 0.7656717935128347, 0.7164694308878318, 0.5535439853037925, 0.5587068716812191, 0.8796185393369709, 0.467181409462616, 0.43005909743866344, 0.6792101727882455, 2.0899977307526774, 0.6350759178768828, 0.6246058960631897, 0.6058942348432087, 0.8283332303926684, 1.575902642893179, 0.22889584029911758, 0.8072103152122231, 0.6539920949560671, 0.3605532361923765, 1.0508378022038043, 1.0211751940844878, 0.9814942443674561, 0.05797330405295281, 0.4060699559347192, 0.19263163960999727, 0.6891833041765849, 0.5011025842764033, 0.9546085841390669, 0.3045517399906102, 0.9109075535265381, 0.5605254517971373, 0.5774393531970204, 0.18080762822311044, 1.8892852436492793, 0.32758357926351994, 0.5929424061214703, 0.4224628723489764, 0.820398939463972, 1.3016591476979664, 1.4049450966891692, 1.7568529486111146, -0.23715799597469964, 0.6761676112268311, 0.3819298306495085, 0.557558725359785, 0.09110922473072397, 0.5914197887121698, -0.14891516586202572, 1.601716278298399, -0.5759731923116181, 0.7965745776917377, 1.7799948756238397, 0.4748755627697301, 0.9655845183305879, 0.9916513425725235, 0.7841292284401953, 1.4881025732422681, 0.09263436426223287, 0.8662321115821745, 0.3354748702138781, 1.0780145045665241, 1.8371110723014137, 0.44609897882111305, 0.8057585877820881, 0.8126615164750834, 0.4588260814170821, 1.1614204245869855, 0.5122119307698931, 0.6815334827238987, 0.2962828344708431, 0.8109844657053196, 0.48381316941160946, 1.5105813008183115, 0.8668056721407633, 1.2518484523090507, 1.2441814445015351, 1.1508131534073116, 1.0226432726804553, 0.9479275605889712, ... ]"
            ]
          },
          "metadata": {
            "tags": []
          },
          "execution_count": 34
        }
      ]
    },
    {
      "cell_type": "code",
      "metadata": {
        "id": "XauNQdyQP_OU",
        "colab_type": "code",
        "colab": {
          "base_uri": "https://localhost:8080/",
          "height": 35
        },
        "outputId": "a6405751-2e14-4b3a-e5e1-4ea2552ee1fa"
      },
      "source": [
        "results = model.evaluate(test_data)\n",
        "results"
      ],
      "execution_count": 33,
      "outputs": [
        {
          "output_type": "execute_result",
          "data": {
            "text/plain": [
              "{'max_error': 7.680065194581789, 'rmse': 0.46686984893629757}"
            ]
          },
          "metadata": {
            "tags": []
          },
          "execution_count": 33
        }
      ]
    },
    {
      "cell_type": "code",
      "metadata": {
        "id": "HkUAfGE10y2M",
        "colab_type": "code",
        "colab": {
          "base_uri": "https://localhost:8080/",
          "height": 328
        },
        "outputId": "a238d4ef-c9fe-45a7-d054-773d8a7f011d"
      },
      "source": [
        "sentiment_model = tc.logistic_classifier.create (train_data,\n",
        "                    target='binrating',\n",
        "                    features=['wordcount'],\n",
        "                    validation_set=test_data)"
      ],
      "execution_count": 26,
      "outputs": [
        {
          "output_type": "display_data",
          "data": {
            "text/html": [
              "<pre>Logistic regression:</pre>"
            ],
            "text/plain": [
              "Logistic regression:"
            ]
          },
          "metadata": {
            "tags": []
          }
        },
        {
          "output_type": "display_data",
          "data": {
            "text/html": [
              "<pre>--------------------------------------------------------</pre>"
            ],
            "text/plain": [
              "--------------------------------------------------------"
            ]
          },
          "metadata": {
            "tags": []
          }
        },
        {
          "output_type": "display_data",
          "data": {
            "text/html": [
              "<pre>Number of examples          : 402543</pre>"
            ],
            "text/plain": [
              "Number of examples          : 402543"
            ]
          },
          "metadata": {
            "tags": []
          }
        },
        {
          "output_type": "display_data",
          "data": {
            "text/html": [
              "<pre>Number of classes           : 2</pre>"
            ],
            "text/plain": [
              "Number of classes           : 2"
            ]
          },
          "metadata": {
            "tags": []
          }
        },
        {
          "output_type": "display_data",
          "data": {
            "text/html": [
              "<pre>Number of feature columns   : 1</pre>"
            ],
            "text/plain": [
              "Number of feature columns   : 1"
            ]
          },
          "metadata": {
            "tags": []
          }
        },
        {
          "output_type": "display_data",
          "data": {
            "text/html": [
              "<pre>Number of unpacked features : 130883</pre>"
            ],
            "text/plain": [
              "Number of unpacked features : 130883"
            ]
          },
          "metadata": {
            "tags": []
          }
        },
        {
          "output_type": "display_data",
          "data": {
            "text/html": [
              "<pre>Number of coefficients      : 130884</pre>"
            ],
            "text/plain": [
              "Number of coefficients      : 130884"
            ]
          },
          "metadata": {
            "tags": []
          }
        },
        {
          "output_type": "display_data",
          "data": {
            "text/html": [
              "<pre>Starting L-BFGS</pre>"
            ],
            "text/plain": [
              "Starting L-BFGS"
            ]
          },
          "metadata": {
            "tags": []
          }
        },
        {
          "output_type": "display_data",
          "data": {
            "text/html": [
              "<pre>--------------------------------------------------------</pre>"
            ],
            "text/plain": [
              "--------------------------------------------------------"
            ]
          },
          "metadata": {
            "tags": []
          }
        },
        {
          "output_type": "display_data",
          "data": {
            "text/html": [
              "<pre>+-----------+----------+-----------+--------------+-------------------+---------------------+</pre>"
            ],
            "text/plain": [
              "+-----------+----------+-----------+--------------+-------------------+---------------------+"
            ]
          },
          "metadata": {
            "tags": []
          }
        },
        {
          "output_type": "display_data",
          "data": {
            "text/html": [
              "<pre>| Iteration | Passes   | Step size | Elapsed Time | Training Accuracy | Validation Accuracy |</pre>"
            ],
            "text/plain": [
              "| Iteration | Passes   | Step size | Elapsed Time | Training Accuracy | Validation Accuracy |"
            ]
          },
          "metadata": {
            "tags": []
          }
        },
        {
          "output_type": "display_data",
          "data": {
            "text/html": [
              "<pre>+-----------+----------+-----------+--------------+-------------------+---------------------+</pre>"
            ],
            "text/plain": [
              "+-----------+----------+-----------+--------------+-------------------+---------------------+"
            ]
          },
          "metadata": {
            "tags": []
          }
        },
        {
          "output_type": "display_data",
          "data": {
            "text/html": [
              "<pre>| 0         | 5        | 0.098632  | 5.476955     | 0.804813          | 0.804384            |</pre>"
            ],
            "text/plain": [
              "| 0         | 5        | 0.098632  | 5.476955     | 0.804813          | 0.804384            |"
            ]
          },
          "metadata": {
            "tags": []
          }
        },
        {
          "output_type": "display_data",
          "data": {
            "text/html": [
              "<pre>| 1         | 10       | 8.383759  | 10.588769    | 0.909632          | 0.893565            |</pre>"
            ],
            "text/plain": [
              "| 1         | 10       | 8.383759  | 10.588769    | 0.909632          | 0.893565            |"
            ]
          },
          "metadata": {
            "tags": []
          }
        },
        {
          "output_type": "display_data",
          "data": {
            "text/html": [
              "<pre>| 2         | 11       | 8.383759  | 12.174244    | 0.927056          | 0.905061            |</pre>"
            ],
            "text/plain": [
              "| 2         | 11       | 8.383759  | 12.174244    | 0.927056          | 0.905061            |"
            ]
          },
          "metadata": {
            "tags": []
          }
        },
        {
          "output_type": "display_data",
          "data": {
            "text/html": [
              "<pre>| 3         | 13       | 4.402062  | 14.645834    | 0.931625          | 0.896225            |</pre>"
            ],
            "text/plain": [
              "| 3         | 13       | 4.402062  | 14.645834    | 0.931625          | 0.896225            |"
            ]
          },
          "metadata": {
            "tags": []
          }
        },
        {
          "output_type": "display_data",
          "data": {
            "text/html": [
              "<pre>| 4         | 14       | 4.402062  | 16.228223    | 0.931625          | 0.896225            |</pre>"
            ],
            "text/plain": [
              "| 4         | 14       | 4.402062  | 16.228223    | 0.931625          | 0.896225            |"
            ]
          },
          "metadata": {
            "tags": []
          }
        },
        {
          "output_type": "display_data",
          "data": {
            "text/html": [
              "<pre>+-----------+----------+-----------+--------------+-------------------+---------------------+</pre>"
            ],
            "text/plain": [
              "+-----------+----------+-----------+--------------+-------------------+---------------------+"
            ]
          },
          "metadata": {
            "tags": []
          }
        }
      ]
    },
    {
      "cell_type": "code",
      "metadata": {
        "id": "2yHzv8fh04_b",
        "colab_type": "code",
        "colab": {
          "base_uri": "https://localhost:8080/",
          "height": 508
        },
        "outputId": "9ac1cfd8-8db8-43aa-cc4e-c322c8eaf307"
      },
      "source": [
        "sentiment_model.evaluate(test_data, metric='roc_curve')"
      ],
      "execution_count": 27,
      "outputs": [
        {
          "output_type": "execute_result",
          "data": {
            "text/plain": [
              "{'roc_curve': Columns:\n",
              " \tthreshold\tfloat\n",
              " \tfpr\tfloat\n",
              " \ttpr\tfloat\n",
              " \tp\tint\n",
              " \tn\tint\n",
              " \n",
              " Rows: 100001\n",
              " \n",
              " Data:\n",
              " +-----------+--------------------+--------------------+-------+-------+\n",
              " | threshold |        fpr         |        tpr         |   p   |   n   |\n",
              " +-----------+--------------------+--------------------+-------+-------+\n",
              " |    0.0    |        1.0         |        1.0         | 81024 | 19704 |\n",
              " |   1e-05   | 0.9082419813235891 | 0.9987040876777251 | 81024 | 19704 |\n",
              " |   2e-05   | 0.8951481932602517 | 0.998580667456556  | 81024 | 19704 |\n",
              " |   3e-05   | 0.8856577344701584 | 0.9983831951026856 | 81024 | 19704 |\n",
              " |   4e-05   | 0.8793138449045879 | 0.9981980647709321 | 81024 | 19704 |\n",
              " |   5e-05   | 0.8738327243199351 | 0.9980869865718799 | 81024 | 19704 |\n",
              " |   6e-05   | 0.8691128704831507 | 0.9979635663507109 | 81024 | 19704 |\n",
              " |   7e-05   | 0.8648497766950873 | 0.9979018562401264 | 81024 | 19704 |\n",
              " |   8e-05   | 0.8611956963053187 | 0.997827804107425  | 81024 | 19704 |\n",
              " |   9e-05   | 0.8579983759642712 | 0.9978031200631912 | 81024 | 19704 |\n",
              " +-----------+--------------------+--------------------+-------+-------+\n",
              " [100001 rows x 5 columns]\n",
              " Note: Only the head of the SFrame is printed.\n",
              " You can use print_rows(num_rows=m, num_columns=n) to print more rows and columns.}"
            ]
          },
          "metadata": {
            "tags": []
          },
          "execution_count": 27
        }
      ]
    },
    {
      "cell_type": "code",
      "metadata": {
        "id": "V2OxJOkh08fe",
        "colab_type": "code",
        "colab": {}
      },
      "source": [
        "sentiment_model.show(view='Evaluation')\n"
      ],
      "execution_count": 0,
      "outputs": []
    },
    {
      "cell_type": "code",
      "metadata": {
        "id": "KMlUhiMoOYsK",
        "colab_type": "code",
        "colab": {}
      },
      "source": [
        "model.show(view='Evaluation')"
      ],
      "execution_count": 0,
      "outputs": []
    },
    {
      "cell_type": "code",
      "metadata": {
        "id": "d4CBT7qJQkQD",
        "colab_type": "code",
        "colab": {}
      },
      "source": [
        ""
      ],
      "execution_count": 0,
      "outputs": []
    }
  ]
}