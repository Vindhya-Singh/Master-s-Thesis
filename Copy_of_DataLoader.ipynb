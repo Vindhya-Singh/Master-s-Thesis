{
  "nbformat": 4,
  "nbformat_minor": 0,
  "metadata": {
    "colab": {
      "name": "Copy of DataLoader.ipynb",
      "provenance": [],
      "collapsed_sections": [],
      "toc_visible": true,
      "include_colab_link": true
    },
    "kernelspec": {
      "name": "python3",
      "display_name": "Python 3"
    }
  },
  "cells": [
    {
      "cell_type": "markdown",
      "metadata": {
        "id": "view-in-github",
        "colab_type": "text"
      },
      "source": [
        "<a href=\"https://colab.research.google.com/github/VindhyaSRajan/Master-s-Thesis/blob/master/Copy_of_DataLoader.ipynb\" target=\"_parent\"><img src=\"https://colab.research.google.com/assets/colab-badge.svg\" alt=\"Open In Colab\"/></a>"
      ]
    },
    {
      "cell_type": "code",
      "metadata": {
        "id": "39w3hAklvY7z",
        "colab_type": "code",
        "colab": {}
      },
      "source": [
        "from google.colab import drive\n",
        "drive.mount('/content/drive')"
      ],
      "execution_count": 0,
      "outputs": []
    },
    {
      "cell_type": "code",
      "metadata": {
        "id": "tGaDydgSwAsM",
        "colab_type": "code",
        "colab": {}
      },
      "source": [
        "!pip install gensim\n",
        "!pip install warnings\n",
        "!pip install pyLDAvis"
      ],
      "execution_count": 0,
      "outputs": []
    },
    {
      "cell_type": "code",
      "metadata": {
        "id": "xC2GbSyXvmZv",
        "colab_type": "code",
        "outputId": "3f992e1e-2eca-4018-d962-b544ebeb6460",
        "colab": {
          "base_uri": "https://localhost:8080/",
          "height": 122
        }
      },
      "source": [
        "import pandas as pd\n",
        "import logging\n",
        "import pyLDAvis.gensim\n",
        "import json\n",
        "import warnings\n",
        "warnings.filterwarnings('ignore')  # To ignore all warnings that arise here to enhance clarity\n",
        "\n",
        "from gensim.models.coherencemodel import CoherenceModel\n",
        "from gensim.models.ldamodel import LdaModel\n",
        "from gensim.corpora.dictionary import Dictionary\n",
        "from numpy import array\n",
        "import nltk\n",
        "nltk.download('wordnet')"
      ],
      "execution_count": 0,
      "outputs": [
        {
          "output_type": "stream",
          "text": [
            "/usr/local/lib/python3.6/dist-packages/_pytest/mark/structures.py:426: DeprecationWarning: The usage of `cmp` is deprecated and will be removed on or after 2021-06-01.  Please use `eq` and `order` instead.\n",
            "  @attr.s(cmp=False, hash=False)\n"
          ],
          "name": "stderr"
        },
        {
          "output_type": "stream",
          "text": [
            "[nltk_data] Downloading package wordnet to /root/nltk_data...\n",
            "[nltk_data]   Unzipping corpora/wordnet.zip.\n"
          ],
          "name": "stdout"
        },
        {
          "output_type": "execute_result",
          "data": {
            "text/plain": [
              "True"
            ]
          },
          "metadata": {
            "tags": []
          },
          "execution_count": 3
        }
      ]
    },
    {
      "cell_type": "markdown",
      "metadata": {
        "id": "re6cEuM-w1hO",
        "colab_type": "text"
      },
      "source": [
        "##Loading the raw data"
      ]
    },
    {
      "cell_type": "code",
      "metadata": {
        "id": "rFkiWwzqvbp4",
        "colab_type": "code",
        "outputId": "cab1c61e-6b8d-4985-9c25-0dd505983a2f",
        "colab": {
          "base_uri": "https://localhost:8080/",
          "height": 34
        }
      },
      "source": [
        "df_garden = pd.read_csv('/content/drive/My Drive/Amazon_data/reviews_Patio_Lawn_And_Garden.csv', error_bad_lines= False , nrows= 100000)\n",
        "df_garden.shape"
      ],
      "execution_count": 0,
      "outputs": [
        {
          "output_type": "execute_result",
          "data": {
            "text/plain": [
              "(100000, 9)"
            ]
          },
          "metadata": {
            "tags": []
          },
          "execution_count": 4
        }
      ]
    },
    {
      "cell_type": "code",
      "metadata": {
        "id": "9Isc59KNvpPv",
        "colab_type": "code",
        "outputId": "8bea8ee8-019d-45f2-81f5-68ee063419bd",
        "colab": {
          "base_uri": "https://localhost:8080/",
          "height": 272
        }
      },
      "source": [
        "df_garden.head()"
      ],
      "execution_count": 0,
      "outputs": [
        {
          "output_type": "execute_result",
          "data": {
            "text/html": [
              "<div>\n",
              "<style scoped>\n",
              "    .dataframe tbody tr th:only-of-type {\n",
              "        vertical-align: middle;\n",
              "    }\n",
              "\n",
              "    .dataframe tbody tr th {\n",
              "        vertical-align: top;\n",
              "    }\n",
              "\n",
              "    .dataframe thead th {\n",
              "        text-align: right;\n",
              "    }\n",
              "</style>\n",
              "<table border=\"1\" class=\"dataframe\">\n",
              "  <thead>\n",
              "    <tr style=\"text-align: right;\">\n",
              "      <th></th>\n",
              "      <th>reviewerID</th>\n",
              "      <th>asin</th>\n",
              "      <th>reviewerName</th>\n",
              "      <th>helpful</th>\n",
              "      <th>reviewText</th>\n",
              "      <th>overall</th>\n",
              "      <th>summary</th>\n",
              "      <th>unixReviewTime</th>\n",
              "      <th>reviewTime</th>\n",
              "    </tr>\n",
              "  </thead>\n",
              "  <tbody>\n",
              "    <tr>\n",
              "      <th>0</th>\n",
              "      <td>A2VNYWOPJ13AFP</td>\n",
              "      <td>0981850006</td>\n",
              "      <td>Amazon Customer \"carringt0n\"</td>\n",
              "      <td>[6, 7]</td>\n",
              "      <td>This was a gift for my other husband.  He's ma...</td>\n",
              "      <td>5.0</td>\n",
              "      <td>Delish</td>\n",
              "      <td>1259798400</td>\n",
              "      <td>12 3, 2009</td>\n",
              "    </tr>\n",
              "    <tr>\n",
              "      <th>1</th>\n",
              "      <td>A20DWVV8HML3AW</td>\n",
              "      <td>0981850006</td>\n",
              "      <td>Cyndy</td>\n",
              "      <td>[0, 0]</td>\n",
              "      <td>My husband rarely asks for anything specific, ...</td>\n",
              "      <td>5.0</td>\n",
              "      <td>Just what my husband wanted</td>\n",
              "      <td>1371081600</td>\n",
              "      <td>06 13, 2013</td>\n",
              "    </tr>\n",
              "    <tr>\n",
              "      <th>2</th>\n",
              "      <td>A3RVP3YBYYOPRH</td>\n",
              "      <td>0981850006</td>\n",
              "      <td>John Warren</td>\n",
              "      <td>[9, 11]</td>\n",
              "      <td>This guy knows his stuff. I love the seriously...</td>\n",
              "      <td>5.0</td>\n",
              "      <td>Love This Show!</td>\n",
              "      <td>1257984000</td>\n",
              "      <td>11 12, 2009</td>\n",
              "    </tr>\n",
              "    <tr>\n",
              "      <th>3</th>\n",
              "      <td>A28XY55TP3Q90O</td>\n",
              "      <td>0981850006</td>\n",
              "      <td>JSG \"Lover of Learning\"</td>\n",
              "      <td>[1, 1]</td>\n",
              "      <td>THIS CAN BE FOUND AT: [...] FOR $19.99, also a...</td>\n",
              "      <td>5.0</td>\n",
              "      <td>BUY ELSEWHERE, TOO EXPENSIVE</td>\n",
              "      <td>1314144000</td>\n",
              "      <td>08 24, 2011</td>\n",
              "    </tr>\n",
              "    <tr>\n",
              "      <th>4</th>\n",
              "      <td>A3VZW1BGUQO0V3</td>\n",
              "      <td>0981850006</td>\n",
              "      <td>Marc G. Belisle \"Allswell2001\"</td>\n",
              "      <td>[2, 2]</td>\n",
              "      <td>Quite good particularly for inspiration (DVD g...</td>\n",
              "      <td>5.0</td>\n",
              "      <td>Quite good but I *much* prefer the cookbooks</td>\n",
              "      <td>1308268800</td>\n",
              "      <td>06 17, 2011</td>\n",
              "    </tr>\n",
              "  </tbody>\n",
              "</table>\n",
              "</div>"
            ],
            "text/plain": [
              "       reviewerID        asin  ... unixReviewTime   reviewTime\n",
              "0  A2VNYWOPJ13AFP  0981850006  ...     1259798400   12 3, 2009\n",
              "1  A20DWVV8HML3AW  0981850006  ...     1371081600  06 13, 2013\n",
              "2  A3RVP3YBYYOPRH  0981850006  ...     1257984000  11 12, 2009\n",
              "3  A28XY55TP3Q90O  0981850006  ...     1314144000  08 24, 2011\n",
              "4  A3VZW1BGUQO0V3  0981850006  ...     1308268800  06 17, 2011\n",
              "\n",
              "[5 rows x 9 columns]"
            ]
          },
          "metadata": {
            "tags": []
          },
          "execution_count": 5
        }
      ]
    },
    {
      "cell_type": "markdown",
      "metadata": {
        "id": "S3As8yeiw4QZ",
        "colab_type": "text"
      },
      "source": [
        "##Pre-processing the reviewText "
      ]
    },
    {
      "cell_type": "code",
      "metadata": {
        "id": "6Mj5mcBovzo4",
        "colab_type": "code",
        "outputId": "ac2e045d-82ef-460f-8190-63f05f2f3202",
        "colab": {
          "base_uri": "https://localhost:8080/",
          "height": 122
        }
      },
      "source": [
        "# Convert to array\n",
        "docs =array(df_garden['reviewText'].astype(str))\n",
        "print(type(docs))\n",
        "print(len(docs))\n",
        "# Define function for tokenize and lemmatizing\n",
        "from nltk.stem.wordnet import WordNetLemmatizer\n",
        "from nltk.tokenize import RegexpTokenizer\n",
        "\n",
        "def docs_preprocessor(docs):\n",
        "    tokenizer = RegexpTokenizer(r'\\w+')\n",
        "    for idx in range(len(docs)):\n",
        "        docs[idx] = docs[idx].lower()  # Convert to lowercase.\n",
        "        docs[idx] = tokenizer.tokenize(docs[idx])  # Split into words.\n",
        "\n",
        "    # Remove numbers, but not words that contain numbers.\n",
        "    docs = [[token for token in doc if not token.isdigit()] for doc in docs]\n",
        "    \n",
        "    # Remove words that are only one character.\n",
        "    docs = [[token for token in doc if len(token) > 3] for doc in docs]\n",
        "    \n",
        "    # Lemmatize all words in documents.\n",
        "    lemmatizer = WordNetLemmatizer()\n",
        "    docs = [[lemmatizer.lemmatize(token) for token in doc] for doc in docs]\n",
        "  \n",
        "    return docs\n",
        "# Perform function on our document\n",
        "docs = docs_preprocessor(docs)\n",
        "#Create Biagram & Trigram Models \n",
        "from gensim.models import Phrases\n",
        "# Add bigrams and trigrams to docs,minimum count 10 means only that appear 10 times or more.\n",
        "bigram = Phrases(docs, min_count=10)\n",
        "trigram = Phrases(bigram[docs])\n",
        "\n",
        "for idx in range(len(docs)):\n",
        "    for token in bigram[docs[idx]]:\n",
        "        if '_' in token:\n",
        "            # Token is a bigram, add to document.\n",
        "            docs[idx].append(token)\n",
        "    for token in trigram[docs[idx]]:\n",
        "        if '_' in token:\n",
        "            # Token is a bigram, add to document.\n",
        "            docs[idx].append(token)\n",
        "#Remove rare & common tokens \n",
        "# Create a dictionary representation of the documents.\n",
        "dictionary = Dictionary(docs)\n",
        "dictionary.filter_extremes(no_below=10, no_above=0.2)\n",
        "#Create dictionary and corpus required for Topic Modeling\n",
        "corpus = [dictionary.doc2bow(doc) for doc in docs]\n",
        "print('Number of unique tokens: %d' % len(dictionary))\n",
        "print('Number of documents: %d' % len(corpus))\n",
        "print(corpus[:1])"
      ],
      "execution_count": 0,
      "outputs": [
        {
          "output_type": "stream",
          "text": [
            "<class 'numpy.ndarray'>\n",
            "100000\n",
            "Number of unique tokens: 17697\n",
            "Number of documents: 100000\n",
            "[[(0, 1), (1, 1), (2, 1), (3, 1), (4, 1), (5, 1), (6, 1), (7, 1), (8, 1), (9, 1), (10, 2), (11, 2), (12, 1), (13, 1), (14, 1), (15, 1), (16, 1), (17, 1), (18, 3), (19, 1), (20, 1), (21, 1), (22, 1), (23, 1), (24, 1), (25, 1), (26, 1), (27, 1), (28, 1), (29, 1), (30, 1), (31, 1), (32, 1), (33, 1)]]\n"
          ],
          "name": "stdout"
        }
      ]
    },
    {
      "cell_type": "code",
      "metadata": {
        "id": "ovOvx5wZxEpS",
        "colab_type": "code",
        "outputId": "738ee1d6-4583-4691-cfc6-f65662ff0531",
        "colab": {
          "base_uri": "https://localhost:8080/",
          "height": 34
        }
      },
      "source": [
        "type(corpus)"
      ],
      "execution_count": 0,
      "outputs": [
        {
          "output_type": "execute_result",
          "data": {
            "text/plain": [
              "list"
            ]
          },
          "metadata": {
            "tags": []
          },
          "execution_count": 16
        }
      ]
    },
    {
      "cell_type": "markdown",
      "metadata": {
        "id": "_KNk2o6p0yZE",
        "colab_type": "text"
      },
      "source": [
        "##LDA on the ReviewText Column of the Amazon Data"
      ]
    },
    {
      "cell_type": "code",
      "metadata": {
        "id": "dWRVqXiO0SnX",
        "colab_type": "code",
        "outputId": "fe634e6d-3b15-47a9-9920-094bfb524dcf",
        "colab": {
          "base_uri": "https://localhost:8080/",
          "height": 54
        }
      },
      "source": [
        "# Set parameters.\n",
        "num_topics = 5\n",
        "chunksize = 500 \n",
        "passes = 20 \n",
        "iterations = 400\n",
        "eval_every = 1  \n",
        "\n",
        "# Make a index to word dictionary.\n",
        "temp = dictionary[0]  # only to \"load\" the dictionary.\n",
        "id2word = dictionary.id2token\n",
        "\n",
        "lda_model = LdaModel(corpus=corpus, id2word=id2word, chunksize=chunksize, \\\n",
        "                       alpha='auto', eta='auto', \\\n",
        "                       iterations=iterations, num_topics=num_topics, \\\n",
        "                       passes=passes, eval_every=eval_every)\n",
        "# Print the Keyword in the 5 topics\n",
        "print(lda_model.print_topics())"
      ],
      "execution_count": 0,
      "outputs": [
        {
          "output_type": "stream",
          "text": [
            "[(0, '0.054*\"product\" + 0.016*\"would_recommend\" + 0.014*\"feeder\" + 0.013*\"recommend\" + 0.012*\"item\" + 0.012*\"amazon\" + 0.012*\"well_made\" + 0.010*\"better_than\" + 0.010*\"from\" + 0.009*\"been_using\"'), (1, '0.018*\"trap\" + 0.014*\"them\" + 0.014*\"mouse\" + 0.012*\"plant\" + 0.009*\"grill\" + 0.009*\"these\" + 0.007*\"house\" + 0.007*\"keep\" + 0.007*\"love\" + 0.007*\"table\"'), (2, '0.015*\"time\" + 0.015*\"year\" + 0.013*\"after\" + 0.012*\"more\" + 0.012*\"will\" + 0.011*\"about\" + 0.010*\"only\" + 0.010*\"bought\" + 0.009*\"water\" + 0.009*\"from\"'), (3, '0.018*\"yard\" + 0.013*\"grass\" + 0.012*\"battery\" + 0.011*\"look_like\" + 0.010*\"light_weight\" + 0.009*\"fence\" + 0.009*\"leaf\" + 0.008*\"power\" + 0.008*\"burner\" + 0.007*\"about_minute\"'), (4, '0.016*\"good\" + 0.016*\"easy\" + 0.011*\"like\" + 0.008*\"handle\" + 0.008*\"need\" + 0.008*\"little\" + 0.008*\"make\" + 0.008*\"your\" + 0.007*\"tool\" + 0.007*\"what\"')]\n"
          ],
          "name": "stdout"
        }
      ]
    },
    {
      "cell_type": "code",
      "metadata": {
        "id": "1opWkzMP-28E",
        "colab_type": "code",
        "colab": {
          "base_uri": "https://localhost:8080/",
          "height": 396
        },
        "outputId": "aec0c899-cd2f-4452-a042-54d639af50c4"
      },
      "source": [
        "#This code block is to see as a data frame what each topic actually comprises of.\n",
        "word_dict = {};\n",
        "for i in range(num_topics):\n",
        "    words = lda_model.show_topic(i, topn = 10)\n",
        "    word_dict['Topic # ' + '{:02d}'.format(i+1)] = [i[0] for i in words]\n",
        "pd.DataFrame(word_dict)"
      ],
      "execution_count": 17,
      "outputs": [
        {
          "output_type": "execute_result",
          "data": {
            "text/html": [
              "<div>\n",
              "<style scoped>\n",
              "    .dataframe tbody tr th:only-of-type {\n",
              "        vertical-align: middle;\n",
              "    }\n",
              "\n",
              "    .dataframe tbody tr th {\n",
              "        vertical-align: top;\n",
              "    }\n",
              "\n",
              "    .dataframe thead th {\n",
              "        text-align: right;\n",
              "    }\n",
              "</style>\n",
              "<table border=\"1\" class=\"dataframe\">\n",
              "  <thead>\n",
              "    <tr style=\"text-align: right;\">\n",
              "      <th></th>\n",
              "      <th>Topic # 01</th>\n",
              "      <th>Topic # 02</th>\n",
              "      <th>Topic # 03</th>\n",
              "      <th>Topic # 04</th>\n",
              "      <th>Topic # 05</th>\n",
              "      <th>Topic # 06</th>\n",
              "      <th>Topic # 07</th>\n",
              "      <th>Topic # 08</th>\n",
              "      <th>Topic # 09</th>\n",
              "      <th>Topic # 10</th>\n",
              "      <th>Topic # 11</th>\n",
              "      <th>Topic # 12</th>\n",
              "      <th>Topic # 13</th>\n",
              "      <th>Topic # 14</th>\n",
              "      <th>Topic # 15</th>\n",
              "      <th>Topic # 16</th>\n",
              "      <th>Topic # 17</th>\n",
              "      <th>Topic # 18</th>\n",
              "      <th>Topic # 19</th>\n",
              "      <th>Topic # 20</th>\n",
              "    </tr>\n",
              "  </thead>\n",
              "  <tbody>\n",
              "    <tr>\n",
              "      <th>0</th>\n",
              "      <td>husband</td>\n",
              "      <td>hatchet</td>\n",
              "      <td>time</td>\n",
              "      <td>soil</td>\n",
              "      <td>well_worth</td>\n",
              "      <td>make_sure</td>\n",
              "      <td>will</td>\n",
              "      <td>trap</td>\n",
              "      <td>them</td>\n",
              "      <td>easy</td>\n",
              "      <td>cover</td>\n",
              "      <td>burner</td>\n",
              "      <td>product</td>\n",
              "      <td>snow</td>\n",
              "      <td>quality</td>\n",
              "      <td>water</td>\n",
              "      <td>highly_recommend</td>\n",
              "      <td>than</td>\n",
              "      <td>feeder</td>\n",
              "      <td>grill</td>\n",
              "    </tr>\n",
              "    <tr>\n",
              "      <th>1</th>\n",
              "      <td>outdoor</td>\n",
              "      <td>tree</td>\n",
              "      <td>year</td>\n",
              "      <td>grass</td>\n",
              "      <td>bug</td>\n",
              "      <td>wood</td>\n",
              "      <td>from</td>\n",
              "      <td>mouse_trap</td>\n",
              "      <td>these</td>\n",
              "      <td>light</td>\n",
              "      <td>pool</td>\n",
              "      <td>grow</td>\n",
              "      <td>what</td>\n",
              "      <td>very_pleased</td>\n",
              "      <td>worry_about</td>\n",
              "      <td>hose</td>\n",
              "      <td>peanut_butter</td>\n",
              "      <td>more_than</td>\n",
              "      <td>bird</td>\n",
              "      <td>table</td>\n",
              "    </tr>\n",
              "    <tr>\n",
              "      <th>2</th>\n",
              "      <td>propane</td>\n",
              "      <td>chain</td>\n",
              "      <td>used</td>\n",
              "      <td>blade</td>\n",
              "      <td>rather_than</td>\n",
              "      <td>minute</td>\n",
              "      <td>like</td>\n",
              "      <td>flea</td>\n",
              "      <td>mouse</td>\n",
              "      <td>sprinkler</td>\n",
              "      <td>head</td>\n",
              "      <td>highly_recommended</td>\n",
              "      <td>price</td>\n",
              "      <td>inch</td>\n",
              "      <td>brand</td>\n",
              "      <td>battery</td>\n",
              "      <td>highly</td>\n",
              "      <td>well_made</td>\n",
              "      <td>seed</td>\n",
              "      <td>food</td>\n",
              "    </tr>\n",
              "    <tr>\n",
              "      <th>3</th>\n",
              "      <td>morning</td>\n",
              "      <td>yard</td>\n",
              "      <td>about</td>\n",
              "      <td>leaf</td>\n",
              "      <td>after_reading</td>\n",
              "      <td>instruction</td>\n",
              "      <td>when</td>\n",
              "      <td>house</td>\n",
              "      <td>plant</td>\n",
              "      <td>last_year</td>\n",
              "      <td>long</td>\n",
              "      <td>recommended</td>\n",
              "      <td>would_recommend</td>\n",
              "      <td>spring</td>\n",
              "      <td>expensive</td>\n",
              "      <td>spray</td>\n",
              "      <td>company</td>\n",
              "      <td>better_than</td>\n",
              "      <td>heavy_duty</td>\n",
              "      <td>much_better</td>\n",
              "    </tr>\n",
              "    <tr>\n",
              "      <th>4</th>\n",
              "      <td>replaced</td>\n",
              "      <td>edge</td>\n",
              "      <td>after</td>\n",
              "      <td>sharp</td>\n",
              "      <td>ant</td>\n",
              "      <td>sure</td>\n",
              "      <td>more</td>\n",
              "      <td>bait</td>\n",
              "      <td>garden</td>\n",
              "      <td>light_weight</td>\n",
              "      <td>last_long</td>\n",
              "      <td>home_depot</td>\n",
              "      <td>recommend</td>\n",
              "      <td>built</td>\n",
              "      <td>steel</td>\n",
              "      <td>metal_detector</td>\n",
              "      <td>replacement</td>\n",
              "      <td>very_happy</td>\n",
              "      <td>much_easier</td>\n",
              "      <td>smoker</td>\n",
              "    </tr>\n",
              "    <tr>\n",
              "      <th>5</th>\n",
              "      <td>propane_tank</td>\n",
              "      <td>file</td>\n",
              "      <td>bought</td>\n",
              "      <td>lawn</td>\n",
              "      <td>animal</td>\n",
              "      <td>peanut</td>\n",
              "      <td>your</td>\n",
              "      <td>night</td>\n",
              "      <td>squirrel</td>\n",
              "      <td>even_though</td>\n",
              "      <td>replace</td>\n",
              "      <td>home</td>\n",
              "      <td>item</td>\n",
              "      <td>bulb</td>\n",
              "      <td>high_quality</td>\n",
              "      <td>winter</td>\n",
              "      <td>butter</td>\n",
              "      <td>le_than</td>\n",
              "      <td>easier</td>\n",
              "      <td>chicken</td>\n",
              "    </tr>\n",
              "    <tr>\n",
              "      <th>6</th>\n",
              "      <td>small_amount</td>\n",
              "      <td>back_yard</td>\n",
              "      <td>were</td>\n",
              "      <td>blower</td>\n",
              "      <td>reading</td>\n",
              "      <td>hour</td>\n",
              "      <td>some</td>\n",
              "      <td>snap_trap</td>\n",
              "      <td>caught_mouse</td>\n",
              "      <td>deer</td>\n",
              "      <td>catch</td>\n",
              "      <td>tank</td>\n",
              "      <td>look</td>\n",
              "      <td>well_built</td>\n",
              "      <td>stainless_steel</td>\n",
              "      <td>stick</td>\n",
              "      <td>know_what</td>\n",
              "      <td>le</td>\n",
              "      <td>watering</td>\n",
              "      <td>meat</td>\n",
              "    </tr>\n",
              "    <tr>\n",
              "      <th>7</th>\n",
              "      <td>everyone</td>\n",
              "      <td>turkey</td>\n",
              "      <td>first</td>\n",
              "      <td>cast_iron</td>\n",
              "      <td>cleaning</td>\n",
              "      <td>about_minute</td>\n",
              "      <td>other</td>\n",
              "      <td>kill</td>\n",
              "      <td>dead_mouse</td>\n",
              "      <td>weight</td>\n",
              "      <td>rain</td>\n",
              "      <td>feel_like</td>\n",
              "      <td>amazon</td>\n",
              "      <td>pleased</td>\n",
              "      <td>more_expensive</td>\n",
              "      <td>detector</td>\n",
              "      <td>recommend</td>\n",
              "      <td>more</td>\n",
              "      <td>gift</td>\n",
              "      <td>charcoal</td>\n",
              "    </tr>\n",
              "    <tr>\n",
              "      <th>8</th>\n",
              "      <td>very_impressed</td>\n",
              "      <td>trimmer</td>\n",
              "      <td>been</td>\n",
              "      <td>power</td>\n",
              "      <td>pack</td>\n",
              "      <td>direction</td>\n",
              "      <td>good</td>\n",
              "      <td>dog</td>\n",
              "      <td>cat</td>\n",
              "      <td>easy_clean</td>\n",
              "      <td>color</td>\n",
              "      <td>insect</td>\n",
              "      <td>perfect</td>\n",
              "      <td>could_find</td>\n",
              "      <td>broke</td>\n",
              "      <td>advertised</td>\n",
              "      <td>part</td>\n",
              "      <td>better</td>\n",
              "      <td>heavy</td>\n",
              "      <td>temperature</td>\n",
              "    </tr>\n",
              "    <tr>\n",
              "      <th>9</th>\n",
              "      <td>past_year</td>\n",
              "      <td>pruner</td>\n",
              "      <td>back</td>\n",
              "      <td>shovel</td>\n",
              "      <td>charge</td>\n",
              "      <td>cooking</td>\n",
              "      <td>little</td>\n",
              "      <td>door</td>\n",
              "      <td>deck</td>\n",
              "      <td>easy_assemble</td>\n",
              "      <td>other_reviewer</td>\n",
              "      <td>patio</td>\n",
              "      <td>good</td>\n",
              "      <td>should_last</td>\n",
              "      <td>original</td>\n",
              "      <td>sprayer</td>\n",
              "      <td>base</td>\n",
              "      <td>amount</td>\n",
              "      <td>wind</td>\n",
              "      <td>black_decker</td>\n",
              "    </tr>\n",
              "  </tbody>\n",
              "</table>\n",
              "</div>"
            ],
            "text/plain": [
              "       Topic # 01 Topic # 02 Topic # 03  ...   Topic # 18   Topic # 19    Topic # 20\n",
              "0         husband    hatchet       time  ...         than       feeder         grill\n",
              "1         outdoor       tree       year  ...    more_than         bird         table\n",
              "2         propane      chain       used  ...    well_made         seed          food\n",
              "3         morning       yard      about  ...  better_than   heavy_duty   much_better\n",
              "4        replaced       edge      after  ...   very_happy  much_easier        smoker\n",
              "5    propane_tank       file     bought  ...      le_than       easier       chicken\n",
              "6    small_amount  back_yard       were  ...           le     watering          meat\n",
              "7        everyone     turkey      first  ...         more         gift      charcoal\n",
              "8  very_impressed    trimmer       been  ...       better        heavy   temperature\n",
              "9       past_year     pruner       back  ...       amount         wind  black_decker\n",
              "\n",
              "[10 rows x 20 columns]"
            ]
          },
          "metadata": {
            "tags": []
          },
          "execution_count": 17
        }
      ]
    },
    {
      "cell_type": "markdown",
      "metadata": {
        "id": "jKkHQk1G05sN",
        "colab_type": "text"
      },
      "source": [
        "##Evaluating the LDA Model"
      ]
    },
    {
      "cell_type": "code",
      "metadata": {
        "id": "Tp7qWIYv0ppq",
        "colab_type": "code",
        "outputId": "939d6b3a-cef2-471c-989a-bab534d79736",
        "colab": {
          "base_uri": "https://localhost:8080/",
          "height": 51
        }
      },
      "source": [
        "# Compute Coherence Score using c_v\n",
        "coherence_model_lda = CoherenceModel(model=lda_model, texts=docs, dictionary=dictionary, coherence='c_v')\n",
        "coherence_lda = coherence_model_lda.get_coherence()\n",
        "print('\\nCoherence Score: ', coherence_lda)"
      ],
      "execution_count": 0,
      "outputs": [
        {
          "output_type": "stream",
          "text": [
            "\n",
            "Coherence Score:  0.3268774180076323\n"
          ],
          "name": "stdout"
        }
      ]
    },
    {
      "cell_type": "code",
      "metadata": {
        "id": "jgTRMI9NeCa6",
        "colab_type": "code",
        "colab": {}
      },
      "source": [
        "def compute_coherence_values(dictionary, corpus, texts, limit, start=2, step=3):\n",
        "    \"\"\"\n",
        "    Compute c_v coherence for various number of topics\n",
        "\n",
        "    Parameters:\n",
        "    ----------\n",
        "    dictionary : Gensim dictionary\n",
        "    corpus : Gensim corpus\n",
        "    texts : List of input texts\n",
        "    limit : Max num of topics\n",
        "\n",
        "    Returns:\n",
        "    -------\n",
        "    model_list : List of LDA topic models\n",
        "    coherence_values : Coherence values corresponding to the LDA model with respective number of topics\n",
        "    \"\"\"\n",
        "    coherence_values = []\n",
        "    model_list = []\n",
        "    for num_topics in range(start, limit, step):\n",
        "        model=LdaModel(corpus=corpus, id2word=dictionary, num_topics=num_topics)\n",
        "        model_list.append(model)\n",
        "        coherencemodel = CoherenceModel(model=model, texts=texts, dictionary=dictionary, coherence='c_v')\n",
        "        coherence_values.append(coherencemodel.get_coherence())\n",
        "\n",
        "    return model_list, coherence_values"
      ],
      "execution_count": 0,
      "outputs": []
    },
    {
      "cell_type": "code",
      "metadata": {
        "id": "OlBflMTGeHHq",
        "colab_type": "code",
        "outputId": "4bdddb83-f9c5-4c9d-9290-d9d0219ce85d",
        "colab": {
          "base_uri": "https://localhost:8080/",
          "height": 296
        }
      },
      "source": [
        "#Model list and plot Coherence score against a number of topics\n",
        "model_list, coherence_values = compute_coherence_values(dictionary=dictionary, corpus=corpus, texts=docs, start=2, limit=40, step=6)\n",
        "# Show graph\n",
        "import matplotlib.pyplot as plt\n",
        "limit=40; start=2; step=6;\n",
        "x = range(start, limit, step)\n",
        "plt.plot(x, coherence_values)\n",
        "plt.xlabel(\"Num Topics\")\n",
        "plt.ylabel(\"Coherence score\")\n",
        "plt.legend((\"coherence_values\"), loc='best')\n",
        "plt.show()\n",
        "plt.savefig('Coherence score against a number of topics- Review_Text', dpi = 500)"
      ],
      "execution_count": 0,
      "outputs": [
        {
          "output_type": "display_data",
          "data": {
            "image/png": "[encoded data removed]",
            "text/plain": [
              "<Figure size 432x288 with 1 Axes>"
            ]
          },
          "metadata": {
            "tags": []
          }
        },
        {
          "output_type": "display_data",
          "data": {
            "text/plain": [
              "<Figure size 432x288 with 0 Axes>"
            ]
          },
          "metadata": {
            "tags": []
          }
        }
      ]
    },
    {
      "cell_type": "markdown",
      "metadata": {
        "id": "g34qQG_AdGoL",
        "colab_type": "text"
      },
      "source": [
        "##Pre-processing the Summary column of the AMazon Dataset"
      ]
    },
    {
      "cell_type": "code",
      "metadata": {
        "id": "Nza3nLeA0tvu",
        "colab_type": "code",
        "outputId": "61ebcfe5-76a4-4c79-ff88-57efba826489",
        "colab": {
          "base_uri": "https://localhost:8080/",
          "height": 102
        }
      },
      "source": [
        "# Convert to array\n",
        "docs =array(df_garden['summary'].astype(str))\n",
        "print(type(docs))\n",
        "print(len(docs))\n",
        "# Define function for tokenize and lemmatizing\n",
        "from nltk.stem.wordnet import WordNetLemmatizer\n",
        "from nltk.tokenize import RegexpTokenizer\n",
        "\n",
        "def docs_preprocessor(docs):\n",
        "    tokenizer = RegexpTokenizer(r'\\w+')\n",
        "    for idx in range(len(docs)):\n",
        "        docs[idx] = docs[idx].lower()  # Convert to lowercase.\n",
        "        docs[idx] = tokenizer.tokenize(docs[idx])  # Split into words.\n",
        "\n",
        "    # Remove numbers, but not words that contain numbers.\n",
        "    docs = [[token for token in doc if not token.isdigit()] for doc in docs]\n",
        "    \n",
        "    # Remove words that are only one character.\n",
        "    docs = [[token for token in doc if len(token) > 3] for doc in docs]\n",
        "    \n",
        "    # Lemmatize all words in documents.\n",
        "    lemmatizer = WordNetLemmatizer()\n",
        "    docs = [[lemmatizer.lemmatize(token) for token in doc] for doc in docs]\n",
        "  \n",
        "    return docs\n",
        "# Perform function on our document\n",
        "docs = docs_preprocessor(docs)\n",
        "#Create Biagram & Trigram Models \n",
        "from gensim.models import Phrases\n",
        "# Add bigrams and trigrams to docs,minimum count 10 means only that appear 10 times or more.\n",
        "bigram = Phrases(docs, min_count=10)\n",
        "trigram = Phrases(bigram[docs])\n",
        "\n",
        "for idx in range(len(docs)):\n",
        "    for token in bigram[docs[idx]]:\n",
        "        if '_' in token:\n",
        "            # Token is a bigram, add to document.\n",
        "            docs[idx].append(token)\n",
        "    for token in trigram[docs[idx]]:\n",
        "        if '_' in token:\n",
        "            # Token is a bigram, add to document.\n",
        "            docs[idx].append(token)\n",
        "#Remove rare & common tokens \n",
        "# Create a dictionary representation of the documents.\n",
        "dictionary = Dictionary(docs)\n",
        "dictionary.filter_extremes(no_below=10, no_above=0.2)\n",
        "#Create dictionary and corpus required for Topic Modeling\n",
        "corpus = [dictionary.doc2bow(doc) for doc in docs]\n",
        "print('Number of unique tokens: %d' % len(dictionary))\n",
        "print('Number of documents: %d' % len(corpus))\n",
        "print(corpus[:1])"
      ],
      "execution_count": 0,
      "outputs": [
        {
          "output_type": "stream",
          "text": [
            "<class 'numpy.ndarray'>\n",
            "100000\n",
            "Number of unique tokens: 3085\n",
            "Number of documents: 100000\n",
            "[[]]\n"
          ],
          "name": "stdout"
        }
      ]
    },
    {
      "cell_type": "markdown",
      "metadata": {
        "id": "piPC5MU5dSPA",
        "colab_type": "text"
      },
      "source": [
        "##LDA on the Summary column of the Amazon Dataset"
      ]
    },
    {
      "cell_type": "code",
      "metadata": {
        "id": "VCGtT6XPdWBg",
        "colab_type": "code",
        "outputId": "58359843-4022-415d-d6f6-369d47ef3b66",
        "colab": {
          "base_uri": "https://localhost:8080/",
          "height": 54
        }
      },
      "source": [
        "# Set parameters.\n",
        "num_topics = 30 #changed from 5 to 30 based on the coherence score graph\n",
        "chunksize = 500 \n",
        "passes = 20 \n",
        "iterations = 400\n",
        "eval_every = 1  \n",
        "\n",
        "# Make a index to word dictionary.\n",
        "temp = dictionary[0]  # only to \"load\" the dictionary.\n",
        "id2word = dictionary.id2token\n",
        "\n",
        "lda_model = LdaModel(corpus=corpus, id2word=id2word, chunksize=chunksize, \\\n",
        "                       alpha='auto', eta='auto', \\\n",
        "                       iterations=iterations, num_topics=num_topics, \\\n",
        "                       passes=passes, eval_every=eval_every)\n",
        "# Print the Keyword in the 30 topics\n",
        "print(lda_model.print_topics())"
      ],
      "execution_count": 0,
      "outputs": [
        {
          "output_type": "stream",
          "text": [
            "[(26, '0.140*\"used\" + 0.074*\"easy_assemble\" + 0.072*\"fit\" + 0.061*\"soil\" + 0.050*\"again\" + 0.049*\"fit_perfectly\" + 0.046*\"green\" + 0.031*\"camping\" + 0.030*\"beat\" + 0.028*\"side\"'), (5, '0.167*\"time\" + 0.087*\"first\" + 0.086*\"replacement\" + 0.053*\"get_done\" + 0.048*\"part\" + 0.041*\"first_time\" + 0.037*\"get\" + 0.037*\"will_tell\" + 0.035*\"done\" + 0.033*\"fell_apart\"'), (15, '0.270*\"five_star\" + 0.126*\"star\" + 0.098*\"five\" + 0.097*\"need\" + 0.052*\"long\" + 0.048*\"last\" + 0.028*\"find\" + 0.028*\"hard\" + 0.021*\"long_time\" + 0.018*\"assemble\"'), (8, '0.306*\"excellent\" + 0.058*\"fine\" + 0.054*\"useful\" + 0.035*\"solution\" + 0.035*\"arrived\" + 0.031*\"insect\" + 0.026*\"natural\" + 0.024*\"poorly_made\" + 0.022*\"pole\" + 0.021*\"poorly\"'), (2, '0.171*\"awesome\" + 0.084*\"fence\" + 0.057*\"fast\" + 0.042*\"gift\" + 0.041*\"shipping\" + 0.039*\"fast_shipping\" + 0.038*\"rabbit\" + 0.035*\"another\" + 0.031*\"deck\" + 0.030*\"gilmour\"'), (22, '0.263*\"price\" + 0.077*\"junk\" + 0.071*\"solid\" + 0.071*\"away\" + 0.043*\"very_pleased\" + 0.032*\"pleased\" + 0.027*\"chicken\" + 0.024*\"thought\" + 0.022*\"powerful\" + 0.019*\"pet\"'), (27, '0.133*\"your\" + 0.128*\"small\" + 0.108*\"waste_your\" + 0.057*\"keep\" + 0.055*\"ever_used\" + 0.048*\"inch\" + 0.042*\"waste\" + 0.041*\"handle\" + 0.040*\"large\" + 0.036*\"result\"'), (9, '0.119*\"really\" + 0.088*\"worth_money\" + 0.080*\"high_quality\" + 0.074*\"garden\" + 0.052*\"thing\" + 0.043*\"high\" + 0.041*\"what_expected\" + 0.036*\"worth\" + 0.036*\"money\" + 0.034*\"expected\"'), (16, '0.156*\"have\" + 0.131*\"plant\" + 0.088*\"that\" + 0.048*\"should\" + 0.047*\"four_star\" + 0.040*\"should_have\" + 0.036*\"some\" + 0.028*\"snap\" + 0.027*\"there\" + 0.025*\"easy_together\"'), (14, '0.111*\"these\" + 0.101*\"they\" + 0.089*\"value\" + 0.086*\"heavy_duty\" + 0.074*\"advertised\" + 0.068*\"review\" + 0.045*\"heavy\" + 0.037*\"worth_every\" + 0.036*\"smell\" + 0.035*\"duty\"'), (21, '0.331*\"best\" + 0.133*\"ever\" + 0.057*\"will\" + 0.052*\"needed\" + 0.043*\"would\" + 0.032*\"bought\" + 0.032*\"handy\" + 0.027*\"looking\" + 0.024*\"accessory\" + 0.023*\"help\"'), (6, '0.114*\"feeder\" + 0.095*\"bird\" + 0.083*\"bird_feeder\" + 0.061*\"hose\" + 0.059*\"didn\" + 0.047*\"deer\" + 0.047*\"problem\" + 0.041*\"squirrel\" + 0.036*\"fantastic\" + 0.035*\"size\"'), (3, '0.072*\"effective\" + 0.070*\"smoker\" + 0.062*\"item\" + 0.039*\"pretty\" + 0.039*\"seed\" + 0.031*\"food\" + 0.030*\"piece\" + 0.027*\"shovel\" + 0.020*\"made_china\" + 0.020*\"piece_junk\"'), (11, '0.437*\"this\" + 0.072*\"sprinkler\" + 0.038*\"house\" + 0.031*\"chair\" + 0.027*\"outdoor\" + 0.025*\"kill\" + 0.023*\"nothing\" + 0.020*\"system\" + 0.018*\"over\" + 0.018*\"day\"'), (19, '0.262*\"very\" + 0.182*\"nice\" + 0.074*\"sturdy\" + 0.047*\"happy\" + 0.042*\"right\" + 0.040*\"happy_with\" + 0.036*\"just_right\" + 0.025*\"catch\" + 0.021*\"safe\" + 0.019*\"take\"'), (24, '0.698*\"good\" + 0.041*\"trowel\" + 0.040*\"water\" + 0.037*\"plastic\" + 0.026*\"perfectly\" + 0.016*\"proof\" + 0.015*\"time_saver\" + 0.011*\"saved\" + 0.010*\"color\" + 0.009*\"concept\"'), (4, '0.132*\"grill\" + 0.086*\"more\" + 0.051*\"pool\" + 0.039*\"metal\" + 0.035*\"watering\" + 0.033*\"idea\" + 0.031*\"snow\" + 0.030*\"cooker\" + 0.029*\"more_than\" + 0.029*\"camp\"'), (12, '0.446*\"product\" + 0.101*\"like\" + 0.070*\"money\" + 0.044*\"waste_money\" + 0.026*\"like_charm\" + 0.025*\"them\" + 0.023*\"never\" + 0.023*\"make\" + 0.020*\"waste\" + 0.019*\"tire\"'), (29, '0.573*\"work\" + 0.115*\"well\" + 0.102*\"doe\" + 0.043*\"doesn\" + 0.030*\"only\" + 0.017*\"other\" + 0.016*\"described\" + 0.012*\"horrible\" + 0.010*\"wish\" + 0.009*\"before\"'), (28, '0.802*\"great\" + 0.045*\"must_have\" + 0.023*\"must\" + 0.020*\"purchase\" + 0.014*\"trimmer\" + 0.012*\"back\" + 0.010*\"wood\" + 0.006*\"dont\" + 0.006*\"through\" + 0.006*\"careful\"')]\n"
          ],
          "name": "stdout"
        }
      ]
    },
    {
      "cell_type": "code",
      "metadata": {
        "id": "TNaa392XuT5A",
        "colab_type": "code",
        "outputId": "e2329bb7-5463-4cdb-8107-033320954446",
        "colab": {
          "base_uri": "https://localhost:8080/",
          "height": 396
        }
      },
      "source": [
        "#This code block is to see as a data frame what each topic actually comprises of.\n",
        "word_dict = {};\n",
        "for i in range(num_topics):\n",
        "    words = lda_model.show_topic(i, topn = 10)\n",
        "    word_dict['Topic # ' + '{:02d}'.format(i+1)] = [i[0] for i in words]\n",
        "pd.DataFrame(word_dict)"
      ],
      "execution_count": 0,
      "outputs": [
        {
          "output_type": "execute_result",
          "data": {
            "text/html": [
              "<div>\n",
              "<style scoped>\n",
              "    .dataframe tbody tr th:only-of-type {\n",
              "        vertical-align: middle;\n",
              "    }\n",
              "\n",
              "    .dataframe tbody tr th {\n",
              "        vertical-align: top;\n",
              "    }\n",
              "\n",
              "    .dataframe thead th {\n",
              "        text-align: right;\n",
              "    }\n",
              "</style>\n",
              "<table border=\"1\" class=\"dataframe\">\n",
              "  <thead>\n",
              "    <tr style=\"text-align: right;\">\n",
              "      <th></th>\n",
              "      <th>Topic # 01</th>\n",
              "      <th>Topic # 02</th>\n",
              "      <th>Topic # 03</th>\n",
              "      <th>Topic # 04</th>\n",
              "      <th>Topic # 05</th>\n",
              "      <th>Topic # 06</th>\n",
              "      <th>Topic # 07</th>\n",
              "      <th>Topic # 08</th>\n",
              "      <th>Topic # 09</th>\n",
              "      <th>Topic # 10</th>\n",
              "      <th>Topic # 11</th>\n",
              "      <th>Topic # 12</th>\n",
              "      <th>Topic # 13</th>\n",
              "      <th>Topic # 14</th>\n",
              "      <th>Topic # 15</th>\n",
              "      <th>Topic # 16</th>\n",
              "      <th>Topic # 17</th>\n",
              "      <th>Topic # 18</th>\n",
              "      <th>Topic # 19</th>\n",
              "      <th>Topic # 20</th>\n",
              "      <th>Topic # 21</th>\n",
              "      <th>Topic # 22</th>\n",
              "      <th>Topic # 23</th>\n",
              "      <th>Topic # 24</th>\n",
              "      <th>Topic # 25</th>\n",
              "      <th>Topic # 26</th>\n",
              "      <th>Topic # 27</th>\n",
              "      <th>Topic # 28</th>\n",
              "      <th>Topic # 29</th>\n",
              "      <th>Topic # 30</th>\n",
              "    </tr>\n",
              "  </thead>\n",
              "  <tbody>\n",
              "    <tr>\n",
              "      <th>0</th>\n",
              "      <td>stuff</td>\n",
              "      <td>poor_quality</td>\n",
              "      <td>awesome</td>\n",
              "      <td>effective</td>\n",
              "      <td>grill</td>\n",
              "      <td>time</td>\n",
              "      <td>feeder</td>\n",
              "      <td>tool</td>\n",
              "      <td>excellent</td>\n",
              "      <td>really</td>\n",
              "      <td>perfect</td>\n",
              "      <td>this</td>\n",
              "      <td>product</td>\n",
              "      <td>quality</td>\n",
              "      <td>these</td>\n",
              "      <td>five_star</td>\n",
              "      <td>have</td>\n",
              "      <td>mouse</td>\n",
              "      <td>mouse_trap</td>\n",
              "      <td>very</td>\n",
              "      <td>with</td>\n",
              "      <td>best</td>\n",
              "      <td>price</td>\n",
              "      <td>table</td>\n",
              "      <td>good</td>\n",
              "      <td>love</td>\n",
              "      <td>used</td>\n",
              "      <td>your</td>\n",
              "      <td>great</td>\n",
              "      <td>work</td>\n",
              "    </tr>\n",
              "    <tr>\n",
              "      <th>1</th>\n",
              "      <td>cheap</td>\n",
              "      <td>poor</td>\n",
              "      <td>fence</td>\n",
              "      <td>smoker</td>\n",
              "      <td>more</td>\n",
              "      <td>first</td>\n",
              "      <td>bird</td>\n",
              "      <td>worked</td>\n",
              "      <td>fine</td>\n",
              "      <td>worth_money</td>\n",
              "      <td>just</td>\n",
              "      <td>sprinkler</td>\n",
              "      <td>like</td>\n",
              "      <td>better_than</td>\n",
              "      <td>they</td>\n",
              "      <td>star</td>\n",
              "      <td>plant</td>\n",
              "      <td>design</td>\n",
              "      <td>trap</td>\n",
              "      <td>nice</td>\n",
              "      <td>easy</td>\n",
              "      <td>ever</td>\n",
              "      <td>junk</td>\n",
              "      <td>year</td>\n",
              "      <td>trowel</td>\n",
              "      <td>what</td>\n",
              "      <td>easy_assemble</td>\n",
              "      <td>small</td>\n",
              "      <td>must_have</td>\n",
              "      <td>well</td>\n",
              "    </tr>\n",
              "    <tr>\n",
              "      <th>2</th>\n",
              "      <td>save_your</td>\n",
              "      <td>amazing</td>\n",
              "      <td>fast</td>\n",
              "      <td>item</td>\n",
              "      <td>pool</td>\n",
              "      <td>replacement</td>\n",
              "      <td>bird_feeder</td>\n",
              "      <td>light</td>\n",
              "      <td>useful</td>\n",
              "      <td>high_quality</td>\n",
              "      <td>just_what</td>\n",
              "      <td>house</td>\n",
              "      <td>money</td>\n",
              "      <td>better</td>\n",
              "      <td>value</td>\n",
              "      <td>five</td>\n",
              "      <td>that</td>\n",
              "      <td>from</td>\n",
              "      <td>little</td>\n",
              "      <td>sturdy</td>\n",
              "      <td>look</td>\n",
              "      <td>will</td>\n",
              "      <td>solid</td>\n",
              "      <td>after</td>\n",
              "      <td>water</td>\n",
              "      <td>exactly_what</td>\n",
              "      <td>fit</td>\n",
              "      <td>waste_your</td>\n",
              "      <td>must</td>\n",
              "      <td>doe</td>\n",
              "    </tr>\n",
              "    <tr>\n",
              "      <th>3</th>\n",
              "      <td>super</td>\n",
              "      <td>fiskars</td>\n",
              "      <td>gift</td>\n",
              "      <td>pretty</td>\n",
              "      <td>metal</td>\n",
              "      <td>get_done</td>\n",
              "      <td>hose</td>\n",
              "      <td>wonderful</td>\n",
              "      <td>solution</td>\n",
              "      <td>garden</td>\n",
              "      <td>made</td>\n",
              "      <td>chair</td>\n",
              "      <td>waste_money</td>\n",
              "      <td>than</td>\n",
              "      <td>heavy_duty</td>\n",
              "      <td>need</td>\n",
              "      <td>should</td>\n",
              "      <td>much_better</td>\n",
              "      <td>much</td>\n",
              "      <td>happy</td>\n",
              "      <td>simple</td>\n",
              "      <td>needed</td>\n",
              "      <td>away</td>\n",
              "      <td>burner</td>\n",
              "      <td>plastic</td>\n",
              "      <td>worth</td>\n",
              "      <td>soil</td>\n",
              "      <td>keep</td>\n",
              "      <td>purchase</td>\n",
              "      <td>doesn</td>\n",
              "    </tr>\n",
              "    <tr>\n",
              "      <th>4</th>\n",
              "      <td>pruner</td>\n",
              "      <td>blower</td>\n",
              "      <td>shipping</td>\n",
              "      <td>seed</td>\n",
              "      <td>watering</td>\n",
              "      <td>part</td>\n",
              "      <td>didn</td>\n",
              "      <td>light_weight</td>\n",
              "      <td>arrived</td>\n",
              "      <td>thing</td>\n",
              "      <td>well_made</td>\n",
              "      <td>outdoor</td>\n",
              "      <td>like_charm</td>\n",
              "      <td>cover</td>\n",
              "      <td>advertised</td>\n",
              "      <td>long</td>\n",
              "      <td>four_star</td>\n",
              "      <td>amazon</td>\n",
              "      <td>customer_service</td>\n",
              "      <td>right</td>\n",
              "      <td>well_built</td>\n",
              "      <td>would</td>\n",
              "      <td>very_pleased</td>\n",
              "      <td>classic</td>\n",
              "      <td>perfectly</td>\n",
              "      <td>exactly</td>\n",
              "      <td>again</td>\n",
              "      <td>ever_used</td>\n",
              "      <td>trimmer</td>\n",
              "      <td>only</td>\n",
              "    </tr>\n",
              "    <tr>\n",
              "      <th>5</th>\n",
              "      <td>grass</td>\n",
              "      <td>home</td>\n",
              "      <td>fast_shipping</td>\n",
              "      <td>food</td>\n",
              "      <td>idea</td>\n",
              "      <td>first_time</td>\n",
              "      <td>deer</td>\n",
              "      <td>yard</td>\n",
              "      <td>insect</td>\n",
              "      <td>high</td>\n",
              "      <td>what</td>\n",
              "      <td>kill</td>\n",
              "      <td>them</td>\n",
              "      <td>better_mousetrap</td>\n",
              "      <td>review</td>\n",
              "      <td>last</td>\n",
              "      <td>should_have</td>\n",
              "      <td>umbrella</td>\n",
              "      <td>service</td>\n",
              "      <td>happy_with</td>\n",
              "      <td>tree</td>\n",
              "      <td>bought</td>\n",
              "      <td>pleased</td>\n",
              "      <td>strong</td>\n",
              "      <td>proof</td>\n",
              "      <td>disappointed</td>\n",
              "      <td>fit_perfectly</td>\n",
              "      <td>inch</td>\n",
              "      <td>back</td>\n",
              "      <td>other</td>\n",
              "    </tr>\n",
              "    <tr>\n",
              "      <th>6</th>\n",
              "      <td>sharp</td>\n",
              "      <td>black_decker</td>\n",
              "      <td>rabbit</td>\n",
              "      <td>piece</td>\n",
              "      <td>snow</td>\n",
              "      <td>get</td>\n",
              "      <td>problem</td>\n",
              "      <td>recommend</td>\n",
              "      <td>natural</td>\n",
              "      <td>what_expected</td>\n",
              "      <td>well</td>\n",
              "      <td>nothing</td>\n",
              "      <td>never</td>\n",
              "      <td>mousetrap</td>\n",
              "      <td>heavy</td>\n",
              "      <td>find</td>\n",
              "      <td>some</td>\n",
              "      <td>le_than</td>\n",
              "      <td>enough</td>\n",
              "      <td>just_right</td>\n",
              "      <td>impressed</td>\n",
              "      <td>handy</td>\n",
              "      <td>chicken</td>\n",
              "      <td>seems</td>\n",
              "      <td>time_saver</td>\n",
              "      <td>loved</td>\n",
              "      <td>green</td>\n",
              "      <td>waste</td>\n",
              "      <td>wood</td>\n",
              "      <td>described</td>\n",
              "    </tr>\n",
              "    <tr>\n",
              "      <th>7</th>\n",
              "      <td>hand</td>\n",
              "      <td>poor_design</td>\n",
              "      <td>another</td>\n",
              "      <td>shovel</td>\n",
              "      <td>cooker</td>\n",
              "      <td>will_tell</td>\n",
              "      <td>squirrel</td>\n",
              "      <td>without</td>\n",
              "      <td>poorly_made</td>\n",
              "      <td>worth</td>\n",
              "      <td>deal</td>\n",
              "      <td>system</td>\n",
              "      <td>make</td>\n",
              "      <td>when</td>\n",
              "      <td>worth_every</td>\n",
              "      <td>hard</td>\n",
              "      <td>snap</td>\n",
              "      <td>second</td>\n",
              "      <td>could</td>\n",
              "      <td>catch</td>\n",
              "      <td>built</td>\n",
              "      <td>looking</td>\n",
              "      <td>thought</td>\n",
              "      <td>still</td>\n",
              "      <td>saved</td>\n",
              "      <td>killer</td>\n",
              "      <td>camping</td>\n",
              "      <td>handle</td>\n",
              "      <td>dont</td>\n",
              "      <td>horrible</td>\n",
              "    </tr>\n",
              "    <tr>\n",
              "      <th>8</th>\n",
              "      <td>save</td>\n",
              "      <td>chain</td>\n",
              "      <td>deck</td>\n",
              "      <td>made_china</td>\n",
              "      <td>more_than</td>\n",
              "      <td>done</td>\n",
              "      <td>fantastic</td>\n",
              "      <td>leak</td>\n",
              "      <td>pole</td>\n",
              "      <td>money</td>\n",
              "      <td>terrible</td>\n",
              "      <td>over</td>\n",
              "      <td>waste</td>\n",
              "      <td>control</td>\n",
              "      <td>smell</td>\n",
              "      <td>long_time</td>\n",
              "      <td>there</td>\n",
              "      <td>lawn</td>\n",
              "      <td>customer</td>\n",
              "      <td>safe</td>\n",
              "      <td>decent</td>\n",
              "      <td>accessory</td>\n",
              "      <td>powerful</td>\n",
              "      <td>working</td>\n",
              "      <td>color</td>\n",
              "      <td>something_else</td>\n",
              "      <td>beat</td>\n",
              "      <td>large</td>\n",
              "      <td>through</td>\n",
              "      <td>wish</td>\n",
              "    </tr>\n",
              "    <tr>\n",
              "      <th>9</th>\n",
              "      <td>electric</td>\n",
              "      <td>power</td>\n",
              "      <td>gilmour</td>\n",
              "      <td>piece_junk</td>\n",
              "      <td>camp</td>\n",
              "      <td>fell_apart</td>\n",
              "      <td>size</td>\n",
              "      <td>pest</td>\n",
              "      <td>poorly</td>\n",
              "      <td>expected</td>\n",
              "      <td>weight</td>\n",
              "      <td>day</td>\n",
              "      <td>tire</td>\n",
              "      <td>stand</td>\n",
              "      <td>duty</td>\n",
              "      <td>assemble</td>\n",
              "      <td>easy_together</td>\n",
              "      <td>mower</td>\n",
              "      <td>wrong</td>\n",
              "      <td>take</td>\n",
              "      <td>line</td>\n",
              "      <td>help</td>\n",
              "      <td>pet</td>\n",
              "      <td>life</td>\n",
              "      <td>concept</td>\n",
              "      <td>nothing_else</td>\n",
              "      <td>side</td>\n",
              "      <td>result</td>\n",
              "      <td>careful</td>\n",
              "      <td>before</td>\n",
              "    </tr>\n",
              "  </tbody>\n",
              "</table>\n",
              "</div>"
            ],
            "text/plain": [
              "  Topic # 01    Topic # 02     Topic # 03  ...  Topic # 28 Topic # 29 Topic # 30\n",
              "0      stuff  poor_quality        awesome  ...        your      great       work\n",
              "1      cheap          poor          fence  ...       small  must_have       well\n",
              "2  save_your       amazing           fast  ...  waste_your       must        doe\n",
              "3      super       fiskars           gift  ...        keep   purchase      doesn\n",
              "4     pruner        blower       shipping  ...   ever_used    trimmer       only\n",
              "5      grass          home  fast_shipping  ...        inch       back      other\n",
              "6      sharp  black_decker         rabbit  ...       waste       wood  described\n",
              "7       hand   poor_design        another  ...      handle       dont   horrible\n",
              "8       save         chain           deck  ...       large    through       wish\n",
              "9   electric         power        gilmour  ...      result    careful     before\n",
              "\n",
              "[10 rows x 30 columns]"
            ]
          },
          "metadata": {
            "tags": []
          },
          "execution_count": 8
        }
      ]
    },
    {
      "cell_type": "markdown",
      "metadata": {
        "id": "AoJ8pJuXdgjX",
        "colab_type": "text"
      },
      "source": [
        "##Evaluating the LDA Model"
      ]
    },
    {
      "cell_type": "code",
      "metadata": {
        "id": "LJ1zm5Rwdim0",
        "colab_type": "code",
        "outputId": "9d0daf30-7333-44c9-b378-f6b64cdc3ee2",
        "colab": {
          "base_uri": "https://localhost:8080/",
          "height": 51
        }
      },
      "source": [
        "# Compute Coherence Score using c_v\n",
        "coherence_model_lda = CoherenceModel(model=lda_model, texts=docs, dictionary=dictionary, coherence='c_v')\n",
        "coherence_lda = coherence_model_lda.get_coherence()\n",
        "print('\\nCoherence Score: ', coherence_lda) #Coherence score on 5 topics was 0.38654120411864723"
      ],
      "execution_count": 0,
      "outputs": [
        {
          "output_type": "stream",
          "text": [
            "\n",
            "Coherence Score:  0.5476230779194542\n"
          ],
          "name": "stdout"
        }
      ]
    },
    {
      "cell_type": "code",
      "metadata": {
        "id": "n-vW0ZYAdk24",
        "colab_type": "code",
        "colab": {}
      },
      "source": [
        "def compute_coherence_values(dictionary, corpus, texts, limit, start=2, step=3):\n",
        "    \"\"\"\n",
        "    Compute c_v coherence for various number of topics\n",
        "\n",
        "    Parameters:\n",
        "    ----------\n",
        "    dictionary : Gensim dictionary\n",
        "    corpus : Gensim corpus\n",
        "    texts : List of input texts\n",
        "    limit : Max num of topics\n",
        "\n",
        "    Returns:\n",
        "    -------\n",
        "    model_list : List of LDA topic models\n",
        "    coherence_values : Coherence values corresponding to the LDA model with respective number of topics\n",
        "    \"\"\"\n",
        "    coherence_values = []\n",
        "    model_list = []\n",
        "    for num_topics in range(start, limit, step):\n",
        "        model=LdaModel(corpus=corpus, id2word=dictionary, num_topics=num_topics)\n",
        "        model_list.append(model)\n",
        "        coherencemodel = CoherenceModel(model=model, texts=texts, dictionary=dictionary, coherence='c_v')\n",
        "        coherence_values.append(coherencemodel.get_coherence())\n",
        "\n",
        "    return model_list, coherence_values"
      ],
      "execution_count": 0,
      "outputs": []
    },
    {
      "cell_type": "code",
      "metadata": {
        "id": "XKixw7zTdoSL",
        "colab_type": "code",
        "outputId": "5ded3e6c-f82a-4946-af29-907d4f35768b",
        "colab": {
          "base_uri": "https://localhost:8080/",
          "height": 296
        }
      },
      "source": [
        "#Model list and plot Coherence score against a number of topics\n",
        "model_list, coherence_values = compute_coherence_values(dictionary=dictionary, corpus=corpus, texts=docs, start=2, limit=40, step=6)\n",
        "# Show graph\n",
        "import matplotlib.pyplot as plt\n",
        "limit=40; start=2; step=6;\n",
        "x = range(start, limit, step)\n",
        "plt.plot(x, coherence_values)\n",
        "plt.xlabel(\"Num Topics\")\n",
        "plt.ylabel(\"Coherence score\")\n",
        "plt.legend((\"coherence_values\"), loc='best')\n",
        "plt.show()\n",
        "plt.savefig('Coherence score against a number of topics - Summary', dpi = 500)"
      ],
      "execution_count": 0,
      "outputs": [
        {
          "output_type": "display_data",
          "data": {
            "image/png": "[encoded data removed]",
            "text/plain": [
              "<Figure size 432x288 with 1 Axes>"
            ]
          },
          "metadata": {
            "tags": []
          }
        },
        {
          "output_type": "display_data",
          "data": {
            "text/plain": [
              "<Figure size 432x288 with 0 Axes>"
            ]
          },
          "metadata": {
            "tags": []
          }
        }
      ]
    },
    {
      "cell_type": "markdown",
      "metadata": {
        "id": "Ll8OaF-Gegi-",
        "colab_type": "text"
      },
      "source": [
        "##Now Working on the Meta-Data of Amazon. This is to check if the LDA works better on the category data"
      ]
    },
    {
      "cell_type": "code",
      "metadata": {
        "id": "ZYQzrvGTe47B",
        "colab_type": "code",
        "colab": {}
      },
      "source": [
        "import pandas as pd\n",
        "import gzip\n",
        "\n",
        "def parse(path):\n",
        "  g = gzip.open(path, 'rb')\n",
        "  for l in g:\n",
        "    yield json.loads(l)\n",
        "\n",
        "def getDF(path):\n",
        "  i = 0\n",
        "  df = {}\n",
        "  for d in parse(path):\n",
        "    df[i] = d\n",
        "    i += 1\n",
        "  return pd.DataFrame.from_dict(df, orient='index')"
      ],
      "execution_count": 0,
      "outputs": []
    },
    {
      "cell_type": "code",
      "metadata": {
        "id": "ShSBLG4BfHis",
        "colab_type": "code",
        "colab": {}
      },
      "source": [
        "df_meta = getDF('/content/drive/My Drive/Amazon_data/meta_Patio_Lawn_and_Garden.json.gz')"
      ],
      "execution_count": 0,
      "outputs": []
    },
    {
      "cell_type": "code",
      "metadata": {
        "id": "R3eSIM6VnOVV",
        "colab_type": "code",
        "outputId": "f682c560-24b3-4af9-d2d0-5363ec78635a",
        "colab": {
          "base_uri": "https://localhost:8080/",
          "height": 85
        }
      },
      "source": [
        "df_meta.shape #should be (279697, 18)\n",
        "df_meta.head()\n",
        "df_meta.columns\n",
        "#type(df_meta.category)"
      ],
      "execution_count": 0,
      "outputs": [
        {
          "output_type": "execute_result",
          "data": {
            "text/plain": [
              "Index(['category', 'tech1', 'description', 'title', 'also_buy', 'brand',\n",
              "       'feature', 'rank', 'main_cat', 'date', 'price', 'asin', 'image',\n",
              "       'also_view', 'similar_item', 'details', 'fit', 'tech2'],\n",
              "      dtype='object')"
            ]
          },
          "metadata": {
            "tags": []
          },
          "execution_count": 14
        }
      ]
    },
    {
      "cell_type": "code",
      "metadata": {
        "id": "8xU5AONhjP_7",
        "colab_type": "code",
        "outputId": "1b2332e6-4a3d-4259-e9e0-fe5e4cc88e5d",
        "colab": {
          "base_uri": "https://localhost:8080/",
          "height": 34
        }
      },
      "source": [
        "df_meta.to_csv('Amazon_Meta_Data_LawnAndGarden.csv')\n",
        "!cp Amazon_Meta_Data_LawnAndGarden.csv /content/drive/My Drive/Amazon_data"
      ],
      "execution_count": 0,
      "outputs": [
        {
          "output_type": "stream",
          "text": [
            "cp: target 'Drive/Amazon_data' is not a directory\n"
          ],
          "name": "stdout"
        }
      ]
    },
    {
      "cell_type": "markdown",
      "metadata": {
        "id": "8n4Wxj2MgYjr",
        "colab_type": "text"
      },
      "source": [
        "##Pre-processing of the meta data"
      ]
    },
    {
      "cell_type": "code",
      "metadata": {
        "id": "OtNLAtHGfKYm",
        "colab_type": "code",
        "outputId": "65fecd09-f438-4cb3-c3bf-7a3b7ab71908",
        "colab": {
          "base_uri": "https://localhost:8080/",
          "height": 102
        }
      },
      "source": [
        "# Convert to array\n",
        "docs =array(df_meta['category'].astype(str))\n",
        "print(type(docs))\n",
        "print(len(docs))\n",
        "# Define function for tokenize and lemmatizing\n",
        "from nltk.stem.wordnet import WordNetLemmatizer\n",
        "from nltk.tokenize import RegexpTokenizer\n",
        "\n",
        "def docs_preprocessor(docs):\n",
        "    tokenizer = RegexpTokenizer(r'\\w+')\n",
        "    for idx in range(len(docs)):\n",
        "        docs[idx] = docs[idx].lower()  # Convert to lowercase.\n",
        "        docs[idx] = tokenizer.tokenize(docs[idx])  # Split into words.\n",
        "\n",
        "    # Remove numbers, but not words that contain numbers.\n",
        "    docs = [[token for token in doc if not token.isdigit()] for doc in docs]\n",
        "    \n",
        "    # Remove words that are only one character.\n",
        "    docs = [[token for token in doc if len(token) > 3] for doc in docs]\n",
        "    \n",
        "    # Lemmatize all words in documents.\n",
        "    lemmatizer = WordNetLemmatizer()\n",
        "    docs = [[lemmatizer.lemmatize(token) for token in doc] for doc in docs]\n",
        "  \n",
        "    return docs\n",
        "# Perform function on our document\n",
        "docs = docs_preprocessor(docs)\n",
        "#Create Biagram & Trigram Models \n",
        "from gensim.models import Phrases\n",
        "# Add bigrams and trigrams to docs,minimum count 10 means only that appear 10 times or more.\n",
        "bigram = Phrases(docs, min_count=10)\n",
        "trigram = Phrases(bigram[docs])\n",
        "\n",
        "for idx in range(len(docs)):\n",
        "    for token in bigram[docs[idx]]:\n",
        "        if '_' in token:\n",
        "            # Token is a bigram, add to document.\n",
        "            docs[idx].append(token)\n",
        "    for token in trigram[docs[idx]]:\n",
        "        if '_' in token:\n",
        "            # Token is a bigram, add to document.\n",
        "            docs[idx].append(token)\n",
        "#Remove rare & common tokens \n",
        "# Create a dictionary representation of the documents.\n",
        "dictionary = Dictionary(docs)\n",
        "dictionary.filter_extremes(no_below=10, no_above=0.2)\n",
        "#Create dictionary and corpus required for Topic Modeling\n",
        "corpus = [dictionary.doc2bow(doc) for doc in docs]\n",
        "print('Number of unique tokens: %d' % len(dictionary))\n",
        "print('Number of documents: %d' % len(corpus))\n",
        "print(corpus[:1])"
      ],
      "execution_count": 0,
      "outputs": [
        {
          "output_type": "stream",
          "text": [
            "<class 'numpy.ndarray'>\n",
            "279697\n",
            "Number of unique tokens: 878\n",
            "Number of documents: 279697\n",
            "[[(0, 1), (1, 2), (2, 1), (3, 1)]]\n"
          ],
          "name": "stdout"
        }
      ]
    },
    {
      "cell_type": "markdown",
      "metadata": {
        "id": "BQFPkZSMgc80",
        "colab_type": "text"
      },
      "source": [
        "##LDA Implementation"
      ]
    },
    {
      "cell_type": "code",
      "metadata": {
        "id": "iQNa_MD3gChq",
        "colab_type": "code",
        "outputId": "9b695fce-6416-4159-f848-7bb8452c25be",
        "colab": {
          "base_uri": "https://localhost:8080/",
          "height": 54
        }
      },
      "source": [
        "# Set parameters.\n",
        "num_topics = 5\n",
        "chunksize = 500 \n",
        "passes = 20 \n",
        "iterations = 400\n",
        "eval_every = 1  \n",
        "\n",
        "# Make a index to word dictionary.\n",
        "temp = dictionary[0]  # only to \"load\" the dictionary.\n",
        "id2word = dictionary.id2token\n",
        "\n",
        "lda_model = LdaModel(corpus=corpus, id2word=id2word, chunksize=chunksize, \\\n",
        "                       alpha='auto', eta='auto', \\\n",
        "                       iterations=iterations, num_topics=num_topics, \\\n",
        "                       passes=passes, eval_every=eval_every)\n",
        "# Print the Keyword in the 5 topics\n",
        "print(lda_model.print_topics())"
      ],
      "execution_count": 0,
      "outputs": [
        {
          "output_type": "stream",
          "text": [
            "[(0, '0.122*\"cooking\" + 0.113*\"furniture\" + 0.107*\"grill\" + 0.043*\"farm\" + 0.043*\"ranch\" + 0.034*\"agricultural\" + 0.033*\"construction\" + 0.033*\"machinery\" + 0.030*\"umbrella\" + 0.028*\"seating\"'), (1, '0.072*\"hand\" + 0.059*\"yard\" + 0.046*\"sign\" + 0.039*\"chime\" + 0.038*\"support\" + 0.037*\"structure\" + 0.035*\"poultry\" + 0.033*\"plant\" + 0.032*\"porch_swing\" + 0.030*\"cooling\"'), (2, '0.302*\"part\" + 0.179*\"replacement\" + 0.116*\"mower\" + 0.107*\"power\" + 0.050*\"statue\" + 0.038*\"sculpture\" + 0.016*\"decorative\" + 0.012*\"canopy\" + 0.012*\"birding\" + 0.012*\"wildlife\"'), (3, '0.126*\"plant\" + 0.116*\"bulb\" + 0.115*\"seed\" + 0.069*\"flag\" + 0.051*\"planter\" + 0.046*\"container\" + 0.045*\"pot\" + 0.042*\"pool\" + 0.040*\"flower\" + 0.036*\"supply\"'), (4, '0.116*\"doormat\" + 0.097*\"control\" + 0.094*\"pest\" + 0.092*\"equipment\" + 0.090*\"watering\" + 0.058*\"hammock\" + 0.055*\"repellent\" + 0.051*\"fertilizer\" + 0.045*\"hose\" + 0.038*\"stand\"')]\n"
          ],
          "name": "stdout"
        }
      ]
    },
    {
      "cell_type": "code",
      "metadata": {
        "id": "Rnzqr_RfylLY",
        "colab_type": "code",
        "outputId": "d55eac57-6bed-4ccc-8240-56144c86049f",
        "colab": {
          "base_uri": "https://localhost:8080/",
          "height": 359
        }
      },
      "source": [
        "#This code block is to see as a data frame what each topic actually comprises of.\n",
        "word_dict = {};\n",
        "for i in range(num_topics):\n",
        "    words = lda_model.show_topic(i, topn = 10)\n",
        "    word_dict['Topic # ' + '{:02d}'.format(i+1)] = [i[0] for i in words]\n",
        "pd.DataFrame(word_dict)"
      ],
      "execution_count": 0,
      "outputs": [
        {
          "output_type": "execute_result",
          "data": {
            "text/html": [
              "<div>\n",
              "<style scoped>\n",
              "    .dataframe tbody tr th:only-of-type {\n",
              "        vertical-align: middle;\n",
              "    }\n",
              "\n",
              "    .dataframe tbody tr th {\n",
              "        vertical-align: top;\n",
              "    }\n",
              "\n",
              "    .dataframe thead th {\n",
              "        text-align: right;\n",
              "    }\n",
              "</style>\n",
              "<table border=\"1\" class=\"dataframe\">\n",
              "  <thead>\n",
              "    <tr style=\"text-align: right;\">\n",
              "      <th></th>\n",
              "      <th>Topic # 01</th>\n",
              "      <th>Topic # 02</th>\n",
              "      <th>Topic # 03</th>\n",
              "      <th>Topic # 04</th>\n",
              "      <th>Topic # 05</th>\n",
              "    </tr>\n",
              "  </thead>\n",
              "  <tbody>\n",
              "    <tr>\n",
              "      <th>0</th>\n",
              "      <td>cooking</td>\n",
              "      <td>hand</td>\n",
              "      <td>part</td>\n",
              "      <td>plant</td>\n",
              "      <td>doormat</td>\n",
              "    </tr>\n",
              "    <tr>\n",
              "      <th>1</th>\n",
              "      <td>furniture</td>\n",
              "      <td>yard</td>\n",
              "      <td>replacement</td>\n",
              "      <td>bulb</td>\n",
              "      <td>control</td>\n",
              "    </tr>\n",
              "    <tr>\n",
              "      <th>2</th>\n",
              "      <td>grill</td>\n",
              "      <td>sign</td>\n",
              "      <td>mower</td>\n",
              "      <td>seed</td>\n",
              "      <td>pest</td>\n",
              "    </tr>\n",
              "    <tr>\n",
              "      <th>3</th>\n",
              "      <td>farm</td>\n",
              "      <td>chime</td>\n",
              "      <td>power</td>\n",
              "      <td>flag</td>\n",
              "      <td>equipment</td>\n",
              "    </tr>\n",
              "    <tr>\n",
              "      <th>4</th>\n",
              "      <td>ranch</td>\n",
              "      <td>support</td>\n",
              "      <td>statue</td>\n",
              "      <td>planter</td>\n",
              "      <td>watering</td>\n",
              "    </tr>\n",
              "    <tr>\n",
              "      <th>5</th>\n",
              "      <td>agricultural</td>\n",
              "      <td>structure</td>\n",
              "      <td>sculpture</td>\n",
              "      <td>container</td>\n",
              "      <td>hammock</td>\n",
              "    </tr>\n",
              "    <tr>\n",
              "      <th>6</th>\n",
              "      <td>construction</td>\n",
              "      <td>poultry</td>\n",
              "      <td>decorative</td>\n",
              "      <td>pot</td>\n",
              "      <td>repellent</td>\n",
              "    </tr>\n",
              "    <tr>\n",
              "      <th>7</th>\n",
              "      <td>machinery</td>\n",
              "      <td>plant</td>\n",
              "      <td>canopy</td>\n",
              "      <td>pool</td>\n",
              "      <td>fertilizer</td>\n",
              "    </tr>\n",
              "    <tr>\n",
              "      <th>8</th>\n",
              "      <td>umbrella</td>\n",
              "      <td>porch_swing</td>\n",
              "      <td>birding</td>\n",
              "      <td>flower</td>\n",
              "      <td>hose</td>\n",
              "    </tr>\n",
              "    <tr>\n",
              "      <th>9</th>\n",
              "      <td>seating</td>\n",
              "      <td>cooling</td>\n",
              "      <td>wildlife</td>\n",
              "      <td>supply</td>\n",
              "      <td>stand</td>\n",
              "    </tr>\n",
              "  </tbody>\n",
              "</table>\n",
              "</div>"
            ],
            "text/plain": [
              "     Topic # 01   Topic # 02   Topic # 03 Topic # 04  Topic # 05\n",
              "0       cooking         hand         part      plant     doormat\n",
              "1     furniture         yard  replacement       bulb     control\n",
              "2         grill         sign        mower       seed        pest\n",
              "3          farm        chime        power       flag   equipment\n",
              "4         ranch      support       statue    planter    watering\n",
              "5  agricultural    structure    sculpture  container     hammock\n",
              "6  construction      poultry   decorative        pot   repellent\n",
              "7     machinery        plant       canopy       pool  fertilizer\n",
              "8      umbrella  porch_swing      birding     flower        hose\n",
              "9       seating      cooling     wildlife     supply       stand"
            ]
          },
          "metadata": {
            "tags": []
          },
          "execution_count": 17
        }
      ]
    },
    {
      "cell_type": "markdown",
      "metadata": {
        "id": "yel8Mwtrgfor",
        "colab_type": "text"
      },
      "source": [
        "##LDA Evaluation"
      ]
    },
    {
      "cell_type": "code",
      "metadata": {
        "id": "3pd-aD8KgHBC",
        "colab_type": "code",
        "outputId": "de35d5bc-c56a-4f1c-f2e0-7d87c79c0642",
        "colab": {
          "base_uri": "https://localhost:8080/",
          "height": 51
        }
      },
      "source": [
        "# Compute Coherence Score using c_v\n",
        "coherence_model_lda = CoherenceModel(model=lda_model, texts=docs, dictionary=dictionary, coherence='c_v')\n",
        "coherence_lda = coherence_model_lda.get_coherence()\n",
        "print('\\nCoherence Score: ', coherence_lda)"
      ],
      "execution_count": 0,
      "outputs": [
        {
          "output_type": "stream",
          "text": [
            "\n",
            "Coherence Score:  0.5580547345560112\n"
          ],
          "name": "stdout"
        }
      ]
    },
    {
      "cell_type": "code",
      "metadata": {
        "id": "fC-fksUbgNYv",
        "colab_type": "code",
        "colab": {}
      },
      "source": [
        "def compute_coherence_values(dictionary, corpus, texts, limit, start=2, step=3):\n",
        "    \"\"\"df_meta = getDF('/content/drive/My Drive/Amazon_data/meta_Patio_Lawn_and_Garden.json.gz')\n",
        "    Compute c_v coherence for various number of topics\n",
        "\n",
        "    Parameters:\n",
        "    ----------\n",
        "    dictionary : Gensim dictionary\n",
        "    corpus : Gensim corpus\n",
        "    texts : List of input texts\n",
        "    limit : Max num of topics\n",
        "\n",
        "    Returns:\n",
        "    -------\n",
        "    model_list : List of LDA topic models\n",
        "    coherence_values : Coherence values corresponding to the LDA model with respective number of topics\n",
        "    \"\"\"\n",
        "    coherence_values = []\n",
        "    model_list = []\n",
        "    for num_topics in range(start, limit, step):\n",
        "        model=LdaModel(corpus=corpus, id2word=dictionary, num_topics=num_topics)\n",
        "        model_list.append(model)\n",
        "        coherencemodel = CoherenceModel(model=model, texts=texts, dictionary=dictionary, coherence='c_v')\n",
        "        coherence_values.append(coherencemodel.get_coherence())\n",
        "\n",
        "    return model_list, coherence_values"
      ],
      "execution_count": 0,
      "outputs": []
    },
    {
      "cell_type": "code",
      "metadata": {
        "id": "P0JRbaBfgTCj",
        "colab_type": "code",
        "outputId": "6997f3e5-57d3-4b1f-f7e1-d98b802ae3fc",
        "colab": {
          "base_uri": "https://localhost:8080/",
          "height": 296
        }
      },
      "source": [
        "#Model list and plot Coherence score against a number of topics\n",
        "model_list, coherence_values = compute_coherence_values(dictionary=dictionary, corpus=corpus, texts=docs, start=2, limit=40, step=6)\n",
        "# Show graph\n",
        "import matplotlib.pyplot as plt\n",
        "limit=40; start=2; step=6;\n",
        "x = range(start, limit, step)\n",
        "plt.plot(x, coherence_values)\n",
        "plt.xlabel(\"Num Topics\")\n",
        "plt.ylabel(\"Coherence score\")\n",
        "plt.legend((\"coherence_values\"), loc='best')\n",
        "plt.show()\n",
        "plt.savefig('Coherence score against a number of topics - MetaData', dpi = 500)"
      ],
      "execution_count": 0,
      "outputs": [
        {
          "output_type": "display_data",
          "data": {
            "image/png": "[encoded data removed]",
            "text/plain": [
              "<Figure size 432x288 with 1 Axes>"
            ]
          },
          "metadata": {
            "tags": []
          }
        },
        {
          "output_type": "display_data",
          "data": {
            "text/plain": [
              "<Figure size 432x288 with 0 Axes>"
            ]
          },
          "metadata": {
            "tags": []
          }
        }
      ]
    },
    {
      "cell_type": "markdown",
      "metadata": {
        "id": "uApR4m0qglWD",
        "colab_type": "text"
      },
      "source": [
        "##Comparing the Coherence Scores per LDA Implementation"
      ]
    },
    {
      "cell_type": "code",
      "metadata": {
        "id": "bLgSofi4glBf",
        "colab_type": "code",
        "colab": {}
      },
      "source": [
        ""
      ],
      "execution_count": 0,
      "outputs": []
    }
  ]
}