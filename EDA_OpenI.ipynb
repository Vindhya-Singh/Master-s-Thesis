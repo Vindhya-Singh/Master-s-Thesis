{
  "nbformat": 4,
  "nbformat_minor": 0,
  "metadata": {
    "colab": {
      "name": "EDA_OpenI.ipynb",
      "provenance": [],
      "collapsed_sections": [],
      "toc_visible": true,
      "include_colab_link": true
    },
    "kernelspec": {
      "name": "python3",
      "display_name": "Python 3"
    }
  },
  "cells": [
    {
      "cell_type": "markdown",
      "metadata": {
        "id": "view-in-github",
        "colab_type": "text"
      },
      "source": [
        "<a href=\"https://colab.research.google.com/github/VindhyaSRajan/Master-s-Thesis/blob/master/EDA_OpenI.ipynb\" target=\"_parent\"><img src=\"https://colab.research.google.com/assets/colab-badge.svg\" alt=\"Open In Colab\"/></a>"
      ]
    },
    {
      "cell_type": "code",
      "metadata": {
        "id": "T0sv-WLF4J4c",
        "colab_type": "code",
        "colab": {
          "base_uri": "https://localhost:8080/",
          "height": 122
        },
        "outputId": "d2487c77-bafb-4911-fc9b-a87bef8dd130"
      },
      "source": [
        "from google.colab import drive\n",
        "drive.mount('/content/drive')"
      ],
      "execution_count": 1,
      "outputs": [
        {
          "output_type": "stream",
          "text": [
            "Go to this URL in a browser: https://accounts.google.com/o/oauth2/auth?client_id=947318989803-6bn6qk8qdgf4n4g3pfee6491hc0brc4i.apps.googleusercontent.com&redirect_uri=urn%3Aietf%3Awg%3Aoauth%3A2.0%3Aoob&scope=email%20https%3A%2F%2Fwww.googleapis.com%2Fauth%2Fdocs.test%20https%3A%2F%2Fwww.googleapis.com%2Fauth%2Fdrive%20https%3A%2F%2Fwww.googleapis.com%2Fauth%2Fdrive.photos.readonly%20https%3A%2F%2Fwww.googleapis.com%2Fauth%2Fpeopleapi.readonly&response_type=code\n",
            "\n",
            "Enter your authorization code:\n",
            "··········\n",
            "Mounted at /content/drive\n"
          ],
          "name": "stdout"
        }
      ]
    },
    {
      "cell_type": "markdown",
      "metadata": {
        "id": "INtbJn1g5IuB",
        "colab_type": "text"
      },
      "source": [
        "##Data Exploration"
      ]
    },
    {
      "cell_type": "code",
      "metadata": {
        "id": "x4_cf8MY5M4X",
        "colab_type": "code",
        "colab": {}
      },
      "source": [
        "!pip install gensim\n",
        "!pip install bs4\n",
        "!pip install pyLDAvis\n",
        "!pip install warnings"
      ],
      "execution_count": 0,
      "outputs": []
    },
    {
      "cell_type": "code",
      "metadata": {
        "id": "Gir6jOiw4FhY",
        "colab_type": "code",
        "outputId": "3339b27a-a6e6-44d0-906f-80f4d1e76305",
        "colab": {
          "base_uri": "https://localhost:8080/",
          "height": 85
        }
      },
      "source": [
        "import pandas as pd\n",
        "pd.set_option('display.max_colwidth', -1)  # to view entire text in any column\n",
        "import numpy as np\n",
        "import random\n",
        "import matplotlib.pyplot as plt\n",
        "%matplotlib inline\n",
        "import seaborn as sns\n",
        "import re\n",
        "import string\n",
        "import gzip\n",
        "from pprint import pprint\n",
        "\n",
        "from bs4 import BeautifulSoup\n",
        "import nltk\n",
        "from nltk import FreqDist\n",
        "nltk.download('stopwords') \n",
        "from nltk.corpus import stopwords\n",
        "# from nltk.stem.wordnet import WordNetLemmatizer  # alternative lemmatizer\n",
        "# lemma = WordNetLemmatizer()\n",
        "\n",
        "import spacy\n",
        "import gensim\n",
        "from gensim import corpora\n",
        "from gensim.models.coherencemodel import CoherenceModel\n",
        "from gensim.models.ldamodel import LdaModel\n",
        "from gensim.corpora.dictionary import Dictionary\n",
        "\n",
        "import pyLDAvis\n",
        "import pyLDAvis.gensim   # for visualizing found topics\n",
        "\n",
        "import os\n",
        "\n",
        "from numpy import array\n",
        "import nltk\n",
        "nltk.download('wordnet')\n",
        "\n",
        "import warnings\n",
        "warnings.filterwarnings(\"ignore\",category=DeprecationWarning)  # suppressing deprecation warnings when running gensim LDA\n",
        "\n",
        "#from specialmaps import CONTRACTION_MAP\n",
        "#from collections import defaultdict"
      ],
      "execution_count": 50,
      "outputs": [
        {
          "output_type": "stream",
          "text": [
            "[nltk_data] Downloading package stopwords to /root/nltk_data...\n",
            "[nltk_data]   Package stopwords is already up-to-date!\n",
            "[nltk_data] Downloading package wordnet to /root/nltk_data...\n",
            "[nltk_data]   Unzipping corpora/wordnet.zip.\n"
          ],
          "name": "stdout"
        }
      ]
    },
    {
      "cell_type": "code",
      "metadata": {
        "id": "dLBZ5APk6LZI",
        "colab_type": "code",
        "outputId": "899e8649-990c-463d-9eb2-2199b903dece",
        "colab": {
          "base_uri": "https://localhost:8080/",
          "height": 85
        }
      },
      "source": [
        "df = pd.read_csv('/content/drive/My Drive/OpeniReports.csv', nrows  = 100000, error_bad_lines = False)\n",
        "print('Shape of the actual data is ',df.shape)\n",
        "df.columns"
      ],
      "execution_count": 6,
      "outputs": [
        {
          "output_type": "stream",
          "text": [
            "Shape of the actual data is  (7574, 10)\n"
          ],
          "name": "stdout"
        },
        {
          "output_type": "execute_result",
          "data": {
            "text/plain": [
              "Index(['Unnamed: 0', 'uId', 'pmcId', 'Owner', 'parentImage_id', 'Comparison',\n",
              "       'Indication', 'Findings', 'Impression', 'Major'],\n",
              "      dtype='object')"
            ]
          },
          "metadata": {
            "tags": []
          },
          "execution_count": 6
        }
      ]
    },
    {
      "cell_type": "code",
      "metadata": {
        "id": "fCGh7ABZ7WhP",
        "colab_type": "code",
        "outputId": "929b5a77-7ea1-42a1-a7bf-4c9f08d06181",
        "colab": {
          "base_uri": "https://localhost:8080/",
          "height": 510
        }
      },
      "source": [
        "df = df[['uId','parentImage_id','Comparison','Indication','Findings','Impression','Major']]\n",
        "df.sample(5)"
      ],
      "execution_count": 8,
      "outputs": [
        {
          "output_type": "execute_result",
          "data": {
            "text/html": [
              "<div>\n",
              "<style scoped>\n",
              "    .dataframe tbody tr th:only-of-type {\n",
              "        vertical-align: middle;\n",
              "    }\n",
              "\n",
              "    .dataframe tbody tr th {\n",
              "        vertical-align: top;\n",
              "    }\n",
              "\n",
              "    .dataframe thead th {\n",
              "        text-align: right;\n",
              "    }\n",
              "</style>\n",
              "<table border=\"1\" class=\"dataframe\">\n",
              "  <thead>\n",
              "    <tr style=\"text-align: right;\">\n",
              "      <th></th>\n",
              "      <th>uId</th>\n",
              "      <th>parentImage_id</th>\n",
              "      <th>Comparison</th>\n",
              "      <th>Indication</th>\n",
              "      <th>Findings</th>\n",
              "      <th>Impression</th>\n",
              "      <th>Major</th>\n",
              "    </tr>\n",
              "  </thead>\n",
              "  <tbody>\n",
              "    <tr>\n",
              "      <th>5533</th>\n",
              "      <td>CXR1916</td>\n",
              "      <td>CXR1916_IM-0595-1001</td>\n",
              "      <td>Chest radiograph XXXX.</td>\n",
              "      <td>COPD</td>\n",
              "      <td>There is stable left costophrenic XXXX blunting. The patient has undergone prior left lobectomy. There are chronic appearing right basilar interstitial markings. Heart size normal. No visualized pneumothorax. There is stable appearing left upper and right upper lobe bullous disease.</td>\n",
              "      <td>1. No acute cardiopulmonary findings. 2. Unchanged chronic appearance of the left lung.</td>\n",
              "      <td>Costophrenic Angle/left/blunted</td>\n",
              "    </tr>\n",
              "    <tr>\n",
              "      <th>260</th>\n",
              "      <td>CXR3871</td>\n",
              "      <td>CXR3871_IM-1964-2001</td>\n",
              "      <td>NaN</td>\n",
              "      <td>HISTORY OF HISTOPLASMOSIS XXXX ON TNF - XXXX XXXX - XXXX XXXX</td>\n",
              "      <td>NaN</td>\n",
              "      <td>No comparison chest x-XXXX. Well-expanded and clear lungs. Mediastinal contour within normal limits. No acute cardiopulmonary abnormality identified.</td>\n",
              "      <td>normal</td>\n",
              "    </tr>\n",
              "    <tr>\n",
              "      <th>549</th>\n",
              "      <td>CXR2813</td>\n",
              "      <td>CXR2813_IM-1239-1001</td>\n",
              "      <td>Two-view chest from XXXX.</td>\n",
              "      <td>XXXX-year-old female chest pain.</td>\n",
              "      <td>Heart size within normal limits. No focal airspace disease. No pneumothorax or effusion. Mild degenerative change in the thoracic spine.</td>\n",
              "      <td>No acute cardiopulmonary findings.</td>\n",
              "      <td>Thoracic Vertebrae/degenerative/mild</td>\n",
              "    </tr>\n",
              "    <tr>\n",
              "      <th>1134</th>\n",
              "      <td>CXR2296</td>\n",
              "      <td>CXR2296_IM-0876-2001</td>\n",
              "      <td>None.</td>\n",
              "      <td>XXXX-year-old male with chest pain.</td>\n",
              "      <td>The heart is normal in size with normal appearance of the cardiomediastinal silhouette. There is a hiatal hernia with soft tissue projecting behind the mediastinum. The lungs are clear without focal airspace opacity, pleural effusion, pneumothorax. The osseous structures are intact.</td>\n",
              "      <td>1. No acute cardiopulmonary finding. 2. Hiatal hernia.</td>\n",
              "      <td>Hernia, Hiatal</td>\n",
              "    </tr>\n",
              "    <tr>\n",
              "      <th>3311</th>\n",
              "      <td>CXR3268</td>\n",
              "      <td>CXR3268_IM-1551-1001</td>\n",
              "      <td>Radiograph Chest PA and Lateral XXXX, XXXX.</td>\n",
              "      <td>Shortness of breath.</td>\n",
              "      <td>The heart is normal in size and contour. There is no mediastinal widening. The lungs are clear bilaterally. No large pleural effusion or pneumothorax. The XXXX are intact.</td>\n",
              "      <td>No acute cardiopulmonary abnormalities.</td>\n",
              "      <td>normal</td>\n",
              "    </tr>\n",
              "  </tbody>\n",
              "</table>\n",
              "</div>"
            ],
            "text/plain": [
              "          uId  ...                                 Major\n",
              "5533  CXR1916  ...  Costophrenic Angle/left/blunted     \n",
              "260   CXR3871  ...  normal                              \n",
              "549   CXR2813  ...  Thoracic Vertebrae/degenerative/mild\n",
              "1134  CXR2296  ...  Hernia, Hiatal                      \n",
              "3311  CXR3268  ...  normal                              \n",
              "\n",
              "[5 rows x 7 columns]"
            ]
          },
          "metadata": {
            "tags": []
          },
          "execution_count": 8
        }
      ]
    },
    {
      "cell_type": "code",
      "metadata": {
        "id": "f1U8mTKD8XF1",
        "colab_type": "code",
        "colab": {}
      },
      "source": [
        "# function to plot most frequent terms. This is used to gauge the quality of text processing\n",
        "def freq_words(x, terms = 30):\n",
        "  all_words = ' '.join([text for text in x])\n",
        "  all_words = all_words.split()\n",
        "\n",
        "  fdist = FreqDist(all_words)\n",
        "  words_df = pd.DataFrame({'word':list(fdist.keys()), 'count':list(fdist.values())})\n",
        "\n",
        "  # selecting top n most frequent words\n",
        "  d = words_df.nlargest(columns=\"count\", n = terms) \n",
        "  plt.figure(figsize=(20,5))\n",
        "  ax = sns.barplot(data=d, x= \"word\", y = \"count\")\n",
        "  ax.set(ylabel = 'Count')\n",
        "  plt.show()"
      ],
      "execution_count": 0,
      "outputs": []
    },
    {
      "cell_type": "code",
      "metadata": {
        "id": "y9wPiv3V8iqO",
        "colab_type": "code",
        "outputId": "e08abaea-bea9-4f21-9ae2-97e1ca40f0b1",
        "colab": {
          "base_uri": "https://localhost:8080/",
          "height": 459
        }
      },
      "source": [
        "df = df.dropna(subset = ['Findings'])\n",
        "print('Now the shape is: ',df.shape) #shape should come around (6561,7)\n",
        "df.sample(5)"
      ],
      "execution_count": 14,
      "outputs": [
        {
          "output_type": "stream",
          "text": [
            "Now the shape is:  (6561, 7)\n"
          ],
          "name": "stdout"
        },
        {
          "output_type": "execute_result",
          "data": {
            "text/html": [
              "<div>\n",
              "<style scoped>\n",
              "    .dataframe tbody tr th:only-of-type {\n",
              "        vertical-align: middle;\n",
              "    }\n",
              "\n",
              "    .dataframe tbody tr th {\n",
              "        vertical-align: top;\n",
              "    }\n",
              "\n",
              "    .dataframe thead th {\n",
              "        text-align: right;\n",
              "    }\n",
              "</style>\n",
              "<table border=\"1\" class=\"dataframe\">\n",
              "  <thead>\n",
              "    <tr style=\"text-align: right;\">\n",
              "      <th></th>\n",
              "      <th>uId</th>\n",
              "      <th>parentImage_id</th>\n",
              "      <th>Comparison</th>\n",
              "      <th>Indication</th>\n",
              "      <th>Findings</th>\n",
              "      <th>Impression</th>\n",
              "      <th>Major</th>\n",
              "    </tr>\n",
              "  </thead>\n",
              "  <tbody>\n",
              "    <tr>\n",
              "      <th>2914</th>\n",
              "      <td>CXR3709</td>\n",
              "      <td>CXR3709_IM-1852-4001</td>\n",
              "      <td>None.</td>\n",
              "      <td>History of aortic dissection.</td>\n",
              "      <td>The mediastinal silhouette is widened with overlying sternotomy XXXX. The heart size is normal. The lungs are clear without evidence of effusion, infiltrate or pneumothorax. Visualized bony structures are intact with no acute abnormalities.</td>\n",
              "      <td>1. Wide mediastinal XXXX, consistent with history of aortic dissection. 2. Otherwise normal chest x-XXXX.</td>\n",
              "      <td>Mediastinum/prominent</td>\n",
              "    </tr>\n",
              "    <tr>\n",
              "      <th>1204</th>\n",
              "      <td>CXR129</td>\n",
              "      <td>CXR129_IM-0189-2001</td>\n",
              "      <td>None available</td>\n",
              "      <td>Hemoptysis</td>\n",
              "      <td>The cardiomediastinal silhouette is within normal limits for size and contour. The lungs are normally inflated without evidence of focal airspace disease, pleural effusion, or pneumothorax. Osseous structures are within normal limits for patient age..</td>\n",
              "      <td>1. No acute radiographic cardiopulmonary process.</td>\n",
              "      <td>normal</td>\n",
              "    </tr>\n",
              "    <tr>\n",
              "      <th>2734</th>\n",
              "      <td>CXR3402</td>\n",
              "      <td>CXR3402_IM-1646-2001</td>\n",
              "      <td>XXXX</td>\n",
              "      <td>XXXX-year-old female with chest pain</td>\n",
              "      <td>The heart size and mediastinal contours appear within normal limits. No focal airspace consolidation, pleural effusion or pneumothorax. Scattered calcified granulomas bilaterally. No acute bony abnormalities.</td>\n",
              "      <td>No acute cardiopulmonary findings.</td>\n",
              "      <td>Calcified Granuloma/bilateral/scattered/multiple</td>\n",
              "    </tr>\n",
              "    <tr>\n",
              "      <th>3769</th>\n",
              "      <td>CXR858</td>\n",
              "      <td>CXR858_IM-2379-1001</td>\n",
              "      <td>None.</td>\n",
              "      <td>XXXX. XXXX posterior chest pain.</td>\n",
              "      <td>Frontal and lateral views of the chest show normal size and configuration of the cardiac silhouette. There is evidence of previous granulomatous disease. Normal mediastinal contour, pulmonary XXXX and vasculature, central airways and lung volumes. No pleural effusion.</td>\n",
              "      <td>No acute or active cardiac, pulmonary or pleural disease.</td>\n",
              "      <td>Granulomatous Disease</td>\n",
              "    </tr>\n",
              "    <tr>\n",
              "      <th>2599</th>\n",
              "      <td>CXR3039</td>\n",
              "      <td>CXR3039_IM-1412-2001</td>\n",
              "      <td>None.</td>\n",
              "      <td>XXXX vehicle accident. Mid chest pain from airbag.</td>\n",
              "      <td>Normal heart size. Clear lungs. No pneumothorax or large pleural effusion.</td>\n",
              "      <td>No acute cardiopulmonary findings.</td>\n",
              "      <td>normal</td>\n",
              "    </tr>\n",
              "  </tbody>\n",
              "</table>\n",
              "</div>"
            ],
            "text/plain": [
              "          uId  ...                                             Major\n",
              "2914  CXR3709  ...  Mediastinum/prominent                           \n",
              "1204  CXR129   ...  normal                                          \n",
              "2734  CXR3402  ...  Calcified Granuloma/bilateral/scattered/multiple\n",
              "3769  CXR858   ...  Granulomatous Disease                           \n",
              "2599  CXR3039  ...  normal                                          \n",
              "\n",
              "[5 rows x 7 columns]"
            ]
          },
          "metadata": {
            "tags": []
          },
          "execution_count": 14
        }
      ]
    },
    {
      "cell_type": "code",
      "metadata": {
        "id": "AkoNJOX88mxX",
        "colab_type": "code",
        "outputId": "cc71135f-bef2-47fd-8b39-118ac79ae526",
        "colab": {
          "base_uri": "https://localhost:8080/",
          "height": 1000
        }
      },
      "source": [
        "#OpenI Data\n",
        "# number of reports, number of associated Findings for each X-Ray\n",
        "findings_count = df.groupby('uId').agg({'Findings':'count'}).sort_values(by = 'Findings', ascending = False)\n",
        "findings_count = findings_count.reset_index()\n",
        "findings_count = findings_count.rename({'Findings':'FindingsCount'}, axis = 'columns')\n",
        "print('Top 10 :\\n', findings_count.head(10),'\\n')\n",
        "print(findings_count.FindingsCount.describe())\n",
        "plt.figure(figsize=(8,10))\n",
        "\n",
        "# a few products are much more highly reviewed than the rest, zoom in to x < 200\n",
        "findings_count.plot.hist(by='FindingsCount', bins = 5, rwidth = 0.8)  \n",
        "plt.xlim([-1,100])   # enmt: log y axis\n",
        "\n",
        "\n",
        "# number of reports, number of associated Major for each X-Ray\n",
        "major_count = df.groupby('uId').agg({'Major':'count'}).sort_values(by = 'Major', ascending = False)\n",
        "major_count = major_count.reset_index()\n",
        "major_count = major_count.rename({'Major':'MajorCount'}, axis = 'columns')\n",
        "print('Top 10 :\\n', major_count.head(10),'\\n')\n",
        "print(major_count.MajorCount.describe())\n",
        "plt.figure(figsize=(8,10))\n",
        "\n",
        "# a few products are much more highly reviewed than the rest, zoom in to x < 200\n",
        "major_count.plot.hist(by='MajorCount', bins = 5, rwidth = 0.8)  \n",
        "plt.xlim([-1,100])   # enmt: log y axis"
      ],
      "execution_count": 19,
      "outputs": [
        {
          "output_type": "stream",
          "text": [
            "Top 10 :\n",
            "        uId  FindingsCount\n",
            "0  CXR1303  5            \n",
            "1  CXR3359  4            \n",
            "2  CXR2243  4            \n",
            "3  CXR3965  4            \n",
            "4  CXR2084  4            \n",
            "5  CXR3932  4            \n",
            "6  CXR3566  4            \n",
            "7  CXR1102  4            \n",
            "8  CXR2097  4            \n",
            "9  CXR2560  4             \n",
            "\n",
            "count    3425.000000\n",
            "mean     1.915620   \n",
            "std      0.439245   \n",
            "min      1.000000   \n",
            "25%      2.000000   \n",
            "50%      2.000000   \n",
            "75%      2.000000   \n",
            "max      5.000000   \n",
            "Name: FindingsCount, dtype: float64\n",
            "Top 10 :\n",
            "        uId  MajorCount\n",
            "0  CXR1303  5         \n",
            "1  CXR3359  4         \n",
            "2  CXR2243  4         \n",
            "3  CXR3965  4         \n",
            "4  CXR2084  4         \n",
            "5  CXR3932  4         \n",
            "6  CXR3566  4         \n",
            "7  CXR1102  4         \n",
            "8  CXR2097  4         \n",
            "9  CXR2560  4          \n",
            "\n",
            "count    3425.000000\n",
            "mean     1.915620   \n",
            "std      0.439245   \n",
            "min      1.000000   \n",
            "25%      2.000000   \n",
            "50%      2.000000   \n",
            "75%      2.000000   \n",
            "max      5.000000   \n",
            "Name: MajorCount, dtype: float64\n"
          ],
          "name": "stdout"
        },
        {
          "output_type": "execute_result",
          "data": {
            "text/plain": [
              "(-1, 100)"
            ]
          },
          "metadata": {
            "tags": []
          },
          "execution_count": 19
        },
        {
          "output_type": "display_data",
          "data": {
            "text/plain": [
              "<Figure size 576x720 with 0 Axes>"
            ]
          },
          "metadata": {
            "tags": []
          }
        },
        {
          "output_type": "display_data",
          "data": {
            "image/png": "[encoded data removed]",
            "text/plain": [
              "<Figure size 432x288 with 1 Axes>"
            ]
          },
          "metadata": {
            "tags": []
          }
        },
        {
          "output_type": "display_data",
          "data": {
            "text/plain": [
              "<Figure size 576x720 with 0 Axes>"
            ]
          },
          "metadata": {
            "tags": []
          }
        },
        {
          "output_type": "display_data",
          "data": {
            "image/png": "[encoded data removed]",
            "text/plain": [
              "<Figure size 432x288 with 1 Axes>"
            ]
          },
          "metadata": {
            "tags": []
          }
        }
      ]
    },
    {
      "cell_type": "code",
      "metadata": {
        "id": "Pekn-e7r8tBC",
        "colab_type": "code",
        "outputId": "0543b512-a04f-48da-c2fc-4a82d49e462d",
        "colab": {
          "base_uri": "https://localhost:8080/",
          "height": 334
        }
      },
      "source": [
        "freq_words(list(df['Findings']))"
      ],
      "execution_count": 20,
      "outputs": [
        {
          "output_type": "display_data",
          "data": {
            "image/png": "[encoded data removed]",
            "text/plain": [
              "<Figure size 1440x360 with 1 Axes>"
            ]
          },
          "metadata": {
            "tags": []
          }
        }
      ]
    },
    {
      "cell_type": "code",
      "metadata": {
        "id": "diFntuIz8xIq",
        "colab_type": "code",
        "colab": {}
      },
      "source": [
        "# functions for text cleaning and pre-processing\n",
        "\n",
        "punc_char = set(string.punctuation)\n",
        "\n",
        "def remove_punctuation(rev):\n",
        "    # remove punctuation from the input string rev\n",
        "    return ''.join([ch for ch in rev if ch not in punc_char])\n",
        "\n",
        "stop_words = stopwords.words('english')\n",
        "stop_words.extend(['would','dont','cant','should','it.','(',')','-','one','!','\"',',','.'])  \n",
        "\n",
        "def remove_stopwords(rev):\n",
        "    # rev is a review text, one string\n",
        "    rev_new = \" \".join([i for i in rev.split() if i not in stop_words])\n",
        "    return rev_new\n",
        "\n",
        "nlp = spacy.load('en', disable=['parser', 'ner'])\n",
        "\n",
        "def lemmatization(rev): \n",
        "    # lemmatize input string rev, i.e. reduce all forms of a word to the lemma\n",
        "    doc = nlp(\" \".join(rev.split()))\n",
        "    return \" \".join([token.lemma_ for token in doc])\n",
        "\n",
        "def lemmatization_tag(rev, tags = ['NOUN', 'ADJ']): # filter noun and adjective\n",
        "    doc = nlp(\" \".join(rev.split()))\n",
        "    return \" \".join([token.lemma_ for token in doc if token.pos_ in tags])\n",
        "\n",
        "def remove_num(s):\n",
        "    # s is a string, e.g. an entire review text\n",
        "    return ''.join([i for i in s if not i.isdigit()])"
      ],
      "execution_count": 0,
      "outputs": []
    },
    {
      "cell_type": "code",
      "metadata": {
        "id": "hKodste39TFW",
        "colab_type": "code",
        "outputId": "854683e6-9125-4062-bfdb-c084e4b29a98",
        "colab": {
          "base_uri": "https://localhost:8080/",
          "height": 411
        }
      },
      "source": [
        "# contraction expansion tests\n",
        "print(\"\\n Printing the samples from the column Findings \\n\")\n",
        "print(df['Findings'].sample(n=5, random_state = 0))\n",
        "print(\"\\n\")\n",
        "print(\"\\n Now printing the text from the column Major \\n\")\n",
        "print(df['Major'].sample(n=5, random_state = 0))\n",
        "print(\"\\n\")\n"
      ],
      "execution_count": 25,
      "outputs": [
        {
          "output_type": "stream",
          "text": [
            "\n",
            " Printing the samples from the column Findings \n",
            "\n",
            "2596    There is a calcified granuloma in the left upper lung zone. The lungs are otherwise clear. There is hyperinflation. The heart and mediastinum are normal. The skeletal structures and soft tissues are normal for age.                                                                                                                              \n",
            "5107    The cardiomediastinal silhouette is within normal limits. Calcified right lower lobe granuloma. No focal airspace consolidation.. No visualized pneumothorax or large pleural effusion. No acute bony abnormalities.                                                                                                                                \n",
            "3583    The heart and mediastinum are unremarkable. There is tortuosity of the aorta, compatible with atherosclerosis. Low lung volumes. Minimal XXXX opacities within the lung bases, XXXX subsegmental atelectasis. The lungs are clear without infiltrate. There is no effusion or pneumothorax.                                                         \n",
            "3590    Heart size is normal. No pneumothorax. No large pleural effusions. No focal airspace opacities.                                                                                                                                                                                                                                                     \n",
            "1828    PA and lateral views of the chest were obtained. The cardiomediastinal silhouette is normal in size and configuration. The lungs are well aerated. There is no pneumothorax, pleural effusion, or focal air space consolidation. Mild basilar atelectasis. Increased density the lung bases, favored this attenuation from overlying breast shadows.\n",
            "Name: Findings, dtype: object\n",
            "\n",
            "\n",
            "\n",
            " Now printing the text from the column Major \n",
            "\n",
            "2596    Calcified Granuloma/lung/upper lobe/left \n",
            "5107    Calcified Granuloma/lung/lower lobe/right\n",
            "3583    Aorta/tortuous                           \n",
            "3590    normal                                   \n",
            "1828    Pulmonary Atelectasis/base/mild          \n",
            "Name: Major, dtype: object\n",
            "\n",
            "\n"
          ],
          "name": "stdout"
        }
      ]
    },
    {
      "cell_type": "code",
      "metadata": {
        "id": "GFDlDYdI9UB4",
        "colab_type": "code",
        "colab": {}
      },
      "source": [
        "df.loc[:,'Findings_no_punc'] = [remove_punctuation(r) for r in df['Findings']]\n",
        "df.loc[:,'Major_no_punc'] = [remove_punctuation(r) for r in df['Major']]\n",
        "#df[:'review_no_punc']"
      ],
      "execution_count": 0,
      "outputs": []
    },
    {
      "cell_type": "code",
      "metadata": {
        "id": "It0pqslFCXYh",
        "colab_type": "code",
        "colab": {
          "base_uri": "https://localhost:8080/",
          "height": 34
        },
        "outputId": "51e63ac3-ecdc-4124-8b25-9fea6c1fb6bb"
      },
      "source": [
        "df.shape"
      ],
      "execution_count": 29,
      "outputs": [
        {
          "output_type": "execute_result",
          "data": {
            "text/plain": [
              "(6561, 9)"
            ]
          },
          "metadata": {
            "tags": []
          },
          "execution_count": 29
        }
      ]
    },
    {
      "cell_type": "code",
      "metadata": {
        "id": "9KZUZOtt9Yim",
        "colab_type": "code",
        "colab": {}
      },
      "source": [
        "df.loc[:,'Findings_no_stopwords'] = [remove_stopwords(r.lower()) for r in df['Findings_no_punc']]"
      ],
      "execution_count": 0,
      "outputs": []
    },
    {
      "cell_type": "code",
      "metadata": {
        "id": "lDWQ0mTj9bRW",
        "colab_type": "code",
        "colab": {
          "base_uri": "https://localhost:8080/",
          "height": 326
        },
        "outputId": "6b91e46e-d947-41cc-d6fa-90ea6eac5e6a"
      },
      "source": [
        "print(df['Findings'].sample(n=5, random_state = 0),'\\n')\n",
        "print(\"\\n  After removing stop words and punctuations  \\n\")\n",
        "print(df['Findings_no_punc'].sample(n=5, random_state = 0),'\\n')"
      ],
      "execution_count": 32,
      "outputs": [
        {
          "output_type": "stream",
          "text": [
            "2596    There is a calcified granuloma in the left upper lung zone. The lungs are otherwise clear. There is hyperinflation. The heart and mediastinum are normal. The skeletal structures and soft tissues are normal for age.                                                                                                                              \n",
            "5107    The cardiomediastinal silhouette is within normal limits. Calcified right lower lobe granuloma. No focal airspace consolidation.. No visualized pneumothorax or large pleural effusion. No acute bony abnormalities.                                                                                                                                \n",
            "3583    The heart and mediastinum are unremarkable. There is tortuosity of the aorta, compatible with atherosclerosis. Low lung volumes. Minimal XXXX opacities within the lung bases, XXXX subsegmental atelectasis. The lungs are clear without infiltrate. There is no effusion or pneumothorax.                                                         \n",
            "3590    Heart size is normal. No pneumothorax. No large pleural effusions. No focal airspace opacities.                                                                                                                                                                                                                                                     \n",
            "1828    PA and lateral views of the chest were obtained. The cardiomediastinal silhouette is normal in size and configuration. The lungs are well aerated. There is no pneumothorax, pleural effusion, or focal air space consolidation. Mild basilar atelectasis. Increased density the lung bases, favored this attenuation from overlying breast shadows.\n",
            "Name: Findings, dtype: object \n",
            "\n",
            "\n",
            "  After removing stop words and punctuations  \n",
            "\n",
            "2596    There is a calcified granuloma in the left upper lung zone The lungs are otherwise clear There is hyperinflation The heart and mediastinum are normal The skeletal structures and soft tissues are normal for age                                                                                                                          \n",
            "5107    The cardiomediastinal silhouette is within normal limits Calcified right lower lobe granuloma No focal airspace consolidation No visualized pneumothorax or large pleural effusion No acute bony abnormalities                                                                                                                             \n",
            "3583    The heart and mediastinum are unremarkable There is tortuosity of the aorta compatible with atherosclerosis Low lung volumes Minimal XXXX opacities within the lung bases XXXX subsegmental atelectasis The lungs are clear without infiltrate There is no effusion or pneumothorax                                                        \n",
            "3590    Heart size is normal No pneumothorax No large pleural effusions No focal airspace opacities                                                                                                                                                                                                                                                \n",
            "1828    PA and lateral views of the chest were obtained The cardiomediastinal silhouette is normal in size and configuration The lungs are well aerated There is no pneumothorax pleural effusion or focal air space consolidation Mild basilar atelectasis Increased density the lung bases favored this attenuation from overlying breast shadows\n",
            "Name: Findings_no_punc, dtype: object \n",
            "\n"
          ],
          "name": "stdout"
        }
      ]
    },
    {
      "cell_type": "code",
      "metadata": {
        "id": "Y68j3dGQ9ejH",
        "colab_type": "code",
        "colab": {
          "base_uri": "https://localhost:8080/",
          "height": 334
        },
        "outputId": "4ba72337-0ee4-486c-a11b-c71780a45e7f"
      },
      "source": [
        "freq_words(df['Findings_no_stopwords'])"
      ],
      "execution_count": 34,
      "outputs": [
        {
          "output_type": "display_data",
          "data": {
            "image/png": "[encoded data removed]",
            "text/plain": [
              "<Figure size 1440x360 with 1 Axes>"
            ]
          },
          "metadata": {
            "tags": []
          }
        }
      ]
    },
    {
      "cell_type": "code",
      "metadata": {
        "id": "Hgm0dR759h4a",
        "colab_type": "code",
        "colab": {}
      },
      "source": [
        "# lemmatize, this is a relatively slow preprocessing step \n",
        "df.loc[:,'Findings_lemmatized'] = df['Findings_no_stopwords'].apply(lemmatization)"
      ],
      "execution_count": 0,
      "outputs": []
    },
    {
      "cell_type": "code",
      "metadata": {
        "id": "BWFvn4Ix9oso",
        "colab_type": "code",
        "colab": {}
      },
      "source": [
        "# run remove stop words again because the lemmatization process generates more stop words\n",
        "df.loc[:,'Findings_lemmatized'] = df['Findings_lemmatized'].apply(remove_stopwords)"
      ],
      "execution_count": 0,
      "outputs": []
    },
    {
      "cell_type": "code",
      "metadata": {
        "id": "XXzRsoBN9qz0",
        "colab_type": "code",
        "colab": {}
      },
      "source": [
        "# remove numbers\n",
        "df.loc[:, 'Findings_lemmatized'] = df['Findings_lemmatized'].apply(remove_num)"
      ],
      "execution_count": 0,
      "outputs": []
    },
    {
      "cell_type": "code",
      "metadata": {
        "id": "lKWUwbL49s7x",
        "colab_type": "code",
        "outputId": "e1896473-7bf6-49f2-f489-59ef2dc1859b",
        "colab": {
          "base_uri": "https://localhost:8080/",
          "height": 394
        }
      },
      "source": [
        "print(df['Findings'].sample(n=3, random_state = 0),'\\n')\n",
        "print(\"\\n  After removing stop words and punctuations  \\n\")\n",
        "print(df['Findings_no_stopwords'].sample(n=3, random_state = 0),'\\n')\n",
        "print(\"\\n  After Lemmatisation  \\n\")\n",
        "print(df['Findings_lemmatized'].sample(n=3, random_state = 0),'\\n')"
      ],
      "execution_count": 38,
      "outputs": [
        {
          "output_type": "stream",
          "text": [
            "2596    There is a calcified granuloma in the left upper lung zone. The lungs are otherwise clear. There is hyperinflation. The heart and mediastinum are normal. The skeletal structures and soft tissues are normal for age.                                                                     \n",
            "5107    The cardiomediastinal silhouette is within normal limits. Calcified right lower lobe granuloma. No focal airspace consolidation.. No visualized pneumothorax or large pleural effusion. No acute bony abnormalities.                                                                       \n",
            "3583    The heart and mediastinum are unremarkable. There is tortuosity of the aorta, compatible with atherosclerosis. Low lung volumes. Minimal XXXX opacities within the lung bases, XXXX subsegmental atelectasis. The lungs are clear without infiltrate. There is no effusion or pneumothorax.\n",
            "Name: Findings, dtype: object \n",
            "\n",
            "\n",
            "  After removing stop words and punctuations  \n",
            "\n",
            "2596    calcified granuloma left upper lung zone lungs otherwise clear hyperinflation heart mediastinum normal skeletal structures soft tissues normal age                                                                     \n",
            "5107    cardiomediastinal silhouette within normal limits calcified right lower lobe granuloma focal airspace consolidation visualized pneumothorax large pleural effusion acute bony abnormalities                            \n",
            "3583    heart mediastinum unremarkable tortuosity aorta compatible atherosclerosis low lung volumes minimal xxxx opacities within lung bases xxxx subsegmental atelectasis lungs clear without infiltrate effusion pneumothorax\n",
            "Name: Findings_no_stopwords, dtype: object \n",
            "\n",
            "\n",
            "  After Lemmatisation  \n",
            "\n",
            "2596    calcify granuloma leave upper lung zone lung otherwise clear hyperinflation heart mediastinum normal skeletal structure soft tissue normal age                                                                     \n",
            "5107    cardiomediastinal silhouette within normal limit calcify right low lobe granuloma focal airspace consolidation visualize pneumothorax large pleural effusion acute bony abnormality                                \n",
            "3583    heart mediastinum unremarkable tortuosity aorta compatible atherosclerosis low lung volume minimal xxxx opacity within lung basis xxxx subsegmental atelectasis lung clear without infiltrate effusion pneumothorax\n",
            "Name: Findings_lemmatized, dtype: object \n",
            "\n"
          ],
          "name": "stdout"
        }
      ]
    },
    {
      "cell_type": "code",
      "metadata": {
        "id": "oc9ieNzX9wtD",
        "colab_type": "code",
        "colab": {}
      },
      "source": [
        "# PorterStemmer deals with cases like TVs, but produce incomplete workds like instal\n",
        "from nltk.stem import PorterStemmer\n",
        "porter = PorterStemmer()\n",
        "print(porter.stem('installation'))\n",
        "print(porter.stem('tvs'))"
      ],
      "execution_count": 0,
      "outputs": []
    },
    {
      "cell_type": "code",
      "metadata": {
        "id": "a7t-XNM39zrR",
        "colab_type": "code",
        "outputId": "ae7761b4-1cc6-4cc0-c430-c484ae2f2f5b",
        "colab": {
          "base_uri": "https://localhost:8080/",
          "height": 334
        }
      },
      "source": [
        "freq_words(df['Findings_lemmatized'])"
      ],
      "execution_count": 39,
      "outputs": [
        {
          "output_type": "display_data",
          "data": {
            "image/png": "[encoded data removed]",
            "text/plain": [
              "<Figure size 1440x360 with 1 Axes>"
            ]
          },
          "metadata": {
            "tags": []
          }
        }
      ]
    },
    {
      "cell_type": "code",
      "metadata": {
        "id": "8jNHV0w392T4",
        "colab_type": "code",
        "outputId": "c67daebd-0431-4a16-90b8-cd2ed0eeeb29",
        "colab": {
          "base_uri": "https://localhost:8080/",
          "height": 85
        }
      },
      "source": [
        "df.columns"
      ],
      "execution_count": 40,
      "outputs": [
        {
          "output_type": "execute_result",
          "data": {
            "text/plain": [
              "Index(['uId', 'parentImage_id', 'Comparison', 'Indication', 'Findings',\n",
              "       'Impression', 'Major', 'Findings_no_punc', 'Major_no_punc',\n",
              "       'Findings_no_stopwords', 'Findings_lemmatized'],\n",
              "      dtype='object')"
            ]
          },
          "metadata": {
            "tags": []
          },
          "execution_count": 40
        }
      ]
    },
    {
      "cell_type": "code",
      "metadata": {
        "id": "9QXmvd8t950Y",
        "colab_type": "code",
        "colab": {}
      },
      "source": [
        "# save processed Findings df for LDA modeling\n",
        "df[['uId', 'parentImage_id', 'Comparison', 'Indication', 'Findings',\n",
        "       'Impression', 'Major', 'Findings_no_punc', 'Major_no_punc',\n",
        "       'Findings_no_stopwords', 'Findings_lemmatized']].to_csv('/content/drive/My Drive/openI_processed.csv')"
      ],
      "execution_count": 0,
      "outputs": []
    },
    {
      "cell_type": "code",
      "metadata": {
        "id": "8fB1OXpK-JSs",
        "colab_type": "code",
        "outputId": "094fc622-1049-447f-c7a2-3c6ed27f559e",
        "colab": {
          "base_uri": "https://localhost:8080/",
          "height": 221
        }
      },
      "source": [
        "# useful attributes & methods: dictionary.token2id to get mapping, dictionary.num_docs \n",
        "df = pd.read_csv(\"/content/drive/My Drive/openI_processed.csv\", index_col= 0)\n",
        "Finds = df['Findings_lemmatized'].copy()\n",
        "Finds = Finds.apply(lambda x: x.split())\n",
        "\n",
        "# Dictionary expects a list of list (of tokens)\n",
        "dictionary = corpora.Dictionary(Finds)\n",
        "dictionary.filter_extremes(no_below=3)  # remove terms that appear in < 3 documents, memory use estimate: 8 bytes * num_terms * num_topics * 3\n",
        "\n",
        "# number of terms\n",
        "nd = dictionary.num_docs\n",
        "nt = len(dictionary.keys())\n",
        "print(\"number of documents\", nd)\n",
        "print(\"number of terms\", nt)\n",
        "\n",
        "# check some ids and tokens in the dictionary\n",
        "for i in random.sample(range(nt),10):\n",
        "    print(i, dictionary[i])"
      ],
      "execution_count": 44,
      "outputs": [
        {
          "output_type": "stream",
          "text": [
            "number of documents 6561\n",
            "number of terms 999\n",
            "644 though\n",
            "565 centrilobular\n",
            "946 number\n",
            "97 leave\n",
            "443 two\n",
            "845 today\n",
            "484 orient\n",
            "7 tortuous\n",
            "441 markedly\n",
            "787 lob\n"
          ],
          "name": "stdout"
        }
      ]
    },
    {
      "cell_type": "markdown",
      "metadata": {
        "id": "V8YAybl55AQ4",
        "colab_type": "text"
      },
      "source": [
        "##LDA Implementation on the Findings column"
      ]
    },
    {
      "cell_type": "code",
      "metadata": {
        "id": "m-o30WaQ6cPs",
        "colab_type": "code",
        "colab": {
          "base_uri": "https://localhost:8080/",
          "height": 136
        },
        "outputId": "4c88f800-fbd3-4e86-c7f3-99da7cfe1fff"
      },
      "source": [
        "# Convert to array\n",
        "docs =array(df['Findings_lemmatized'].astype(str))\n",
        "print(type(docs))\n",
        "print(len(docs))\n",
        "# Define function for tokenize and lemmatizing\n",
        "from nltk.stem.wordnet import WordNetLemmatizer\n",
        "from nltk.tokenize import RegexpTokenizer\n",
        "\n",
        "def docs_preprocessor(docs):\n",
        "    tokenizer = RegexpTokenizer(r'\\w+')\n",
        "    for idx in range(len(docs)):\n",
        "        docs[idx] = docs[idx].lower()  # Convert to lowercase.\n",
        "        docs[idx] = tokenizer.tokenize(docs[idx])  # Split into words.\n",
        "\n",
        "    # Remove numbers, but not words that contain numbers.\n",
        "    docs = [[token for token in doc if not token.isdigit()] for doc in docs]\n",
        "    \n",
        "    # Remove words that are only one character.\n",
        "    docs = [[token for token in doc if len(token) > 3] for doc in docs]\n",
        "    \n",
        "    # Lemmatize all words in documents.\n",
        "    lemmatizer = WordNetLemmatizer()\n",
        "    docs = [[lemmatizer.lemmatize(token) for token in doc] for doc in docs]\n",
        "  \n",
        "    return docs\n",
        "# Perform function on our document\n",
        "docs = docs_preprocessor(docs)\n",
        "#Create Biagram & Trigram Models \n",
        "from gensim.models import Phrases\n",
        "# Add bigrams and trigrams to docs,minimum count 10 means only that appear 10 times or more.\n",
        "bigram = Phrases(docs, min_count=10)\n",
        "trigram = Phrases(bigram[docs])\n",
        "\n",
        "for idx in range(len(docs)):\n",
        "    for token in bigram[docs[idx]]:\n",
        "        if '_' in token:\n",
        "            # Token is a bigram, add to document.\n",
        "            docs[idx].append(token)\n",
        "    for token in trigram[docs[idx]]:\n",
        "        if '_' in token:\n",
        "            # Token is a bigram, add to document.\n",
        "            docs[idx].append(token)\n",
        "#Remove rare & common tokens \n",
        "# Create a dictionary representation of the documents.\n",
        "dictionary = Dictionary(docs)\n",
        "dictionary.filter_extremes(no_below=10, no_above=0.2)\n",
        "#Create dictionary and corpus required for Topic Modeling\n",
        "corpus = [dictionary.doc2bow(doc) for doc in docs]\n",
        "print('Number of unique tokens: %d' % len(dictionary))\n",
        "print('Number of documents: %d' % len(corpus))\n",
        "print(corpus[:1])"
      ],
      "execution_count": 51,
      "outputs": [
        {
          "output_type": "stream",
          "text": [
            "<class 'numpy.ndarray'>\n",
            "6561\n"
          ],
          "name": "stdout"
        },
        {
          "output_type": "stream",
          "text": [
            "/usr/local/lib/python3.6/dist-packages/gensim/models/phrases.py:598: UserWarning: For a faster implementation, use the gensim.models.phrases.Phraser class\n",
            "  warnings.warn(\"For a faster implementation, use the gensim.models.phrases.Phraser class\")\n"
          ],
          "name": "stderr"
        },
        {
          "output_type": "stream",
          "text": [
            "Number of unique tokens: 663\n",
            "Number of documents: 6561\n",
            "[[(0, 1), (1, 1), (2, 1), (3, 1), (4, 3), (5, 1), (6, 1)]]\n"
          ],
          "name": "stdout"
        }
      ]
    },
    {
      "cell_type": "code",
      "metadata": {
        "id": "26t9SrjJ5GWj",
        "colab_type": "code",
        "colab": {
          "base_uri": "https://localhost:8080/",
          "height": 88
        },
        "outputId": "c4f69f43-737e-4032-8e00-9b004b7239b3"
      },
      "source": [
        "# Set parameters.\n",
        "num_topics = 5\n",
        "chunksize = 500 \n",
        "passes = 20 \n",
        "iterations = 400\n",
        "eval_every = 1  \n",
        "\n",
        "# Make a index to word dictionary.\n",
        "temp = dictionary[0]  # only to \"load\" the dictionary.\n",
        "id2word = dictionary.id2token\n",
        "corpus = [dictionary.doc2bow(doc) for doc in docs]\n",
        "lda_model = LdaModel(corpus=corpus, id2word=id2word, chunksize=chunksize, \\\n",
        "                       alpha='auto', eta='auto', \\\n",
        "                       iterations=iterations, num_topics=num_topics, \\\n",
        "                       passes=passes, eval_every=eval_every)\n",
        "# Print the Keyword in the 5 topics\n",
        "print(lda_model.print_topics())"
      ],
      "execution_count": 52,
      "outputs": [
        {
          "output_type": "stream",
          "text": [
            "/usr/local/lib/python3.6/dist-packages/gensim/models/ldamodel.py:1023: RuntimeWarning: divide by zero encountered in log\n",
            "  diff = np.log(self.expElogbeta)\n"
          ],
          "name": "stderr"
        },
        {
          "output_type": "stream",
          "text": [
            "[(0, '0.041*\"stable\" + 0.032*\"leave\" + 0.030*\"change\" + 0.029*\"calcify_granuloma\" + 0.029*\"spine\" + 0.026*\"thoracic\" + 0.025*\"mild\" + 0.024*\"opacity\" + 0.021*\"degenerative\" + 0.018*\"appear\"'), (1, '0.061*\"intact\" + 0.049*\"structure\" + 0.030*\"large\" + 0.030*\"evidence\" + 0.029*\"without\" + 0.028*\"trachea_midline\" + 0.028*\"chest_wall\" + 0.026*\"osseous\" + 0.025*\"vascular_congestion\" + 0.024*\"cardiac\"'), (2, '0.030*\"visible\" + 0.028*\"frontal_lateral\" + 0.028*\"typical_finding\" + 0.027*\"free_intraperitoneal\" + 0.025*\"unremarkable\" + 0.025*\"visualize\" + 0.025*\"bilaterally_specifically\" + 0.024*\"subsegmental_atelectasis\" + 0.021*\"nodule_masse\" + 0.021*\"atherosclerotic_calcification\"'), (3, '0.097*\"mediastinum\" + 0.053*\"lateral_view\" + 0.036*\"skeletal_structure\" + 0.033*\"unremarkable\" + 0.028*\"surgical_clip\" + 0.025*\"suggest_pneumonia\" + 0.024*\"lateral\" + 0.020*\"expand\" + 0.020*\"view\" + 0.019*\"interval\"'), (4, '0.073*\"acute\" + 0.060*\"bony\" + 0.055*\"soft_tissue\" + 0.052*\"abnormality\" + 0.029*\"prior_granulomatous\" + 0.028*\"tissue\" + 0.027*\"soft\" + 0.026*\"vasculature\" + 0.026*\"unremarkable\" + 0.026*\"disease\"')]\n"
          ],
          "name": "stdout"
        }
      ]
    },
    {
      "cell_type": "code",
      "metadata": {
        "id": "GNZdVsOE5j2o",
        "colab_type": "code",
        "colab": {
          "base_uri": "https://localhost:8080/",
          "height": 359
        },
        "outputId": "b53c804c-1dd7-4145-c4c2-610618e8e5ea"
      },
      "source": [
        "word_dict = {};\n",
        "for i in range(num_topics):\n",
        "    words = lda_model.show_topic(i, topn = 10)\n",
        "    word_dict['Topic # ' + '{:02d}'.format(i+1)] = [i[0] for i in words]\n",
        "pd.DataFrame(word_dict)"
      ],
      "execution_count": 53,
      "outputs": [
        {
          "output_type": "execute_result",
          "data": {
            "text/html": [
              "<div>\n",
              "<style scoped>\n",
              "    .dataframe tbody tr th:only-of-type {\n",
              "        vertical-align: middle;\n",
              "    }\n",
              "\n",
              "    .dataframe tbody tr th {\n",
              "        vertical-align: top;\n",
              "    }\n",
              "\n",
              "    .dataframe thead th {\n",
              "        text-align: right;\n",
              "    }\n",
              "</style>\n",
              "<table border=\"1\" class=\"dataframe\">\n",
              "  <thead>\n",
              "    <tr style=\"text-align: right;\">\n",
              "      <th></th>\n",
              "      <th>Topic # 01</th>\n",
              "      <th>Topic # 02</th>\n",
              "      <th>Topic # 03</th>\n",
              "      <th>Topic # 04</th>\n",
              "      <th>Topic # 05</th>\n",
              "    </tr>\n",
              "  </thead>\n",
              "  <tbody>\n",
              "    <tr>\n",
              "      <th>0</th>\n",
              "      <td>stable</td>\n",
              "      <td>intact</td>\n",
              "      <td>visible</td>\n",
              "      <td>mediastinum</td>\n",
              "      <td>acute</td>\n",
              "    </tr>\n",
              "    <tr>\n",
              "      <th>1</th>\n",
              "      <td>leave</td>\n",
              "      <td>structure</td>\n",
              "      <td>frontal_lateral</td>\n",
              "      <td>lateral_view</td>\n",
              "      <td>bony</td>\n",
              "    </tr>\n",
              "    <tr>\n",
              "      <th>2</th>\n",
              "      <td>change</td>\n",
              "      <td>large</td>\n",
              "      <td>typical_finding</td>\n",
              "      <td>skeletal_structure</td>\n",
              "      <td>soft_tissue</td>\n",
              "    </tr>\n",
              "    <tr>\n",
              "      <th>3</th>\n",
              "      <td>calcify_granuloma</td>\n",
              "      <td>evidence</td>\n",
              "      <td>free_intraperitoneal</td>\n",
              "      <td>unremarkable</td>\n",
              "      <td>abnormality</td>\n",
              "    </tr>\n",
              "    <tr>\n",
              "      <th>4</th>\n",
              "      <td>spine</td>\n",
              "      <td>without</td>\n",
              "      <td>unremarkable</td>\n",
              "      <td>surgical_clip</td>\n",
              "      <td>prior_granulomatous</td>\n",
              "    </tr>\n",
              "    <tr>\n",
              "      <th>5</th>\n",
              "      <td>thoracic</td>\n",
              "      <td>trachea_midline</td>\n",
              "      <td>visualize</td>\n",
              "      <td>suggest_pneumonia</td>\n",
              "      <td>tissue</td>\n",
              "    </tr>\n",
              "    <tr>\n",
              "      <th>6</th>\n",
              "      <td>mild</td>\n",
              "      <td>chest_wall</td>\n",
              "      <td>bilaterally_specifically</td>\n",
              "      <td>lateral</td>\n",
              "      <td>soft</td>\n",
              "    </tr>\n",
              "    <tr>\n",
              "      <th>7</th>\n",
              "      <td>opacity</td>\n",
              "      <td>osseous</td>\n",
              "      <td>subsegmental_atelectasis</td>\n",
              "      <td>expand</td>\n",
              "      <td>vasculature</td>\n",
              "    </tr>\n",
              "    <tr>\n",
              "      <th>8</th>\n",
              "      <td>degenerative</td>\n",
              "      <td>vascular_congestion</td>\n",
              "      <td>nodule_masse</td>\n",
              "      <td>view</td>\n",
              "      <td>unremarkable</td>\n",
              "    </tr>\n",
              "    <tr>\n",
              "      <th>9</th>\n",
              "      <td>appear</td>\n",
              "      <td>cardiac</td>\n",
              "      <td>atherosclerotic_calcification</td>\n",
              "      <td>interval</td>\n",
              "      <td>disease</td>\n",
              "    </tr>\n",
              "  </tbody>\n",
              "</table>\n",
              "</div>"
            ],
            "text/plain": [
              "          Topic # 01  ...           Topic # 05\n",
              "0  stable             ...  acute              \n",
              "1  leave              ...  bony               \n",
              "2  change             ...  soft_tissue        \n",
              "3  calcify_granuloma  ...  abnormality        \n",
              "4  spine              ...  prior_granulomatous\n",
              "5  thoracic           ...  tissue             \n",
              "6  mild               ...  soft               \n",
              "7  opacity            ...  vasculature        \n",
              "8  degenerative       ...  unremarkable       \n",
              "9  appear             ...  disease            \n",
              "\n",
              "[10 rows x 5 columns]"
            ]
          },
          "metadata": {
            "tags": []
          },
          "execution_count": 53
        }
      ]
    },
    {
      "cell_type": "markdown",
      "metadata": {
        "id": "GYaQcuaP7BgC",
        "colab_type": "text"
      },
      "source": [
        "##Evaluating the LDA model"
      ]
    },
    {
      "cell_type": "code",
      "metadata": {
        "id": "mD4DmOvQ7E8y",
        "colab_type": "code",
        "colab": {
          "base_uri": "https://localhost:8080/",
          "height": 51
        },
        "outputId": "d9936e0f-cbac-478f-871a-82434f7cfe55"
      },
      "source": [
        "# Compute Coherence Score using c_v\n",
        "coherence_model_lda = CoherenceModel(model=lda_model, texts=docs, dictionary=dictionary, coherence='c_v')\n",
        "coherence_lda = coherence_model_lda.get_coherence()\n",
        "print('\\nCoherence Score: ', coherence_lda) "
      ],
      "execution_count": 54,
      "outputs": [
        {
          "output_type": "stream",
          "text": [
            "\n",
            "Coherence Score:  0.36251913199157787\n"
          ],
          "name": "stdout"
        }
      ]
    },
    {
      "cell_type": "code",
      "metadata": {
        "id": "BnUjcC-77MYk",
        "colab_type": "code",
        "colab": {}
      },
      "source": [
        "def compute_coherence_values(dictionary, corpus, texts, limit, start=2, step=3):\n",
        "    \"\"\"\n",
        "    Compute c_v coherence for various number of topics\n",
        "\n",
        "    Parameters:\n",
        "    ----------\n",
        "    dictionary : Gensim dictionary\n",
        "    corpus : Gensim corpus\n",
        "    texts : List of input texts\n",
        "    limit : Max num of topics\n",
        "\n",
        "    Returns:\n",
        "    -------\n",
        "    model_list : List of LDA topic models\n",
        "    coherence_values : Coherence values corresponding to the LDA model with respective number of topics\n",
        "    \"\"\"\n",
        "    coherence_values = []\n",
        "    model_list = []\n",
        "    for num_topics in range(start, limit, step):\n",
        "        model=LdaModel(corpus=corpus, id2word=dictionary, num_topics=num_topics)\n",
        "        model_list.append(model)\n",
        "        coherencemodel = CoherenceModel(model=model, texts=texts, dictionary=dictionary, coherence='c_v')\n",
        "        coherence_values.append(coherencemodel.get_coherence())\n",
        "\n",
        "    return model_list, coherence_values"
      ],
      "execution_count": 0,
      "outputs": []
    },
    {
      "cell_type": "code",
      "metadata": {
        "id": "QvPzLDfD7TQ6",
        "colab_type": "code",
        "colab": {
          "base_uri": "https://localhost:8080/",
          "height": 296
        },
        "outputId": "3d36797d-98ea-4a24-ff4e-120da74ded4e"
      },
      "source": [
        "#Model list and plot Coherence score against a number of topics\n",
        "model_list, coherence_values = compute_coherence_values(dictionary=dictionary, corpus=corpus, texts=docs, start=2, limit=40, step=6)\n",
        "# Show graph\n",
        "import matplotlib.pyplot as plt\n",
        "limit=40; start=2; step=6;\n",
        "x = range(start, limit, step)\n",
        "plt.plot(x, coherence_values)\n",
        "plt.xlabel(\"Num Topics\")\n",
        "plt.ylabel(\"Coherence score\")\n",
        "plt.legend((\"coherence_values\"), loc='best')\n",
        "plt.show()\n",
        "plt.savefig('/content/drive/My Drive/Graphs_And_Plots/Coherence score against a number of reports - OPenI(Findings)', dpi = 500)"
      ],
      "execution_count": 57,
      "outputs": [
        {
          "output_type": "display_data",
          "data": {
            "image/png": "[encoded data removed]",
            "text/plain": [
              "<Figure size 432x288 with 1 Axes>"
            ]
          },
          "metadata": {
            "tags": []
          }
        },
        {
          "output_type": "display_data",
          "data": {
            "text/plain": [
              "<Figure size 432x288 with 0 Axes>"
            ]
          },
          "metadata": {
            "tags": []
          }
        }
      ]
    },
    {
      "cell_type": "code",
      "metadata": {
        "id": "7ufXacmO8AWU",
        "colab_type": "code",
        "colab": {
          "base_uri": "https://localhost:8080/",
          "height": 997
        },
        "outputId": "adec0e57-c82c-421a-fd61-8d94c2649ab9"
      },
      "source": [
        "lda_display = pyLDAvis.gensim.prepare(lda_model, corpus, dictionary, sort_topics=False)\n",
        "pyLDAvis.display(lda_display)"
      ],
      "execution_count": 58,
      "outputs": [
        {
          "output_type": "stream",
          "text": [
            "/usr/local/lib/python3.6/dist-packages/pyLDAvis/_prepare.py:257: FutureWarning: Sorting because non-concatenation axis is not aligned. A future version\n",
            "of pandas will change to not sort by default.\n",
            "\n",
            "To accept the future behavior, pass 'sort=False'.\n",
            "\n",
            "To retain the current behavior and silence the warning, pass 'sort=True'.\n",
            "\n",
            "  return pd.concat([default_term_info] + list(topic_dfs))\n"
          ],
          "name": "stderr"
        },
        {
          "output_type": "execute_result",
          "data": {
            "text/html": [
              "\n",
              "<link rel=\"stylesheet\" type=\"text/css\" href=\"https://cdn.rawgit.com/bmabey/pyLDAvis/files/ldavis.v1.0.0.css\">\n",
              "\n",
              "\n",
              "<div id=\"ldavis_el1251399862914905122161581283\"></div>\n",
              "<script type=\"text/javascript\">\n",
              "\n",
              "var ldavis_el1251399862914905122161581283_data = {\"mdsDat\": {\"x\": [0.2088594110359908, -0.18386922893151442, -0.183764350308579, 0.29724813533682826, -0.1384739671327262], \"y\": [0.17234773988769753, 0.07021076877632117, -0.25268538938595503, -0.156336123890413, 0.16646300461234925], \"topics\": [1, 2, 3, 4, 5], \"cluster\": [1, 1, 1, 1, 1], \"Freq\": [41.331504821777344, 15.356749534606934, 14.611564636230469, 15.145773887634277, 13.554403305053711]}, \"tinfo\": {\"Category\": [\"Default\", \"Default\", \"Default\", \"Default\", \"Default\", \"Default\", \"Default\", \"Default\", \"Default\", \"Default\", \"Default\", \"Default\", \"Default\", \"Default\", \"Default\", \"Default\", \"Default\", \"Default\", \"Default\", \"Default\", \"Default\", \"Default\", \"Default\", \"Default\", \"Default\", \"Default\", \"Default\", \"Default\", \"Default\", \"Default\", \"Topic1\", \"Topic1\", \"Topic1\", \"Topic1\", \"Topic1\", \"Topic1\", \"Topic1\", \"Topic1\", \"Topic1\", \"Topic1\", \"Topic1\", \"Topic1\", \"Topic1\", \"Topic1\", \"Topic1\", \"Topic1\", \"Topic1\", \"Topic1\", \"Topic1\", \"Topic1\", \"Topic1\", \"Topic1\", \"Topic1\", \"Topic1\", \"Topic1\", \"Topic1\", \"Topic1\", \"Topic1\", \"Topic1\", \"Topic1\", \"Topic1\", \"Topic1\", \"Topic1\", \"Topic1\", \"Topic1\", \"Topic1\", \"Topic1\", \"Topic1\", \"Topic1\", \"Topic1\", \"Topic1\", \"Topic1\", \"Topic1\", \"Topic1\", \"Topic1\", \"Topic1\", \"Topic1\", \"Topic1\", \"Topic1\", \"Topic1\", \"Topic1\", \"Topic1\", \"Topic2\", \"Topic2\", \"Topic2\", \"Topic2\", \"Topic2\", \"Topic2\", \"Topic2\", \"Topic2\", \"Topic2\", \"Topic2\", \"Topic2\", \"Topic2\", \"Topic2\", \"Topic2\", \"Topic2\", \"Topic2\", \"Topic2\", \"Topic2\", \"Topic2\", \"Topic2\", \"Topic2\", \"Topic2\", \"Topic2\", \"Topic2\", \"Topic2\", \"Topic2\", \"Topic2\", \"Topic2\", \"Topic2\", \"Topic2\", \"Topic2\", \"Topic2\", \"Topic2\", \"Topic2\", \"Topic2\", \"Topic2\", \"Topic2\", \"Topic2\", \"Topic2\", \"Topic2\", \"Topic2\", \"Topic2\", \"Topic2\", \"Topic2\", \"Topic2\", \"Topic2\", \"Topic2\", \"Topic2\", \"Topic2\", \"Topic2\", \"Topic3\", \"Topic3\", \"Topic3\", \"Topic3\", \"Topic3\", \"Topic3\", \"Topic3\", \"Topic3\", \"Topic3\", \"Topic3\", \"Topic3\", \"Topic3\", \"Topic3\", \"Topic3\", \"Topic3\", \"Topic3\", \"Topic3\", \"Topic3\", \"Topic3\", \"Topic3\", \"Topic3\", \"Topic3\", \"Topic3\", \"Topic3\", \"Topic3\", \"Topic3\", \"Topic3\", \"Topic3\", \"Topic3\", \"Topic3\", \"Topic3\", \"Topic3\", \"Topic3\", \"Topic3\", \"Topic3\", \"Topic3\", \"Topic3\", \"Topic3\", \"Topic3\", \"Topic3\", \"Topic3\", \"Topic3\", \"Topic3\", \"Topic3\", \"Topic3\", \"Topic3\", \"Topic3\", \"Topic3\", \"Topic3\", \"Topic4\", \"Topic4\", \"Topic4\", \"Topic4\", \"Topic4\", \"Topic4\", \"Topic4\", \"Topic4\", \"Topic4\", \"Topic4\", \"Topic4\", \"Topic4\", \"Topic4\", \"Topic4\", \"Topic4\", \"Topic4\", \"Topic4\", \"Topic4\", \"Topic4\", \"Topic4\", \"Topic4\", \"Topic4\", \"Topic4\", \"Topic4\", \"Topic4\", \"Topic4\", \"Topic4\", \"Topic4\", \"Topic4\", \"Topic4\", \"Topic4\", \"Topic4\", \"Topic4\", \"Topic4\", \"Topic4\", \"Topic4\", \"Topic4\", \"Topic4\", \"Topic4\", \"Topic4\", \"Topic4\", \"Topic4\", \"Topic4\", \"Topic4\", \"Topic5\", \"Topic5\", \"Topic5\", \"Topic5\", \"Topic5\", \"Topic5\", \"Topic5\", \"Topic5\", \"Topic5\", \"Topic5\", \"Topic5\", \"Topic5\", \"Topic5\", \"Topic5\", \"Topic5\", \"Topic5\", \"Topic5\", \"Topic5\", \"Topic5\", \"Topic5\", \"Topic5\", \"Topic5\", \"Topic5\", \"Topic5\", \"Topic5\", \"Topic5\", \"Topic5\", \"Topic5\", \"Topic5\", \"Topic5\", \"Topic5\", \"Topic5\", \"Topic5\", \"Topic5\", \"Topic5\", \"Topic5\", \"Topic5\", \"Topic5\", \"Topic5\", \"Topic5\", \"Topic5\", \"Topic5\", \"Topic5\", \"Topic5\", \"Topic5\", \"Topic5\", \"Topic5\", \"Topic5\", \"Topic5\", \"Topic5\", \"Topic5\", \"Topic5\"], \"Freq\": [1198.0, 756.0, 1290.0, 947.0, 657.0, 602.0, 873.0, 952.0, 966.0, 961.0, 446.0, 887.0, 853.0, 583.0, 1229.0, 360.0, 1105.0, 635.0, 350.0, 348.0, 343.0, 336.0, 334.0, 1061.0, 317.0, 714.0, 813.0, 316.0, 303.0, 301.0, 966.1451416015625, 961.43212890625, 887.1995849609375, 853.505126953125, 714.3040771484375, 469.5252990722656, 433.69549560546875, 391.050537109375, 312.1611328125, 283.08740234375, 263.3388671875, 261.9383239746094, 257.2312927246094, 228.95321655273438, 235.87808227539062, 226.95547485351562, 236.42291259765625, 213.40098571777344, 573.00146484375, 223.1437530517578, 185.92127990722656, 168.01815795898438, 165.76661682128906, 153.52162170410156, 151.36703491210938, 149.1886444091797, 147.55690002441406, 146.0141143798828, 145.55203247070312, 141.5828399658203, 283.05181884765625, 994.6405639648438, 1362.560546875, 304.146240234375, 1086.575439453125, 368.4022521972656, 501.9613342285156, 470.3285217285156, 792.7613525390625, 393.1775817871094, 606.4205932617188, 597.3219604492188, 312.95111083984375, 560.0371704101562, 316.7128601074219, 306.4879150390625, 313.44146728515625, 280.4565124511719, 311.3105773925781, 295.074462890625, 291.7801208496094, 286.24298095703125, 755.99169921875, 347.8984680175781, 350.6938171386719, 307.3564147949219, 279.148193359375, 270.61541748046875, 248.15298461914062, 159.4105987548828, 151.9186248779297, 149.0119171142578, 136.1890869140625, 135.3269500732422, 119.92379760742188, 119.16197204589844, 104.73294830322266, 100.39567565917969, 99.5073471069336, 78.3185806274414, 75.3382797241211, 71.71118927001953, 70.4015884399414, 69.1594467163086, 63.197303771972656, 61.98348617553711, 60.40009689331055, 61.51706314086914, 55.390926361083984, 52.04255294799805, 51.16302490234375, 50.777034759521484, 50.8719596862793, 609.2579956054688, 158.6174774169922, 369.9600524902344, 283.7381591796875, 377.4961853027344, 360.61505126953125, 321.8310852050781, 287.23583984375, 149.92401123046875, 176.9078369140625, 295.0842590332031, 282.6061706542969, 213.57772827148438, 293.64361572265625, 243.38075256347656, 254.18211364746094, 176.9404296875, 132.3654022216797, 136.18405151367188, 360.7809143066406, 333.9122009277344, 316.6515197753906, 293.6860046386719, 283.7457275390625, 252.7599639892578, 249.43270874023438, 336.67523193359375, 197.34011840820312, 192.27496337890625, 202.60757446289062, 148.54928588867188, 141.89373779296875, 141.4409637451172, 132.98764038085938, 113.91633605957031, 112.4995346069336, 107.53933715820312, 107.90495300292969, 100.74454498291016, 105.34615325927734, 95.94868469238281, 80.93940734863281, 74.54493713378906, 74.63523864746094, 68.33108520507812, 87.01793670654297, 58.48346710205078, 56.99494934082031, 55.98316955566406, 100.00858306884766, 116.33702850341797, 169.22265625, 183.83416748046875, 296.0175476074219, 174.70767211914062, 201.97445678710938, 224.22105407714844, 297.3292236328125, 227.89366149902344, 216.35211181640625, 210.58592224121094, 229.78726196289062, 176.66819763183594, 164.5048370361328, 226.08497619628906, 151.2124786376953, 184.7890625, 184.4661102294922, 1198.2359619140625, 657.3892822265625, 446.0234069824219, 343.3001403808594, 301.80908203125, 252.2417449951172, 217.0348358154297, 209.7855682373047, 194.63766479492188, 193.02601623535156, 192.18104553222656, 169.7589111328125, 154.27764892578125, 140.07711791992188, 135.9992218017578, 122.13404846191406, 119.1056137084961, 110.04810333251953, 106.62846374511719, 100.64461517333984, 99.06987762451172, 96.53221130371094, 88.39227294921875, 69.4458999633789, 64.5929183959961, 63.93362808227539, 59.833824157714844, 58.71209716796875, 57.782020568847656, 55.042545318603516, 55.53261947631836, 234.5766143798828, 158.3172607421875, 248.1885986328125, 295.566650390625, 401.1065368652344, 179.755615234375, 125.01151275634766, 200.53207397460938, 152.29641723632812, 139.52682495117188, 129.2826385498047, 132.7198486328125, 142.71620178222656, 602.7562255859375, 317.4700622558594, 303.6773986816406, 301.3998718261719, 222.1670684814453, 175.51893615722656, 158.913818359375, 146.0836639404297, 143.5809783935547, 105.00286102294922, 103.81654357910156, 79.8804931640625, 78.3437728881836, 78.60958099365234, 63.66948699951172, 59.7663459777832, 59.923057556152344, 58.806758880615234, 58.06385803222656, 51.246158599853516, 51.3939094543457, 49.36235427856445, 44.43295669555664, 41.67075729370117, 39.96022033691406, 33.20073699951172, 31.17360496520996, 30.27511978149414, 29.051856994628906, 28.735074996948242, 664.787353515625, 809.3753051757812, 572.7582397460938, 198.28744506835938, 68.6621322631836, 257.83746337890625, 182.71170043945312, 291.3893127441406, 216.92115783691406, 215.56341552734375, 72.47377014160156, 172.31576538085938, 290.11297607421875, 283.2377624511719, 144.87001037597656, 173.5828857421875, 90.9753646850586, 171.77944946289062, 138.2484893798828, 138.86788940429688, 123.73655700683594, 116.81796264648438], \"Term\": [\"mediastinum\", \"intact\", \"acute\", \"bony\", \"lateral_view\", \"soft_tissue\", \"abnormality\", \"structure\", \"calcify_granuloma\", \"spine\", \"skeletal_structure\", \"thoracic\", \"mild\", \"visualize\", \"leave\", \"visible\", \"unremarkable\", \"evidence\", \"trachea_midline\", \"chest_wall\", \"surgical_clip\", \"frontal_lateral\", \"typical_finding\", \"change\", \"prior_granulomatous\", \"degenerative\", \"large\", \"free_intraperitoneal\", \"tissue\", \"soft\", \"calcify_granuloma\", \"spine\", \"thoracic\", \"mild\", \"degenerative\", \"atelectasis\", \"granuloma\", \"cardiomegaly\", \"bronchovascular_crowd\", \"central\", \"interstitial\", \"adenopathy_nodule\", \"interstitial_marking\", \"ventricle\", \"vertebral_body\", \"position\", \"tortuous\", \"pacemaker\", \"aorta\", \"minimal\", \"central_venous\", \"examination_obtain\", \"atrium\", \"central_airway\", \"prominent\", \"tortuosity\", \"patchy\", \"moderate\", \"prior_exam\", \"midlung\", \"represent\", \"change\", \"stable\", \"bilateral\", \"leave\", \"base\", \"calcify\", \"note\", \"opacity\", \"lobe\", \"appear\", \"disease\", \"scar\", \"cardiac\", \"unchanged\", \"present\", \"volume\", \"left\", \"large\", \"upper\", \"vascularity\", \"vasculature\", \"intact\", \"chest_wall\", \"trachea_midline\", \"vascular_congestion\", \"displace_fracture\", \"normally_inflate\", \"mildly_enlarge\", \"midline\", \"trachea\", \"suspicious\", \"normally\", \"inflate\", \"defibrillator\", \"wall\", \"congestion\", \"displace\", \"reveal\", \"blunt\", \"post\", \"status\", \"line\", \"retrocardiac\", \"picc\", \"widen\", \"free_subdiaphragmatic\", \"measure_approximately\", \"similar_prior\", \"valve_replacement\", \"generator\", \"opacification\", \"patient_status\", \"structure\", \"patient\", \"evidence\", \"osseous_structure\", \"large\", \"without\", \"osseous\", \"visualize\", \"negative\", \"lead\", \"cardiac\", \"bony\", \"infiltrate\", \"opacity\", \"appear\", \"acute\", \"disease\", \"appearance\", \"grossly\", \"visible\", \"typical_finding\", \"free_intraperitoneal\", \"bilaterally_specifically\", \"subsegmental_atelectasis\", \"nodule_masse\", \"atherosclerotic_calcification\", \"frontal_lateral\", \"definite\", \"radiograph_chest\", \"frontal\", \"specifically\", \"subsegmental\", \"alveolar\", \"cardio\", \"typical\", \"compatible\", \"intraperitoneal\", \"significantly_enlarge\", \"device\", \"space_opacitie\", \"radiograph\", \"examination_consist\", \"versus\", \"consist\", \"examination_consist_frontal_lateral\", \"apical\", \"monitor_lead\", \"arthritic\", \"upper_abdoman\", \"abdoman\", \"fluid\", \"diaphragm\", \"thorax\", \"visualize\", \"lead\", \"osseous_structure\", \"lateral\", \"unremarkable\", \"osseous\", \"chest\", \"evidence\", \"structure\", \"bilaterally\", \"finding\", \"acute\", \"free\", \"without\", \"abnormality\", \"mediastinum\", \"lateral_view\", \"skeletal_structure\", \"surgical_clip\", \"suggest_pneumonia\", \"expand\", \"compare_prior\", \"hemidiaphragm\", \"middle_lobe\", \"hiatal_hernia\", \"remain\", \"clip\", \"skeletal\", \"prior_study\", \"surgical\", \"hernia\", \"study\", \"cavoatrial_junction\", \"well\", \"cavitary_lesion\", \"upper_quadrant\", \"hiatal\", \"mass\", \"middle\", \"elevate\", \"emphysematous\", \"lesion\", \"flatten_hemidiaphragms\", \"hypoinflate\", \"cavoatrial\", \"mildly_hypoinflate\", \"interval\", \"suggest\", \"view\", \"lateral\", \"unremarkable\", \"chest\", \"pneumothorace\", \"opacity\", \"upper\", \"infiltrate\", \"space\", \"lobe\", \"leave\", \"soft_tissue\", \"prior_granulomatous\", \"tissue\", \"soft\", \"granulomatous\", \"hilar_lymph\", \"flatten_diaphragm\", \"vascular_engorgement\", \"bone\", \"nodular_density\", \"hyperinflate\", \"identify_convincing\", \"sequela\", \"bone_abnormality\", \"space_show\", \"fusion\", \"granulomatous_process\", \"limited_evaluation\", \"suggest_previous\", \"engorgement\", \"increase_retrosternal\", \"previously\", \"cervical\", \"process\", \"convincing\", \"moderate_sized\", \"shoulder\", \"consistent_chronic\", \"suggest_previous_granulomatous_process\", \"retrosternal\", \"bony\", \"acute\", \"abnormality\", \"hilar\", \"image\", \"finding\", \"pneumothorace\", \"vasculature\", \"bilaterally\", \"identify\", \"flatten\", \"space\", \"unremarkable\", \"disease\", \"prior\", \"vascularity\", \"lymph\", \"cardiac\", \"osseous\", \"without\", \"large\", \"appear\"], \"Total\": [1198.0, 756.0, 1290.0, 947.0, 657.0, 602.0, 873.0, 952.0, 966.0, 961.0, 446.0, 887.0, 853.0, 583.0, 1229.0, 360.0, 1105.0, 635.0, 350.0, 348.0, 343.0, 336.0, 334.0, 1061.0, 317.0, 714.0, 813.0, 316.0, 303.0, 301.0, 966.3285522460938, 961.6180419921875, 887.3824462890625, 853.6913452148438, 714.4879150390625, 469.70892333984375, 433.87261962890625, 391.2239685058594, 312.33563232421875, 283.2604675292969, 263.5108947753906, 262.1107482910156, 257.4039306640625, 229.11830139160156, 236.04908752441406, 227.12074279785156, 236.5959014892578, 213.56402587890625, 573.4449462890625, 223.3186798095703, 186.08905029296875, 168.18606567382812, 165.93319702148438, 153.6898193359375, 151.53578186035156, 149.35560607910156, 147.72474670410156, 146.18106079101562, 145.7186737060547, 141.74989318847656, 289.4093322753906, 1061.737548828125, 1542.28515625, 316.826904296875, 1229.6605224609375, 400.5732421875, 577.2357177734375, 599.9407958984375, 1287.59228515625, 526.8860473632812, 1019.4443359375, 1059.340087890625, 383.6199645996094, 1028.24755859375, 408.7564697265625, 391.7496643066406, 469.6665344238281, 343.0670166015625, 813.0880737304688, 579.261962890625, 595.87646484375, 641.7205200195312, 756.170166015625, 348.0660095214844, 350.8672790527344, 307.52484130859375, 279.32049560546875, 270.78594970703125, 248.32337951660156, 159.57760620117188, 152.0854034423828, 149.17990112304688, 136.3548126220703, 135.4925079345703, 120.08087921142578, 119.3222427368164, 104.89434814453125, 100.56055450439453, 99.6710205078125, 78.48079681396484, 75.49737548828125, 71.86920928955078, 70.56237030029297, 69.31912994384766, 63.3561897277832, 62.144622802734375, 60.55949783325195, 61.67945861816406, 55.552642822265625, 52.19951248168945, 51.3180046081543, 50.933685302734375, 51.0290641784668, 952.1754150390625, 205.0347137451172, 635.0336303710938, 486.04962158203125, 813.0880737304688, 771.9310302734375, 688.4459838867188, 583.5961303710938, 231.38754272460938, 351.9081726074219, 1028.24755859375, 947.7528076171875, 602.5237426757812, 1287.59228515625, 1019.4443359375, 1290.204345703125, 1059.340087890625, 279.9853515625, 406.5060119628906, 360.9483642578125, 334.080810546875, 316.8175964355469, 293.8534851074219, 283.91021728515625, 252.9254608154297, 249.59852600097656, 336.9040832519531, 197.50538635253906, 192.4400177001953, 202.81932067871094, 148.7120819091797, 142.05349731445312, 141.60369873046875, 133.14967346191406, 114.07746124267578, 112.65943908691406, 107.69807434082031, 108.06555938720703, 100.89884948730469, 105.50752258300781, 96.10884094238281, 81.09815216064453, 74.70154571533203, 74.79352569580078, 68.4888916015625, 87.22952270507812, 58.64188003540039, 57.15116882324219, 56.139251708984375, 109.95002746582031, 135.0687255859375, 244.31585693359375, 277.7129211425781, 583.5961303710938, 351.9081726074219, 486.04962158203125, 607.0435791015625, 1105.2353515625, 688.4459838867188, 637.08056640625, 635.0336303710938, 952.1754150390625, 459.7756042480469, 422.6576232910156, 1290.204345703125, 319.7217102050781, 771.9310302734375, 873.4989624023438, 1198.41748046875, 657.5661010742188, 446.1972351074219, 343.4720153808594, 301.98028564453125, 252.41163635253906, 217.20254516601562, 209.95327758789062, 194.80526733398438, 193.19271850585938, 192.34735107421875, 169.92539978027344, 154.4438018798828, 140.2414093017578, 136.16485595703125, 122.29727172851562, 119.26997375488281, 110.20825958251953, 106.7917709350586, 100.80462646484375, 99.23346710205078, 96.69415283203125, 88.55416107177734, 69.60665893554688, 64.75141143798828, 64.09339904785156, 59.991844177246094, 58.8715705871582, 57.942508697509766, 55.198272705078125, 55.69336700439453, 248.27540588378906, 193.19839477539062, 347.44390869140625, 607.0435791015625, 1105.2353515625, 637.08056640625, 308.0337829589844, 1287.59228515625, 579.261962890625, 602.5237426757812, 435.4499206542969, 526.8860473632812, 1229.6605224609375, 602.9281005859375, 317.6370849609375, 303.8443298339844, 301.5666198730469, 222.33230590820312, 175.68336486816406, 159.07554626464844, 146.2449188232422, 143.7425079345703, 105.16311645507812, 103.97570037841797, 80.0374984741211, 78.50102233886719, 78.7684555053711, 63.82683181762695, 59.9205207824707, 60.08003616333008, 58.963096618652344, 58.22045135498047, 51.40073776245117, 51.54909896850586, 49.516014099121094, 44.589378356933594, 41.82616424560547, 40.112892150878906, 33.354042053222656, 31.327260971069336, 30.42721939086914, 29.204130172729492, 28.88652229309082, 947.7528076171875, 1290.204345703125, 873.4989624023438, 278.02667236328125, 80.28897857666016, 422.6576232910156, 308.0337829589844, 641.7205200195312, 459.7756042480469, 602.1708374023438, 93.08251953125, 435.4499206542969, 1105.2353515625, 1059.340087890625, 401.9617919921875, 595.87646484375, 154.61402893066406, 1028.24755859375, 688.4459838867188, 771.9310302734375, 813.0880737304688, 1019.4443359375], \"loglift\": [30.0, 29.0, 28.0, 27.0, 26.0, 25.0, 24.0, 23.0, 22.0, 21.0, 20.0, 19.0, 18.0, 17.0, 16.0, 15.0, 14.0, 13.0, 12.0, 11.0, 10.0, 9.0, 8.0, 7.0, 6.0, 5.0, 4.0, 3.0, 2.0, 1.0, 0.883400022983551, 0.883400022983551, 0.8833000063896179, 0.8833000063896179, 0.8833000063896179, 0.8831999897956848, 0.8830999732017517, 0.8830999732017517, 0.8830000162124634, 0.8828999996185303, 0.8828999996185303, 0.8828999996185303, 0.8828999996185303, 0.8827999830245972, 0.8827999830245972, 0.8827999830245972, 0.8827999830245972, 0.8827999830245972, 0.8827999830245972, 0.8827999830245972, 0.8826000094413757, 0.8824999928474426, 0.8824999928474426, 0.8823999762535095, 0.8823999762535095, 0.8823999762535095, 0.8823999762535095, 0.8823999762535095, 0.8823999762535095, 0.8823999762535095, 0.861299991607666, 0.8183000087738037, 0.7595999836921692, 0.8427000045776367, 0.7598000168800354, 0.7997999787330627, 0.7437999844551086, 0.6401000022888184, 0.398499995470047, 0.5907999873161316, 0.36410000920295715, 0.31060001254081726, 0.6798999905586243, 0.2759000062942505, 0.6284000277519226, 0.6381000280380249, 0.47909998893737793, 0.6819999814033508, -0.07649999856948853, 0.20900000631809235, 0.16949999332427979, 0.07620000094175339, 1.8733999729156494, 1.8731000423431396, 1.8731000423431396, 1.8731000423431396, 1.8730000257492065, 1.8730000257492065, 1.8729000091552734, 1.8725999593734741, 1.872499942779541, 1.872499942779541, 1.8724000453948975, 1.8724000453948975, 1.8723000288009644, 1.8723000288009644, 1.8720999956130981, 1.871999979019165, 1.871999979019165, 1.871500015258789, 1.871500015258789, 1.871399998664856, 1.8712999820709229, 1.8712999820709229, 1.8710999488830566, 1.871000051498413, 1.871000051498413, 1.871000051498413, 1.8707000017166138, 1.8705999851226807, 1.8705999851226807, 1.8704999685287476, 1.8704999685287476, 1.4270999431610107, 1.6168999671936035, 1.333299994468689, 1.3353999853134155, 1.1062999963760376, 1.1124999523162842, 1.1131999492645264, 1.1647000312805176, 1.4395999908447266, 1.1858999729156494, 0.6252999901771545, 0.6636000275611877, 0.8364999890327454, 0.3955000042915344, 0.44119998812675476, 0.249099999666214, 0.08399999886751175, 1.124400019645691, 0.7799999713897705, 1.9228999614715576, 1.9228999614715576, 1.9227999448776245, 1.9227999448776245, 1.9227999448776245, 1.922700047492981, 1.922700047492981, 1.922700047492981, 1.9225000143051147, 1.9225000143051147, 1.9222999811172485, 1.9222999811172485, 1.9221999645233154, 1.9221999645233154, 1.9220999479293823, 1.9219000339508057, 1.9219000339508057, 1.9219000339508057, 1.9219000339508057, 1.9218000173568726, 1.9218000173568726, 1.9217000007629395, 1.9213999509811401, 1.9213000535964966, 1.9212000370025635, 1.9210000038146973, 1.9208999872207642, 1.920699954032898, 1.9206000566482544, 1.9206000566482544, 1.8286000490188599, 1.7740999460220337, 1.5561000108718872, 1.5108000040054321, 1.2446000576019287, 1.223099946975708, 1.045199990272522, 0.9273999929428101, 0.6104000210762024, 0.817799985408783, 0.8434000015258789, 0.819599986076355, 0.501800000667572, 0.9668999910354614, 0.9797000288963318, 0.18170000612735748, 1.1746000051498413, 0.4936999976634979, 0.3682999908924103, 1.8873000144958496, 1.8871999979019165, 1.8870999813079834, 1.8868999481201172, 1.8868999481201172, 1.8868000507354736, 1.8867000341415405, 1.8866000175476074, 1.8866000175476074, 1.8866000175476074, 1.8866000175476074, 1.8865000009536743, 1.8863999843597412, 1.886299967765808, 1.886199951171875, 1.8861000537872314, 1.8861000537872314, 1.8860000371932983, 1.8859000205993652, 1.8859000205993652, 1.8858000040054321, 1.8858000040054321, 1.885599970817566, 1.88510000705719, 1.8849999904632568, 1.8849999904632568, 1.8847999572753906, 1.8846999406814575, 1.8846999406814575, 1.884600043296814, 1.884600043296814, 1.8307000398635864, 1.6883000135421753, 1.5509999990463257, 1.1677000522613525, 0.8738999962806702, 0.6222000122070312, 0.9855999946594238, 0.027899999171495438, 0.5515000224113464, 0.4246000051498413, 0.6730999946594238, 0.5087000131607056, -0.2662000060081482, 1.9982000589370728, 1.9979000091552734, 1.9979000091552734, 1.9979000091552734, 1.9976999759674072, 1.997499942779541, 1.9974000453948975, 1.9974000453948975, 1.9973000288009644, 1.996899962425232, 1.996899962425232, 1.996500015258789, 1.996500015258789, 1.996399998664856, 1.996000051498413, 1.99590003490448, 1.9958000183105469, 1.9958000183105469, 1.9958000183105469, 1.9953999519348145, 1.9953999519348145, 1.9953999519348145, 1.9948999881744385, 1.9946999549865723, 1.9946000576019287, 1.993899941444397, 1.993499994277954, 1.993399977684021, 1.9931999444961548, 1.9931999444961548, 1.6438000202178955, 1.5321999788284302, 1.5764000415802002, 1.6605000495910645, 1.8420000076293945, 1.5041999816894531, 1.476199984550476, 1.2089999914169312, 1.2473000288009644, 0.9711999893188477, 1.7482000589370728, 1.0714000463485718, 0.6608999967575073, 0.6793000102043152, 0.9779000282287598, 0.7651000022888184, 1.4680999517440796, 0.20909999310970306, 0.39309999346733093, 0.2831000089645386, 0.11580000072717667, -0.1678999960422516], \"logprob\": [30.0, 29.0, 28.0, 27.0, 26.0, 25.0, 24.0, 23.0, 22.0, 21.0, 20.0, 19.0, 18.0, 17.0, 16.0, 15.0, 14.0, 13.0, 12.0, 11.0, 10.0, 9.0, 8.0, 7.0, 6.0, 5.0, 4.0, 3.0, 2.0, 1.0, -3.5492000579833984, -3.553999900817871, -3.634399890899658, -3.673099994659424, -3.8512001037597656, -4.270699977874756, -4.350100040435791, -4.45359992980957, -4.678899765014648, -4.776700019836426, -4.848999977111816, -4.854400157928467, -4.872499942779541, -4.988900184631348, -4.959199905395508, -4.997700214385986, -4.9567999839782715, -5.059299945831299, -4.071599960327148, -5.014699935913086, -5.1971001625061035, -5.298399925231934, -5.3119001388549805, -5.388599872589111, -5.4028000831604, -5.417300224304199, -5.428299903869629, -5.438799858093262, -5.44189977645874, -5.469600200653076, -4.776800155639648, -3.5201001167297363, -3.2053000926971436, -4.704999923706055, -3.4316999912261963, -4.513299942016602, -4.20389986038208, -4.269000053405762, -3.7469000816345215, -4.448200225830078, -4.014900207519531, -4.03000020980835, -4.676400184631348, -4.0945000648498535, -4.6645002365112305, -4.697299957275391, -4.674900054931641, -4.785999774932861, -4.681700229644775, -4.735199928283691, -4.746500015258789, -4.765600204467773, -2.8043999671936035, -3.5804998874664307, -3.572499990463257, -3.704400062561035, -3.8006999492645264, -3.831700086593628, -3.9184000492095947, -4.360899925231934, -4.40910005569458, -4.428400039672852, -4.518400192260742, -4.524700164794922, -4.645500183105469, -4.651899814605713, -4.781000137329102, -4.823299884796143, -4.832200050354004, -5.071599960327148, -5.110400199890137, -5.159800052642822, -5.178199768066406, -5.196000099182129, -5.286099910736084, -5.305500030517578, -5.331399917602539, -5.3130998611450195, -5.418000221252441, -5.480299949645996, -5.497399806976318, -5.505000114440918, -5.5030999183654785, -3.02020001411438, -4.365900039672852, -3.5190000534057617, -3.7843000888824463, -3.498800039291382, -3.544600009918213, -3.658400058746338, -3.7720999717712402, -4.422299861907959, -4.256800174713135, -3.7451000213623047, -3.788300037384033, -4.068399906158447, -3.75, -3.9377999305725098, -3.8942999839782715, -4.2565999031066895, -4.546800136566162, -4.518400192260742, -3.4944000244140625, -3.5717999935150146, -3.6249001026153564, -3.7000999450683594, -3.734600067138672, -3.8501999378204346, -3.8635001182556152, -3.563499927520752, -4.097700119018555, -4.123700141906738, -4.071400165557861, -4.381700038909912, -4.427599906921387, -4.430799961090088, -4.492400169372559, -4.647200107574463, -4.6596999168396, -4.704800128936768, -4.701399803161621, -4.770100116729736, -4.725399971008301, -4.81879997253418, -4.988999843597412, -5.071300029754639, -5.070000171661377, -5.158299922943115, -4.916500091552734, -5.313899993896484, -5.339700222015381, -5.357600212097168, -4.777400016784668, -4.626200199127197, -4.251399993896484, -4.168600082397461, -3.692199945449829, -4.2195000648498535, -4.07450008392334, -3.9700000286102295, -3.6877999305725098, -3.9537999629974365, -4.00570011138916, -4.032800197601318, -3.945499897003174, -4.208399772644043, -4.279699802398682, -3.961699962615967, -4.363999843597412, -4.163400173187256, -4.165200233459473, -2.3299999237060547, -2.930299997329712, -3.31820011138916, -3.5799999237060547, -3.7088000774383545, -3.888200044631958, -4.03849983215332, -4.072500228881836, -4.14739990234375, -4.155700206756592, -4.160099983215332, -4.284200191497803, -4.379799842834473, -4.476399898529053, -4.505899906158447, -4.613399982452393, -4.638599872589111, -4.717599868774414, -4.749199867248535, -4.807000160217285, -4.822700023651123, -4.848700046539307, -4.936800003051758, -5.177999973297119, -5.250500202178955, -5.260700225830078, -5.327000141143799, -5.345900058746338, -5.3618998527526855, -5.4105000495910645, -5.401599884033203, -3.9607999324798584, -4.354000091552734, -3.904400110244751, -3.7297000885009766, -3.424299955368042, -4.2270002365112305, -4.590199947357178, -4.117599964141846, -4.3927001953125, -4.480299949645996, -4.556600093841553, -4.530300140380859, -4.457699775695801, -2.9059998989105225, -3.5471999645233154, -3.591599941253662, -3.599100112915039, -3.904099941253662, -4.139800071716309, -4.239200115203857, -4.323400020599365, -4.340700149536133, -4.653600215911865, -4.664899826049805, -4.927000045776367, -4.946400165557861, -4.9430999755859375, -5.153800010681152, -5.217100143432617, -5.2144999504089355, -5.23330020904541, -5.245999813079834, -5.3709001541137695, -5.368000030517578, -5.408400058746338, -5.513599872589111, -5.5777997970581055, -5.619699954986572, -5.804999828338623, -5.868000030517578, -5.897200107574463, -5.938499927520752, -5.949399948120117, -2.8080999851226807, -2.611299991607666, -2.9570999145507812, -4.0177998542785645, -5.078400135040283, -3.755199909210205, -4.099599838256836, -3.6328999996185303, -3.927999973297119, -3.934299945831299, -5.0243000984191895, -4.158199787139893, -3.6373000144958496, -3.66129994392395, -4.331699848175049, -4.150899887084961, -4.796999931335449, -4.161300182342529, -4.378499984741211, -4.374000072479248, -4.4893999099731445, -4.546899795532227]}, \"token.table\": {\"Topic\": [3, 5, 2, 3, 5, 2, 3, 5, 1, 3, 1, 3, 1, 2, 3, 4, 5, 1, 2, 3, 3, 1, 3, 1, 1, 4, 1, 5, 2, 3, 5, 3, 2, 5, 5, 2, 5, 1, 1, 5, 1, 1, 2, 3, 5, 3, 1, 4, 4, 4, 1, 1, 1, 5, 1, 4, 1, 2, 3, 4, 5, 2, 4, 4, 3, 2, 3, 5, 5, 2, 3, 1, 3, 1, 2, 3, 5, 1, 2, 4, 5, 2, 2, 4, 4, 5, 1, 2, 3, 3, 3, 1, 4, 3, 5, 3, 5, 5, 4, 2, 3, 1, 3, 3, 2, 3, 3, 5, 2, 1, 5, 5, 1, 2, 3, 4, 5, 4, 4, 4, 4, 1, 3, 5, 5, 5, 4, 1, 2, 3, 4, 5, 5, 3, 5, 5, 1, 2, 3, 4, 5, 2, 2, 1, 1, 2, 4, 3, 1, 2, 5, 1, 3, 4, 4, 2, 3, 1, 4, 1, 4, 4, 5, 2, 1, 2, 4, 1, 5, 4, 2, 4, 4, 4, 2, 1, 1, 2, 4, 1, 1, 5, 3, 2, 5, 5, 3, 2, 2, 1, 3, 4, 2, 1, 2, 4, 2, 3, 5, 2, 3, 1, 1, 2, 4, 2, 2, 4, 5, 1, 2, 1, 4, 5, 1, 2, 4, 5, 1, 5, 4, 5, 1, 3, 3, 4, 1, 4, 2, 5, 2, 1, 3, 4, 5, 5, 3, 2, 4, 4, 5, 5, 1, 2, 3, 4, 5, 3, 5, 3, 1, 1, 2, 3, 4, 5, 2, 2, 3, 4, 4, 3, 3, 4, 5, 4, 5, 5, 4, 4, 2, 1, 3, 5, 5, 1, 1, 2, 2, 3, 3, 1, 4, 1, 2, 3, 4, 5, 1, 2, 3, 4, 5, 3, 4, 2, 2, 5, 1, 2, 3, 5, 1, 2, 5, 1, 3, 1, 1, 3, 4, 3, 2, 3, 1, 2, 4, 2, 4, 2, 1, 2, 3, 4, 5], \"Freq\": [0.9095041155815125, 0.09095040708780289, 0.13279923796653748, 0.2106470763683319, 0.6559824347496033, 0.19686803221702576, 0.175166055560112, 0.627032458782196, 0.9995774626731873, 0.9957367181777954, 0.999224066734314, 0.9973687529563904, 0.5944414734840393, 0.23836514353752136, 0.0009809265611693263, 0.051008179783821106, 0.11476840823888779, 0.4321654736995697, 0.4714532494544983, 0.09286200255155563, 0.9973549246788025, 1.000619649887085, 0.9976020455360413, 1.000402569770813, 0.9186834096908569, 0.07988551259040833, 0.9595144987106323, 0.037875570356845856, 0.14354828000068665, 0.38497039675712585, 0.4719693660736084, 1.000498652458191, 0.9938737154006958, 1.0017913579940796, 1.0029395818710327, 0.29860106110572815, 0.7016597390174866, 0.9989253878593445, 0.8696620464324951, 0.1299295872449875, 0.9996600151062012, 0.5446159243583679, 0.28689590096473694, 0.0009725284180603921, 0.16727489233016968, 0.9988759160041809, 0.9994274973869324, 1.0019381046295166, 0.9964079856872559, 0.998110294342041, 0.99908047914505, 1.0020182132720947, 0.9995214343070984, 0.9867820739746094, 0.937143087387085, 0.06310410797595978, 0.3516038954257965, 0.00156966014765203, 0.3390465974807739, 0.28253883123397827, 0.02511456236243248, 0.9998103380203247, 1.0004390478134155, 0.999067485332489, 0.9941465854644775, 1.0010071992874146, 1.002760648727417, 0.9859592914581299, 0.9971856474876404, 0.9993264675140381, 0.9974411725997925, 0.9993171095848083, 1.001002550125122, 0.028651434928178787, 0.13916411995887756, 0.6917275190353394, 0.13916411995887756, 0.5635583996772766, 0.16708515584468842, 0.000943983905017376, 0.2671474516391754, 0.9944257140159607, 0.9988526105880737, 1.003839135169983, 0.9985427856445312, 0.9922036528587341, 0.08503486961126328, 0.5826463103294373, 0.33226585388183594, 0.9987897276878357, 0.9928617477416992, 0.998893678188324, 0.9983691573143005, 0.3903869092464447, 0.6104231476783752, 0.2148631066083908, 0.7735072374343872, 0.9995250701904297, 1.0021815299987793, 0.13326549530029297, 0.8588220477104187, 0.525456964969635, 0.4722857177257538, 1.0005757808685303, 0.9907611608505249, 1.000890851020813, 1.0002846717834473, 1.0013264417648315, 0.9938032627105713, 1.0002936124801636, 0.9985053539276123, 0.99866783618927, 0.08363959938287735, 0.3345583975315094, 0.29273858666419983, 0.12791939079761505, 0.15989923477172852, 1.0002225637435913, 0.9975692629814148, 1.0031629800796509, 0.9990024566650391, 0.0971129834651947, 0.18703241646289825, 0.7121618986129761, 1.0018023252487183, 1.0002336502075195, 1.0009921789169312, 0.3802907466888428, 0.028231190517544746, 0.08801489323377609, 0.14613793790340424, 0.3587021827697754, 0.9995315074920654, 0.13700510561466217, 0.8593956828117371, 0.9893480539321899, 0.1742669939994812, 0.355172723531723, 0.08630365133285522, 0.2323559820652008, 0.1526910811662674, 0.9963650703430176, 0.9997749924659729, 0.9980611801147461, 0.9984307289123535, 0.05236120894551277, 0.9465295076370239, 1.0028034448623657, 0.38249239325523376, 0.4636644124984741, 0.15250501036643982, 0.1433175504207611, 0.36900150775909424, 0.4876091480255127, 0.9991390705108643, 0.5029721260070801, 0.4972888231277466, 0.8839837908744812, 0.11629226058721542, 0.8161670565605164, 0.18072271347045898, 1.000135898590088, 1.0006258487701416, 0.992030143737793, 0.745891809463501, 0.0018979435553774238, 0.25242650508880615, 0.40746626257896423, 0.5885623693466187, 0.9937421083450317, 1.0051969289779663, 0.9996516108512878, 0.9912844896316528, 1.0009995698928833, 0.9963803887367249, 1.0017644166946411, 1.0003615617752075, 0.9986977577209473, 1.0055056810379028, 0.9985730051994324, 0.9987614154815674, 0.9893853068351746, 0.989054262638092, 0.6482630968093872, 0.3500620722770691, 0.99844890832901, 1.0002946853637695, 0.9973978996276855, 1.0007904767990112, 0.7834106087684631, 0.05167176574468613, 0.1650162786245346, 1.0013020038604736, 0.615878164768219, 0.22833314538002014, 0.15610530972480774, 0.46772006154060364, 0.3311806619167328, 0.20045146346092224, 0.5843024849891663, 0.4155954122543335, 0.9973589777946472, 1.0018632411956787, 0.7754784226417542, 0.22435225546360016, 0.9994304180145264, 0.9943779706954956, 0.40579965710639954, 0.5940907001495361, 0.9994683861732483, 0.9934120178222656, 0.7811110615730286, 0.21697530150413513, 0.9895788431167603, 0.33585280179977417, 0.01741459034383297, 0.2836090326309204, 0.3607307970523834, 1.001930594444275, 0.9979943037033081, 0.9982786178588867, 1.0041561126708984, 0.9964643120765686, 0.9988675117492676, 0.9977135062217712, 0.99819415807724, 0.9778537750244141, 0.020731881260871887, 0.9953961968421936, 1.0039284229278564, 1.003300666809082, 0.8159116506576538, 0.010426986031234264, 0.17465201020240784, 0.9936176538467407, 0.9895534515380859, 0.9993933439254761, 0.9900519251823425, 0.9971264600753784, 0.9995579719543457, 0.9981210827827454, 1.0001192092895508, 0.18831098079681396, 0.10793434083461761, 0.011482376605272293, 0.2962453067302704, 0.39499375224113464, 0.9951897263526917, 1.0027130842208862, 1.0019360780715942, 0.999357283115387, 0.8837535381317139, 0.0006483885226771235, 0.04798075184226036, 0.002593554090708494, 0.06548724323511124, 1.0018198490142822, 0.6395880579948425, 0.24155212938785553, 0.1186756119132042, 0.9977364540100098, 0.9996234178543091, 1.0003162622451782, 0.8178122043609619, 0.18116092681884766, 1.0000653266906738, 0.9962134957313538, 0.9930102229118347, 0.9987893104553223, 0.9986257553100586, 0.9987940788269043, 0.9995689988136292, 0.6625546813011169, 0.33847904205322266, 1.0005123615264893, 0.997619092464447, 0.9974813461303711, 0.999438464641571, 1.0003782510757446, 0.9993209838867188, 0.9997581243515015, 0.7755228877067566, 0.22507289052009583, 0.0009047846542671323, 0.1049550250172615, 0.2687210440635681, 0.3628186583518982, 0.26238754391670227, 0.5092687010765076, 0.07250605523586273, 0.15364378690719604, 0.26240286231040955, 0.0017263346817344427, 0.9975195527076721, 0.9976472854614258, 0.9961779117584229, 0.9982933402061462, 0.9983252882957458, 0.49003446102142334, 0.1342560201883316, 0.0839100107550621, 0.29200682044029236, 0.44567689299583435, 0.09973189234733582, 0.4534684419631958, 0.9994836449623108, 1.0039952993392944, 0.9997920393943787, 0.04029427468776703, 0.24464380741119385, 0.7137842774391174, 1.000143051147461, 0.4917784631252289, 0.5072000622749329, 0.6664302945137024, 0.25124210119247437, 0.08090846985578537, 0.9972993731498718, 1.0019499063491821, 0.9976727962493896, 0.11270436644554138, 0.4676583707332611, 0.23965871334075928, 0.0012954524718225002, 0.18006789684295654], \"Term\": [\"abdoman\", \"abdoman\", \"abnormality\", \"abnormality\", \"abnormality\", \"acute\", \"acute\", \"acute\", \"adenopathy_nodule\", \"alveolar\", \"aorta\", \"apical\", \"appear\", \"appear\", \"appear\", \"appear\", \"appear\", \"appearance\", \"appearance\", \"appearance\", \"arthritic\", \"atelectasis\", \"atherosclerotic_calcification\", \"atrium\", \"base\", \"base\", \"bilateral\", \"bilateral\", \"bilaterally\", \"bilaterally\", \"bilaterally\", \"bilaterally_specifically\", \"blunt\", \"bone\", \"bone_abnormality\", \"bony\", \"bony\", \"bronchovascular_crowd\", \"calcify\", \"calcify\", \"calcify_granuloma\", \"cardiac\", \"cardiac\", \"cardiac\", \"cardiac\", \"cardio\", \"cardiomegaly\", \"cavitary_lesion\", \"cavoatrial\", \"cavoatrial_junction\", \"central\", \"central_airway\", \"central_venous\", \"cervical\", \"change\", \"change\", \"chest\", \"chest\", \"chest\", \"chest\", \"chest\", \"chest_wall\", \"clip\", \"compare_prior\", \"compatible\", \"congestion\", \"consist\", \"consistent_chronic\", \"convincing\", \"defibrillator\", \"definite\", \"degenerative\", \"device\", \"diaphragm\", \"diaphragm\", \"diaphragm\", \"diaphragm\", \"disease\", \"disease\", \"disease\", \"disease\", \"displace\", \"displace_fracture\", \"elevate\", \"emphysematous\", \"engorgement\", \"evidence\", \"evidence\", \"evidence\", \"examination_consist\", \"examination_consist_frontal_lateral\", \"examination_obtain\", \"expand\", \"finding\", \"finding\", \"flatten\", \"flatten\", \"flatten_diaphragm\", \"flatten_hemidiaphragms\", \"fluid\", \"fluid\", \"free\", \"free\", \"free_intraperitoneal\", \"free_subdiaphragmatic\", \"frontal\", \"frontal_lateral\", \"fusion\", \"generator\", \"granuloma\", \"granulomatous\", \"granulomatous_process\", \"grossly\", \"grossly\", \"grossly\", \"grossly\", \"grossly\", \"hemidiaphragm\", \"hernia\", \"hiatal\", \"hiatal_hernia\", \"hilar\", \"hilar\", \"hilar\", \"hilar_lymph\", \"hyperinflate\", \"hypoinflate\", \"identify\", \"identify\", \"identify\", \"identify\", \"identify\", \"identify_convincing\", \"image\", \"image\", \"increase_retrosternal\", \"infiltrate\", \"infiltrate\", \"infiltrate\", \"infiltrate\", \"infiltrate\", \"inflate\", \"intact\", \"interstitial\", \"interstitial_marking\", \"interval\", \"interval\", \"intraperitoneal\", \"large\", \"large\", \"large\", \"lateral\", \"lateral\", \"lateral\", \"lateral_view\", \"lead\", \"lead\", \"leave\", \"leave\", \"left\", \"left\", \"lesion\", \"limited_evaluation\", \"line\", \"lobe\", \"lobe\", \"lobe\", \"lymph\", \"lymph\", \"mass\", \"measure_approximately\", \"mediastinum\", \"middle\", \"middle_lobe\", \"midline\", \"midlung\", \"mild\", \"mildly_enlarge\", \"mildly_hypoinflate\", \"minimal\", \"moderate\", \"moderate_sized\", \"monitor_lead\", \"negative\", \"negative\", \"nodular_density\", \"nodule_masse\", \"normally\", \"normally_inflate\", \"note\", \"note\", \"note\", \"opacification\", \"opacity\", \"opacity\", \"opacity\", \"osseous\", \"osseous\", \"osseous\", \"osseous_structure\", \"osseous_structure\", \"pacemaker\", \"patchy\", \"patient\", \"patient\", \"patient_status\", \"picc\", \"pneumothorace\", \"pneumothorace\", \"position\", \"post\", \"present\", \"present\", \"previously\", \"prior\", \"prior\", \"prior\", \"prior\", \"prior_exam\", \"prior_granulomatous\", \"prior_study\", \"process\", \"prominent\", \"radiograph\", \"radiograph_chest\", \"remain\", \"represent\", \"represent\", \"retrocardiac\", \"retrosternal\", \"reveal\", \"scar\", \"scar\", \"scar\", \"sequela\", \"shoulder\", \"significantly_enlarge\", \"similar_prior\", \"skeletal\", \"skeletal_structure\", \"soft\", \"soft_tissue\", \"space\", \"space\", \"space\", \"space\", \"space\", \"space_opacitie\", \"space_show\", \"specifically\", \"spine\", \"stable\", \"stable\", \"stable\", \"stable\", \"stable\", \"status\", \"structure\", \"structure\", \"structure\", \"study\", \"subsegmental\", \"subsegmental_atelectasis\", \"suggest\", \"suggest\", \"suggest_pneumonia\", \"suggest_previous\", \"suggest_previous_granulomatous_process\", \"surgical\", \"surgical_clip\", \"suspicious\", \"thoracic\", \"thorax\", \"thorax\", \"tissue\", \"tortuosity\", \"tortuous\", \"trachea\", \"trachea_midline\", \"typical\", \"typical_finding\", \"unchanged\", \"unchanged\", \"unremarkable\", \"unremarkable\", \"unremarkable\", \"unremarkable\", \"unremarkable\", \"upper\", \"upper\", \"upper\", \"upper\", \"upper\", \"upper_abdoman\", \"upper_quadrant\", \"valve_replacement\", \"vascular_congestion\", \"vascular_engorgement\", \"vascularity\", \"vascularity\", \"vascularity\", \"vascularity\", \"vasculature\", \"vasculature\", \"vasculature\", \"ventricle\", \"versus\", \"vertebral_body\", \"view\", \"view\", \"view\", \"visible\", \"visualize\", \"visualize\", \"volume\", \"volume\", \"volume\", \"wall\", \"well\", \"widen\", \"without\", \"without\", \"without\", \"without\", \"without\"]}, \"R\": 30, \"lambda.step\": 0.01, \"plot.opts\": {\"xlab\": \"PC1\", \"ylab\": \"PC2\"}, \"topic.order\": [1, 2, 3, 4, 5]};\n",
              "\n",
              "function LDAvis_load_lib(url, callback){\n",
              "  var s = document.createElement('script');\n",
              "  s.src = url;\n",
              "  s.async = true;\n",
              "  s.onreadystatechange = s.onload = callback;\n",
              "  s.onerror = function(){console.warn(\"failed to load library \" + url);};\n",
              "  document.getElementsByTagName(\"head\")[0].appendChild(s);\n",
              "}\n",
              "\n",
              "if(typeof(LDAvis) !== \"undefined\"){\n",
              "   // already loaded: just create the visualization\n",
              "   !function(LDAvis){\n",
              "       new LDAvis(\"#\" + \"ldavis_el1251399862914905122161581283\", ldavis_el1251399862914905122161581283_data);\n",
              "   }(LDAvis);\n",
              "}else if(typeof define === \"function\" && define.amd){\n",
              "   // require.js is available: use it to load d3/LDAvis\n",
              "   require.config({paths: {d3: \"https://cdnjs.cloudflare.com/ajax/libs/d3/3.5.5/d3.min\"}});\n",
              "   require([\"d3\"], function(d3){\n",
              "      window.d3 = d3;\n",
              "      LDAvis_load_lib(\"https://cdn.rawgit.com/bmabey/pyLDAvis/files/ldavis.v1.0.0.js\", function(){\n",
              "        new LDAvis(\"#\" + \"ldavis_el1251399862914905122161581283\", ldavis_el1251399862914905122161581283_data);\n",
              "      });\n",
              "    });\n",
              "}else{\n",
              "    // require.js not available: dynamically load d3 & LDAvis\n",
              "    LDAvis_load_lib(\"https://cdnjs.cloudflare.com/ajax/libs/d3/3.5.5/d3.min.js\", function(){\n",
              "         LDAvis_load_lib(\"https://cdn.rawgit.com/bmabey/pyLDAvis/files/ldavis.v1.0.0.js\", function(){\n",
              "                 new LDAvis(\"#\" + \"ldavis_el1251399862914905122161581283\", ldavis_el1251399862914905122161581283_data);\n",
              "            })\n",
              "         });\n",
              "}\n",
              "</script>"
            ],
            "text/plain": [
              "<IPython.core.display.HTML object>"
            ]
          },
          "metadata": {
            "tags": []
          },
          "execution_count": 58
        }
      ]
    }
  ]
}