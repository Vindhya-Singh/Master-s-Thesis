{
  "nbformat": 4,
  "nbformat_minor": 0,
  "metadata": {
    "colab": {
      "name": "LDA_AmazonSummarytData_LawnAndGarden.ipynb",
      "provenance": [],
      "collapsed_sections": [],
      "toc_visible": true,
      "include_colab_link": true
    },
    "kernelspec": {
      "name": "python3",
      "display_name": "Python 3"
    }
  },
  "cells": [
    {
      "cell_type": "markdown",
      "metadata": {
        "id": "view-in-github",
        "colab_type": "text"
      },
      "source": [
        "<a href=\"https://colab.research.google.com/github/VindhyaSRajan/Master-s-Thesis/blob/master/LDA_AmazonSummarytData_LawnAndGarden.ipynb\" target=\"_parent\"><img src=\"https://colab.research.google.com/assets/colab-badge.svg\" alt=\"Open In Colab\"/></a>"
      ]
    },
    {
      "cell_type": "code",
      "metadata": {
        "id": "6RyedzvGw1l3",
        "colab_type": "code",
        "outputId": "74138cc3-8078-4148-cac7-11c1d496db8c",
        "colab": {
          "base_uri": "https://localhost:8080/",
          "height": 802
        }
      },
      "source": [
        "!pip3 install pandas nltk gensim pyLdavis"
      ],
      "execution_count": 1,
      "outputs": [
        {
          "output_type": "stream",
          "text": [
            "Requirement already satisfied: pandas in /usr/local/lib/python3.6/dist-packages (0.25.3)\n",
            "Requirement already satisfied: nltk in /usr/local/lib/python3.6/dist-packages (3.2.5)\n",
            "Requirement already satisfied: gensim in /usr/local/lib/python3.6/dist-packages (3.6.0)\n",
            "Collecting pyLdavis\n",
            "\u001b[?25l  Downloading https://files.pythonhosted.org/packages/a5/3a/af82e070a8a96e13217c8f362f9a73e82d61ac8fff3a2561946a97f96266/pyLDAvis-2.1.2.tar.gz (1.6MB)\n",
            "\u001b[K     |████████████████████████████████| 1.6MB 8.8MB/s \n",
            "\u001b[?25hRequirement already satisfied: pytz>=2017.2 in /usr/local/lib/python3.6/dist-packages (from pandas) (2018.9)\n",
            "Requirement already satisfied: python-dateutil>=2.6.1 in /usr/local/lib/python3.6/dist-packages (from pandas) (2.6.1)\n",
            "Requirement already satisfied: numpy>=1.13.3 in /usr/local/lib/python3.6/dist-packages (from pandas) (1.17.3)\n",
            "Requirement already satisfied: six in /usr/local/lib/python3.6/dist-packages (from nltk) (1.12.0)\n",
            "Requirement already satisfied: scipy>=0.18.1 in /usr/local/lib/python3.6/dist-packages (from gensim) (1.3.1)\n",
            "Requirement already satisfied: smart-open>=1.2.1 in /usr/local/lib/python3.6/dist-packages (from gensim) (1.8.4)\n",
            "Requirement already satisfied: wheel>=0.23.0 in /usr/local/lib/python3.6/dist-packages (from pyLdavis) (0.33.6)\n",
            "Requirement already satisfied: joblib>=0.8.4 in /usr/local/lib/python3.6/dist-packages (from pyLdavis) (0.14.0)\n",
            "Requirement already satisfied: jinja2>=2.7.2 in /usr/local/lib/python3.6/dist-packages (from pyLdavis) (2.10.3)\n",
            "Requirement already satisfied: numexpr in /usr/local/lib/python3.6/dist-packages (from pyLdavis) (2.7.0)\n",
            "Requirement already satisfied: pytest in /usr/local/lib/python3.6/dist-packages (from pyLdavis) (3.6.4)\n",
            "Requirement already satisfied: future in /usr/local/lib/python3.6/dist-packages (from pyLdavis) (0.16.0)\n",
            "Collecting funcy\n",
            "  Downloading https://files.pythonhosted.org/packages/eb/3a/fc8323f913e8a9c6f33f7203547f8a2171223da5ed965f2541dafb10aa09/funcy-1.13-py2.py3-none-any.whl\n",
            "Requirement already satisfied: requests in /usr/local/lib/python3.6/dist-packages (from smart-open>=1.2.1->gensim) (2.21.0)\n",
            "Requirement already satisfied: boto3 in /usr/local/lib/python3.6/dist-packages (from smart-open>=1.2.1->gensim) (1.10.7)\n",
            "Requirement already satisfied: boto>=2.32 in /usr/local/lib/python3.6/dist-packages (from smart-open>=1.2.1->gensim) (2.49.0)\n",
            "Requirement already satisfied: MarkupSafe>=0.23 in /usr/local/lib/python3.6/dist-packages (from jinja2>=2.7.2->pyLdavis) (1.1.1)\n",
            "Requirement already satisfied: more-itertools>=4.0.0 in /usr/local/lib/python3.6/dist-packages (from pytest->pyLdavis) (7.2.0)\n",
            "Requirement already satisfied: atomicwrites>=1.0 in /usr/local/lib/python3.6/dist-packages (from pytest->pyLdavis) (1.3.0)\n",
            "Requirement already satisfied: setuptools in /usr/local/lib/python3.6/dist-packages (from pytest->pyLdavis) (41.4.0)\n",
            "Requirement already satisfied: attrs>=17.4.0 in /usr/local/lib/python3.6/dist-packages (from pytest->pyLdavis) (19.3.0)\n",
            "Requirement already satisfied: pluggy<0.8,>=0.5 in /usr/local/lib/python3.6/dist-packages (from pytest->pyLdavis) (0.7.1)\n",
            "Requirement already satisfied: py>=1.5.0 in /usr/local/lib/python3.6/dist-packages (from pytest->pyLdavis) (1.8.0)\n",
            "Requirement already satisfied: idna<2.9,>=2.5 in /usr/local/lib/python3.6/dist-packages (from requests->smart-open>=1.2.1->gensim) (2.8)\n",
            "Requirement already satisfied: urllib3<1.25,>=1.21.1 in /usr/local/lib/python3.6/dist-packages (from requests->smart-open>=1.2.1->gensim) (1.24.3)\n",
            "Requirement already satisfied: certifi>=2017.4.17 in /usr/local/lib/python3.6/dist-packages (from requests->smart-open>=1.2.1->gensim) (2019.9.11)\n",
            "Requirement already satisfied: chardet<3.1.0,>=3.0.2 in /usr/local/lib/python3.6/dist-packages (from requests->smart-open>=1.2.1->gensim) (3.0.4)\n",
            "Requirement already satisfied: jmespath<1.0.0,>=0.7.1 in /usr/local/lib/python3.6/dist-packages (from boto3->smart-open>=1.2.1->gensim) (0.9.4)\n",
            "Requirement already satisfied: s3transfer<0.3.0,>=0.2.0 in /usr/local/lib/python3.6/dist-packages (from boto3->smart-open>=1.2.1->gensim) (0.2.1)\n",
            "Requirement already satisfied: botocore<1.14.0,>=1.13.7 in /usr/local/lib/python3.6/dist-packages (from boto3->smart-open>=1.2.1->gensim) (1.13.7)\n",
            "Requirement already satisfied: docutils<0.16,>=0.10 in /usr/local/lib/python3.6/dist-packages (from botocore<1.14.0,>=1.13.7->boto3->smart-open>=1.2.1->gensim) (0.15.2)\n",
            "Building wheels for collected packages: pyLdavis\n",
            "  Building wheel for pyLdavis (setup.py) ... \u001b[?25l\u001b[?25hdone\n",
            "  Created wheel for pyLdavis: filename=pyLDAvis-2.1.2-py2.py3-none-any.whl size=97711 sha256=0537e72378ee610161d6c32956c633275d5e358a48555992a6c5cee9d019af14\n",
            "  Stored in directory: /root/.cache/pip/wheels/98/71/24/513a99e58bb6b8465bae4d2d5e9dba8f0bef8179e3051ac414\n",
            "Successfully built pyLdavis\n",
            "Installing collected packages: funcy, pyLdavis\n",
            "Successfully installed funcy-1.13 pyLdavis-2.1.2\n"
          ],
          "name": "stdout"
        }
      ]
    },
    {
      "cell_type": "markdown",
      "metadata": {
        "id": "Lz3-jIooyDfr",
        "colab_type": "text"
      },
      "source": [
        "## All the Imports go here"
      ]
    },
    {
      "cell_type": "code",
      "metadata": {
        "id": "doRp1032xHTI",
        "colab_type": "code",
        "colab": {}
      },
      "source": [
        "import re # We clean text using regex\n",
        "import csv # To read the csv\n",
        "from collections import defaultdict # For accumlating values\n",
        "from nltk.corpus import stopwords # To remove stopwords\n",
        "from gensim import corpora # To create corpus and dictionary for the LDA model\n",
        "from gensim.models import LdaModel # To use the LDA model\n",
        "import pyLDAvis.gensim # To visualise LDA model effectively\n",
        "import pandas as pd\n",
        "from gensim.models import CoherenceModel #Put in use to calculate the Coherency score for LDA"
      ],
      "execution_count": 0,
      "outputs": []
    },
    {
      "cell_type": "code",
      "metadata": {
        "id": "7Y1kMFtGxPYB",
        "colab_type": "code",
        "outputId": "49ca7151-60f9-4319-b536-a6af23c055ff",
        "colab": {
          "base_uri": "https://localhost:8080/",
          "height": 51
        }
      },
      "source": [
        "import nltk\n",
        "nltk.download('stopwords')\n",
        "from nltk.corpus import stopwords"
      ],
      "execution_count": 3,
      "outputs": [
        {
          "output_type": "stream",
          "text": [
            "[nltk_data] Downloading package stopwords to /root/nltk_data...\n",
            "[nltk_data]   Unzipping corpora/stopwords.zip.\n"
          ],
          "name": "stdout"
        }
      ]
    },
    {
      "cell_type": "markdown",
      "metadata": {
        "id": "0jF4Zig7yKY1",
        "colab_type": "text"
      },
      "source": [
        "##Reading the Amazon Product Review file "
      ]
    },
    {
      "cell_type": "code",
      "metadata": {
        "id": "t-h84hVFxmpc",
        "colab_type": "code",
        "colab": {}
      },
      "source": [
        "from google.colab import files\n",
        "\n",
        "uploaded = files.upload()\n",
        "\n",
        "for fn in uploaded.keys():\n",
        "  print('User uploaded file \"{name}\" with length {length} bytes'.format(\n",
        "      name=fn, length=len(uploaded[fn])))"
      ],
      "execution_count": 0,
      "outputs": []
    },
    {
      "cell_type": "code",
      "metadata": {
        "id": "XXLS_O2RyJjo",
        "colab_type": "code",
        "colab": {}
      },
      "source": [
        "from google.colab import drive\n",
        "drive.mount('/content/drive')"
      ],
      "execution_count": 0,
      "outputs": []
    },
    {
      "cell_type": "code",
      "metadata": {
        "id": "bWr1ocyxx8yh",
        "colab_type": "code",
        "colab": {}
      },
      "source": [
        "import pandas as pd\n",
        "import gzip\n",
        "\n",
        "def parse(path):\n",
        "  g = gzip.open(path, 'rb')\n",
        "  for l in g:\n",
        "    yield eval(l)\n",
        "\n",
        "def getDF(path):\n",
        "  i = 0\n",
        "  df = {}\n",
        "  for d in parse(path):\n",
        "    df[i] = d\n",
        "    i += 1\n",
        "  return pd.DataFrame.from_dict(df, orient='index')\n",
        "\n"
      ],
      "execution_count": 0,
      "outputs": []
    },
    {
      "cell_type": "code",
      "metadata": {
        "id": "v7g3cjyCnKUz",
        "colab_type": "code",
        "outputId": "0e48bba6-d323-48a4-8f15-6f5a4c4617b9",
        "colab": {
          "base_uri": "https://localhost:8080/",
          "height": 34
        }
      },
      "source": [
        "df = pd.read_csv('/content/drive/My Drive/reviews_samples_amazonSummary.csv')\n",
        "\n",
        "df.head()\n",
        "df.shape"
      ],
      "execution_count": 6,
      "outputs": [
        {
          "output_type": "execute_result",
          "data": {
            "text/plain": [
              "(993490, 10)"
            ]
          },
          "metadata": {
            "tags": []
          },
          "execution_count": 6
        }
      ]
    },
    {
      "cell_type": "code",
      "metadata": {
        "id": "r_iFs7e6nvjI",
        "colab_type": "code",
        "outputId": "a1e403e1-f4fd-4a5d-c5bd-d0b02ec3d531",
        "colab": {
          "base_uri": "https://localhost:8080/",
          "height": 306
        }
      },
      "source": [
        "df.head()"
      ],
      "execution_count": 7,
      "outputs": [
        {
          "output_type": "execute_result",
          "data": {
            "text/html": [
              "<div>\n",
              "<style scoped>\n",
              "    .dataframe tbody tr th:only-of-type {\n",
              "        vertical-align: middle;\n",
              "    }\n",
              "\n",
              "    .dataframe tbody tr th {\n",
              "        vertical-align: top;\n",
              "    }\n",
              "\n",
              "    .dataframe thead th {\n",
              "        text-align: right;\n",
              "    }\n",
              "</style>\n",
              "<table border=\"1\" class=\"dataframe\">\n",
              "  <thead>\n",
              "    <tr style=\"text-align: right;\">\n",
              "      <th></th>\n",
              "      <th>Unnamed: 0</th>\n",
              "      <th>reviewerID</th>\n",
              "      <th>asin</th>\n",
              "      <th>reviewerName</th>\n",
              "      <th>helpful</th>\n",
              "      <th>reviewText</th>\n",
              "      <th>overall</th>\n",
              "      <th>summary</th>\n",
              "      <th>unixReviewTime</th>\n",
              "      <th>reviewTime</th>\n",
              "    </tr>\n",
              "  </thead>\n",
              "  <tbody>\n",
              "    <tr>\n",
              "      <th>0</th>\n",
              "      <td>0</td>\n",
              "      <td>A2VNYWOPJ13AFP</td>\n",
              "      <td>0981850006</td>\n",
              "      <td>Amazon Customer \"carringt0n\"</td>\n",
              "      <td>[6, 7]</td>\n",
              "      <td>This was a gift for my other husband.  He's ma...</td>\n",
              "      <td>5.0</td>\n",
              "      <td>Delish</td>\n",
              "      <td>1259798400</td>\n",
              "      <td>12 3, 2009</td>\n",
              "    </tr>\n",
              "    <tr>\n",
              "      <th>1</th>\n",
              "      <td>1</td>\n",
              "      <td>A20DWVV8HML3AW</td>\n",
              "      <td>0981850006</td>\n",
              "      <td>Cyndy</td>\n",
              "      <td>[0, 0]</td>\n",
              "      <td>My husband rarely asks for anything specific, ...</td>\n",
              "      <td>5.0</td>\n",
              "      <td>Just what my husband wanted</td>\n",
              "      <td>1371081600</td>\n",
              "      <td>06 13, 2013</td>\n",
              "    </tr>\n",
              "    <tr>\n",
              "      <th>2</th>\n",
              "      <td>2</td>\n",
              "      <td>A3RVP3YBYYOPRH</td>\n",
              "      <td>0981850006</td>\n",
              "      <td>John Warren</td>\n",
              "      <td>[9, 11]</td>\n",
              "      <td>This guy knows his stuff. I love the seriously...</td>\n",
              "      <td>5.0</td>\n",
              "      <td>Love This Show!</td>\n",
              "      <td>1257984000</td>\n",
              "      <td>11 12, 2009</td>\n",
              "    </tr>\n",
              "    <tr>\n",
              "      <th>3</th>\n",
              "      <td>3</td>\n",
              "      <td>A28XY55TP3Q90O</td>\n",
              "      <td>0981850006</td>\n",
              "      <td>JSG \"Lover of Learning\"</td>\n",
              "      <td>[1, 1]</td>\n",
              "      <td>THIS CAN BE FOUND AT: [...] FOR $19.99, also a...</td>\n",
              "      <td>5.0</td>\n",
              "      <td>BUY ELSEWHERE, TOO EXPENSIVE</td>\n",
              "      <td>1314144000</td>\n",
              "      <td>08 24, 2011</td>\n",
              "    </tr>\n",
              "    <tr>\n",
              "      <th>4</th>\n",
              "      <td>4</td>\n",
              "      <td>A3VZW1BGUQO0V3</td>\n",
              "      <td>0981850006</td>\n",
              "      <td>Marc G. Belisle \"Allswell2001\"</td>\n",
              "      <td>[2, 2]</td>\n",
              "      <td>Quite good particularly for inspiration (DVD g...</td>\n",
              "      <td>5.0</td>\n",
              "      <td>Quite good but I *much* prefer the cookbooks</td>\n",
              "      <td>1308268800</td>\n",
              "      <td>06 17, 2011</td>\n",
              "    </tr>\n",
              "  </tbody>\n",
              "</table>\n",
              "</div>"
            ],
            "text/plain": [
              "   Unnamed: 0      reviewerID  ... unixReviewTime   reviewTime\n",
              "0           0  A2VNYWOPJ13AFP  ...     1259798400   12 3, 2009\n",
              "1           1  A20DWVV8HML3AW  ...     1371081600  06 13, 2013\n",
              "2           2  A3RVP3YBYYOPRH  ...     1257984000  11 12, 2009\n",
              "3           3  A28XY55TP3Q90O  ...     1314144000  08 24, 2011\n",
              "4           4  A3VZW1BGUQO0V3  ...     1308268800  06 17, 2011\n",
              "\n",
              "[5 rows x 10 columns]"
            ]
          },
          "metadata": {
            "tags": []
          },
          "execution_count": 7
        }
      ]
    },
    {
      "cell_type": "code",
      "metadata": {
        "id": "Wb4wwLrKzBha",
        "colab_type": "code",
        "colab": {}
      },
      "source": [
        "df.to_csv('reviews_samples_amazonSummary.csv')\n",
        "!cp reviews_samples_amazonSummary.csv drive/My\\ Drive/"
      ],
      "execution_count": 0,
      "outputs": []
    },
    {
      "cell_type": "code",
      "metadata": {
        "id": "KvMWa86NxZKx",
        "colab_type": "code",
        "colab": {}
      },
      "source": [
        "from itertools import islice\n",
        "fileContents = defaultdict(list)\n",
        "with open('/content/drive/My Drive/reviews_samples_amazonSummary.csv', 'r') as f:\n",
        "    reader = csv.DictReader(f)\n",
        "    for row in islice(reader, 50000): # read a row as {column1: value1, column2: value2,...}\n",
        "        for (k,v) in row.items(): # go over each column name and value \n",
        "            fileContents[k].append(v) # append the value into the appropriate list"
      ],
      "execution_count": 0,
      "outputs": []
    },
    {
      "cell_type": "code",
      "metadata": {
        "id": "QOY3XOuizQ4P",
        "colab_type": "code",
        "outputId": "398d35d6-2703-4536-a4af-920cd42e2be5",
        "colab": {
          "base_uri": "https://localhost:8080/",
          "height": 34
        }
      },
      "source": [
        "reviews = fileContents['summary']\n",
        "type(reviews)"
      ],
      "execution_count": 9,
      "outputs": [
        {
          "output_type": "execute_result",
          "data": {
            "text/plain": [
              "list"
            ]
          },
          "metadata": {
            "tags": []
          },
          "execution_count": 9
        }
      ]
    },
    {
      "cell_type": "code",
      "metadata": {
        "id": "N3WaVQ6nzRqD",
        "colab_type": "code",
        "colab": {}
      },
      "source": [
        "reviews = [re.sub(r'[^\\w\\s]','',str(item)) for item in reviews]"
      ],
      "execution_count": 0,
      "outputs": []
    },
    {
      "cell_type": "code",
      "metadata": {
        "id": "Rt0TxUR6zV2J",
        "colab_type": "code",
        "colab": {}
      },
      "source": [
        "stopwords = set(stopwords.words('english'))\n",
        "#stopwords.extend(['ok','doesnt','try','go','get','make','dont','2','first','second','place',\n",
        "                  #'would','really','like','great','came','got'])"
      ],
      "execution_count": 0,
      "outputs": []
    },
    {
      "cell_type": "code",
      "metadata": {
        "id": "tVPxXhaJzY8x",
        "colab_type": "code",
        "colab": {}
      },
      "source": [
        "texts = [[word for word in document.lower().split() if word not in stopwords] for document in reviews]"
      ],
      "execution_count": 0,
      "outputs": []
    },
    {
      "cell_type": "markdown",
      "metadata": {
        "id": "M_HffazQzmGg",
        "colab_type": "text"
      },
      "source": [
        "##LDA Implementation"
      ]
    },
    {
      "cell_type": "code",
      "metadata": {
        "id": "eNPo-zuQzgVh",
        "colab_type": "code",
        "colab": {}
      },
      "source": [
        "frequency = defaultdict(int)\n",
        "for text in texts:\n",
        "    for token in text:\n",
        "         frequency[token] += 1\n",
        "\n",
        "texts = [[token for token in text if frequency[token] > 1] for text in texts]"
      ],
      "execution_count": 0,
      "outputs": []
    },
    {
      "cell_type": "code",
      "metadata": {
        "id": "_Elrzu02zrR1",
        "colab_type": "code",
        "colab": {}
      },
      "source": [
        "dictionary = corpora.Dictionary(texts)"
      ],
      "execution_count": 0,
      "outputs": []
    },
    {
      "cell_type": "code",
      "metadata": {
        "id": "OVg10O44zvcv",
        "colab_type": "code",
        "outputId": "2be151ea-158b-4ab7-d75b-a7f8880350e8",
        "colab": {
          "base_uri": "https://localhost:8080/",
          "height": 34
        }
      },
      "source": [
        "print(dictionary)"
      ],
      "execution_count": 15,
      "outputs": [
        {
          "output_type": "stream",
          "text": [
            "Dictionary(5335 unique tokens: ['husband', 'wanted', 'love', 'show', 'buy']...)\n"
          ],
          "name": "stdout"
        }
      ]
    },
    {
      "cell_type": "code",
      "metadata": {
        "id": "0TbHGM_mSYr_",
        "colab_type": "code",
        "colab": {}
      },
      "source": [
        "#df.dtypes\n",
        "summary= df['summary'].astype(str).copy() #Need the column as a string\n",
        "summary= summary.apply(lambda x: x.split())"
      ],
      "execution_count": 0,
      "outputs": []
    },
    {
      "cell_type": "code",
      "metadata": {
        "id": "_OIK9k2pzyUu",
        "colab_type": "code",
        "colab": {}
      },
      "source": [
        "# So what does the dictionary look like : Dictionary(5335 unique tokens: ['husband', 'wanted', 'love', 'show', 'buy']...)"
      ],
      "execution_count": 0,
      "outputs": []
    },
    {
      "cell_type": "code",
      "metadata": {
        "id": "cP_jE_H0z2mz",
        "colab_type": "code",
        "colab": {}
      },
      "source": [
        "corpus = [dictionary.doc2bow(text) for text in texts]"
      ],
      "execution_count": 0,
      "outputs": []
    },
    {
      "cell_type": "code",
      "metadata": {
        "id": "xQ27HYHRz5_s",
        "colab_type": "code",
        "colab": {}
      },
      "source": [
        "#DO NOT RUN THIS ONE. It is for Version 1\n",
        "#NUM_TOPICS = 10 # This is an assumption. Needs to be tuned. \n",
        "#ldamodel = LdaModel(corpus, num_topics = NUM_TOPICS, id2word=dictionary, passes=20)#This might take some time."
      ],
      "execution_count": 0,
      "outputs": []
    },
    {
      "cell_type": "code",
      "metadata": {
        "id": "ZsXLEP7ENfEQ",
        "colab_type": "code",
        "colab": {}
      },
      "source": [
        "#trying to log the model fitting and saving it\n",
        "import logging\n",
        "logging.basicConfig(filename='lda_model.log', format='%(asctime)s : %(levelname)s : %(message)s', level=logging.INFO)\n",
        "import warnings\n",
        "import gensim\n",
        "with warnings.catch_warnings():\n",
        "    warnings.simplefilter('ignore')\n",
        "    lda_train4 = gensim.models.ldamulticore.LdaMulticore(\n",
        "                           corpus=corpus,\n",
        "                           num_topics=20,\n",
        "                           id2word=dictionary,\n",
        "                           chunksize=100,\n",
        "                           workers=7, # Num. Processing Cores - 1\n",
        "                           passes=50,\n",
        "                           eval_every = 1,\n",
        "                           per_word_topics=True)\n",
        "    lda_train4.save('lda_train4.model')"
      ],
      "execution_count": 0,
      "outputs": []
    },
    {
      "cell_type": "code",
      "metadata": {
        "id": "EF4uBk8tNf-u",
        "colab_type": "code",
        "outputId": "3d7e4f7a-4173-4e44-c0c9-3e38fcba906c",
        "colab": {
          "base_uri": "https://localhost:8080/",
          "height": 34
        }
      },
      "source": [
        "coherence_model_lda = CoherenceModel(model=lda_train4, texts=summary, dictionary=dictionary, coherence='c_v')\n",
        "coherence_lda = coherence_model_lda.get_coherence()\n",
        "coherence_lda"
      ],
      "execution_count": 22,
      "outputs": [
        {
          "output_type": "execute_result",
          "data": {
            "text/plain": [
              "0.46935824437412244"
            ]
          },
          "metadata": {
            "tags": []
          },
          "execution_count": 22
        }
      ]
    },
    {
      "cell_type": "code",
      "metadata": {
        "id": "R_DX0L_G0BmD",
        "colab_type": "code",
        "outputId": "0dc8bbad-eb89-40f9-92c1-62d35f96688f",
        "colab": {
          "base_uri": "https://localhost:8080/",
          "height": 207
        }
      },
      "source": [
        "topics = lda_train4.show_topics()\n",
        "for topic in topics:\n",
        "    print(topic)"
      ],
      "execution_count": 23,
      "outputs": [
        {
          "output_type": "stream",
          "text": [
            "(2, '0.051*\"small\" + 0.048*\"years\" + 0.045*\"get\" + 0.036*\"still\" + 0.033*\"set\" + 0.032*\"design\" + 0.030*\"one\" + 0.023*\"yard\" + 0.023*\"broke\" + 0.022*\"old\"')\n",
            "(0, '0.106*\"garden\" + 0.057*\"worth\" + 0.044*\"happy\" + 0.028*\"cart\" + 0.026*\"powerful\" + 0.026*\"pleased\" + 0.020*\"stool\" + 0.020*\"shovel\" + 0.020*\"life\" + 0.019*\"money\"')\n",
            "(11, '0.171*\"nice\" + 0.097*\"job\" + 0.075*\"axe\" + 0.066*\"really\" + 0.035*\"right\" + 0.030*\"solid\" + 0.027*\"working\" + 0.021*\"gets\" + 0.019*\"done\" + 0.018*\"put\"')\n",
            "(6, '0.084*\"sprayer\" + 0.056*\"metal\" + 0.043*\"much\" + 0.036*\"need\" + 0.034*\"gilmour\" + 0.026*\"chain\" + 0.018*\"spray\" + 0.018*\"hammock\" + 0.016*\"satisfied\" + 0.016*\"better\"')\n",
            "(13, '0.168*\"best\" + 0.118*\"grill\" + 0.065*\"ever\" + 0.057*\"weber\" + 0.026*\"box\" + 0.023*\"ive\" + 0.022*\"hummingbird\" + 0.022*\"used\" + 0.020*\"charcoal\" + 0.020*\"bag\"')\n",
            "(16, '0.122*\"pool\" + 0.105*\"like\" + 0.077*\"awesome\" + 0.039*\"fine\" + 0.038*\"pump\" + 0.027*\"service\" + 0.022*\"customer\" + 0.022*\"hunter\" + 0.020*\"bounty\" + 0.019*\"saw\"')\n",
            "(18, '0.259*\"works\" + 0.133*\"great\" + 0.040*\"fun\" + 0.030*\"splitting\" + 0.029*\"grass\" + 0.027*\"machine\" + 0.025*\"new\" + 0.024*\"power\" + 0.023*\"bought\" + 0.021*\"enough\"')\n",
            "(10, '0.149*\"well\" + 0.075*\"works\" + 0.053*\"time\" + 0.052*\"made\" + 0.041*\"first\" + 0.029*\"super\" + 0.027*\"patio\" + 0.022*\"even\" + 0.021*\"got\" + 0.021*\"5\"')\n",
            "(15, '0.052*\"ok\" + 0.051*\"blower\" + 0.034*\"fits\" + 0.027*\"piece\" + 0.025*\"2\" + 0.019*\"flies\" + 0.018*\"less\" + 0.018*\"mr\" + 0.017*\"junk\" + 0.016*\"sure\"')\n",
            "(19, '0.462*\"great\" + 0.054*\"money\" + 0.050*\"tool\" + 0.034*\"grill\" + 0.033*\"little\" + 0.032*\"value\" + 0.032*\"detector\" + 0.023*\"waste\" + 0.018*\"wonderful\" + 0.018*\"plastic\"')\n"
          ],
          "name": "stdout"
        }
      ]
    },
    {
      "cell_type": "code",
      "metadata": {
        "id": "jaARF_SN0FCw",
        "colab_type": "code",
        "outputId": "cf98fedc-2cbb-44f2-c6c3-2a9d7d733f83",
        "colab": {
          "base_uri": "https://localhost:8080/",
          "height": 396
        }
      },
      "source": [
        "word_dict = {};\n",
        "for i in range(lda_train4.num_topics):\n",
        "    words = lda_train4.show_topic(i, topn = 10)\n",
        "    word_dict['Topic # ' + '{:02d}'.format(i+1)] = [i[0] for i in words]\n",
        "pd.DataFrame(word_dict)"
      ],
      "execution_count": 25,
      "outputs": [
        {
          "output_type": "execute_result",
          "data": {
            "text/html": [
              "<div>\n",
              "<style scoped>\n",
              "    .dataframe tbody tr th:only-of-type {\n",
              "        vertical-align: middle;\n",
              "    }\n",
              "\n",
              "    .dataframe tbody tr th {\n",
              "        vertical-align: top;\n",
              "    }\n",
              "\n",
              "    .dataframe thead th {\n",
              "        text-align: right;\n",
              "    }\n",
              "</style>\n",
              "<table border=\"1\" class=\"dataframe\">\n",
              "  <thead>\n",
              "    <tr style=\"text-align: right;\">\n",
              "      <th></th>\n",
              "      <th>Topic # 01</th>\n",
              "      <th>Topic # 02</th>\n",
              "      <th>Topic # 03</th>\n",
              "      <th>Topic # 04</th>\n",
              "      <th>Topic # 05</th>\n",
              "      <th>Topic # 06</th>\n",
              "      <th>Topic # 07</th>\n",
              "      <th>Topic # 08</th>\n",
              "      <th>Topic # 09</th>\n",
              "      <th>Topic # 10</th>\n",
              "      <th>Topic # 11</th>\n",
              "      <th>Topic # 12</th>\n",
              "      <th>Topic # 13</th>\n",
              "      <th>Topic # 14</th>\n",
              "      <th>Topic # 15</th>\n",
              "      <th>Topic # 16</th>\n",
              "      <th>Topic # 17</th>\n",
              "      <th>Topic # 18</th>\n",
              "      <th>Topic # 19</th>\n",
              "      <th>Topic # 20</th>\n",
              "    </tr>\n",
              "  </thead>\n",
              "  <tbody>\n",
              "    <tr>\n",
              "      <th>0</th>\n",
              "      <td>garden</td>\n",
              "      <td>good</td>\n",
              "      <td>small</td>\n",
              "      <td>product</td>\n",
              "      <td>mower</td>\n",
              "      <td>love</td>\n",
              "      <td>sprayer</td>\n",
              "      <td>easy</td>\n",
              "      <td>excellent</td>\n",
              "      <td>trap</td>\n",
              "      <td>well</td>\n",
              "      <td>nice</td>\n",
              "      <td>buy</td>\n",
              "      <td>best</td>\n",
              "      <td>better</td>\n",
              "      <td>ok</td>\n",
              "      <td>pool</td>\n",
              "      <td>stars</td>\n",
              "      <td>works</td>\n",
              "      <td>great</td>\n",
              "    </tr>\n",
              "    <tr>\n",
              "      <th>1</th>\n",
              "      <td>worth</td>\n",
              "      <td>perfect</td>\n",
              "      <td>years</td>\n",
              "      <td>great</td>\n",
              "      <td>lawn</td>\n",
              "      <td>work</td>\n",
              "      <td>metal</td>\n",
              "      <td>use</td>\n",
              "      <td>cover</td>\n",
              "      <td>replacement</td>\n",
              "      <td>works</td>\n",
              "      <td>job</td>\n",
              "      <td>electric</td>\n",
              "      <td>grill</td>\n",
              "      <td>poor</td>\n",
              "      <td>blower</td>\n",
              "      <td>like</td>\n",
              "      <td>bird</td>\n",
              "      <td>great</td>\n",
              "      <td>money</td>\n",
              "    </tr>\n",
              "    <tr>\n",
              "      <th>2</th>\n",
              "      <td>happy</td>\n",
              "      <td>light</td>\n",
              "      <td>get</td>\n",
              "      <td>price</td>\n",
              "      <td>hose</td>\n",
              "      <td>worked</td>\n",
              "      <td>much</td>\n",
              "      <td>fiskars</td>\n",
              "      <td>feeder</td>\n",
              "      <td>purchase</td>\n",
              "      <td>time</td>\n",
              "      <td>axe</td>\n",
              "      <td>dont</td>\n",
              "      <td>ever</td>\n",
              "      <td>expected</td>\n",
              "      <td>fits</td>\n",
              "      <td>awesome</td>\n",
              "      <td>feeder</td>\n",
              "      <td>fun</td>\n",
              "      <td>tool</td>\n",
              "    </tr>\n",
              "    <tr>\n",
              "      <th>3</th>\n",
              "      <td>cart</td>\n",
              "      <td>far</td>\n",
              "      <td>still</td>\n",
              "      <td>quality</td>\n",
              "      <td>handy</td>\n",
              "      <td>toro</td>\n",
              "      <td>need</td>\n",
              "      <td>disappointed</td>\n",
              "      <td>snow</td>\n",
              "      <td>needs</td>\n",
              "      <td>made</td>\n",
              "      <td>really</td>\n",
              "      <td>gas</td>\n",
              "      <td>weber</td>\n",
              "      <td>black</td>\n",
              "      <td>piece</td>\n",
              "      <td>fine</td>\n",
              "      <td>bad</td>\n",
              "      <td>splitting</td>\n",
              "      <td>grill</td>\n",
              "    </tr>\n",
              "    <tr>\n",
              "      <th>4</th>\n",
              "      <td>powerful</td>\n",
              "      <td>fit</td>\n",
              "      <td>set</td>\n",
              "      <td>birds</td>\n",
              "      <td>last</td>\n",
              "      <td>one</td>\n",
              "      <td>gilmour</td>\n",
              "      <td>cant</td>\n",
              "      <td>little</td>\n",
              "      <td>mole</td>\n",
              "      <td>first</td>\n",
              "      <td>right</td>\n",
              "      <td>cheap</td>\n",
              "      <td>box</td>\n",
              "      <td>decker</td>\n",
              "      <td>2</td>\n",
              "      <td>pump</td>\n",
              "      <td>five</td>\n",
              "      <td>grass</td>\n",
              "      <td>little</td>\n",
              "    </tr>\n",
              "    <tr>\n",
              "      <th>5</th>\n",
              "      <td>pleased</td>\n",
              "      <td>big</td>\n",
              "      <td>design</td>\n",
              "      <td>smoker</td>\n",
              "      <td>sprinkler</td>\n",
              "      <td>doesnt</td>\n",
              "      <td>chain</td>\n",
              "      <td>would</td>\n",
              "      <td>sturdy</td>\n",
              "      <td>squirrels</td>\n",
              "      <td>super</td>\n",
              "      <td>solid</td>\n",
              "      <td>advertised</td>\n",
              "      <td>ive</td>\n",
              "      <td>needed</td>\n",
              "      <td>flies</td>\n",
              "      <td>service</td>\n",
              "      <td>review</td>\n",
              "      <td>machine</td>\n",
              "      <td>value</td>\n",
              "    </tr>\n",
              "    <tr>\n",
              "      <th>6</th>\n",
              "      <td>stool</td>\n",
              "      <td>pretty</td>\n",
              "      <td>one</td>\n",
              "      <td>flimsy</td>\n",
              "      <td>long</td>\n",
              "      <td>gift</td>\n",
              "      <td>spray</td>\n",
              "      <td>storage</td>\n",
              "      <td>exactly</td>\n",
              "      <td>deck</td>\n",
              "      <td>patio</td>\n",
              "      <td>working</td>\n",
              "      <td>water</td>\n",
              "      <td>hummingbird</td>\n",
              "      <td>thing</td>\n",
              "      <td>less</td>\n",
              "      <td>customer</td>\n",
              "      <td>fantastic</td>\n",
              "      <td>new</td>\n",
              "      <td>detector</td>\n",
              "    </tr>\n",
              "    <tr>\n",
              "      <th>7</th>\n",
              "      <td>shovel</td>\n",
              "      <td>heater</td>\n",
              "      <td>yard</td>\n",
              "      <td>useless</td>\n",
              "      <td>durable</td>\n",
              "      <td>didnt</td>\n",
              "      <td>hammock</td>\n",
              "      <td>okay</td>\n",
              "      <td>heavy</td>\n",
              "      <td>fly</td>\n",
              "      <td>even</td>\n",
              "      <td>gets</td>\n",
              "      <td>intex</td>\n",
              "      <td>used</td>\n",
              "      <td>junk</td>\n",
              "      <td>mr</td>\n",
              "      <td>hunter</td>\n",
              "      <td>back</td>\n",
              "      <td>power</td>\n",
              "      <td>waste</td>\n",
              "    </tr>\n",
              "    <tr>\n",
              "      <th>8</th>\n",
              "      <td>life</td>\n",
              "      <td>thrower</td>\n",
              "      <td>broke</td>\n",
              "      <td>bit</td>\n",
              "      <td>useful</td>\n",
              "      <td>size</td>\n",
              "      <td>satisfied</td>\n",
              "      <td>1800</td>\n",
              "      <td>beware</td>\n",
              "      <td>never</td>\n",
              "      <td>got</td>\n",
              "      <td>done</td>\n",
              "      <td>trimmer</td>\n",
              "      <td>charcoal</td>\n",
              "      <td>amazing</td>\n",
              "      <td>junk</td>\n",
              "      <td>bounty</td>\n",
              "      <td>squirrel</td>\n",
              "      <td>bought</td>\n",
              "      <td>wonderful</td>\n",
              "    </tr>\n",
              "    <tr>\n",
              "      <th>9</th>\n",
              "      <td>money</td>\n",
              "      <td>must</td>\n",
              "      <td>old</td>\n",
              "      <td>loved</td>\n",
              "      <td>reel</td>\n",
              "      <td>3</td>\n",
              "      <td>better</td>\n",
              "      <td>chimney</td>\n",
              "      <td>gardening</td>\n",
              "      <td>pruner</td>\n",
              "      <td>5</td>\n",
              "      <td>put</td>\n",
              "      <td>wow</td>\n",
              "      <td>bag</td>\n",
              "      <td>idea</td>\n",
              "      <td>sure</td>\n",
              "      <td>saw</td>\n",
              "      <td>problem</td>\n",
              "      <td>enough</td>\n",
              "      <td>plastic</td>\n",
              "    </tr>\n",
              "  </tbody>\n",
              "</table>\n",
              "</div>"
            ],
            "text/plain": [
              "  Topic # 01 Topic # 02 Topic # 03  ... Topic # 18 Topic # 19 Topic # 20\n",
              "0     garden       good      small  ...      stars      works      great\n",
              "1      worth    perfect      years  ...       bird      great      money\n",
              "2      happy      light        get  ...     feeder        fun       tool\n",
              "3       cart        far      still  ...        bad  splitting      grill\n",
              "4   powerful        fit        set  ...       five      grass     little\n",
              "5    pleased        big     design  ...     review    machine      value\n",
              "6      stool     pretty        one  ...  fantastic        new   detector\n",
              "7     shovel     heater       yard  ...       back      power      waste\n",
              "8       life    thrower      broke  ...   squirrel     bought  wonderful\n",
              "9      money       must        old  ...    problem     enough    plastic\n",
              "\n",
              "[10 rows x 20 columns]"
            ]
          },
          "metadata": {
            "tags": []
          },
          "execution_count": 25
        }
      ]
    },
    {
      "cell_type": "code",
      "metadata": {
        "id": "I_AfehIz0IhX",
        "colab_type": "code",
        "outputId": "a58dbd4c-e0ef-48c0-8ed0-d8f33abd5fc1",
        "colab": {
          "base_uri": "https://localhost:8080/",
          "height": 997
        }
      },
      "source": [
        "lda_display = pyLDAvis.gensim.prepare(lda_train4, corpus, dictionary, sort_topics=False)\n",
        "pyLDAvis.display(lda_display)"
      ],
      "execution_count": 26,
      "outputs": [
        {
          "output_type": "stream",
          "text": [
            "/usr/local/lib/python3.6/dist-packages/pyLDAvis/_prepare.py:257: FutureWarning: Sorting because non-concatenation axis is not aligned. A future version\n",
            "of pandas will change to not sort by default.\n",
            "\n",
            "To accept the future behavior, pass 'sort=False'.\n",
            "\n",
            "To retain the current behavior and silence the warning, pass 'sort=True'.\n",
            "\n",
            "  return pd.concat([default_term_info] + list(topic_dfs))\n"
          ],
          "name": "stderr"
        },
        {
          "output_type": "execute_result",
          "data": {
            "text/html": [
              "\n",
              "<link rel=\"stylesheet\" type=\"text/css\" href=\"https://cdn.rawgit.com/bmabey/pyLDAvis/files/ldavis.v1.0.0.css\">\n",
              "\n",
              "\n",
              "<div id=\"ldavis_el1251404660961462564541964878\"></div>\n",
              "<script type=\"text/javascript\">\n",
              "\n",
              "var ldavis_el1251404660961462564541964878_data = {\"mdsDat\": {\"x\": [-0.04231177430275411, -0.06377943360008818, -0.06790791339337374, 0.30294610533842053, -0.06783492875849895, -0.08106524628443734, -0.06898068197648287, -0.037366466803179066, -0.03201228671682119, -0.06914153532938876, 0.029036567489941333, -0.043219489609718754, -0.07599702275387973, -0.0009042443152399486, -0.08516172260427321, -0.08818767245829427, -0.0685843982506652, -0.07527595148255625, 0.29214530380637754, 0.3436027920049114], \"y\": [-0.07182691690089234, 0.03524735907916824, 0.19503022654610827, -0.035483282099799916, -0.026227464751427423, 0.18584649459890634, -0.06469092987492212, -0.038501003212105485, -0.22832696188723997, -0.044321210094873935, 0.19127769866152128, 0.006101977316167842, 0.08539983690696135, -0.057395915359493795, -0.07560748712048426, 0.10456551303086319, -0.026242804138061012, -0.17637792987200465, 0.10111036956583387, -0.05957757039422382], \"topics\": [1, 2, 3, 4, 5, 6, 7, 8, 9, 10, 11, 12, 13, 14, 15, 16, 17, 18, 19, 20], \"cluster\": [1, 1, 1, 1, 1, 1, 1, 1, 1, 1, 1, 1, 1, 1, 1, 1, 1, 1, 1, 1], \"Freq\": [4.0157880783081055, 6.030729293823242, 5.533496856689453, 5.08768367767334, 5.892042636871338, 4.802290439605713, 4.258536338806152, 4.5702128410339355, 4.801502704620361, 4.705133438110352, 4.944487571716309, 4.004827976226807, 5.119592666625977, 6.3565850257873535, 4.44746732711792, 4.199307441711426, 4.440901756286621, 4.571927070617676, 5.632029056549072, 6.585455894470215]}, \"tinfo\": {\"Category\": [\"Default\", \"Default\", \"Default\", \"Default\", \"Default\", \"Default\", \"Default\", \"Default\", \"Default\", \"Default\", \"Default\", \"Default\", \"Default\", \"Default\", \"Default\", \"Default\", \"Default\", \"Default\", \"Default\", \"Default\", \"Default\", \"Default\", \"Default\", \"Default\", \"Default\", \"Default\", \"Default\", \"Default\", \"Default\", \"Default\", \"Topic1\", \"Topic1\", \"Topic1\", \"Topic1\", \"Topic1\", \"Topic1\", \"Topic1\", \"Topic1\", \"Topic1\", \"Topic1\", \"Topic1\", \"Topic1\", \"Topic1\", \"Topic1\", \"Topic1\", \"Topic1\", \"Topic1\", \"Topic1\", \"Topic1\", \"Topic1\", \"Topic1\", \"Topic1\", \"Topic1\", \"Topic1\", \"Topic1\", \"Topic1\", \"Topic1\", \"Topic1\", \"Topic1\", \"Topic1\", \"Topic1\", \"Topic1\", \"Topic2\", \"Topic2\", \"Topic2\", \"Topic2\", \"Topic2\", \"Topic2\", \"Topic2\", \"Topic2\", \"Topic2\", \"Topic2\", \"Topic2\", \"Topic2\", \"Topic2\", \"Topic2\", \"Topic2\", \"Topic2\", \"Topic2\", \"Topic2\", \"Topic2\", \"Topic2\", \"Topic2\", \"Topic2\", \"Topic2\", \"Topic2\", \"Topic2\", \"Topic2\", \"Topic2\", \"Topic2\", \"Topic2\", \"Topic2\", \"Topic2\", \"Topic2\", \"Topic3\", \"Topic3\", \"Topic3\", \"Topic3\", \"Topic3\", \"Topic3\", \"Topic3\", \"Topic3\", \"Topic3\", \"Topic3\", \"Topic3\", \"Topic3\", \"Topic3\", \"Topic3\", \"Topic3\", \"Topic3\", \"Topic3\", \"Topic3\", \"Topic3\", \"Topic3\", \"Topic3\", \"Topic3\", \"Topic3\", \"Topic3\", \"Topic3\", \"Topic3\", \"Topic3\", \"Topic3\", \"Topic3\", \"Topic3\", \"Topic3\", \"Topic3\", \"Topic3\", \"Topic3\", \"Topic4\", \"Topic4\", \"Topic4\", \"Topic4\", \"Topic4\", \"Topic4\", \"Topic4\", \"Topic4\", \"Topic4\", \"Topic4\", \"Topic4\", \"Topic4\", \"Topic4\", \"Topic4\", \"Topic4\", \"Topic4\", \"Topic4\", \"Topic4\", \"Topic4\", \"Topic4\", \"Topic4\", \"Topic4\", \"Topic4\", \"Topic4\", \"Topic4\", \"Topic4\", \"Topic4\", \"Topic4\", \"Topic4\", \"Topic4\", \"Topic4\", \"Topic5\", \"Topic5\", \"Topic5\", \"Topic5\", \"Topic5\", \"Topic5\", \"Topic5\", \"Topic5\", \"Topic5\", \"Topic5\", \"Topic5\", \"Topic5\", \"Topic5\", \"Topic5\", \"Topic5\", \"Topic5\", \"Topic5\", \"Topic5\", \"Topic5\", \"Topic5\", \"Topic5\", \"Topic5\", \"Topic5\", \"Topic5\", \"Topic5\", \"Topic5\", \"Topic5\", \"Topic5\", \"Topic5\", \"Topic5\", \"Topic5\", \"Topic5\", \"Topic5\", \"Topic5\", \"Topic6\", \"Topic6\", \"Topic6\", \"Topic6\", \"Topic6\", \"Topic6\", \"Topic6\", \"Topic6\", \"Topic6\", \"Topic6\", \"Topic6\", \"Topic6\", \"Topic6\", \"Topic6\", \"Topic6\", \"Topic6\", \"Topic6\", \"Topic6\", \"Topic6\", \"Topic6\", \"Topic6\", \"Topic6\", \"Topic6\", \"Topic6\", \"Topic6\", \"Topic6\", \"Topic6\", \"Topic6\", \"Topic6\", \"Topic6\", \"Topic6\", \"Topic6\", \"Topic7\", \"Topic7\", \"Topic7\", \"Topic7\", \"Topic7\", \"Topic7\", \"Topic7\", \"Topic7\", \"Topic7\", \"Topic7\", \"Topic7\", \"Topic7\", \"Topic7\", \"Topic7\", \"Topic7\", \"Topic7\", \"Topic7\", \"Topic7\", \"Topic7\", \"Topic7\", \"Topic7\", \"Topic7\", \"Topic7\", \"Topic7\", \"Topic7\", \"Topic7\", \"Topic7\", \"Topic7\", \"Topic7\", \"Topic7\", \"Topic7\", \"Topic7\", \"Topic8\", \"Topic8\", \"Topic8\", \"Topic8\", \"Topic8\", \"Topic8\", \"Topic8\", \"Topic8\", \"Topic8\", \"Topic8\", \"Topic8\", \"Topic8\", \"Topic8\", \"Topic8\", \"Topic8\", \"Topic8\", \"Topic8\", \"Topic8\", \"Topic8\", \"Topic8\", \"Topic8\", \"Topic8\", \"Topic8\", \"Topic8\", \"Topic8\", \"Topic8\", \"Topic8\", \"Topic8\", \"Topic8\", \"Topic8\", \"Topic8\", \"Topic8\", \"Topic8\", \"Topic9\", \"Topic9\", \"Topic9\", \"Topic9\", \"Topic9\", \"Topic9\", \"Topic9\", \"Topic9\", \"Topic9\", \"Topic9\", \"Topic9\", \"Topic9\", \"Topic9\", \"Topic9\", \"Topic9\", \"Topic9\", \"Topic9\", \"Topic9\", \"Topic9\", \"Topic9\", \"Topic9\", \"Topic9\", \"Topic9\", \"Topic9\", \"Topic9\", \"Topic9\", \"Topic9\", \"Topic9\", \"Topic9\", \"Topic9\", \"Topic9\", \"Topic9\", \"Topic10\", \"Topic10\", \"Topic10\", \"Topic10\", \"Topic10\", \"Topic10\", \"Topic10\", \"Topic10\", \"Topic10\", \"Topic10\", \"Topic10\", \"Topic10\", \"Topic10\", \"Topic10\", \"Topic10\", \"Topic10\", \"Topic10\", \"Topic10\", \"Topic10\", \"Topic10\", \"Topic10\", \"Topic10\", \"Topic10\", \"Topic10\", \"Topic10\", \"Topic10\", \"Topic10\", \"Topic10\", \"Topic10\", \"Topic10\", \"Topic11\", \"Topic11\", \"Topic11\", \"Topic11\", \"Topic11\", \"Topic11\", \"Topic11\", \"Topic11\", \"Topic11\", \"Topic11\", \"Topic11\", \"Topic11\", \"Topic11\", \"Topic11\", \"Topic11\", \"Topic11\", \"Topic11\", \"Topic11\", \"Topic11\", \"Topic11\", \"Topic11\", \"Topic11\", \"Topic11\", \"Topic11\", \"Topic11\", \"Topic11\", \"Topic11\", \"Topic11\", \"Topic11\", \"Topic11\", \"Topic11\", \"Topic11\", \"Topic11\", \"Topic11\", \"Topic11\", \"Topic12\", \"Topic12\", \"Topic12\", \"Topic12\", \"Topic12\", \"Topic12\", \"Topic12\", \"Topic12\", \"Topic12\", \"Topic12\", \"Topic12\", \"Topic12\", \"Topic12\", \"Topic12\", \"Topic12\", \"Topic12\", \"Topic12\", \"Topic12\", \"Topic12\", \"Topic12\", \"Topic12\", \"Topic12\", \"Topic12\", \"Topic12\", \"Topic12\", \"Topic12\", \"Topic12\", \"Topic12\", \"Topic12\", \"Topic12\", \"Topic12\", \"Topic13\", \"Topic13\", \"Topic13\", \"Topic13\", \"Topic13\", \"Topic13\", \"Topic13\", \"Topic13\", \"Topic13\", \"Topic13\", \"Topic13\", \"Topic13\", \"Topic13\", \"Topic13\", \"Topic13\", \"Topic13\", \"Topic13\", \"Topic13\", \"Topic13\", \"Topic13\", \"Topic13\", \"Topic13\", \"Topic13\", \"Topic13\", \"Topic13\", \"Topic13\", \"Topic13\", \"Topic13\", \"Topic13\", \"Topic13\", \"Topic13\", \"Topic13\", \"Topic14\", \"Topic14\", \"Topic14\", \"Topic14\", \"Topic14\", \"Topic14\", \"Topic14\", \"Topic14\", \"Topic14\", \"Topic14\", \"Topic14\", \"Topic14\", \"Topic14\", \"Topic14\", \"Topic14\", \"Topic14\", \"Topic14\", \"Topic14\", \"Topic14\", \"Topic14\", \"Topic14\", \"Topic14\", \"Topic14\", \"Topic14\", \"Topic14\", \"Topic14\", \"Topic14\", \"Topic14\", \"Topic14\", \"Topic14\", \"Topic14\", \"Topic14\", \"Topic14\", \"Topic15\", \"Topic15\", \"Topic15\", \"Topic15\", \"Topic15\", \"Topic15\", \"Topic15\", \"Topic15\", \"Topic15\", \"Topic15\", \"Topic15\", \"Topic15\", \"Topic15\", \"Topic15\", \"Topic15\", \"Topic15\", \"Topic15\", \"Topic15\", \"Topic15\", \"Topic15\", \"Topic15\", \"Topic15\", \"Topic15\", \"Topic15\", \"Topic15\", \"Topic15\", \"Topic15\", \"Topic15\", \"Topic15\", \"Topic15\", \"Topic15\", \"Topic15\", \"Topic15\", \"Topic15\", \"Topic15\", \"Topic15\", \"Topic16\", \"Topic16\", \"Topic16\", \"Topic16\", \"Topic16\", \"Topic16\", \"Topic16\", \"Topic16\", \"Topic16\", \"Topic16\", \"Topic16\", \"Topic16\", \"Topic16\", \"Topic16\", \"Topic16\", \"Topic16\", \"Topic16\", \"Topic16\", \"Topic16\", \"Topic16\", \"Topic16\", \"Topic16\", \"Topic16\", \"Topic16\", \"Topic16\", \"Topic16\", \"Topic16\", \"Topic16\", \"Topic16\", \"Topic16\", \"Topic16\", \"Topic16\", \"Topic16\", \"Topic16\", \"Topic16\", \"Topic17\", \"Topic17\", \"Topic17\", \"Topic17\", \"Topic17\", \"Topic17\", \"Topic17\", \"Topic17\", \"Topic17\", \"Topic17\", \"Topic17\", \"Topic17\", \"Topic17\", \"Topic17\", \"Topic17\", \"Topic17\", \"Topic17\", \"Topic17\", \"Topic17\", \"Topic17\", \"Topic17\", \"Topic17\", \"Topic17\", \"Topic17\", \"Topic17\", \"Topic17\", \"Topic17\", \"Topic17\", \"Topic17\", \"Topic17\", \"Topic17\", \"Topic18\", \"Topic18\", \"Topic18\", \"Topic18\", \"Topic18\", \"Topic18\", \"Topic18\", \"Topic18\", \"Topic18\", \"Topic18\", \"Topic18\", \"Topic18\", \"Topic18\", \"Topic18\", \"Topic18\", \"Topic18\", \"Topic18\", \"Topic18\", \"Topic18\", \"Topic18\", \"Topic18\", \"Topic18\", \"Topic18\", \"Topic18\", \"Topic18\", \"Topic18\", \"Topic18\", \"Topic18\", \"Topic18\", \"Topic18\", \"Topic18\", \"Topic18\", \"Topic18\", \"Topic18\", \"Topic19\", \"Topic19\", \"Topic19\", \"Topic19\", \"Topic19\", \"Topic19\", \"Topic19\", \"Topic19\", \"Topic19\", \"Topic19\", \"Topic19\", \"Topic19\", \"Topic19\", \"Topic19\", \"Topic19\", \"Topic19\", \"Topic19\", \"Topic19\", \"Topic19\", \"Topic19\", \"Topic19\", \"Topic19\", \"Topic19\", \"Topic19\", \"Topic19\", \"Topic19\", \"Topic19\", \"Topic19\", \"Topic19\", \"Topic19\", \"Topic19\", \"Topic19\", \"Topic19\", \"Topic19\", \"Topic19\", \"Topic19\", \"Topic19\", \"Topic20\", \"Topic20\", \"Topic20\", \"Topic20\", \"Topic20\", \"Topic20\", \"Topic20\", \"Topic20\", \"Topic20\", \"Topic20\", \"Topic20\", \"Topic20\", \"Topic20\", \"Topic20\", \"Topic20\", \"Topic20\", \"Topic20\", \"Topic20\", \"Topic20\", \"Topic20\", \"Topic20\", \"Topic20\", \"Topic20\", \"Topic20\", \"Topic20\", \"Topic20\", \"Topic20\", \"Topic20\", \"Topic20\", \"Topic20\", \"Topic20\", \"Topic20\", \"Topic20\", \"Topic20\", \"Topic20\", \"Topic20\", \"Topic20\", \"Topic20\", \"Topic20\"], \"Freq\": [6341.0, 2863.0, 2533.0, 1892.0, 1515.0, 1473.0, 1260.0, 1118.0, 1019.0, 949.0, 1346.0, 926.0, 850.0, 864.0, 808.0, 752.0, 755.0, 756.0, 912.0, 724.0, 642.0, 628.0, 590.0, 634.0, 537.0, 737.0, 610.0, 572.0, 497.0, 513.0, 589.4964599609375, 246.7573699951172, 155.19766235351562, 146.88853454589844, 143.42208862304688, 112.84046936035156, 108.98859405517578, 108.59671783447266, 99.2097396850586, 79.11508178710938, 77.26019287109375, 73.47346496582031, 72.94677734375, 69.89900970458984, 68.36200714111328, 62.032623291015625, 61.84375, 61.47001266479492, 59.18989944458008, 56.304473876953125, 55.677452087402344, 55.57851791381836, 50.651634216308594, 46.46678924560547, 46.2159309387207, 42.62786102294922, 39.69672393798828, 39.20936965942383, 38.525150299072266, 37.87933349609375, 314.2098388671875, 104.53306579589844, 2862.67041015625, 863.756591796875, 342.52313232421875, 275.6256408691406, 228.79246520996094, 191.16659545898438, 187.00550842285156, 181.89268493652344, 180.69627380371094, 174.12985229492188, 164.54989624023438, 163.6111602783203, 107.85484313964844, 104.90750122070312, 82.00916290283203, 77.30072021484375, 75.63806915283203, 69.55968475341797, 68.3536148071289, 56.820587158203125, 51.521366119384766, 50.70098114013672, 47.03779220581055, 42.99074935913086, 42.02957534790039, 38.63209533691406, 37.36114501953125, 34.192237854003906, 33.1934700012207, 31.24265480041504, 80.08494567871094, 140.3863067626953, 365.0143127441406, 345.0075378417969, 276.9190979003906, 254.39144897460938, 245.67861938476562, 179.30699157714844, 173.04702758789062, 167.09735107421875, 156.716552734375, 145.30618286132812, 145.22933959960938, 141.2258758544922, 134.89712524414062, 118.54434204101562, 111.52104949951172, 105.8409194946289, 99.42185974121094, 94.44395446777344, 90.67998504638672, 86.83451080322266, 84.77702331542969, 82.84194946289062, 80.83775329589844, 76.65804290771484, 76.4713363647461, 75.61610412597656, 70.66925048828125, 69.411376953125, 67.45750427246094, 66.90036010742188, 390.9480285644531, 166.71290588378906, 110.46558380126953, 226.8253631591797, 1891.3353271484375, 807.7178955078125, 755.8162231445312, 248.9331817626953, 239.33157348632812, 88.36661529541016, 86.82171630859375, 70.7701416015625, 63.10665512084961, 49.304412841796875, 47.82603454589844, 42.01382064819336, 40.765995025634766, 40.063106536865234, 38.522430419921875, 38.2435302734375, 35.88570022583008, 32.54159164428711, 32.111839294433594, 31.80663299560547, 30.08052635192871, 29.885953903198242, 28.715940475463867, 27.45551872253418, 27.103384017944336, 26.713443756103516, 26.099287033081055, 26.061630249023438, 25.070039749145508, 24.690078735351562, 1093.886962890625, 1515.0572509765625, 536.7449340820312, 439.3954772949219, 228.7107696533203, 208.03402709960938, 200.2191162109375, 156.36996459960938, 149.70458984375, 143.4965057373047, 122.03898620605469, 121.52064514160156, 116.71703338623047, 112.1749267578125, 99.96709442138672, 88.99288940429688, 88.49962615966797, 85.61067962646484, 74.11627197265625, 62.67805099487305, 58.31306457519531, 55.17049789428711, 54.68004608154297, 51.376686096191406, 50.70608901977539, 49.38521957397461, 47.06427001953125, 41.885074615478516, 40.17502975463867, 37.584659576416016, 37.0277099609375, 172.74566650390625, 83.01691436767578, 65.47390747070312, 73.58883666992188, 1259.7098388671875, 754.591552734375, 353.8848876953125, 323.2547302246094, 281.114013671875, 221.2183380126953, 218.30772399902344, 188.0024871826172, 121.185302734375, 104.75767517089844, 98.7784194946289, 82.25299835205078, 74.2785415649414, 70.76395416259766, 70.68183898925781, 54.75923156738281, 54.36418533325195, 51.56473922729492, 49.75752258300781, 46.21192169189453, 44.63564682006836, 44.4167594909668, 44.20529556274414, 40.16158676147461, 39.887420654296875, 39.44055938720703, 35.76741409301758, 35.262386322021484, 33.1165885925293, 32.84838104248047, 71.67205810546875, 313.9998474121094, 497.0164489746094, 331.1756286621094, 254.78353881835938, 209.7246856689453, 199.28260803222656, 151.8542022705078, 107.62820434570312, 107.61138153076172, 94.35160827636719, 84.96248626708984, 78.81182098388672, 76.79122161865234, 76.07174682617188, 69.16458129882812, 66.05890655517578, 66.01274871826172, 65.1869888305664, 65.02111053466797, 63.3101921081543, 60.7955436706543, 54.092227935791016, 50.593631744384766, 49.187339782714844, 47.038997650146484, 44.06732177734375, 43.358726501464844, 41.4310417175293, 40.75185775756836, 40.03565979003906, 39.82571029663086, 81.6103744506836, 91.26739501953125, 1118.0133056640625, 849.5758666992188, 171.6652069091797, 166.9806671142578, 158.57632446289062, 130.38128662109375, 120.03866577148438, 101.82310485839844, 91.98304748535156, 82.0431137084961, 75.25879669189453, 67.01203918457031, 64.61869812011719, 60.58861541748047, 55.42021560668945, 55.22141647338867, 54.1148681640625, 53.0440559387207, 50.7166748046875, 46.118751525878906, 44.90544128417969, 44.372589111328125, 43.85453796386719, 43.06529235839844, 42.984378814697266, 40.79928207397461, 39.9122200012207, 37.70875549316406, 37.08525085449219, 36.15351104736328, 157.2495574951172, 213.32534790039062, 83.56546783447266, 925.1153564453125, 627.2918090820312, 454.3955993652344, 216.98165893554688, 150.2970733642578, 141.0945587158203, 122.32210540771484, 102.47421264648438, 99.37615203857422, 97.33634185791016, 94.1908950805664, 93.85275268554688, 87.16251373291016, 83.75434875488281, 78.33533477783203, 71.64678955078125, 63.931610107421875, 63.32377624511719, 57.32423782348633, 55.25473403930664, 52.64789581298828, 45.29608917236328, 44.18666458129883, 40.79436111450195, 39.06523513793945, 38.4915885925293, 36.79693603515625, 35.854827880859375, 35.339691162109375, 32.861209869384766, 542.6681518554688, 438.4871826171875, 422.0814514160156, 375.19635009765625, 276.9563903808594, 239.2843780517578, 193.6752471923828, 166.1180419921875, 151.64085388183594, 145.55419921875, 131.2080841064453, 125.31417846679688, 122.38606262207031, 121.24520874023438, 104.19993591308594, 103.29007720947266, 89.06378173828125, 88.38056945800781, 84.54927062988281, 84.20751953125, 74.96279907226562, 73.08263397216797, 72.7249526977539, 71.79945373535156, 65.18656158447266, 64.63865661621094, 64.15819549560547, 60.46697998046875, 59.76011276245117, 59.586883544921875, 58.55173110961914, 57.06970977783203, 1018.5189208984375, 361.7839050292969, 279.2882080078125, 195.7759246826172, 185.86184692382812, 148.3846893310547, 142.11700439453125, 140.48085021972656, 120.16775512695312, 117.80482482910156, 117.52718353271484, 112.42467498779297, 112.10553741455078, 107.93878936767578, 94.09203338623047, 87.53692626953125, 81.37256622314453, 73.91292572021484, 71.58184051513672, 69.73787689208984, 64.29581451416016, 63.21644592285156, 54.31745147705078, 51.392879486083984, 46.99073791503906, 46.168724060058594, 42.91156768798828, 40.20744705200195, 38.39773941040039, 37.88951873779297, 353.71380615234375, 514.5855102539062, 77.85533905029297, 54.43503952026367, 53.451698303222656, 949.0557861328125, 536.427978515625, 364.04156494140625, 192.0885772705078, 166.64622497558594, 146.8240203857422, 117.89410400390625, 105.09671020507812, 98.8420181274414, 93.66344451904297, 84.01913452148438, 78.52250671386719, 76.14317321777344, 76.01264190673828, 75.99508666992188, 74.28548431396484, 65.5990982055664, 59.661922454833984, 59.16735076904297, 58.34462356567383, 53.60860061645508, 51.44767379760742, 43.67917251586914, 43.325836181640625, 33.048065185546875, 30.27570343017578, 28.787120819091797, 27.49429702758789, 26.997188568115234, 26.197214126586914, 412.52197265625, 723.8056030273438, 633.1459350585938, 512.5709838867188, 269.12176513671875, 251.91661071777344, 188.23277282714844, 168.33981323242188, 140.23724365234375, 136.1924285888672, 127.47834777832031, 109.74699401855469, 108.47531127929688, 100.13583374023438, 95.90032958984375, 94.71488952636719, 84.81109619140625, 84.6439437866211, 70.68187713623047, 68.95484161376953, 61.976619720458984, 55.39058303833008, 54.00261306762695, 51.74081802368164, 51.73147964477539, 48.38329315185547, 46.74536895751953, 45.12459182739258, 44.148502349853516, 42.933834075927734, 42.02395248413086, 72.00260162353516, 66.15476989746094, 1472.9422607421875, 571.7327880859375, 503.4582824707031, 232.59182739257812, 197.87445068359375, 195.7176055908203, 177.3614959716797, 176.93601989746094, 174.3893585205078, 168.70944213867188, 119.66535949707031, 112.48267364501953, 111.68901062011719, 106.2219009399414, 106.155029296875, 101.5482406616211, 98.75506591796875, 92.59349060058594, 88.1387939453125, 86.62591552734375, 73.92803955078125, 73.80094146728516, 70.69317626953125, 61.17155838012695, 54.3110466003418, 53.362998962402344, 52.43455123901367, 50.924564361572266, 49.49549102783203, 45.69344711303711, 1035.8907470703125, 189.37606811523438, 106.02205657958984, 368.7196960449219, 321.1756896972656, 315.26263427734375, 299.1876220703125, 212.16195678710938, 202.45956420898438, 186.85621643066406, 166.96963500976562, 142.62806701660156, 130.46588134765625, 128.64276123046875, 105.84626007080078, 96.07708740234375, 89.43834686279297, 73.8990707397461, 70.09534454345703, 64.667724609375, 63.51735305786133, 61.13046646118164, 53.77165222167969, 50.45978927612305, 50.08570861816406, 49.993431091308594, 39.8129997253418, 38.55226516723633, 38.39511489868164, 35.979148864746094, 35.20388412475586, 34.735660552978516, 33.504600524902344, 518.4445190429688, 193.61167907714844, 68.38333892822266, 44.35607147216797, 67.18621063232422, 75.98307800292969, 304.36492919921875, 297.2328186035156, 195.6467742919922, 156.76889038085938, 107.75521087646484, 105.89029693603516, 104.99778747558594, 92.13982391357422, 83.15819549560547, 78.78629302978516, 75.64707946777344, 73.70381927490234, 73.5615005493164, 72.06898498535156, 63.014583587646484, 59.595767974853516, 57.89811325073242, 51.027862548828125, 50.47791290283203, 49.894229888916016, 48.33800506591797, 48.02052307128906, 44.1901969909668, 42.904361724853516, 41.856468200683594, 41.51522445678711, 40.257076263427734, 38.801639556884766, 36.4826545715332, 36.2190055847168, 52.32362365722656, 143.8519287109375, 85.02422332763672, 97.30596160888672, 78.16654968261719, 751.7044067382812, 641.5018310546875, 472.1620788574219, 241.46780395507812, 233.59170532226562, 166.053955078125, 137.83213806152344, 135.03338623046875, 122.10527038574219, 119.52569580078125, 106.55256652832031, 99.3602294921875, 97.54659271240234, 96.56648254394531, 71.89249420166016, 67.09162139892578, 66.44705200195312, 55.55574035644531, 53.84744644165039, 53.27900695800781, 52.19448471069336, 51.122093200683594, 47.06825256347656, 39.22614288330078, 38.78022003173828, 37.453922271728516, 36.32915115356445, 34.74281692504883, 32.21574020385742, 30.396886825561523, 45.853824615478516, 403.3482360839844, 388.9859313964844, 315.5860595703125, 272.0378112792969, 253.7821807861328, 220.11343383789062, 200.83937072753906, 181.8292694091797, 130.487060546875, 126.61380004882812, 121.3582992553711, 116.99085998535156, 107.09099578857422, 98.80551147460938, 85.89708709716797, 80.02447509765625, 79.58052825927734, 72.99913024902344, 68.04339599609375, 63.71284484863281, 61.3509635925293, 57.3354377746582, 56.540184020996094, 55.184051513671875, 50.78622817993164, 46.09366226196289, 45.115779876708984, 44.13059997558594, 39.926448822021484, 37.42131423950195, 368.86309814453125, 115.91281127929688, 74.46232604980469, 71.54002380371094, 308.3876953125, 230.6542205810547, 221.92947387695312, 211.9910125732422, 196.63377380371094, 189.03208923339844, 160.50726318359375, 146.49172973632812, 142.1759796142578, 108.9241714477539, 97.94779205322266, 86.89767456054688, 84.89041137695312, 84.50676727294922, 81.47078704833984, 77.02689361572266, 58.780330657958984, 52.503665924072266, 49.25007629394531, 45.034305572509766, 44.81740951538086, 40.99540710449219, 40.22966003417969, 38.397457122802734, 35.894187927246094, 35.39155197143555, 31.341068267822266, 29.632253646850586, 29.32598876953125, 28.433706283569336, 2017.664794921875, 176.65261840820312, 52.823150634765625, 1037.4781494140625, 114.22118377685547, 107.74983978271484, 40.693721771240234, 455.0500793457031, 289.8867492675781, 286.7354431152344, 213.45025634765625, 162.57095336914062, 160.32235717773438, 99.79116821289062, 95.50113677978516, 76.7353286743164, 72.74988555908203, 66.93242645263672, 63.83620834350586, 59.814552307128906, 44.614742279052734, 41.83289337158203, 32.9510498046875, 32.215606689453125, 30.36433982849121, 29.467586517333984, 27.448394775390625, 25.495784759521484, 24.97909927368164, 24.791868209838867, 23.843982696533203, 23.48908233642578, 23.090314865112305, 22.32440185546875, 22.283740997314453, 19.79529571533203, 19.71053123474121, 489.7862243652344, 4209.1162109375, 55.674808502197266, 298.3621520996094, 310.01080322265625, 74.7200698852539, 51.584442138671875, 34.292659759521484, 33.76966857910156], \"Term\": [\"great\", \"good\", \"works\", \"product\", \"mower\", \"best\", \"love\", \"easy\", \"well\", \"nice\", \"grill\", \"excellent\", \"use\", \"perfect\", \"price\", \"pool\", \"work\", \"quality\", \"feeder\", \"buy\", \"like\", \"cover\", \"garden\", \"electric\", \"job\", \"little\", \"better\", \"ever\", \"sprayer\", \"dont\", \"garden\", \"happy\", \"cart\", \"powerful\", \"pleased\", \"stool\", \"shovel\", \"life\", \"im\", \"loves\", \"bucket\", \"everything\", \"edger\", \"know\", \"tools\", \"cost\", \"defective\", \"kneeler\", \"easier\", \"caught\", \"foldit\", \"difficult\", \"extra\", \"watch\", \"bulb\", \"within\", \"totally\", \"take\", \"maul\", \"wife\", \"worth\", \"money\", \"good\", \"perfect\", \"light\", \"far\", \"fit\", \"big\", \"pretty\", \"heater\", \"thrower\", \"must\", \"effective\", \"two\", \"outdoor\", \"wheel\", \"weight\", \"day\", \"caddy\", \"functional\", \"cool\", \"weeds\", \"lawns\", \"hand\", \"gate\", \"weeks\", \"things\", \"market\", \"come\", \"helpful\", \"performer\", \"outdoors\", \"deal\", \"small\", \"years\", \"get\", \"still\", \"set\", \"design\", \"yard\", \"broke\", \"old\", \"strong\", \"going\", \"go\", \"year\", \"timer\", \"looks\", \"second\", \"assembly\", \"season\", \"cut\", \"fast\", \"shipping\", \"quiet\", \"1\", \"yards\", \"leaks\", \"without\", \"melnor\", \"pay\", \"moles\", \"home\", \"want\", \"small\", \"item\", \"hard\", \"one\", \"product\", \"price\", \"quality\", \"birds\", \"smoker\", \"flimsy\", \"useless\", \"bit\", \"loved\", \"disappointment\", \"free\", \"spent\", \"backyard\", \"tough\", \"2nd\", \"stovetop\", \"spreader\", \"caveat\", \"move\", \"ice\", \"affordable\", \"though\", \"attracts\", \"warm\", \"reasonable\", \"winner\", \"forever\", \"emptor\", \"month\", \"keeping\", \"great\", \"mower\", \"lawn\", \"hose\", \"handy\", \"last\", \"sprinkler\", \"durable\", \"useful\", \"reel\", \"handle\", \"lasted\", \"bd\", \"real\", \"beautiful\", \"pads\", \"expectations\", \"chair\", \"loppers\", \"window\", \"inch\", \"watering\", \"return\", \"hold\", \"knees\", \"tracker\", \"30\", \"push\", \"holds\", \"practical\", \"plastair\", \"long\", \"lightweight\", \"around\", \"hog\", \"love\", \"work\", \"worked\", \"toro\", \"doesnt\", \"gift\", \"didnt\", \"size\", \"3\", \"bug\", \"decent\", \"wood\", \"look\", \"expensive\", \"zapper\", \"experience\", \"hummers\", \"holes\", \"extremely\", \"purpose\", \"rocks\", \"catch\", \"smell\", \"single\", \"hate\", \"support\", \"plants\", \"sound\", \"times\", \"returned\", \"flowtron\", \"one\", \"sprayer\", \"metal\", \"much\", \"need\", \"gilmour\", \"chain\", \"spray\", \"hammock\", \"satisfied\", \"toy\", \"traps\", \"garbage\", \"w4\", \"nothing\", \"kids\", \"ground\", \"smokey\", \"table\", \"mosquito\", \"disappointing\", \"huge\", \"20\", \"oil\", \"say\", \"doc\", \"cleaning\", \"warranty\", \"bargain\", \"improvement\", \"nozzle\", \"headphones\", \"better\", \"easy\", \"use\", \"disappointed\", \"cant\", \"would\", \"okay\", \"1800\", \"chimney\", \"filter\", \"wont\", \"start\", \"8\", \"thought\", \"simply\", \"beat\", \"family\", \"line\", \"install\", \"smaller\", \"others\", \"fluid\", \"rain\", \"place\", \"air\", \"came\", \"try\", \"pruners\", \"quickly\", \"mistake\", \"careful\", \"storage\", \"fiskars\", \"recommend\", \"excellent\", \"cover\", \"snow\", \"sturdy\", \"exactly\", \"heavy\", \"beware\", \"gardening\", \"outstanding\", \"pruning\", \"duty\", \"wanted\", \"broken\", \"top\", \"choice\", \"favorite\", \"battery\", \"hummingbirds\", \"side\", \"construction\", \"true\", \"thermometer\", \"hedge\", \"gardeners\", \"classic\", \"pest\", \"lighter\", \"supposed\", \"step\", \"stik\", \"feeder\", \"little\", \"trap\", \"replacement\", \"purchase\", \"needs\", \"mole\", \"squirrels\", \"deck\", \"fly\", \"never\", \"pruner\", \"another\", \"portable\", \"hot\", \"months\", \"part\", \"lots\", \"chaser\", \"yes\", \"flea\", \"stuff\", \"reviews\", \"mouse\", \"cooking\", \"camping\", \"says\", \"mice\", \"alternative\", \"died\", \"instructions\", \"else\", \"well\", \"time\", \"first\", \"super\", \"patio\", \"even\", \"got\", \"5\", \"lawnmower\", \"saver\", \"seems\", \"knee\", \"short\", \"caddie\", \"killer\", \"yet\", \"designed\", \"built\", \"green\", \"think\", \"read\", \"poorly\", \"us\", \"ago\", \"round\", \"compact\", \"insect\", \"actually\", \"curve\", \"cheaply\", \"made\", \"works\", \"one\", \"used\", \"bought\", \"nice\", \"job\", \"really\", \"right\", \"solid\", \"working\", \"gets\", \"done\", \"put\", \"sharp\", \"addition\", \"glider\", \"found\", \"easily\", \"heat\", \"together\", \"horrible\", \"brushes\", \"original\", \"food\", \"winter\", \"glad\", \"impressed\", \"belt\", \"apart\", \"cute\", \"tight\", \"cheaper\", \"bait\", \"birdfeeder\", \"axe\", \"buy\", \"electric\", \"dont\", \"gas\", \"cheap\", \"advertised\", \"water\", \"intex\", \"trimmer\", \"wow\", \"keep\", \"proof\", \"weed\", \"cord\", \"pressure\", \"low\", \"keeps\", \"terrific\", \"feeders\", \"swing\", \"days\", \"recommended\", \"spool\", \"reliable\", \"attractive\", \"attractant\", \"copper\", \"kills\", \"string\", \"thermos\", \"away\", \"one\", \"best\", \"ever\", \"weber\", \"box\", \"ive\", \"hummingbird\", \"charcoal\", \"bag\", \"way\", \"starter\", \"quick\", \"owned\", \"blade\", \"high\", \"shed\", \"looking\", \"assemble\", \"charbroil\", \"bench\", \"brush\", \"three\", \"rotisserie\", \"worst\", \"gardena\", \"accessory\", \"connector\", \"kettle\", \"takes\", \"people\", \"grills\", \"grill\", \"used\", \"simple\", \"poor\", \"expected\", \"black\", \"decker\", \"needed\", \"thing\", \"amazing\", \"idea\", \"bbq\", \"12\", \"every\", \"suncast\", \"summer\", \"house\", \"amp\", \"many\", \"fire\", \"cmm1000\", \"rear\", \"help\", \"penny\", \"system\", \"results\", \"b\", \"gardener\", \"company\", \"martin\", \"lasts\", \"porch\", \"see\", \"better\", \"junk\", \"hog\", \"cordless\", \"could\", \"worth\", \"ok\", \"blower\", \"fits\", \"piece\", \"flies\", \"less\", \"mr\", \"sure\", \"10\", \"convenient\", \"wheels\", \"bugs\", \"missing\", \"star\", \"mine\", \"mosquitos\", \"greatest\", \"tube\", \"mulching\", \"vacuum\", \"gold\", \"minutes\", \"uses\", \"older\", \"live\", \"overall\", \"seem\", \"fabulous\", \"oregon\", \"ready\", \"leaf\", \"2\", \"make\", \"junk\", \"one\", \"pool\", \"like\", \"awesome\", \"fine\", \"pump\", \"service\", \"customer\", \"hunter\", \"bounty\", \"saw\", \"clean\", \"cuts\", \"terrible\", \"splitter\", \"charm\", \"grilling\", \"gone\", \"stay\", \"absolutely\", \"buying\", \"head\", \"saved\", \"worthless\", \"weak\", \"iv\", \"dream\", \"issues\", \"butter\", \"weather\", \"lounge\", \"solution\", \"stars\", \"bird\", \"bad\", \"five\", \"review\", \"fantastic\", \"back\", \"squirrel\", \"problem\", \"makes\", \"4\", \"lot\", \"unit\", \"amazon\", \"lopper\", \"stand\", \"kit\", \"model\", \"four\", \"highly\", \"yellow\", \"ordered\", \"mobile\", \"described\", \"couldnt\", \"different\", \"stop\", \"usa\", \"give\", \"pictured\", \"feeder\", \"could\", \"wish\", \"made\", \"fun\", \"splitting\", \"grass\", \"machine\", \"new\", \"power\", \"enough\", \"shears\", \"parts\", \"problems\", \"wrong\", \"almost\", \"performance\", \"find\", \"finally\", \"hopper\", \"red\", \"dragon\", \"something\", \"picture\", \"seed\", \"x27\", \"heaven\", \"pet\", \"torch\", \"perky\", \"average\", \"color\", \"fiskar\", \"everyone\", \"works\", \"bought\", \"products\", \"great\", \"fiskars\", \"axe\", \"ax\", \"tool\", \"value\", \"detector\", \"waste\", \"wonderful\", \"plastic\", \"save\", \"large\", \"comfortable\", \"perfectly\", \"control\", \"using\", \"purchased\", \"arrived\", \"husband\", \"hours\", \"isnt\", \"area\", \"areas\", \"handled\", \"slow\", \"may\", \"type\", \"engine\", \"trash\", \"week\", \"invention\", \"cooker\", \"log\", \"complete\", \"money\", \"great\", \"snowblower\", \"little\", \"grill\", \"item\", \"storage\", \"deal\", \"headphones\"], \"Total\": [6341.0, 2863.0, 2533.0, 1892.0, 1515.0, 1473.0, 1260.0, 1118.0, 1019.0, 949.0, 1346.0, 926.0, 850.0, 864.0, 808.0, 752.0, 755.0, 756.0, 912.0, 724.0, 642.0, 628.0, 590.0, 634.0, 537.0, 737.0, 610.0, 572.0, 497.0, 513.0, 590.4108276367188, 247.67176818847656, 156.112060546875, 147.8029327392578, 144.33648681640625, 113.75491333007812, 109.90303802490234, 109.51116180419922, 100.12418365478516, 80.02952575683594, 78.17463684082031, 74.38790893554688, 73.86122131347656, 70.8134536743164, 69.27645111083984, 62.947044372558594, 62.75817108154297, 62.38443374633789, 60.10432052612305, 57.218894958496094, 56.59187316894531, 56.49293899536133, 51.56605529785156, 47.38121032714844, 47.13035202026367, 43.54228210449219, 40.61114501953125, 40.1237907409668, 39.439571380615234, 38.79375457763672, 391.05902099609375, 595.1920166015625, 2863.591796875, 864.6776123046875, 343.4443359375, 276.5468444824219, 229.7135467529297, 192.08767700195312, 187.9265899658203, 182.8137664794922, 181.6173553466797, 175.05093383789062, 165.47097778320312, 164.53224182128906, 108.77596282958984, 105.82862091064453, 82.93028259277344, 78.22183990478516, 76.55918884277344, 70.48080444335938, 69.27473449707031, 57.7416877746582, 52.442466735839844, 51.6220817565918, 47.958892822265625, 43.91184997558594, 42.95067596435547, 39.55319595336914, 38.28224563598633, 35.113338470458984, 34.11457061767578, 32.163761138916016, 115.25701904296875, 532.208251953125, 365.931396484375, 345.92462158203125, 277.836181640625, 255.30844116210938, 246.59561157226562, 180.22398376464844, 173.96401977539062, 168.01434326171875, 157.633544921875, 146.22317504882812, 146.14633178710938, 142.1428680419922, 135.81411743164062, 119.46136474609375, 112.43807220458984, 106.75794219970703, 100.33888244628906, 95.36097717285156, 91.59700775146484, 87.75153350830078, 85.69404602050781, 83.75897216796875, 81.75477600097656, 77.57506561279297, 77.38835906982422, 76.53312683105469, 71.58627319335938, 70.32839965820312, 68.37452697753906, 67.8173828125, 532.208251953125, 242.30825805664062, 143.753173828125, 763.7235107421875, 1892.251220703125, 808.6337890625, 756.7321166992188, 249.8491668701172, 240.24755859375, 89.28263092041016, 87.73773193359375, 71.6861572265625, 64.02265167236328, 50.22040939331055, 48.74203109741211, 42.92981719970703, 41.68199157714844, 40.979103088378906, 39.43842697143555, 39.15952682495117, 36.80169677734375, 33.45758819580078, 33.027835845947266, 32.72262954711914, 30.99652671813965, 30.80195426940918, 29.631940841674805, 28.371519088745117, 28.019384384155273, 27.629444122314453, 27.015287399291992, 26.977630615234375, 25.986040115356445, 25.6060791015625, 6341.3056640625, 1515.973388671875, 537.6611328125, 440.3117980957031, 229.62701416015625, 208.9502716064453, 201.13536071777344, 157.2862091064453, 150.62083435058594, 144.41275024414062, 122.95525360107422, 122.4369125366211, 117.63330078125, 113.09119415283203, 100.88336181640625, 89.9091567993164, 89.4158935546875, 86.52694702148438, 75.03253936767578, 63.594303131103516, 59.22931671142578, 56.08675003051758, 55.59629821777344, 52.292938232421875, 51.62234115600586, 50.30147171020508, 47.98052215576172, 42.801326751708984, 41.09128189086914, 38.500911712646484, 37.94396209716797, 204.78384399414062, 98.69735717773438, 83.7634048461914, 142.83999633789062, 1260.6256103515625, 755.5073852539062, 354.80084228515625, 324.1706848144531, 282.02996826171875, 222.13418579101562, 219.22357177734375, 188.9183349609375, 122.10118103027344, 105.67355346679688, 99.69429779052734, 83.16887664794922, 75.19441986083984, 71.6798324584961, 71.59771728515625, 55.67509460449219, 55.28004837036133, 52.4806022644043, 50.67338562011719, 47.127784729003906, 45.551509857177734, 45.33262252807617, 45.121158599853516, 41.077449798583984, 40.80328369140625, 40.356422424316406, 36.68327713012695, 36.17824935913086, 34.03245162963867, 33.764244079589844, 95.82978057861328, 763.7235107421875, 497.9324951171875, 332.0916748046875, 255.6995086669922, 210.64065551757812, 200.19857788085938, 152.77017211914062, 108.5442123413086, 108.52738952636719, 95.26761627197266, 85.87849426269531, 79.72782897949219, 77.70722961425781, 76.98775482177734, 70.0805892944336, 66.97491455078125, 66.92875671386719, 66.10299682617188, 65.93711853027344, 64.22618865966797, 61.71152877807617, 55.00821304321289, 51.50961685180664, 50.10332489013672, 47.95498275756836, 44.983306884765625, 44.27471160888672, 42.34702682495117, 41.667842864990234, 40.95164489746094, 40.741695404052734, 116.25434112548828, 610.5795288085938, 1118.9271240234375, 850.4896850585938, 172.57901000976562, 167.89447021484375, 159.49012756347656, 131.2950897216797, 120.95249938964844, 102.7369384765625, 92.89688110351562, 82.95694732666016, 76.1726303100586, 67.92587280273438, 65.53253173828125, 61.50243377685547, 56.33403396606445, 56.13523483276367, 55.0286865234375, 53.9578742980957, 51.6304931640625, 47.032569885253906, 45.81925964355469, 45.286407470703125, 44.76835632324219, 43.97911071777344, 43.898197174072266, 41.71310043334961, 40.8260383605957, 38.62257385253906, 37.99906921386719, 37.06732940673828, 209.7061004638672, 328.4103088378906, 109.18290710449219, 926.0346069335938, 628.2110595703125, 455.31488037109375, 217.90086364746094, 151.21627807617188, 142.01376342773438, 123.24134826660156, 103.3934555053711, 100.29539489746094, 98.25558471679688, 95.11013793945312, 94.7719955444336, 88.08175659179688, 84.67359161376953, 79.25457763671875, 72.56603240966797, 64.8508529663086, 64.24301147460938, 58.24346160888672, 56.17395782470703, 53.56711959838867, 46.21531295776367, 45.10588836669922, 41.713584899902344, 39.984458923339844, 39.41081237792969, 37.71615982055664, 36.774051666259766, 36.258914947509766, 33.780433654785156, 912.4025268554688, 737.7269287109375, 422.9894104003906, 376.10430908203125, 277.8643493652344, 240.1922607421875, 194.5831298828125, 167.0259246826172, 152.54873657226562, 146.4620819091797, 132.115966796875, 126.22209167480469, 123.29397583007812, 122.15312194824219, 105.10784912109375, 104.19799041748047, 89.97169494628906, 89.28848266601562, 85.45718383789062, 85.11543273925781, 75.87071228027344, 73.99054718017578, 73.63286590576172, 72.70736694335938, 66.09447479248047, 65.54656982421875, 65.06610870361328, 61.3748779296875, 60.66801071166992, 60.494781494140625, 59.45962905883789, 57.97760772705078, 1019.4320068359375, 362.6970520019531, 280.20135498046875, 196.68898010253906, 186.77490234375, 149.29774475097656, 143.03005981445312, 141.39390563964844, 121.08085632324219, 118.71792602539062, 118.4402847290039, 113.33777618408203, 113.01863861083984, 108.85189056396484, 95.00513458251953, 88.45002746582031, 82.2856674194336, 74.8260269165039, 72.49494171142578, 70.6509780883789, 65.20891571044922, 64.1295394897461, 55.23053741455078, 52.305965423583984, 47.90382385253906, 47.081809997558594, 43.82465362548828, 41.12053298950195, 39.31082534790039, 38.80260467529297, 426.1189880371094, 2533.113525390625, 763.7235107421875, 244.67626953125, 230.96734619140625, 949.9690551757812, 537.3412475585938, 364.95489501953125, 193.0018310546875, 167.55947875976562, 147.73727416992188, 118.80738830566406, 106.00999450683594, 99.75530242919922, 94.57672882080078, 84.93241882324219, 79.435791015625, 77.05645751953125, 76.9259262084961, 76.90837097167969, 75.19876861572266, 66.51238250732422, 60.575199127197266, 60.08062744140625, 59.25790023803711, 54.52187728881836, 52.3609504699707, 44.59244918823242, 44.239112854003906, 33.961341857910156, 31.188982009887695, 29.70039939880371, 28.407575607299805, 27.91046714782715, 27.110492706298828, 521.1350708007812, 724.722900390625, 634.063232421875, 513.48828125, 270.0390625, 252.8338623046875, 189.1500244140625, 169.25706481933594, 141.1544952392578, 137.10968017578125, 128.39559936523438, 110.66426849365234, 109.39258575439453, 101.05310821533203, 96.8176040649414, 95.63216400146484, 85.7283706665039, 85.56121826171875, 71.59915161132812, 69.87211608886719, 62.89388656616211, 56.3078498840332, 54.91987991333008, 52.658084869384766, 52.648746490478516, 49.300559997558594, 47.662635803222656, 46.0418586730957, 45.06576919555664, 43.85110092163086, 42.941219329833984, 104.75865173339844, 763.7235107421875, 1473.8585205078125, 572.6489868164062, 504.37451171875, 233.5080108642578, 198.79063415527344, 196.6337890625, 178.27767944335938, 177.85220336914062, 175.3055419921875, 169.62562561035156, 120.58157348632812, 113.39888763427734, 112.605224609375, 107.13811492919922, 107.07124328613281, 102.4644546508789, 99.67127990722656, 93.50970458984375, 89.05500793457031, 87.54212951660156, 74.84425354003906, 74.71715545654297, 71.60939025878906, 62.087764739990234, 55.22725296020508, 54.279205322265625, 53.35075759887695, 51.84077072143555, 50.41169738769531, 46.60965347290039, 1346.776123046875, 244.67626953125, 145.65806579589844, 369.6354064941406, 322.0914001464844, 316.1783447265625, 300.10333251953125, 213.07763671875, 203.375244140625, 187.7718963623047, 167.88531494140625, 143.5437469482422, 131.38156127929688, 129.55844116210938, 106.761962890625, 96.99279022216797, 90.35404968261719, 74.81477355957031, 71.01104736328125, 65.58342742919922, 64.43305206298828, 62.04616165161133, 54.687347412109375, 51.375484466552734, 51.00140380859375, 50.90912628173828, 40.728694915771484, 39.467960357666016, 39.31081008911133, 36.89484405517578, 36.11957931518555, 35.6513557434082, 34.42029571533203, 610.5795288085938, 291.7840881347656, 142.83999633789062, 59.603553771972656, 183.96673583984375, 391.05902099609375, 305.2798156738281, 298.147705078125, 196.56163024902344, 157.68374633789062, 108.67008972167969, 106.80517578125, 105.91266632080078, 93.05470275878906, 84.07307434082031, 79.701171875, 76.56195831298828, 74.61869812011719, 74.47637939453125, 72.9838638305664, 63.9294548034668, 60.51063919067383, 58.812984466552734, 51.94273376464844, 51.392784118652344, 50.80910110473633, 49.25287628173828, 48.935394287109375, 45.10506820678711, 43.81923294067383, 42.771339416503906, 42.43009567260742, 41.17194747924805, 39.71651077270508, 37.397525787353516, 37.13387680053711, 58.528038024902344, 213.6886749267578, 118.06034088134766, 291.7840881347656, 763.7235107421875, 752.6218872070312, 642.4193115234375, 473.07958984375, 242.3852996826172, 234.5092010498047, 166.97145080566406, 138.7496337890625, 135.9508819580078, 123.02278137207031, 120.44320678710938, 107.47007751464844, 100.27774047851562, 98.46410369873047, 97.48399353027344, 72.81000518798828, 68.0091323852539, 67.36456298828125, 56.473243713378906, 54.764949798583984, 54.196510314941406, 53.11198806762695, 52.03959655761719, 47.985755920410156, 40.143646240234375, 39.697723388671875, 38.37142562866211, 37.24665451049805, 35.66032028198242, 33.133243560791016, 31.31439208984375, 61.216651916503906, 404.2643737792969, 389.9020690917969, 316.502197265625, 272.9539489746094, 254.69830322265625, 221.02955627441406, 201.7554931640625, 182.74539184570312, 131.40318298339844, 127.52994537353516, 122.27444458007812, 117.9070053100586, 108.00714111328125, 99.7216567993164, 86.813232421875, 80.94062042236328, 80.49667358398438, 73.91527557373047, 68.95954132080078, 64.62899017333984, 62.2671012878418, 58.2515754699707, 57.456321716308594, 56.100189208984375, 51.70236587524414, 47.00979995727539, 46.031917572021484, 45.04673767089844, 40.842586517333984, 38.33745193481445, 912.4025268554688, 183.96673583984375, 105.35060119628906, 426.1189880371094, 309.3017578125, 231.56826782226562, 222.84352111816406, 212.90505981445312, 197.54782104492188, 189.94613647460938, 161.4213104248047, 147.40577697753906, 143.09002685546875, 109.8382339477539, 98.86185455322266, 87.81173706054688, 85.80447387695312, 85.42082977294922, 82.38484954833984, 77.94095611572266, 59.69438934326172, 53.417724609375, 50.16413497924805, 45.9483642578125, 45.731468200683594, 41.90946578979492, 41.14371871948242, 39.31151580810547, 36.80824661254883, 36.30561065673828, 32.255126953125, 30.54631233215332, 30.240047454833984, 29.34776496887207, 2533.113525390625, 230.96734619140625, 66.58657836914062, 6341.3056640625, 328.4103088378906, 521.1350708007812, 52.253047943115234, 455.97247314453125, 290.80914306640625, 287.6578369140625, 214.37266540527344, 163.4933624267578, 161.24476623535156, 100.71357727050781, 96.42353820800781, 77.65773010253906, 73.67228698730469, 67.85482788085938, 64.75861358642578, 60.73695755004883, 45.537147521972656, 42.75529861450195, 33.87345504760742, 33.13801193237305, 31.286745071411133, 30.389991760253906, 28.370800018310547, 26.418190002441406, 25.901504516601562, 25.71427345275879, 24.766387939453125, 24.411487579345703, 24.012720108032227, 23.246807098388672, 23.206146240234375, 20.717700958251953, 20.632936477661133, 595.1920166015625, 6341.3056640625, 78.30499267578125, 737.7269287109375, 1346.776123046875, 242.30825805664062, 209.7061004638672, 115.25701904296875, 116.25434112548828], \"loglift\": [30.0, 29.0, 28.0, 27.0, 26.0, 25.0, 24.0, 23.0, 22.0, 21.0, 20.0, 19.0, 18.0, 17.0, 16.0, 15.0, 14.0, 13.0, 12.0, 11.0, 10.0, 9.0, 8.0, 7.0, 6.0, 5.0, 4.0, 3.0, 2.0, 1.0, 3.213399887084961, 3.211199998855591, 3.2091000080108643, 3.208699941635132, 3.2086000442504883, 3.206899881362915, 3.2065999507904053, 3.2065999507904053, 3.2058000564575195, 3.203399896621704, 3.203200101852417, 3.2026000022888184, 3.202500104904175, 3.201900005340576, 3.2016000747680664, 3.2002999782562256, 3.2002999782562256, 3.200200080871582, 3.1995999813079834, 3.1988000869750977, 3.1986000537872314, 3.1986000537872314, 3.197000026702881, 3.1953999996185303, 3.1953001022338867, 3.193700075149536, 3.192199945449829, 3.1919000148773193, 3.191499948501587, 3.1910998821258545, 2.9960999488830566, 1.475600004196167, 2.808000087738037, 2.8071999549865723, 2.8055999279022217, 2.805000066757202, 2.80430006980896, 2.803499937057495, 2.8034000396728516, 2.803299903869629, 2.8032000064849854, 2.802999973297119, 2.8027000427246094, 2.8027000427246094, 2.799799919128418, 2.7995998859405518, 2.797100067138672, 2.7964999675750732, 2.7962000370025635, 2.795099973678589, 2.7948999404907227, 2.7922000885009766, 2.790600061416626, 2.790299892425537, 2.7888998985290527, 2.787100076675415, 2.786600112915039, 2.7846999168395996, 2.783900022506714, 2.7816998958587646, 2.780900001525879, 2.7792000770568848, 2.444200038909912, 1.4757000207901, 2.8917999267578125, 2.891700029373169, 2.8910000324249268, 2.8907999992370605, 2.8905999660491943, 2.88919997215271, 2.8891000747680664, 2.8889000415802, 2.8884999752044678, 2.8880999088287354, 2.8880999088287354, 2.8879001140594482, 2.8875999450683594, 2.8866000175476074, 2.886199951171875, 2.885699987411499, 2.885200023651123, 2.884700059890747, 2.8842999935150146, 2.8838000297546387, 2.8835999965667725, 2.8833000659942627, 2.8831000328063965, 2.882499933242798, 2.8824000358581543, 2.8822999000549316, 2.881500005722046, 2.881200075149536, 2.8808000087738037, 2.88070011138916, 2.585900068283081, 2.520400047302246, 2.63100004196167, 1.680299997329712, 2.9779000282287598, 2.9772000312805176, 2.977099895477295, 2.9746999740600586, 2.9744999408721924, 2.9679999351501465, 2.967900037765503, 2.9655001163482666, 2.963900089263916, 2.95989990234375, 2.959399938583374, 2.9567999839782715, 2.9560999870300293, 2.955699920654297, 2.9547998905181885, 2.954699993133545, 2.9530999660491943, 2.9505999088287354, 2.950200080871582, 2.950000047683716, 2.9484000205993652, 2.948199987411499, 2.946899890899658, 2.945499897003174, 2.9451000690460205, 2.9446001052856445, 2.9439001083374023, 2.9437999725341797, 2.942500114440918, 2.9419000148773193, 1.2209999561309814, 2.8310000896453857, 2.829900026321411, 2.8294999599456787, 2.8276000022888184, 2.827199935913086, 2.8269999027252197, 2.825700044631958, 2.825500011444092, 2.825200080871582, 2.8241000175476074, 2.8241000175476074, 2.823699951171875, 2.8234000205993652, 2.8224000930786133, 2.8213000297546387, 2.8213000297546387, 2.8208999633789062, 2.8192999362945557, 2.8171000480651855, 2.815999984741211, 2.8150999546051025, 2.8148999214172363, 2.8138999938964844, 2.813699960708618, 2.813199996948242, 2.812299966812134, 2.8099000453948975, 2.809000015258789, 2.807499885559082, 2.8071000576019287, 2.661400079727173, 2.658600091934204, 2.585200071334839, 2.168299913406372, 3.035399913787842, 3.034899950027466, 3.0334999561309814, 3.0332000255584717, 3.0327999591827393, 3.031899929046631, 3.031899929046631, 3.0311999320983887, 3.0285000801086426, 3.027400016784668, 3.0267999172210693, 3.0250000953674316, 3.0237998962402344, 3.023200035095215, 3.023200035095215, 3.0195000171661377, 3.019399881362915, 3.0185000896453857, 3.0178000926971436, 3.0164999961853027, 3.0157999992370605, 3.015700101852417, 3.0155999660491943, 3.0134999752044678, 3.013400077819824, 3.0130999088287354, 3.0107998847961426, 3.0104000568389893, 3.0088000297546387, 3.0085999965667725, 2.7455999851226807, 2.1473000049591064, 3.154400110244751, 3.1535000801086426, 3.1526999473571777, 3.151900053024292, 3.151700019836426, 3.1501998901367188, 3.1477999687194824, 3.1477999687194824, 3.1466000080108643, 3.1454999446868896, 3.144700050354004, 3.144399881362915, 3.1442999839782715, 3.1431000232696533, 3.1424999237060547, 3.1424999237060547, 3.1422998905181885, 3.1422998905181885, 3.141900062561035, 3.1412999629974365, 3.1394999027252197, 3.1382999420166016, 3.1377999782562256, 3.13700008392334, 3.135699987411499, 3.1352999210357666, 3.134399890899658, 3.134000062942505, 3.1335999965667725, 3.133500099182129, 2.8024001121520996, 1.2555999755859375, 3.0848000049591064, 3.0845000743865967, 3.0803000926971436, 3.080199956893921, 3.079900026321411, 3.0785999298095703, 3.078000068664551, 3.07669997215271, 3.075700044631958, 3.07450008392334, 3.073499917984009, 3.0720999240875244, 3.0715999603271484, 3.0706000328063965, 3.0692999362945557, 3.069200038909912, 3.0689001083374023, 3.06850004196167, 3.0678000450134277, 3.065999984741211, 3.065500020980835, 3.065200090408325, 3.065000057220459, 3.0645999908447266, 3.0645999908447266, 3.063499927520752, 3.062999963760376, 3.0617001056671143, 3.061300039291382, 3.0606000423431396, 2.7976999282836914, 2.6542000770568848, 2.81820011138916, 3.0352001190185547, 3.0348000526428223, 3.0341999530792236, 3.0320000648498535, 3.030100107192993, 3.0297000408172607, 3.0288000106811523, 3.0272998809814453, 3.0269999504089355, 3.0267999172210693, 3.0264999866485596, 3.0264999866485596, 3.0257999897003174, 3.0253000259399414, 3.024600028991699, 3.0234999656677246, 3.0220000743865967, 3.0218000411987305, 3.0202999114990234, 3.019700050354004, 3.018899917602539, 3.016200065612793, 3.015700101852417, 3.0139999389648438, 3.013000011444092, 3.0125999450683594, 3.0116000175476074, 3.0109000205993652, 3.0106000900268555, 3.008699893951416, 2.516700029373169, 2.5160000324249268, 3.0543999671936035, 3.0541000366210938, 3.0532000064849854, 3.0527000427246094, 3.051800012588501, 3.051100015640259, 3.05049991607666, 3.050299882888794, 3.0495998859405518, 3.049299955368042, 3.049099922180176, 3.049099922180176, 3.047800064086914, 3.047800064086914, 3.0464000701904297, 3.046299934387207, 3.045799970626831, 3.045799970626831, 3.0445001125335693, 3.0441999435424805, 3.044100046157837, 3.0439999103546143, 3.0427000522613525, 3.04259991645813, 3.0425000190734863, 3.041599988937378, 3.0413999557495117, 3.0413999557495117, 3.041100025177002, 3.0406999588012695, 3.00600004196167, 3.0044000148773193, 3.0035998821258545, 3.00219988822937, 3.002000093460083, 3.0007998943328857, 3.000499963760376, 3.0004000663757324, 2.999300003051758, 2.9992001056671143, 2.9992001056671143, 2.998800039291382, 2.998800039291382, 2.998500108718872, 2.9972000122070312, 2.996500015258789, 2.995699882507324, 2.9946000576019287, 2.9941999912261963, 2.9939000606536865, 2.992799997329712, 2.9925999641418457, 2.9902000427246094, 2.989300012588501, 2.9876999855041504, 2.987299919128418, 2.98580002784729, 2.9844000339508057, 2.9834001064300537, 2.983099937438965, 2.82069993019104, 1.413100004196167, 0.7235000133514404, 1.503999948501587, 1.5434000492095947, 3.2167000770568848, 3.2160000801086426, 3.2151999473571777, 3.212899923324585, 3.2121999263763428, 3.2114999294281006, 3.2100000381469727, 3.2090001106262207, 3.2084999084472656, 3.2079999446868896, 3.206899881362915, 3.2060999870300293, 3.205699920654297, 3.205699920654297, 3.205699920654297, 3.2054998874664307, 3.2037999629974365, 3.202500104904175, 3.202399969100952, 3.2021000385284424, 3.2007999420166016, 3.2000999450683594, 3.197000026702881, 3.1967999935150146, 3.1903998851776123, 3.187999963760376, 3.1863999366760254, 3.184999942779541, 3.1844000816345215, 3.1833999156951904, 2.9839000701904297, 2.9707999229431152, 2.970599889755249, 2.9702999591827393, 2.9686999320983887, 2.9684998989105225, 2.9672000408172607, 2.9667000770568848, 2.96560001373291, 2.965399980545044, 2.964900016784668, 2.9637999534606934, 2.96370005607605, 2.9630000591278076, 2.962599992752075, 2.9625000953674316, 2.9612998962402344, 2.9612998962402344, 2.959199905395508, 2.958899974822998, 2.95740008354187, 2.955699920654297, 2.9553000926971436, 2.9544999599456787, 2.9544999599456787, 2.9532999992370605, 2.952699899673462, 2.9519999027252197, 2.9514999389648438, 2.9509999752044678, 2.950500011444092, 2.597100019454956, 0.5259000062942505, 2.7551000118255615, 2.7541000843048096, 2.7539000511169434, 2.751699924468994, 2.7511000633239746, 2.750999927520752, 2.750499963760376, 2.750499963760376, 2.7504000663757324, 2.7502999305725098, 2.7481000423431396, 2.7476000785827637, 2.747499942779541, 2.7471001148223877, 2.7471001148223877, 2.7467000484466553, 2.7464001178741455, 2.745800018310547, 2.745300054550171, 2.7451999187469482, 2.7434000968933105, 2.743299961090088, 2.742799997329712, 2.740799903869629, 2.739000082015991, 2.7386999130249023, 2.7383999824523926, 2.737799882888794, 2.737299919128418, 2.73580002784729, 2.4932000637054443, 2.499500036239624, 2.4381000995635986, 3.1103999614715576, 3.109999895095825, 3.1098999977111816, 3.109800100326538, 3.1085000038146973, 3.108299970626831, 3.1078999042510986, 3.1073999404907227, 3.1064000129699707, 3.105799913406372, 3.1057000160217285, 3.1041998863220215, 3.103300094604492, 3.10260009765625, 3.1005001068115234, 3.099900007247925, 3.09879994392395, 3.0985000133514404, 3.0980000495910645, 3.095900058746338, 3.094899892807007, 3.0947000980377197, 3.0947000980377197, 3.090100049972534, 3.089400053024292, 3.0892999172210693, 3.0876998901367188, 3.0871999263763428, 3.0868000984191895, 3.085900068283081, 2.9493000507354736, 2.702699899673462, 2.376199960708618, 2.8173999786376953, 2.1054999828338623, 1.4744999408721924, 3.1672000885009766, 3.1672000885009766, 3.165600061416626, 3.164400100708008, 3.161799907684326, 3.161600112915039, 3.161600112915039, 3.160399913787842, 3.1593000888824463, 3.1586999893188477, 3.1582000255584717, 3.157900094985962, 3.157900094985962, 3.157599925994873, 3.1558001041412354, 3.1549999713897705, 3.154599905014038, 3.1524999141693115, 3.1522998809814453, 3.152100086212158, 3.1514999866485596, 3.151400089263916, 3.1498000621795654, 3.149199962615967, 3.1486001014709473, 3.1484999656677246, 3.1477999687194824, 3.146899938583374, 3.1454999446868896, 3.1452999114990234, 3.058199882507324, 2.7744998931884766, 2.8420000076293945, 2.0720999240875244, 0.8909000158309937, 3.113100051879883, 3.1129000186920166, 3.1124000549316406, 3.1105000972747803, 3.1103999614715576, 3.108799934387207, 3.1077001094818115, 3.1075000762939453, 3.106800079345703, 3.1066999435424805, 3.1057000160217285, 3.10509991645813, 3.1050000190734863, 3.1048998832702637, 3.101599931716919, 3.1006999015808105, 3.100600004196167, 3.097899913787842, 3.097399950027466, 3.0971999168395996, 3.09689998626709, 3.0964999198913574, 3.0950000286102295, 3.091200113296509, 3.09089994430542, 3.090100049972534, 3.089400053024292, 3.088200092315674, 3.086199998855591, 3.0845999717712402, 2.8254001140594482, 3.0829999446868896, 3.082900047302246, 3.0822999477386475, 3.081899881362915, 3.0815999507904053, 3.0810999870300293, 3.080699920654297, 3.080199956893921, 3.078200101852417, 3.078000068664551, 3.077699899673462, 3.077399969100952, 3.07669997215271, 3.0759999752044678, 3.0745999813079834, 3.073899984359741, 3.0738000869750977, 3.0727999210357666, 3.071899890899658, 3.071000099182129, 3.0703999996185303, 3.0694000720977783, 3.069200038909912, 3.0687999725341797, 3.0673999786376953, 3.0655999183654785, 3.0650999546051025, 3.06469988822937, 3.0625, 3.061000108718872, 2.1796000003814697, 2.623300075531006, 2.7381999492645264, 1.3007999658584595, 2.873699903488159, 2.8726999759674072, 2.8726000785827637, 2.8724000453948975, 2.8721001148223877, 2.8719000816345215, 2.871000051498413, 2.870500087738037, 2.870300054550171, 2.868299961090088, 2.8673999309539795, 2.8661999702453613, 2.865999937057495, 2.8659000396728516, 2.865499973297119, 2.8649001121520996, 2.861299991607666, 2.8594000339508057, 2.858299970626831, 2.856600046157837, 2.8564999103546143, 2.854599952697754, 2.8541998863220215, 2.8531999588012695, 2.851599931716919, 2.8512001037597656, 2.8480000495910645, 2.846299886703491, 2.8459999561309814, 2.845099925994873, 2.649199962615967, 2.608599901199341, 2.6451001167297363, 1.0664000511169434, 1.8206000328063965, 1.3005000352859497, 2.626699924468994, 2.7183001041412354, 2.717099905014038, 2.717099905014038, 2.7160000801086426, 2.714600086212158, 2.714600086212158, 2.7111001014709473, 2.710700035095215, 2.708400011062622, 2.70770001411438, 2.7065999507904053, 2.7060000896453857, 2.7049999237060547, 2.6998000144958496, 2.698499917984009, 2.692699909210205, 2.6921000480651855, 2.6903998851776123, 2.689500093460083, 2.687299966812134, 2.684799909591675, 2.684000015258789, 2.683799982070923, 2.6823999881744385, 2.68179988861084, 2.6810998916625977, 2.679800033569336, 2.6796998977661133, 2.674799919128418, 2.6745998859405518, 2.525399923324585, 2.310499906539917, 2.379199981689453, 1.815000057220459, 1.2513999938964844, 1.5437999963760376, 1.3178000450134277, 1.5081000328063965, 1.4840999841690063], \"logprob\": [30.0, 29.0, 28.0, 27.0, 26.0, 25.0, 24.0, 23.0, 22.0, 21.0, 20.0, 19.0, 18.0, 17.0, 16.0, 15.0, 14.0, 13.0, 12.0, 11.0, 10.0, 9.0, 8.0, 7.0, 6.0, 5.0, 4.0, 3.0, 2.0, 1.0, -2.2423999309539795, -3.1131999492645264, -3.576900005340576, -3.6319000720977783, -3.6558001041412354, -3.8956000804901123, -3.9303998947143555, -3.934000015258789, -4.024400234222412, -4.250699996948242, -4.274400234222412, -4.324699878692627, -4.331900119781494, -4.374599933624268, -4.3968000411987305, -4.49399995803833, -4.497000217437744, -4.5030999183654785, -4.540900230407715, -4.590799808502197, -4.6020002365112305, -4.603799819946289, -4.696599960327148, -4.782899856567383, -4.788300037384033, -4.869100093841553, -4.940400123596191, -4.952700138092041, -4.970300197601318, -4.987199783325195, -2.8715999126434326, -3.972100019454956, -1.0686999559402466, -2.2669999599456787, -3.1919000148773193, -3.4091999530792236, -3.595400094985962, -3.775099992752075, -3.797100067138672, -3.8248000144958496, -3.831399917602539, -3.868499994277954, -3.924999952316284, -3.930799961090088, -4.347499847412109, -4.375199794769287, -4.621399879455566, -4.680600166320801, -4.702300071716309, -4.786099910736084, -4.803599834442139, -4.988399982452393, -5.086299896240234, -5.10230016708374, -5.177299976348877, -5.267300128936768, -5.289899826049805, -5.374199867248535, -5.407599925994873, -5.496300220489502, -5.525899887084961, -5.58650016784668, -4.645199775695801, -4.083899974822998, -3.04229998588562, -3.098599910736084, -3.31850004196167, -3.4033000469207764, -3.438199996948242, -3.7530999183654785, -3.788599967956543, -3.8236000537872314, -3.8877999782562256, -3.963399887084961, -3.963900089263916, -3.99180006980896, -4.037700176239014, -4.166900157928467, -4.228000164031982, -4.280300140380859, -4.342800140380859, -4.394199848175049, -4.434899806976318, -4.4781999588012695, -4.502200126647949, -4.525300025939941, -4.549799919128418, -4.60290002822876, -4.605299949645996, -4.616499900817871, -4.684199810028076, -4.702199935913086, -4.7307000160217285, -4.738999843597412, -2.973599910736084, -3.825900077819824, -4.237500190734863, -3.5179998874664307, -1.3131999969482422, -2.1640000343322754, -2.2304000854492188, -3.3410000801086426, -3.3803999423980713, -4.376699924468994, -4.394400119781494, -4.598800182342529, -4.713399887084961, -4.96019983291626, -4.990600109100342, -5.120200157165527, -5.150400161743164, -5.167799949645996, -5.206999778747559, -5.214200019836426, -5.277900218963623, -5.375699996948242, -5.388999938964844, -5.398499965667725, -5.4542999267578125, -5.4608001708984375, -5.500800132751465, -5.545599937438965, -5.558599948883057, -5.572999954223633, -5.59630012512207, -5.597700119018555, -5.636499881744385, -5.651800155639648, -1.860700011253357, -1.6818000078201294, -2.7195000648498535, -2.919600009918213, -3.572499990463257, -3.66729998588562, -3.7056000232696533, -3.9528000354766846, -3.996299982070923, -4.038700103759766, -4.2006001472473145, -4.204899787902832, -4.245200157165527, -4.284900188446045, -4.400100231170654, -4.51639986038208, -4.521999835968018, -4.555200099945068, -4.699399948120117, -4.867000102996826, -4.939199924468994, -4.99459981918335, -5.003499984741211, -5.065800189971924, -5.07889986038208, -5.105299949645996, -5.153500080108643, -5.270100116729736, -5.311699867248535, -5.378399848937988, -5.3933000564575195, -3.8531999588012695, -4.585899829864502, -4.823299884796143, -4.706500053405762, -1.6618000268936157, -2.174299955368042, -2.93149995803833, -3.0220000743865967, -3.1617000102996826, -3.4012999534606934, -3.414599895477295, -3.563999891281128, -4.003200054168701, -4.148799896240234, -4.207600116729736, -4.390699863433838, -4.492700099945068, -4.541100025177002, -4.542300224304199, -4.797500133514404, -4.804800033569336, -4.857600212097168, -4.8933000564575195, -4.967199802398682, -5.0019001960754395, -5.006899833679199, -5.011600017547607, -5.107600212097168, -5.1143999099731445, -5.125699996948242, -5.223400115966797, -5.23769998550415, -5.3003997802734375, -5.308599948883057, -4.52839994430542, -3.051100015640259, -2.4716999530792236, -2.877700090408325, -3.139899969100952, -3.3345000743865967, -3.3856000900268555, -3.657399892807007, -4.0015997886657715, -4.001800060272217, -4.133299827575684, -4.238100051879883, -4.313300132751465, -4.339200019836426, -4.348599910736084, -4.44379997253418, -4.489799976348877, -4.490499973297119, -4.5030999183654785, -4.5055999755859375, -4.532299995422363, -4.572800159454346, -4.689599990844727, -4.756499767303467, -4.7846999168396, -4.8292999267578125, -4.894599914550781, -4.910799980163574, -4.956299781799316, -4.972799777984619, -4.990499973297119, -4.995800018310547, -4.27839994430542, -4.166500091552734, -1.731600046157837, -2.006200075149536, -3.6054000854492188, -3.6331000328063965, -3.6847000122070312, -3.880500078201294, -3.963099956512451, -4.127699851989746, -4.229300022125244, -4.343699932098389, -4.429999828338623, -4.54610013961792, -4.582399845123291, -4.6468000411987305, -4.736000061035156, -4.73960018157959, -4.759799957275391, -4.779799938201904, -4.824699878692627, -4.9197001457214355, -4.946400165557861, -4.9583001136779785, -4.970099925994873, -4.9882001876831055, -4.990099906921387, -5.042300224304199, -5.064300060272217, -5.121099948883057, -5.137700080871582, -5.1631999015808105, -3.6930999755859375, -3.3880999088287354, -4.325300216674805, -1.9703999757766724, -2.3589000701904297, -2.681299924850464, -3.4205000400543213, -3.7876999378204346, -3.8508999347686768, -3.9937000274658203, -4.1707000732421875, -4.201399803161621, -4.222099781036377, -4.255000114440918, -4.258600234985352, -4.332499980926514, -4.372399806976318, -4.439300060272217, -4.528600215911865, -4.642499923706055, -4.652100086212158, -4.7515997886657715, -4.788400173187256, -4.836699962615967, -4.987100124359131, -5.011899948120117, -5.091800212860107, -5.1350998878479, -5.149899959564209, -5.194900035858154, -5.220799922943115, -5.235300064086914, -5.308000087738037, -2.5037999153137207, -2.7170000076293945, -2.734800100326538, -2.85260009765625, -3.1561999320983887, -3.3024001121520996, -3.5139000415802, -3.66729998588562, -3.758500099182129, -3.799499988555908, -3.9033000469207764, -3.949199914932251, -3.972899913787842, -3.9821999073028564, -4.133699893951416, -4.142499923706055, -4.2906999588012695, -4.298399925231934, -4.342700004577637, -4.346799850463867, -4.4629998207092285, -4.488500118255615, -4.4934000968933105, -4.506199836730957, -4.602799892425537, -4.611199855804443, -4.61870002746582, -4.6778998374938965, -4.689700126647949, -4.692599773406982, -4.710100173950195, -4.735799789428711, -1.9035999774932861, -2.9386000633239746, -3.1974000930786133, -3.5527000427246094, -3.6047000885009766, -3.829900026321411, -3.872999906539917, -3.8845999240875244, -4.040800094604492, -4.0605998039245605, -4.063000202178955, -4.107399940490723, -4.110199928283691, -4.148099899291992, -4.285399913787842, -4.357600212097168, -4.430600166320801, -4.526800155639648, -4.558800220489502, -4.58489990234375, -4.666200160980225, -4.68310022354126, -4.834799766540527, -4.890200138092041, -4.979700088500977, -4.997399806976318, -5.070499897003174, -5.1356000900268555, -5.181700229644775, -5.195000171661377, -2.961199998855591, -2.5862998962402344, -4.474800109863281, -4.832699775695801, -4.850900173187256, -1.7633999586105347, -2.3340001106262207, -2.72160005569458, -3.3608999252319336, -3.503000020980835, -3.629699945449829, -3.849100112915039, -3.9639999866485596, -4.025400161743164, -4.07919979095459, -4.18779993057251, -4.255499839782715, -4.286300182342529, -4.288000106811523, -4.2881999015808105, -4.310999870300293, -4.435299873352051, -4.530200004577637, -4.53849983215332, -4.552499771118164, -4.637199878692627, -4.678299903869629, -4.8420000076293945, -4.850100040435791, -5.1209001541137695, -5.208499908447266, -5.258999824523926, -5.304900169372559, -5.323200225830078, -5.3531999588012695, -2.59660005569458, -2.279900074005127, -2.413800001144409, -2.625, -3.2692999839782715, -3.335400104522705, -3.626800060272217, -3.7385001182556152, -3.921099901199341, -3.9504001140594482, -4.016499996185303, -4.166299819946289, -4.1778998374938965, -4.257900238037109, -4.301199913024902, -4.313600063323975, -4.423999786376953, -4.426000118255615, -4.606299877166748, -4.63100004196167, -4.73769998550415, -4.850100040435791, -4.875400066375732, -4.9182000160217285, -4.918399810791016, -4.985300064086914, -5.019700050354004, -5.054999828338623, -5.076900005340576, -5.104800224304199, -5.126200199127197, -4.587800025939941, -4.672500133514404, -1.7858999967575073, -2.7321999073028564, -2.8594000339508057, -3.6315999031066895, -3.7932000160217285, -3.8041999340057373, -3.9026999473571777, -3.905100107192993, -3.919600009918213, -3.952699899673462, -4.296199798583984, -4.358099937438965, -4.365200042724609, -4.415299892425537, -4.415999889373779, -4.460299968719482, -4.4882001876831055, -4.552700042724609, -4.6020002365112305, -4.61929988861084, -4.7778000831604, -4.7795000076293945, -4.822500228881836, -4.967199802398682, -5.08620023727417, -5.103799819946289, -5.121300220489502, -5.1504998207092285, -5.178999900817871, -5.258900165557861, -2.1379001140594482, -3.837100028991699, -4.417200088500977, -2.813699960708618, -2.95169997215271, -2.9702999591827393, -3.022700071334839, -3.3664000034332275, -3.4131999015808105, -3.4934000968933105, -3.6059000492095947, -3.7634999752044678, -3.85260009765625, -3.8666999340057373, -4.061699867248535, -4.158599853515625, -4.230199813842773, -4.421000003814697, -4.473899841308594, -4.554500102996826, -4.572400093078613, -4.6107001304626465, -4.738999843597412, -4.802499771118164, -4.809999942779541, -4.811800003051758, -5.0395002365112305, -5.071700096130371, -5.075799942016602, -5.1407999992370605, -5.162600040435791, -5.176000118255615, -5.211999893188477, -2.472899913787842, -3.457900047302246, -4.498600006103516, -4.93149995803833, -4.516300201416016, -4.393199920654297, -2.9481000900268555, -2.9718000888824463, -3.390000104904175, -3.6115000247955322, -3.9863998889923096, -4.003900051116943, -4.012400150299072, -4.14300012588501, -4.24560022354126, -4.299600124359131, -4.340199947357178, -4.366300106048584, -4.368199825286865, -4.388700008392334, -4.522900104522705, -4.578700065612793, -4.607600212097168, -4.73390007019043, -4.744800090789795, -4.756400108337402, -4.788099765777588, -4.7947001457214355, -4.877799987792969, -4.907299995422363, -4.93209981918335, -4.940199851989746, -4.9710001945495605, -5.007800102233887, -5.069499969482422, -5.076700210571289, -4.708899974822998, -3.697499990463257, -4.223400115966797, -4.088399887084961, -4.307499885559082, -2.099900007247925, -2.2583999633789062, -2.5648999214172363, -3.2355000972747803, -3.268699884414673, -3.6098999977111816, -3.7962000370025635, -3.816699981689453, -3.9173998832702637, -3.938699960708618, -4.053599834442139, -4.123499870300293, -4.141900062561035, -4.1519999504089355, -4.4471001625061035, -4.516200065612793, -4.5258002281188965, -4.704899787902832, -4.736100196838379, -4.746699810028076, -4.767300128936768, -4.788000106811523, -4.87060022354126, -5.0528998374938965, -5.064300060272217, -5.099100112915039, -5.1296000480651855, -5.174300193786621, -5.249800205230713, -5.3078999519348145, -4.8968000411987305, -2.751499891281128, -2.7878000736236572, -2.9969000816345215, -3.145400047302246, -3.2147998809814453, -3.3571999073028564, -3.4488000869750977, -3.54830002784729, -3.880000114440918, -3.9102001190185547, -3.9526000022888184, -3.9892001152038574, -4.077600002288818, -4.158199787139893, -4.2982001304626465, -4.36899995803833, -4.374599933624268, -4.460899829864502, -4.531199932098389, -4.59689998626709, -4.634699821472168, -4.702400207519531, -4.716400146484375, -4.740600109100342, -4.823699951171875, -4.920599937438965, -4.9421000480651855, -4.964200019836426, -5.064300060272217, -5.1290998458862305, -2.84089994430542, -3.998500108718872, -4.440999984741211, -4.481100082397461, -3.2284998893737793, -3.518899917602539, -3.557499885559082, -3.603300094604492, -3.678499937057495, -3.717900037765503, -3.881500005722046, -3.972899913787842, -4.002799987792969, -4.269199848175049, -4.375400066375732, -4.495100021362305, -4.518499851226807, -4.5229997634887695, -4.559599876403809, -4.615699768066406, -4.886099815368652, -4.999000072479248, -5.062900066375732, -5.152400016784668, -5.157299995422363, -5.246399879455566, -5.2652997970581055, -5.3119001388549805, -5.379300117492676, -5.393400192260742, -5.514900207519531, -5.571000099182129, -5.581399917602539, -5.612299919128418, -1.3502000570297241, -3.7857000827789307, -4.9928998947143555, -2.0153000354766846, -4.221700191497803, -4.28000020980835, -5.253799915313721, -2.995800018310547, -3.4467999935150146, -3.45770001411438, -3.7527999877929688, -4.025100231170654, -4.039100170135498, -4.513199806213379, -4.55709981918335, -4.775899887084961, -4.82919979095459, -4.912600040435791, -4.95989990234375, -5.025000095367432, -5.31820011138916, -5.382599830627441, -5.621200084686279, -5.643799781799316, -5.703000068664551, -5.732999801635742, -5.803899765014648, -5.877699851989746, -5.898200035095215, -5.905700206756592, -5.944699764251709, -5.959700107574463, -5.976799964904785, -6.0106000900268555, -6.012400150299072, -6.130799770355225, -6.1350998878479, -2.922300100326538, -0.7712000012397766, -5.096700191497803, -3.4179000854492188, -3.3796000480651855, -4.802499771118164, -5.172999858856201, -5.581299781799316, -5.596700191497803]}, \"token.table\": {\"Topic\": [3, 16, 15, 8, 3, 16, 7, 4, 6, 5, 18, 11, 8, 17, 14, 11, 12, 13, 4, 11, 8, 19, 10, 15, 18, 15, 10, 12, 20, 20, 5, 14, 20, 14, 3, 13, 13, 4, 19, 13, 17, 17, 14, 19, 12, 19, 15, 18, 4, 18, 14, 12, 7, 9, 15, 5, 8, 5, 12, 14, 14, 7, 15, 9, 2, 18, 12, 4, 4, 15, 14, 16, 11, 19, 17, 14, 3, 9, 14, 12, 1, 6, 16, 11, 1, 17, 13, 17, 11, 2, 8, 10, 8, 8, 1, 6, 1, 4, 7, 5, 14, 14, 17, 10, 13, 12, 11, 8, 9, 9, 17, 7, 15, 19, 2, 20, 11, 15, 20, 14, 9, 20, 16, 20, 10, 2, 13, 13, 13, 15, 1, 15, 18, 18, 9, 11, 17, 3, 12, 17, 2, 13, 2, 20, 6, 10, 15, 1, 18, 3, 11, 20, 6, 10, 18, 1, 8, 7, 4, 7, 6, 12, 13, 19, 17, 5, 9, 1, 12, 8, 1, 2, 13, 10, 4, 20, 19, 11, 14, 15, 19, 1, 9, 9, 5, 15, 6, 6, 1, 6, 16, 8, 18, 2, 3, 9, 9, 18, 13, 8, 19, 19, 17, 15, 11, 19, 8, 19, 2, 16, 18, 10, 16, 4, 6, 11, 8, 10, 1, 12, 4, 12, 18, 4, 19, 2, 7, 1, 14, 15, 9, 9, 13, 2, 3, 12, 6, 7, 18, 12, 12, 3, 3, 16, 17, 2, 11, 19, 4, 19, 20, 16, 11, 14, 20, 17, 14, 7, 7, 2, 5, 20, 5, 1, 3, 19, 6, 17, 7, 20, 12, 2, 19, 9, 9, 15, 2, 14, 18, 5, 15, 5, 5, 6, 3, 19, 12, 5, 10, 20, 15, 7, 6, 14, 9, 17, 20, 4, 15, 1, 12, 7, 5, 11, 8, 10, 13, 20, 20, 17, 3, 20, 17, 14, 12, 15, 16, 13, 4, 13, 14, 7, 11, 13, 18, 11, 1, 5, 1, 20, 5, 5, 15, 5, 11, 2, 15, 16, 3, 16, 1, 2, 9, 1, 5, 17, 8, 9, 20, 16, 20, 5, 11, 6, 14, 3, 18, 5, 18, 10, 17, 6, 4, 1, 13, 19, 11, 18, 13, 16, 18, 15, 2, 15, 1, 20, 3, 7, 10, 16, 16, 16, 8, 18, 18, 10, 3, 1, 20, 4, 10, 7, 16, 10, 4, 5, 16, 7, 16, 2, 7, 15, 10, 10, 19, 12, 7, 7, 7, 16, 8, 3, 16, 3, 6, 11, 13, 16, 18, 16, 12, 8, 2, 2, 9, 16, 14, 5, 10, 19, 11, 3, 15, 14, 2, 20, 19, 2, 19, 9, 19, 19, 18, 16, 8, 6, 5, 20, 1, 17, 15, 11, 15, 10, 19, 1, 5, 13, 2, 4, 18, 19, 4, 15, 19, 13, 10, 8, 9, 17, 10, 20, 6, 5, 12, 4, 14, 8, 3, 8, 11, 16, 5, 12, 15, 4, 8, 18, 13, 19, 5, 13, 10, 15, 5, 6, 18, 10, 12, 6, 14, 11, 7, 20, 17, 11, 17, 7, 10, 3, 3, 15, 19, 16, 11, 17, 3, 12, 19, 14, 3, 11, 1, 9, 8, 14, 8, 6, 6, 20, 2, 3, 8, 6, 4, 7, 9, 13, 20, 12, 2, 17, 19, 6, 4, 17, 19, 13, 7, 7, 4, 5, 18, 10, 18, 16, 18, 8, 14, 17, 9, 9, 3, 1, 18, 8, 20, 4, 13, 3, 10, 9, 15, 15, 11, 6, 9, 16, 13, 15, 7, 1, 14, 17, 13, 9, 13, 15, 2, 11, 4, 8, 14, 2, 12, 11, 3, 6, 12, 20, 1, 9, 19, 6, 1, 4, 7, 5, 10, 7, 20, 13, 9, 8, 16, 2, 20, 18, 11, 18, 8, 11, 14, 5, 4, 16, 20, 16, 20, 7, 3, 9, 4, 7, 20, 1, 13, 5, 14, 17, 17, 14, 13, 2, 20, 2, 2, 11, 2, 16, 1, 5, 4, 12, 11, 18, 1, 3, 20, 8, 6, 6, 6, 12, 11, 19, 14, 1, 15, 17, 8, 13, 19, 19, 3, 3, 3, 3, 18, 10, 11, 6], \"Freq\": [0.9909386038780212, 0.9872363805770874, 0.9894843697547913, 0.9921250343322754, 0.3228996694087982, 0.6738775372505188, 0.9901064038276672, 0.9888832569122314, 0.99098140001297, 0.9795641899108887, 0.9895771741867065, 0.9901416897773743, 0.9863693714141846, 0.9860321283340454, 0.9777781367301941, 0.9727500081062317, 0.9890216588973999, 0.9939200282096863, 0.967850387096405, 0.9750322103500366, 0.9777368903160095, 0.9907559156417847, 0.9889890551567078, 0.9958891868591309, 0.9927632808685303, 0.989109456539154, 0.9895049333572388, 0.9716930389404297, 0.9588724970817566, 0.9542615413665771, 0.7759951949119568, 0.20295259356498718, 0.9882041811943054, 0.9932650327682495, 0.9929003715515137, 0.9860973954200745, 0.9736197590827942, 0.9786736369132996, 0.9610875248908997, 0.687294065952301, 0.3054640293121338, 0.9977179765701294, 0.21051403880119324, 0.7846432328224182, 0.7925008535385132, 0.20723994076251984, 0.9821085333824158, 0.9962553977966309, 0.9836382269859314, 0.9984132647514343, 0.9952083826065063, 0.9673790335655212, 0.9839722514152527, 0.986879825592041, 0.9962120056152344, 0.9946163296699524, 0.9763191938400269, 0.9912437200546265, 0.9719905853271484, 0.9881532788276672, 0.9994174838066101, 0.14903873205184937, 0.8483743071556091, 0.9899275302886963, 0.9943376183509827, 0.9976864457130432, 0.959038257598877, 0.9966012835502625, 0.9904283285140991, 0.9962731599807739, 0.9946252703666687, 0.996150553226471, 0.2294696718454361, 0.7663421034812927, 0.991686224937439, 0.9978244304656982, 0.9944584965705872, 0.9877187013626099, 0.9938071966171265, 0.9905043840408325, 0.984974205493927, 0.9936261177062988, 0.991708517074585, 0.9889606833457947, 0.9760164618492126, 0.9814830422401428, 0.9990025162696838, 0.9779227375984192, 0.9921738505363464, 0.9926959872245789, 0.9795390963554382, 0.9916613698005676, 0.994672417640686, 0.9712056517601013, 0.9928765296936035, 0.9706034660339355, 0.978697657585144, 0.986323356628418, 0.9949586391448975, 0.993910014629364, 0.9945491552352905, 0.9928331971168518, 0.9888750910758972, 0.99465012550354, 0.9967019557952881, 0.9504507184028625, 0.9793156981468201, 0.9928269386291504, 0.9841702580451965, 0.9753789901733398, 0.9956259727478027, 0.9712090492248535, 0.9932790398597717, 0.9821152687072754, 0.9665054678916931, 0.9915304183959961, 0.9770227670669556, 0.9666552543640137, 0.969323992729187, 0.9764328598976135, 0.9791013598442078, 0.987402081489563, 0.9912024736404419, 0.9480246901512146, 0.9834407567977905, 0.9815988540649414, 0.9773715138435364, 0.9915552139282227, 0.2348853200674057, 0.7382110357284546, 0.9849548935890198, 0.3641962707042694, 0.6305487751960754, 0.9864152073860168, 0.9980722069740295, 0.9666548371315002, 0.9945971965789795, 0.9857281446456909, 0.9618781208992004, 0.9872579574584961, 0.9843798279762268, 0.976773202419281, 0.6941009163856506, 0.2949928939342499, 0.9930357336997986, 0.9964028596878052, 0.9963234663009644, 0.9879191517829895, 0.980388879776001, 0.9975846409797668, 0.984375536441803, 0.9977131485939026, 0.9944186210632324, 0.9918211102485657, 0.9785193800926208, 0.9912742972373962, 0.9966449737548828, 0.9884700775146484, 0.9756989479064941, 0.978140652179718, 0.9963480234146118, 0.990472674369812, 0.9990490674972534, 0.9921800494194031, 0.9642592072486877, 0.9918224811553955, 0.9883278608322144, 0.9816266298294067, 0.9879633784294128, 0.9991714358329773, 0.9883400201797485, 0.9971536993980408, 0.9983231425285339, 0.9831382036209106, 0.9637614488601685, 0.9690552949905396, 0.9973899722099304, 0.9913076758384705, 0.9988666772842407, 0.9956896305084229, 0.9540760517120361, 0.9813422560691833, 0.9919567108154297, 0.9988827705383301, 0.9841650724411011, 0.9966115355491638, 0.9905157089233398, 0.9878743886947632, 0.9890227317810059, 0.9867112636566162, 0.981959342956543, 0.9797767996788025, 0.9953420162200928, 0.9980226159095764, 0.993482232093811, 0.9921997785568237, 0.595132052898407, 0.4044267535209656, 0.9875183701515198, 0.9903454184532166, 0.9831904768943787, 0.9950734376907349, 0.9942847490310669, 0.9911040663719177, 0.9957125186920166, 0.9589931964874268, 0.6485788822174072, 0.3471267521381378, 0.9968937635421753, 0.9971427321434021, 0.996505081653595, 0.9885237216949463, 0.9938337206840515, 0.9856340289115906, 0.7513322234153748, 0.2400088906288147, 0.9821197390556335, 0.9968450665473938, 0.9895413517951965, 0.9787724614143372, 0.9624180197715759, 0.9862897992134094, 0.9860854744911194, 0.9847763776779175, 0.9957913160324097, 0.9931782484054565, 0.9908987879753113, 0.9976104497909546, 0.9824802279472351, 0.988143265247345, 0.9828932285308838, 0.9865227937698364, 0.9961521625518799, 0.9800059199333191, 0.9973270893096924, 0.9932042360305786, 0.9948941469192505, 0.9940130710601807, 0.9793698787689209, 0.974008321762085, 0.9945139288902283, 0.9921562671661377, 0.9916349053382874, 0.9745623469352722, 0.9797435998916626, 0.9997933506965637, 0.9927982687950134, 0.996214747428894, 0.17251966893672943, 0.16353099048137665, 0.6637434363365173, 0.9861767888069153, 0.9931727647781372, 0.7692444324493408, 0.2301793098449707, 0.9851617813110352, 0.9869199991226196, 0.9861232042312622, 0.9951404929161072, 0.9879493117332458, 0.9922308921813965, 0.9516826868057251, 0.9972694516181946, 0.9972876906394958, 0.7652004957199097, 0.22260378301143646, 0.980313241481781, 0.9790633320808411, 0.7053499817848206, 0.29246219992637634, 0.9881889224052429, 0.995548665523529, 0.9722018837928772, 0.9928615093231201, 0.9754824042320251, 0.9874313473701477, 0.9682930111885071, 0.9893771409988403, 0.9902676939964294, 0.518062174320221, 0.47605714201927185, 0.9752750992774963, 0.9734424948692322, 0.9908422827720642, 0.9798970818519592, 0.9879273176193237, 0.9922964572906494, 0.9970207810401917, 0.9894598722457886, 0.9742141962051392, 0.9850139617919922, 0.9816715717315674, 0.976844310760498, 0.996776819229126, 0.9806514382362366, 0.9930056929588318, 0.9823343753814697, 0.9779165387153625, 0.9947266578674316, 0.9887720942497253, 0.9867141246795654, 0.9767617583274841, 0.9792447686195374, 0.981182873249054, 0.9822477102279663, 0.9922698736190796, 0.9918210506439209, 0.946366548538208, 0.96565842628479, 0.9665297865867615, 0.689204752445221, 0.3095230758190155, 0.9824240803718567, 0.9960227608680725, 0.997503936290741, 0.6648752093315125, 0.3324376046657562, 0.9939974546432495, 0.9763306379318237, 0.9934407472610474, 0.974681556224823, 0.9854435920715332, 0.9894202351570129, 0.9763507843017578, 0.9938299059867859, 0.9881965517997742, 0.9778079986572266, 0.9879443645477295, 0.9885126948356628, 0.9956074953079224, 0.9954521656036377, 0.9964315295219421, 0.9690035581588745, 0.9987703561782837, 0.9910732507705688, 0.9915628433227539, 0.08542913943529129, 0.8884630799293518, 0.9925869703292847, 0.9924612641334534, 0.9953323602676392, 0.9987062215805054, 0.9810118675231934, 0.15197975933551788, 0.8409546613693237, 0.9993472695350647, 0.9813063740730286, 0.5937156081199646, 0.4039435088634491, 0.981965959072113, 0.9653580784797668, 0.8447932004928589, 0.15137912333011627, 0.9841156005859375, 0.9954671859741211, 0.9961379766464233, 0.9906324148178101, 0.9862387776374817, 0.9923074245452881, 0.985569417476654, 0.9580259323120117, 0.9995037317276001, 0.9840267300605774, 0.987135648727417, 0.9915037155151367, 0.9957489967346191, 0.8307538628578186, 0.1689668893814087, 0.27104783058166504, 0.7199708223342896, 0.9958445429801941, 0.9857621192932129, 0.9860138893127441, 0.9757460951805115, 0.9888545870780945, 0.9651948809623718, 0.9930340647697449, 0.9967127442359924, 0.9775986671447754, 0.9854612350463867, 0.9808850884437561, 0.9936036467552185, 0.9737080335617065, 0.9920579195022583, 0.9876172542572021, 0.9970031976699829, 0.981111466884613, 0.1764136552810669, 0.8232637047767639, 0.9620550274848938, 0.9885027408599854, 0.9809082746505737, 0.9915611743927002, 0.9902710318565369, 0.9688796997070312, 0.9993579387664795, 0.9913828372955322, 0.9972643256187439, 0.9728991985321045, 0.9939963817596436, 0.9969585537910461, 0.9949425458908081, 0.995036244392395, 0.9915531277656555, 0.997226893901825, 0.998979926109314, 0.9845807552337646, 0.9817951917648315, 0.9779790043830872, 0.9958077073097229, 0.9901360273361206, 0.9939627647399902, 0.9813042879104614, 0.29722797870635986, 0.41114354133605957, 0.1021312028169632, 0.08641871064901352, 0.1021312028169632, 0.9785143136978149, 0.9626305103302002, 0.9820137023925781, 0.978045642375946, 0.9928663969039917, 0.9638176560401917, 0.9870842099189758, 0.9898634552955627, 0.987663984298706, 0.989888072013855, 0.9891999959945679, 0.9923822283744812, 0.9958511590957642, 0.9918102622032166, 0.9732268452644348, 0.9719966053962708, 0.9992163181304932, 0.9908746480941772, 0.9906243085861206, 0.9673286080360413, 0.9640383124351501, 0.9642024040222168, 0.9666378498077393, 0.9793602228164673, 0.9651136994361877, 0.9956638216972351, 0.9828370809555054, 0.9813736081123352, 0.9751222133636475, 0.9922802448272705, 0.9907404780387878, 0.9991737008094788, 0.9982810020446777, 0.982386589050293, 0.9817298650741577, 0.9905600547790527, 0.9950188994407654, 0.9945675730705261, 0.9869896173477173, 0.9933896064758301, 0.9950693845748901, 0.9992161989212036, 0.9893215298652649, 0.9923684597015381, 0.9993387460708618, 0.1952345371246338, 0.7959561944007874, 0.9872698187828064, 0.9903179407119751, 0.979766845703125, 0.9872212409973145, 0.9978286623954773, 0.9968892931938171, 0.9878664016723633, 0.9760696291923523, 0.9812780022621155, 0.9924284219741821, 0.9990325570106506, 0.9951769113540649, 0.9838805794715881, 0.9919008612632751, 0.971593976020813, 0.9814608693122864, 0.9694651365280151, 0.9903512001037598, 0.9973835349082947, 0.9831389784812927, 0.9636185765266418, 0.7693511843681335, 0.22897356748580933, 0.9832504987716675, 0.9883676171302795, 0.9902172684669495, 0.987677812576294, 0.9970638155937195, 0.9821421504020691, 0.9892745018005371, 0.977365255355835, 0.9972583055496216, 0.9914051294326782, 0.9948092103004456, 0.9878926277160645, 0.9904017448425293, 0.9811325073242188, 0.9866941571235657, 0.9929147958755493, 0.9800229668617249, 0.9939526915550232, 0.9963201880455017, 0.9800858497619629, 0.983614981174469, 0.9866563677787781, 0.9961038827896118, 0.9877893328666687, 0.9840051531791687, 0.9715352654457092, 0.9962826371192932, 0.9941819310188293, 0.9948750734329224, 0.9939020276069641, 0.9904631972312927, 0.9899950623512268, 0.9914356470108032, 0.9909870028495789, 0.9917833209037781, 0.9786506295204163, 0.2677503526210785, 0.7277317643165588, 0.9918306469917297, 0.973770260810852, 0.9951390027999878, 0.9463176727294922, 0.26305490732192993, 0.7346748113632202, 0.9877883791923523, 0.9751522541046143, 0.9948071837425232, 0.9833139777183533, 0.9971121549606323, 0.28095272183418274, 0.715152382850647, 0.9966610074043274, 0.22869594395160675, 0.751429557800293, 0.9767934679985046, 0.9674320816993713, 0.9783409833908081, 0.9950351715087891, 0.9975460171699524, 0.9875026941299438, 0.9949862360954285, 0.998127281665802, 0.978215754032135, 0.9943552613258362, 0.9959211349487305, 0.9938576817512512, 0.9883788824081421, 0.986519455909729, 0.9968724250793457, 0.984605610370636, 0.9963117241859436, 0.9916200637817383, 0.9652798771858215, 0.9768968820571899, 0.9969903826713562, 0.9933636784553528, 0.977582573890686, 0.7486668229103088, 0.24796608090400696, 0.9703896641731262, 0.9805911183357239, 0.9959809184074402, 0.9866124987602234, 0.9958657026290894, 0.9897642731666565, 0.9928629994392395, 0.9964970946311951, 0.9663889408111572, 0.9789511561393738, 0.988665759563446, 0.9857873916625977, 0.9803651571273804, 0.9857876896858215, 0.9719918966293335, 0.9837816953659058, 0.9952865839004517, 0.9916318655014038, 0.9737032651901245, 0.978081226348877, 0.9932379126548767, 0.9778658747673035, 0.9907860159873962, 0.9739641547203064, 0.9918738007545471, 0.9887198805809021, 0.9966008067131042, 0.9764178395271301, 0.9980781674385071, 0.9940056204795837, 0.9696627259254456, 0.984058678150177, 0.997867226600647, 0.981574535369873, 0.9920448660850525, 0.9780417084693909, 0.9963886737823486, 0.9849513173103333, 0.9761072397232056, 0.9897704720497131, 0.9741265773773193, 0.9976609349250793, 0.9908710718154907, 0.9421793818473816, 0.9919066429138184, 0.9894129037857056, 0.9829046130180359, 0.9818505048751831, 0.99676513671875, 0.9722226858139038, 0.9906752109527588, 0.9777199625968933, 0.9767633080482483, 0.9994242191314697, 0.22069978713989258, 0.772449254989624, 0.9958781599998474, 0.9915916323661804, 0.9755001068115234, 0.9882855415344238, 0.984075665473938, 0.99721759557724, 0.9871699810028076, 0.9879472851753235, 0.991854190826416, 0.9516586065292358, 0.9681907296180725, 0.9935968518257141, 0.9708489775657654, 0.9925730228424072, 0.9806237816810608, 0.9925527572631836, 0.9715111255645752, 0.9657973647117615, 0.9972748160362244, 0.9895786643028259, 0.9871550798416138, 0.9578256607055664, 0.979234516620636, 0.9887823462486267, 0.999576210975647, 0.9921701550483704, 0.9926601052284241, 0.9795390963554382, 0.9906547665596008, 0.9772183299064636, 0.99042809009552, 0.2847634553909302, 0.7024164795875549, 0.9875458478927612, 0.9820598363876343, 0.9969823956489563, 0.9884645342826843, 0.9859457612037659, 0.9993284344673157, 0.9977428317070007, 0.9950095415115356, 0.20330710709095, 0.7966480851173401, 0.9914900660514832, 0.8029478788375854, 0.19434405863285065, 0.9794573187828064, 0.9969269037246704, 0.9891304969787598, 0.9912822246551514, 0.9782992601394653, 0.9932085275650024, 0.990767776966095, 0.9919597506523132, 0.9974547028541565, 0.9796505570411682, 0.9868950843811035, 0.9949120879173279, 0.991651713848114], \"Term\": [\"1\", \"10\", \"12\", \"1800\", \"2\", \"2\", \"20\", \"2nd\", \"3\", \"30\", \"4\", \"5\", \"8\", \"absolutely\", \"accessory\", \"actually\", \"addition\", \"advertised\", \"affordable\", \"ago\", \"air\", \"almost\", \"alternative\", \"amazing\", \"amazon\", \"amp\", \"another\", \"apart\", \"area\", \"areas\", \"around\", \"around\", \"arrived\", \"assemble\", \"assembly\", \"attractant\", \"attractive\", \"attracts\", \"average\", \"away\", \"away\", \"awesome\", \"ax\", \"ax\", \"axe\", \"axe\", \"b\", \"back\", \"backyard\", \"bad\", \"bag\", \"bait\", \"bargain\", \"battery\", \"bbq\", \"bd\", \"beat\", \"beautiful\", \"belt\", \"bench\", \"best\", \"better\", \"better\", \"beware\", \"big\", \"bird\", \"birdfeeder\", \"birds\", \"bit\", \"black\", \"blade\", \"blower\", \"bought\", \"bought\", \"bounty\", \"box\", \"broke\", \"broken\", \"brush\", \"brushes\", \"bucket\", \"bug\", \"bugs\", \"built\", \"bulb\", \"butter\", \"buy\", \"buying\", \"caddie\", \"caddy\", \"came\", \"camping\", \"cant\", \"careful\", \"cart\", \"catch\", \"caught\", \"caveat\", \"chain\", \"chair\", \"charbroil\", \"charcoal\", \"charm\", \"chaser\", \"cheap\", \"cheaper\", \"cheaply\", \"chimney\", \"choice\", \"classic\", \"clean\", \"cleaning\", \"cmm1000\", \"color\", \"come\", \"comfortable\", \"compact\", \"company\", \"complete\", \"connector\", \"construction\", \"control\", \"convenient\", \"cooker\", \"cooking\", \"cool\", \"copper\", \"cord\", \"cordless\", \"cordless\", \"cost\", \"could\", \"could\", \"couldnt\", \"cover\", \"curve\", \"customer\", \"cut\", \"cute\", \"cuts\", \"day\", \"days\", \"deal\", \"deal\", \"decent\", \"deck\", \"decker\", \"defective\", \"described\", \"design\", \"designed\", \"detector\", \"didnt\", \"died\", \"different\", \"difficult\", \"disappointed\", \"disappointing\", \"disappointment\", \"doc\", \"doesnt\", \"done\", \"dont\", \"dragon\", \"dream\", \"durable\", \"duty\", \"easier\", \"easily\", \"easy\", \"edger\", \"effective\", \"electric\", \"else\", \"emptor\", \"engine\", \"enough\", \"even\", \"ever\", \"every\", \"everyone\", \"everything\", \"exactly\", \"excellent\", \"expectations\", \"expected\", \"expensive\", \"experience\", \"extra\", \"extremely\", \"fabulous\", \"family\", \"fantastic\", \"far\", \"fast\", \"favorite\", \"feeder\", \"feeder\", \"feeders\", \"filter\", \"finally\", \"find\", \"fine\", \"fire\", \"first\", \"fiskar\", \"fiskars\", \"fiskars\", \"fit\", \"fits\", \"five\", \"flea\", \"flies\", \"flimsy\", \"flowtron\", \"flowtron\", \"fluid\", \"fly\", \"foldit\", \"food\", \"forever\", \"found\", \"four\", \"free\", \"fun\", \"functional\", \"garbage\", \"garden\", \"gardena\", \"gardener\", \"gardeners\", \"gardening\", \"gas\", \"gate\", \"get\", \"gets\", \"gift\", \"gilmour\", \"give\", \"glad\", \"glider\", \"go\", \"going\", \"gold\", \"gone\", \"good\", \"got\", \"grass\", \"great\", \"great\", \"great\", \"greatest\", \"green\", \"grill\", \"grill\", \"grilling\", \"grills\", \"ground\", \"hammock\", \"hand\", \"handle\", \"handled\", \"handy\", \"happy\", \"hard\", \"hard\", \"hate\", \"head\", \"headphones\", \"headphones\", \"heat\", \"heater\", \"heaven\", \"heavy\", \"hedge\", \"help\", \"helpful\", \"high\", \"highly\", \"hog\", \"hog\", \"hold\", \"holds\", \"holes\", \"home\", \"hopper\", \"horrible\", \"hose\", \"hot\", \"hours\", \"house\", \"huge\", \"hummers\", \"hummingbird\", \"hummingbirds\", \"hunter\", \"husband\", \"ice\", \"idea\", \"im\", \"impressed\", \"improvement\", \"inch\", \"insect\", \"install\", \"instructions\", \"intex\", \"invention\", \"isnt\", \"issues\", \"item\", \"item\", \"iv\", \"ive\", \"job\", \"junk\", \"junk\", \"keep\", \"keeping\", \"keeps\", \"kettle\", \"kids\", \"killer\", \"kills\", \"kit\", \"knee\", \"kneeler\", \"knees\", \"know\", \"large\", \"last\", \"lasted\", \"lasts\", \"lawn\", \"lawnmower\", \"lawns\", \"leaf\", \"leaf\", \"leaks\", \"less\", \"life\", \"light\", \"lighter\", \"lightweight\", \"lightweight\", \"like\", \"line\", \"little\", \"little\", \"live\", \"log\", \"long\", \"long\", \"look\", \"looking\", \"looks\", \"lopper\", \"loppers\", \"lot\", \"lots\", \"lounge\", \"love\", \"loved\", \"loves\", \"low\", \"machine\", \"made\", \"made\", \"make\", \"make\", \"makes\", \"many\", \"market\", \"martin\", \"maul\", \"may\", \"melnor\", \"metal\", \"mice\", \"mine\", \"minutes\", \"missing\", \"mistake\", \"mobile\", \"model\", \"mole\", \"moles\", \"money\", \"money\", \"month\", \"months\", \"mosquito\", \"mosquitos\", \"mouse\", \"move\", \"mower\", \"mr\", \"much\", \"mulching\", \"must\", \"need\", \"needed\", \"needs\", \"never\", \"new\", \"nice\", \"nothing\", \"nozzle\", \"oil\", \"ok\", \"okay\", \"old\", \"older\", \"one\", \"one\", \"one\", \"one\", \"one\", \"ordered\", \"oregon\", \"original\", \"others\", \"outdoor\", \"outdoors\", \"outstanding\", \"overall\", \"owned\", \"pads\", \"part\", \"parts\", \"patio\", \"pay\", \"penny\", \"people\", \"perfect\", \"perfectly\", \"performance\", \"performer\", \"perky\", \"pest\", \"pet\", \"picture\", \"pictured\", \"piece\", \"place\", \"plants\", \"plastair\", \"plastic\", \"pleased\", \"pool\", \"poor\", \"poorly\", \"porch\", \"portable\", \"power\", \"powerful\", \"practical\", \"pressure\", \"pretty\", \"price\", \"problem\", \"problems\", \"product\", \"products\", \"products\", \"proof\", \"pruner\", \"pruners\", \"pruning\", \"pump\", \"purchase\", \"purchased\", \"purpose\", \"push\", \"put\", \"quality\", \"quick\", \"quickly\", \"quiet\", \"rain\", \"read\", \"ready\", \"real\", \"really\", \"rear\", \"reasonable\", \"recommend\", \"recommend\", \"recommended\", \"red\", \"reel\", \"reliable\", \"replacement\", \"results\", \"return\", \"returned\", \"review\", \"reviews\", \"right\", \"rocks\", \"rotisserie\", \"round\", \"satisfied\", \"save\", \"saved\", \"saver\", \"saw\", \"say\", \"says\", \"season\", \"second\", \"see\", \"seed\", \"seem\", \"seems\", \"service\", \"set\", \"sharp\", \"shears\", \"shed\", \"shipping\", \"short\", \"shovel\", \"side\", \"simple\", \"simple\", \"simply\", \"single\", \"size\", \"slow\", \"small\", \"small\", \"smaller\", \"smell\", \"smoker\", \"smokey\", \"snow\", \"snowblower\", \"snowblower\", \"solid\", \"solution\", \"solution\", \"something\", \"sound\", \"spent\", \"splitter\", \"splitting\", \"spool\", \"spray\", \"sprayer\", \"spreader\", \"sprinkler\", \"squirrel\", \"squirrels\", \"stand\", \"star\", \"stars\", \"start\", \"starter\", \"stay\", \"step\", \"stik\", \"still\", \"stool\", \"stop\", \"storage\", \"storage\", \"stovetop\", \"string\", \"strong\", \"stuff\", \"sturdy\", \"summer\", \"suncast\", \"super\", \"support\", \"supposed\", \"sure\", \"swing\", \"system\", \"table\", \"take\", \"takes\", \"terrible\", \"terrific\", \"thermometer\", \"thermos\", \"thing\", \"things\", \"think\", \"though\", \"thought\", \"three\", \"thrower\", \"tight\", \"time\", \"timer\", \"times\", \"together\", \"tool\", \"tools\", \"top\", \"torch\", \"toro\", \"totally\", \"tough\", \"toy\", \"tracker\", \"trap\", \"traps\", \"trash\", \"trimmer\", \"true\", \"try\", \"tube\", \"two\", \"type\", \"unit\", \"us\", \"usa\", \"use\", \"used\", \"used\", \"useful\", \"useless\", \"uses\", \"using\", \"vacuum\", \"value\", \"w4\", \"want\", \"wanted\", \"warm\", \"warranty\", \"waste\", \"watch\", \"water\", \"watering\", \"way\", \"weak\", \"weather\", \"weber\", \"weed\", \"weeds\", \"week\", \"weeks\", \"weight\", \"well\", \"wheel\", \"wheels\", \"wife\", \"window\", \"winner\", \"winter\", \"wish\", \"wish\", \"within\", \"without\", \"wonderful\", \"wont\", \"wood\", \"work\", \"worked\", \"working\", \"works\", \"works\", \"worst\", \"worth\", \"worth\", \"worthless\", \"would\", \"wow\", \"wrong\", \"x27\", \"yard\", \"yards\", \"year\", \"years\", \"yellow\", \"yes\", \"yet\", \"zapper\"]}, \"R\": 30, \"lambda.step\": 0.01, \"plot.opts\": {\"xlab\": \"PC1\", \"ylab\": \"PC2\"}, \"topic.order\": [1, 2, 3, 4, 5, 6, 7, 8, 9, 10, 11, 12, 13, 14, 15, 16, 17, 18, 19, 20]};\n",
              "\n",
              "function LDAvis_load_lib(url, callback){\n",
              "  var s = document.createElement('script');\n",
              "  s.src = url;\n",
              "  s.async = true;\n",
              "  s.onreadystatechange = s.onload = callback;\n",
              "  s.onerror = function(){console.warn(\"failed to load library \" + url);};\n",
              "  document.getElementsByTagName(\"head\")[0].appendChild(s);\n",
              "}\n",
              "\n",
              "if(typeof(LDAvis) !== \"undefined\"){\n",
              "   // already loaded: just create the visualization\n",
              "   !function(LDAvis){\n",
              "       new LDAvis(\"#\" + \"ldavis_el1251404660961462564541964878\", ldavis_el1251404660961462564541964878_data);\n",
              "   }(LDAvis);\n",
              "}else if(typeof define === \"function\" && define.amd){\n",
              "   // require.js is available: use it to load d3/LDAvis\n",
              "   require.config({paths: {d3: \"https://cdnjs.cloudflare.com/ajax/libs/d3/3.5.5/d3.min\"}});\n",
              "   require([\"d3\"], function(d3){\n",
              "      window.d3 = d3;\n",
              "      LDAvis_load_lib(\"https://cdn.rawgit.com/bmabey/pyLDAvis/files/ldavis.v1.0.0.js\", function(){\n",
              "        new LDAvis(\"#\" + \"ldavis_el1251404660961462564541964878\", ldavis_el1251404660961462564541964878_data);\n",
              "      });\n",
              "    });\n",
              "}else{\n",
              "    // require.js not available: dynamically load d3 & LDAvis\n",
              "    LDAvis_load_lib(\"https://cdnjs.cloudflare.com/ajax/libs/d3/3.5.5/d3.min.js\", function(){\n",
              "         LDAvis_load_lib(\"https://cdn.rawgit.com/bmabey/pyLDAvis/files/ldavis.v1.0.0.js\", function(){\n",
              "                 new LDAvis(\"#\" + \"ldavis_el1251404660961462564541964878\", ldavis_el1251404660961462564541964878_data);\n",
              "            })\n",
              "         });\n",
              "}\n",
              "</script>"
            ],
            "text/plain": [
              "<IPython.core.display.HTML object>"
            ]
          },
          "metadata": {
            "tags": []
          },
          "execution_count": 26
        }
      ]
    }
  ]
}