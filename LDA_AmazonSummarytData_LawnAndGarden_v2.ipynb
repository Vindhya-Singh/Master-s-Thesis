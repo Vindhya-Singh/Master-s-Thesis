{
  "nbformat": 4,
  "nbformat_minor": 0,
  "metadata": {
    "colab": {
      "name": "LDA_AmazonSummarytData_LawnAndGarden.ipynb",
      "provenance": [],
      "collapsed_sections": [],
      "toc_visible": true,
      "include_colab_link": true
    },
    "kernelspec": {
      "name": "python3",
      "display_name": "Python 3"
    }
  },
  "cells": [
    {
      "cell_type": "markdown",
      "metadata": {
        "id": "view-in-github",
        "colab_type": "text"
      },
      "source": [
        "<a href=\"https://colab.research.google.com/github/VindhyaSRajan/Master-s-Thesis/blob/master/LDA_AmazonSummarytData_LawnAndGarden_v2.ipynb\" target=\"_parent\"><img src=\"https://colab.research.google.com/assets/colab-badge.svg\" alt=\"Open In Colab\"/></a>"
      ]
    },
    {
      "cell_type": "code",
      "metadata": {
        "id": "6RyedzvGw1l3",
        "colab_type": "code",
        "outputId": "bcb9b7a2-5a49-4a4d-88d5-0bb0c9fe1b45",
        "colab": {
          "base_uri": "https://localhost:8080/",
          "height": 632
        }
      },
      "source": [
        "!pip3 install pandas nltk gensim pyLdavis"
      ],
      "execution_count": 42,
      "outputs": [
        {
          "output_type": "stream",
          "text": [
            "Requirement already satisfied: pandas in /usr/local/lib/python3.6/dist-packages (0.25.3)\n",
            "Requirement already satisfied: nltk in /usr/local/lib/python3.6/dist-packages (3.2.5)\n",
            "Requirement already satisfied: gensim in /usr/local/lib/python3.6/dist-packages (3.6.0)\n",
            "Requirement already satisfied: pyLdavis in /usr/local/lib/python3.6/dist-packages (2.1.2)\n",
            "Requirement already satisfied: numpy>=1.13.3 in /usr/local/lib/python3.6/dist-packages (from pandas) (1.17.3)\n",
            "Requirement already satisfied: python-dateutil>=2.6.1 in /usr/local/lib/python3.6/dist-packages (from pandas) (2.6.1)\n",
            "Requirement already satisfied: pytz>=2017.2 in /usr/local/lib/python3.6/dist-packages (from pandas) (2018.9)\n",
            "Requirement already satisfied: six in /usr/local/lib/python3.6/dist-packages (from nltk) (1.12.0)\n",
            "Requirement already satisfied: scipy>=0.18.1 in /usr/local/lib/python3.6/dist-packages (from gensim) (1.3.1)\n",
            "Requirement already satisfied: smart-open>=1.2.1 in /usr/local/lib/python3.6/dist-packages (from gensim) (1.8.4)\n",
            "Requirement already satisfied: funcy in /usr/local/lib/python3.6/dist-packages (from pyLdavis) (1.13)\n",
            "Requirement already satisfied: joblib>=0.8.4 in /usr/local/lib/python3.6/dist-packages (from pyLdavis) (0.14.0)\n",
            "Requirement already satisfied: wheel>=0.23.0 in /usr/local/lib/python3.6/dist-packages (from pyLdavis) (0.33.6)\n",
            "Requirement already satisfied: pytest in /usr/local/lib/python3.6/dist-packages (from pyLdavis) (3.6.4)\n",
            "Requirement already satisfied: future in /usr/local/lib/python3.6/dist-packages (from pyLdavis) (0.16.0)\n",
            "Requirement already satisfied: jinja2>=2.7.2 in /usr/local/lib/python3.6/dist-packages (from pyLdavis) (2.10.3)\n",
            "Requirement already satisfied: numexpr in /usr/local/lib/python3.6/dist-packages (from pyLdavis) (2.7.0)\n",
            "Requirement already satisfied: boto>=2.32 in /usr/local/lib/python3.6/dist-packages (from smart-open>=1.2.1->gensim) (2.49.0)\n",
            "Requirement already satisfied: boto3 in /usr/local/lib/python3.6/dist-packages (from smart-open>=1.2.1->gensim) (1.10.7)\n",
            "Requirement already satisfied: requests in /usr/local/lib/python3.6/dist-packages (from smart-open>=1.2.1->gensim) (2.21.0)\n",
            "Requirement already satisfied: attrs>=17.4.0 in /usr/local/lib/python3.6/dist-packages (from pytest->pyLdavis) (19.3.0)\n",
            "Requirement already satisfied: setuptools in /usr/local/lib/python3.6/dist-packages (from pytest->pyLdavis) (41.4.0)\n",
            "Requirement already satisfied: atomicwrites>=1.0 in /usr/local/lib/python3.6/dist-packages (from pytest->pyLdavis) (1.3.0)\n",
            "Requirement already satisfied: more-itertools>=4.0.0 in /usr/local/lib/python3.6/dist-packages (from pytest->pyLdavis) (7.2.0)\n",
            "Requirement already satisfied: pluggy<0.8,>=0.5 in /usr/local/lib/python3.6/dist-packages (from pytest->pyLdavis) (0.7.1)\n",
            "Requirement already satisfied: py>=1.5.0 in /usr/local/lib/python3.6/dist-packages (from pytest->pyLdavis) (1.8.0)\n",
            "Requirement already satisfied: MarkupSafe>=0.23 in /usr/local/lib/python3.6/dist-packages (from jinja2>=2.7.2->pyLdavis) (1.1.1)\n",
            "Requirement already satisfied: jmespath<1.0.0,>=0.7.1 in /usr/local/lib/python3.6/dist-packages (from boto3->smart-open>=1.2.1->gensim) (0.9.4)\n",
            "Requirement already satisfied: s3transfer<0.3.0,>=0.2.0 in /usr/local/lib/python3.6/dist-packages (from boto3->smart-open>=1.2.1->gensim) (0.2.1)\n",
            "Requirement already satisfied: botocore<1.14.0,>=1.13.7 in /usr/local/lib/python3.6/dist-packages (from boto3->smart-open>=1.2.1->gensim) (1.13.7)\n",
            "Requirement already satisfied: urllib3<1.25,>=1.21.1 in /usr/local/lib/python3.6/dist-packages (from requests->smart-open>=1.2.1->gensim) (1.24.3)\n",
            "Requirement already satisfied: idna<2.9,>=2.5 in /usr/local/lib/python3.6/dist-packages (from requests->smart-open>=1.2.1->gensim) (2.8)\n",
            "Requirement already satisfied: chardet<3.1.0,>=3.0.2 in /usr/local/lib/python3.6/dist-packages (from requests->smart-open>=1.2.1->gensim) (3.0.4)\n",
            "Requirement already satisfied: certifi>=2017.4.17 in /usr/local/lib/python3.6/dist-packages (from requests->smart-open>=1.2.1->gensim) (2019.9.11)\n",
            "Requirement already satisfied: docutils<0.16,>=0.10 in /usr/local/lib/python3.6/dist-packages (from botocore<1.14.0,>=1.13.7->boto3->smart-open>=1.2.1->gensim) (0.15.2)\n"
          ],
          "name": "stdout"
        }
      ]
    },
    {
      "cell_type": "markdown",
      "metadata": {
        "id": "Lz3-jIooyDfr",
        "colab_type": "text"
      },
      "source": [
        "## All the Imports go here"
      ]
    },
    {
      "cell_type": "code",
      "metadata": {
        "id": "doRp1032xHTI",
        "colab_type": "code",
        "colab": {}
      },
      "source": [
        "import re # We clean text using regex\n",
        "import csv # To read the csv\n",
        "from collections import defaultdict # For accumlating values\n",
        "from nltk.corpus import stopwords # To remove stopwords\n",
        "from gensim import corpora # To create corpus and dictionary for the LDA model\n",
        "from gensim.models import LdaModel # To use the LDA model\n",
        "import pyLDAvis.gensim # To visualise LDA model effectively\n",
        "import pandas as pd\n",
        "from gensim.models import CoherenceModel #Put in use to calculate the Coherency score for LDA"
      ],
      "execution_count": 0,
      "outputs": []
    },
    {
      "cell_type": "code",
      "metadata": {
        "id": "7Y1kMFtGxPYB",
        "colab_type": "code",
        "outputId": "9701dad1-1960-4dfb-ff7c-3d106d3e778f",
        "colab": {
          "base_uri": "https://localhost:8080/",
          "height": 51
        }
      },
      "source": [
        "import nltk\n",
        "nltk.download('stopwords')\n",
        "from nltk.corpus import stopwords"
      ],
      "execution_count": 44,
      "outputs": [
        {
          "output_type": "stream",
          "text": [
            "[nltk_data] Downloading package stopwords to /root/nltk_data...\n",
            "[nltk_data]   Package stopwords is already up-to-date!\n"
          ],
          "name": "stdout"
        }
      ]
    },
    {
      "cell_type": "markdown",
      "metadata": {
        "id": "0jF4Zig7yKY1",
        "colab_type": "text"
      },
      "source": [
        "##Reading the Amazon Product Review file "
      ]
    },
    {
      "cell_type": "code",
      "metadata": {
        "id": "t-h84hVFxmpc",
        "colab_type": "code",
        "colab": {}
      },
      "source": [
        "from google.colab import files\n",
        "\n",
        "uploaded = files.upload()\n",
        "\n",
        "for fn in uploaded.keys():\n",
        "  print('User uploaded file \"{name}\" with length {length} bytes'.format(\n",
        "      name=fn, length=len(uploaded[fn])))"
      ],
      "execution_count": 0,
      "outputs": []
    },
    {
      "cell_type": "code",
      "metadata": {
        "id": "XXLS_O2RyJjo",
        "colab_type": "code",
        "colab": {}
      },
      "source": [
        "from google.colab import drive\n",
        "drive.mount('drive')"
      ],
      "execution_count": 0,
      "outputs": []
    },
    {
      "cell_type": "code",
      "metadata": {
        "id": "bWr1ocyxx8yh",
        "colab_type": "code",
        "colab": {}
      },
      "source": [
        "import pandas as pd\n",
        "import gzip\n",
        "\n",
        "def parse(path):\n",
        "  g = gzip.open(path, 'rb')\n",
        "  for l in g:\n",
        "    yield eval(l)\n",
        "\n",
        "def getDF(path):\n",
        "  i = 0\n",
        "  df = {}\n",
        "  for d in parse(path):\n",
        "    df[i] = d\n",
        "    i += 1\n",
        "  return pd.DataFrame.from_dict(df, orient='index')\n",
        "\n"
      ],
      "execution_count": 0,
      "outputs": []
    },
    {
      "cell_type": "code",
      "metadata": {
        "id": "v7g3cjyCnKUz",
        "colab_type": "code",
        "outputId": "20465f4f-7a69-4b47-cea9-b51e8afd2ce6",
        "colab": {
          "base_uri": "https://localhost:8080/",
          "height": 34
        }
      },
      "source": [
        "df = pd.read_csv('/content/drive/My Drive/reviews_samples_amazonSummary.csv')\n",
        "\n",
        "df.head()\n",
        "df.shape"
      ],
      "execution_count": 61,
      "outputs": [
        {
          "output_type": "execute_result",
          "data": {
            "text/plain": [
              "(993490, 10)"
            ]
          },
          "metadata": {
            "tags": []
          },
          "execution_count": 61
        }
      ]
    },
    {
      "cell_type": "code",
      "metadata": {
        "id": "r_iFs7e6nvjI",
        "colab_type": "code",
        "outputId": "ce22f4ab-20dd-4a09-ba38-cc56d2c883f4",
        "colab": {
          "base_uri": "https://localhost:8080/",
          "height": 306
        }
      },
      "source": [
        "df.head()"
      ],
      "execution_count": 62,
      "outputs": [
        {
          "output_type": "execute_result",
          "data": {
            "text/html": [
              "<div>\n",
              "<style scoped>\n",
              "    .dataframe tbody tr th:only-of-type {\n",
              "        vertical-align: middle;\n",
              "    }\n",
              "\n",
              "    .dataframe tbody tr th {\n",
              "        vertical-align: top;\n",
              "    }\n",
              "\n",
              "    .dataframe thead th {\n",
              "        text-align: right;\n",
              "    }\n",
              "</style>\n",
              "<table border=\"1\" class=\"dataframe\">\n",
              "  <thead>\n",
              "    <tr style=\"text-align: right;\">\n",
              "      <th></th>\n",
              "      <th>Unnamed: 0</th>\n",
              "      <th>reviewerID</th>\n",
              "      <th>asin</th>\n",
              "      <th>reviewerName</th>\n",
              "      <th>helpful</th>\n",
              "      <th>reviewText</th>\n",
              "      <th>overall</th>\n",
              "      <th>summary</th>\n",
              "      <th>unixReviewTime</th>\n",
              "      <th>reviewTime</th>\n",
              "    </tr>\n",
              "  </thead>\n",
              "  <tbody>\n",
              "    <tr>\n",
              "      <th>0</th>\n",
              "      <td>0</td>\n",
              "      <td>A2VNYWOPJ13AFP</td>\n",
              "      <td>0981850006</td>\n",
              "      <td>Amazon Customer \"carringt0n\"</td>\n",
              "      <td>[6, 7]</td>\n",
              "      <td>This was a gift for my other husband.  He's ma...</td>\n",
              "      <td>5.0</td>\n",
              "      <td>Delish</td>\n",
              "      <td>1259798400</td>\n",
              "      <td>12 3, 2009</td>\n",
              "    </tr>\n",
              "    <tr>\n",
              "      <th>1</th>\n",
              "      <td>1</td>\n",
              "      <td>A20DWVV8HML3AW</td>\n",
              "      <td>0981850006</td>\n",
              "      <td>Cyndy</td>\n",
              "      <td>[0, 0]</td>\n",
              "      <td>My husband rarely asks for anything specific, ...</td>\n",
              "      <td>5.0</td>\n",
              "      <td>Just what my husband wanted</td>\n",
              "      <td>1371081600</td>\n",
              "      <td>06 13, 2013</td>\n",
              "    </tr>\n",
              "    <tr>\n",
              "      <th>2</th>\n",
              "      <td>2</td>\n",
              "      <td>A3RVP3YBYYOPRH</td>\n",
              "      <td>0981850006</td>\n",
              "      <td>John Warren</td>\n",
              "      <td>[9, 11]</td>\n",
              "      <td>This guy knows his stuff. I love the seriously...</td>\n",
              "      <td>5.0</td>\n",
              "      <td>Love This Show!</td>\n",
              "      <td>1257984000</td>\n",
              "      <td>11 12, 2009</td>\n",
              "    </tr>\n",
              "    <tr>\n",
              "      <th>3</th>\n",
              "      <td>3</td>\n",
              "      <td>A28XY55TP3Q90O</td>\n",
              "      <td>0981850006</td>\n",
              "      <td>JSG \"Lover of Learning\"</td>\n",
              "      <td>[1, 1]</td>\n",
              "      <td>THIS CAN BE FOUND AT: [...] FOR $19.99, also a...</td>\n",
              "      <td>5.0</td>\n",
              "      <td>BUY ELSEWHERE, TOO EXPENSIVE</td>\n",
              "      <td>1314144000</td>\n",
              "      <td>08 24, 2011</td>\n",
              "    </tr>\n",
              "    <tr>\n",
              "      <th>4</th>\n",
              "      <td>4</td>\n",
              "      <td>A3VZW1BGUQO0V3</td>\n",
              "      <td>0981850006</td>\n",
              "      <td>Marc G. Belisle \"Allswell2001\"</td>\n",
              "      <td>[2, 2]</td>\n",
              "      <td>Quite good particularly for inspiration (DVD g...</td>\n",
              "      <td>5.0</td>\n",
              "      <td>Quite good but I *much* prefer the cookbooks</td>\n",
              "      <td>1308268800</td>\n",
              "      <td>06 17, 2011</td>\n",
              "    </tr>\n",
              "  </tbody>\n",
              "</table>\n",
              "</div>"
            ],
            "text/plain": [
              "   Unnamed: 0      reviewerID  ... unixReviewTime   reviewTime\n",
              "0           0  A2VNYWOPJ13AFP  ...     1259798400   12 3, 2009\n",
              "1           1  A20DWVV8HML3AW  ...     1371081600  06 13, 2013\n",
              "2           2  A3RVP3YBYYOPRH  ...     1257984000  11 12, 2009\n",
              "3           3  A28XY55TP3Q90O  ...     1314144000  08 24, 2011\n",
              "4           4  A3VZW1BGUQO0V3  ...     1308268800  06 17, 2011\n",
              "\n",
              "[5 rows x 10 columns]"
            ]
          },
          "metadata": {
            "tags": []
          },
          "execution_count": 62
        }
      ]
    },
    {
      "cell_type": "code",
      "metadata": {
        "id": "Wb4wwLrKzBha",
        "colab_type": "code",
        "colab": {}
      },
      "source": [
        "df.to_csv('reviews_samples_amazonSummary.csv')\n",
        "!cp reviews_samples_amazonSummary.csv drive/My\\ Drive/"
      ],
      "execution_count": 0,
      "outputs": []
    },
    {
      "cell_type": "code",
      "metadata": {
        "id": "KvMWa86NxZKx",
        "colab_type": "code",
        "colab": {}
      },
      "source": [
        "from itertools import islice\n",
        "fileContents = defaultdict(list)\n",
        "with open('/content/drive/My Drive/reviews_samples_amazonSummary.csv', 'r') as f:\n",
        "    reader = csv.DictReader(f)\n",
        "    for row in islice(reader, 50000): # read a row as {column1: value1, column2: value2,...}\n",
        "        for (k,v) in row.items(): # go over each column name and value \n",
        "            fileContents[k].append(v) # append the value into the appropriate list"
      ],
      "execution_count": 0,
      "outputs": []
    },
    {
      "cell_type": "code",
      "metadata": {
        "id": "QOY3XOuizQ4P",
        "colab_type": "code",
        "outputId": "89c8831e-104a-41f9-e5c7-9487aab9e611",
        "colab": {
          "base_uri": "https://localhost:8080/",
          "height": 34
        }
      },
      "source": [
        "reviews = fileContents['summary']\n",
        "type(reviews)"
      ],
      "execution_count": 46,
      "outputs": [
        {
          "output_type": "execute_result",
          "data": {
            "text/plain": [
              "list"
            ]
          },
          "metadata": {
            "tags": []
          },
          "execution_count": 46
        }
      ]
    },
    {
      "cell_type": "code",
      "metadata": {
        "id": "N3WaVQ6nzRqD",
        "colab_type": "code",
        "colab": {}
      },
      "source": [
        "reviews = [re.sub(r'[^\\w\\s]','',str(item)) for item in reviews]"
      ],
      "execution_count": 0,
      "outputs": []
    },
    {
      "cell_type": "code",
      "metadata": {
        "id": "Rt0TxUR6zV2J",
        "colab_type": "code",
        "colab": {}
      },
      "source": [
        "stopwords = set(stopwords.words('english'))\n",
        "#stopwords.extend(['ok','doesnt','try','go','get','make','dont','2','first','second','place',\n",
        "                  #'would','really','like','great','came','got'])"
      ],
      "execution_count": 0,
      "outputs": []
    },
    {
      "cell_type": "code",
      "metadata": {
        "id": "tVPxXhaJzY8x",
        "colab_type": "code",
        "colab": {}
      },
      "source": [
        "texts = [[word for word in document.lower().split() if word not in stopwords] for document in reviews]"
      ],
      "execution_count": 0,
      "outputs": []
    },
    {
      "cell_type": "markdown",
      "metadata": {
        "id": "M_HffazQzmGg",
        "colab_type": "text"
      },
      "source": [
        "##LDA Implementation"
      ]
    },
    {
      "cell_type": "code",
      "metadata": {
        "id": "eNPo-zuQzgVh",
        "colab_type": "code",
        "colab": {}
      },
      "source": [
        "frequency = defaultdict(int)\n",
        "for text in texts:\n",
        "    for token in text:\n",
        "         frequency[token] += 1\n",
        "\n",
        "texts = [[token for token in text if frequency[token] > 1] for text in texts]"
      ],
      "execution_count": 0,
      "outputs": []
    },
    {
      "cell_type": "code",
      "metadata": {
        "id": "_Elrzu02zrR1",
        "colab_type": "code",
        "colab": {}
      },
      "source": [
        "dictionary = corpora.Dictionary(texts)"
      ],
      "execution_count": 0,
      "outputs": []
    },
    {
      "cell_type": "code",
      "metadata": {
        "id": "OVg10O44zvcv",
        "colab_type": "code",
        "outputId": "df845d93-3722-4426-a34d-30788ffb47d4",
        "colab": {
          "base_uri": "https://localhost:8080/",
          "height": 34
        }
      },
      "source": [
        "print(dictionary)"
      ],
      "execution_count": 52,
      "outputs": [
        {
          "output_type": "stream",
          "text": [
            "Dictionary(5335 unique tokens: ['husband', 'wanted', 'love', 'show', 'buy']...)\n"
          ],
          "name": "stdout"
        }
      ]
    },
    {
      "cell_type": "code",
      "metadata": {
        "id": "0TbHGM_mSYr_",
        "colab_type": "code",
        "colab": {}
      },
      "source": [
        "#df.dtypes\n",
        "summary= df['summary'].astype(str).copy() #Need the column as a string\n",
        "summary= summary.apply(lambda x: x.split())"
      ],
      "execution_count": 0,
      "outputs": []
    },
    {
      "cell_type": "code",
      "metadata": {
        "id": "_OIK9k2pzyUu",
        "colab_type": "code",
        "colab": {}
      },
      "source": [
        "# So what does the dictionary look like : Dictionary(5335 unique tokens: ['husband', 'wanted', 'love', 'show', 'buy']...)"
      ],
      "execution_count": 0,
      "outputs": []
    },
    {
      "cell_type": "code",
      "metadata": {
        "id": "cP_jE_H0z2mz",
        "colab_type": "code",
        "colab": {}
      },
      "source": [
        "corpus = [dictionary.doc2bow(text) for text in texts]"
      ],
      "execution_count": 0,
      "outputs": []
    },
    {
      "cell_type": "code",
      "metadata": {
        "id": "xQ27HYHRz5_s",
        "colab_type": "code",
        "outputId": "69b65381-c049-482e-c967-b414b0766e18",
        "colab": {
          "base_uri": "https://localhost:8080/",
          "height": 1000
        }
      },
      "source": [
        "#DO NOT RUN THIS ONE. It is for Version 1\n",
        "#NUM_TOPICS = 10 # This is an assumption. Needs to be tuned. \n",
        "#ldamodel = LdaModel(corpus, num_topics = NUM_TOPICS, id2word=dictionary, passes=20)#This might take some time."
      ],
      "execution_count": 0,
      "outputs": []
    },
    {
      "cell_type": "code",
      "metadata": {
        "id": "ZsXLEP7ENfEQ",
        "colab_type": "code",
        "colab": {}
      },
      "source": [
        "#trying to log the model fitting and saving it\n",
        "import logging\n",
        "logging.basicConfig(filename='lda_model.log', format='%(asctime)s : %(levelname)s : %(message)s', level=logging.INFO)\n",
        "import warnings\n",
        "import gensim\n",
        "with warnings.catch_warnings():\n",
        "    warnings.simplefilter('ignore')\n",
        "    lda_train4 = gensim.models.ldamulticore.LdaMulticore(\n",
        "                           corpus=corpus,\n",
        "                           num_topics=20,\n",
        "                           id2word=dictionary,\n",
        "                           chunksize=100,\n",
        "                           workers=7, # Num. Processing Cores - 1\n",
        "                           passes=50,\n",
        "                           eval_every = 1,\n",
        "                           per_word_topics=True)\n",
        "    lda_train4.save('lda_train4.model')"
      ],
      "execution_count": 0,
      "outputs": []
    },
    {
      "cell_type": "code",
      "metadata": {
        "id": "EF4uBk8tNf-u",
        "colab_type": "code",
        "colab": {
          "base_uri": "https://localhost:8080/",
          "height": 34
        },
        "outputId": "b9fb3bc8-38fe-41b8-bb02-c8ee83180ae9"
      },
      "source": [
        "coherence_model_lda = CoherenceModel(model=lda_train4, texts=summary, dictionary=dictionary, coherence='c_v')\n",
        "coherence_lda = coherence_model_lda.get_coherence()\n",
        "coherence_lda"
      ],
      "execution_count": 77,
      "outputs": [
        {
          "output_type": "execute_result",
          "data": {
            "text/plain": [
              "0.4795560192183686"
            ]
          },
          "metadata": {
            "tags": []
          },
          "execution_count": 77
        }
      ]
    },
    {
      "cell_type": "code",
      "metadata": {
        "id": "R_DX0L_G0BmD",
        "colab_type": "code",
        "outputId": "ae5d26f2-df70-4e11-b06b-ff3287c7c553",
        "colab": {
          "base_uri": "https://localhost:8080/",
          "height": 207
        }
      },
      "source": [
        "topics = lda_train4.show_topics()\n",
        "for topic in topics:\n",
        "    print(topic)"
      ],
      "execution_count": 82,
      "outputs": [
        {
          "output_type": "stream",
          "text": [
            "(8, '0.232*\"works\" + 0.117*\"well\" + 0.072*\"job\" + 0.051*\"worked\" + 0.027*\"value\" + 0.019*\"working\" + 0.017*\"okay\" + 0.017*\"gets\" + 0.015*\"done\" + 0.015*\"make\"')\n",
            "(12, '0.085*\"made\" + 0.065*\"bad\" + 0.049*\"happy\" + 0.047*\"purchase\" + 0.047*\"gift\" + 0.041*\"thing\" + 0.039*\"amazing\" + 0.033*\"well\" + 0.033*\"useful\" + 0.032*\"squirrels\"')\n",
            "(2, '0.099*\"better\" + 0.051*\"expected\" + 0.039*\"much\" + 0.036*\"last\" + 0.031*\"water\" + 0.029*\"new\" + 0.029*\"disappointed\" + 0.027*\"exactly\" + 0.027*\"patio\" + 0.025*\"solid\"')\n",
            "(19, '0.140*\"nice\" + 0.094*\"work\" + 0.057*\"trap\" + 0.035*\"didnt\" + 0.028*\"right\" + 0.026*\"trimmer\" + 0.024*\"mole\" + 0.024*\"could\" + 0.019*\"fly\" + 0.017*\"problems\"')\n",
            "(1, '0.092*\"small\" + 0.087*\"awesome\" + 0.046*\"cheap\" + 0.044*\"gas\" + 0.038*\"fantastic\" + 0.034*\"thrower\" + 0.033*\"must\" + 0.031*\"timer\" + 0.029*\"yard\" + 0.026*\"idea\"')\n",
            "(4, '0.046*\"set\" + 0.032*\"squirrel\" + 0.032*\"needed\" + 0.032*\"back\" + 0.031*\"needs\" + 0.029*\"hummingbird\" + 0.029*\"super\" + 0.026*\"cant\" + 0.023*\"enough\" + 0.022*\"12\"')\n",
            "(17, '0.119*\"price\" + 0.111*\"buy\" + 0.110*\"one\" + 0.077*\"dont\" + 0.053*\"toro\" + 0.033*\"bought\" + 0.021*\"heavy\" + 0.017*\"seems\" + 0.015*\"duty\" + 0.014*\"cut\"')\n",
            "(10, '0.154*\"mower\" + 0.058*\"lawn\" + 0.053*\"hose\" + 0.034*\"sprayer\" + 0.030*\"handy\" + 0.021*\"service\" + 0.020*\"strong\" + 0.017*\"going\" + 0.017*\"reel\" + 0.017*\"customer\"')\n",
            "(14, '0.082*\"stars\" + 0.075*\"get\" + 0.055*\"five\" + 0.053*\"first\" + 0.051*\"smoker\" + 0.034*\"old\" + 0.033*\"fits\" + 0.029*\"hard\" + 0.027*\"handle\" + 0.016*\"find\"')\n",
            "(13, '0.056*\"fiskars\" + 0.054*\"metal\" + 0.052*\"detector\" + 0.050*\"ok\" + 0.032*\"grass\" + 0.032*\"sprinkler\" + 0.031*\"ive\" + 0.030*\"power\" + 0.022*\"shears\" + 0.021*\"pruner\"')\n"
          ],
          "name": "stdout"
        }
      ]
    },
    {
      "cell_type": "code",
      "metadata": {
        "id": "jaARF_SN0FCw",
        "colab_type": "code",
        "outputId": "e1ee851e-1e21-4fcd-cc43-f568dbc78c52",
        "colab": {
          "base_uri": "https://localhost:8080/",
          "height": 669
        }
      },
      "source": [
        "word_dict = {};\n",
        "for i in range(NUM_TOPICS):\n",
        "    words = lda_train4.show_topic(i, topn = 20)\n",
        "    word_dict['Topic # ' + '{:02d}'.format(i+1)] = [i[0] for i in words]\n",
        "pd.DataFrame(word_dict)"
      ],
      "execution_count": 83,
      "outputs": [
        {
          "output_type": "execute_result",
          "data": {
            "text/html": [
              "<div>\n",
              "<style scoped>\n",
              "    .dataframe tbody tr th:only-of-type {\n",
              "        vertical-align: middle;\n",
              "    }\n",
              "\n",
              "    .dataframe tbody tr th {\n",
              "        vertical-align: top;\n",
              "    }\n",
              "\n",
              "    .dataframe thead th {\n",
              "        text-align: right;\n",
              "    }\n",
              "</style>\n",
              "<table border=\"1\" class=\"dataframe\">\n",
              "  <thead>\n",
              "    <tr style=\"text-align: right;\">\n",
              "      <th></th>\n",
              "      <th>Topic # 01</th>\n",
              "      <th>Topic # 02</th>\n",
              "      <th>Topic # 03</th>\n",
              "      <th>Topic # 04</th>\n",
              "      <th>Topic # 05</th>\n",
              "      <th>Topic # 06</th>\n",
              "      <th>Topic # 07</th>\n",
              "      <th>Topic # 08</th>\n",
              "      <th>Topic # 09</th>\n",
              "      <th>Topic # 10</th>\n",
              "    </tr>\n",
              "  </thead>\n",
              "  <tbody>\n",
              "    <tr>\n",
              "      <th>0</th>\n",
              "      <td>easy</td>\n",
              "      <td>small</td>\n",
              "      <td>better</td>\n",
              "      <td>perfect</td>\n",
              "      <td>set</td>\n",
              "      <td>money</td>\n",
              "      <td>best</td>\n",
              "      <td>great</td>\n",
              "      <td>works</td>\n",
              "      <td>good</td>\n",
              "    </tr>\n",
              "    <tr>\n",
              "      <th>1</th>\n",
              "      <td>pool</td>\n",
              "      <td>awesome</td>\n",
              "      <td>expected</td>\n",
              "      <td>little</td>\n",
              "      <td>squirrel</td>\n",
              "      <td>worth</td>\n",
              "      <td>like</td>\n",
              "      <td>works</td>\n",
              "      <td>well</td>\n",
              "      <td>product</td>\n",
              "    </tr>\n",
              "    <tr>\n",
              "      <th>2</th>\n",
              "      <td>use</td>\n",
              "      <td>cheap</td>\n",
              "      <td>much</td>\n",
              "      <td>cover</td>\n",
              "      <td>needed</td>\n",
              "      <td>far</td>\n",
              "      <td>ever</td>\n",
              "      <td>product</td>\n",
              "      <td>job</td>\n",
              "      <td>really</td>\n",
              "    </tr>\n",
              "    <tr>\n",
              "      <th>3</th>\n",
              "      <td>quality</td>\n",
              "      <td>gas</td>\n",
              "      <td>last</td>\n",
              "      <td>snow</td>\n",
              "      <td>back</td>\n",
              "      <td>doesnt</td>\n",
              "      <td>axe</td>\n",
              "      <td>value</td>\n",
              "      <td>worked</td>\n",
              "      <td>time</td>\n",
              "    </tr>\n",
              "    <tr>\n",
              "      <th>4</th>\n",
              "      <td>poor</td>\n",
              "      <td>fantastic</td>\n",
              "      <td>water</td>\n",
              "      <td>replacement</td>\n",
              "      <td>needs</td>\n",
              "      <td>used</td>\n",
              "      <td>junk</td>\n",
              "      <td>tool</td>\n",
              "      <td>value</td>\n",
              "      <td>quality</td>\n",
              "    </tr>\n",
              "    <tr>\n",
              "      <th>5</th>\n",
              "      <td>years</td>\n",
              "      <td>thrower</td>\n",
              "      <td>new</td>\n",
              "      <td>item</td>\n",
              "      <td>hummingbird</td>\n",
              "      <td>waste</td>\n",
              "      <td>still</td>\n",
              "      <td>beware</td>\n",
              "      <td>working</td>\n",
              "      <td>pretty</td>\n",
              "    </tr>\n",
              "    <tr>\n",
              "      <th>6</th>\n",
              "      <td>2</td>\n",
              "      <td>must</td>\n",
              "      <td>disappointed</td>\n",
              "      <td>plastic</td>\n",
              "      <td>super</td>\n",
              "      <td>advertised</td>\n",
              "      <td>birds</td>\n",
              "      <td>im</td>\n",
              "      <td>okay</td>\n",
              "      <td>wonderful</td>\n",
              "    </tr>\n",
              "    <tr>\n",
              "      <th>7</th>\n",
              "      <td>long</td>\n",
              "      <td>timer</td>\n",
              "      <td>exactly</td>\n",
              "      <td>wow</td>\n",
              "      <td>cant</td>\n",
              "      <td>heater</td>\n",
              "      <td>fine</td>\n",
              "      <td>perfectly</td>\n",
              "      <td>gets</td>\n",
              "      <td>simple</td>\n",
              "    </tr>\n",
              "    <tr>\n",
              "      <th>8</th>\n",
              "      <td>box</td>\n",
              "      <td>yard</td>\n",
              "      <td>patio</td>\n",
              "      <td>pleased</td>\n",
              "      <td>enough</td>\n",
              "      <td>size</td>\n",
              "      <td>splitting</td>\n",
              "      <td>around</td>\n",
              "      <td>done</td>\n",
              "      <td>looks</td>\n",
              "    </tr>\n",
              "    <tr>\n",
              "      <th>9</th>\n",
              "      <td>pump</td>\n",
              "      <td>idea</td>\n",
              "      <td>solid</td>\n",
              "      <td>deal</td>\n",
              "      <td>12</td>\n",
              "      <td>two</td>\n",
              "      <td>need</td>\n",
              "      <td>missing</td>\n",
              "      <td>make</td>\n",
              "      <td>keep</td>\n",
              "    </tr>\n",
              "    <tr>\n",
              "      <th>10</th>\n",
              "      <td>broke</td>\n",
              "      <td>save</td>\n",
              "      <td>bbq</td>\n",
              "      <td>parts</td>\n",
              "      <td>never</td>\n",
              "      <td>work</td>\n",
              "      <td>year</td>\n",
              "      <td>reviews</td>\n",
              "      <td>shovel</td>\n",
              "      <td>away</td>\n",
              "    </tr>\n",
              "    <tr>\n",
              "      <th>11</th>\n",
              "      <td>storage</td>\n",
              "      <td>bug</td>\n",
              "      <td>even</td>\n",
              "      <td>real</td>\n",
              "      <td>summer</td>\n",
              "      <td>5</td>\n",
              "      <td>starter</td>\n",
              "      <td>yellow</td>\n",
              "      <td>mr</td>\n",
              "      <td>saver</td>\n",
              "    </tr>\n",
              "    <tr>\n",
              "      <th>12</th>\n",
              "      <td>intex</td>\n",
              "      <td>assemble</td>\n",
              "      <td>proof</td>\n",
              "      <td>amazon</td>\n",
              "      <td>blade</td>\n",
              "      <td>yet</td>\n",
              "      <td>piece</td>\n",
              "      <td>couldnt</td>\n",
              "      <td>short</td>\n",
              "      <td>decent</td>\n",
              "    </tr>\n",
              "    <tr>\n",
              "      <th>13</th>\n",
              "      <td>go</td>\n",
              "      <td>lightweight</td>\n",
              "      <td>terrible</td>\n",
              "      <td>garbage</td>\n",
              "      <td>portable</td>\n",
              "      <td>traps</td>\n",
              "      <td>every</td>\n",
              "      <td>arrived</td>\n",
              "      <td>stand</td>\n",
              "      <td>want</td>\n",
              "    </tr>\n",
              "    <tr>\n",
              "      <th>14</th>\n",
              "      <td>1800</td>\n",
              "      <td>satisfied</td>\n",
              "      <td>wanted</td>\n",
              "      <td>designed</td>\n",
              "      <td>assembly</td>\n",
              "      <td>horrible</td>\n",
              "      <td>4</td>\n",
              "      <td>update</td>\n",
              "      <td>day</td>\n",
              "      <td>bit</td>\n",
              "    </tr>\n",
              "    <tr>\n",
              "      <th>15</th>\n",
              "      <td>fast</td>\n",
              "      <td>house</td>\n",
              "      <td>lawnmower</td>\n",
              "      <td>quiet</td>\n",
              "      <td>broken</td>\n",
              "      <td>wheel</td>\n",
              "      <td>would</td>\n",
              "      <td>supposed</td>\n",
              "      <td>put</td>\n",
              "      <td>yes</td>\n",
              "    </tr>\n",
              "    <tr>\n",
              "      <th>16</th>\n",
              "      <td>second</td>\n",
              "      <td>hopper</td>\n",
              "      <td>caddie</td>\n",
              "      <td>hedge</td>\n",
              "      <td>another</td>\n",
              "      <td>time</td>\n",
              "      <td>owned</td>\n",
              "      <td>company</td>\n",
              "      <td>months</td>\n",
              "      <td>helpful</td>\n",
              "    </tr>\n",
              "    <tr>\n",
              "      <th>17</th>\n",
              "      <td>shipping</td>\n",
              "      <td>zapper</td>\n",
              "      <td>suncast</td>\n",
              "      <td>solution</td>\n",
              "      <td>lasted</td>\n",
              "      <td>stuff</td>\n",
              "      <td>less</td>\n",
              "      <td>clippers</td>\n",
              "      <td>everything</td>\n",
              "      <td>pest</td>\n",
              "    </tr>\n",
              "    <tr>\n",
              "      <th>18</th>\n",
              "      <td>useless</td>\n",
              "      <td>flowtron</td>\n",
              "      <td>pressure</td>\n",
              "      <td>thermometer</td>\n",
              "      <td>star</td>\n",
              "      <td>headphones</td>\n",
              "      <td>life</td>\n",
              "      <td>chainsaw</td>\n",
              "      <td>heat</td>\n",
              "      <td>efficient</td>\n",
              "    </tr>\n",
              "    <tr>\n",
              "      <th>19</th>\n",
              "      <td>low</td>\n",
              "      <td>highly</td>\n",
              "      <td>expectations</td>\n",
              "      <td>start</td>\n",
              "      <td>chaser</td>\n",
              "      <td>camping</td>\n",
              "      <td>cool</td>\n",
              "      <td>overall</td>\n",
              "      <td>found</td>\n",
              "      <td>hands</td>\n",
              "    </tr>\n",
              "  </tbody>\n",
              "</table>\n",
              "</div>"
            ],
            "text/plain": [
              "   Topic # 01   Topic # 02    Topic # 03  ... Topic # 08  Topic # 09 Topic # 10\n",
              "0        easy        small        better  ...      great       works       good\n",
              "1        pool      awesome      expected  ...      works        well    product\n",
              "2         use        cheap          much  ...    product         job     really\n",
              "3     quality          gas          last  ...      value      worked       time\n",
              "4        poor    fantastic         water  ...       tool       value    quality\n",
              "5       years      thrower           new  ...     beware     working     pretty\n",
              "6           2         must  disappointed  ...         im        okay  wonderful\n",
              "7        long        timer       exactly  ...  perfectly        gets     simple\n",
              "8         box         yard         patio  ...     around        done      looks\n",
              "9        pump         idea         solid  ...    missing        make       keep\n",
              "10      broke         save           bbq  ...    reviews      shovel       away\n",
              "11    storage          bug          even  ...     yellow          mr      saver\n",
              "12      intex     assemble         proof  ...    couldnt       short     decent\n",
              "13         go  lightweight      terrible  ...    arrived       stand       want\n",
              "14       1800    satisfied        wanted  ...     update         day        bit\n",
              "15       fast        house     lawnmower  ...   supposed         put        yes\n",
              "16     second       hopper        caddie  ...    company      months    helpful\n",
              "17   shipping       zapper       suncast  ...   clippers  everything       pest\n",
              "18    useless     flowtron      pressure  ...   chainsaw        heat  efficient\n",
              "19        low       highly  expectations  ...    overall       found      hands\n",
              "\n",
              "[20 rows x 10 columns]"
            ]
          },
          "metadata": {
            "tags": []
          },
          "execution_count": 83
        }
      ]
    },
    {
      "cell_type": "code",
      "metadata": {
        "id": "I_AfehIz0IhX",
        "colab_type": "code",
        "outputId": "c340aa34-a0c0-4d16-a048-5c52e431b938",
        "colab": {
          "base_uri": "https://localhost:8080/",
          "height": 997
        }
      },
      "source": [
        "lda_display = pyLDAvis.gensim.prepare(lda_train4, corpus, dictionary, sort_topics=False)\n",
        "pyLDAvis.display(lda_display)"
      ],
      "execution_count": 84,
      "outputs": [
        {
          "output_type": "stream",
          "text": [
            "/usr/local/lib/python3.6/dist-packages/pyLDAvis/_prepare.py:257: FutureWarning: Sorting because non-concatenation axis is not aligned. A future version\n",
            "of pandas will change to not sort by default.\n",
            "\n",
            "To accept the future behavior, pass 'sort=False'.\n",
            "\n",
            "To retain the current behavior and silence the warning, pass 'sort=True'.\n",
            "\n",
            "  return pd.concat([default_term_info] + list(topic_dfs))\n"
          ],
          "name": "stderr"
        },
        {
          "output_type": "execute_result",
          "data": {
            "text/html": [
              "\n",
              "<link rel=\"stylesheet\" type=\"text/css\" href=\"https://cdn.rawgit.com/bmabey/pyLDAvis/files/ldavis.v1.0.0.css\">\n",
              "\n",
              "\n",
              "<div id=\"ldavis_el1251403823607384563039367512\"></div>\n",
              "<script type=\"text/javascript\">\n",
              "\n",
              "var ldavis_el1251403823607384563039367512_data = {\"mdsDat\": {\"x\": [-5.964198229538026e-05, 0.056812748341018515, 0.058817743082925894, 0.054671726140155065, 0.06357666206027322, 0.04897550132382415, 0.06374844658554568, -0.3552839405650069, -0.27437643019056895, -0.1777943926138207, 0.05897586816646563, 0.05954533206833494, -0.0308365755284605, 0.059498473083812904, 0.06296190213715955, -0.002571924115239478, 0.05781304304975257, 0.06752300874948614, 0.05258006146573593, 0.07542238874090194], \"y\": [0.2864223178219318, -0.02992282604621477, -0.03384010958708454, -0.02708677663315556, 0.0016202109125878332, 0.07270418080641344, -0.007543997188956961, -0.003582082855255285, -0.19355919717535466, 0.28107648953657516, -0.034225683148903265, -0.03157738637967393, -0.1680021494593123, -0.03200498315856256, -0.03887119460478381, -0.03879696114170543, -0.03681910742870527, 0.04810374255663756, -0.022424227195792255, 0.00832974036931495], \"topics\": [1, 2, 3, 4, 5, 6, 7, 8, 9, 10, 11, 12, 13, 14, 15, 16, 17, 18, 19, 20], \"cluster\": [1, 1, 1, 1, 1, 1, 1, 1, 1, 1, 1, 1, 1, 1, 1, 1, 1, 1, 1, 1], \"Freq\": [5.588839054107666, 4.3275532722473145, 4.457119464874268, 4.730696201324463, 4.608116149902344, 4.078184127807617, 6.243903160095215, 7.122401237487793, 5.0275726318359375, 5.55159330368042, 5.958740234375, 4.021714687347412, 4.120667457580566, 4.832280158996582, 4.031052589416504, 4.704615592956543, 4.38178014755249, 4.942770481109619, 5.92182731628418, 5.348569393157959]}, \"tinfo\": {\"Category\": [\"Default\", \"Default\", \"Default\", \"Default\", \"Default\", \"Default\", \"Default\", \"Default\", \"Default\", \"Default\", \"Default\", \"Default\", \"Default\", \"Default\", \"Default\", \"Default\", \"Default\", \"Default\", \"Default\", \"Default\", \"Default\", \"Default\", \"Default\", \"Default\", \"Default\", \"Default\", \"Default\", \"Default\", \"Default\", \"Default\", \"Topic1\", \"Topic1\", \"Topic1\", \"Topic1\", \"Topic1\", \"Topic1\", \"Topic1\", \"Topic1\", \"Topic1\", \"Topic1\", \"Topic1\", \"Topic1\", \"Topic1\", \"Topic1\", \"Topic1\", \"Topic1\", \"Topic1\", \"Topic1\", \"Topic1\", \"Topic1\", \"Topic1\", \"Topic1\", \"Topic1\", \"Topic1\", \"Topic1\", \"Topic1\", \"Topic1\", \"Topic1\", \"Topic1\", \"Topic1\", \"Topic1\", \"Topic1\", \"Topic1\", \"Topic2\", \"Topic2\", \"Topic2\", \"Topic2\", \"Topic2\", \"Topic2\", \"Topic2\", \"Topic2\", \"Topic2\", \"Topic2\", \"Topic2\", \"Topic2\", \"Topic2\", \"Topic2\", \"Topic2\", \"Topic2\", \"Topic2\", \"Topic2\", \"Topic2\", \"Topic2\", \"Topic2\", \"Topic2\", \"Topic2\", \"Topic2\", \"Topic2\", \"Topic2\", \"Topic2\", \"Topic2\", \"Topic2\", \"Topic2\", \"Topic2\", \"Topic3\", \"Topic3\", \"Topic3\", \"Topic3\", \"Topic3\", \"Topic3\", \"Topic3\", \"Topic3\", \"Topic3\", \"Topic3\", \"Topic3\", \"Topic3\", \"Topic3\", \"Topic3\", \"Topic3\", \"Topic3\", \"Topic3\", \"Topic3\", \"Topic3\", \"Topic3\", \"Topic3\", \"Topic3\", \"Topic3\", \"Topic3\", \"Topic3\", \"Topic3\", \"Topic3\", \"Topic3\", \"Topic3\", \"Topic3\", \"Topic4\", \"Topic4\", \"Topic4\", \"Topic4\", \"Topic4\", \"Topic4\", \"Topic4\", \"Topic4\", \"Topic4\", \"Topic4\", \"Topic4\", \"Topic4\", \"Topic4\", \"Topic4\", \"Topic4\", \"Topic4\", \"Topic4\", \"Topic4\", \"Topic4\", \"Topic4\", \"Topic4\", \"Topic4\", \"Topic4\", \"Topic4\", \"Topic4\", \"Topic4\", \"Topic4\", \"Topic4\", \"Topic4\", \"Topic4\", \"Topic5\", \"Topic5\", \"Topic5\", \"Topic5\", \"Topic5\", \"Topic5\", \"Topic5\", \"Topic5\", \"Topic5\", \"Topic5\", \"Topic5\", \"Topic5\", \"Topic5\", \"Topic5\", \"Topic5\", \"Topic5\", \"Topic5\", \"Topic5\", \"Topic5\", \"Topic5\", \"Topic5\", \"Topic5\", \"Topic5\", \"Topic5\", \"Topic5\", \"Topic5\", \"Topic5\", \"Topic5\", \"Topic5\", \"Topic5\", \"Topic5\", \"Topic5\", \"Topic6\", \"Topic6\", \"Topic6\", \"Topic6\", \"Topic6\", \"Topic6\", \"Topic6\", \"Topic6\", \"Topic6\", \"Topic6\", \"Topic6\", \"Topic6\", \"Topic6\", \"Topic6\", \"Topic6\", \"Topic6\", \"Topic6\", \"Topic6\", \"Topic6\", \"Topic6\", \"Topic6\", \"Topic6\", \"Topic6\", \"Topic6\", \"Topic6\", \"Topic6\", \"Topic6\", \"Topic6\", \"Topic6\", \"Topic6\", \"Topic6\", \"Topic6\", \"Topic6\", \"Topic7\", \"Topic7\", \"Topic7\", \"Topic7\", \"Topic7\", \"Topic7\", \"Topic7\", \"Topic7\", \"Topic7\", \"Topic7\", \"Topic7\", \"Topic7\", \"Topic7\", \"Topic7\", \"Topic7\", \"Topic7\", \"Topic7\", \"Topic7\", \"Topic7\", \"Topic7\", \"Topic7\", \"Topic7\", \"Topic7\", \"Topic7\", \"Topic7\", \"Topic7\", \"Topic7\", \"Topic7\", \"Topic7\", \"Topic7\", \"Topic7\", \"Topic7\", \"Topic8\", \"Topic8\", \"Topic8\", \"Topic8\", \"Topic8\", \"Topic8\", \"Topic8\", \"Topic8\", \"Topic8\", \"Topic8\", \"Topic8\", \"Topic8\", \"Topic8\", \"Topic8\", \"Topic8\", \"Topic8\", \"Topic8\", \"Topic8\", \"Topic8\", \"Topic8\", \"Topic8\", \"Topic8\", \"Topic8\", \"Topic8\", \"Topic8\", \"Topic8\", \"Topic8\", \"Topic8\", \"Topic8\", \"Topic8\", \"Topic8\", \"Topic8\", \"Topic8\", \"Topic8\", \"Topic8\", \"Topic9\", \"Topic9\", \"Topic9\", \"Topic9\", \"Topic9\", \"Topic9\", \"Topic9\", \"Topic9\", \"Topic9\", \"Topic9\", \"Topic9\", \"Topic9\", \"Topic9\", \"Topic9\", \"Topic9\", \"Topic9\", \"Topic9\", \"Topic9\", \"Topic9\", \"Topic9\", \"Topic9\", \"Topic9\", \"Topic9\", \"Topic9\", \"Topic9\", \"Topic9\", \"Topic9\", \"Topic9\", \"Topic9\", \"Topic9\", \"Topic9\", \"Topic9\", \"Topic9\", \"Topic10\", \"Topic10\", \"Topic10\", \"Topic10\", \"Topic10\", \"Topic10\", \"Topic10\", \"Topic10\", \"Topic10\", \"Topic10\", \"Topic10\", \"Topic10\", \"Topic10\", \"Topic10\", \"Topic10\", \"Topic10\", \"Topic10\", \"Topic10\", \"Topic10\", \"Topic10\", \"Topic10\", \"Topic10\", \"Topic10\", \"Topic10\", \"Topic10\", \"Topic10\", \"Topic10\", \"Topic10\", \"Topic10\", \"Topic10\", \"Topic10\", \"Topic10\", \"Topic10\", \"Topic11\", \"Topic11\", \"Topic11\", \"Topic11\", \"Topic11\", \"Topic11\", \"Topic11\", \"Topic11\", \"Topic11\", \"Topic11\", \"Topic11\", \"Topic11\", \"Topic11\", \"Topic11\", \"Topic11\", \"Topic11\", \"Topic11\", \"Topic11\", \"Topic11\", \"Topic11\", \"Topic11\", \"Topic11\", \"Topic11\", \"Topic11\", \"Topic11\", \"Topic11\", \"Topic11\", \"Topic11\", \"Topic11\", \"Topic11\", \"Topic11\", \"Topic12\", \"Topic12\", \"Topic12\", \"Topic12\", \"Topic12\", \"Topic12\", \"Topic12\", \"Topic12\", \"Topic12\", \"Topic12\", \"Topic12\", \"Topic12\", \"Topic12\", \"Topic12\", \"Topic12\", \"Topic12\", \"Topic12\", \"Topic12\", \"Topic12\", \"Topic12\", \"Topic12\", \"Topic12\", \"Topic12\", \"Topic12\", \"Topic12\", \"Topic12\", \"Topic12\", \"Topic12\", \"Topic12\", \"Topic12\", \"Topic13\", \"Topic13\", \"Topic13\", \"Topic13\", \"Topic13\", \"Topic13\", \"Topic13\", \"Topic13\", \"Topic13\", \"Topic13\", \"Topic13\", \"Topic13\", \"Topic13\", \"Topic13\", \"Topic13\", \"Topic13\", \"Topic13\", \"Topic13\", \"Topic13\", \"Topic13\", \"Topic13\", \"Topic13\", \"Topic13\", \"Topic13\", \"Topic13\", \"Topic13\", \"Topic13\", \"Topic13\", \"Topic13\", \"Topic13\", \"Topic13\", \"Topic14\", \"Topic14\", \"Topic14\", \"Topic14\", \"Topic14\", \"Topic14\", \"Topic14\", \"Topic14\", \"Topic14\", \"Topic14\", \"Topic14\", \"Topic14\", \"Topic14\", \"Topic14\", \"Topic14\", \"Topic14\", \"Topic14\", \"Topic14\", \"Topic14\", \"Topic14\", \"Topic14\", \"Topic14\", \"Topic14\", \"Topic14\", \"Topic14\", \"Topic14\", \"Topic14\", \"Topic14\", \"Topic14\", \"Topic14\", \"Topic14\", \"Topic14\", \"Topic14\", \"Topic14\", \"Topic14\", \"Topic15\", \"Topic15\", \"Topic15\", \"Topic15\", \"Topic15\", \"Topic15\", \"Topic15\", \"Topic15\", \"Topic15\", \"Topic15\", \"Topic15\", \"Topic15\", \"Topic15\", \"Topic15\", \"Topic15\", \"Topic15\", \"Topic15\", \"Topic15\", \"Topic15\", \"Topic15\", \"Topic15\", \"Topic15\", \"Topic15\", \"Topic15\", \"Topic15\", \"Topic15\", \"Topic15\", \"Topic15\", \"Topic15\", \"Topic15\", \"Topic15\", \"Topic16\", \"Topic16\", \"Topic16\", \"Topic16\", \"Topic16\", \"Topic16\", \"Topic16\", \"Topic16\", \"Topic16\", \"Topic16\", \"Topic16\", \"Topic16\", \"Topic16\", \"Topic16\", \"Topic16\", \"Topic16\", \"Topic16\", \"Topic16\", \"Topic16\", \"Topic16\", \"Topic16\", \"Topic16\", \"Topic16\", \"Topic16\", \"Topic16\", \"Topic16\", \"Topic16\", \"Topic16\", \"Topic16\", \"Topic16\", \"Topic16\", \"Topic16\", \"Topic17\", \"Topic17\", \"Topic17\", \"Topic17\", \"Topic17\", \"Topic17\", \"Topic17\", \"Topic17\", \"Topic17\", \"Topic17\", \"Topic17\", \"Topic17\", \"Topic17\", \"Topic17\", \"Topic17\", \"Topic17\", \"Topic17\", \"Topic17\", \"Topic17\", \"Topic17\", \"Topic17\", \"Topic17\", \"Topic17\", \"Topic17\", \"Topic17\", \"Topic17\", \"Topic17\", \"Topic17\", \"Topic17\", \"Topic17\", \"Topic17\", \"Topic18\", \"Topic18\", \"Topic18\", \"Topic18\", \"Topic18\", \"Topic18\", \"Topic18\", \"Topic18\", \"Topic18\", \"Topic18\", \"Topic18\", \"Topic18\", \"Topic18\", \"Topic18\", \"Topic18\", \"Topic18\", \"Topic18\", \"Topic18\", \"Topic18\", \"Topic18\", \"Topic18\", \"Topic18\", \"Topic18\", \"Topic18\", \"Topic18\", \"Topic18\", \"Topic18\", \"Topic18\", \"Topic18\", \"Topic18\", \"Topic18\", \"Topic18\", \"Topic18\", \"Topic18\", \"Topic19\", \"Topic19\", \"Topic19\", \"Topic19\", \"Topic19\", \"Topic19\", \"Topic19\", \"Topic19\", \"Topic19\", \"Topic19\", \"Topic19\", \"Topic19\", \"Topic19\", \"Topic19\", \"Topic19\", \"Topic19\", \"Topic19\", \"Topic19\", \"Topic19\", \"Topic19\", \"Topic19\", \"Topic19\", \"Topic19\", \"Topic19\", \"Topic19\", \"Topic19\", \"Topic19\", \"Topic19\", \"Topic19\", \"Topic19\", \"Topic19\", \"Topic20\", \"Topic20\", \"Topic20\", \"Topic20\", \"Topic20\", \"Topic20\", \"Topic20\", \"Topic20\", \"Topic20\", \"Topic20\", \"Topic20\", \"Topic20\", \"Topic20\", \"Topic20\", \"Topic20\", \"Topic20\", \"Topic20\", \"Topic20\", \"Topic20\", \"Topic20\", \"Topic20\", \"Topic20\", \"Topic20\", \"Topic20\", \"Topic20\", \"Topic20\", \"Topic20\", \"Topic20\", \"Topic20\", \"Topic20\", \"Topic20\", \"Topic20\"], \"Freq\": [6304.0, 3045.0, 2283.0, 1496.0, 1773.0, 1212.0, 1342.0, 1267.0, 1026.0, 1035.0, 926.0, 966.0, 892.0, 1000.0, 813.0, 826.0, 766.0, 760.0, 754.0, 680.0, 734.0, 830.0, 610.0, 622.0, 599.0, 647.0, 552.0, 564.0, 521.0, 583.0, 965.6517333984375, 825.0899658203125, 733.9154663085938, 317.6869812011719, 185.4744873046875, 183.61920166015625, 179.12753295898438, 166.5935516357422, 163.9601593017578, 162.9144287109375, 153.0178680419922, 131.0162353515625, 99.9487075805664, 83.73735809326172, 83.55996704101562, 81.90951538085938, 79.3583755493164, 78.9419937133789, 70.61200714111328, 57.1236457824707, 51.509246826171875, 45.47833251953125, 43.0918083190918, 41.110347747802734, 40.70283889770508, 38.98856735229492, 38.28902053833008, 37.46329879760742, 35.6911735534668, 35.49243927001953, 254.1772003173828, 491.1409912109375, 53.27736282348633, 551.2317504882812, 520.1531372070312, 274.8975524902344, 263.1372985839844, 228.0878448486328, 201.42481994628906, 197.57748413085938, 184.8339385986328, 171.20651245117188, 156.7197723388672, 119.82139587402344, 107.94742584228516, 106.3869400024414, 101.09721374511719, 89.55664825439453, 88.21183013916016, 72.68209838867188, 70.6021957397461, 67.3717269897461, 66.6797103881836, 64.24991607666016, 57.73923873901367, 55.35362243652344, 52.08311462402344, 51.9298095703125, 50.801761627197266, 50.40813064575195, 45.73531723022461, 45.017852783203125, 38.536014556884766, 68.99747467041016, 609.7422485351562, 314.0389099121094, 243.32875061035156, 224.83309936523438, 192.86126708984375, 179.49197387695312, 176.8653106689453, 166.9276123046875, 165.5452880859375, 151.6158447265625, 150.31263732910156, 132.380615234375, 123.64518737792969, 106.11767578125, 102.69851684570312, 95.84960174560547, 95.39106750488281, 94.61115264892578, 85.6485595703125, 83.6026840209961, 77.30642700195312, 67.21558380126953, 60.97682189941406, 57.99408721923828, 56.1945915222168, 56.052249908447266, 53.13929748535156, 50.97346878051758, 50.8875732421875, 41.74990463256836, 925.4816284179688, 765.2755737304688, 621.4259643554688, 450.8524169921875, 318.620849609375, 246.90585327148438, 174.03297424316406, 125.48477935791016, 124.30230712890625, 122.99111938476562, 112.921142578125, 108.67214965820312, 97.96607971191406, 79.21525573730469, 76.16799926757812, 70.8829116821289, 62.28873062133789, 60.130645751953125, 58.07822036743164, 53.75588607788086, 47.72291946411133, 46.570091247558594, 42.04044723510742, 41.712886810302734, 40.322425842285156, 38.56095886230469, 38.498046875, 35.530296325683594, 34.7518424987793, 33.75531768798828, 294.3993835449219, 203.6105499267578, 203.12059020996094, 200.80751037597656, 194.83485412597656, 187.39744567871094, 181.967529296875, 167.7736053466797, 143.4491729736328, 139.46142578125, 123.02947998046875, 118.99051666259766, 115.40731811523438, 104.53211212158203, 104.12842559814453, 93.77587890625, 73.3217544555664, 70.97763061523438, 68.34799194335938, 65.57240295410156, 60.59505081176758, 57.379608154296875, 56.463096618652344, 55.581634521484375, 53.973785400390625, 53.61402893066406, 51.09421920776367, 48.81748580932617, 47.79938888549805, 47.67045211791992, 91.87357330322266, 74.1983642578125, 679.5055541992188, 378.5805969238281, 291.8946228027344, 280.6585693359375, 250.2967987060547, 245.27017211914062, 199.87100219726562, 197.697265625, 194.36636352539062, 177.05848693847656, 124.564697265625, 80.89845275878906, 77.24968719482422, 67.30847930908203, 65.81419372558594, 61.284019470214844, 56.867488861083984, 51.08232879638672, 49.072776794433594, 48.60188293457031, 47.86236572265625, 46.75447082519531, 41.4061164855957, 36.762821197509766, 35.10158157348633, 34.34543991088867, 33.613731384277344, 32.64656448364258, 29.708742141723633, 28.89985466003418, 61.27718734741211, 134.79833984375, 64.3587875366211, 1495.8466796875, 646.894287109375, 582.254638671875, 478.4990234375, 309.1789855957031, 263.15673828125, 248.81289672851562, 221.08676147460938, 214.21763610839844, 164.81732177734375, 162.77572631835938, 155.91366577148438, 123.31078338623047, 118.12996673583984, 102.51801300048828, 101.48109436035156, 97.91138458251953, 85.74645233154297, 81.38361358642578, 80.64981079101562, 78.37494659423828, 74.38809204101562, 65.58219909667969, 64.87029266357422, 58.35990905761719, 56.76924514770508, 49.93267822265625, 48.89418029785156, 48.81660079956055, 48.479827880859375, 174.94215393066406, 117.0443344116211, 6303.47900390625, 109.61383819580078, 89.37704467773438, 71.61610412597656, 69.039306640625, 62.00749969482422, 60.39394760131836, 54.102569580078125, 51.41896057128906, 43.39488220214844, 36.407470703125, 36.373931884765625, 34.96887969970703, 31.656599044799805, 30.86896324157715, 29.452838897705078, 29.302892684936523, 27.58306121826172, 25.388046264648438, 24.7563533782959, 24.735219955444336, 24.40262794494629, 23.453384399414062, 22.393115997314453, 22.083820343017578, 19.617870330810547, 18.994672775268555, 18.330820083618164, 18.1064395904541, 17.68414878845215, 632.6926879882812, 672.8272094726562, 144.83328247070312, 134.5291290283203, 26.872461318969727, 502.57855224609375, 351.73162841796875, 134.9069366455078, 121.24526977539062, 117.01895904541016, 106.58088684082031, 103.71527862548828, 100.57711029052734, 99.41854858398438, 98.70655822753906, 91.68058013916016, 89.4346923828125, 89.04658508300781, 81.94001770019531, 77.4936752319336, 74.64361572265625, 69.03721618652344, 63.52410125732422, 63.17729187011719, 58.46166229248047, 51.61836242675781, 50.10870361328125, 47.38630294799805, 46.83003234863281, 45.500797271728516, 42.468936920166016, 40.847171783447266, 40.693565368652344, 38.430320739746094, 36.6024284362793, 812.3379516601562, 1610.2276611328125, 185.29859924316406, 3044.674560546875, 345.2159118652344, 206.1483612060547, 178.55279541015625, 143.60890197753906, 125.17135620117188, 106.74593353271484, 105.70648193359375, 97.79850769042969, 92.41653442382812, 69.11593627929688, 68.76524353027344, 62.673580169677734, 41.33046340942383, 41.02020263671875, 39.9313850402832, 36.991188049316406, 34.04948425292969, 32.999725341796875, 31.853900909423828, 30.272476196289062, 29.77657127380371, 26.445951461791992, 25.80755615234375, 23.86345863342285, 23.749340057373047, 22.897220611572266, 21.958587646484375, 19.438058853149414, 17.58263397216797, 1140.3267822265625, 214.58570861816406, 210.0867919921875, 1266.9835205078125, 478.68963623046875, 437.4495544433594, 276.2178955078125, 248.7753143310547, 176.85232543945312, 164.382568359375, 143.33062744140625, 140.5306396484375, 137.961181640625, 118.92965698242188, 107.72525024414062, 102.82478332519531, 102.44627380371094, 102.25469207763672, 93.21173095703125, 90.48548889160156, 88.8777084350586, 87.75715637207031, 85.60606384277344, 82.3730239868164, 80.56558227539062, 77.3277587890625, 77.23486328125, 61.39729309082031, 57.99134826660156, 54.47324752807617, 54.32233810424805, 51.87786865234375, 51.69223403930664, 74.54271697998047, 1025.1728515625, 425.170166015625, 144.57994079589844, 129.784423828125, 114.84366607666016, 110.40792083740234, 107.53813171386719, 107.51212310791016, 100.81414031982422, 88.91048431396484, 79.59160614013672, 76.95123291015625, 69.60424041748047, 66.4615707397461, 65.24876403808594, 65.2368392944336, 64.61114501953125, 59.47599411010742, 58.33262252807617, 45.64686584472656, 44.272151947021484, 41.38096618652344, 40.648555755615234, 39.733272552490234, 38.170677185058594, 37.77165222167969, 37.58671569824219, 36.19546127319336, 35.31963348388672, 30.38751792907715, 481.5302429199219, 368.9044494628906, 279.51483154296875, 268.52362060546875, 267.4552307128906, 233.1781463623047, 219.58529663085938, 185.5243377685547, 183.42616271972656, 175.18521118164062, 142.9916534423828, 111.8802490234375, 84.780029296875, 74.00155639648438, 67.7322998046875, 59.35568618774414, 48.90782928466797, 46.47195053100586, 46.14584732055664, 41.697975158691406, 40.934104919433594, 40.36954879760742, 35.8997688293457, 35.66453170776367, 35.545387268066406, 34.57345199584961, 31.935077667236328, 30.752782821655273, 30.712980270385742, 26.916412353515625, 187.70301818847656, 374.7790222167969, 360.7681579589844, 348.75946044921875, 334.3825378417969, 216.8551025390625, 216.64300537109375, 207.8074951171875, 200.32127380371094, 147.6134490966797, 137.86875915527344, 130.35914611816406, 127.19471740722656, 125.75688934326172, 113.66547393798828, 105.67897033691406, 99.52289581298828, 88.77111053466797, 87.59835052490234, 86.79989624023438, 86.32567596435547, 69.93284606933594, 65.55601501464844, 60.856197357177734, 60.8395881652832, 56.48237228393555, 41.696495056152344, 41.63850402832031, 38.75873565673828, 38.29688262939453, 37.30160140991211, 54.698455810546875, 54.5092658996582, 45.52330017089844, 51.64946365356445, 43.625450134277344, 454.30755615234375, 416.5820007324219, 304.5538330078125, 296.1418762207031, 282.6413269042969, 188.7599334716797, 185.89041137695312, 164.10513305664062, 150.4879608154297, 89.81982421875, 87.06400299072266, 86.8813705444336, 84.9058837890625, 80.96070098876953, 78.26690673828125, 75.91952514648438, 75.07526397705078, 74.8905258178711, 57.01458740234375, 56.3062858581543, 55.20724105834961, 52.6513786315918, 46.067588806152344, 44.26092529296875, 43.79056167602539, 41.87697219848633, 40.772098541259766, 40.062259674072266, 34.77777099609375, 30.915891647338867, 36.564964294433594, 598.7427368164062, 563.5255737304688, 332.1026916503906, 179.53733825683594, 113.55989837646484, 113.1594009399414, 107.66024017333984, 105.01004791259766, 100.21542358398438, 91.4654312133789, 90.443603515625, 85.57572937011719, 81.6837387084961, 81.25872802734375, 80.64837646484375, 80.61882019042969, 70.93956756591797, 69.14400482177734, 63.40565872192383, 59.77549743652344, 59.29420852661133, 55.94003677368164, 54.961341857910156, 52.99281692504883, 46.8839225769043, 46.547054290771484, 46.166744232177734, 46.083003997802734, 46.07238006591797, 45.90912628173828, 390.1907043457031, 47.60682678222656, 1211.516357421875, 284.44061279296875, 269.2769775390625, 256.7048645019531, 176.3913116455078, 171.08567810058594, 161.03175354003906, 140.56141662597656, 139.51466369628906, 120.0671157836914, 117.3251724243164, 106.56269073486328, 102.25090026855469, 77.27530670166016, 70.27444458007812, 59.91185760498047, 57.050174713134766, 49.69167709350586, 48.53385925292969, 45.50040817260742, 45.12358856201172, 44.4947395324707, 41.27387619018555, 40.865509033203125, 40.71640396118164, 40.53707504272461, 39.619773864746094, 39.616939544677734, 34.370887756347656, 33.083709716796875, 33.445796966552734, 812.4239501953125, 759.3827514648438, 753.7530517578125, 528.3994140625, 363.609375, 224.77061462402344, 144.75454711914062, 115.26102447509766, 100.9875259399414, 93.83419036865234, 89.5584487915039, 86.4621810913086, 77.73067474365234, 71.11302185058594, 69.7700424194336, 68.71728515625, 68.15287017822266, 66.78052520751953, 64.16185760498047, 58.516780853271484, 57.27306365966797, 57.198394775390625, 47.87019348144531, 44.429351806640625, 42.4876594543457, 35.457733154296875, 31.72075653076172, 31.68595314025879, 31.44214630126953, 30.65469741821289, 41.383365631103516, 45.7498664855957, 66.51983642578125, 39.69932556152344, 1341.248779296875, 891.1306762695312, 528.2694702148438, 363.77728271484375, 299.3025207519531, 236.1699676513672, 233.32374572753906, 224.7118682861328, 211.76571655273438, 182.7653045654297, 170.5138702392578, 129.56736755371094, 124.89436340332031, 107.82024383544922, 102.61801147460938, 100.87757110595703, 91.88330841064453, 90.87311553955078, 87.21188354492188, 79.79861450195312, 77.24536895751953, 75.86503601074219, 74.664794921875, 74.00955200195312, 73.65631103515625, 67.77020263671875, 65.59767150878906, 61.10704040527344, 53.465484619140625, 50.8246955871582, 68.25524139404297, 1034.7862548828125, 418.4531555175781, 258.1143798828125, 204.45880126953125, 193.032958984375, 174.81871032714844, 140.6353759765625, 122.58724975585938, 116.01034545898438, 110.19921112060547, 104.63081359863281, 91.96649932861328, 89.3974380493164, 81.46221160888672, 79.06034851074219, 70.14838409423828, 70.08921813964844, 68.64035034179688, 61.470611572265625, 60.50859451293945, 56.31182098388672, 49.14847946166992, 48.67578887939453, 48.49412155151367, 47.222991943359375, 46.04841995239258, 44.43552780151367, 43.818077087402344, 43.63984680175781, 42.73505783081055, 694.6153564453125, 174.2949676513672], \"Term\": [\"great\", \"good\", \"works\", \"best\", \"product\", \"love\", \"grill\", \"mower\", \"feeder\", \"nice\", \"perfect\", \"easy\", \"excellent\", \"well\", \"price\", \"pool\", \"little\", \"buy\", \"one\", \"money\", \"use\", \"work\", \"better\", \"cover\", \"electric\", \"like\", \"small\", \"garden\", \"awesome\", \"ever\", \"easy\", \"pool\", \"use\", \"poor\", \"2\", \"long\", \"box\", \"pump\", \"broke\", \"storage\", \"intex\", \"go\", \"1800\", \"fast\", \"second\", \"shipping\", \"useless\", \"low\", \"favorite\", \"18\", \"says\", \"cost\", \"hold\", \"name\", \"install\", \"compact\", \"setup\", \"seed\", \"id\", \"impressed\", \"years\", \"quality\", \"time\", \"small\", \"awesome\", \"cheap\", \"gas\", \"fantastic\", \"thrower\", \"must\", \"timer\", \"yard\", \"idea\", \"save\", \"bug\", \"assemble\", \"lightweight\", \"satisfied\", \"house\", \"hopper\", \"zapper\", \"highly\", \"yards\", \"swing\", \"grills\", \"ultra\", \"total\", \"recommended\", \"else\", \"free\", \"thermos\", \"gardeners\", \"isnt\", \"flowtron\", \"better\", \"expected\", \"much\", \"last\", \"water\", \"new\", \"disappointed\", \"exactly\", \"patio\", \"solid\", \"bbq\", \"even\", \"proof\", \"terrible\", \"wanted\", \"lawnmower\", \"caddie\", \"suncast\", \"pressure\", \"expectations\", \"home\", \"look\", \"window\", \"experience\", \"mobile\", \"food\", \"us\", \"connector\", \"holes\", \"lawns\", \"perfect\", \"little\", \"cover\", \"snow\", \"replacement\", \"item\", \"plastic\", \"wow\", \"pleased\", \"deal\", \"parts\", \"real\", \"amazon\", \"garbage\", \"designed\", \"quiet\", \"hedge\", \"solution\", \"thermometer\", \"start\", \"battery\", \"stop\", \"place\", \"market\", \"came\", \"tough\", \"generator\", \"lighter\", \"cheaply\", \"lasts\", \"set\", \"squirrel\", \"needed\", \"back\", \"needs\", \"hummingbird\", \"super\", \"cant\", \"enough\", \"12\", \"never\", \"summer\", \"blade\", \"portable\", \"assembly\", \"broken\", \"star\", \"chaser\", \"feeders\", \"disappointing\", \"green\", \"gold\", \"beat\", \"thought\", \"attractive\", \"help\", \"smaller\", \"say\", \"instructions\", \"bulb\", \"another\", \"lasted\", \"money\", \"worth\", \"far\", \"doesnt\", \"used\", \"waste\", \"advertised\", \"heater\", \"size\", \"two\", \"5\", \"yet\", \"traps\", \"horrible\", \"wheel\", \"stuff\", \"camping\", \"extra\", \"accessory\", \"attractant\", \"different\", \"died\", \"mountain\", \"alternative\", \"cutter\", \"apart\", \"see\", \"definitely\", \"branches\", \"brand\", \"headphones\", \"work\", \"time\", \"best\", \"like\", \"ever\", \"axe\", \"junk\", \"still\", \"birds\", \"fine\", \"splitting\", \"year\", \"starter\", \"piece\", \"every\", \"4\", \"owned\", \"less\", \"life\", \"cool\", \"functional\", \"killer\", \"part\", \"charm\", \"rake\", \"mosquito\", \"mine\", \"easier\", \"penny\", \"6\", \"results\", \"ax\", \"need\", \"would\", \"great\", \"beware\", \"im\", \"perfectly\", \"around\", \"missing\", \"reviews\", \"yellow\", \"couldnt\", \"arrived\", \"update\", \"supposed\", \"company\", \"clippers\", \"chainsaw\", \"overall\", \"paid\", \"overpriced\", \"handled\", \"issue\", \"jacket\", \"oh\", \"correct\", \"tip\", \"order\", \"said\", \"tailgating\", \"started\", \"flaws\", \"stove\", \"product\", \"works\", \"value\", \"tool\", \"headphones\", \"job\", \"worked\", \"working\", \"okay\", \"gets\", \"done\", \"make\", \"shovel\", \"mr\", \"short\", \"stand\", \"day\", \"put\", \"months\", \"everything\", \"heat\", \"found\", \"read\", \"table\", \"days\", \"weeks\", \"winter\", \"things\", \"glad\", \"watch\", \"cleaning\", \"take\", \"stopped\", \"actually\", \"inexpensive\", \"well\", \"works\", \"value\", \"good\", \"really\", \"pretty\", \"wonderful\", \"simple\", \"looks\", \"keep\", \"away\", \"saver\", \"decent\", \"want\", \"bit\", \"yes\", \"helpful\", \"pest\", \"efficient\", \"hands\", \"let\", \"trick\", \"affordable\", \"version\", \"performs\", \"incredible\", \"avoid\", \"user\", \"solar\", \"directions\", \"relaxing\", \"bread\", \"unbelievable\", \"product\", \"time\", \"quality\", \"mower\", \"lawn\", \"hose\", \"sprayer\", \"handy\", \"service\", \"strong\", \"going\", \"reel\", \"customer\", \"problem\", \"lopper\", \"gilmour\", \"bd\", \"loppers\", \"keeps\", \"sure\", \"pads\", \"flimsy\", \"weed\", \"cord\", \"leaks\", \"kit\", \"kids\", \"side\", \"absolutely\", \"reliable\", \"30\", \"disappointment\", \"foot\", \"recommend\", \"feeder\", \"bird\", \"makes\", \"quick\", \"clean\", \"lot\", \"wish\", \"splitter\", \"chimney\", \"without\", \"smokey\", \"nothing\", \"hummingbirds\", \"stay\", \"original\", \"gardena\", \"8\", \"described\", \"line\", \"live\", \"within\", \"iv\", \"injector\", \"joe\", \"average\", \"triple\", \"lounge\", \"opus\", \"except\", \"thin\", \"made\", \"bad\", \"happy\", \"purchase\", \"gift\", \"thing\", \"amazing\", \"useful\", \"squirrels\", \"chain\", \"saw\", \"top\", \"built\", \"weeds\", \"mosquitos\", \"worthless\", \"usa\", \"hate\", \"wife\", \"weather\", \"maybe\", \"spreader\", \"smells\", \"buyer\", \"trimming\", \"vac\", \"rating\", \"mom\", \"birthday\", \"18inch\", \"well\", \"fiskars\", \"metal\", \"detector\", \"ok\", \"grass\", \"sprinkler\", \"ive\", \"power\", \"shears\", \"pruner\", \"outdoor\", \"3\", \"pruning\", \"looking\", \"melnor\", \"comfortable\", \"tools\", \"control\", \"ground\", \"worst\", \"spray\", \"hand\", \"quite\", \"ordered\", \"greatest\", \"snips\", \"x27\", \"couple\", \"expect\", \"try\", \"edger\", \"products\", \"head\", \"bounty\", \"watering\", \"stars\", \"get\", \"five\", \"first\", \"smoker\", \"old\", \"fits\", \"hard\", \"handle\", \"find\", \"pay\", \"performance\", \"three\", \"grilling\", \"four\", \"expensive\", \"gone\", \"moles\", \"round\", \"wheels\", \"knees\", \"buying\", \"blowervac\", \"minutes\", \"give\", \"plants\", \"older\", \"stovetop\", \"buddy\", \"american\", \"could\", \"electric\", \"garden\", \"blower\", \"effective\", \"outstanding\", \"deck\", \"gardening\", \"high\", \"stool\", \"shed\", \"bench\", \"filter\", \"snowblower\", \"cart\", \"chair\", \"10\", \"convenient\", \"amp\", \"using\", \"poorly\", \"terrific\", \"true\", \"kneeler\", \"red\", \"20\", \"dragon\", \"something\", \"huge\", \"pruners\", \"investment\", \"tool\", \"leaf\", \"love\", \"black\", \"decker\", \"design\", \"way\", \"bag\", \"durable\", \"powerful\", \"hog\", \"hammock\", \"caddy\", \"bucket\", \"knee\", \"toy\", \"easily\", \"simply\", \"vacuum\", \"hummers\", \"husband\", \"mm875\", \"breaks\", \"saved\", \"come\", \"weak\", \"extremely\", \"oil\", \"fabulous\", \"getting\", \"careful\", \"sound\", \"15\", \"price\", \"buy\", \"one\", \"dont\", \"toro\", \"bought\", \"heavy\", \"seems\", \"duty\", \"cut\", \"hot\", \"season\", \"lots\", \"glider\", \"many\", \"together\", \"bugs\", \"model\", \"fire\", \"think\", \"cutting\", \"cooking\", \"ago\", \"kills\", \"longer\", \"available\", \"2nd\", \"wait\", \"ice\", \"touch\", \"mice\", \"wood\", \"years\", \"would\", \"grill\", \"excellent\", \"weber\", \"light\", \"fun\", \"review\", \"fit\", \"sturdy\", \"big\", \"machine\", \"charcoal\", \"got\", \"hunter\", \"unit\", \"cuts\", \"beautiful\", \"sharp\", \"large\", \"weight\", \"charbroil\", \"choice\", \"brush\", \"wont\", \"rotisserie\", \"almost\", \"propane\", \"purchased\", \"construction\", \"family\", \"brushes\", \"bounty\", \"nice\", \"trap\", \"didnt\", \"right\", \"trimmer\", \"mole\", \"fly\", \"problems\", \"flies\", \"wrong\", \"1\", \"loves\", \"addition\", \"finally\", \"know\", \"defective\", \"flea\", \"mouse\", \"difficult\", \"caught\", \"mowing\", \"picture\", \"catch\", \"takes\", \"single\", \"victor\", \"surprised\", \"seem\", \"string\", \"steel\", \"work\", \"could\"], \"Total\": [6304.0, 3045.0, 2283.0, 1496.0, 1773.0, 1212.0, 1342.0, 1267.0, 1026.0, 1035.0, 926.0, 966.0, 892.0, 1000.0, 813.0, 826.0, 766.0, 760.0, 754.0, 680.0, 734.0, 830.0, 610.0, 622.0, 599.0, 647.0, 552.0, 564.0, 521.0, 583.0, 966.5795288085938, 826.0177612304688, 734.84326171875, 318.6146240234375, 186.4021453857422, 184.54685974121094, 180.05519104003906, 167.52120971679688, 164.8878173828125, 163.8420867919922, 153.94552612304688, 131.9438934326172, 100.87632751464844, 84.66497802734375, 84.48758697509766, 82.8371353149414, 80.28599548339844, 79.86961364746094, 71.53962707519531, 58.05128860473633, 52.4368896484375, 46.405975341796875, 44.01945114135742, 42.03799057006836, 41.6304817199707, 39.91621017456055, 39.2166633605957, 38.39094161987305, 36.61881637573242, 36.420082092285156, 321.57696533203125, 702.109130859375, 333.0552062988281, 552.1530151367188, 521.0744018554688, 275.8186950683594, 264.0584411621094, 229.0089874267578, 202.34596252441406, 198.49862670898438, 185.7550811767578, 172.12765502929688, 157.6409149169922, 120.74250030517578, 108.8685302734375, 107.30804443359375, 102.01831817626953, 90.47775268554688, 89.1329345703125, 73.60320281982422, 71.52330017089844, 68.29283142089844, 67.60081481933594, 65.1710205078125, 58.66036605834961, 56.274749755859375, 53.004241943359375, 52.85093688964844, 51.7228889465332, 51.32925796508789, 46.65644454956055, 45.93898010253906, 39.4571418762207, 96.94452667236328, 610.6641845703125, 314.96075439453125, 244.25057983398438, 225.7549285888672, 193.78309631347656, 180.41380310058594, 177.78713989257812, 167.8494415283203, 166.4671173095703, 152.5376739501953, 151.23446655273438, 133.3024444580078, 124.56698608398438, 107.03947448730469, 103.62031555175781, 96.77140045166016, 96.3128662109375, 95.53295135498047, 86.57035827636719, 84.52448272705078, 78.22822570800781, 68.13738250732422, 61.898643493652344, 58.91590881347656, 57.11641311645508, 56.97407150268555, 54.061119079589844, 51.89529037475586, 51.80939483642578, 42.67172622680664, 926.4071044921875, 766.2010498046875, 622.3514404296875, 451.7778015136719, 319.5462341308594, 247.8312225341797, 174.95834350585938, 126.41011810302734, 125.22764587402344, 123.91645812988281, 113.84648132324219, 109.59748840332031, 98.89141845703125, 80.14059448242188, 77.09333801269531, 71.8082504272461, 63.214088439941406, 61.05600357055664, 59.003578186035156, 54.681243896484375, 48.648277282714844, 47.49544906616211, 42.96580505371094, 42.63824462890625, 41.24778366088867, 39.4863166809082, 39.423404693603516, 36.45565414428711, 35.67720031738281, 34.6806755065918, 295.3214416503906, 204.53257751464844, 204.04261779785156, 201.7295379638672, 195.7568817138672, 188.31947326660156, 182.88955688476562, 168.6956329345703, 144.37120056152344, 140.38345336914062, 123.95149230957031, 119.91252899169922, 116.32933044433594, 105.4541244506836, 105.0504379272461, 94.69789123535156, 74.24376678466797, 71.89964294433594, 69.27000427246094, 66.49441528320312, 61.517086029052734, 58.30164337158203, 57.3851318359375, 56.50366973876953, 54.89582061767578, 54.53606414794922, 52.01625442504883, 49.73952102661133, 48.7214241027832, 48.59248733520508, 108.21174621582031, 109.08790588378906, 680.4282836914062, 379.50323486328125, 292.8172607421875, 281.5812072753906, 251.2194366455078, 246.19281005859375, 200.79364013671875, 198.61990356445312, 195.28900146484375, 177.9811248779297, 125.48731994628906, 81.82107543945312, 78.17230987548828, 68.2311019897461, 66.73681640625, 62.2066535949707, 57.790122985839844, 52.00496292114258, 49.99541091918945, 49.52451705932617, 48.78499984741211, 47.67710494995117, 42.32875061035156, 37.685455322265625, 36.02421569824219, 35.26807403564453, 34.5363655090332, 33.56919860839844, 30.631370544433594, 29.82248306274414, 115.74874114990234, 830.2817993164062, 333.0552062988281, 1496.7694091796875, 647.8171997070312, 583.1775512695312, 479.421875, 310.1018371582031, 264.07958984375, 249.73573303222656, 222.0095977783203, 215.14047241210938, 165.7401580810547, 163.6985626220703, 156.8365020751953, 124.23359680175781, 119.05278015136719, 103.44082641601562, 102.4041519165039, 98.83419799804688, 86.66926574707031, 82.30642700195312, 81.57262420654297, 79.29776000976562, 75.31090545654297, 66.50501251220703, 65.79310607910156, 59.282737731933594, 57.692073822021484, 50.855506896972656, 49.81700897216797, 49.73942947387695, 49.40265655517578, 207.70350646972656, 157.61874389648438, 6304.40625, 110.540771484375, 90.3039779663086, 72.54303741455078, 69.96623992919922, 62.934444427490234, 61.320892333984375, 55.02951431274414, 52.34590530395508, 44.32182693481445, 37.334415435791016, 37.30087661743164, 35.89582443237305, 32.58354568481445, 31.79590606689453, 30.37978172302246, 30.229835510253906, 28.5100040435791, 26.31498908996582, 25.68329620361328, 25.66216278076172, 25.329570770263672, 24.380327224731445, 23.320058822631836, 23.01076316833496, 20.54481315612793, 19.921615600585938, 19.257762908935547, 19.033382415771484, 18.61109161376953, 1773.9000244140625, 2283.93359375, 331.01104736328125, 525.600830078125, 115.74874114990234, 503.5013122558594, 352.6543884277344, 135.82969665527344, 122.16800689697266, 117.94169616699219, 107.50362396240234, 104.63801574707031, 101.49984741210938, 100.3412857055664, 99.6292953491211, 92.60331726074219, 90.35742950439453, 89.96932220458984, 82.86275482177734, 78.41641235351562, 75.56635284423828, 69.95995330810547, 64.44683837890625, 64.10003662109375, 59.3844108581543, 52.54111099243164, 51.03145217895508, 48.309051513671875, 47.75278091430664, 46.423545837402344, 43.391685485839844, 41.769920349121094, 41.61631393432617, 39.35306930541992, 37.525177001953125, 1000.907470703125, 2283.93359375, 331.01104736328125, 3045.59814453125, 346.1400451660156, 207.07249450683594, 179.4769287109375, 144.5330352783203, 126.09547424316406, 107.67005157470703, 106.63059997558594, 98.72262573242188, 93.34065246582031, 70.04005432128906, 69.68936157226562, 63.59770965576172, 42.25459289550781, 41.944332122802734, 40.85551452636719, 37.91531753540039, 34.97361373901367, 33.92385482788086, 32.77803039550781, 31.196603775024414, 30.700698852539062, 27.370079040527344, 26.7316837310791, 24.787586212158203, 24.6734676361084, 23.821348190307617, 22.882715225219727, 20.362186431884766, 18.50676155090332, 1773.9000244140625, 333.0552062988281, 702.109130859375, 1267.90576171875, 479.61199951171875, 438.3719177246094, 277.1402587890625, 249.6976776123047, 177.77468872070312, 165.304931640625, 144.25299072265625, 141.4530029296875, 138.883544921875, 119.85200500488281, 108.64759826660156, 103.74713134765625, 103.36862182617188, 103.17704010009766, 94.13407897949219, 91.4078369140625, 89.80005645751953, 88.67950439453125, 86.52841186523438, 83.29537200927734, 81.48793029785156, 78.25010681152344, 78.15721130371094, 62.31965255737305, 58.9137077331543, 55.395606994628906, 55.24469757080078, 52.800228118896484, 52.614593505859375, 99.5405044555664, 1026.0914306640625, 426.0887756347656, 145.4985809326172, 130.70306396484375, 115.76227569580078, 111.32653045654297, 108.45674133300781, 108.43073272705078, 101.73274993896484, 89.82909393310547, 80.51021575927734, 77.86984252929688, 70.5228500366211, 67.38018035888672, 66.16737365722656, 66.15544891357422, 65.52975463867188, 60.394615173339844, 59.251243591308594, 46.565486907958984, 45.190773010253906, 42.29958724975586, 41.567176818847656, 40.651893615722656, 39.089298248291016, 38.69027328491211, 38.50533676147461, 37.11408233642578, 36.23825454711914, 31.30613899230957, 482.4444580078125, 369.81866455078125, 280.4290466308594, 269.4378356933594, 268.36944580078125, 234.09237670898438, 220.49952697753906, 186.43856811523438, 184.34039306640625, 176.0994415283203, 143.9058837890625, 112.7944564819336, 85.6942367553711, 74.91576385498047, 68.6465072631836, 60.269901275634766, 49.822044372558594, 47.386165618896484, 47.060062408447266, 42.61219024658203, 41.84832000732422, 41.28376388549805, 36.81398391723633, 36.5787467956543, 36.45960235595703, 35.487667083740234, 32.84929275512695, 31.6669979095459, 31.627195358276367, 27.83062744140625, 1000.907470703125, 375.6972961425781, 361.6864318847656, 349.677734375, 335.3008117675781, 217.77334594726562, 217.56124877929688, 208.72573852539062, 201.23951721191406, 148.5316925048828, 138.78700256347656, 131.2773895263672, 128.11294555664062, 126.67512512207031, 114.58370971679688, 106.59720611572266, 100.44113159179688, 89.68934631347656, 88.51658630371094, 87.71813201904297, 87.24391174316406, 70.85108184814453, 66.47425079345703, 61.774436950683594, 61.75782775878906, 57.400611877441406, 42.6147346496582, 42.55674362182617, 39.67697525024414, 39.21512222290039, 38.21984100341797, 68.6072998046875, 71.75752258300781, 59.438682556152344, 120.77822875976562, 62.67639923095703, 455.22454833984375, 417.4989929199219, 305.4708251953125, 297.0588684082031, 283.5583190917969, 189.67689514160156, 186.807373046875, 165.0220947265625, 151.40492248535156, 90.73677825927734, 87.98095703125, 87.79832458496094, 85.82283782958984, 81.87765502929688, 79.1838607788086, 76.83647918701172, 75.99221801757812, 75.80747985839844, 57.931549072265625, 57.22324752807617, 56.124202728271484, 53.56834030151367, 46.98455047607422, 45.177886962890625, 44.707523345947266, 42.7939338684082, 41.68906021118164, 40.97922134399414, 35.694732666015625, 31.832853317260742, 211.7223663330078, 599.6672973632812, 564.4501342773438, 333.0272216796875, 180.46185302734375, 114.48441314697266, 114.08391571044922, 108.58475494384766, 105.93456268310547, 101.13993835449219, 92.38994598388672, 91.36811828613281, 86.500244140625, 82.6082534790039, 82.18324279785156, 81.57289123535156, 81.5433349609375, 71.86408233642578, 70.06851959228516, 64.33016967773438, 60.70001220703125, 60.21872329711914, 56.86455154418945, 55.88585662841797, 53.91733169555664, 47.80843734741211, 47.4715690612793, 47.09125900268555, 47.00751876831055, 46.99689483642578, 46.833641052246094, 525.600830078125, 66.05972290039062, 1212.439697265625, 285.3639221191406, 270.2002868652344, 257.628173828125, 177.3146209716797, 172.0089874267578, 161.95506286621094, 141.48472595214844, 140.43797302246094, 120.99041748046875, 118.24847412109375, 107.48599243164062, 103.17420196533203, 78.1986083984375, 71.19774627685547, 60.83515930175781, 57.97347640991211, 50.6149787902832, 49.45716094970703, 46.423709869384766, 46.04689025878906, 45.41804122924805, 42.19717788696289, 41.78881072998047, 41.639705657958984, 41.46037673950195, 40.54307556152344, 40.54024124145508, 35.294189453125, 34.00701141357422, 54.99839401245117, 813.3467407226562, 760.3055419921875, 754.6758422851562, 529.3222045898438, 364.5321960449219, 225.69342041015625, 145.67735290527344, 116.18382263183594, 101.91032409667969, 94.75698852539062, 90.48124694824219, 87.38497924804688, 78.65347290039062, 72.03582000732422, 70.69284057617188, 69.64008331298828, 69.07566833496094, 67.70332336425781, 65.08465576171875, 59.4395866394043, 58.19586944580078, 58.12120056152344, 48.792999267578125, 45.35215759277344, 43.410465240478516, 36.38053894042969, 32.64356231689453, 32.60875701904297, 32.364952087402344, 31.57750129699707, 58.63093185424805, 81.18115234375, 321.57696533203125, 157.61874389648438, 1342.1746826171875, 892.0564575195312, 529.1952514648438, 364.703125, 300.2283630371094, 237.0957794189453, 234.2495574951172, 225.63768005371094, 212.6915283203125, 183.6911163330078, 171.43968200683594, 130.49317932128906, 125.82018280029297, 108.74606323242188, 103.54383087158203, 101.80339050292969, 92.80912780761719, 91.79893493652344, 88.13770294189453, 80.72443389892578, 78.17118835449219, 76.79085540771484, 75.59061431884766, 74.93537139892578, 74.5821304321289, 68.6960220336914, 66.52349090576172, 62.03286361694336, 54.39130783081055, 51.750518798828125, 120.77822875976562, 1035.7022705078125, 419.3691711425781, 259.0303955078125, 205.37481689453125, 193.948974609375, 175.73472595214844, 141.5513916015625, 123.50325775146484, 116.92635345458984, 111.11521911621094, 105.54682159423828, 92.88250732421875, 90.31344604492188, 82.37821960449219, 79.97635650634766, 71.06439208984375, 71.0052261352539, 69.55635833740234, 62.386619567871094, 61.42460250854492, 57.22782897949219, 50.06448745727539, 49.591796875, 49.41012954711914, 48.138999938964844, 46.96442794799805, 45.35153579711914, 44.73408508300781, 44.55585479736328, 43.651065826416016, 830.2817993164062, 211.7223663330078], \"loglift\": [30.0, 29.0, 28.0, 27.0, 26.0, 25.0, 24.0, 23.0, 22.0, 21.0, 20.0, 19.0, 18.0, 17.0, 16.0, 15.0, 14.0, 13.0, 12.0, 11.0, 10.0, 9.0, 8.0, 7.0, 6.0, 5.0, 4.0, 3.0, 2.0, 1.0, 2.8833999633789062, 2.8833000659942627, 2.8831000328063965, 2.881500005722046, 2.8794000148773193, 2.8794000148773193, 2.879199981689453, 2.8787999153137207, 2.8787999153137207, 2.878700017929077, 2.8784000873565674, 2.8773000240325928, 2.875200033187866, 2.8733999729156494, 2.8733999729156494, 2.8731000423431396, 2.87280011177063, 2.8726999759674072, 2.871299982070923, 2.868299961090088, 2.866499900817871, 2.8642001152038574, 2.863100051879883, 2.8620998859405518, 2.8619000911712646, 2.8608999252319336, 2.8605000972747803, 2.8598999977111816, 2.8587000370025635, 2.858599901199341, 2.649199962615967, 2.5269999504089355, 1.0515999794006348, 3.1384999752044678, 3.138400077819824, 3.1368000507354736, 3.136699914932251, 3.1361000537872314, 3.1356000900268555, 3.135499954223633, 3.135200023651123, 3.1347999572753906, 3.1342999935150146, 3.132499933242798, 3.131700038909912, 3.131500005722046, 3.1310999393463135, 3.1298999786376953, 3.1298000812530518, 3.1275999546051025, 3.12719988822937, 3.1266000270843506, 3.1263999938964844, 3.1259000301361084, 3.124300003051758, 3.123699903488159, 3.1226000785827637, 3.1226000785827637, 3.1222000122070312, 3.1221001148223877, 3.1201999187469482, 3.1198999881744385, 3.116499900817871, 2.800100088119507, 3.1092000007629395, 3.1077001094818115, 3.1068999767303467, 3.106600046157837, 3.1059000492095947, 3.1054999828338623, 3.1054999828338623, 3.1052000522613525, 3.10509991645813, 3.104599952697754, 3.104599952697754, 3.1036999225616455, 3.1031999588012695, 3.1019999980926514, 3.1017000675201416, 3.101099967956543, 3.101099967956543, 3.1010000705718994, 3.0999999046325684, 3.0996999740600586, 3.09879994392395, 3.0969998836517334, 3.0957000255584717, 3.094899892807007, 3.094399929046631, 3.094399929046631, 3.0934998989105225, 3.0927000045776367, 3.0927000045776367, 3.0887999534606934, 3.050100088119507, 3.0499000549316406, 3.0495998859405518, 3.0490000247955322, 3.0481998920440674, 3.0473999977111816, 3.045799970626831, 3.043800115585327, 3.0436999797821045, 3.043600082397461, 3.0429000854492188, 3.04259991645813, 3.0416998863220215, 3.0394999980926514, 3.0390000343322754, 3.038100004196167, 3.036400079727173, 3.035799980163574, 3.0353000164031982, 3.0339999198913574, 3.031899929046631, 3.031399965286255, 3.0292999744415283, 3.0292000770568848, 3.02839994430542, 3.027400016784668, 3.0272998809814453, 3.025399923324585, 3.0248000621795654, 3.0241000652313232, 3.074199914932251, 3.0727999210357666, 3.0727999210357666, 3.0727999210357666, 3.0725998878479004, 3.0724000930786133, 3.0722999572753906, 3.071899890899658, 3.0708999633789062, 3.0708000659942627, 3.0699000358581543, 3.0696001052856445, 3.0694000720977783, 3.0685999393463135, 3.06850004196167, 3.0676000118255615, 3.0648999214172363, 3.0643999576568604, 3.063999891281128, 3.0634000301361084, 3.0622000694274902, 3.0613999366760254, 3.061199903488159, 3.0608999729156494, 3.0604000091552734, 3.06030011177063, 3.059499979019165, 3.0585999488830566, 3.058199882507324, 3.058199882507324, 2.9137001037597656, 2.6919000148773193, 3.198199987411499, 3.1970999240875244, 3.1963999271392822, 3.196199893951416, 3.1958000659942627, 3.1958000659942627, 3.1949000358581543, 3.1949000358581543, 3.1947999000549316, 3.1942999362945557, 3.1921000480651855, 3.188199996948242, 3.1875998973846436, 3.1858999729156494, 3.1856000423431396, 3.1846001148223877, 3.1833999156951904, 3.1816000938415527, 3.1809000968933105, 3.1807000637054443, 3.1803998947143555, 3.180000066757202, 3.177500009536743, 3.1747000217437744, 3.1735999584198, 3.1730000972747803, 3.1723999977111816, 3.171600103378296, 3.1689000129699707, 3.168100118637085, 2.563499927520752, 1.381500005722046, 1.5556999444961548, 2.772900104522705, 2.7720999717712402, 2.7720000743865967, 2.7716000080108643, 2.7706000804901123, 2.7701001167297363, 2.76990008354187, 2.769399881362915, 2.7692999839782715, 2.7679998874664307, 2.767899990081787, 2.767699956893921, 2.7660999298095703, 2.7657999992370605, 2.7646000385284424, 2.7644999027252197, 2.76419997215271, 2.7629001140594482, 2.7623000144958496, 2.762200117111206, 2.761899948120117, 2.761199951171875, 2.7595999240875244, 2.759399890899658, 2.7578999996185303, 2.7574000358581543, 2.7553000450134277, 2.7548999786376953, 2.7548000812530518, 2.754699945449829, 2.601900100708008, 2.4758999347686768, 2.6417999267578125, 2.633500099182129, 2.6315999031066895, 2.6291000843048096, 2.6285998821258545, 2.6270999908447266, 2.626699924468994, 2.6249001026153564, 2.6240999698638916, 2.620800018310547, 2.61680006980896, 2.61680006980896, 2.615799903869629, 2.613100051879883, 2.612299919128418, 2.6108999252319336, 2.61080002784729, 2.6089000701904297, 2.606100082397461, 2.6052000522613525, 2.60509991645813, 2.604599952697754, 2.6031999588012695, 2.6013998985290527, 2.600800037384033, 2.5957999229431152, 2.5943000316619873, 2.592600107192993, 2.5920000076293945, 2.5908000469207764, 1.6109999418258667, 1.419800043106079, 1.8154000043869019, 1.2791999578475952, 1.1815999746322632, 2.9883999824523926, 2.987600088119507, 2.9834001064300537, 2.9827001094818115, 2.9823999404907227, 2.981600046157837, 2.9814000129699707, 2.981100082397461, 2.9809999465942383, 2.9809000492095947, 2.9802000522613525, 2.9800000190734863, 2.9798998832702637, 2.9790000915527344, 2.9783999919891357, 2.9779000282287598, 2.9769999980926514, 2.975800037384033, 2.9756999015808105, 2.974600076675415, 2.9725000858306885, 2.9719998836517334, 2.970900058746338, 2.9707000255584717, 2.9702000617980957, 2.9686999320983887, 2.967900037765503, 2.9677999019622803, 2.9665000438690186, 2.9653000831604004, 2.7815001010894775, 2.640700101852417, 2.4100000858306885, 2.8907999992370605, 2.888400077819824, 2.8866000175476074, 2.8859000205993652, 2.884700059890747, 2.883699893951416, 2.882499933242798, 2.8824000358581543, 2.881700038909912, 2.8810999393463135, 2.8777999877929688, 2.877700090408325, 2.8763999938964844, 2.86899995803833, 2.868799924850464, 2.8682000637054443, 2.8664000034332275, 2.864300012588501, 2.8635001182556152, 2.862499952316284, 2.8610000610351562, 2.8605000972747803, 2.8566999435424805, 2.8559000492095947, 2.853100061416626, 2.8529000282287598, 2.8515000343322754, 2.849900007247925, 2.844599962234497, 2.839900016784668, 2.449199914932251, 2.4514999389648438, 1.684499979019165, 2.8196001052856445, 2.8183999061584473, 2.81820011138916, 2.816999912261963, 2.8166000843048096, 2.8150999546051025, 2.81469988822937, 2.8138999938964844, 2.813800096511841, 2.8136000633239746, 2.8125998973846436, 2.811800003051758, 2.8113999366760254, 2.811300039291382, 2.811300039291382, 2.810499906539917, 2.8101999759674072, 2.809999942779541, 2.8099000453948975, 2.8096001148223877, 2.8092000484466553, 2.8089001178741455, 2.808500051498413, 2.8083999156951904, 2.8053998947143555, 2.804500102996826, 2.803499937057495, 2.803499937057495, 2.8027000427246094, 2.8025999069213867, 2.531100034713745, 3.212599992752075, 3.2112998962402344, 3.2070999145507812, 3.206399917602539, 3.2054998874664307, 3.205199956893921, 3.2049999237060547, 3.2049999237060547, 3.204400062561035, 3.203200101852417, 3.2019999027252197, 3.2016000747680664, 3.2004001140594482, 3.199700117111206, 3.19950008392334, 3.19950008392334, 3.1993000507354736, 3.1981000900268555, 3.1977999210357666, 3.19350004196167, 3.1928999423980713, 3.191499948501587, 3.1910998821258545, 3.1905999183654785, 3.18969988822937, 3.1893999576568604, 3.189300060272217, 3.1884000301361084, 3.1877999305725098, 3.1837000846862793, 3.187299966812134, 3.1867001056671143, 3.1858999729156494, 3.185800075531006, 3.185699939727783, 3.1851999759674072, 3.184999942779541, 3.1842000484466553, 3.1842000484466553, 3.184000015258789, 3.182800054550171, 3.180999994277954, 3.1784000396728516, 3.1768999099731445, 3.1756999492645264, 3.1738998889923096, 3.170599937438965, 3.1696999073028564, 3.1695001125335693, 3.1675000190734863, 3.167099952697754, 3.166800022125244, 3.1640000343322754, 3.163800001144409, 3.163800001144409, 3.163100004196167, 3.160900115966797, 3.159899950027466, 3.1598000526428223, 3.1558001041412354, 1.5154000520706177, 3.027400016784668, 3.0272998809814453, 3.0271999835968018, 3.027100086212158, 3.025599956512451, 3.025599956512451, 3.025399923324585, 3.0253000259399414, 3.023699998855591, 3.023200035095215, 3.0227999687194824, 3.022700071334839, 3.022599935531616, 3.0218000411987305, 3.021199941635132, 3.020699977874756, 3.0195999145507812, 3.019399881362915, 3.0192999839782715, 3.0192999839782715, 3.0167999267578125, 3.015899896621704, 3.014899969100952, 3.014899969100952, 3.013700008392334, 3.0081000328063965, 3.007999897003174, 3.0064001083374023, 3.006200075149536, 3.005500078201294, 2.803299903869629, 2.7548999786376953, 2.7630999088287354, 2.1803998947143555, 2.6675000190734863, 3.2091000080108643, 3.208899974822998, 3.2081000804901123, 3.2081000804901123, 3.207900047302246, 3.2063000202178955, 3.206199884414673, 3.2056000232696533, 3.2051000595092773, 3.2009999752044678, 3.200700044631958, 3.2005999088287354, 3.2004001140594482, 3.199899911880493, 3.19950008392334, 3.1991000175476074, 3.1989998817443848, 3.1989998817443848, 3.195199966430664, 3.194999933242798, 3.194700002670288, 3.1939001083374023, 3.1914000511169434, 3.1905999183654785, 3.1903998851776123, 3.189500093460083, 3.1888999938964844, 3.188499927520752, 3.1851000785827637, 3.1819000244140625, 1.4550000429153442, 3.0550999641418457, 3.055000066757202, 3.053800106048584, 3.051500082015991, 3.0485000610351562, 3.0485000610351562, 3.048099994659424, 3.0478999614715576, 3.0473999977111816, 3.046600103378296, 3.0464999675750732, 3.0459001064300537, 3.0453999042510986, 3.045300006866455, 3.0452001094818115, 3.0452001094818115, 3.0436999797821045, 3.043299913406372, 3.0422000885009766, 3.041300058364868, 3.0411999225616455, 3.0401999950408936, 3.039900064468384, 3.039299964904785, 3.037100076675415, 3.0369999408721924, 3.036799907684326, 3.036799907684326, 3.036799907684326, 3.0367000102996826, 2.758699893951416, 2.7290000915527344, 3.127000093460083, 3.124500036239624, 3.124300003051758, 3.1240999698638916, 3.122499942779541, 3.122299909591675, 3.121999979019165, 3.1212000846862793, 3.1210999488830566, 3.1201000213623047, 3.1198999881744385, 3.1191000938415527, 3.1187000274658203, 3.115799903869629, 3.1147000789642334, 3.1124000549316406, 3.1117000579833984, 3.109299898147583, 3.1089000701904297, 3.107599973678589, 3.1075000762939453, 3.1071999073028564, 3.105600118637085, 3.1054000854492188, 3.105299949645996, 3.1052000522613525, 3.1047000885009766, 3.1047000885009766, 3.1012001037597656, 3.1001999378204346, 2.6303000450134277, 3.0060999393463135, 3.00600004196167, 3.00600004196167, 3.005500078201294, 3.004699945449829, 3.0030999183654785, 3.0009000301361084, 2.999300003051758, 2.9981000423431396, 2.997499942779541, 2.996999979019165, 2.9965999126434326, 2.9953999519348145, 2.9944000244140625, 2.9941000938415527, 2.9939000606536865, 2.993799924850464, 2.993499994277954, 2.993000030517578, 2.9916000366210938, 2.991300106048584, 2.9911999702453613, 2.9881999492645264, 2.9867000579833984, 2.98580002784729, 2.981600046157837, 2.978600025177002, 2.9784998893737793, 2.978300094604492, 2.97760009765625, 2.658900022506714, 2.433799982070923, 1.43149995803833, 1.6283999681472778, 2.8257999420166016, 2.825500011444092, 2.8248000144958496, 2.8239998817443848, 2.8234000205993652, 2.8225998878479004, 2.8225998878479004, 2.8224000930786133, 2.822200059890747, 2.821500062942505, 2.8210999965667725, 2.8194000720977783, 2.8190999031066895, 2.818000078201294, 2.817500114440918, 2.8173999786376953, 2.816499948501587, 2.8164000511169434, 2.815999984741211, 2.815000057220459, 2.8145999908447266, 2.8143999576568604, 2.814199924468994, 2.8141000270843506, 2.813999891281128, 2.812999963760376, 2.8125, 2.811500072479248, 2.8094000816345215, 2.808500051498413, 2.2558000087738037, 2.927500009536743, 2.9261999130249023, 2.924799919128418, 2.9238998889923096, 2.9235999584198, 2.923099994659424, 2.921799898147583, 2.9209001064300537, 2.9205000400543213, 2.920099973678589, 2.919600009918213, 2.9184000492095947, 2.918100118637085, 2.9172000885009766, 2.916800022125244, 2.9154000282287598, 2.9154000282287598, 2.91510009765625, 2.9135000705718994, 2.913300037384033, 2.9121999740600586, 2.909899950027466, 2.9096999168395996, 2.909600019454956, 2.90910005569458, 2.908600091934204, 2.907900094985962, 2.9077000617980957, 2.907599925994873, 2.907099962234497, 2.7499001026153564, 2.733799934387207], \"logprob\": [30.0, 29.0, 28.0, 27.0, 26.0, 25.0, 24.0, 23.0, 22.0, 21.0, 20.0, 19.0, 18.0, 17.0, 16.0, 15.0, 14.0, 13.0, 12.0, 11.0, 10.0, 9.0, 8.0, 7.0, 6.0, 5.0, 4.0, 3.0, 2.0, 1.0, -2.079400062561035, -2.2367000579833984, -2.353800058364868, -3.1910998821258545, -3.7291998863220215, -3.739300012588501, -3.7641000747680664, -3.8366000652313232, -3.8524999618530273, -3.8589000701904297, -3.921600103378296, -4.0767998695373535, -4.347499847412109, -4.524499893188477, -4.526599884033203, -4.546500205993652, -4.578199863433838, -4.583399772644043, -4.695000171661377, -4.906899929046631, -5.01039981842041, -5.134900093078613, -5.188799858093262, -5.235899925231934, -5.2459001541137695, -5.288899898529053, -5.307000160217285, -5.328800201416016, -5.377299785614014, -5.382800102233887, -3.414099931716919, -2.7553999423980713, -4.976600170135498, -2.384200096130371, -2.4423000812530518, -3.0799999237060547, -3.123699903488159, -3.266700029373169, -3.3910000324249268, -3.4103000164031982, -3.476900100708008, -3.553499937057495, -3.641900062561035, -3.910399913787842, -4.014699935913086, -4.029300212860107, -4.0802998542785645, -4.201499938964844, -4.216599941253662, -4.410299777984619, -4.439300060272217, -4.486199855804443, -4.496500015258789, -4.533599853515625, -4.640500068664551, -4.682600021362305, -4.743599891662598, -4.746500015258789, -4.768499851226807, -4.776199817657471, -4.873499870300293, -4.8892998695373535, -5.0447998046875, -4.462299823760986, -2.3129000663757324, -2.9763998985290527, -3.2314999103546143, -3.310499906539917, -3.463900089263916, -3.535799980163574, -3.55049991607666, -3.608299970626831, -3.6166000366210938, -3.7044999599456787, -3.713200092315674, -3.8401999473571777, -3.9084999561309814, -4.061299800872803, -4.094099998474121, -4.163099765777588, -4.167900085449219, -4.17609977722168, -4.275599956512451, -4.299799919128418, -4.3780999183654785, -4.51800012588501, -4.6153998374938965, -4.665599822998047, -4.6971001625061035, -4.6996002197265625, -4.752999782562256, -4.794600009918213, -4.796299934387207, -4.994200229644775, -1.9551000595092773, -2.14520001411438, -2.3533999919891357, -2.674299955368042, -3.0215001106262207, -3.2764999866485596, -3.626199960708618, -3.9532999992370605, -3.9626998901367188, -3.973299980163574, -4.058800220489502, -4.097099781036377, -4.200799942016602, -4.413300037384033, -4.452499866485596, -4.524400234222412, -4.65369987487793, -4.688899993896484, -4.723700046539307, -4.801000118255615, -4.920000076293945, -4.944499969482422, -5.046800136566162, -5.054699897766113, -5.088600158691406, -5.133200168609619, -5.134900093078613, -5.215099811553955, -5.237199783325195, -5.266300201416016, -3.0743000507354736, -3.443000078201294, -3.4453999996185303, -3.456899881362915, -3.4870998859405518, -3.5260000228881836, -3.5553998947143555, -3.6366000175476074, -3.7932000160217285, -3.8213999271392822, -3.9467999935150146, -3.9802000522613525, -4.010700225830078, -4.1097002029418945, -4.11359977722168, -4.218299865722656, -4.464399814605713, -4.496799945831299, -4.534599781036377, -4.576099872589111, -4.65500020980835, -4.709499835968018, -4.725599765777588, -4.741399765014648, -4.770699977874756, -4.777400016784668, -4.825500011444092, -4.871099948883057, -4.892199993133545, -4.894899845123291, -4.238800048828125, -4.452499866485596, -2.1157000064849854, -2.7005999088287354, -2.960599899291992, -2.9999001026153564, -3.1143999099731445, -3.134700059890747, -3.339400053024292, -3.3503000736236572, -3.367300033569336, -3.460599899291992, -3.8122000694274902, -4.243800163269043, -4.289999961853027, -4.427800178527832, -4.450200080871582, -4.521500110626221, -4.59630012512207, -4.70359992980957, -4.74370002746582, -4.753399848937988, -4.768700122833252, -4.792099952697754, -4.913599967956543, -5.032599925994873, -5.078800201416016, -5.100599765777588, -5.122099876403809, -5.151299953460693, -5.24560022354126, -5.273200035095215, -4.521599769592285, -3.733299970626831, -4.472599983215332, -1.752500057220459, -2.5908000469207764, -2.6960999965667725, -2.8922998905181885, -3.3290998935699463, -3.4902000427246094, -3.546299934387207, -3.664400100708008, -3.696000099182129, -3.958199977874756, -3.970599889755249, -4.013700008392334, -4.248300075531006, -4.291200160980225, -4.433000087738037, -4.4430999755859375, -4.478899955749512, -4.611599922180176, -4.66379976272583, -4.672900199890137, -4.701499938964844, -4.753699779510498, -4.879700183868408, -4.890600204467773, -4.996399879455566, -5.02400016784668, -5.152299880981445, -5.173299789428711, -5.174900054931641, -5.18179988861084, -3.8984999656677246, -4.3003997802734375, -0.4458000063896179, -4.497700214385986, -4.7017998695373535, -4.923299789428711, -4.960000038146973, -5.067399978637695, -5.093699932098389, -5.203800201416016, -5.2546000480651855, -5.424300193786621, -5.599899768829346, -5.600800037384033, -5.640200138092041, -5.739699840545654, -5.764900207519531, -5.811800003051758, -5.81689977645874, -5.877399921417236, -5.960400104522705, -5.985599994659424, -5.986400127410889, -5.999899864196777, -6.039599895477295, -6.085899829864502, -6.099800109863281, -6.218200206756592, -6.250500202178955, -6.285999774932861, -6.298399925231934, -6.322000026702881, -2.7446000576019287, -2.6830999851226807, -4.218999862670898, -4.292900085449219, -5.903500080108643, -2.6266000270843506, -2.9835000038146973, -3.941699981689453, -4.048500061035156, -4.084000110626221, -4.1774001121521, -4.204699993133545, -4.235400199890137, -4.247000217437744, -4.254199981689453, -4.328000068664551, -4.352799892425537, -4.3572001457214355, -4.440299987792969, -4.496099948883057, -4.533599853515625, -4.611700057983398, -4.694900035858154, -4.700399875640869, -4.7779998779296875, -4.902400016784668, -4.93209981918335, -4.98799991607666, -4.999800205230713, -5.028600215911865, -5.097599983215332, -5.136499881744385, -5.1402997970581055, -5.197500228881836, -5.246200084686279, -2.146399974822998, -1.4622000455856323, -3.6243999004364014, -0.9243000149726868, -3.101300001144409, -3.6168999671936035, -3.7606000900268555, -3.9783999919891357, -4.115799903869629, -4.275000095367432, -4.284800052642822, -4.362599849700928, -4.4191999435424805, -4.709700107574463, -4.714799880981445, -4.807499885559082, -5.223899841308594, -5.231400012969971, -5.258299827575684, -5.334799766540527, -5.417699813842773, -5.448999881744385, -5.484300136566162, -5.535200119018555, -5.551799774169922, -5.670400142669678, -5.694799900054932, -5.773099899291992, -5.777900218963623, -5.814499855041504, -5.856299877166748, -5.9781999588012695, -6.07859992980957, -1.9063999652862549, -3.5768001079559326, -3.5980000495910645, -1.871899962425232, -2.8452000617980957, -2.93530011177063, -3.3951001167297363, -3.4997000694274902, -3.84089994430542, -3.914099931716919, -4.05109977722168, -4.070799827575684, -4.089300155639648, -4.23769998550415, -4.336699962615967, -4.383200168609619, -4.386899948120117, -4.388800144195557, -4.481400012969971, -4.511099815368652, -4.5289998054504395, -4.5416998863220215, -4.566500186920166, -4.605000019073486, -4.627200126647949, -4.6682000160217285, -4.669400215148926, -4.898900032043457, -4.955999851226807, -5.018499851226807, -5.021299839019775, -5.067399978637695, -5.070899963378906, -4.704899787902832, -1.690500020980835, -2.5706000328063965, -3.6493000984191895, -3.757200002670288, -3.879499912261963, -3.9189000129699707, -3.9453001022338867, -3.945499897003174, -4.009799957275391, -4.135499954223633, -4.246200084686279, -4.279900074005127, -4.380300045013428, -4.426499843597412, -4.444900035858154, -4.445099830627441, -4.454699993133545, -4.537499904632568, -4.5569000244140625, -4.802199840545654, -4.832699775695801, -4.900300025939941, -4.918099880218506, -4.940899848937988, -4.980999946594238, -4.991499900817871, -4.996399879455566, -5.034200191497803, -5.058700084686279, -5.209099769592285, -2.470400094985962, -2.7369000911712646, -3.0143001079559326, -3.054500102996826, -3.058500051498413, -3.1956000328063965, -3.25570011138916, -3.4242000579833984, -3.4356000423431396, -3.481600046157837, -3.6846001148223877, -3.930000066757202, -4.207300186157227, -4.343299865722656, -4.43179988861084, -4.563899993896484, -4.757500171661377, -4.808599948883057, -4.8155999183654785, -4.916999816894531, -4.935400009155273, -4.9492998123168945, -5.066699981689453, -5.073200225830078, -5.076600074768066, -5.104300022125244, -5.183700084686279, -5.221399784088135, -5.222700119018555, -5.354700088500977, -3.4124999046325684, -2.8803999423980713, -2.9184999465942383, -2.9523000717163086, -2.9944000244140625, -3.427500009536743, -3.428499937057495, -3.470099925994873, -3.5067999362945557, -3.8120999336242676, -3.8803999423980713, -3.9363999366760254, -3.9609999656677246, -3.972399950027466, -4.073400020599365, -4.146299839019775, -4.206299781799316, -4.3206000328063965, -4.333899974822998, -4.343100070953369, -4.348599910736084, -4.559199810028076, -4.623799800872803, -4.698200225830078, -4.698500156402588, -4.772799968719482, -5.076300144195557, -5.077700138092041, -5.149400234222412, -5.161300182342529, -5.187699794769287, -4.804900169372559, -4.808300018310547, -4.988500118255615, -4.862199783325195, -5.031099796295166, -2.5065999031066895, -2.5933001041412354, -2.906599998474121, -2.9346001148223877, -2.9811999797821045, -3.3849000930786133, -3.4003000259399414, -3.524899959564209, -3.6115000247955322, -4.127600193023682, -4.15880012512207, -4.160900115966797, -4.183899879455566, -4.231500148773193, -4.2652997970581055, -4.2957000732421875, -4.3069000244140625, -4.3094000816345215, -4.582099914550781, -4.594600200653076, -4.614299774169922, -4.6616997718811035, -4.795300006866455, -4.835299968719482, -4.8460001945495605, -4.890699863433838, -4.917399883270264, -4.934999942779541, -5.076399803161621, -5.1940999031066895, -5.026299953460693, -2.3850998878479004, -2.44569993019104, -2.9744999408721924, -3.5894999504089355, -4.047599792480469, -4.05109977722168, -4.10099983215332, -4.125899791717529, -4.172599792480469, -4.263999938964844, -4.275199890136719, -4.33050012588501, -4.377099990844727, -4.382299900054932, -4.389800071716309, -4.390200138092041, -4.518099784851074, -4.543700218200684, -4.63040018081665, -4.689300060272217, -4.697400093078613, -4.75570011138916, -4.7733001708984375, -4.809800148010254, -4.932300090789795, -4.939499855041504, -4.947700023651123, -4.94950008392334, -4.949699878692627, -4.9532999992370605, -2.8132998943328857, -4.916999816894531, -1.6092000007629395, -3.058300018310547, -3.113100051879883, -3.160900115966797, -3.536099910736084, -3.566699981689453, -3.62719988822937, -3.763200044631958, -3.770699977874756, -3.920799970626831, -3.9439001083374023, -4.04010009765625, -4.081399917602539, -4.361499786376953, -4.456399917602539, -4.616000175476074, -4.664899826049805, -4.802999973297119, -4.826600074768066, -4.89109992980957, -4.899400234222412, -4.91349983215332, -4.98859977722168, -4.998600006103516, -5.002200126647949, -5.0065999031066895, -5.0295000076293945, -5.029600143432617, -5.171599864959717, -5.209799766540527, -5.19890022277832, -2.129300117492676, -2.1967999935150146, -2.204200029373169, -2.559499979019165, -2.933199882507324, -3.4142000675201416, -3.854300022125244, -4.082099914550781, -4.214300155639648, -4.287799835205078, -4.334400177001953, -4.36959981918335, -4.476099967956543, -4.565000057220459, -4.584099769592285, -4.599299907684326, -4.607600212097168, -4.627900123596191, -4.667900085449219, -4.760000228881836, -4.781499862670898, -4.782800197601318, -4.9608001708984375, -5.035399913787842, -5.080100059509277, -5.261000156402588, -5.372300148010254, -5.3734002113342285, -5.381199836730957, -5.406499862670898, -5.106400012969971, -5.006100177764893, -4.631800174713135, -5.1479997634887695, -1.8086999654769897, -2.2174999713897705, -2.7404000759124756, -3.1135001182556152, -3.3085999488830566, -3.5455000400543213, -3.5576000213623047, -3.5952000617980957, -3.654599905014038, -3.801800012588501, -3.8712000846862793, -4.1458001136779785, -4.182600021362305, -4.329599857330322, -4.379000186920166, -4.396100044250488, -4.489500045776367, -4.5005998611450195, -4.5416998863220215, -4.630499839782715, -4.663000106811523, -4.681099891662598, -4.697000026702881, -4.7058000564575195, -4.710599899291992, -4.793900012969971, -4.826499938964844, -4.89739990234375, -5.031000137329102, -5.081699848175049, -4.786799907684326, -1.9663000106811523, -2.8717000484466553, -3.35479998588562, -3.587899923324585, -3.645400047302246, -3.744499921798706, -3.9619998931884766, -4.099400043487549, -4.1545000076293945, -4.205900192260742, -4.257800102233887, -4.3867998123168945, -4.41510009765625, -4.5081000328063965, -4.538000106811523, -4.657599925994873, -4.658400058746338, -4.679299831390381, -4.789700031280518, -4.8053998947143555, -4.877299785614014, -5.013400077819824, -5.0229997634887695, -5.026800155639648, -5.053299903869629, -5.078499794006348, -5.114200115203857, -5.128200054168701, -5.132199764251709, -5.153200149536133, -2.3649001121520996, -3.747499942779541]}, \"token.table\": {\"Topic\": [20, 16, 5, 11, 17, 1, 1, 13, 1, 16, 18, 14, 11, 7, 6, 7, 12, 11, 6, 9, 20, 6, 10, 18, 19, 6, 13, 4, 15, 16, 5, 18, 6, 8, 8, 2, 5, 6, 5, 18, 12, 10, 10, 2, 7, 7, 5, 13, 17, 4, 3, 11, 5, 19, 16, 7, 3, 8, 19, 12, 7, 13, 10, 17, 5, 16, 15, 18, 14, 19, 1, 6, 6, 10, 17, 1, 5, 19, 19, 17, 15, 2, 18, 13, 5, 18, 13, 15, 3, 17, 4, 6, 5, 17, 16, 20, 20, 13, 8, 16, 19, 19, 7, 5, 2, 4, 12, 19, 12, 9, 8, 17, 14, 1, 8, 3, 19, 14, 16, 18, 7, 11, 8, 1, 15, 20, 8, 14, 4, 11, 18, 19, 6, 18, 9, 9, 4, 10, 16, 17, 20, 6, 12, 17, 4, 14, 20, 6, 6, 20, 10, 3, 5, 11, 6, 9, 18, 16, 17, 18, 7, 17, 1, 14, 17, 16, 10, 16, 2, 5, 3, 7, 7, 9, 3, 19, 12, 14, 3, 3, 15, 3, 6, 17, 17, 19, 2, 6, 1, 1, 12, 5, 16, 20, 15, 7, 18, 15, 14, 19, 15, 15, 8, 20, 20, 11, 2, 7, 20, 3, 11, 9, 15, 2, 19, 7, 4, 16, 12, 2, 16, 2, 4, 15, 9, 17, 13, 11, 15, 9, 18, 1, 11, 5, 15, 10, 19, 14, 8, 14, 5, 19, 15, 2, 14, 17, 14, 15, 8, 10, 11, 13, 15, 13, 5, 14, 6, 8, 14, 9, 6, 18, 4, 5, 10, 16, 2, 17, 1, 3, 3, 2, 6, 11, 18, 2, 16, 17, 5, 12, 19, 17, 18, 1, 2, 8, 1, 10, 9, 12, 1, 5, 1, 16, 2, 8, 4, 12, 14, 8, 9, 12, 7, 10, 11, 11, 7, 18, 11, 17, 16, 15, 20, 19, 3, 1, 5, 4, 11, 3, 3, 16, 17, 11, 7, 10, 7, 19, 4, 2, 7, 12, 4, 12, 1, 18, 3, 14, 10, 11, 11, 12, 18, 12, 17, 20, 1, 19, 13, 9, 12, 18, 4, 13, 14, 14, 18, 20, 7, 15, 8, 17, 3, 18, 20, 15, 13, 6, 9, 7, 13, 6, 20, 11, 20, 9, 3, 2, 1, 7, 18, 5, 5, 5, 3, 20, 12, 8, 17, 14, 9, 15, 15, 18, 12, 8, 14, 12, 14, 16, 8, 8, 7, 11, 8, 7, 4, 3, 15, 7, 4, 8, 15, 10, 10, 20, 7, 4, 15, 4, 4, 1, 1, 16, 5, 14, 17, 3, 10, 18, 11, 20, 8, 10, 3, 14, 3, 19, 14, 16, 14, 1, 13, 19, 9, 1, 10, 12, 4, 14, 7, 13, 9, 4, 10, 7, 11, 2, 16, 11, 10, 11, 4, 7, 19, 8, 20, 19, 15, 8, 2, 2, 17, 10, 13, 5, 1, 18, 1, 6, 1, 20, 18, 11, 5, 1, 19, 14, 16, 1, 9, 9, 11, 10, 17, 20, 6, 2, 5, 13, 15, 12, 14, 4, 16, 10, 3, 4, 16, 17, 12, 7, 14, 11, 13, 14, 5, 13, 9, 5, 15, 4, 8, 7, 12, 20, 7, 16, 4, 9, 1, 8, 15, 20, 11, 6, 19, 5, 3, 5, 8, 11, 20, 2, 9, 8, 9, 20, 3, 16, 4, 2, 12, 13, 9, 18, 5, 15, 2, 1, 6, 10, 2, 8, 18, 8, 16, 14, 13, 18, 2, 18, 4, 17, 20, 6, 10, 20, 13, 12, 16, 14, 6, 2, 10, 19, 8, 3, 13, 1, 6, 13, 1, 10, 16, 13, 17, 8, 9, 10, 20, 18, 10, 3, 6, 9, 3, 11, 14, 17, 17, 13, 19, 11, 13, 9, 19, 9, 13, 6, 15, 13, 3, 9, 12, 12, 12, 10, 19, 7, 18, 6, 20, 9, 9, 8, 9, 14, 6, 13, 7, 18, 4, 20, 14, 2, 2, 7, 1, 18, 8, 10, 6, 2], \"Freq\": [0.994819164276123, 0.9933368563652039, 0.990145206451416, 0.38182932138442993, 0.6000175476074219, 0.9818903207778931, 0.9913128614425659, 0.9701542258262634, 0.9924778342247009, 0.9830900430679321, 0.9802851676940918, 0.9913128018379211, 0.9774693846702576, 0.991157054901123, 0.996116578578949, 0.9835997819900513, 0.9919158220291138, 0.9844907522201538, 0.9800899624824524, 0.9656171798706055, 0.9854568243026733, 0.9960474967956543, 0.9762636423110962, 0.983747661113739, 0.9921947717666626, 0.9818111658096313, 0.997734546661377, 0.9909858703613281, 0.9738366603851318, 0.9847503900527954, 0.850184977054596, 0.1386171132326126, 0.9640446901321411, 0.9861899018287659, 0.970176637172699, 0.9878103733062744, 0.9900006055831909, 0.9894089698791504, 0.9836814403533936, 0.9620528221130371, 0.9721331000328064, 0.9726285934448242, 0.9940861463546753, 0.9979380965232849, 0.9716076850891113, 0.9970341920852661, 0.9963836073875427, 0.997786283493042, 0.9941341280937195, 0.9866741895675659, 0.9918373823165894, 0.9867597818374634, 0.9758625030517578, 0.9921084046363831, 0.9850262999534607, 0.999485969543457, 0.9989123344421387, 0.9951079487800598, 0.996748685836792, 0.997444748878479, 0.9970539808273315, 0.9801691174507141, 0.990108072757721, 0.995220422744751, 0.9885727167129517, 0.9969155192375183, 0.9790452122688293, 0.9969276189804077, 0.43054115772247314, 0.5630154013633728, 0.9941396117210388, 0.9793881177902222, 0.9724206924438477, 0.9331021308898926, 0.9772647023200989, 0.9946156144142151, 0.9926303625106812, 0.9897011518478394, 0.9854973554611206, 0.9954785704612732, 0.9805368185043335, 0.9920222163200378, 0.9844276905059814, 0.9918986558914185, 0.987807035446167, 0.9982828497886658, 0.9841780662536621, 0.9893903732299805, 0.986368715763092, 0.9894419312477112, 0.9697490930557251, 0.9863277077674866, 0.9958764314651489, 0.963331401348114, 0.9856023788452148, 0.9880666136741638, 0.9930874109268188, 0.9937567114830017, 0.9749683141708374, 0.99297696352005, 0.9910258650779724, 0.9974353313446045, 0.9825934171676636, 0.9874874949455261, 0.9970317482948303, 0.9810186624526978, 0.992797315120697, 0.9850176572799683, 0.9934151768684387, 0.9679273962974548, 0.9820907711982727, 0.9716289639472961, 0.9956080317497253, 0.9770466685295105, 0.975043773651123, 0.9827481508255005, 0.9833497405052185, 0.994163990020752, 0.9879761338233948, 0.9807092547416687, 0.9922779202461243, 0.9844484329223633, 0.9433835744857788, 0.9697027206420898, 0.17475716769695282, 0.8218309879302979, 0.9742882251739502, 0.9829378128051758, 0.997828483581543, 0.9936382174491882, 0.9920112490653992, 0.9947478175163269, 0.9715687036514282, 0.9794509410858154, 0.984977126121521, 0.9766873121261597, 0.9926042556762695, 0.9856370091438293, 0.990498960018158, 0.9955577850341797, 0.9850221276283264, 0.9830440282821655, 0.976908266544342, 0.9975616931915283, 0.9858179688453674, 0.9980618357658386, 0.99602210521698, 0.9857981204986572, 0.983909010887146, 0.9777737855911255, 0.9655205011367798, 0.995572566986084, 0.9925645589828491, 0.9848442077636719, 0.9979358911514282, 0.9953153133392334, 0.9975020885467529, 0.9900662899017334, 0.9941028952598572, 0.9910674095153809, 0.9880040287971497, 0.9831771850585938, 0.9994004368782043, 0.8016639947891235, 0.18948420882225037, 0.9974406957626343, 0.9790599942207336, 0.9988872408866882, 0.9860237836837769, 0.9905022382736206, 0.9902294278144836, 0.9979807734489441, 0.9900703430175781, 0.9819372892379761, 0.9949392676353455, 0.9988157153129578, 0.9658302068710327, 0.9690139293670654, 0.9937949180603027, 0.9969496130943298, 0.9891135096549988, 0.9844539761543274, 0.9806756377220154, 0.9846371412277222, 0.9866049885749817, 0.974420428276062, 0.9955941438674927, 0.9972089529037476, 0.9921457767486572, 0.9924569725990295, 0.9989362955093384, 0.9816659092903137, 0.9942168593406677, 0.9832696318626404, 0.9918800592422485, 0.9954524636268616, 0.9833347201347351, 0.9964354634284973, 0.9981439709663391, 0.9946656823158264, 0.9956780672073364, 0.9984586834907532, 0.945706844329834, 0.9858429431915283, 0.9920774698257446, 0.9923375248908997, 0.7117472290992737, 0.27850979566574097, 0.9961046576499939, 0.982903242111206, 0.9883189797401428, 0.9862785339355469, 0.9850491881370544, 0.9741033315658569, 0.9959085583686829, 0.9841272830963135, 0.9857676029205322, 0.99920254945755, 0.9825343489646912, 0.9795602560043335, 0.9946147799491882, 0.9959916472434998, 0.9638944268226624, 0.9988048076629639, 0.9920156002044678, 0.9866739511489868, 0.994897186756134, 0.9927985072135925, 0.9841744303703308, 0.9842358827590942, 0.9856207370758057, 0.9928462505340576, 0.9913139343261719, 0.9776740074157715, 0.9869431853294373, 0.9998036026954651, 0.9962206482887268, 0.9964488744735718, 0.9997769594192505, 0.9755993485450745, 0.9915944337844849, 0.9991247653961182, 0.9892808794975281, 0.9887425303459167, 0.9918131828308105, 0.9918140769004822, 0.9928656220436096, 0.9907207489013672, 0.9500288963317871, 0.9758589267730713, 0.997205913066864, 0.9984700083732605, 0.9938063025474548, 0.9707474708557129, 0.21871279180049896, 0.7739067673683167, 0.5270035862922668, 0.23326388001441956, 0.23326388001441956, 0.9925052523612976, 0.9968789219856262, 0.9953503012657166, 0.9807940125465393, 0.9901704788208008, 0.9703087210655212, 0.9911779165267944, 0.9810692667961121, 0.996881365776062, 0.9768409132957458, 0.9843774437904358, 0.9842994809150696, 0.9918046593666077, 0.9819568991661072, 0.9968703985214233, 0.9946812391281128, 0.9872893691062927, 0.9785668849945068, 0.9878498911857605, 0.9929934144020081, 0.992586076259613, 0.9934813380241394, 0.9907564520835876, 0.9578262567520142, 0.9831011295318604, 0.9959343075752258, 0.9855601191520691, 0.9610082507133484, 0.9499424695968628, 0.986004650592804, 0.986355185508728, 0.9848552942276001, 0.9851928949356079, 0.9938580393791199, 0.9821999669075012, 0.9884142279624939, 0.9733952879905701, 0.996645987033844, 0.9692766070365906, 0.9965230226516724, 0.9741969108581543, 0.9990043640136719, 0.9839640259742737, 0.9964468479156494, 0.993776798248291, 0.9879525303840637, 0.9851937890052795, 0.9929801821708679, 0.970185399055481, 0.9840242266654968, 0.9886192083358765, 0.9841488003730774, 0.9799693822860718, 0.9877919554710388, 0.9912968873977661, 0.9966560006141663, 0.3116752505302429, 0.6783519983291626, 0.9803730845451355, 0.9987239837646484, 0.9920286536216736, 0.9842582941055298, 0.7266151905059814, 0.27248069643974304, 0.9940122365951538, 0.9862881302833557, 0.9721614718437195, 0.991559624671936, 0.99807208776474, 0.9875011444091797, 0.9900183081626892, 0.9987385272979736, 0.9788824319839478, 0.998432457447052, 0.9878560900688171, 0.9970367550849915, 0.9675086140632629, 0.9833075404167175, 0.9949058294296265, 0.9913123250007629, 0.9940394759178162, 0.9885920286178589, 0.9880843162536621, 0.9916917681694031, 0.9868761897087097, 0.9996373653411865, 0.9904986619949341, 0.9891120791435242, 0.9962376356124878, 0.9990787506103516, 0.9939026236534119, 0.996573269367218, 0.9901992678642273, 0.9850311875343323, 0.9797286987304688, 0.9943975210189819, 0.9981021285057068, 0.6992895603179932, 0.272893488407135, 0.9783623814582825, 0.9739277958869934, 0.9851521253585815, 0.9908729791641235, 0.9804537296295166, 0.9896116852760315, 0.995819091796875, 0.989348292350769, 0.9789371490478516, 0.9993705749511719, 0.9895881414413452, 0.9879454374313354, 0.9905821084976196, 0.9686087965965271, 0.9920013546943665, 0.9992856383323669, 0.9785448908805847, 0.986632764339447, 0.9948799014091492, 0.9974880218505859, 0.9753082990646362, 0.8425471782684326, 0.15406577289104462, 0.9948902130126953, 0.99613356590271, 0.9923236966133118, 0.9921635389328003, 0.9993219375610352, 0.9888295531272888, 0.9475091695785522, 0.9888960123062134, 0.9961204528808594, 0.9904393553733826, 0.9964313507080078, 0.9834714531898499, 0.9991044402122498, 0.9699822068214417, 0.9560743570327759, 0.987729012966156, 0.9823572635650635, 0.9902695417404175, 0.9957687258720398, 0.9545822143554688, 0.982111394405365, 0.9957383871078491, 0.991090714931488, 0.959317147731781, 0.983634352684021, 0.9925647377967834, 0.9971939325332642, 0.9888503551483154, 0.9831777215003967, 0.9984810948371887, 0.9925142526626587, 0.9909073114395142, 0.9771764278411865, 0.9774860739707947, 0.9787376523017883, 0.9946663975715637, 0.977521538734436, 0.9814475178718567, 0.9945224523544312, 0.990196704864502, 0.9987678527832031, 0.9980709552764893, 0.9884676933288574, 0.9956936240196228, 0.9938405752182007, 0.9965739846229553, 0.9934116005897522, 0.9948206543922424, 0.9983441829681396, 0.9928911924362183, 0.9959251284599304, 0.3568408489227295, 0.6426517963409424, 0.22297313809394836, 0.7664701342582703, 0.9954483509063721, 0.9898681044578552, 0.9943293929100037, 0.9787880778312683, 0.9946703910827637, 0.9968886971473694, 0.9983749985694885, 0.9921307563781738, 0.9892261028289795, 0.6993215084075928, 0.29909878969192505, 0.9946209192276001, 0.98874431848526, 0.9874634742736816, 0.99240642786026, 0.974145770072937, 0.9930665493011475, 0.9945483207702637, 0.9967064261436462, 0.24110788106918335, 0.7534621357917786, 0.9838992953300476, 0.982986330986023, 0.996797502040863, 0.9614243507385254, 0.974806547164917, 0.9982905983924866, 0.985133945941925, 0.995378315448761, 0.978459358215332, 0.9933058023452759, 0.9875176548957825, 0.9839198589324951, 0.9734817147254944, 0.9947196841239929, 0.9938505291938782, 0.9687780141830444, 0.9926802515983582, 0.9937050342559814, 0.985132098197937, 0.9916682839393616, 0.9841508269309998, 0.9942288994789124, 0.9844695329666138, 0.9637690186500549, 0.9835900068283081, 0.9898107647895813, 0.9956423044204712, 0.9955254197120667, 0.968975841999054, 0.9912818074226379, 0.9964203238487244, 0.9849556684494019, 0.9898942112922668, 0.9936836361885071, 0.9950754046440125, 0.9788244366645813, 0.9963120222091675, 0.9862717390060425, 0.9763393402099609, 0.9933995008468628, 0.997911810874939, 0.9804627299308777, 0.9778892993927002, 0.9980310201644897, 0.9936627149581909, 0.9855746030807495, 0.9982783794403076, 0.9926369190216064, 0.9727047681808472, 0.9964751601219177, 0.9827043414115906, 0.9768267273902893, 0.9703881144523621, 0.9960275888442993, 0.9946989417076111, 0.987987756729126, 0.9958856105804443, 0.9689038991928101, 0.9974202513694763, 0.9973961114883423, 0.9927287101745605, 0.9934849143028259, 0.9832475185394287, 0.9973099827766418, 0.9875415563583374, 0.9346880316734314, 0.9957326054573059, 0.9795165061950684, 0.9850847721099854, 0.9959118962287903, 0.9887291193008423, 0.9895684719085693, 0.9851905703544617, 0.9948603510856628, 0.9671651721000671, 0.9761044383049011, 0.9875245690345764, 0.9921059012413025, 0.980602502822876, 0.9971739053726196, 0.9923900365829468, 0.9944213032722473, 0.9951360821723938, 0.965124785900116, 0.9845982789993286, 0.9701986908912659, 0.9820315837860107, 0.9828387498855591, 0.9537379145622253, 0.9815675616264343, 0.9714607000350952, 0.9902888536453247, 0.9797617197036743, 0.9829912185668945, 0.9859302639961243, 0.958278477191925, 0.9953335523605347, 0.9729025363922119, 0.9926044940948486, 0.9910860657691956, 0.9904123544692993, 0.993348240852356, 0.15913277864456177, 0.19216033816337585, 0.6455386281013489, 0.9959350824356079, 0.9433938264846802, 0.9908086657524109, 0.25684890151023865, 0.7420079708099365, 0.9923140406608582, 0.9929565787315369, 0.9985400438308716, 0.9810535311698914, 0.9817116260528564, 0.987683892250061, 0.9846722483634949, 0.996735155582428, 0.9850035309791565, 0.9727668166160583, 0.995107114315033, 0.9873942136764526, 0.9821590185165405, 0.9847962856292725, 0.9680835604667664, 0.994487464427948, 0.977347731590271, 0.972617506980896, 0.993139386177063, 0.9642577767372131, 0.9803718328475952, 0.9835003614425659, 0.9988524317741394, 0.9951459169387817, 0.9976476430892944, 0.9839823246002197, 0.9682266116142273, 0.9793227910995483, 0.9862581491470337, 0.9832082390785217, 0.43805184960365295, 0.5588937401771545, 0.9616431593894958, 0.9794647097587585, 0.981331467628479, 0.9851505756378174, 0.9940135478973389, 0.9951549768447876, 0.9908764958381653, 0.9959589242935181, 0.28718945384025574, 0.7020186185836792, 0.9925859570503235, 0.9811238646507263, 0.9856334328651428, 0.9977414011955261, 0.9938932061195374, 0.9877761006355286, 0.9897012114524841, 0.9870917797088623, 0.8112637996673584, 0.18782955408096313, 0.9889593720436096, 0.9786232709884644, 0.9774742722511292, 0.9854820370674133, 0.9797878861427307, 0.9957887530326843, 0.9736500978469849, 0.9907703399658203, 0.9973426461219788, 0.9921866655349731, 0.43113455176353455, 0.5666339993476868, 0.16259539127349854, 0.8370652198791504, 0.9981443881988525, 0.9938916563987732, 0.2946670651435852, 0.7049241662025452, 0.9857421517372131, 0.9986739754676819, 0.9789297580718994, 0.7422975301742554, 0.2537769377231598, 0.9888448715209961, 0.9899634122848511, 0.9869176149368286, 0.9934487342834473, 0.9911122918128967, 0.9955342411994934, 0.7898575663566589, 0.20834825932979584, 0.9812915921211243, 0.9906017184257507, 0.9899649620056152, 0.9926835298538208], \"Term\": [\"1\", \"10\", \"12\", \"15\", \"15\", \"18\", \"1800\", \"18inch\", \"2\", \"20\", \"2nd\", \"3\", \"30\", \"4\", \"5\", \"6\", \"8\", \"absolutely\", \"accessory\", \"actually\", \"addition\", \"advertised\", \"affordable\", \"ago\", \"almost\", \"alternative\", \"amazing\", \"amazon\", \"american\", \"amp\", \"another\", \"another\", \"apart\", \"around\", \"arrived\", \"assemble\", \"assembly\", \"attractant\", \"attractive\", \"available\", \"average\", \"avoid\", \"away\", \"awesome\", \"ax\", \"axe\", \"back\", \"bad\", \"bag\", \"battery\", \"bbq\", \"bd\", \"beat\", \"beautiful\", \"bench\", \"best\", \"better\", \"beware\", \"big\", \"bird\", \"birds\", \"birthday\", \"bit\", \"black\", \"blade\", \"blower\", \"blowervac\", \"bought\", \"bounty\", \"bounty\", \"box\", \"branches\", \"brand\", \"bread\", \"breaks\", \"broke\", \"broken\", \"brush\", \"brushes\", \"bucket\", \"buddy\", \"bug\", \"bugs\", \"built\", \"bulb\", \"buy\", \"buyer\", \"buying\", \"caddie\", \"caddy\", \"came\", \"camping\", \"cant\", \"careful\", \"cart\", \"catch\", \"caught\", \"chain\", \"chainsaw\", \"chair\", \"charbroil\", \"charcoal\", \"charm\", \"chaser\", \"cheap\", \"cheaply\", \"chimney\", \"choice\", \"clean\", \"cleaning\", \"clippers\", \"come\", \"comfortable\", \"compact\", \"company\", \"connector\", \"construction\", \"control\", \"convenient\", \"cooking\", \"cool\", \"cord\", \"correct\", \"cost\", \"could\", \"could\", \"couldnt\", \"couple\", \"cover\", \"customer\", \"cut\", \"cuts\", \"cutter\", \"cutting\", \"day\", \"days\", \"deal\", \"decent\", \"deck\", \"decker\", \"defective\", \"definitely\", \"described\", \"design\", \"designed\", \"detector\", \"didnt\", \"died\", \"different\", \"difficult\", \"directions\", \"disappointed\", \"disappointing\", \"disappointment\", \"doesnt\", \"done\", \"dont\", \"dragon\", \"durable\", \"duty\", \"easier\", \"easily\", \"easy\", \"edger\", \"edger\", \"effective\", \"efficient\", \"electric\", \"else\", \"enough\", \"even\", \"ever\", \"every\", \"everything\", \"exactly\", \"excellent\", \"except\", \"expect\", \"expectations\", \"expected\", \"expensive\", \"experience\", \"extra\", \"extremely\", \"fabulous\", \"family\", \"fantastic\", \"far\", \"fast\", \"favorite\", \"feeder\", \"feeders\", \"filter\", \"finally\", \"find\", \"fine\", \"fire\", \"first\", \"fiskars\", \"fit\", \"fits\", \"five\", \"flaws\", \"flea\", \"flies\", \"flimsy\", \"flowtron\", \"flowtron\", \"fly\", \"food\", \"foot\", \"found\", \"four\", \"free\", \"fun\", \"functional\", \"garbage\", \"garden\", \"gardena\", \"gardeners\", \"gardening\", \"gas\", \"generator\", \"get\", \"gets\", \"getting\", \"gift\", \"gilmour\", \"give\", \"glad\", \"glider\", \"go\", \"going\", \"gold\", \"gone\", \"good\", \"got\", \"grass\", \"great\", \"greatest\", \"green\", \"grill\", \"grilling\", \"grills\", \"ground\", \"hammock\", \"hand\", \"handle\", \"handled\", \"hands\", \"handy\", \"happy\", \"hard\", \"hate\", \"head\", \"head\", \"headphones\", \"headphones\", \"headphones\", \"heat\", \"heater\", \"heavy\", \"hedge\", \"help\", \"helpful\", \"high\", \"highly\", \"hog\", \"hold\", \"holes\", \"home\", \"hopper\", \"horrible\", \"hose\", \"hot\", \"house\", \"huge\", \"hummers\", \"hummingbird\", \"hummingbirds\", \"hunter\", \"husband\", \"ice\", \"id\", \"idea\", \"im\", \"impressed\", \"incredible\", \"inexpensive\", \"injector\", \"install\", \"instructions\", \"intex\", \"investment\", \"isnt\", \"issue\", \"item\", \"iv\", \"ive\", \"jacket\", \"job\", \"joe\", \"junk\", \"keep\", \"keeps\", \"kids\", \"killer\", \"kills\", \"kit\", \"knee\", \"kneeler\", \"knees\", \"know\", \"large\", \"last\", \"lasted\", \"lasted\", \"lasts\", \"lawn\", \"lawnmower\", \"lawns\", \"leaf\", \"leaf\", \"leaks\", \"less\", \"let\", \"life\", \"light\", \"lighter\", \"lightweight\", \"like\", \"line\", \"little\", \"live\", \"long\", \"longer\", \"look\", \"looking\", \"looks\", \"lopper\", \"loppers\", \"lot\", \"lots\", \"lounge\", \"love\", \"loves\", \"low\", \"machine\", \"made\", \"make\", \"makes\", \"many\", \"market\", \"maybe\", \"melnor\", \"metal\", \"mice\", \"mice\", \"mine\", \"minutes\", \"missing\", \"mm875\", \"mobile\", \"model\", \"mole\", \"moles\", \"mom\", \"money\", \"months\", \"mosquito\", \"mosquitos\", \"mountain\", \"mouse\", \"mower\", \"mowing\", \"mr\", \"much\", \"must\", \"name\", \"need\", \"need\", \"needed\", \"needs\", \"never\", \"new\", \"nice\", \"nothing\", \"oh\", \"oil\", \"ok\", \"okay\", \"old\", \"older\", \"one\", \"opus\", \"order\", \"ordered\", \"original\", \"outdoor\", \"outstanding\", \"overall\", \"overpriced\", \"owned\", \"pads\", \"paid\", \"part\", \"parts\", \"patio\", \"pay\", \"penny\", \"perfect\", \"perfectly\", \"performance\", \"performs\", \"pest\", \"picture\", \"piece\", \"place\", \"plants\", \"plastic\", \"pleased\", \"pool\", \"poor\", \"poorly\", \"portable\", \"power\", \"powerful\", \"pressure\", \"pretty\", \"price\", \"problem\", \"problems\", \"product\", \"product\", \"products\", \"products\", \"proof\", \"propane\", \"pruner\", \"pruners\", \"pruning\", \"pump\", \"purchase\", \"purchased\", \"put\", \"quality\", \"quality\", \"quick\", \"quiet\", \"quite\", \"rake\", \"rating\", \"read\", \"real\", \"really\", \"recommend\", \"recommend\", \"recommended\", \"red\", \"reel\", \"relaxing\", \"reliable\", \"replacement\", \"results\", \"review\", \"reviews\", \"right\", \"rotisserie\", \"round\", \"said\", \"satisfied\", \"save\", \"saved\", \"saver\", \"saw\", \"say\", \"says\", \"season\", \"second\", \"see\", \"seed\", \"seem\", \"seems\", \"service\", \"set\", \"setup\", \"sharp\", \"shears\", \"shed\", \"shipping\", \"short\", \"shovel\", \"side\", \"simple\", \"simply\", \"single\", \"size\", \"small\", \"smaller\", \"smells\", \"smoker\", \"smokey\", \"snips\", \"snow\", \"snowblower\", \"solar\", \"solid\", \"solution\", \"something\", \"sound\", \"splitter\", \"splitting\", \"spray\", \"sprayer\", \"spreader\", \"sprinkler\", \"squirrel\", \"squirrels\", \"stand\", \"star\", \"stars\", \"start\", \"started\", \"starter\", \"stay\", \"steel\", \"still\", \"stool\", \"stop\", \"stopped\", \"storage\", \"stove\", \"stovetop\", \"string\", \"strong\", \"stuff\", \"sturdy\", \"summer\", \"suncast\", \"super\", \"supposed\", \"sure\", \"surprised\", \"swing\", \"table\", \"tailgating\", \"take\", \"takes\", \"terrible\", \"terrific\", \"thermometer\", \"thermos\", \"thin\", \"thing\", \"things\", \"think\", \"thought\", \"three\", \"thrower\", \"time\", \"time\", \"time\", \"timer\", \"tip\", \"together\", \"tool\", \"tool\", \"tools\", \"top\", \"toro\", \"total\", \"touch\", \"tough\", \"toy\", \"trap\", \"traps\", \"trick\", \"trimmer\", \"trimming\", \"triple\", \"true\", \"try\", \"two\", \"ultra\", \"unbelievable\", \"unit\", \"update\", \"us\", \"usa\", \"use\", \"used\", \"useful\", \"useless\", \"user\", \"using\", \"vac\", \"vacuum\", \"value\", \"value\", \"version\", \"victor\", \"wait\", \"want\", \"wanted\", \"waste\", \"watch\", \"water\", \"watering\", \"watering\", \"way\", \"weak\", \"weather\", \"weber\", \"weed\", \"weeds\", \"weeks\", \"weight\", \"well\", \"well\", \"wheel\", \"wheels\", \"wife\", \"window\", \"winter\", \"wish\", \"within\", \"without\", \"wonderful\", \"wont\", \"wood\", \"wood\", \"work\", \"work\", \"worked\", \"working\", \"works\", \"works\", \"worst\", \"worth\", \"worthless\", \"would\", \"would\", \"wow\", \"wrong\", \"x27\", \"yard\", \"yards\", \"year\", \"years\", \"years\", \"yellow\", \"yes\", \"yet\", \"zapper\"]}, \"R\": 30, \"lambda.step\": 0.01, \"plot.opts\": {\"xlab\": \"PC1\", \"ylab\": \"PC2\"}, \"topic.order\": [1, 2, 3, 4, 5, 6, 7, 8, 9, 10, 11, 12, 13, 14, 15, 16, 17, 18, 19, 20]};\n",
              "\n",
              "function LDAvis_load_lib(url, callback){\n",
              "  var s = document.createElement('script');\n",
              "  s.src = url;\n",
              "  s.async = true;\n",
              "  s.onreadystatechange = s.onload = callback;\n",
              "  s.onerror = function(){console.warn(\"failed to load library \" + url);};\n",
              "  document.getElementsByTagName(\"head\")[0].appendChild(s);\n",
              "}\n",
              "\n",
              "if(typeof(LDAvis) !== \"undefined\"){\n",
              "   // already loaded: just create the visualization\n",
              "   !function(LDAvis){\n",
              "       new LDAvis(\"#\" + \"ldavis_el1251403823607384563039367512\", ldavis_el1251403823607384563039367512_data);\n",
              "   }(LDAvis);\n",
              "}else if(typeof define === \"function\" && define.amd){\n",
              "   // require.js is available: use it to load d3/LDAvis\n",
              "   require.config({paths: {d3: \"https://cdnjs.cloudflare.com/ajax/libs/d3/3.5.5/d3.min\"}});\n",
              "   require([\"d3\"], function(d3){\n",
              "      window.d3 = d3;\n",
              "      LDAvis_load_lib(\"https://cdn.rawgit.com/bmabey/pyLDAvis/files/ldavis.v1.0.0.js\", function(){\n",
              "        new LDAvis(\"#\" + \"ldavis_el1251403823607384563039367512\", ldavis_el1251403823607384563039367512_data);\n",
              "      });\n",
              "    });\n",
              "}else{\n",
              "    // require.js not available: dynamically load d3 & LDAvis\n",
              "    LDAvis_load_lib(\"https://cdnjs.cloudflare.com/ajax/libs/d3/3.5.5/d3.min.js\", function(){\n",
              "         LDAvis_load_lib(\"https://cdn.rawgit.com/bmabey/pyLDAvis/files/ldavis.v1.0.0.js\", function(){\n",
              "                 new LDAvis(\"#\" + \"ldavis_el1251403823607384563039367512\", ldavis_el1251403823607384563039367512_data);\n",
              "            })\n",
              "         });\n",
              "}\n",
              "</script>"
            ],
            "text/plain": [
              "<IPython.core.display.HTML object>"
            ]
          },
          "metadata": {
            "tags": []
          },
          "execution_count": 84
        }
      ]
    },
    {
      "cell_type": "code",
      "metadata": {
        "id": "TPKsZA_iVEJA",
        "colab_type": "code",
        "colab": {}
      },
      "source": [
        ""
      ],
      "execution_count": 0,
      "outputs": []
    }
  ]
}