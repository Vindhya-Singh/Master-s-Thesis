{
  "nbformat": 4,
  "nbformat_minor": 0,
  "metadata": {
    "colab": {
      "provenance": [],
      "toc_visible": true,
      "include_colab_link": true
    },
    "kernelspec": {
      "name": "python3",
      "display_name": "Python 3"
    }
  },
  "cells": [
    {
      "cell_type": "markdown",
      "metadata": {
        "id": "view-in-github",
        "colab_type": "text"
      },
      "source": [
        "<a href=\"https://colab.research.google.com/github/Vindhya-Singh/Master-s-Thesis/blob/master/LDA_AmazonProductData_ToolAndHomeImprovement.ipynb\" target=\"_parent\"><img src=\"https://colab.research.google.com/assets/colab-badge.svg\" alt=\"Open In Colab\"/></a>"
      ]
    },
    {
      "cell_type": "code",
      "metadata": {
        "id": "6RyedzvGw1l3",
        "outputId": "5edf8403-073b-4923-d304-43315ab7fca2",
        "colab": {
          "base_uri": "https://localhost:8080/"
        }
      },
      "source": [
        "!pip3 install pandas nltk gensim pyLdavis"
      ],
      "execution_count": null,
      "outputs": [
        {
          "output_type": "stream",
          "text": [
            "Requirement already satisfied: pandas in /usr/local/lib/python3.6/dist-packages (0.24.2)\n",
            "Requirement already satisfied: nltk in /usr/local/lib/python3.6/dist-packages (3.2.5)\n",
            "Requirement already satisfied: gensim in /usr/local/lib/python3.6/dist-packages (3.6.0)\n",
            "Collecting pyLdavis\n",
            "\u001b[?25l  Downloading https://files.pythonhosted.org/packages/a5/3a/af82e070a8a96e13217c8f362f9a73e82d61ac8fff3a2561946a97f96266/pyLDAvis-2.1.2.tar.gz (1.6MB)\n",
            "\u001b[K     |████████████████████████████████| 1.6MB 2.8MB/s \n",
            "\u001b[?25hRequirement already satisfied: numpy>=1.12.0 in /usr/local/lib/python3.6/dist-packages (from pandas) (1.16.5)\n",
            "Requirement already satisfied: pytz>=2011k in /usr/local/lib/python3.6/dist-packages (from pandas) (2018.9)\n",
            "Requirement already satisfied: python-dateutil>=2.5.0 in /usr/local/lib/python3.6/dist-packages (from pandas) (2.5.3)\n",
            "Requirement already satisfied: six in /usr/local/lib/python3.6/dist-packages (from nltk) (1.12.0)\n",
            "Requirement already satisfied: scipy>=0.18.1 in /usr/local/lib/python3.6/dist-packages (from gensim) (1.3.1)\n",
            "Requirement already satisfied: smart-open>=1.2.1 in /usr/local/lib/python3.6/dist-packages (from gensim) (1.8.4)\n",
            "Requirement already satisfied: wheel>=0.23.0 in /usr/local/lib/python3.6/dist-packages (from pyLdavis) (0.33.6)\n",
            "Requirement already satisfied: joblib>=0.8.4 in /usr/local/lib/python3.6/dist-packages (from pyLdavis) (0.14.0)\n",
            "Requirement already satisfied: jinja2>=2.7.2 in /usr/local/lib/python3.6/dist-packages (from pyLdavis) (2.10.3)\n",
            "Requirement already satisfied: numexpr in /usr/local/lib/python3.6/dist-packages (from pyLdavis) (2.7.0)\n",
            "Requirement already satisfied: pytest in /usr/local/lib/python3.6/dist-packages (from pyLdavis) (3.6.4)\n",
            "Requirement already satisfied: future in /usr/local/lib/python3.6/dist-packages (from pyLdavis) (0.16.0)\n",
            "Collecting funcy (from pyLdavis)\n",
            "  Downloading https://files.pythonhosted.org/packages/eb/3a/fc8323f913e8a9c6f33f7203547f8a2171223da5ed965f2541dafb10aa09/funcy-1.13-py2.py3-none-any.whl\n",
            "Requirement already satisfied: boto3 in /usr/local/lib/python3.6/dist-packages (from smart-open>=1.2.1->gensim) (1.9.243)\n",
            "Requirement already satisfied: boto>=2.32 in /usr/local/lib/python3.6/dist-packages (from smart-open>=1.2.1->gensim) (2.49.0)\n",
            "Requirement already satisfied: requests in /usr/local/lib/python3.6/dist-packages (from smart-open>=1.2.1->gensim) (2.21.0)\n",
            "Requirement already satisfied: MarkupSafe>=0.23 in /usr/local/lib/python3.6/dist-packages (from jinja2>=2.7.2->pyLdavis) (1.1.1)\n",
            "Requirement already satisfied: attrs>=17.4.0 in /usr/local/lib/python3.6/dist-packages (from pytest->pyLdavis) (19.2.0)\n",
            "Requirement already satisfied: more-itertools>=4.0.0 in /usr/local/lib/python3.6/dist-packages (from pytest->pyLdavis) (7.2.0)\n",
            "Requirement already satisfied: atomicwrites>=1.0 in /usr/local/lib/python3.6/dist-packages (from pytest->pyLdavis) (1.3.0)\n",
            "Requirement already satisfied: pluggy<0.8,>=0.5 in /usr/local/lib/python3.6/dist-packages (from pytest->pyLdavis) (0.7.1)\n",
            "Requirement already satisfied: setuptools in /usr/local/lib/python3.6/dist-packages (from pytest->pyLdavis) (41.2.0)\n",
            "Requirement already satisfied: py>=1.5.0 in /usr/local/lib/python3.6/dist-packages (from pytest->pyLdavis) (1.8.0)\n",
            "Requirement already satisfied: jmespath<1.0.0,>=0.7.1 in /usr/local/lib/python3.6/dist-packages (from boto3->smart-open>=1.2.1->gensim) (0.9.4)\n",
            "Requirement already satisfied: botocore<1.13.0,>=1.12.243 in /usr/local/lib/python3.6/dist-packages (from boto3->smart-open>=1.2.1->gensim) (1.12.243)\n",
            "Requirement already satisfied: s3transfer<0.3.0,>=0.2.0 in /usr/local/lib/python3.6/dist-packages (from boto3->smart-open>=1.2.1->gensim) (0.2.1)\n",
            "Requirement already satisfied: chardet<3.1.0,>=3.0.2 in /usr/local/lib/python3.6/dist-packages (from requests->smart-open>=1.2.1->gensim) (3.0.4)\n",
            "Requirement already satisfied: urllib3<1.25,>=1.21.1 in /usr/local/lib/python3.6/dist-packages (from requests->smart-open>=1.2.1->gensim) (1.24.3)\n",
            "Requirement already satisfied: idna<2.9,>=2.5 in /usr/local/lib/python3.6/dist-packages (from requests->smart-open>=1.2.1->gensim) (2.8)\n",
            "Requirement already satisfied: certifi>=2017.4.17 in /usr/local/lib/python3.6/dist-packages (from requests->smart-open>=1.2.1->gensim) (2019.9.11)\n",
            "Requirement already satisfied: docutils<0.16,>=0.10 in /usr/local/lib/python3.6/dist-packages (from botocore<1.13.0,>=1.12.243->boto3->smart-open>=1.2.1->gensim) (0.15.2)\n",
            "Building wheels for collected packages: pyLdavis\n",
            "  Building wheel for pyLdavis (setup.py) ... \u001b[?25l\u001b[?25hdone\n",
            "  Created wheel for pyLdavis: filename=pyLDAvis-2.1.2-py2.py3-none-any.whl size=97711 sha256=f3a231a6e64ec7ae4cc256c25ecb9d4f296f0baa06de9e14be0e2352a2368f43\n",
            "  Stored in directory: /root/.cache/pip/wheels/98/71/24/513a99e58bb6b8465bae4d2d5e9dba8f0bef8179e3051ac414\n",
            "Successfully built pyLdavis\n",
            "Installing collected packages: funcy, pyLdavis\n",
            "Successfully installed funcy-1.13 pyLdavis-2.1.2\n"
          ],
          "name": "stdout"
        }
      ]
    },
    {
      "cell_type": "markdown",
      "metadata": {
        "id": "Lz3-jIooyDfr"
      },
      "source": [
        "## All the Imports go here"
      ]
    },
    {
      "cell_type": "code",
      "metadata": {
        "id": "doRp1032xHTI"
      },
      "source": [
        "import re # We clean text using regex\n",
        "import csv # To read the csv\n",
        "from collections import defaultdict # For accumlating values\n",
        "from nltk.corpus import stopwords # To remove stopwords\n",
        "from gensim import corpora # To create corpus and dictionary for the LDA model\n",
        "from gensim.models import LdaModel # To use the LDA model\n",
        "import pyLDAvis.gensim # To visualise LDA model effectively\n",
        "import pandas as pd"
      ],
      "execution_count": null,
      "outputs": []
    },
    {
      "cell_type": "code",
      "metadata": {
        "id": "7Y1kMFtGxPYB",
        "outputId": "ae1d30c5-55aa-45c7-8d21-239129a5c7b9",
        "colab": {
          "base_uri": "https://localhost:8080/"
        }
      },
      "source": [
        "import nltk\n",
        "nltk.download('stopwords')"
      ],
      "execution_count": null,
      "outputs": [
        {
          "output_type": "stream",
          "text": [
            "[nltk_data] Downloading package stopwords to /root/nltk_data...\n",
            "[nltk_data]   Unzipping corpora/stopwords.zip.\n"
          ],
          "name": "stdout"
        },
        {
          "output_type": "execute_result",
          "data": {
            "text/plain": [
              "True"
            ]
          },
          "metadata": {
            "tags": []
          },
          "execution_count": 3
        }
      ]
    },
    {
      "cell_type": "markdown",
      "metadata": {
        "id": "0jF4Zig7yKY1"
      },
      "source": [
        "##Reading the Amazon Product Review file "
      ]
    },
    {
      "cell_type": "code",
      "metadata": {
        "id": "t-h84hVFxmpc",
        "outputId": "97802a3c-a992-4e4d-b385-f4ed9f4d3db6",
        "colab": {
          "resources": {
            "http://localhost:8080/nbextensions/google.colab/files.js": {
              "data": "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",
              "ok": true,
              "headers": [
                [
                  "content-type",
                  "application/javascript"
                ]
              ],
              "status": 200,
              "status_text": ""
            }
          },
          "base_uri": "https://localhost:8080/",
          "height": 91
        }
      },
      "source": [
        "from google.colab import files\n",
        "\n",
        "uploaded = files.upload()\n",
        "\n",
        "for fn in uploaded.keys():\n",
        "  print('User uploaded file \"{name}\" with length {length} bytes'.format(\n",
        "      name=fn, length=len(uploaded[fn])))"
      ],
      "execution_count": null,
      "outputs": [
        {
          "output_type": "display_data",
          "data": {
            "text/html": [
              "\n",
              "     <input type=\"file\" id=\"files-32cbdd01-b263-4b62-9ba6-afc798aa78f5\" name=\"files[]\" multiple disabled />\n",
              "     <output id=\"result-32cbdd01-b263-4b62-9ba6-afc798aa78f5\">\n",
              "      Upload widget is only available when the cell has been executed in the\n",
              "      current browser session. Please rerun this cell to enable.\n",
              "      </output>\n",
              "      <script src=\"/nbextensions/google.colab/files.js\"></script> "
            ],
            "text/plain": [
              "<IPython.core.display.HTML object>"
            ]
          },
          "metadata": {
            "tags": []
          }
        },
        {
          "output_type": "stream",
          "text": [
            "Saving reviews_Tools_and_Home_Improvement.json.gz to reviews_Tools_and_Home_Improvement.json.gz\n",
            "User uploaded file \"reviews_Tools_and_Home_Improvement.json.gz\" with length 381777044 bytes\n"
          ],
          "name": "stdout"
        }
      ]
    },
    {
      "cell_type": "code",
      "metadata": {
        "id": "bWr1ocyxx8yh",
        "outputId": "ef2b093b-42e1-47fd-83a0-3df75df4dc70",
        "colab": {
          "base_uri": "https://localhost:8080/",
          "height": 272
        }
      },
      "source": [
        "import pandas as pd\n",
        "import gzip\n",
        "\n",
        "def parse(path):\n",
        "  g = gzip.open(path, 'rb')\n",
        "  for l in g:\n",
        "    yield eval(l)\n",
        "\n",
        "def getDF(path):\n",
        "  i = 0\n",
        "  df = {}\n",
        "  for d in parse(path):\n",
        "    df[i] = d\n",
        "    i += 1\n",
        "  return pd.DataFrame.from_dict(df, orient='index')\n",
        "\n",
        "df = getDF('/content/reviews_Tools_and_Home_Improvement.json.gz')\n",
        "\n",
        "df.tail()"
      ],
      "execution_count": null,
      "outputs": [
        {
          "output_type": "execute_result",
          "data": {
            "text/html": [
              "<div>\n",
              "<style scoped>\n",
              "    .dataframe tbody tr th:only-of-type {\n",
              "        vertical-align: middle;\n",
              "    }\n",
              "\n",
              "    .dataframe tbody tr th {\n",
              "        vertical-align: top;\n",
              "    }\n",
              "\n",
              "    .dataframe thead th {\n",
              "        text-align: right;\n",
              "    }\n",
              "</style>\n",
              "<table border=\"1\" class=\"dataframe\">\n",
              "  <thead>\n",
              "    <tr style=\"text-align: right;\">\n",
              "      <th></th>\n",
              "      <th>reviewerID</th>\n",
              "      <th>asin</th>\n",
              "      <th>reviewerName</th>\n",
              "      <th>helpful</th>\n",
              "      <th>reviewText</th>\n",
              "      <th>overall</th>\n",
              "      <th>summary</th>\n",
              "      <th>unixReviewTime</th>\n",
              "      <th>reviewTime</th>\n",
              "    </tr>\n",
              "  </thead>\n",
              "  <tbody>\n",
              "    <tr>\n",
              "      <th>1926042</th>\n",
              "      <td>AGRJ3SRUYQOF8</td>\n",
              "      <td>B00LLGSPQ8</td>\n",
              "      <td>Mike</td>\n",
              "      <td>[0, 0]</td>\n",
              "      <td>This company truly has great quality of lighti...</td>\n",
              "      <td>5.0</td>\n",
              "      <td>Great staff, quality, and company</td>\n",
              "      <td>1404691200</td>\n",
              "      <td>07 7, 2014</td>\n",
              "    </tr>\n",
              "    <tr>\n",
              "      <th>1926043</th>\n",
              "      <td>A2YGGF3929H3IC</td>\n",
              "      <td>B00LOGKKL8</td>\n",
              "      <td>Jerry</td>\n",
              "      <td>[0, 0]</td>\n",
              "      <td>Great hinge, Strongly recommended, i'm using i...</td>\n",
              "      <td>5.0</td>\n",
              "      <td>Five Stars</td>\n",
              "      <td>1404950400</td>\n",
              "      <td>07 10, 2014</td>\n",
              "    </tr>\n",
              "    <tr>\n",
              "      <th>1926044</th>\n",
              "      <td>A3IXXERDW8EYZI</td>\n",
              "      <td>B00LPQE0ZY</td>\n",
              "      <td>darby j plath</td>\n",
              "      <td>[0, 0]</td>\n",
              "      <td>This works great!  It fixed my gaps that I cou...</td>\n",
              "      <td>5.0</td>\n",
              "      <td>Works great!</td>\n",
              "      <td>1405814400</td>\n",
              "      <td>07 20, 2014</td>\n",
              "    </tr>\n",
              "    <tr>\n",
              "      <th>1926045</th>\n",
              "      <td>ACX42MH818TLY</td>\n",
              "      <td>B00LV6T90E</td>\n",
              "      <td>Amazon Customer \"fil\"</td>\n",
              "      <td>[0, 0]</td>\n",
              "      <td>I purchased this item from Amazon and got an e...</td>\n",
              "      <td>1.0</td>\n",
              "      <td>a product in question and horrible service</td>\n",
              "      <td>1406073600</td>\n",
              "      <td>07 23, 2014</td>\n",
              "    </tr>\n",
              "    <tr>\n",
              "      <th>1926046</th>\n",
              "      <td>A22UHERHRWEB78</td>\n",
              "      <td>B00LV6T90E</td>\n",
              "      <td>Paul S.</td>\n",
              "      <td>[3, 3]</td>\n",
              "      <td>I bought three of these from Amazon three week...</td>\n",
              "      <td>2.0</td>\n",
              "      <td>Potential Issue Reported by Amazon</td>\n",
              "      <td>1406073600</td>\n",
              "      <td>07 23, 2014</td>\n",
              "    </tr>\n",
              "  </tbody>\n",
              "</table>\n",
              "</div>"
            ],
            "text/plain": [
              "             reviewerID        asin  ... unixReviewTime   reviewTime\n",
              "1926042   AGRJ3SRUYQOF8  B00LLGSPQ8  ...     1404691200   07 7, 2014\n",
              "1926043  A2YGGF3929H3IC  B00LOGKKL8  ...     1404950400  07 10, 2014\n",
              "1926044  A3IXXERDW8EYZI  B00LPQE0ZY  ...     1405814400  07 20, 2014\n",
              "1926045   ACX42MH818TLY  B00LV6T90E  ...     1406073600  07 23, 2014\n",
              "1926046  A22UHERHRWEB78  B00LV6T90E  ...     1406073600  07 23, 2014\n",
              "\n",
              "[5 rows x 9 columns]"
            ]
          },
          "metadata": {
            "tags": []
          },
          "execution_count": 28
        }
      ]
    },
    {
      "cell_type": "code",
      "metadata": {
        "id": "XXLS_O2RyJjo",
        "outputId": "38f81edf-63da-47ce-a0b2-14d29fc59fb9",
        "colab": {
          "base_uri": "https://localhost:8080/",
          "height": 34
        }
      },
      "source": [
        "from google.colab import drive\n",
        "drive.mount('drive')"
      ],
      "execution_count": null,
      "outputs": [
        {
          "output_type": "stream",
          "text": [
            "Mounted at drive\n"
          ],
          "name": "stdout"
        }
      ]
    },
    {
      "cell_type": "code",
      "metadata": {
        "id": "Wb4wwLrKzBha"
      },
      "source": [
        "df.to_csv('reviews_samples.csv')\n",
        "!cp reviews_samples.csv drive/My\\ Drive/"
      ],
      "execution_count": null,
      "outputs": []
    },
    {
      "cell_type": "code",
      "metadata": {
        "id": "KvMWa86NxZKx"
      },
      "source": [
        "from itertools import islice\n",
        "fileContents = defaultdict(list)\n",
        "with open('/content/drive/My Drive/reviews_samples.csv', 'r') as f:\n",
        "    reader = csv.DictReader(f)\n",
        "    for row in islice(reader, 50000): # read a row as {column1: value1, column2: value2,...}\n",
        "        for (k,v) in row.items(): # go over each column name and value \n",
        "            fileContents[k].append(v) # append the value into the appropriate list"
      ],
      "execution_count": null,
      "outputs": []
    },
    {
      "cell_type": "code",
      "metadata": {
        "id": "QOY3XOuizQ4P"
      },
      "source": [
        "reviews = fileContents['reviewText']"
      ],
      "execution_count": null,
      "outputs": []
    },
    {
      "cell_type": "code",
      "metadata": {
        "id": "N3WaVQ6nzRqD"
      },
      "source": [
        "reviews = [re.sub(r'[^\\w\\s]','',str(item)) for item in reviews]"
      ],
      "execution_count": null,
      "outputs": []
    },
    {
      "cell_type": "code",
      "metadata": {
        "id": "Rt0TxUR6zV2J"
      },
      "source": [
        "stopwords = set(stopwords.words('english'))"
      ],
      "execution_count": null,
      "outputs": []
    },
    {
      "cell_type": "code",
      "metadata": {
        "id": "tVPxXhaJzY8x"
      },
      "source": [
        "texts = [[word for word in document.lower().split() if word not in stopwords] for document in reviews]"
      ],
      "execution_count": null,
      "outputs": []
    },
    {
      "cell_type": "markdown",
      "metadata": {
        "id": "M_HffazQzmGg"
      },
      "source": [
        "##LDA Implementation"
      ]
    },
    {
      "cell_type": "code",
      "metadata": {
        "id": "eNPo-zuQzgVh"
      },
      "source": [
        "frequency = defaultdict(int)\n",
        "for text in texts:\n",
        "    for token in text:\n",
        "         frequency[token] += 1\n",
        "\n",
        "texts = [[token for token in text if frequency[token] > 1] for text in texts]"
      ],
      "execution_count": null,
      "outputs": []
    },
    {
      "cell_type": "code",
      "metadata": {
        "id": "_Elrzu02zrR1"
      },
      "source": [
        "dictionary = corpora.Dictionary(texts)"
      ],
      "execution_count": null,
      "outputs": []
    },
    {
      "cell_type": "code",
      "metadata": {
        "id": "OVg10O44zvcv",
        "outputId": "04bf0793-dee3-467b-d44d-fd9c04e2e140",
        "colab": {
          "base_uri": "https://localhost:8080/",
          "height": 34
        }
      },
      "source": [
        "print(dictionary)"
      ],
      "execution_count": null,
      "outputs": [
        {
          "output_type": "stream",
          "text": [
            "Dictionary(29117 unique tokens: ['amazon', 'beautiful', 'beauty', 'christmas', 'gift']...)\n"
          ],
          "name": "stdout"
        }
      ]
    },
    {
      "cell_type": "code",
      "metadata": {
        "id": "_OIK9k2pzyUu"
      },
      "source": [
        "# So what does the dictionary look like : Dictionary(29117 unique tokens: ['amazon', 'beautiful', 'beauty', 'christmas', 'gift']...)"
      ],
      "execution_count": null,
      "outputs": []
    },
    {
      "cell_type": "code",
      "metadata": {
        "id": "cP_jE_H0z2mz"
      },
      "source": [
        "corpus = [dictionary.doc2bow(text) for text in texts]"
      ],
      "execution_count": null,
      "outputs": []
    },
    {
      "cell_type": "code",
      "metadata": {
        "id": "xQ27HYHRz5_s"
      },
      "source": [
        "NUM_TOPICS = 5 # This is an assumption. Needs to be tuned. \n",
        "ldamodel = LdaModel(corpus, num_topics = NUM_TOPICS, id2word=dictionary, passes=15)#This might take some time."
      ],
      "execution_count": null,
      "outputs": []
    },
    {
      "cell_type": "code",
      "metadata": {
        "id": "R_DX0L_G0BmD",
        "outputId": "129609a0-8e8b-4809-ff11-9a387ad2a597",
        "colab": {
          "base_uri": "https://localhost:8080/",
          "height": 102
        }
      },
      "source": [
        "topics = ldamodel.show_topics()\n",
        "for topic in topics:\n",
        "    print(topic)"
      ],
      "execution_count": null,
      "outputs": [
        {
          "output_type": "stream",
          "text": [
            "(0, '0.023*\"tool\" + 0.018*\"use\" + 0.014*\"dremel\" + 0.013*\"drill\" + 0.012*\"great\" + 0.010*\"well\" + 0.010*\"bit\" + 0.009*\"work\" + 0.009*\"used\" + 0.008*\"good\"')\n",
            "(1, '0.009*\"one\" + 0.008*\"use\" + 0.007*\"dust\" + 0.006*\"tape\" + 0.006*\"like\" + 0.006*\"ive\" + 0.006*\"used\" + 0.006*\"get\" + 0.005*\"sander\" + 0.005*\"dont\"')\n",
            "(2, '0.020*\"light\" + 0.011*\"great\" + 0.009*\"use\" + 0.009*\"works\" + 0.008*\"easy\" + 0.007*\"well\" + 0.007*\"one\" + 0.006*\"like\" + 0.006*\"good\" + 0.006*\"flashlight\"')\n",
            "(3, '0.020*\"one\" + 0.013*\"battery\" + 0.010*\"product\" + 0.009*\"would\" + 0.009*\"new\" + 0.009*\"years\" + 0.009*\"good\" + 0.008*\"price\" + 0.008*\"time\" + 0.008*\"bought\"')\n",
            "(4, '0.040*\"saw\" + 0.021*\"blade\" + 0.016*\"table\" + 0.013*\"cut\" + 0.008*\"cuts\" + 0.008*\"blades\" + 0.007*\"cutting\" + 0.007*\"fence\" + 0.006*\"base\" + 0.006*\"dewalt\"')\n"
          ],
          "name": "stdout"
        }
      ]
    },
    {
      "cell_type": "code",
      "metadata": {
        "id": "jaARF_SN0FCw",
        "outputId": "7ce5b202-441e-4e10-8a13-4eb08a9a91ff",
        "colab": {
          "base_uri": "https://localhost:8080/",
          "height": 669
        }
      },
      "source": [
        "word_dict = {};\n",
        "for i in range(NUM_TOPICS):\n",
        "    words = ldamodel.show_topic(i, topn = 20)\n",
        "    word_dict['Topic # ' + '{:02d}'.format(i+1)] = [i[0] for i in words]\n",
        "pd.DataFrame(word_dict)"
      ],
      "execution_count": null,
      "outputs": [
        {
          "output_type": "execute_result",
          "data": {
            "text/html": [
              "<div>\n",
              "<style scoped>\n",
              "    .dataframe tbody tr th:only-of-type {\n",
              "        vertical-align: middle;\n",
              "    }\n",
              "\n",
              "    .dataframe tbody tr th {\n",
              "        vertical-align: top;\n",
              "    }\n",
              "\n",
              "    .dataframe thead th {\n",
              "        text-align: right;\n",
              "    }\n",
              "</style>\n",
              "<table border=\"1\" class=\"dataframe\">\n",
              "  <thead>\n",
              "    <tr style=\"text-align: right;\">\n",
              "      <th></th>\n",
              "      <th>Topic # 01</th>\n",
              "      <th>Topic # 02</th>\n",
              "      <th>Topic # 03</th>\n",
              "      <th>Topic # 04</th>\n",
              "      <th>Topic # 05</th>\n",
              "    </tr>\n",
              "  </thead>\n",
              "  <tbody>\n",
              "    <tr>\n",
              "      <th>0</th>\n",
              "      <td>tool</td>\n",
              "      <td>one</td>\n",
              "      <td>light</td>\n",
              "      <td>one</td>\n",
              "      <td>saw</td>\n",
              "    </tr>\n",
              "    <tr>\n",
              "      <th>1</th>\n",
              "      <td>use</td>\n",
              "      <td>use</td>\n",
              "      <td>great</td>\n",
              "      <td>battery</td>\n",
              "      <td>blade</td>\n",
              "    </tr>\n",
              "    <tr>\n",
              "      <th>2</th>\n",
              "      <td>dremel</td>\n",
              "      <td>dust</td>\n",
              "      <td>use</td>\n",
              "      <td>product</td>\n",
              "      <td>table</td>\n",
              "    </tr>\n",
              "    <tr>\n",
              "      <th>3</th>\n",
              "      <td>drill</td>\n",
              "      <td>tape</td>\n",
              "      <td>works</td>\n",
              "      <td>would</td>\n",
              "      <td>cut</td>\n",
              "    </tr>\n",
              "    <tr>\n",
              "      <th>4</th>\n",
              "      <td>great</td>\n",
              "      <td>like</td>\n",
              "      <td>easy</td>\n",
              "      <td>new</td>\n",
              "      <td>cuts</td>\n",
              "    </tr>\n",
              "    <tr>\n",
              "      <th>5</th>\n",
              "      <td>well</td>\n",
              "      <td>ive</td>\n",
              "      <td>well</td>\n",
              "      <td>years</td>\n",
              "      <td>blades</td>\n",
              "    </tr>\n",
              "    <tr>\n",
              "      <th>6</th>\n",
              "      <td>bit</td>\n",
              "      <td>used</td>\n",
              "      <td>one</td>\n",
              "      <td>good</td>\n",
              "      <td>cutting</td>\n",
              "    </tr>\n",
              "    <tr>\n",
              "      <th>7</th>\n",
              "      <td>work</td>\n",
              "      <td>get</td>\n",
              "      <td>like</td>\n",
              "      <td>price</td>\n",
              "      <td>fence</td>\n",
              "    </tr>\n",
              "    <tr>\n",
              "      <th>8</th>\n",
              "      <td>used</td>\n",
              "      <td>sander</td>\n",
              "      <td>good</td>\n",
              "      <td>time</td>\n",
              "      <td>base</td>\n",
              "    </tr>\n",
              "    <tr>\n",
              "      <th>9</th>\n",
              "      <td>good</td>\n",
              "      <td>dont</td>\n",
              "      <td>flashlight</td>\n",
              "      <td>bought</td>\n",
              "      <td>dewalt</td>\n",
              "    </tr>\n",
              "    <tr>\n",
              "      <th>10</th>\n",
              "      <td>bits</td>\n",
              "      <td>tool</td>\n",
              "      <td>need</td>\n",
              "      <td>batteries</td>\n",
              "      <td>would</td>\n",
              "    </tr>\n",
              "    <tr>\n",
              "      <th>11</th>\n",
              "      <td>set</td>\n",
              "      <td>power</td>\n",
              "      <td>small</td>\n",
              "      <td>great</td>\n",
              "      <td>easy</td>\n",
              "    </tr>\n",
              "    <tr>\n",
              "      <th>12</th>\n",
              "      <td>works</td>\n",
              "      <td>much</td>\n",
              "      <td>would</td>\n",
              "      <td>buy</td>\n",
              "      <td>square</td>\n",
              "    </tr>\n",
              "    <tr>\n",
              "      <th>13</th>\n",
              "      <td>nails</td>\n",
              "      <td>years</td>\n",
              "      <td>little</td>\n",
              "      <td>amazon</td>\n",
              "      <td>use</td>\n",
              "    </tr>\n",
              "    <tr>\n",
              "      <th>14</th>\n",
              "      <td>easy</td>\n",
              "      <td>time</td>\n",
              "      <td>air</td>\n",
              "      <td>old</td>\n",
              "      <td>get</td>\n",
              "    </tr>\n",
              "    <tr>\n",
              "      <th>15</th>\n",
              "      <td>tools</td>\n",
              "      <td>even</td>\n",
              "      <td>filter</td>\n",
              "      <td>get</td>\n",
              "      <td>stand</td>\n",
              "    </tr>\n",
              "    <tr>\n",
              "      <th>16</th>\n",
              "      <td>one</td>\n",
              "      <td>also</td>\n",
              "      <td>fan</td>\n",
              "      <td>got</td>\n",
              "      <td>make</td>\n",
              "    </tr>\n",
              "    <tr>\n",
              "      <th>17</th>\n",
              "      <td>would</td>\n",
              "      <td>better</td>\n",
              "      <td>house</td>\n",
              "      <td>quality</td>\n",
              "      <td>one</td>\n",
              "    </tr>\n",
              "    <tr>\n",
              "      <th>18</th>\n",
              "      <td>like</td>\n",
              "      <td>sanding</td>\n",
              "      <td>nice</td>\n",
              "      <td>like</td>\n",
              "      <td>side</td>\n",
              "    </tr>\n",
              "    <tr>\n",
              "      <th>19</th>\n",
              "      <td>small</td>\n",
              "      <td>thing</td>\n",
              "      <td>around</td>\n",
              "      <td>replacement</td>\n",
              "      <td>like</td>\n",
              "    </tr>\n",
              "  </tbody>\n",
              "</table>\n",
              "</div>"
            ],
            "text/plain": [
              "   Topic # 01 Topic # 02  Topic # 03   Topic # 04 Topic # 05\n",
              "0        tool        one       light          one        saw\n",
              "1         use        use       great      battery      blade\n",
              "2      dremel       dust         use      product      table\n",
              "3       drill       tape       works        would        cut\n",
              "4       great       like        easy          new       cuts\n",
              "5        well        ive        well        years     blades\n",
              "6         bit       used         one         good    cutting\n",
              "7        work        get        like        price      fence\n",
              "8        used     sander        good         time       base\n",
              "9        good       dont  flashlight       bought     dewalt\n",
              "10       bits       tool        need    batteries      would\n",
              "11        set      power       small        great       easy\n",
              "12      works       much       would          buy     square\n",
              "13      nails      years      little       amazon        use\n",
              "14       easy       time         air          old        get\n",
              "15      tools       even      filter          get      stand\n",
              "16        one       also         fan          got       make\n",
              "17      would     better       house      quality        one\n",
              "18       like    sanding        nice         like       side\n",
              "19      small      thing      around  replacement       like"
            ]
          },
          "metadata": {
            "tags": []
          },
          "execution_count": 48
        }
      ]
    },
    {
      "cell_type": "code",
      "metadata": {
        "id": "I_AfehIz0IhX",
        "outputId": "222c930f-ed1c-406b-d4a8-eff1a233450f",
        "colab": {
          "base_uri": "https://localhost:8080/",
          "height": 997
        }
      },
      "source": [
        "lda_display = pyLDAvis.gensim.prepare(ldamodel, corpus, dictionary, sort_topics=False)\n",
        "pyLDAvis.display(lda_display)"
      ],
      "execution_count": null,
      "outputs": [
        {
          "output_type": "stream",
          "text": [
            "/usr/local/lib/python3.6/dist-packages/pyLDAvis/_prepare.py:257: FutureWarning: Sorting because non-concatenation axis is not aligned. A future version\n",
            "of pandas will change to not sort by default.\n",
            "\n",
            "To accept the future behavior, pass 'sort=False'.\n",
            "\n",
            "To retain the current behavior and silence the warning, pass 'sort=True'.\n",
            "\n",
            "  return pd.concat([default_term_info] + list(topic_dfs))\n"
          ],
          "name": "stderr"
        },
        {
          "output_type": "execute_result",
          "data": {
            "text/html": [
              "\n",
              "<link rel=\"stylesheet\" type=\"text/css\" href=\"https://cdn.rawgit.com/bmabey/pyLDAvis/files/ldavis.v1.0.0.css\">\n",
              "\n",
              "\n",
              "<div id=\"ldavis_el1171404106451241042004995123\"></div>\n",
              "<script type=\"text/javascript\">\n",
              "\n",
              "var ldavis_el1171404106451241042004995123_data = {\"mdsDat\": {\"x\": [-0.05330340477993922, 0.10657541481017715, -0.18864558419086863, 0.1565363446120152, -0.02116277045138459], \"y\": [0.024249620325064208, 0.02592896442275196, -0.11949806617477854, -0.1268807277567726, 0.196200209183735], \"topics\": [1, 2, 3, 4, 5], \"cluster\": [1, 1, 1, 1, 1], \"Freq\": [21.31041145324707, 21.160261154174805, 12.511367797851562, 26.009931564331055, 19.00802993774414]}, \"tinfo\": {\"Category\": [\"Default\", \"Default\", \"Default\", \"Default\", \"Default\", \"Default\", \"Default\", \"Default\", \"Default\", \"Default\", \"Default\", \"Default\", \"Default\", \"Default\", \"Default\", \"Default\", \"Default\", \"Default\", \"Default\", \"Default\", \"Default\", \"Default\", \"Default\", \"Default\", \"Default\", \"Default\", \"Default\", \"Default\", \"Default\", \"Default\", \"Topic1\", \"Topic1\", \"Topic1\", \"Topic1\", \"Topic1\", \"Topic1\", \"Topic1\", \"Topic1\", \"Topic1\", \"Topic1\", \"Topic1\", \"Topic1\", \"Topic1\", \"Topic1\", \"Topic1\", \"Topic1\", \"Topic1\", \"Topic1\", \"Topic1\", \"Topic1\", \"Topic1\", \"Topic1\", \"Topic1\", \"Topic1\", \"Topic1\", \"Topic1\", \"Topic1\", \"Topic1\", \"Topic1\", \"Topic1\", \"Topic1\", \"Topic1\", \"Topic1\", \"Topic1\", \"Topic1\", \"Topic1\", \"Topic1\", \"Topic1\", \"Topic1\", \"Topic1\", \"Topic1\", \"Topic1\", \"Topic1\", \"Topic1\", \"Topic1\", \"Topic1\", \"Topic1\", \"Topic1\", \"Topic1\", \"Topic1\", \"Topic1\", \"Topic1\", \"Topic1\", \"Topic1\", \"Topic1\", \"Topic1\", \"Topic1\", \"Topic1\", \"Topic1\", \"Topic1\", \"Topic1\", \"Topic1\", \"Topic1\", \"Topic1\", \"Topic2\", \"Topic2\", \"Topic2\", \"Topic2\", \"Topic2\", \"Topic2\", \"Topic2\", \"Topic2\", \"Topic2\", \"Topic2\", \"Topic2\", \"Topic2\", \"Topic2\", \"Topic2\", \"Topic2\", \"Topic2\", \"Topic2\", \"Topic2\", \"Topic2\", \"Topic2\", \"Topic2\", \"Topic2\", \"Topic2\", \"Topic2\", \"Topic2\", \"Topic2\", \"Topic2\", \"Topic2\", \"Topic2\", \"Topic2\", \"Topic2\", \"Topic2\", \"Topic2\", \"Topic2\", \"Topic2\", \"Topic2\", \"Topic2\", \"Topic2\", \"Topic2\", \"Topic2\", \"Topic2\", \"Topic2\", \"Topic2\", \"Topic2\", \"Topic2\", \"Topic2\", \"Topic2\", \"Topic2\", \"Topic2\", \"Topic2\", \"Topic2\", \"Topic2\", \"Topic2\", \"Topic2\", \"Topic2\", \"Topic2\", \"Topic2\", \"Topic2\", \"Topic2\", \"Topic2\", \"Topic2\", \"Topic2\", \"Topic2\", \"Topic2\", \"Topic2\", \"Topic2\", \"Topic2\", \"Topic2\", \"Topic3\", \"Topic3\", \"Topic3\", \"Topic3\", \"Topic3\", \"Topic3\", \"Topic3\", \"Topic3\", \"Topic3\", \"Topic3\", \"Topic3\", \"Topic3\", \"Topic3\", \"Topic3\", \"Topic3\", \"Topic3\", \"Topic3\", \"Topic3\", \"Topic3\", \"Topic3\", \"Topic3\", \"Topic3\", \"Topic3\", \"Topic3\", \"Topic3\", \"Topic3\", \"Topic3\", \"Topic3\", \"Topic3\", \"Topic3\", \"Topic3\", \"Topic3\", \"Topic3\", \"Topic3\", \"Topic3\", \"Topic3\", \"Topic3\", \"Topic3\", \"Topic3\", \"Topic3\", \"Topic3\", \"Topic3\", \"Topic3\", \"Topic3\", \"Topic3\", \"Topic3\", \"Topic3\", \"Topic3\", \"Topic3\", \"Topic3\", \"Topic3\", \"Topic3\", \"Topic3\", \"Topic3\", \"Topic3\", \"Topic3\", \"Topic3\", \"Topic3\", \"Topic3\", \"Topic3\", \"Topic3\", \"Topic3\", \"Topic3\", \"Topic3\", \"Topic3\", \"Topic3\", \"Topic4\", \"Topic4\", \"Topic4\", \"Topic4\", \"Topic4\", \"Topic4\", \"Topic4\", \"Topic4\", \"Topic4\", \"Topic4\", \"Topic4\", \"Topic4\", \"Topic4\", \"Topic4\", \"Topic4\", \"Topic4\", \"Topic4\", \"Topic4\", \"Topic4\", \"Topic4\", \"Topic4\", \"Topic4\", \"Topic4\", \"Topic4\", \"Topic4\", \"Topic4\", \"Topic4\", \"Topic4\", \"Topic4\", \"Topic4\", \"Topic4\", \"Topic4\", \"Topic4\", \"Topic4\", \"Topic4\", \"Topic4\", \"Topic4\", \"Topic4\", \"Topic4\", \"Topic4\", \"Topic4\", \"Topic4\", \"Topic4\", \"Topic4\", \"Topic4\", \"Topic4\", \"Topic4\", \"Topic4\", \"Topic4\", \"Topic4\", \"Topic4\", \"Topic4\", \"Topic4\", \"Topic4\", \"Topic4\", \"Topic4\", \"Topic4\", \"Topic4\", \"Topic4\", \"Topic4\", \"Topic4\", \"Topic4\", \"Topic4\", \"Topic4\", \"Topic4\", \"Topic4\", \"Topic4\", \"Topic4\", \"Topic5\", \"Topic5\", \"Topic5\", \"Topic5\", \"Topic5\", \"Topic5\", \"Topic5\", \"Topic5\", \"Topic5\", \"Topic5\", \"Topic5\", \"Topic5\", \"Topic5\", \"Topic5\", \"Topic5\", \"Topic5\", \"Topic5\", \"Topic5\", \"Topic5\", \"Topic5\", \"Topic5\", \"Topic5\", \"Topic5\", \"Topic5\", \"Topic5\", \"Topic5\", \"Topic5\", \"Topic5\", \"Topic5\", \"Topic5\", \"Topic5\", \"Topic5\", \"Topic5\", \"Topic5\", \"Topic5\", \"Topic5\", \"Topic5\", \"Topic5\", \"Topic5\", \"Topic5\", \"Topic5\", \"Topic5\", \"Topic5\", \"Topic5\", \"Topic5\", \"Topic5\", \"Topic5\", \"Topic5\", \"Topic5\", \"Topic5\", \"Topic5\", \"Topic5\", \"Topic5\", \"Topic5\", \"Topic5\", \"Topic5\", \"Topic5\", \"Topic5\", \"Topic5\", \"Topic5\", \"Topic5\", \"Topic5\"], \"Freq\": [15403.0, 8120.0, 12322.0, 4979.0, 6087.0, 6182.0, 5749.0, 7034.0, 5753.0, 12995.0, 3632.0, 2923.0, 2909.0, 2838.0, 2980.0, 2908.0, 4414.0, 7314.0, 2837.0, 3323.0, 6520.0, 5171.0, 7663.0, 7696.0, 2445.0, 2453.0, 3787.0, 2150.0, 4850.0, 1501.0, 5748.35400390625, 6181.71484375, 2979.730224609375, 2907.048583984375, 2444.376953125, 1748.8289794921875, 1516.266357421875, 1240.540283203125, 1165.689208984375, 953.0213012695312, 1141.72607421875, 628.1920166015625, 597.949462890625, 723.478759765625, 547.156982421875, 504.3661193847656, 506.6118469238281, 476.64996337890625, 462.87554931640625, 455.30511474609375, 447.04278564453125, 457.7586975097656, 441.61712646484375, 433.98358154296875, 401.8239440917969, 378.71759033203125, 379.98529052734375, 350.8435363769531, 338.5921630859375, 322.1801452636719, 366.025390625, 1242.99169921875, 9830.4658203125, 1724.931396484375, 4173.81396484375, 843.8463745117188, 643.5579833984375, 560.9310913085938, 875.1700439453125, 7572.8388671875, 2470.63330078125, 2963.43994140625, 2724.982666015625, 2883.3076171875, 1219.2650146484375, 5213.2216796875, 1019.3219604492188, 3895.88427734375, 4215.86865234375, 3867.795654296875, 1936.7900390625, 2924.540283203125, 2897.166748046875, 2629.23681640625, 3411.09375, 2460.28076171875, 2212.958251953125, 2776.468505859375, 2777.083251953125, 2461.15478515625, 2832.2763671875, 1926.4786376953125, 2075.20263671875, 1917.1180419921875, 2149.291015625, 1492.3846435546875, 1345.6363525390625, 1184.5657958984375, 938.8946533203125, 773.8071899414062, 734.4354858398438, 660.6689453125, 629.8621215820312, 562.1871337890625, 523.0327758789062, 528.2281494140625, 510.51129150390625, 490.0559997558594, 471.15325927734375, 423.7431335449219, 422.3617248535156, 426.2873229980469, 397.37701416015625, 389.0408935546875, 387.94036865234375, 358.96685791015625, 344.2181091308594, 329.8435363769531, 332.1516418457031, 320.31280517578125, 318.22210693359375, 308.3334655761719, 458.29034423828125, 297.0052795410156, 2801.14990234375, 456.8012390136719, 1418.563720703125, 468.1008605957031, 2738.273681640625, 984.9864501953125, 1309.6898193359375, 874.2138061523438, 505.1444396972656, 1967.326416015625, 2561.983154296875, 575.3552856445312, 798.614990234375, 922.9178466796875, 1353.6632080078125, 1214.64208984375, 1270.171630859375, 1390.507080078125, 3581.507080078125, 1156.80078125, 3763.289306640625, 2069.058349609375, 2574.911865234375, 2391.869140625, 2389.328857421875, 1425.59326171875, 1816.9949951171875, 1889.135009765625, 1645.800048828125, 1534.528076171875, 1620.3870849609375, 2050.462158203125, 1422.7186279296875, 1762.8958740234375, 1313.98974609375, 1407.5213623046875, 1302.1846923828125, 1350.7647705078125, 4978.716796875, 1500.1314697265625, 1209.430908203125, 1025.1201171875, 794.5700073242188, 770.0274047851562, 772.5786743164062, 697.2781982421875, 689.7114868164062, 649.887939453125, 643.6558227539062, 594.2058715820312, 541.0302734375, 537.111328125, 512.8609008789062, 506.9328308105469, 462.67425537109375, 429.1766052246094, 423.5028381347656, 445.3353271484375, 396.8993835449219, 390.0196228027344, 403.0765686035156, 351.3447570800781, 332.358642578125, 323.229248046875, 313.8028869628906, 311.233642578125, 308.0753479003906, 306.8006896972656, 380.52978515625, 1039.919921875, 726.3787841796875, 712.3954467773438, 562.8192138671875, 782.4016723632812, 1200.39453125, 1220.343017578125, 741.5592651367188, 802.335693359375, 808.30078125, 1184.1414794921875, 2210.192626953125, 2085.669189453125, 2721.8544921875, 863.8001098632812, 2338.0419921875, 1333.3839111328125, 909.5474853515625, 1789.781982421875, 1162.708984375, 1165.0906982421875, 1342.7625732421875, 1571.768310546875, 1521.5218505859375, 1271.9591064453125, 968.2606811523438, 1668.6072998046875, 1313.0443115234375, 1098.9300537109375, 1087.7626953125, 1022.228759765625, 923.2574462890625, 948.27294921875, 914.9208374023438, 927.7147827148438, 3631.975830078125, 1840.868896484375, 1693.755126953125, 1540.294189453125, 1508.03857421875, 1449.5111083984375, 1277.94140625, 1137.2490234375, 1054.7113037109375, 815.3421020507812, 792.05810546875, 770.0933227539062, 729.5335693359375, 630.4617919921875, 612.8759765625, 589.8939208984375, 586.8446655273438, 568.4368286132812, 550.0304565429688, 549.4804077148438, 544.8287963867188, 534.521240234375, 494.4516296386719, 485.129638671875, 467.3089904785156, 461.5279846191406, 432.84625244140625, 429.2331237792969, 610.8403930664062, 429.8735656738281, 2377.665283203125, 6700.06787109375, 1183.9586181640625, 1529.9786376953125, 3908.79931640625, 873.9075317382812, 824.2423706054688, 1530.591064453125, 4556.7529296875, 5288.267578125, 1390.6358642578125, 2154.345947265625, 4338.65625, 4513.86328125, 1354.322998046875, 3046.727783203125, 10387.794921875, 2124.509033203125, 2282.674072265625, 3668.103759765625, 2770.739990234375, 4093.84912109375, 1664.1002197265625, 4098.103515625, 4691.2939453125, 2216.60595703125, 4488.93115234375, 2327.284423828125, 2201.787353515625, 2583.34326171875, 3792.84130859375, 2332.006103515625, 3037.384765625, 1946.291748046875, 2288.80908203125, 2180.145751953125, 2568.23583984375, 2236.23095703125, 15403.056640625, 8119.88671875, 6086.6708984375, 2922.949951171875, 2909.0234375, 2837.333251953125, 1466.5560302734375, 1367.4456787109375, 1311.43408203125, 1136.1602783203125, 952.63134765625, 674.02197265625, 647.4884033203125, 635.5081176757812, 588.4639892578125, 586.3240966796875, 537.3276977539062, 530.8240966796875, 525.187255859375, 470.14892578125, 448.8168640136719, 419.9653625488281, 388.99981689453125, 389.89312744140625, 381.87847900390625, 352.1774597167969, 334.5622253417969, 328.0947570800781, 311.577392578125, 299.8091735839844, 1319.6009521484375, 2358.509765625, 620.2269287109375, 5120.32080078125, 1785.9814453125, 1531.12060546875, 2841.7958984375, 782.8511352539062, 1606.5374755859375, 1884.8822021484375, 1219.2100830078125, 2235.93505859375, 1736.569580078125, 741.572998046875, 1007.1210327148438, 1084.8876953125, 1769.4166259765625, 1204.42529296875, 1170.41357421875, 2057.0390625, 986.9907836914062, 2070.397705078125, 1831.476318359375, 1272.43896484375, 1711.249755859375, 1319.57666015625, 1870.0982666015625, 1587.2470703125, 1747.0343017578125, 1367.1827392578125, 1463.5743408203125, 1357.235595703125], \"Term\": [\"saw\", \"blade\", \"tool\", \"light\", \"table\", \"dremel\", \"drill\", \"battery\", \"cut\", \"great\", \"amazon\", \"cuts\", \"blades\", \"fence\", \"bits\", \"nails\", \"batteries\", \"product\", \"dust\", \"cutting\", \"years\", \"bit\", \"easy\", \"works\", \"chuck\", \"base\", \"tape\", \"sander\", \"small\", \"flashlight\", \"drill\", \"dremel\", \"bits\", \"nails\", \"chuck\", \"screws\", \"nail\", \"router\", \"hammer\", \"rotary\", \"clamps\", \"collet\", \"bench\", \"wrench\", \"drills\", \"pry\", \"collets\", \"keyless\", \"drilling\", \"screwdrivers\", \"doors\", \"plane\", \"flooring\", \"grout\", \"glue\", \"chisels\", \"cutter\", \"drivers\", \"knives\", \"cutters\", \"engraver\", \"projects\", \"tool\", \"screw\", \"bit\", \"screwdriver\", \"driver\", \"sizes\", \"jobs\", \"use\", \"job\", \"set\", \"small\", \"tools\", \"handy\", \"great\", \"cordless\", \"work\", \"well\", \"used\", \"wood\", \"works\", \"easy\", \"need\", \"good\", \"little\", \"using\", \"like\", \"would\", \"get\", \"one\", \"really\", \"time\", \"made\", \"sander\", \"sanding\", \"lock\", \"cable\", \"paper\", \"belt\", \"porter\", \"collection\", \"sand\", \"staple\", \"brush\", \"wheel\", \"sandpaper\", \"noise\", \"ground\", \"pad\", \"trigger\", \"housing\", \"variable\", \"brushes\", \"clamping\", \"jaws\", \"grit\", \"pads\", \"rule\", \"collector\", \"operate\", \"ring\", \"iphone\", \"balance\", \"dust\", \"energizer\", \"gun\", \"vacuum\", \"tape\", \"control\", \"speed\", \"paint\", \"hook\", \"power\", \"ive\", \"gauge\", \"nailer\", \"attachment\", \"doesnt\", \"handle\", \"hand\", \"plastic\", \"use\", \"metal\", \"one\", \"dont\", \"like\", \"used\", \"get\", \"thing\", \"years\", \"much\", \"even\", \"better\", \"also\", \"tool\", \"back\", \"time\", \"best\", \"using\", \"still\", \"work\", \"light\", \"flashlight\", \"filter\", \"lights\", \"ceiling\", \"led\", \"remote\", \"bright\", \"maglite\", \"lamp\", \"bulb\", \"filters\", \"bucket\", \"timer\", \"outlet\", \"compressor\", \"valve\", \"bulbs\", \"toilet\", \"extinguisher\", \"tank\", \"flashlights\", \"tapes\", \"boss\", \"pump\", \"bags\", \"sensor\", \"pockets\", \"dark\", \"hunter\", \"wires\", \"water\", \"ladder\", \"plug\", \"car\", \"hose\", \"fan\", \"air\", \"chain\", \"room\", \"wall\", \"house\", \"works\", \"easy\", \"great\", \"bag\", \"use\", \"small\", \"switch\", \"well\", \"around\", \"nice\", \"need\", \"like\", \"good\", \"little\", \"size\", \"one\", \"would\", \"bought\", \"work\", \"also\", \"keep\", \"fit\", \"enough\", \"really\", \"amazon\", \"ordered\", \"charge\", \"received\", \"shipping\", \"arrived\", \"charger\", \"service\", \"local\", \"return\", \"company\", \"phone\", \"sent\", \"shipped\", \"weeks\", \"depot\", \"packaging\", \"customer\", \"lasted\", \"online\", \"charged\", \"manual\", \"told\", \"delivery\", \"thank\", \"alarm\", \"returned\", \"condition\", \"klein\", \"framing\", \"replacement\", \"battery\", \"days\", \"original\", \"batteries\", \"package\", \"stores\", \"ago\", \"new\", \"product\", \"order\", \"item\", \"price\", \"years\", \"went\", \"old\", \"one\", \"came\", \"box\", \"buy\", \"got\", \"bought\", \"replace\", \"time\", \"would\", \"last\", \"good\", \"find\", \"purchased\", \"quality\", \"great\", \"first\", \"get\", \"another\", \"made\", \"two\", \"like\", \"use\", \"saw\", \"blade\", \"table\", \"cuts\", \"blades\", \"fence\", \"planer\", \"delta\", \"saws\", \"miter\", \"aluminum\", \"sharpening\", \"outfeed\", \"freud\", \"jet\", \"mobile\", \"accuracy\", \"circular\", \"bolt\", \"roller\", \"ripping\", \"tooth\", \"guard\", \"tables\", \"snipe\", \"rails\", \"rail\", \"sharpened\", \"extensions\", \"scale\", \"accurate\", \"base\", \"rear\", \"cut\", \"stand\", \"support\", \"cutting\", \"plywood\", \"extension\", \"square\", \"machine\", \"dewalt\", \"side\", \"assembly\", \"smooth\", \"left\", \"make\", \"bosch\", \"top\", \"easy\", \"inch\", \"would\", \"get\", \"wood\", \"like\", \"right\", \"use\", \"well\", \"one\", \"set\", \"good\", \"also\"], \"Total\": [15403.0, 8120.0, 12322.0, 4979.0, 6087.0, 6182.0, 5749.0, 7034.0, 5753.0, 12995.0, 3632.0, 2923.0, 2909.0, 2838.0, 2980.0, 2908.0, 4414.0, 7314.0, 2837.0, 3323.0, 6520.0, 5171.0, 7663.0, 7696.0, 2445.0, 2453.0, 3787.0, 2150.0, 4850.0, 1501.0, 5749.3359375, 6182.96435546875, 2980.701171875, 2908.028076171875, 2445.354736328125, 1749.80810546875, 1517.2420654296875, 1241.513916015625, 1166.661865234375, 954.0238037109375, 1143.4456787109375, 629.1824951171875, 598.941162109375, 724.7197875976562, 548.13623046875, 505.3370361328125, 507.6307678222656, 477.625244140625, 463.8475646972656, 456.28570556640625, 448.01519775390625, 458.75762939453125, 442.5953369140625, 434.9788513183594, 402.80059814453125, 379.6930236816406, 380.97210693359375, 351.82330322265625, 339.5915832519531, 323.16650390625, 367.4384460449219, 1352.9610595703125, 12322.8974609375, 1927.72509765625, 5171.7705078125, 914.6051635742188, 680.1417846679688, 588.755859375, 1032.49560546875, 17598.716796875, 4123.5146484375, 5337.84814453125, 4850.52587890625, 5396.75537109375, 1693.1546630859375, 12995.904296875, 1343.915283203125, 9440.5986328125, 10833.6220703125, 9878.40234375, 3509.0791015625, 7696.755859375, 7663.09423828125, 6603.2490234375, 11664.541015625, 6689.5166015625, 5631.21630859375, 11202.634765625, 12032.7490234375, 10370.6083984375, 20399.00390625, 5502.857421875, 8869.052734375, 5876.982421875, 2150.212158203125, 1493.312255859375, 1346.5819091796875, 1185.498779296875, 939.8201904296875, 774.7298583984375, 735.3651123046875, 661.6123657226562, 630.8137817382812, 563.1221313476562, 523.9575805664062, 529.1627807617188, 511.43536376953125, 490.9980773925781, 472.0986633300781, 424.66314697265625, 423.28564453125, 427.2269287109375, 398.310546875, 389.97174072265625, 388.8883056640625, 359.9017639160156, 345.1407775878906, 330.7644958496094, 333.0902404785156, 321.2465515136719, 319.16534423828125, 309.2671203613281, 459.70196533203125, 297.93798828125, 2837.86376953125, 458.3516540527344, 1680.5645751953125, 495.2556457519531, 3787.526123046875, 1184.7369384765625, 1662.659912109375, 1061.6396484375, 548.0383911132812, 3441.397216796875, 5298.9892578125, 668.8255004882812, 1088.8597412109375, 1366.38525390625, 2853.946044921875, 2443.5390625, 2673.5849609375, 3205.148193359375, 17598.716796875, 2378.79150390625, 20399.00390625, 6858.84375, 11202.634765625, 9878.40234375, 10370.6083984375, 3695.5634765625, 6520.17041015625, 7216.2060546875, 5351.9296875, 5110.60986328125, 6034.6904296875, 12322.8974609375, 4361.37109375, 8869.052734375, 3608.64453125, 5631.21630859375, 4381.5400390625, 9440.5986328125, 4979.66259765625, 1501.069091796875, 1210.3712158203125, 1026.054931640625, 795.5131225585938, 770.965087890625, 773.5335083007812, 698.2150268554688, 690.6571044921875, 650.8250732421875, 644.588623046875, 595.1631469726562, 541.966796875, 538.0625, 513.8052368164062, 507.8841552734375, 463.6164245605469, 430.1079406738281, 424.4505310058594, 446.3855895996094, 397.84014892578125, 390.95770263671875, 404.1145935058594, 352.2893981933594, 333.29779052734375, 324.1855163574219, 314.74200439453125, 312.1728820800781, 309.0140075683594, 307.7411193847656, 383.2037658691406, 1070.8662109375, 747.1854248046875, 777.8161010742188, 621.9356079101562, 923.1103515625, 1618.350830078125, 1668.6661376953125, 897.59375, 1010.8297119140625, 1184.564208984375, 2439.82080078125, 7696.755859375, 7663.09423828125, 12995.904296875, 1674.7574462890625, 17598.716796875, 4850.52587890625, 1954.854736328125, 10833.6220703125, 3857.189208984375, 4188.22216796875, 6603.2490234375, 11202.634765625, 11664.541015625, 6689.5166015625, 2481.06201171875, 20399.00390625, 12032.7490234375, 7640.82275390625, 9440.5986328125, 6034.6904296875, 2964.54052734375, 3743.951171875, 3557.19482421875, 5502.857421875, 3632.95703125, 1841.8494873046875, 1694.744873046875, 1541.2742919921875, 1509.0205078125, 1450.493896484375, 1278.93359375, 1138.2314453125, 1055.6956787109375, 816.3240966796875, 793.0383911132812, 771.0886840820312, 730.5128784179688, 631.4418334960938, 613.8590087890625, 590.8764038085938, 587.8366088867188, 569.4150390625, 551.01171875, 550.462158203125, 545.8125610351562, 535.5363159179688, 495.4306640625, 486.10833740234375, 468.2994079589844, 462.5276184082031, 433.8282470703125, 430.2206115722656, 612.2835083007812, 430.8953552246094, 2407.910888671875, 7034.3427734375, 1202.7958984375, 1581.815185546875, 4414.4697265625, 909.099609375, 860.1661987304688, 1692.2674560546875, 5884.69970703125, 7314.0673828125, 1581.2381591796875, 2693.547607421875, 6217.05419921875, 6520.17041015625, 1607.5325927734375, 4363.44921875, 20399.00390625, 2925.02587890625, 3269.46630859375, 6114.8369140625, 4301.572265625, 7640.82275390625, 2212.491943359375, 8869.052734375, 12032.7490234375, 3559.30517578125, 11664.541015625, 4160.572265625, 3845.275390625, 5361.73828125, 12995.904296875, 4715.19384765625, 10370.6083984375, 3246.43017578125, 5876.982421875, 5099.0654296875, 11202.634765625, 17598.716796875, 15403.9189453125, 8120.748046875, 6087.533203125, 2923.813232421875, 2909.88818359375, 2838.190673828125, 1467.436279296875, 1368.308837890625, 1312.2943115234375, 1137.0174560546875, 953.5181884765625, 674.9055786132812, 648.3508911132812, 636.3665771484375, 589.32763671875, 587.1849975585938, 538.1951293945312, 531.6904296875, 526.0593872070312, 471.01971435546875, 449.6878967285156, 420.82806396484375, 389.8617248535156, 390.76239013671875, 382.7898254394531, 353.0376281738281, 335.42083740234375, 328.9649658203125, 312.4466247558594, 300.6844482421875, 1327.1290283203125, 2453.6044921875, 637.8777465820312, 5753.685546875, 2008.061279296875, 1702.628173828125, 3323.463134765625, 847.3121337890625, 1902.072021484375, 2329.63916015625, 1453.544677734375, 3477.1220703125, 2954.60400390625, 919.302734375, 1570.33642578125, 1907.6990966796875, 4991.5400390625, 2361.55029296875, 2255.00390625, 7663.09423828125, 1639.654052734375, 12032.7490234375, 10370.6083984375, 3509.0791015625, 11202.634765625, 4081.376220703125, 17598.716796875, 10833.6220703125, 20399.00390625, 5337.84814453125, 11664.541015625, 6034.6904296875], \"loglift\": [30.0, 29.0, 28.0, 27.0, 26.0, 25.0, 24.0, 23.0, 22.0, 21.0, 20.0, 19.0, 18.0, 17.0, 16.0, 15.0, 14.0, 13.0, 12.0, 11.0, 10.0, 9.0, 8.0, 7.0, 6.0, 5.0, 4.0, 3.0, 2.0, 1.0, 1.545799970626831, 1.545799970626831, 1.5456000566482544, 1.5456000566482544, 1.5456000566482544, 1.5454000234603882, 1.545300006866455, 1.545199990272522, 1.5450999736785889, 1.5448999404907227, 1.5444999933242798, 1.5443999767303467, 1.5442999601364136, 1.5442999601364136, 1.5441999435424805, 1.544100046157837, 1.5440000295639038, 1.5439000129699707, 1.5439000129699707, 1.5437999963760376, 1.5437999963760376, 1.5437999963760376, 1.5437999963760376, 1.5436999797821045, 1.5434999465942383, 1.5434000492095947, 1.5434000492095947, 1.5432000160217285, 1.5429999828338623, 1.5428999662399292, 1.542099952697754, 1.4611999988555908, 1.3200000524520874, 1.4348000288009644, 1.3315999507904053, 1.465499997138977, 1.4907000064849854, 1.4975999593734741, 1.3806999921798706, 0.7027000188827515, 1.0336999893188477, 0.9574999809265137, 0.9692999720573425, 0.9190999865531921, 1.2175999879837036, 0.6324999928474426, 1.2695000171661377, 0.6608999967575073, 0.6021999716758728, 0.608299970626831, 0.95169997215271, 0.5782999992370605, 0.5733000040054321, 0.6251000165939331, 0.3165000081062317, 0.5457000136375427, 0.6119999885559082, 0.1509999930858612, 0.07970000058412552, 0.10760000348091125, -0.4284000098705292, 0.49639999866485596, 0.09350000321865082, 0.42579999566078186, 1.5526000261306763, 1.55239999294281, 1.552299976348877, 1.552299976348877, 1.5520999431610107, 1.551900029182434, 1.551800012588501, 1.5515999794006348, 1.5514999628067017, 1.5513999462127686, 1.551300048828125, 1.551300048828125, 1.551200032234192, 1.5511000156402588, 1.5509999990463257, 1.5508999824523926, 1.5508999824523926, 1.5507999658584595, 1.5506999492645264, 1.5506999492645264, 1.5506000518798828, 1.5504000186920166, 1.5504000186920166, 1.5503000020980835, 1.5501999855041504, 1.5500999689102173, 1.5500999689102173, 1.5499999523162842, 1.5499999523162842, 1.5499000549316406, 1.5399999618530273, 1.5497000217437744, 1.3835999965667725, 1.4967000484466553, 1.228700041770935, 1.368399977684021, 1.3143999576568604, 1.3588000535964966, 1.471500039100647, 0.9937999844551086, 0.8263000249862671, 1.402500033378601, 1.2430000305175781, 1.1606999635696411, 0.807200014591217, 0.8539999723434448, 0.8087999820709229, 0.7179999947547913, -0.039000000804662704, 0.832099974155426, -0.1370999962091446, 0.3546000123023987, 0.08269999921321869, 0.1348000019788742, 0.08510000258684158, 0.6004999876022339, 0.275299996137619, 0.21279999613761902, 0.37380000948905945, 0.3499000072479248, 0.23819999396800995, -0.2402999997138977, 0.4327999949455261, -0.06260000169277191, 0.5428000092506409, 0.16660000383853912, 0.33970001339912415, -0.3912999927997589, 2.0782999992370605, 2.077899932861328, 2.0778000354766846, 2.0776000022888184, 2.0773000717163086, 2.0773000717163086, 2.0773000717163086, 2.077199935913086, 2.077199935913086, 2.0771000385284424, 2.0771000385284424, 2.076900005340576, 2.0768001079559326, 2.0768001079559326, 2.07669997215271, 2.07669997215271, 2.0764999389648438, 2.0764000415802, 2.0762999057769775, 2.076200008392334, 2.076200008392334, 2.0761001110076904, 2.0759999752044678, 2.0757999420166016, 2.075700044631958, 2.0755999088287354, 2.075500011444092, 2.075500011444092, 2.075500011444092, 2.075500011444092, 2.071500062942505, 2.0492000579833984, 2.050299882888794, 1.9907000064849854, 1.978700041770935, 1.9132000207901, 1.7798000574111938, 1.7655999660491943, 1.8875999450683594, 1.847499966621399, 1.6963000297546387, 1.3555999994277954, 0.8307999968528748, 0.7771999835968018, 0.5152000188827515, 1.4164999723434448, 0.05999999865889549, 0.7871999740600586, 1.3134000301361084, 0.27799999713897705, 0.8792999982833862, 0.7990999817848206, 0.48570001125335693, 0.11460000276565552, 0.04170000180602074, 0.41850000619888306, 1.1375999450683594, -0.42500001192092896, -0.13680000603199005, 0.13940000534057617, -0.08240000158548355, 0.30300000309944153, 0.9120000004768372, 0.705299973487854, 0.7206000089645386, 0.29820001125335693, 1.3464000225067139, 1.3461999893188477, 1.3460999727249146, 1.3460999727249146, 1.3459999561309814, 1.3459999561309814, 1.345900058746338, 1.3458000421524048, 1.3458000421524048, 1.3454999923706055, 1.3454999923706055, 1.3453999757766724, 1.3453999757766724, 1.3451000452041626, 1.3451000452041626, 1.3450000286102295, 1.3450000286102295, 1.3450000286102295, 1.3449000120162964, 1.3449000120162964, 1.3449000120162964, 1.3447999954223633, 1.3446999788284302, 1.3446999788284302, 1.344599962234497, 1.344499945640564, 1.3444000482559204, 1.3444000482559204, 1.3443000316619873, 1.3443000316619873, 1.3341000080108643, 1.2979999780654907, 1.330899953842163, 1.3134000301361084, 1.225000023841858, 1.3071999549865723, 1.3040000200271606, 1.2462999820709229, 1.09089994430542, 1.0224000215530396, 1.2181999683380127, 1.1232999563217163, 0.9869999885559082, 0.9789000153541565, 1.1753000020980835, 0.987500011920929, 0.6718000173568726, 1.026900053024292, 0.9873999953269958, 0.8356000185012817, 0.9067999720573425, 0.7226999998092651, 1.061900019645691, 0.5745999813079834, 0.4047999978065491, 0.8730999827384949, 0.3917999863624573, 0.7656999826431274, 0.7890999913215637, 0.6165000200271606, 0.1151999980211258, 0.6425999999046326, 0.11869999766349792, 0.835099995136261, 0.40369999408721924, 0.4970000088214874, -0.12620000541210175, -0.7163000106811523, 1.6603000164031982, 1.6601999998092651, 1.6601999998092651, 1.659999966621399, 1.659999966621399, 1.659999966621399, 1.6597000360488892, 1.6597000360488892, 1.6597000360488892, 1.659600019454956, 1.6593999862670898, 1.659000039100647, 1.659000039100647, 1.659000039100647, 1.6588000059127808, 1.6588000059127808, 1.6586999893188477, 1.6586999893188477, 1.6585999727249146, 1.6584999561309814, 1.658400058746338, 1.6583000421524048, 1.6581000089645386, 1.6581000089645386, 1.6578999757766724, 1.6578999757766724, 1.6576999425888062, 1.6576999425888062, 1.6575000286102295, 1.6574000120162964, 1.6546000242233276, 1.6208000183105469, 1.632200002670288, 1.5436999797821045, 1.5430999994277954, 1.5541000366210938, 1.5037000179290771, 1.5812000036239624, 1.4914000034332275, 1.4485000371932983, 1.4845000505447388, 1.2187999486923218, 1.1289000511169434, 1.4455000162124634, 1.2160999774932861, 1.095900058746338, 0.623199999332428, 0.9869999885559082, 1.0045000314712524, 0.3452000021934509, 1.1526999473571777, -0.09960000216960907, -0.07349999994039536, 0.6459000110626221, -0.21860000491142273, 0.5311999917030334, -0.5814999938011169, -0.26030001044273376, -0.7972999811172485, 0.29820001125335693, -0.4153999984264374, 0.16820000112056732], \"logprob\": [30.0, 29.0, 28.0, 27.0, 26.0, 25.0, 24.0, 23.0, 22.0, 21.0, 20.0, 19.0, 18.0, 17.0, 16.0, 15.0, 14.0, 13.0, 12.0, 11.0, 10.0, 9.0, 8.0, 7.0, 6.0, 5.0, 4.0, 3.0, 2.0, 1.0, -4.307600021362305, -4.234899997711182, -4.964700222015381, -4.9893999099731445, -5.162700176239014, -5.497600078582764, -5.6402997970581055, -5.841000080108643, -5.903200149536133, -6.104599952697754, -5.923999786376953, -6.521399974822998, -6.570799827575684, -6.380199909210205, -6.6595001220703125, -6.741000175476074, -6.736499786376953, -6.797500133514404, -6.8267998695373535, -6.843299865722656, -6.861599922180176, -6.837900161743164, -6.873799800872803, -6.891300201416016, -6.968200206756592, -7.027500152587891, -7.024099826812744, -7.103899955749512, -7.139500141143799, -7.189199924468994, -7.061600208282471, -5.839000225067139, -3.7709999084472656, -5.511300086975098, -4.627699851989746, -6.22629976272583, -6.497200012207031, -6.634699821472168, -6.189799785614014, -4.031899929046631, -5.1519999504089355, -4.970200061798096, -5.053999900817871, -4.997600078582764, -5.85830020904541, -4.405300140380859, -6.037399768829346, -4.696599960327148, -4.617700099945068, -4.703800201416016, -5.395500183105469, -4.983399868011475, -4.992800235748291, -5.089799880981445, -4.829500198364258, -5.156199932098389, -5.262199878692627, -5.035299777984619, -5.035099983215332, -5.155900001525879, -5.015399932861328, -5.4008002281188965, -5.326399803161621, -5.405700206756592, -5.284299850463867, -5.649099826812744, -5.752600193023682, -5.880099773406982, -6.112500190734863, -6.3059000968933105, -6.358099937438965, -6.463900089263916, -6.51170015335083, -6.625400066375732, -6.697500228881836, -6.687699794769287, -6.721799850463867, -6.762700080871582, -6.802000045776367, -6.908100128173828, -6.911300182342529, -6.902100086212158, -6.972300052642822, -6.993500232696533, -6.996300220489502, -7.073999881744385, -7.115900039672852, -7.158599853515625, -7.151599884033203, -7.187900066375732, -7.194399833679199, -7.22599983215332, -6.829699993133545, -7.263400077819824, -5.019400119781494, -6.832900047302246, -5.69980001449585, -6.808499813079834, -5.042099952697754, -6.064599990844727, -5.779600143432617, -6.183899879455566, -6.7322998046875, -5.372799873352051, -5.108699798583984, -6.602200031280518, -6.2743000984191895, -6.129700183868408, -5.746600151062012, -5.855000019073486, -5.810299873352051, -5.719799995422363, -4.77370023727417, -5.903800010681152, -4.724100112915039, -5.322299957275391, -5.103600025177002, -5.1774001121521, -5.178400039672852, -5.694799900054932, -5.452300071716309, -5.413300037384033, -5.551199913024902, -5.621200084686279, -5.566800117492676, -5.331399917602539, -5.696899890899658, -5.482500076293945, -5.776400089263916, -5.707600116729736, -5.785399913787842, -5.748799800872803, -3.918800115585327, -5.1184000968933105, -5.333799839019775, -5.499100208282471, -5.753900051116943, -5.785299777984619, -5.7820000648498535, -5.884500026702881, -5.895400047302246, -5.954899787902832, -5.9644999504089355, -6.04449987411499, -6.138199806213379, -6.145500183105469, -6.191699981689453, -6.2032999992370605, -6.2947001457214355, -6.369800090789795, -6.3831000328063965, -6.332900047302246, -6.447999954223633, -6.4654998779296875, -6.432600021362305, -6.569900035858154, -6.625500202178955, -6.653299808502197, -6.6828999519348145, -6.691199779510498, -6.701399803161621, -6.70550012588501, -6.490099906921387, -5.484799861907959, -5.843599796295166, -5.863100051879883, -6.098700046539307, -5.7692999839782715, -5.341300010681152, -5.32480001449585, -5.82289981842041, -5.744200229644775, -5.736800193786621, -5.354899883270264, -4.730899810791016, -4.788899898529053, -4.522600173950195, -5.670400142669678, -4.674600124359131, -5.236199855804443, -5.618800163269043, -4.94189977645874, -5.373199939727783, -5.371099948883057, -5.2291998863220215, -5.071700096130371, -5.1041998863220215, -5.283400058746338, -5.55620002746582, -5.01200008392334, -5.2515997886657715, -5.429599761962891, -5.439799785614014, -5.501999855041504, -5.603799819946289, -5.577099800109863, -5.6128997802734375, -5.598999977111816, -4.966000080108643, -5.645599842071533, -5.728799819946289, -5.823800086975098, -5.84499979019165, -5.8846001625061035, -6.010499954223633, -6.127200126647949, -6.202499866485596, -6.45989990234375, -6.488900184631348, -6.517000198364258, -6.571100234985352, -6.717100143432617, -6.7453999519348145, -6.783599853515625, -6.78879976272583, -6.820700168609619, -6.853600025177002, -6.854599952697754, -6.863100051879883, -6.882199764251709, -6.960100173950195, -6.979100227355957, -7.016600131988525, -7.0289998054504395, -7.093200206756592, -7.101500034332275, -6.748700141906738, -7.100100040435791, -5.389699935913086, -4.353700160980225, -6.086900234222412, -5.83050012588501, -4.892600059509277, -6.390600204467773, -6.449100017547607, -5.830100059509277, -4.739200115203857, -4.5903000831604, -5.926000118255615, -5.48829984664917, -4.7881999015808105, -4.748600006103516, -5.952499866485596, -5.14169979095459, -3.9151999950408936, -5.502200126647949, -5.4303998947143555, -4.956099987030029, -5.236700057983398, -4.84630012512207, -5.746500015258789, -4.845300197601318, -4.710100173950195, -5.459799766540527, -4.754199981689453, -5.411099910736084, -5.4664998054504395, -5.306700229644775, -4.922699928283691, -5.40910005569458, -5.144800186157227, -5.589900016784668, -5.427800178527832, -5.476399898529053, -5.312600135803223, -5.451000213623047, -3.2076001167297363, -3.847899913787842, -4.136099815368652, -4.86959981918335, -4.8744001388549805, -4.8993000984191895, -5.559299945831299, -5.629199981689453, -5.67110013961792, -5.814499855041504, -5.990699768066406, -6.336699962615967, -6.376800060272217, -6.395500183105469, -6.472400188446045, -6.476099967956543, -6.563300132751465, -6.575500011444092, -6.58620023727417, -6.696899890899658, -6.743299961090088, -6.809800148010254, -6.886300086975098, -6.884099960327148, -6.904799938201904, -6.985799789428711, -7.037099838256836, -7.056600093841553, -7.10830020904541, -7.1468000411987305, -5.66480016708374, -5.084099769592285, -6.4197998046875, -4.309000015258789, -5.362199783325195, -5.516200065612793, -4.89769983291626, -6.186999797821045, -5.468100070953369, -5.308300018310547, -5.74399995803833, -5.137499809265137, -5.3902997970581055, -6.241199970245361, -5.935100078582764, -5.8607001304626465, -5.371500015258789, -5.756199836730957, -5.784800052642822, -5.220900058746338, -5.9552998542785645, -5.214399814605713, -5.336999893188477, -5.701200008392334, -5.404900074005127, -5.664899826049805, -5.316199779510498, -5.480199813842773, -5.384300231933594, -5.62939977645874, -5.561299800872803, -5.63670015335083]}, \"token.table\": {\"Topic\": [5, 1, 5, 2, 4, 2, 3, 4, 1, 2, 3, 4, 5, 5, 4, 1, 2, 3, 4, 5, 1, 2, 3, 4, 5, 4, 1, 4, 5, 2, 5, 1, 2, 3, 4, 5, 2, 3, 3, 2, 3, 5, 3, 4, 3, 4, 2, 1, 1, 2, 3, 4, 5, 1, 2, 3, 4, 5, 1, 2, 3, 4, 5, 1, 5, 5, 5, 1, 2, 5, 3, 1, 2, 3, 4, 5, 1, 3, 4, 5, 3, 2, 2, 3, 3, 3, 1, 2, 3, 4, 5, 2, 1, 3, 4, 5, 2, 3, 3, 3, 4, 4, 4, 4, 1, 1, 5, 2, 1, 2, 2, 2, 1, 1, 4, 3, 4, 2, 4, 5, 1, 4, 4, 1, 5, 5, 1, 1, 1, 5, 3, 2, 4, 4, 5, 4, 1, 2, 4, 5, 1, 2, 3, 4, 5, 1, 2, 3, 4, 5, 1, 1, 1, 1, 1, 1, 4, 1, 2, 5, 1, 2, 3, 4, 5, 2, 4, 1, 1, 2, 3, 4, 5, 1, 2, 3, 4, 5, 3, 5, 5, 3, 2, 3, 4, 5, 3, 3, 1, 2, 3, 4, 5, 1, 2, 4, 5, 1, 3, 4, 5, 3, 3, 1, 4, 5, 2, 4, 1, 2, 3, 4, 5, 1, 1, 2, 3, 4, 5, 1, 2, 3, 4, 5, 1, 2, 3, 4, 5, 2, 2, 1, 5, 2, 4, 1, 1, 2, 1, 2, 5, 1, 3, 2, 3, 2, 3, 1, 3, 4, 2, 3, 1, 2, 3, 5, 2, 4, 1, 3, 4, 1, 2, 3, 4, 5, 2, 5, 1, 2, 3, 4, 5, 1, 2, 1, 2, 3, 4, 5, 1, 4, 1, 2, 3, 3, 1, 2, 3, 4, 4, 3, 1, 2, 3, 4, 5, 3, 3, 1, 2, 3, 4, 5, 1, 2, 3, 4, 5, 4, 2, 1, 3, 5, 1, 2, 3, 4, 5, 3, 1, 2, 3, 4, 5, 4, 1, 2, 4, 5, 5, 5, 1, 2, 3, 4, 5, 1, 2, 4, 1, 1, 2, 3, 4, 5, 1, 2, 3, 4, 5, 1, 2, 3, 4, 5, 2, 1, 2, 3, 4, 5, 1, 2, 3, 4, 5, 4, 2, 1, 2, 4, 5, 4, 2, 4, 5, 5, 3, 1, 4, 5, 4, 2, 2, 1, 2, 3, 2, 4, 1, 5, 1, 2, 3, 4, 2, 3, 1, 5, 3, 2, 1, 2, 3, 4, 5, 1, 3, 4, 5, 1, 3, 4, 5, 1, 5, 1, 3, 1, 3, 4, 5, 1, 2, 3, 4, 5, 5, 5, 1, 2, 3, 4, 5, 2, 5, 4, 3, 1, 2, 3, 4, 5, 3, 4, 4, 4, 1, 2, 3, 4, 5, 2, 5, 5, 1, 2, 3, 5, 1, 1, 2, 2, 2, 2, 2, 5, 5, 5, 1, 2, 5, 1, 4, 1, 1, 3, 4, 4, 1, 3, 4, 5, 5, 5, 4, 4, 1, 2, 3, 5, 1, 3, 4, 5, 1, 3, 1, 2, 3, 5, 1, 2, 5, 5, 1, 2, 5, 1, 5, 2, 3, 4, 5, 2, 1, 2, 3, 4, 5, 3, 4, 2, 4, 5, 2, 3, 4, 5, 5, 3, 2, 3, 5, 3, 4, 1, 2, 3, 4, 5, 1, 2, 3, 4, 5, 3, 3, 4, 1, 2, 4, 1, 2, 4, 5, 1, 2, 3, 4, 5, 2, 1, 2, 3, 4, 5, 1, 2, 3, 4, 5, 1, 2, 3, 4, 5, 1, 2, 3, 4, 5, 2, 3, 3, 2, 1, 3, 1, 3, 4, 1, 2, 3, 4, 5, 4, 5, 2, 2, 3, 1, 2, 5, 1, 2, 3, 4, 5, 1, 2, 3, 4, 5, 1, 2, 3, 4, 5, 1, 2, 1, 2, 4, 5], \"Freq\": [0.997779369354248, 0.005274543538689613, 0.9946282505989075, 0.09513862431049347, 0.9047033190727234, 0.2684779167175293, 0.7311229109764099, 0.9988592863082886, 0.23530618846416473, 0.2684479057788849, 0.1693541705608368, 0.1019107773900032, 0.22486655414104462, 0.999456524848938, 0.9997365474700928, 0.06160613149404526, 0.17742565274238586, 0.0520571805536747, 0.5994276404380798, 0.10935088247060776, 0.27066341042518616, 0.17655342817306519, 0.3015148937702179, 0.10188766568899155, 0.14933153986930847, 0.9996594786643982, 0.07396910339593887, 0.11856812238693237, 0.8071334362030029, 0.6755049228668213, 0.32421308755874634, 0.03164142742753029, 0.32627353072166443, 0.05021356791257858, 0.39551782608032227, 0.19626855850219727, 0.48365211486816406, 0.5158956050872803, 0.9963430762290955, 0.9968517422676086, 0.038310982286930084, 0.9614426493644714, 0.11439652740955353, 0.8854970932006836, 0.04748133569955826, 0.9524699449539185, 0.999057948589325, 0.9984286427497864, 0.21254518628120422, 0.36412563920021057, 0.014686955139040947, 0.2762810289859772, 0.13218259811401367, 0.16808170080184937, 0.30035555362701416, 0.053026940673589706, 0.3023122549057007, 0.17629989981651306, 0.807073712348938, 0.042151909321546555, 0.03190396726131439, 0.029583679512143135, 0.08933111280202866, 0.9997647404670715, 0.999907910823822, 0.9996947646141052, 0.9979861974716187, 0.10120470821857452, 0.38872769474983215, 0.5098345875740051, 0.9963399171829224, 0.1891157627105713, 0.03677614405751228, 0.14383268356323242, 0.5358061790466309, 0.09462331980466843, 0.16852903366088867, 0.020186780020594597, 0.698279082775116, 0.11286246031522751, 0.9982597827911377, 0.998172402381897, 0.99750816822052, 0.9982161521911621, 0.9990867972373962, 0.9974240660667419, 0.16075654327869415, 0.12428785860538483, 0.027801232412457466, 0.599852442741394, 0.08732857555150986, 0.9995792508125305, 0.10290507227182388, 0.04068339988589287, 0.7264893054962158, 0.12991337478160858, 0.09325724095106125, 0.9052383899688721, 0.9993549585342407, 0.8266546130180359, 0.17268390953540802, 0.9995604753494263, 0.9985112547874451, 0.9992700219154358, 0.998174786567688, 0.9994459748268127, 0.9987014532089233, 0.9977157711982727, 0.9987356662750244, 0.0008745496161282063, 0.9990744590759277, 0.9961196184158325, 0.9981206059455872, 0.9987574219703674, 0.9986906051635742, 0.9982591271400452, 0.9971628189086914, 0.8314082026481628, 0.0734340250492096, 0.09453575313091278, 0.7582322955131531, 0.24108663201332092, 0.9975149035453796, 0.11001644283533096, 0.8898643851280212, 0.999721884727478, 0.9974483251571655, 0.9963904023170471, 0.14472855627536774, 0.8551321029663086, 0.9967185854911804, 0.014965132810175419, 0.984373152256012, 0.9977200031280518, 0.9990434646606445, 0.9985167980194092, 0.04112596437335014, 0.08138914406299591, 0.23438924551010132, 0.643060564994812, 0.15487328171730042, 0.4744308292865753, 0.12649153172969818, 0.12614113092422485, 0.1187829077243805, 0.21403025090694427, 0.3016543388366699, 0.09214381128549576, 0.26316389441490173, 0.1288847029209137, 0.997734010219574, 0.9998440146446228, 0.9997676610946655, 0.9981727600097656, 0.9979271292686462, 0.9468613862991333, 0.052930139005184174, 0.9976599216461182, 0.9870100021362305, 0.01268559880554676, 0.3780457079410553, 0.00013049559493083507, 0.27221378684043884, 0.08116825670003891, 0.2684294283390045, 0.9970510601997375, 0.00218173093162477, 0.9960852265357971, 0.2853372097015381, 0.23304881155490875, 0.2572251558303833, 0.040481336414813995, 0.1841338574886322, 0.1715269237756729, 0.30755260586738586, 0.09828230738639832, 0.26027995347976685, 0.16237133741378784, 0.15509402751922607, 0.8448681235313416, 0.9985705614089966, 0.996895968914032, 0.1489170342683792, 0.7414956092834473, 0.10937059670686722, 0.9995805025100708, 0.9988670945167542, 0.9980456829071045, 0.17786015570163727, 0.13387581706047058, 0.07282651960849762, 0.559298038482666, 0.05600191280245781, 0.10137441009283066, 0.2593742907047272, 0.49457138776779175, 0.1446388065814972, 0.2839246392250061, 0.2532084286212921, 0.19952183961868286, 0.2630910277366638, 0.9992877840995789, 0.997550368309021, 0.9986549019813538, 0.9979221224784851, 0.9994239807128906, 0.85971599817276, 0.1390497237443924, 0.23730526864528656, 0.23036256432533264, 0.06277355551719666, 0.2928468585014343, 0.17655666172504425, 0.9980124235153198, 0.2924247086048126, 0.0667835995554924, 0.13048091530799866, 0.38484153151512146, 0.12550857663154602, 0.13553184270858765, 0.08066818118095398, 0.055096134543418884, 0.6441830396652222, 0.08485269546508789, 0.4011263847351074, 0.0007694732048548758, 0.2094506025314331, 0.2918611764907837, 0.09679973125457764, 0.9966947436332703, 0.9976727962493896, 0.9977496862411499, 0.9977896809577942, 0.8443590998649597, 0.155304953455925, 0.9994326829910278, 0.5247635841369629, 0.47501763701438904, 0.4043315649032593, 0.49722960591316223, 0.09862744063138962, 0.7199578285217285, 0.27936017513275146, 0.9214683175086975, 0.07663697004318237, 0.15166117250919342, 0.8471359610557556, 0.21395014226436615, 0.4852815270423889, 0.3008417785167694, 0.9971281290054321, 0.9975917339324951, 0.336656391620636, 0.040862277150154114, 0.020736081525683403, 0.6019562482833862, 0.9962976574897766, 0.002175322500988841, 0.14924554526805878, 0.050491031259298325, 0.7996888756752014, 0.14512202143669128, 0.48348844051361084, 0.005472742021083832, 0.2304213047027588, 0.1356862485408783, 0.9974943995475769, 0.9977471828460693, 0.599246084690094, 0.17363828420639038, 0.05383756756782532, 0.11567801982164383, 0.057475242763757706, 0.8474612236022949, 0.15205876529216766, 0.2330884039402008, 0.29549267888069153, 0.31134673953056335, 0.058356430381536484, 0.101533442735672, 0.9986909031867981, 0.9979037642478943, 0.9982579350471497, 0.026767117902636528, 0.9716463685035706, 0.9987322688102722, 0.12277676910161972, 0.20706288516521454, 0.047481175512075424, 0.62287437915802, 0.9981638789176941, 0.9987481832504272, 0.0015725750708952546, 0.22225727140903473, 0.028830543160438538, 0.17874936759471893, 0.5687479972839355, 0.9998669624328613, 0.9989718794822693, 0.2477988451719284, 0.22985664010047913, 0.14032413065433502, 0.2292317897081375, 0.15273192524909973, 0.36773958802223206, 0.17863772809505463, 0.190148264169693, 0.07070764899253845, 0.19283904135227203, 0.9993410110473633, 0.9995678663253784, 0.1541060358285904, 0.00687973340973258, 0.838639497756958, 0.3261878192424774, 0.07827146351337433, 0.04611210152506828, 0.38948559761047363, 0.1599460244178772, 0.9990485906600952, 0.2999074459075928, 0.13843423128128052, 0.10798270255327225, 0.09896745532751083, 0.3543996512889862, 0.9989985227584839, 0.33966827392578125, 0.4863814115524292, 0.018076404929161072, 0.1559615433216095, 0.9991051554679871, 0.9979819059371948, 0.24735990166664124, 0.26177191734313965, 0.11612750589847565, 0.23059208691120148, 0.14425863325595856, 0.9991813898086548, 0.733795166015625, 0.2654152810573578, 0.9996464848518372, 0.39813733100891113, 0.08541250228881836, 0.20338472723960876, 0.15810398757457733, 0.15492373704910278, 0.056757356971502304, 0.08581576496362686, 0.0015293898759409785, 0.7743810415267944, 0.08139752596616745, 0.3956332504749298, 0.056109726428985596, 0.2781609892845154, 0.05801984295248985, 0.21178437769412994, 0.9979672431945801, 0.0550023578107357, 0.2115299105644226, 0.0016042354982346296, 0.6983007788658142, 0.03345976769924164, 0.138830304145813, 0.1844697892665863, 0.08181772381067276, 0.5092405676841736, 0.08564143627882004, 0.9973437786102295, 0.9963487982749939, 0.0385773628950119, 0.0006324158166535199, 0.879690408706665, 0.08158163726329803, 0.999538779258728, 0.03160925582051277, 0.9672431945800781, 0.0006321850814856589, 0.9979164004325867, 0.9984328150749207, 0.008799916133284569, 0.9613907933235168, 0.029699714854359627, 0.998576819896698, 0.9984384179115295, 0.9976887106895447, 0.04803889989852905, 0.8232548832893372, 0.12810373306274414, 0.9991272687911987, 0.9985881447792053, 0.9983485341072083, 0.9997026920318604, 0.3020141124725342, 0.4339892864227295, 0.09547140449285507, 0.16879095137119293, 0.083567313849926, 0.9153834581375122, 0.07553296536207199, 0.9240986704826355, 0.9962428212165833, 0.9981436133384705, 0.13628186285495758, 0.5715701580047607, 0.0868833139538765, 0.1365724354982376, 0.0682862177491188, 0.1630997508764267, 0.07222069799900055, 0.6979189515113831, 0.06691271811723709, 0.16379395127296448, 0.1076008677482605, 0.7229903340339661, 0.0054689133539795876, 0.9187256097793579, 0.08056403696537018, 0.9973541498184204, 0.9961062073707581, 0.15993653237819672, 0.10038292407989502, 0.5726507902145386, 0.1672181934118271, 0.279013991355896, 0.059495631605386734, 0.05390043184161186, 0.48174676299095154, 0.1258920133113861, 0.998745322227478, 0.9970608353614807, 0.3499999940395355, 0.19117340445518494, 0.1686396598815918, 0.1668224185705185, 0.12339044362306595, 0.026650873944163322, 0.9719730615615845, 0.9991732239723206, 0.999310314655304, 0.03209051117300987, 0.09084779024124146, 0.10259924083948135, 0.7520931363105774, 0.022598952054977417, 0.012043635360896587, 0.9875780940055847, 0.9983779788017273, 0.9980908632278442, 0.2447703778743744, 0.0801200345158577, 0.10119135677814484, 0.2506507337093353, 0.32342031598091125, 0.9959028363227844, 0.9984703063964844, 0.997835099697113, 0.07815361768007278, 0.001978572690859437, 0.7934076189994812, 0.12662865221500397, 0.9989268779754639, 0.9995860457420349, 0.9967268705368042, 0.9987099766731262, 0.9994362592697144, 0.9991212487220764, 0.9991487264633179, 0.9999403357505798, 0.9990137219429016, 0.9977236986160278, 0.8948371410369873, 0.014524892903864384, 0.0907805785536766, 0.9228025674819946, 0.07653576135635376, 0.9971822500228882, 0.9995381832122803, 0.9976425170898438, 0.9992979168891907, 0.9989181160926819, 0.5550925731658936, 0.06369607895612717, 0.12495671957731247, 0.2560957074165344, 0.9970666766166687, 0.9986582398414612, 0.9977166056632996, 0.9993237257003784, 0.08969052881002426, 0.21593418717384338, 0.10661327093839645, 0.5878960490226746, 0.5441218018531799, 0.39015549421310425, 0.006448851432651281, 0.05884576961398125, 0.9528567790985107, 0.04585941508412361, 0.5617947578430176, 0.0525716207921505, 0.27481555938720703, 0.11070964485406876, 0.14200778305530548, 0.21651411056518555, 0.6412638425827026, 0.9979366660118103, 0.15517304837703705, 0.7878941297531128, 0.05713736265897751, 0.19058746099472046, 0.8091381788253784, 0.050297271460294724, 0.04880329221487045, 0.011453833431005478, 0.8894150853157043, 0.9980072975158691, 0.11069167405366898, 0.29715579748153687, 0.06869730353355408, 0.4496136009693146, 0.07394660264253616, 0.04068981111049652, 0.9579544067382812, 0.02466774731874466, 0.0757652223110199, 0.8991981148719788, 0.4435112178325653, 0.46550774574279785, 0.09105535596609116, 0.9999123811721802, 0.9980489611625671, 0.9978882074356079, 0.722899317741394, 0.2083154022693634, 0.0686463937163353, 0.9972419142723083, 0.997225284576416, 0.16858051717281342, 0.3858680725097656, 0.08144901692867279, 0.24109990894794464, 0.12285000830888748, 0.2339596003293991, 0.1987810879945755, 0.020633544772863388, 0.46205610036849976, 0.084563709795475, 0.9980252981185913, 0.9989385604858398, 0.9971122741699219, 0.7977020144462585, 0.16635698080062866, 0.03578703850507736, 0.5342098474502563, 0.1843700408935547, 0.28128013014793396, 0.99803227186203, 0.1042126789689064, 0.22305947542190552, 0.12682904303073883, 0.026607492938637733, 0.5188460946083069, 0.9969627261161804, 0.1233559399843216, 0.15159641206264496, 0.13316166400909424, 0.42752933502197266, 0.16434383392333984, 0.43031546473503113, 0.20353756844997406, 0.13285060226917267, 0.12705472111701965, 0.10625774413347244, 0.3915612995624542, 0.2421444207429886, 0.049097009003162384, 0.2100542038679123, 0.10720357298851013, 0.3929879367351532, 0.25003477931022644, 0.07689280062913895, 0.10175421833992004, 0.17829185724258423, 0.9449664950370789, 0.052498139441013336, 0.9986703991889954, 0.9967097640037537, 0.31741631031036377, 0.6821073889732361, 0.02801470458507538, 0.9711763858795166, 0.9986006617546082, 0.38915884494781494, 0.10744328796863556, 0.16522637009620667, 0.1916256546974182, 0.14648839831352234, 0.842284619808197, 0.15738405287265778, 0.9978026151657104, 0.005219155456870794, 0.9942491054534912, 0.551996648311615, 0.08520754426717758, 0.3624882698059082, 0.41268569231033325, 0.14310532808303833, 0.11524692922830582, 0.201152503490448, 0.12785206735134125, 0.38003024458885193, 0.004547370597720146, 0.28713396191596985, 0.2503652274608612, 0.07795491814613342, 0.23078683018684387, 0.09814880788326263, 0.10911887139081955, 0.38985273241996765, 0.172030508518219, 0.9976269602775574, 0.0013798436848446727, 0.014416800811886787, 0.2786737084388733, 0.6923131942749023, 0.014570171013474464], \"Term\": [\"accuracy\", \"accurate\", \"accurate\", \"ago\", \"ago\", \"air\", \"air\", \"alarm\", \"also\", \"also\", \"also\", \"also\", \"also\", \"aluminum\", \"amazon\", \"another\", \"another\", \"another\", \"another\", \"another\", \"around\", \"around\", \"around\", \"around\", \"around\", \"arrived\", \"assembly\", \"assembly\", \"assembly\", \"attachment\", \"attachment\", \"back\", \"back\", \"back\", \"back\", \"back\", \"bag\", \"bag\", \"bags\", \"balance\", \"base\", \"base\", \"batteries\", \"batteries\", \"battery\", \"battery\", \"belt\", \"bench\", \"best\", \"best\", \"best\", \"best\", \"best\", \"better\", \"better\", \"better\", \"better\", \"better\", \"bit\", \"bit\", \"bit\", \"bit\", \"bit\", \"bits\", \"blade\", \"blades\", \"bolt\", \"bosch\", \"bosch\", \"bosch\", \"boss\", \"bought\", \"bought\", \"bought\", \"bought\", \"bought\", \"box\", \"box\", \"box\", \"box\", \"bright\", \"brush\", \"brushes\", \"bucket\", \"bulb\", \"bulbs\", \"buy\", \"buy\", \"buy\", \"buy\", \"buy\", \"cable\", \"came\", \"came\", \"came\", \"came\", \"car\", \"car\", \"ceiling\", \"chain\", \"chain\", \"charge\", \"charged\", \"charger\", \"chisels\", \"chuck\", \"circular\", \"clamping\", \"clamps\", \"clamps\", \"collection\", \"collector\", \"collet\", \"collets\", \"company\", \"compressor\", \"condition\", \"control\", \"control\", \"control\", \"cordless\", \"cordless\", \"customer\", \"cut\", \"cut\", \"cuts\", \"cutter\", \"cutters\", \"cutting\", \"cutting\", \"dark\", \"days\", \"days\", \"delivery\", \"delta\", \"depot\", \"dewalt\", \"dewalt\", \"dewalt\", \"dewalt\", \"doesnt\", \"doesnt\", \"doesnt\", \"doesnt\", \"doesnt\", \"dont\", \"dont\", \"dont\", \"dont\", \"dont\", \"doors\", \"dremel\", \"drill\", \"drilling\", \"drills\", \"driver\", \"driver\", \"drivers\", \"dust\", \"dust\", \"easy\", \"easy\", \"easy\", \"easy\", \"easy\", \"energizer\", \"energizer\", \"engraver\", \"enough\", \"enough\", \"enough\", \"enough\", \"enough\", \"even\", \"even\", \"even\", \"even\", \"even\", \"extension\", \"extension\", \"extensions\", \"extinguisher\", \"fan\", \"fan\", \"fan\", \"fence\", \"filter\", \"filters\", \"find\", \"find\", \"find\", \"find\", \"find\", \"first\", \"first\", \"first\", \"first\", \"fit\", \"fit\", \"fit\", \"fit\", \"flashlight\", \"flashlights\", \"flooring\", \"framing\", \"freud\", \"gauge\", \"gauge\", \"get\", \"get\", \"get\", \"get\", \"get\", \"glue\", \"good\", \"good\", \"good\", \"good\", \"good\", \"got\", \"got\", \"got\", \"got\", \"got\", \"great\", \"great\", \"great\", \"great\", \"great\", \"grit\", \"ground\", \"grout\", \"guard\", \"gun\", \"gun\", \"hammer\", \"hand\", \"hand\", \"handle\", \"handle\", \"handle\", \"handy\", \"handy\", \"hook\", \"hook\", \"hose\", \"hose\", \"house\", \"house\", \"house\", \"housing\", \"hunter\", \"inch\", \"inch\", \"inch\", \"inch\", \"iphone\", \"iphone\", \"item\", \"item\", \"item\", \"ive\", \"ive\", \"ive\", \"ive\", \"ive\", \"jaws\", \"jet\", \"job\", \"job\", \"job\", \"job\", \"job\", \"jobs\", \"jobs\", \"keep\", \"keep\", \"keep\", \"keep\", \"keep\", \"keyless\", \"klein\", \"knives\", \"ladder\", \"ladder\", \"lamp\", \"last\", \"last\", \"last\", \"last\", \"lasted\", \"led\", \"left\", \"left\", \"left\", \"left\", \"left\", \"light\", \"lights\", \"like\", \"like\", \"like\", \"like\", \"like\", \"little\", \"little\", \"little\", \"little\", \"little\", \"local\", \"lock\", \"machine\", \"machine\", \"machine\", \"made\", \"made\", \"made\", \"made\", \"made\", \"maglite\", \"make\", \"make\", \"make\", \"make\", \"make\", \"manual\", \"metal\", \"metal\", \"metal\", \"metal\", \"miter\", \"mobile\", \"much\", \"much\", \"much\", \"much\", \"much\", \"nail\", \"nailer\", \"nailer\", \"nails\", \"need\", \"need\", \"need\", \"need\", \"need\", \"new\", \"new\", \"new\", \"new\", \"new\", \"nice\", \"nice\", \"nice\", \"nice\", \"nice\", \"noise\", \"old\", \"old\", \"old\", \"old\", \"old\", \"one\", \"one\", \"one\", \"one\", \"one\", \"online\", \"operate\", \"order\", \"order\", \"order\", \"order\", \"ordered\", \"original\", \"original\", \"original\", \"outfeed\", \"outlet\", \"package\", \"package\", \"package\", \"packaging\", \"pad\", \"pads\", \"paint\", \"paint\", \"paint\", \"paper\", \"phone\", \"plane\", \"planer\", \"plastic\", \"plastic\", \"plastic\", \"plastic\", \"plug\", \"plug\", \"plywood\", \"plywood\", \"pockets\", \"porter\", \"power\", \"power\", \"power\", \"power\", \"power\", \"price\", \"price\", \"price\", \"price\", \"product\", \"product\", \"product\", \"product\", \"projects\", \"projects\", \"pry\", \"pump\", \"purchased\", \"purchased\", \"purchased\", \"purchased\", \"quality\", \"quality\", \"quality\", \"quality\", \"quality\", \"rail\", \"rails\", \"really\", \"really\", \"really\", \"really\", \"really\", \"rear\", \"rear\", \"received\", \"remote\", \"replace\", \"replace\", \"replace\", \"replace\", \"replace\", \"replacement\", \"replacement\", \"return\", \"returned\", \"right\", \"right\", \"right\", \"right\", \"right\", \"ring\", \"ripping\", \"roller\", \"room\", \"room\", \"room\", \"room\", \"rotary\", \"router\", \"rule\", \"sand\", \"sander\", \"sanding\", \"sandpaper\", \"saw\", \"saws\", \"scale\", \"screw\", \"screw\", \"screw\", \"screwdriver\", \"screwdriver\", \"screwdrivers\", \"screws\", \"sensor\", \"sent\", \"service\", \"set\", \"set\", \"set\", \"set\", \"sharpened\", \"sharpening\", \"shipped\", \"shipping\", \"side\", \"side\", \"side\", \"side\", \"size\", \"size\", \"size\", \"size\", \"sizes\", \"sizes\", \"small\", \"small\", \"small\", \"small\", \"smooth\", \"smooth\", \"smooth\", \"snipe\", \"speed\", \"speed\", \"speed\", \"square\", \"square\", \"stand\", \"stand\", \"stand\", \"stand\", \"staple\", \"still\", \"still\", \"still\", \"still\", \"still\", \"stores\", \"stores\", \"support\", \"support\", \"support\", \"switch\", \"switch\", \"switch\", \"table\", \"tables\", \"tank\", \"tape\", \"tape\", \"tape\", \"tapes\", \"thank\", \"thing\", \"thing\", \"thing\", \"thing\", \"thing\", \"time\", \"time\", \"time\", \"time\", \"time\", \"timer\", \"toilet\", \"told\", \"tool\", \"tool\", \"tool\", \"tools\", \"tools\", \"tools\", \"tooth\", \"top\", \"top\", \"top\", \"top\", \"top\", \"trigger\", \"two\", \"two\", \"two\", \"two\", \"two\", \"use\", \"use\", \"use\", \"use\", \"use\", \"used\", \"used\", \"used\", \"used\", \"used\", \"using\", \"using\", \"using\", \"using\", \"using\", \"vacuum\", \"vacuum\", \"valve\", \"variable\", \"wall\", \"wall\", \"water\", \"water\", \"weeks\", \"well\", \"well\", \"well\", \"well\", \"well\", \"went\", \"went\", \"wheel\", \"wires\", \"wires\", \"wood\", \"wood\", \"wood\", \"work\", \"work\", \"work\", \"work\", \"work\", \"works\", \"works\", \"works\", \"works\", \"works\", \"would\", \"would\", \"would\", \"would\", \"would\", \"wrench\", \"wrench\", \"years\", \"years\", \"years\", \"years\"]}, \"R\": 30, \"lambda.step\": 0.01, \"plot.opts\": {\"xlab\": \"PC1\", \"ylab\": \"PC2\"}, \"topic.order\": [1, 2, 3, 4, 5]};\n",
              "\n",
              "function LDAvis_load_lib(url, callback){\n",
              "  var s = document.createElement('script');\n",
              "  s.src = url;\n",
              "  s.async = true;\n",
              "  s.onreadystatechange = s.onload = callback;\n",
              "  s.onerror = function(){console.warn(\"failed to load library \" + url);};\n",
              "  document.getElementsByTagName(\"head\")[0].appendChild(s);\n",
              "}\n",
              "\n",
              "if(typeof(LDAvis) !== \"undefined\"){\n",
              "   // already loaded: just create the visualization\n",
              "   !function(LDAvis){\n",
              "       new LDAvis(\"#\" + \"ldavis_el1171404106451241042004995123\", ldavis_el1171404106451241042004995123_data);\n",
              "   }(LDAvis);\n",
              "}else if(typeof define === \"function\" && define.amd){\n",
              "   // require.js is available: use it to load d3/LDAvis\n",
              "   require.config({paths: {d3: \"https://cdnjs.cloudflare.com/ajax/libs/d3/3.5.5/d3.min\"}});\n",
              "   require([\"d3\"], function(d3){\n",
              "      window.d3 = d3;\n",
              "      LDAvis_load_lib(\"https://cdn.rawgit.com/bmabey/pyLDAvis/files/ldavis.v1.0.0.js\", function(){\n",
              "        new LDAvis(\"#\" + \"ldavis_el1171404106451241042004995123\", ldavis_el1171404106451241042004995123_data);\n",
              "      });\n",
              "    });\n",
              "}else{\n",
              "    // require.js not available: dynamically load d3 & LDAvis\n",
              "    LDAvis_load_lib(\"https://cdnjs.cloudflare.com/ajax/libs/d3/3.5.5/d3.min.js\", function(){\n",
              "         LDAvis_load_lib(\"https://cdn.rawgit.com/bmabey/pyLDAvis/files/ldavis.v1.0.0.js\", function(){\n",
              "                 new LDAvis(\"#\" + \"ldavis_el1171404106451241042004995123\", ldavis_el1171404106451241042004995123_data);\n",
              "            })\n",
              "         });\n",
              "}\n",
              "</script>"
            ],
            "text/plain": [
              "<IPython.core.display.HTML object>"
            ]
          },
          "metadata": {
            "tags": []
          },
          "execution_count": 49
        }
      ]
    },
    {
      "cell_type": "code",
      "metadata": {
        "id": "YAPGpEd67IcL"
      },
      "source": [],
      "execution_count": null,
      "outputs": []
    }
  ]
}