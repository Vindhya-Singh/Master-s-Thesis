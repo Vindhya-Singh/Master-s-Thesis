{
  "nbformat": 4,
  "nbformat_minor": 0,
  "metadata": {
    "colab": {
      "name": "Amazon_DataAnalysis_LawnAndGarden.ipynb",
      "provenance": [],
      "collapsed_sections": [
        "hymtazyGHlCh"
      ],
      "toc_visible": true,
      "machine_shape": "hm",
      "include_colab_link": true
    },
    "kernelspec": {
      "name": "python3",
      "display_name": "Python 3"
    }
  },
  "cells": [
    {
      "cell_type": "markdown",
      "metadata": {
        "id": "view-in-github",
        "colab_type": "text"
      },
      "source": [
        "<a href=\"https://colab.research.google.com/github/VindhyaSRajan/Master-s-Thesis/blob/master/Amazon_DataAnalysis_LawnAndGarden.ipynb\" target=\"_parent\"><img src=\"https://colab.research.google.com/assets/colab-badge.svg\" alt=\"Open In Colab\"/></a>"
      ]
    },
    {
      "cell_type": "markdown",
      "metadata": {
        "id": "A4us2_b407Bp",
        "colab_type": "text"
      },
      "source": [
        "##All the imports go here"
      ]
    },
    {
      "cell_type": "code",
      "metadata": {
        "id": "Ha9m-Cgsvq2Y",
        "colab_type": "code",
        "colab": {}
      },
      "source": [
        "import re # We clean text using regex\n",
        "import csv # To read the csv\n",
        "from collections import defaultdict # For accumlating values\n",
        "from nltk.corpus import stopwords # To remove stopwords\n",
        "from gensim import corpora # To create corpus and dictionary for the LDA model\n",
        "from gensim.models import LdaModel # To use the LDA model\n",
        "import pandas as pd"
      ],
      "execution_count": 0,
      "outputs": []
    },
    {
      "cell_type": "code",
      "metadata": {
        "id": "9_Kpa2Cr1Exh",
        "colab_type": "code",
        "outputId": "6cf7c59e-be84-4557-beac-bc1c97a961ab",
        "colab": {
          "base_uri": "https://localhost:8080/",
          "height": 67
        }
      },
      "source": [
        "import nltk\n",
        "nltk.download('stopwords') #In order to remove the stopwords from the corpora"
      ],
      "execution_count": 0,
      "outputs": [
        {
          "output_type": "stream",
          "text": [
            "[nltk_data] Downloading package stopwords to /root/nltk_data...\n",
            "[nltk_data]   Unzipping corpora/stopwords.zip.\n"
          ],
          "name": "stdout"
        },
        {
          "output_type": "execute_result",
          "data": {
            "text/plain": [
              "True"
            ]
          },
          "metadata": {
            "tags": []
          },
          "execution_count": 2
        }
      ]
    },
    {
      "cell_type": "markdown",
      "metadata": {
        "id": "hkixv0uo1Sz0",
        "colab_type": "text"
      },
      "source": [
        "##Reading the Amazon Product file"
      ]
    },
    {
      "cell_type": "code",
      "metadata": {
        "id": "6fmD981swNg6",
        "colab_type": "code",
        "colab": {}
      },
      "source": [
        "from google.colab import drive\n",
        "drive.mount('/gdrive')"
      ],
      "execution_count": 0,
      "outputs": []
    },
    {
      "cell_type": "code",
      "metadata": {
        "id": "NEx0svEA1O3h",
        "colab_type": "code",
        "outputId": "e1f760a0-9442-4b7f-80a6-24ec3c776177",
        "colab": {
          "resources": {
            "http://localhost:8080/nbextensions/google.colab/files.js": {
              "data": "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",
              "ok": true,
              "headers": [
                [
                  "content-type",
                  "application/javascript"
                ]
              ],
              "status": 200,
              "status_text": ""
            }
          },
          "base_uri": "https://localhost:8080/",
          "height": 91
        }
      },
      "source": [
        "#First, we need to upload it to Gdrive\n",
        "from google.colab import files\n",
        "\n",
        "uploaded = files.upload()\n",
        "\n",
        "for fn in uploaded.keys():\n",
        "  print('User uploaded file \"{name}\" with length {length} bytes'.format(\n",
        "      name=fn, length=len(uploaded[fn])))"
      ],
      "execution_count": 0,
      "outputs": [
        {
          "output_type": "display_data",
          "data": {
            "text/html": [
              "\n",
              "     <input type=\"file\" id=\"files-9ee5ec71-fc45-4daf-b4be-6d8a7ddccfa4\" name=\"files[]\" multiple disabled />\n",
              "     <output id=\"result-9ee5ec71-fc45-4daf-b4be-6d8a7ddccfa4\">\n",
              "      Upload widget is only available when the cell has been executed in the\n",
              "      current browser session. Please rerun this cell to enable.\n",
              "      </output>\n",
              "      <script src=\"/nbextensions/google.colab/files.js\"></script> "
            ],
            "text/plain": [
              "<IPython.core.display.HTML object>"
            ]
          },
          "metadata": {
            "tags": []
          }
        },
        {
          "output_type": "stream",
          "text": [
            "Saving reviews_Patio_Lawn_and_Garden.json.gz to reviews_Patio_Lawn_and_Garden.json (2).gz\n",
            "User uploaded file \"reviews_Patio_Lawn_and_Garden.json.gz\" with length 199689225 bytes\n"
          ],
          "name": "stdout"
        }
      ]
    },
    {
      "cell_type": "code",
      "metadata": {
        "id": "xe_YDO491cPe",
        "colab_type": "code",
        "colab": {}
      },
      "source": [
        "import gzip\n",
        "\n",
        "def parse(path):\n",
        "  g = gzip.open(path, 'rb')\n",
        "  for l in g:\n",
        "    yield eval(l)\n",
        "\n",
        "def getDF(path):\n",
        "  i = 0\n",
        "  df = {}\n",
        "  for d in parse(path):\n",
        "    df[i] = d\n",
        "    i += 1\n",
        "  return pd.DataFrame.from_dict(df, orient='index')\n",
        "\n"
      ],
      "execution_count": 0,
      "outputs": []
    },
    {
      "cell_type": "markdown",
      "metadata": {
        "id": "j59vteu81g9B",
        "colab_type": "text"
      },
      "source": [
        "##Inspecting the Amazon Product Data"
      ]
    },
    {
      "cell_type": "code",
      "metadata": {
        "id": "Cen44A7Y1kC2",
        "colab_type": "code",
        "outputId": "1fd9a686-f11b-4e49-eb4e-fcca1037b09b",
        "colab": {
          "base_uri": "https://localhost:8080/",
          "height": 204
        }
      },
      "source": [
        "df = getDF('/content/reviews_Patio_Lawn_and_Garden.json (2).gz')\n",
        "\n",
        "df.tail()"
      ],
      "execution_count": 0,
      "outputs": [
        {
          "output_type": "execute_result",
          "data": {
            "text/html": [
              "<div>\n",
              "<style scoped>\n",
              "    .dataframe tbody tr th:only-of-type {\n",
              "        vertical-align: middle;\n",
              "    }\n",
              "\n",
              "    .dataframe tbody tr th {\n",
              "        vertical-align: top;\n",
              "    }\n",
              "\n",
              "    .dataframe thead th {\n",
              "        text-align: right;\n",
              "    }\n",
              "</style>\n",
              "<table border=\"1\" class=\"dataframe\">\n",
              "  <thead>\n",
              "    <tr style=\"text-align: right;\">\n",
              "      <th></th>\n",
              "      <th>reviewerID</th>\n",
              "      <th>asin</th>\n",
              "      <th>reviewerName</th>\n",
              "      <th>helpful</th>\n",
              "      <th>reviewText</th>\n",
              "      <th>overall</th>\n",
              "      <th>summary</th>\n",
              "      <th>unixReviewTime</th>\n",
              "      <th>reviewTime</th>\n",
              "    </tr>\n",
              "  </thead>\n",
              "  <tbody>\n",
              "    <tr>\n",
              "      <th>993485</th>\n",
              "      <td>A2G7RZI15ZPCTH</td>\n",
              "      <td>B00LW2Z4NS</td>\n",
              "      <td>Ever</td>\n",
              "      <td>[0, 0]</td>\n",
              "      <td>And I totally dig the look myself. The configu...</td>\n",
              "      <td>5.0</td>\n",
              "      <td>Everyone likes it!</td>\n",
              "      <td>1405641600</td>\n",
              "      <td>07 18, 2014</td>\n",
              "    </tr>\n",
              "    <tr>\n",
              "      <th>993486</th>\n",
              "      <td>A2V247ZQT9OJIT</td>\n",
              "      <td>B00LW2Z4NS</td>\n",
              "      <td>Natalia</td>\n",
              "      <td>[0, 0]</td>\n",
              "      <td>Just bought this for my outdoor patio and I lo...</td>\n",
              "      <td>5.0</td>\n",
              "      <td>Beautiful set</td>\n",
              "      <td>1405900800</td>\n",
              "      <td>07 21, 2014</td>\n",
              "    </tr>\n",
              "    <tr>\n",
              "      <th>993487</th>\n",
              "      <td>AF30DHAVSYNZ0</td>\n",
              "      <td>B00LW2Z4NS</td>\n",
              "      <td>Sasha DLH</td>\n",
              "      <td>[0, 0]</td>\n",
              "      <td>I've purchased this because the size and confi...</td>\n",
              "      <td>5.0</td>\n",
              "      <td>Comfy Chaise!</td>\n",
              "      <td>1405641600</td>\n",
              "      <td>07 18, 2014</td>\n",
              "    </tr>\n",
              "    <tr>\n",
              "      <th>993488</th>\n",
              "      <td>A34KTJ4VWNBOHI</td>\n",
              "      <td>B00LW2Z4NS</td>\n",
              "      <td>Stina</td>\n",
              "      <td>[0, 0]</td>\n",
              "      <td>This chaise is perfect for the entire family. ...</td>\n",
              "      <td>5.0</td>\n",
              "      <td>Great for the Entire Family</td>\n",
              "      <td>1405900800</td>\n",
              "      <td>07 21, 2014</td>\n",
              "    </tr>\n",
              "    <tr>\n",
              "      <th>993489</th>\n",
              "      <td>A4XPE5UGK51IA</td>\n",
              "      <td>B00LW2Z4NS</td>\n",
              "      <td>Tia Scott</td>\n",
              "      <td>[0, 0]</td>\n",
              "      <td>This chaise is really making our summer right ...</td>\n",
              "      <td>5.0</td>\n",
              "      <td>Really glad I bought this</td>\n",
              "      <td>1405900800</td>\n",
              "      <td>07 21, 2014</td>\n",
              "    </tr>\n",
              "  </tbody>\n",
              "</table>\n",
              "</div>"
            ],
            "text/plain": [
              "            reviewerID        asin  ... unixReviewTime   reviewTime\n",
              "993485  A2G7RZI15ZPCTH  B00LW2Z4NS  ...     1405641600  07 18, 2014\n",
              "993486  A2V247ZQT9OJIT  B00LW2Z4NS  ...     1405900800  07 21, 2014\n",
              "993487   AF30DHAVSYNZ0  B00LW2Z4NS  ...     1405641600  07 18, 2014\n",
              "993488  A34KTJ4VWNBOHI  B00LW2Z4NS  ...     1405900800  07 21, 2014\n",
              "993489   A4XPE5UGK51IA  B00LW2Z4NS  ...     1405900800  07 21, 2014\n",
              "\n",
              "[5 rows x 9 columns]"
            ]
          },
          "metadata": {
            "tags": []
          },
          "execution_count": 7
        }
      ]
    },
    {
      "cell_type": "code",
      "metadata": {
        "id": "r6NXzNx2d-BJ",
        "colab_type": "code",
        "colab": {}
      },
      "source": [
        "df.to_csv('reviews_samples.csv')\n",
        "!cp reviews_samples.csv drive/My\\ Drive/"
      ],
      "execution_count": 0,
      "outputs": []
    },
    {
      "cell_type": "code",
      "metadata": {
        "id": "RQFOIFdyeA0n",
        "colab_type": "code",
        "colab": {}
      },
      "source": [
        "df = pd.read_csv('/content/drive/My Drive/reviews_samples.csv', nrows = 100000)"
      ],
      "execution_count": 0,
      "outputs": []
    },
    {
      "cell_type": "code",
      "metadata": {
        "id": "vbS2JLqAe1tY",
        "colab_type": "code",
        "outputId": "6a1aeb6e-4a8c-481b-8736-88f5340746bf",
        "colab": {
          "base_uri": "https://localhost:8080/",
          "height": 289
        }
      },
      "source": [
        "df.tail(5)"
      ],
      "execution_count": 0,
      "outputs": [
        {
          "output_type": "execute_result",
          "data": {
            "text/html": [
              "<div>\n",
              "<style scoped>\n",
              "    .dataframe tbody tr th:only-of-type {\n",
              "        vertical-align: middle;\n",
              "    }\n",
              "\n",
              "    .dataframe tbody tr th {\n",
              "        vertical-align: top;\n",
              "    }\n",
              "\n",
              "    .dataframe thead th {\n",
              "        text-align: right;\n",
              "    }\n",
              "</style>\n",
              "<table border=\"1\" class=\"dataframe\">\n",
              "  <thead>\n",
              "    <tr style=\"text-align: right;\">\n",
              "      <th></th>\n",
              "      <th>Unnamed: 0</th>\n",
              "      <th>reviewerID</th>\n",
              "      <th>asin</th>\n",
              "      <th>reviewerName</th>\n",
              "      <th>helpful</th>\n",
              "      <th>reviewText</th>\n",
              "      <th>overall</th>\n",
              "      <th>summary</th>\n",
              "      <th>unixReviewTime</th>\n",
              "      <th>reviewTime</th>\n",
              "    </tr>\n",
              "  </thead>\n",
              "  <tbody>\n",
              "    <tr>\n",
              "      <th>99995</th>\n",
              "      <td>99995</td>\n",
              "      <td>AWEZJAVAFA1FM</td>\n",
              "      <td>B000637NQU</td>\n",
              "      <td>Brad GK</td>\n",
              "      <td>[1, 1]</td>\n",
              "      <td>Worked great this winter, kept ice from area o...</td>\n",
              "      <td>5.0</td>\n",
              "      <td>Worked great</td>\n",
              "      <td>1366243200</td>\n",
              "      <td>04 18, 2013</td>\n",
              "    </tr>\n",
              "    <tr>\n",
              "      <th>99996</th>\n",
              "      <td>99996</td>\n",
              "      <td>A1TX7W20R3JAZY</td>\n",
              "      <td>B000637NQU</td>\n",
              "      <td>Brenda J Anderson</td>\n",
              "      <td>[0, 0]</td>\n",
              "      <td>According to the write up this was to keep our...</td>\n",
              "      <td>1.0</td>\n",
              "      <td>Didnt do the job</td>\n",
              "      <td>1365292800</td>\n",
              "      <td>04 7, 2013</td>\n",
              "    </tr>\n",
              "    <tr>\n",
              "      <th>99997</th>\n",
              "      <td>99997</td>\n",
              "      <td>A1QK5F6DBSTAXO</td>\n",
              "      <td>B000637NQU</td>\n",
              "      <td>Brian430</td>\n",
              "      <td>[0, 0]</td>\n",
              "      <td>I would not recommend this heater to anyone. I...</td>\n",
              "      <td>1.0</td>\n",
              "      <td>Worst pond heater ever</td>\n",
              "      <td>1387238400</td>\n",
              "      <td>12 17, 2013</td>\n",
              "    </tr>\n",
              "    <tr>\n",
              "      <th>99998</th>\n",
              "      <td>99998</td>\n",
              "      <td>A2AV9935D0N72O</td>\n",
              "      <td>B000637NQU</td>\n",
              "      <td>buffalochip \"chip\"</td>\n",
              "      <td>[2, 2]</td>\n",
              "      <td>Keeps hole open in ice. If you have a heavy sn...</td>\n",
              "      <td>4.0</td>\n",
              "      <td>works for me</td>\n",
              "      <td>1294358400</td>\n",
              "      <td>01 7, 2011</td>\n",
              "    </tr>\n",
              "    <tr>\n",
              "      <th>99999</th>\n",
              "      <td>99999</td>\n",
              "      <td>A1SOIZ1VODXIJ6</td>\n",
              "      <td>B000637NQU</td>\n",
              "      <td>bugmuse</td>\n",
              "      <td>[1, 1]</td>\n",
              "      <td>When I decided on this pond heater - I'm think...</td>\n",
              "      <td>5.0</td>\n",
              "      <td>100 watts VS 1250 watts</td>\n",
              "      <td>1332115200</td>\n",
              "      <td>03 19, 2012</td>\n",
              "    </tr>\n",
              "  </tbody>\n",
              "</table>\n",
              "</div>"
            ],
            "text/plain": [
              "       Unnamed: 0      reviewerID  ... unixReviewTime   reviewTime\n",
              "99995       99995   AWEZJAVAFA1FM  ...     1366243200  04 18, 2013\n",
              "99996       99996  A1TX7W20R3JAZY  ...     1365292800   04 7, 2013\n",
              "99997       99997  A1QK5F6DBSTAXO  ...     1387238400  12 17, 2013\n",
              "99998       99998  A2AV9935D0N72O  ...     1294358400   01 7, 2011\n",
              "99999       99999  A1SOIZ1VODXIJ6  ...     1332115200  03 19, 2012\n",
              "\n",
              "[5 rows x 10 columns]"
            ]
          },
          "metadata": {
            "tags": []
          },
          "execution_count": 20
        }
      ]
    },
    {
      "cell_type": "code",
      "metadata": {
        "id": "u5J4ElGwe4xu",
        "colab_type": "code",
        "outputId": "7422c28f-b3a1-4969-cb4c-fcdc1e073305",
        "colab": {
          "base_uri": "https://localhost:8080/",
          "height": 187
        }
      },
      "source": [
        "list(df.columns.values)"
      ],
      "execution_count": 0,
      "outputs": [
        {
          "output_type": "execute_result",
          "data": {
            "text/plain": [
              "['Unnamed: 0',\n",
              " 'reviewerID',\n",
              " 'asin',\n",
              " 'reviewerName',\n",
              " 'helpful',\n",
              " 'reviewText',\n",
              " 'overall',\n",
              " 'summary',\n",
              " 'unixReviewTime',\n",
              " 'reviewTime']"
            ]
          },
          "metadata": {
            "tags": []
          },
          "execution_count": 21
        }
      ]
    },
    {
      "cell_type": "code",
      "metadata": {
        "id": "kA_fsa8me4o7",
        "colab_type": "code",
        "colab": {}
      },
      "source": [
        "df = df.drop(columns=['reviewerName', 'asin','helpful','unixReviewTime','reviewTime','reviewerID','summary'])\n",
        "#df = df.drop(columns='summary') #Do it with the above drop.Had to re-do it as I had forgotten it in the above step"
      ],
      "execution_count": 0,
      "outputs": []
    },
    {
      "cell_type": "code",
      "metadata": {
        "id": "RPgLWLVWe42Q",
        "colab_type": "code",
        "outputId": "b0879242-1457-415d-99d1-106c2f6bb729",
        "colab": {
          "base_uri": "https://localhost:8080/",
          "height": 204
        }
      },
      "source": [
        "df.head(5)\n",
        "#df.dtypes\n",
        "#type(df.reviewText)"
      ],
      "execution_count": 0,
      "outputs": [
        {
          "output_type": "execute_result",
          "data": {
            "text/html": [
              "<div>\n",
              "<style scoped>\n",
              "    .dataframe tbody tr th:only-of-type {\n",
              "        vertical-align: middle;\n",
              "    }\n",
              "\n",
              "    .dataframe tbody tr th {\n",
              "        vertical-align: top;\n",
              "    }\n",
              "\n",
              "    .dataframe thead th {\n",
              "        text-align: right;\n",
              "    }\n",
              "</style>\n",
              "<table border=\"1\" class=\"dataframe\">\n",
              "  <thead>\n",
              "    <tr style=\"text-align: right;\">\n",
              "      <th></th>\n",
              "      <th>Unnamed: 0</th>\n",
              "      <th>reviewText</th>\n",
              "      <th>overall</th>\n",
              "    </tr>\n",
              "  </thead>\n",
              "  <tbody>\n",
              "    <tr>\n",
              "      <th>0</th>\n",
              "      <td>0</td>\n",
              "      <td>This was a gift for my other husband.  He's ma...</td>\n",
              "      <td>5.0</td>\n",
              "    </tr>\n",
              "    <tr>\n",
              "      <th>1</th>\n",
              "      <td>1</td>\n",
              "      <td>My husband rarely asks for anything specific, ...</td>\n",
              "      <td>5.0</td>\n",
              "    </tr>\n",
              "    <tr>\n",
              "      <th>2</th>\n",
              "      <td>2</td>\n",
              "      <td>This guy knows his stuff. I love the seriously...</td>\n",
              "      <td>5.0</td>\n",
              "    </tr>\n",
              "    <tr>\n",
              "      <th>3</th>\n",
              "      <td>3</td>\n",
              "      <td>THIS CAN BE FOUND AT: [...] FOR $19.99, also a...</td>\n",
              "      <td>5.0</td>\n",
              "    </tr>\n",
              "    <tr>\n",
              "      <th>4</th>\n",
              "      <td>4</td>\n",
              "      <td>Quite good particularly for inspiration (DVD g...</td>\n",
              "      <td>5.0</td>\n",
              "    </tr>\n",
              "  </tbody>\n",
              "</table>\n",
              "</div>"
            ],
            "text/plain": [
              "   Unnamed: 0                                         reviewText  overall\n",
              "0           0  This was a gift for my other husband.  He's ma...      5.0\n",
              "1           1  My husband rarely asks for anything specific, ...      5.0\n",
              "2           2  This guy knows his stuff. I love the seriously...      5.0\n",
              "3           3  THIS CAN BE FOUND AT: [...] FOR $19.99, also a...      5.0\n",
              "4           4  Quite good particularly for inspiration (DVD g...      5.0"
            ]
          },
          "metadata": {
            "tags": []
          },
          "execution_count": 25
        }
      ]
    },
    {
      "cell_type": "code",
      "metadata": {
        "id": "4hQxpEbFe4_K",
        "colab_type": "code",
        "outputId": "c5771947-13c3-4f9c-b7d2-c596973c3477",
        "colab": {
          "base_uri": "https://localhost:8080/",
          "height": 136
        }
      },
      "source": [
        "df_stats = df.groupby(['overall']).size() #Get number of reviews per rating level\n",
        "df_stats.head()"
      ],
      "execution_count": 0,
      "outputs": [
        {
          "output_type": "execute_result",
          "data": {
            "text/plain": [
              "overall\n",
              "1.0    11308\n",
              "2.0     5527\n",
              "3.0     7746\n",
              "4.0    18358\n",
              "5.0    57061\n",
              "dtype: int64"
            ]
          },
          "metadata": {
            "tags": []
          },
          "execution_count": 26
        }
      ]
    },
    {
      "cell_type": "code",
      "metadata": {
        "id": "YujtdODyCZPE",
        "colab_type": "code",
        "outputId": "e8af4618-3a78-405d-c988-59a4417f3513",
        "colab": {
          "base_uri": "https://localhost:8080/",
          "height": 136
        }
      },
      "source": [
        "print(df.groupby('overall')['reviewText'].nunique())"
      ],
      "execution_count": 0,
      "outputs": [
        {
          "output_type": "stream",
          "text": [
            "overall\n",
            "1.0    11303\n",
            "2.0     5522\n",
            "3.0     7740\n",
            "4.0    18341\n",
            "5.0    56976\n",
            "Name: reviewText, dtype: int64\n"
          ],
          "name": "stdout"
        }
      ]
    },
    {
      "cell_type": "code",
      "metadata": {
        "id": "b7aH11LNAvs0",
        "colab_type": "code",
        "outputId": "80dcfabd-acb3-4f45-e777-3d73e38b9d50",
        "colab": {
          "base_uri": "https://localhost:8080/",
          "height": 204
        }
      },
      "source": [
        "df_reviews = df[['reviewText']]\n",
        "df_reviews.head()"
      ],
      "execution_count": 0,
      "outputs": [
        {
          "output_type": "execute_result",
          "data": {
            "text/html": [
              "<div>\n",
              "<style scoped>\n",
              "    .dataframe tbody tr th:only-of-type {\n",
              "        vertical-align: middle;\n",
              "    }\n",
              "\n",
              "    .dataframe tbody tr th {\n",
              "        vertical-align: top;\n",
              "    }\n",
              "\n",
              "    .dataframe thead th {\n",
              "        text-align: right;\n",
              "    }\n",
              "</style>\n",
              "<table border=\"1\" class=\"dataframe\">\n",
              "  <thead>\n",
              "    <tr style=\"text-align: right;\">\n",
              "      <th></th>\n",
              "      <th>reviewText</th>\n",
              "    </tr>\n",
              "  </thead>\n",
              "  <tbody>\n",
              "    <tr>\n",
              "      <th>0</th>\n",
              "      <td>This was a gift for my other husband.  He's ma...</td>\n",
              "    </tr>\n",
              "    <tr>\n",
              "      <th>1</th>\n",
              "      <td>My husband rarely asks for anything specific, ...</td>\n",
              "    </tr>\n",
              "    <tr>\n",
              "      <th>2</th>\n",
              "      <td>This guy knows his stuff. I love the seriously...</td>\n",
              "    </tr>\n",
              "    <tr>\n",
              "      <th>3</th>\n",
              "      <td>THIS CAN BE FOUND AT: [...] FOR $19.99, also a...</td>\n",
              "    </tr>\n",
              "    <tr>\n",
              "      <th>4</th>\n",
              "      <td>Quite good particularly for inspiration (DVD g...</td>\n",
              "    </tr>\n",
              "  </tbody>\n",
              "</table>\n",
              "</div>"
            ],
            "text/plain": [
              "                                          reviewText\n",
              "0  This was a gift for my other husband.  He's ma...\n",
              "1  My husband rarely asks for anything specific, ...\n",
              "2  This guy knows his stuff. I love the seriously...\n",
              "3  THIS CAN BE FOUND AT: [...] FOR $19.99, also a...\n",
              "4  Quite good particularly for inspiration (DVD g..."
            ]
          },
          "metadata": {
            "tags": []
          },
          "execution_count": 28
        }
      ]
    },
    {
      "cell_type": "code",
      "metadata": {
        "id": "pTOT5CKGP3AH",
        "colab_type": "code",
        "colab": {}
      },
      "source": [
        "for i, j in df_reviews.iterrows(): \n",
        "    print(i, j) \n",
        "    print(df_reviews.dtypes) "
      ],
      "execution_count": 0,
      "outputs": []
    },
    {
      "cell_type": "code",
      "metadata": {
        "id": "7-jiohki_xZ_",
        "colab_type": "code",
        "outputId": "f1465658-6ff0-470b-bb2d-6ad1222374ca",
        "colab": {
          "base_uri": "https://localhost:8080/",
          "height": 85
        }
      },
      "source": [
        "import numpy as np\n",
        "import nltk\n",
        "nltk.download('stopwords')\n",
        "nltk.download('punkt')\n",
        "import re  \n",
        "from nltk.corpus import stopwords\n",
        "stops1 = set(stopwords.words(\"english\"))\n",
        "\n",
        "def clean_sent(sent):\n",
        "    sent = sent.lower()\n",
        "    sent = re.sub(u'[_\"\\-;%()|+&=*%.,!?:#$@\\[\\]/]',' ',sent)\n",
        "    return sent\n",
        "def clean(df):\n",
        "    df['reviewText'] = df.reviewText.map(lambda x: ' '.join([ word for word in\n",
        "                                                         nltk.word_tokenize(clean_sent(x))]).encode('utf-8'))\n",
        "\n",
        "    \n",
        "def removeStopWords(df, stop):\n",
        "\tdf['reviewText'] = df.reviewText.map(lambda x: ' '.join([word for word in nltk.word_tokenize(x.decode('utf-8'))\n",
        "                                                         if word not in stop]).encode('utf-8'))\n",
        "\t"
      ],
      "execution_count": 0,
      "outputs": [
        {
          "output_type": "stream",
          "text": [
            "[nltk_data] Downloading package stopwords to /root/nltk_data...\n",
            "[nltk_data]   Package stopwords is already up-to-date!\n",
            "[nltk_data] Downloading package punkt to /root/nltk_data...\n",
            "[nltk_data]   Package punkt is already up-to-date!\n"
          ],
          "name": "stdout"
        }
      ]
    },
    {
      "cell_type": "code",
      "metadata": {
        "id": "hBBodxUBNHfZ",
        "colab_type": "code",
        "colab": {}
      },
      "source": [
        "#df['reviewText'] = df['reviewText'].apply(lambda x: x.lower() if pd.notnull(x) else x)\n",
        "clean(df)\n",
        "removeStopWords(df, stops1)"
      ],
      "execution_count": 0,
      "outputs": []
    },
    {
      "cell_type": "code",
      "metadata": {
        "id": "wo1wm9Mz7Oru",
        "colab_type": "code",
        "outputId": "f805dd2c-e49f-4ec7-cc20-591ba6da6c26",
        "colab": {
          "base_uri": "https://localhost:8080/",
          "height": 1000
        }
      },
      "source": [
        "df.reviewText.str.split(expand=True).stack().value_counts()"
      ],
      "execution_count": 0,
      "outputs": [
        {
          "output_type": "execute_result",
          "data": {
            "text/plain": [
              "the                        383945\n",
              "to                         222118\n",
              "and                        221286\n",
              "I                          221209\n",
              "a                          201527\n",
              "it                         150233\n",
              "of                         121336\n",
              "is                         112402\n",
              "for                         93798\n",
              "in                          84637\n",
              "this                        82329\n",
              "that                        67679\n",
              "have                        66435\n",
              "with                        63916\n",
              "my                          61087\n",
              "on                          58221\n",
              "was                         56287\n",
              "you                         48991\n",
              "but                         48449\n",
              "not                         46161\n",
              "The                         43964\n",
              "as                          39475\n",
              "so                          34164\n",
              "It                          33635\n",
              "are                         33358\n",
              "be                          32634\n",
              "one                         32554\n",
              "had                         30385\n",
              "very                        27775\n",
              "This                        27748\n",
              "                            ...  \n",
              "ghost-hunt                      1\n",
              "Peanut,                         1\n",
              "paint/powder                    1\n",
              "magnifica                       1\n",
              "minutes.Weedwacker              1\n",
              "needed.Update,September         1\n",
              "campsites,                      1\n",
              "reviews--then                   1\n",
              "having)Bottom                   1\n",
              "\"earthy\"                        1\n",
              "hours.6.                        1\n",
              "flee.                           1\n",
              "support).Oh,                    1\n",
              "\"canning                        1\n",
              "fluffs                          1\n",
              "Hedger.                         1\n",
              "cuttings!                       1\n",
              "heaviness.                      1\n",
              "Dummies\"                        1\n",
              "diarrheal                       1\n",
              "however!!!!                     1\n",
              "moron.                          1\n",
              "areas.Negatives                 1\n",
              "sqirrels!!                      1\n",
              "REASON,                         1\n",
              "-away                           1\n",
              "'tee'                           1\n",
              "break/scrunch                   1\n",
              "order)!                         1\n",
              "necssary                        1\n",
              "Length: 240870, dtype: int64"
            ]
          },
          "metadata": {
            "tags": []
          },
          "execution_count": 12
        }
      ]
    },
    {
      "cell_type": "code",
      "metadata": {
        "id": "pZiTYkmIe5r8",
        "colab_type": "code",
        "outputId": "f27fd4ac-f29f-45ad-8230-6dde4b95d867",
        "colab": {
          "base_uri": "https://localhost:8080/",
          "height": 408
        }
      },
      "source": [
        "import nltk\n",
        "nltk.download('punkt')\n",
        "  \n",
        "top_N = 20\n",
        "a = df['reviewText'].str.cat(sep=' ')\n",
        "words = nltk.tokenize.word_tokenize(a)\n",
        "word_dist = nltk.FreqDist(words)\n",
        "rslt = pd.DataFrame(word_dist.most_common(top_N),\n",
        "                    columns=['reviewText','summary'])\n",
        "print(rslt)"
      ],
      "execution_count": 0,
      "outputs": [
        {
          "output_type": "stream",
          "text": [
            "[nltk_data] Downloading package punkt to /root/nltk_data...\n",
            "[nltk_data]   Package punkt is already up-to-date!\n",
            "   reviewText  summary\n",
            "0           .   438381\n",
            "1         the   385210\n",
            "2           ,   253664\n",
            "3           I   248397\n",
            "4         and   223772\n",
            "5          to   223402\n",
            "6           a   202086\n",
            "7          it   187874\n",
            "8          of   121790\n",
            "9          is   116033\n",
            "10        for    95576\n",
            "11         in    86927\n",
            "12       this    85766\n",
            "13       that    72505\n",
            "14       have    69260\n",
            "15       with    65102\n",
            "16         my    61362\n",
            "17         on    60653\n",
            "18        was    58572\n",
            "19        you    55363\n"
          ],
          "name": "stdout"
        }
      ]
    },
    {
      "cell_type": "code",
      "metadata": {
        "id": "JIq1pTaLe5DU",
        "colab_type": "code",
        "colab": {}
      },
      "source": [
        "from itertools import islice\n",
        "fileContents = defaultdict(list)\n",
        "with open('/content/drive/My Drive/reviews_samples.csv', 'r') as f:\n",
        "    reader = csv.DictReader(f)\n",
        "    for row in islice(reader, 100000): # read a row as {column1: value1, column2: value2,...}\n",
        "        for (k,v) in row.items(): # go over each column name and value \n",
        "            fileContents[k].append(v) # append the value into the appropriate list"
      ],
      "execution_count": 0,
      "outputs": []
    },
    {
      "cell_type": "code",
      "metadata": {
        "id": "SNSovMFZe5MR",
        "colab_type": "code",
        "colab": {}
      },
      "source": [
        "reviews = fileContents['reviewText']"
      ],
      "execution_count": 0,
      "outputs": []
    },
    {
      "cell_type": "code",
      "metadata": {
        "id": "zvF3h2eLe5Q4",
        "colab_type": "code",
        "colab": {}
      },
      "source": [
        "reviews = [re.sub(r'[^\\w\\s]','',str(item)) for item in reviews]"
      ],
      "execution_count": 0,
      "outputs": []
    },
    {
      "cell_type": "code",
      "metadata": {
        "id": "2_st5gGIe5Vr",
        "colab_type": "code",
        "colab": {}
      },
      "source": [
        "stopwords = set(stopwords.words('english'))"
      ],
      "execution_count": 0,
      "outputs": []
    },
    {
      "cell_type": "code",
      "metadata": {
        "id": "T5WHHRzXe5aa",
        "colab_type": "code",
        "colab": {}
      },
      "source": [
        "texts = [[word for word in document.lower().split() if word not in stopwords] for document in reviews]"
      ],
      "execution_count": 0,
      "outputs": []
    },
    {
      "cell_type": "code",
      "metadata": {
        "id": "O_l-iytPe5hY",
        "colab_type": "code",
        "outputId": "6d42d1cc-03be-4b21-9477-09c9ba88f6cf",
        "colab": {
          "base_uri": "https://localhost:8080/",
          "height": 34
        }
      },
      "source": [
        "type(texts)"
      ],
      "execution_count": 0,
      "outputs": [
        {
          "output_type": "execute_result",
          "data": {
            "text/plain": [
              "list"
            ]
          },
          "metadata": {
            "tags": []
          },
          "execution_count": 42
        }
      ]
    },
    {
      "cell_type": "code",
      "metadata": {
        "id": "bM-0A4kde5kJ",
        "colab_type": "code",
        "colab": {}
      },
      "source": [
        "df_reviews= pd.DataFrame(texts)"
      ],
      "execution_count": 0,
      "outputs": []
    },
    {
      "cell_type": "code",
      "metadata": {
        "id": "u96ODmwce5o4",
        "colab_type": "code",
        "outputId": "09496fda-85b4-4d75-b145-0a26fd51a7ad",
        "colab": {
          "base_uri": "https://localhost:8080/",
          "height": 253
        }
      },
      "source": [
        "df_reviews.head()\n",
        "#df_reviews.str.split(expand=True).stack().value_counts()"
      ],
      "execution_count": 0,
      "outputs": [
        {
          "output_type": "execute_result",
          "data": {
            "text/html": [
              "<div>\n",
              "<style scoped>\n",
              "    .dataframe tbody tr th:only-of-type {\n",
              "        vertical-align: middle;\n",
              "    }\n",
              "\n",
              "    .dataframe tbody tr th {\n",
              "        vertical-align: top;\n",
              "    }\n",
              "\n",
              "    .dataframe thead th {\n",
              "        text-align: right;\n",
              "    }\n",
              "</style>\n",
              "<table border=\"1\" class=\"dataframe\">\n",
              "  <thead>\n",
              "    <tr style=\"text-align: right;\">\n",
              "      <th></th>\n",
              "      <th>0</th>\n",
              "      <th>1</th>\n",
              "      <th>2</th>\n",
              "      <th>3</th>\n",
              "      <th>4</th>\n",
              "      <th>5</th>\n",
              "      <th>6</th>\n",
              "      <th>7</th>\n",
              "      <th>8</th>\n",
              "      <th>9</th>\n",
              "      <th>10</th>\n",
              "      <th>11</th>\n",
              "      <th>12</th>\n",
              "      <th>13</th>\n",
              "      <th>14</th>\n",
              "      <th>15</th>\n",
              "      <th>16</th>\n",
              "      <th>17</th>\n",
              "      <th>18</th>\n",
              "      <th>19</th>\n",
              "      <th>20</th>\n",
              "      <th>21</th>\n",
              "      <th>22</th>\n",
              "      <th>23</th>\n",
              "      <th>24</th>\n",
              "      <th>25</th>\n",
              "      <th>26</th>\n",
              "      <th>27</th>\n",
              "      <th>28</th>\n",
              "      <th>29</th>\n",
              "      <th>30</th>\n",
              "      <th>31</th>\n",
              "      <th>32</th>\n",
              "      <th>33</th>\n",
              "      <th>34</th>\n",
              "      <th>35</th>\n",
              "      <th>36</th>\n",
              "      <th>37</th>\n",
              "      <th>38</th>\n",
              "      <th>39</th>\n",
              "      <th>...</th>\n",
              "      <th>3134</th>\n",
              "      <th>3135</th>\n",
              "      <th>3136</th>\n",
              "      <th>3137</th>\n",
              "      <th>3138</th>\n",
              "      <th>3139</th>\n",
              "      <th>3140</th>\n",
              "      <th>3141</th>\n",
              "      <th>3142</th>\n",
              "      <th>3143</th>\n",
              "      <th>3144</th>\n",
              "      <th>3145</th>\n",
              "      <th>3146</th>\n",
              "      <th>3147</th>\n",
              "      <th>3148</th>\n",
              "      <th>3149</th>\n",
              "      <th>3150</th>\n",
              "      <th>3151</th>\n",
              "      <th>3152</th>\n",
              "      <th>3153</th>\n",
              "      <th>3154</th>\n",
              "      <th>3155</th>\n",
              "      <th>3156</th>\n",
              "      <th>3157</th>\n",
              "      <th>3158</th>\n",
              "      <th>3159</th>\n",
              "      <th>3160</th>\n",
              "      <th>3161</th>\n",
              "      <th>3162</th>\n",
              "      <th>3163</th>\n",
              "      <th>3164</th>\n",
              "      <th>3165</th>\n",
              "      <th>3166</th>\n",
              "      <th>3167</th>\n",
              "      <th>3168</th>\n",
              "      <th>3169</th>\n",
              "      <th>3170</th>\n",
              "      <th>3171</th>\n",
              "      <th>3172</th>\n",
              "      <th>3173</th>\n",
              "    </tr>\n",
              "  </thead>\n",
              "  <tbody>\n",
              "    <tr>\n",
              "      <th>0</th>\n",
              "      <td>gift</td>\n",
              "      <td>husband</td>\n",
              "      <td>hes</td>\n",
              "      <td>making</td>\n",
              "      <td>us</td>\n",
              "      <td>things</td>\n",
              "      <td>time</td>\n",
              "      <td>love</td>\n",
              "      <td>food</td>\n",
              "      <td>directions</td>\n",
              "      <td>simple</td>\n",
              "      <td>easy</td>\n",
              "      <td>read</td>\n",
              "      <td>interpret</td>\n",
              "      <td>fun</td>\n",
              "      <td>make</td>\n",
              "      <td>love</td>\n",
              "      <td>different</td>\n",
              "      <td>kinds</td>\n",
              "      <td>cuisine</td>\n",
              "      <td>raichlen</td>\n",
              "      <td>provides</td>\n",
              "      <td>recipes</td>\n",
              "      <td>everywhere</td>\n",
              "      <td>along</td>\n",
              "      <td>barbecue</td>\n",
              "      <td>trail</td>\n",
              "      <td>calls</td>\n",
              "      <td>get</td>\n",
              "      <td>open</td>\n",
              "      <td>page</td>\n",
              "      <td>youll</td>\n",
              "      <td>love</td>\n",
              "      <td>food</td>\n",
              "      <td>provided</td>\n",
              "      <td>us</td>\n",
              "      <td>insight</td>\n",
              "      <td>culture</td>\n",
              "      <td>produced</td>\n",
              "      <td>broadening</td>\n",
              "      <td>...</td>\n",
              "      <td>None</td>\n",
              "      <td>None</td>\n",
              "      <td>None</td>\n",
              "      <td>None</td>\n",
              "      <td>None</td>\n",
              "      <td>None</td>\n",
              "      <td>None</td>\n",
              "      <td>None</td>\n",
              "      <td>None</td>\n",
              "      <td>None</td>\n",
              "      <td>None</td>\n",
              "      <td>None</td>\n",
              "      <td>None</td>\n",
              "      <td>None</td>\n",
              "      <td>None</td>\n",
              "      <td>None</td>\n",
              "      <td>None</td>\n",
              "      <td>None</td>\n",
              "      <td>None</td>\n",
              "      <td>None</td>\n",
              "      <td>None</td>\n",
              "      <td>None</td>\n",
              "      <td>None</td>\n",
              "      <td>None</td>\n",
              "      <td>None</td>\n",
              "      <td>None</td>\n",
              "      <td>None</td>\n",
              "      <td>None</td>\n",
              "      <td>None</td>\n",
              "      <td>None</td>\n",
              "      <td>None</td>\n",
              "      <td>None</td>\n",
              "      <td>None</td>\n",
              "      <td>None</td>\n",
              "      <td>None</td>\n",
              "      <td>None</td>\n",
              "      <td>None</td>\n",
              "      <td>None</td>\n",
              "      <td>None</td>\n",
              "      <td>None</td>\n",
              "    </tr>\n",
              "    <tr>\n",
              "      <th>1</th>\n",
              "      <td>husband</td>\n",
              "      <td>rarely</td>\n",
              "      <td>asks</td>\n",
              "      <td>anything</td>\n",
              "      <td>specific</td>\n",
              "      <td>really</td>\n",
              "      <td>liked</td>\n",
              "      <td>show</td>\n",
              "      <td>glad</td>\n",
              "      <td>could</td>\n",
              "      <td>find</td>\n",
              "      <td>happy</td>\n",
              "      <td>found</td>\n",
              "      <td>None</td>\n",
              "      <td>None</td>\n",
              "      <td>None</td>\n",
              "      <td>None</td>\n",
              "      <td>None</td>\n",
              "      <td>None</td>\n",
              "      <td>None</td>\n",
              "      <td>None</td>\n",
              "      <td>None</td>\n",
              "      <td>None</td>\n",
              "      <td>None</td>\n",
              "      <td>None</td>\n",
              "      <td>None</td>\n",
              "      <td>None</td>\n",
              "      <td>None</td>\n",
              "      <td>None</td>\n",
              "      <td>None</td>\n",
              "      <td>None</td>\n",
              "      <td>None</td>\n",
              "      <td>None</td>\n",
              "      <td>None</td>\n",
              "      <td>None</td>\n",
              "      <td>None</td>\n",
              "      <td>None</td>\n",
              "      <td>None</td>\n",
              "      <td>None</td>\n",
              "      <td>None</td>\n",
              "      <td>...</td>\n",
              "      <td>None</td>\n",
              "      <td>None</td>\n",
              "      <td>None</td>\n",
              "      <td>None</td>\n",
              "      <td>None</td>\n",
              "      <td>None</td>\n",
              "      <td>None</td>\n",
              "      <td>None</td>\n",
              "      <td>None</td>\n",
              "      <td>None</td>\n",
              "      <td>None</td>\n",
              "      <td>None</td>\n",
              "      <td>None</td>\n",
              "      <td>None</td>\n",
              "      <td>None</td>\n",
              "      <td>None</td>\n",
              "      <td>None</td>\n",
              "      <td>None</td>\n",
              "      <td>None</td>\n",
              "      <td>None</td>\n",
              "      <td>None</td>\n",
              "      <td>None</td>\n",
              "      <td>None</td>\n",
              "      <td>None</td>\n",
              "      <td>None</td>\n",
              "      <td>None</td>\n",
              "      <td>None</td>\n",
              "      <td>None</td>\n",
              "      <td>None</td>\n",
              "      <td>None</td>\n",
              "      <td>None</td>\n",
              "      <td>None</td>\n",
              "      <td>None</td>\n",
              "      <td>None</td>\n",
              "      <td>None</td>\n",
              "      <td>None</td>\n",
              "      <td>None</td>\n",
              "      <td>None</td>\n",
              "      <td>None</td>\n",
              "      <td>None</td>\n",
              "    </tr>\n",
              "    <tr>\n",
              "      <th>2</th>\n",
              "      <td>guy</td>\n",
              "      <td>knows</td>\n",
              "      <td>stuff</td>\n",
              "      <td>love</td>\n",
              "      <td>seriously</td>\n",
              "      <td>step</td>\n",
              "      <td>step</td>\n",
              "      <td>approach</td>\n",
              "      <td>real</td>\n",
              "      <td>food</td>\n",
              "      <td>cooked</td>\n",
              "      <td>right</td>\n",
              "      <td>good</td>\n",
              "      <td>bought</td>\n",
              "      <td>second</td>\n",
              "      <td>one</td>\n",
              "      <td>well</td>\n",
              "      <td>None</td>\n",
              "      <td>None</td>\n",
              "      <td>None</td>\n",
              "      <td>None</td>\n",
              "      <td>None</td>\n",
              "      <td>None</td>\n",
              "      <td>None</td>\n",
              "      <td>None</td>\n",
              "      <td>None</td>\n",
              "      <td>None</td>\n",
              "      <td>None</td>\n",
              "      <td>None</td>\n",
              "      <td>None</td>\n",
              "      <td>None</td>\n",
              "      <td>None</td>\n",
              "      <td>None</td>\n",
              "      <td>None</td>\n",
              "      <td>None</td>\n",
              "      <td>None</td>\n",
              "      <td>None</td>\n",
              "      <td>None</td>\n",
              "      <td>None</td>\n",
              "      <td>None</td>\n",
              "      <td>...</td>\n",
              "      <td>None</td>\n",
              "      <td>None</td>\n",
              "      <td>None</td>\n",
              "      <td>None</td>\n",
              "      <td>None</td>\n",
              "      <td>None</td>\n",
              "      <td>None</td>\n",
              "      <td>None</td>\n",
              "      <td>None</td>\n",
              "      <td>None</td>\n",
              "      <td>None</td>\n",
              "      <td>None</td>\n",
              "      <td>None</td>\n",
              "      <td>None</td>\n",
              "      <td>None</td>\n",
              "      <td>None</td>\n",
              "      <td>None</td>\n",
              "      <td>None</td>\n",
              "      <td>None</td>\n",
              "      <td>None</td>\n",
              "      <td>None</td>\n",
              "      <td>None</td>\n",
              "      <td>None</td>\n",
              "      <td>None</td>\n",
              "      <td>None</td>\n",
              "      <td>None</td>\n",
              "      <td>None</td>\n",
              "      <td>None</td>\n",
              "      <td>None</td>\n",
              "      <td>None</td>\n",
              "      <td>None</td>\n",
              "      <td>None</td>\n",
              "      <td>None</td>\n",
              "      <td>None</td>\n",
              "      <td>None</td>\n",
              "      <td>None</td>\n",
              "      <td>None</td>\n",
              "      <td>None</td>\n",
              "      <td>None</td>\n",
              "      <td>None</td>\n",
              "    </tr>\n",
              "    <tr>\n",
              "      <th>3</th>\n",
              "      <td>found</td>\n",
              "      <td>1999</td>\n",
              "      <td>also</td>\n",
              "      <td>issue</td>\n",
              "      <td>coming</td>\n",
              "      <td>10112011</td>\n",
              "      <td>steven</td>\n",
              "      <td>raichlen</td>\n",
              "      <td>master</td>\n",
              "      <td>anything</td>\n",
              "      <td>imparts</td>\n",
              "      <td>worth</td>\n",
              "      <td>dont</td>\n",
              "      <td>pay</td>\n",
              "      <td>nearly</td>\n",
              "      <td>100</td>\n",
              "      <td>something</td>\n",
              "      <td>get</td>\n",
              "      <td>20</td>\n",
              "      <td>like</td>\n",
              "      <td>support</td>\n",
              "      <td>free</td>\n",
              "      <td>enterprise</td>\n",
              "      <td>price</td>\n",
              "      <td>discrepancy</td>\n",
              "      <td>little</td>\n",
              "      <td>free</td>\n",
              "      <td>None</td>\n",
              "      <td>None</td>\n",
              "      <td>None</td>\n",
              "      <td>None</td>\n",
              "      <td>None</td>\n",
              "      <td>None</td>\n",
              "      <td>None</td>\n",
              "      <td>None</td>\n",
              "      <td>None</td>\n",
              "      <td>None</td>\n",
              "      <td>None</td>\n",
              "      <td>None</td>\n",
              "      <td>None</td>\n",
              "      <td>...</td>\n",
              "      <td>None</td>\n",
              "      <td>None</td>\n",
              "      <td>None</td>\n",
              "      <td>None</td>\n",
              "      <td>None</td>\n",
              "      <td>None</td>\n",
              "      <td>None</td>\n",
              "      <td>None</td>\n",
              "      <td>None</td>\n",
              "      <td>None</td>\n",
              "      <td>None</td>\n",
              "      <td>None</td>\n",
              "      <td>None</td>\n",
              "      <td>None</td>\n",
              "      <td>None</td>\n",
              "      <td>None</td>\n",
              "      <td>None</td>\n",
              "      <td>None</td>\n",
              "      <td>None</td>\n",
              "      <td>None</td>\n",
              "      <td>None</td>\n",
              "      <td>None</td>\n",
              "      <td>None</td>\n",
              "      <td>None</td>\n",
              "      <td>None</td>\n",
              "      <td>None</td>\n",
              "      <td>None</td>\n",
              "      <td>None</td>\n",
              "      <td>None</td>\n",
              "      <td>None</td>\n",
              "      <td>None</td>\n",
              "      <td>None</td>\n",
              "      <td>None</td>\n",
              "      <td>None</td>\n",
              "      <td>None</td>\n",
              "      <td>None</td>\n",
              "      <td>None</td>\n",
              "      <td>None</td>\n",
              "      <td>None</td>\n",
              "      <td>None</td>\n",
              "    </tr>\n",
              "    <tr>\n",
              "      <th>4</th>\n",
              "      <td>quite</td>\n",
              "      <td>good</td>\n",
              "      <td>particularly</td>\n",
              "      <td>inspiration</td>\n",
              "      <td>dvd</td>\n",
              "      <td>given</td>\n",
              "      <td>present</td>\n",
              "      <td>excellent</td>\n",
              "      <td>recipes</td>\n",
              "      <td>usually</td>\n",
              "      <td>also</td>\n",
              "      <td>available</td>\n",
              "      <td>websites</td>\n",
              "      <td>however</td>\n",
              "      <td>much</td>\n",
              "      <td>prefer</td>\n",
              "      <td>several</td>\n",
              "      <td>cookbooksin</td>\n",
              "      <td>particular</td>\n",
              "      <td>sauces</td>\n",
              "      <td>rubs</td>\n",
              "      <td>marinades</td>\n",
              "      <td>along</td>\n",
              "      <td>barbecue</td>\n",
              "      <td>bible</td>\n",
              "      <td>planet</td>\n",
              "      <td>barbecue</td>\n",
              "      <td>grade</td>\n",
              "      <td>recipes</td>\n",
              "      <td>order</td>\n",
              "      <td>keep</td>\n",
              "      <td>track</td>\n",
              "      <td>like</td>\n",
              "      <td>dont</td>\n",
              "      <td>like</td>\n",
              "      <td>id</td>\n",
              "      <td>say</td>\n",
              "      <td>literally</td>\n",
              "      <td>95</td>\n",
              "      <td>range</td>\n",
              "      <td>...</td>\n",
              "      <td>None</td>\n",
              "      <td>None</td>\n",
              "      <td>None</td>\n",
              "      <td>None</td>\n",
              "      <td>None</td>\n",
              "      <td>None</td>\n",
              "      <td>None</td>\n",
              "      <td>None</td>\n",
              "      <td>None</td>\n",
              "      <td>None</td>\n",
              "      <td>None</td>\n",
              "      <td>None</td>\n",
              "      <td>None</td>\n",
              "      <td>None</td>\n",
              "      <td>None</td>\n",
              "      <td>None</td>\n",
              "      <td>None</td>\n",
              "      <td>None</td>\n",
              "      <td>None</td>\n",
              "      <td>None</td>\n",
              "      <td>None</td>\n",
              "      <td>None</td>\n",
              "      <td>None</td>\n",
              "      <td>None</td>\n",
              "      <td>None</td>\n",
              "      <td>None</td>\n",
              "      <td>None</td>\n",
              "      <td>None</td>\n",
              "      <td>None</td>\n",
              "      <td>None</td>\n",
              "      <td>None</td>\n",
              "      <td>None</td>\n",
              "      <td>None</td>\n",
              "      <td>None</td>\n",
              "      <td>None</td>\n",
              "      <td>None</td>\n",
              "      <td>None</td>\n",
              "      <td>None</td>\n",
              "      <td>None</td>\n",
              "      <td>None</td>\n",
              "    </tr>\n",
              "  </tbody>\n",
              "</table>\n",
              "<p>5 rows × 3174 columns</p>\n",
              "</div>"
            ],
            "text/plain": [
              "      0        1             2            3     ...  3170  3171  3172  3173\n",
              "0     gift  husband           hes       making  ...  None  None  None  None\n",
              "1  husband   rarely          asks     anything  ...  None  None  None  None\n",
              "2      guy    knows         stuff         love  ...  None  None  None  None\n",
              "3    found     1999          also        issue  ...  None  None  None  None\n",
              "4    quite     good  particularly  inspiration  ...  None  None  None  None\n",
              "\n",
              "[5 rows x 3174 columns]"
            ]
          },
          "metadata": {
            "tags": []
          },
          "execution_count": 45
        }
      ]
    },
    {
      "cell_type": "markdown",
      "metadata": {
        "id": "Tn_wykCk4J3H",
        "colab_type": "text"
      },
      "source": [
        "###This is the section to import and analyse the new Amazon data. "
      ]
    },
    {
      "cell_type": "code",
      "metadata": {
        "id": "yctbuv69ABvD",
        "colab_type": "code",
        "colab": {}
      },
      "source": [
        "from google.colab import drive\n",
        "drive.mount('/gdrive')"
      ],
      "execution_count": 0,
      "outputs": []
    },
    {
      "cell_type": "code",
      "metadata": {
        "id": "bLgSofi4glBf",
        "colab_type": "code",
        "colab": {}
      },
      "source": [
        "import pandas as pd  #This function has changed since the last curated data.\n",
        "import gzip\n",
        "import json\n",
        "\n",
        "def parse(path):\n",
        "  g = gzip.open(path, 'rb')\n",
        "  for l in g:\n",
        "    yield json.loads(l)\n",
        "\n",
        "def getDF(path):\n",
        "  i = 0\n",
        "  df = {}\n",
        "  for d in parse(path):\n",
        "    df[i] = d\n",
        "    i += 1\n",
        "  return pd.DataFrame.from_dict(df, orient='index')"
      ],
      "execution_count": 0,
      "outputs": []
    },
    {
      "cell_type": "code",
      "metadata": {
        "id": "Cy7SENAe14BU",
        "colab_type": "code",
        "outputId": "2d5818d2-f6e8-4292-d3bb-d74ac4c692ff",
        "colab": {
          "base_uri": "https://localhost:8080/",
          "height": 50
        }
      },
      "source": [
        "%cd /gdrive/My Drive/Amazon_data\n",
        "!pwd"
      ],
      "execution_count": 0,
      "outputs": [
        {
          "output_type": "stream",
          "text": [
            "/gdrive/My Drive/Amazon_data\n",
            "/gdrive/My Drive/Amazon_data\n"
          ],
          "name": "stdout"
        }
      ]
    },
    {
      "cell_type": "code",
      "metadata": {
        "id": "cyXNzj7v11By",
        "colab_type": "code",
        "colab": {}
      },
      "source": [
        "df = getDF('/gdrive/My Drive/Amazon_data/Patio_Lawn_and_Garden.json.gz')"
      ],
      "execution_count": 0,
      "outputs": []
    },
    {
      "cell_type": "code",
      "metadata": {
        "id": "lwZQ6itE7pyc",
        "colab_type": "code",
        "outputId": "5dd47ba9-2f2e-415c-8e9c-270205396bda",
        "colab": {
          "base_uri": "https://localhost:8080/",
          "height": 34
        }
      },
      "source": [
        "df.shape"
      ],
      "execution_count": 0,
      "outputs": [
        {
          "output_type": "execute_result",
          "data": {
            "text/plain": [
              "(5236058, 12)"
            ]
          },
          "metadata": {
            "tags": []
          },
          "execution_count": 5
        }
      ]
    },
    {
      "cell_type": "code",
      "metadata": {
        "id": "Kac_x3mUe5e8",
        "colab_type": "code",
        "outputId": "a8b7e1c8-6f1d-41f3-9409-6a01a3c85806",
        "colab": {
          "base_uri": "https://localhost:8080/",
          "height": 235
        }
      },
      "source": [
        "\n",
        "df.iloc[2]"
      ],
      "execution_count": 0,
      "outputs": [
        {
          "output_type": "execute_result",
          "data": {
            "text/plain": [
              "overall                                                           4\n",
              "vote                                                            NaN\n",
              "verified                                                       True\n",
              "reviewTime                                              11 28, 2016\n",
              "reviewerID                                           A2Z9J0DD7PX7D3\n",
              "asin                                                     0986121126\n",
              "style                                {'Format:': ' Kindle Edition'}\n",
              "reviewerName                                             NanaWillow\n",
              "reviewText        I was having trouble trying to put into words ...\n",
              "summary                                        A good read for some\n",
              "unixReviewTime                                           1480291200\n",
              "image                                                           NaN\n",
              "Name: 2, dtype: object"
            ]
          },
          "metadata": {
            "tags": []
          },
          "execution_count": 10
        }
      ]
    },
    {
      "cell_type": "code",
      "metadata": {
        "id": "838CD-bSe5Tz",
        "colab_type": "code",
        "outputId": "f96b358a-1bd0-4c6c-b1c0-023c02f4c33f",
        "colab": {
          "base_uri": "https://localhost:8080/",
          "height": 238
        }
      },
      "source": [
        "print(df.groupby('asin')['reviewText'].nunique()) #This cell single-handedly does what the above two cells do i.e. it takes care of the fact that ASINs do not have a proper string pattern and towards the endit also gives the count of unique ASINs"
      ],
      "execution_count": 0,
      "outputs": [
        {
          "output_type": "stream",
          "text": [
            "asin\n",
            "0545417600     1\n",
            "0881149659     1\n",
            "0976533502     6\n",
            "0979914620     1\n",
            "0984408525     6\n",
            "              ..\n",
            "B01HJEB3NM     6\n",
            "B01HJECEIA     1\n",
            "B01HJEUPHM     1\n",
            "B01HJEVPDU     1\n",
            "B01HJFQ8LS    18\n",
            "Name: reviewText, Length: 276563, dtype: int64\n"
          ],
          "name": "stdout"
        }
      ]
    },
    {
      "cell_type": "code",
      "metadata": {
        "id": "kfbnIBzbe5da",
        "colab_type": "code",
        "outputId": "12c66c47-c432-478c-8259-a75082563b76",
        "colab": {
          "base_uri": "https://localhost:8080/",
          "height": 87
        }
      },
      "source": [
        "df_meta = pd.read_csv('/gdrive/My Drive/Amazon_data/metadata.csv')\n",
        "df_meta.shape"
      ],
      "execution_count": 0,
      "outputs": [
        {
          "output_type": "stream",
          "text": [
            "/usr/local/lib/python3.6/dist-packages/IPython/core/interactiveshell.py:2718: DtypeWarning: Columns (18) have mixed types. Specify dtype option on import or set low_memory=False.\n",
            "  interactivity=interactivity, compiler=compiler, result=result)\n"
          ],
          "name": "stderr"
        },
        {
          "output_type": "execute_result",
          "data": {
            "text/plain": [
              "(279697, 19)"
            ]
          },
          "metadata": {
            "tags": []
          },
          "execution_count": 6
        }
      ]
    },
    {
      "cell_type": "code",
      "metadata": {
        "id": "jLC__D5Ve5Yd",
        "colab_type": "code",
        "outputId": "3d776dbf-f499-4582-92cd-48cfbe4475a7",
        "colab": {
          "base_uri": "https://localhost:8080/",
          "height": 353
        }
      },
      "source": [
        "df_meta.iloc[2]"
      ],
      "execution_count": 0,
      "outputs": [
        {
          "output_type": "execute_result",
          "data": {
            "text/plain": [
              "Unnamed: 0                                                      2\n",
              "category        ['Patio, Lawn & Garden', 'Gardening & Lawn Car...\n",
              "tech1                                                         NaN\n",
              "description     [\"The Gardener's Guide to Growing Hardy Perenn...\n",
              "title           The Gardener's Guide to Growing Hardy Perennia...\n",
              "also_buy                             ['0881927155', '0881928763']\n",
              "brand                                           William D. Mathis\n",
              "feature                                                       NaN\n",
              "rank                                            1,965,854inBooks(\n",
              "main_cat                                                    Books\n",
              "date                                                          NaN\n",
              "price                                                     $242.57\n",
              "asin                                                   0976533502\n",
              "image                                                         NaN\n",
              "also_view                                                     NaN\n",
              "similar_item                                                  NaN\n",
              "details                                                       NaN\n",
              "fit                                                           NaN\n",
              "tech2                                                         NaN\n",
              "Name: 2, dtype: object"
            ]
          },
          "metadata": {
            "tags": []
          },
          "execution_count": 18
        }
      ]
    },
    {
      "cell_type": "code",
      "metadata": {
        "id": "JaFtJzvee5PT",
        "colab_type": "code",
        "outputId": "f6070204-5fa9-4a2d-ad1e-b90cba553718",
        "colab": {
          "base_uri": "https://localhost:8080/",
          "height": 252
        }
      },
      "source": [
        "print(df_meta.groupby('asin')['category'].nunique())\n",
        "print('The unique number of ASINs in the meta data is ', df_meta['asin'].nunique())"
      ],
      "execution_count": 0,
      "outputs": [
        {
          "output_type": "stream",
          "text": [
            "asin\n",
            "0545417600    1\n",
            "0881149659    1\n",
            "0976533502    1\n",
            "0979914620    1\n",
            "0984408525    1\n",
            "             ..\n",
            "B01HJEB3NM    1\n",
            "B01HJECEIA    1\n",
            "B01HJEUPHM    1\n",
            "B01HJEVPDU    1\n",
            "B01HJFQ8LS    1\n",
            "Name: category, Length: 276573, dtype: int64\n",
            "The unique number of ASINs in the meta data is  276573\n"
          ],
          "name": "stdout"
        }
      ]
    },
    {
      "cell_type": "code",
      "metadata": {
        "id": "dRsLNqa1e5KI",
        "colab_type": "code",
        "colab": {}
      },
      "source": [
        "merged_df = pd.merge(df, df_meta, how='inner', on=['asin'])"
      ],
      "execution_count": 0,
      "outputs": []
    },
    {
      "cell_type": "code",
      "metadata": {
        "id": "wz8IdGsie5Hl",
        "colab_type": "code",
        "outputId": "4795492b-3a85-4ffb-e93c-de36f2a5d7e6",
        "colab": {
          "base_uri": "https://localhost:8080/",
          "height": 34
        }
      },
      "source": [
        "merged_df.shape"
      ],
      "execution_count": 0,
      "outputs": [
        {
          "output_type": "execute_result",
          "data": {
            "text/plain": [
              "(5431771, 30)"
            ]
          },
          "metadata": {
            "tags": []
          },
          "execution_count": 10
        }
      ]
    },
    {
      "cell_type": "code",
      "metadata": {
        "id": "3bXcCW-3VoML",
        "colab_type": "code",
        "outputId": "4acddc1c-1acb-4cbc-813e-ccf286f9cd80",
        "colab": {
          "base_uri": "https://localhost:8080/",
          "height": 34
        }
      },
      "source": [
        "print('The unique number of ASINs in the merged Dataframe is ', merged_df['asin'].nunique())"
      ],
      "execution_count": 0,
      "outputs": [
        {
          "output_type": "stream",
          "text": [
            "The unique number of ASINs in the merged Dataframe is  276563\n"
          ],
          "name": "stdout"
        }
      ]
    },
    {
      "cell_type": "code",
      "metadata": {
        "id": "OLPRG1mge5F_",
        "colab_type": "code",
        "outputId": "c1031240-3a64-4f19-88e8-5e0c50467972",
        "colab": {
          "base_uri": "https://localhost:8080/",
          "height": 538
        }
      },
      "source": [
        "merged_df.iloc[4]"
      ],
      "execution_count": 0,
      "outputs": [
        {
          "output_type": "execute_result",
          "data": {
            "text/plain": [
              "overall                                                           4\n",
              "vote                                                            NaN\n",
              "verified                                                       True\n",
              "reviewTime                                              11 19, 2016\n",
              "reviewerID                                           A1HYKFP21Y02V4\n",
              "asin                                                     0986121126\n",
              "style                                {'Format:': ' Kindle Edition'}\n",
              "reviewerName                                                    JEC\n",
              "reviewText        Keeps you just a little off balance, while rea...\n",
              "summary                                            Keeps you hooked\n",
              "unixReviewTime                                           1479513600\n",
              "image_x                                                         NaN\n",
              "Unnamed: 0                                                        5\n",
              "category          ['Patio, Lawn & Garden', 'Pest Control', 'Bug ...\n",
              "tech1                                                           NaN\n",
              "description       ['When I started reading this book, \"Jonson Ro...\n",
              "title                                                  Johnson Road\n",
              "also_buy                                                        NaN\n",
              "brand                         Visit Amazon's Clayton E Spriggs Page\n",
              "feature                                                         NaN\n",
              "rank                                              3,508,632inBooks(\n",
              "main_cat                                                      Books\n",
              "date                                                            NaN\n",
              "price                                                           NaN\n",
              "image_y                                                         NaN\n",
              "also_view                                                       NaN\n",
              "similar_item                                                    NaN\n",
              "details                                                         NaN\n",
              "fit                                                             NaN\n",
              "tech2                                                           NaN\n",
              "Name: 4, dtype: object"
            ]
          },
          "metadata": {
            "tags": []
          },
          "execution_count": 26
        }
      ]
    },
    {
      "cell_type": "code",
      "metadata": {
        "id": "XuVBWgVZXC_1",
        "colab_type": "code",
        "colab": {}
      },
      "source": [
        "#This is to create the merged_df with only unique ASINs \n",
        "\n",
        "#print('Shape of the merged_df ', merged_df.shape)\n",
        "print(type(merged_df))\n",
        "# # Approach 2\n",
        "merged_df = dict(tuple(merged_df.groupby(\"asin\")))\n",
        "\n",
        "import pprint\n",
        "pprint.pprint(merged_df)\n",
        "print(type(merged_df))"
      ],
      "execution_count": 0,
      "outputs": []
    },
    {
      "cell_type": "code",
      "metadata": {
        "id": "Go3fHDbn_pNW",
        "colab_type": "code",
        "outputId": "2af0348f-89c1-47c5-cf24-2c0bb84cd3e5",
        "colab": {
          "base_uri": "https://localhost:8080/",
          "height": 34
        }
      },
      "source": [
        "!pwd"
      ],
      "execution_count": 0,
      "outputs": [
        {
          "output_type": "stream",
          "text": [
            "/gdrive/My Drive/Amazon_data\n"
          ],
          "name": "stdout"
        }
      ]
    },
    {
      "cell_type": "code",
      "metadata": {
        "id": "a7gIpIb8BSHP",
        "colab_type": "code",
        "colab": {}
      },
      "source": [
        "merged_df = merged_df.tail(20000) #Took the top 100,000 reviews as the train data and the last 20k as the test set"
      ],
      "execution_count": 0,
      "outputs": []
    },
    {
      "cell_type": "code",
      "metadata": {
        "id": "yKKdxCpOBcX9",
        "colab_type": "code",
        "outputId": "478c2bce-02db-4fe6-e37c-33e6a3abfc43",
        "colab": {
          "base_uri": "https://localhost:8080/",
          "height": 34
        }
      },
      "source": [
        "merged_df.shape"
      ],
      "execution_count": 0,
      "outputs": [
        {
          "output_type": "execute_result",
          "data": {
            "text/plain": [
              "(20000, 30)"
            ]
          },
          "metadata": {
            "tags": []
          },
          "execution_count": 17
        }
      ]
    },
    {
      "cell_type": "code",
      "metadata": {
        "id": "3JXeeKpqe5B0",
        "colab_type": "code",
        "colab": {}
      },
      "source": [
        "merged_df.to_csv('Amazon_2014_testData.csv')"
      ],
      "execution_count": 0,
      "outputs": []
    },
    {
      "cell_type": "code",
      "metadata": {
        "id": "REO6cU_Y_RLP",
        "colab_type": "code",
        "outputId": "21b065e1-c952-41fb-a9aa-7a5d65851fc0",
        "colab": {
          "base_uri": "https://localhost:8080/",
          "height": 34
        }
      },
      "source": [
        "cnn_test_df = pd.read_csv('/content/drive/My Drive/Amazon_data/Amazon_2014_testData.csv', usecols = ['reviewText','main_cat'])\n",
        "cnn_test_df.columns\n",
        "%cd /content/drive/My Drive/Amazon_data/\n",
        "cnn_test_df.to_csv('cnn_test.csv')"
      ],
      "execution_count": 0,
      "outputs": [
        {
          "output_type": "stream",
          "text": [
            "/content/drive/My Drive/Amazon_data\n"
          ],
          "name": "stdout"
        }
      ]
    },
    {
      "cell_type": "code",
      "metadata": {
        "id": "0cDRE-ANe49A",
        "colab_type": "code",
        "outputId": "bbbbd6bd-e2f5-4d47-8526-57d986b0783c",
        "colab": {
          "base_uri": "https://localhost:8080/",
          "height": 136
        }
      },
      "source": [
        "print(merged_df.groupby('overall').sum())"
      ],
      "execution_count": 0,
      "outputs": [
        {
          "output_type": "stream",
          "text": [
            "         verified  unixReviewTime  Unnamed: 0\n",
            "overall                                      \n",
            "1.0        2881.0   4690289059200   861385034\n",
            "2.0        1010.0   1602011952000   294298075\n",
            "3.0        1301.0   2060560339200   378463248\n",
            "4.0        2175.0   3517861363200   646873647\n",
            "5.0       11281.0  18091605916800  3321426681\n"
          ],
          "name": "stdout"
        }
      ]
    },
    {
      "cell_type": "code",
      "metadata": {
        "id": "PaRlHTpCe46w",
        "colab_type": "code",
        "outputId": "acb43a5e-07da-439a-ed0c-fc0951282b71",
        "colab": {
          "base_uri": "https://localhost:8080/",
          "height": 71
        }
      },
      "source": [
        "merged_df =  pd.read_csv('/content/drive/My Drive/Amazon_data/Amazon_2014_joined.csv')"
      ],
      "execution_count": 0,
      "outputs": [
        {
          "output_type": "stream",
          "text": [
            "/usr/local/lib/python3.6/dist-packages/IPython/core/interactiveshell.py:2718: DtypeWarning: Columns (2,7,15,23,26,28) have mixed types. Specify dtype option on import or set low_memory=False.\n",
            "  interactivity=interactivity, compiler=compiler, result=result)\n"
          ],
          "name": "stderr"
        }
      ]
    },
    {
      "cell_type": "code",
      "metadata": {
        "id": "UEEiRJBDvvGV",
        "colab_type": "code",
        "outputId": "287aa630-9bb9-4e3b-ee88-a2ffb78a2b3c",
        "colab": {
          "base_uri": "https://localhost:8080/",
          "height": 34
        }
      },
      "source": [
        "merged_df.shape"
      ],
      "execution_count": 0,
      "outputs": [
        {
          "output_type": "execute_result",
          "data": {
            "text/plain": [
              "(100000, 31)"
            ]
          },
          "metadata": {
            "tags": []
          },
          "execution_count": 60
        }
      ]
    },
    {
      "cell_type": "code",
      "metadata": {
        "id": "AQp-EtCce441",
        "colab_type": "code",
        "outputId": "312ad0ab-0a25-485c-8bd6-469a680258e9",
        "colab": {
          "base_uri": "https://localhost:8080/",
          "height": 34
        }
      },
      "source": [
        "merged_df.category.iloc[7]"
      ],
      "execution_count": 0,
      "outputs": [
        {
          "output_type": "execute_result",
          "data": {
            "text/plain": [
              "\"['Patio, Lawn & Garden', 'Pest Control', 'Bug Zappers']\""
            ]
          },
          "metadata": {
            "tags": []
          },
          "execution_count": 23
        }
      ]
    },
    {
      "cell_type": "code",
      "metadata": {
        "id": "isGASpqke408",
        "colab_type": "code",
        "colab": {}
      },
      "source": [
        "umbrella = merged_df[merged_df['category'].str.contains(\"Umbrellas\")]"
      ],
      "execution_count": 0,
      "outputs": []
    },
    {
      "cell_type": "code",
      "metadata": {
        "id": "gZtqqyvEq-FS",
        "colab_type": "code",
        "outputId": "2a9860fd-7b3e-4fe6-e0a6-85da710b6482",
        "colab": {
          "base_uri": "https://localhost:8080/",
          "height": 34
        }
      },
      "source": [
        "umbrella.shape"
      ],
      "execution_count": 0,
      "outputs": [
        {
          "output_type": "execute_result",
          "data": {
            "text/plain": [
              "(44, 30)"
            ]
          },
          "metadata": {
            "tags": []
          },
          "execution_count": 95
        }
      ]
    },
    {
      "cell_type": "code",
      "metadata": {
        "id": "xkEzlTF3sJqD",
        "colab_type": "code",
        "outputId": "3da7d9ed-fcd1-4a5a-a331-3ffd1f5d899f",
        "colab": {
          "base_uri": "https://localhost:8080/",
          "height": 235
        }
      },
      "source": [
        "merged_df.groupby(['main_cat']).sum()"
      ],
      "execution_count": 0,
      "outputs": [
        {
          "output_type": "execute_result",
          "data": {
            "text/html": [
              "<div>\n",
              "<style scoped>\n",
              "    .dataframe tbody tr th:only-of-type {\n",
              "        vertical-align: middle;\n",
              "    }\n",
              "\n",
              "    .dataframe tbody tr th {\n",
              "        vertical-align: top;\n",
              "    }\n",
              "\n",
              "    .dataframe thead th {\n",
              "        text-align: right;\n",
              "    }\n",
              "</style>\n",
              "<table border=\"1\" class=\"dataframe\">\n",
              "  <thead>\n",
              "    <tr style=\"text-align: right;\">\n",
              "      <th></th>\n",
              "      <th>overall</th>\n",
              "      <th>verified</th>\n",
              "      <th>unixReviewTime</th>\n",
              "      <th>Unnamed: 0</th>\n",
              "    </tr>\n",
              "    <tr>\n",
              "      <th>main_cat</th>\n",
              "      <th></th>\n",
              "      <th></th>\n",
              "      <th></th>\n",
              "      <th></th>\n",
              "    </tr>\n",
              "  </thead>\n",
              "  <tbody>\n",
              "    <tr>\n",
              "      <th>Amazon Home</th>\n",
              "      <td>399964.0</td>\n",
              "      <td>86494.0</td>\n",
              "      <td>137745544982400</td>\n",
              "      <td>184289524</td>\n",
              "    </tr>\n",
              "    <tr>\n",
              "      <th>Books</th>\n",
              "      <td>146.0</td>\n",
              "      <td>23.0</td>\n",
              "      <td>47028297600</td>\n",
              "      <td>160</td>\n",
              "    </tr>\n",
              "    <tr>\n",
              "      <th>Industrial &amp; Scientific</th>\n",
              "      <td>4628.0</td>\n",
              "      <td>960.0</td>\n",
              "      <td>1439934451200</td>\n",
              "      <td>1779910</td>\n",
              "    </tr>\n",
              "    <tr>\n",
              "      <th>Tools &amp; Home Improvement</th>\n",
              "      <td>2594.0</td>\n",
              "      <td>562.0</td>\n",
              "      <td>838912032000</td>\n",
              "      <td>1115394</td>\n",
              "    </tr>\n",
              "    <tr>\n",
              "      <th>Toys &amp; Games</th>\n",
              "      <td>5826.0</td>\n",
              "      <td>1040.0</td>\n",
              "      <td>1699285132800</td>\n",
              "      <td>1924230</td>\n",
              "    </tr>\n",
              "  </tbody>\n",
              "</table>\n",
              "</div>"
            ],
            "text/plain": [
              "                           overall  verified   unixReviewTime  Unnamed: 0\n",
              "main_cat                                                                 \n",
              "Amazon Home               399964.0   86494.0  137745544982400   184289524\n",
              "Books                        146.0      23.0      47028297600         160\n",
              "Industrial & Scientific     4628.0     960.0    1439934451200     1779910\n",
              "Tools & Home Improvement    2594.0     562.0     838912032000     1115394\n",
              "Toys & Games                5826.0    1040.0    1699285132800     1924230"
            ]
          },
          "metadata": {
            "tags": []
          },
          "execution_count": 99
        }
      ]
    },
    {
      "cell_type": "code",
      "metadata": {
        "id": "H39_-iO4sxf3",
        "colab_type": "code",
        "outputId": "eadd9f30-c883-4187-c62f-bc8cf1008d6d",
        "colab": {
          "base_uri": "https://localhost:8080/",
          "height": 119
        }
      },
      "source": [
        "merged_df.columns"
      ],
      "execution_count": 0,
      "outputs": [
        {
          "output_type": "execute_result",
          "data": {
            "text/plain": [
              "Index(['overall', 'vote', 'verified', 'reviewTime', 'reviewerID', 'asin',\n",
              "       'style', 'reviewerName', 'reviewText', 'summary', 'unixReviewTime',\n",
              "       'image_x', 'Unnamed: 0', 'category', 'tech1', 'description', 'title',\n",
              "       'also_buy', 'brand', 'feature', 'rank', 'main_cat', 'date', 'price',\n",
              "       'image_y', 'also_view', 'similar_item', 'details', 'fit', 'tech2'],\n",
              "      dtype='object')"
            ]
          },
          "metadata": {
            "tags": []
          },
          "execution_count": 100
        }
      ]
    },
    {
      "cell_type": "code",
      "metadata": {
        "id": "ZPWnTUKCscSN",
        "colab_type": "code",
        "outputId": "0d258d3f-0993-42c5-8cf2-7777205adad5",
        "colab": {
          "base_uri": "https://localhost:8080/",
          "height": 450
        }
      },
      "source": [
        "merged_df.groupby(['summary']).sum()"
      ],
      "execution_count": 0,
      "outputs": [
        {
          "output_type": "execute_result",
          "data": {
            "text/html": [
              "<div>\n",
              "<style scoped>\n",
              "    .dataframe tbody tr th:only-of-type {\n",
              "        vertical-align: middle;\n",
              "    }\n",
              "\n",
              "    .dataframe tbody tr th {\n",
              "        vertical-align: top;\n",
              "    }\n",
              "\n",
              "    .dataframe thead th {\n",
              "        text-align: right;\n",
              "    }\n",
              "</style>\n",
              "<table border=\"1\" class=\"dataframe\">\n",
              "  <thead>\n",
              "    <tr style=\"text-align: right;\">\n",
              "      <th></th>\n",
              "      <th>Unnamed: 0</th>\n",
              "      <th>overall</th>\n",
              "      <th>verified</th>\n",
              "      <th>unixReviewTime</th>\n",
              "      <th>Unnamed: 0.1</th>\n",
              "      <th>fit</th>\n",
              "      <th>tech2</th>\n",
              "    </tr>\n",
              "    <tr>\n",
              "      <th>summary</th>\n",
              "      <th></th>\n",
              "      <th></th>\n",
              "      <th></th>\n",
              "      <th></th>\n",
              "      <th></th>\n",
              "      <th></th>\n",
              "      <th></th>\n",
              "    </tr>\n",
              "  </thead>\n",
              "  <tbody>\n",
              "    <tr>\n",
              "      <th>Checkout.</th>\n",
              "      <td>63199</td>\n",
              "      <td>10.0</td>\n",
              "      <td>0.0</td>\n",
              "      <td>2945721600</td>\n",
              "      <td>3706</td>\n",
              "      <td>0.0</td>\n",
              "      <td>0.0</td>\n",
              "    </tr>\n",
              "    <tr>\n",
              "      <th>DOES THE JOB</th>\n",
              "      <td>189001</td>\n",
              "      <td>30.0</td>\n",
              "      <td>2.0</td>\n",
              "      <td>8449401600</td>\n",
              "      <td>10478</td>\n",
              "      <td>0.0</td>\n",
              "      <td>0.0</td>\n",
              "    </tr>\n",
              "    <tr>\n",
              "      <th>Total waste of money</th>\n",
              "      <td>142355</td>\n",
              "      <td>2.0</td>\n",
              "      <td>2.0</td>\n",
              "      <td>3000153600</td>\n",
              "      <td>3942</td>\n",
              "      <td>0.0</td>\n",
              "      <td>0.0</td>\n",
              "    </tr>\n",
              "    <tr>\n",
              "      <th>!</th>\n",
              "      <td>135666</td>\n",
              "      <td>20.0</td>\n",
              "      <td>4.0</td>\n",
              "      <td>5835283200</td>\n",
              "      <td>7252</td>\n",
              "      <td>0.0</td>\n",
              "      <td>0.0</td>\n",
              "    </tr>\n",
              "    <tr>\n",
              "      <th>!!! SHARP!!! Be careful ...</th>\n",
              "      <td>114947</td>\n",
              "      <td>10.0</td>\n",
              "      <td>2.0</td>\n",
              "      <td>2931033600</td>\n",
              "      <td>4070</td>\n",
              "      <td>0.0</td>\n",
              "      <td>0.0</td>\n",
              "    </tr>\n",
              "    <tr>\n",
              "      <th>...</th>\n",
              "      <td>...</td>\n",
              "      <td>...</td>\n",
              "      <td>...</td>\n",
              "      <td>...</td>\n",
              "      <td>...</td>\n",
              "      <td>...</td>\n",
              "      <td>...</td>\n",
              "    </tr>\n",
              "    <tr>\n",
              "      <th>zip zap</th>\n",
              "      <td>76811</td>\n",
              "      <td>8.0</td>\n",
              "      <td>2.0</td>\n",
              "      <td>2989958400</td>\n",
              "      <td>3974</td>\n",
              "      <td>0.0</td>\n",
              "      <td>0.0</td>\n",
              "    </tr>\n",
              "    <tr>\n",
              "      <th>zzzap zzap!</th>\n",
              "      <td>93963</td>\n",
              "      <td>10.0</td>\n",
              "      <td>2.0</td>\n",
              "      <td>2814912000</td>\n",
              "      <td>3974</td>\n",
              "      <td>0.0</td>\n",
              "      <td>0.0</td>\n",
              "    </tr>\n",
              "    <tr>\n",
              "      <th>zzzzZZzzzz! zzzzZZ! ZzzZZ!  Music To My Ears!</th>\n",
              "      <td>96167</td>\n",
              "      <td>10.0</td>\n",
              "      <td>2.0</td>\n",
              "      <td>2798323200</td>\n",
              "      <td>3974</td>\n",
              "      <td>0.0</td>\n",
              "      <td>0.0</td>\n",
              "    </tr>\n",
              "    <tr>\n",
              "      <th>zzzzzzzap!</th>\n",
              "      <td>89911</td>\n",
              "      <td>10.0</td>\n",
              "      <td>2.0</td>\n",
              "      <td>2862604800</td>\n",
              "      <td>3974</td>\n",
              "      <td>0.0</td>\n",
              "      <td>0.0</td>\n",
              "    </tr>\n",
              "    <tr>\n",
              "      <th>~ Fiskars Means Quality ~</th>\n",
              "      <td>15707</td>\n",
              "      <td>10.0</td>\n",
              "      <td>2.0</td>\n",
              "      <td>3024864000</td>\n",
              "      <td>3294</td>\n",
              "      <td>0.0</td>\n",
              "      <td>0.0</td>\n",
              "    </tr>\n",
              "  </tbody>\n",
              "</table>\n",
              "<p>30964 rows × 7 columns</p>\n",
              "</div>"
            ],
            "text/plain": [
              "                                               Unnamed: 0  overall  ...  fit  tech2\n",
              "summary                                                             ...            \n",
              " Checkout.                                          63199     10.0  ...  0.0    0.0\n",
              " DOES THE JOB                                      189001     30.0  ...  0.0    0.0\n",
              " Total waste of money                              142355      2.0  ...  0.0    0.0\n",
              "!                                                  135666     20.0  ...  0.0    0.0\n",
              "!!! SHARP!!! Be careful ...                        114947     10.0  ...  0.0    0.0\n",
              "...                                                   ...      ...  ...  ...    ...\n",
              "zip zap                                             76811      8.0  ...  0.0    0.0\n",
              "zzzap zzap!                                         93963     10.0  ...  0.0    0.0\n",
              "zzzzZZzzzz! zzzzZZ! ZzzZZ!  Music To My Ears!       96167     10.0  ...  0.0    0.0\n",
              "zzzzzzzap!                                          89911     10.0  ...  0.0    0.0\n",
              "~ Fiskars Means Quality ~                           15707     10.0  ...  0.0    0.0\n",
              "\n",
              "[30964 rows x 7 columns]"
            ]
          },
          "metadata": {
            "tags": []
          },
          "execution_count": 24
        }
      ]
    },
    {
      "cell_type": "markdown",
      "metadata": {
        "id": "3EfklyEfy9b6",
        "colab_type": "text"
      },
      "source": [
        "###This is the part to annotate the New Joined Amazon data with the Theme of the review"
      ]
    },
    {
      "cell_type": "code",
      "metadata": {
        "id": "Nkz8O5E9A753",
        "colab_type": "code",
        "outputId": "2ee7b13c-e952-4024-be13-3fad66e839a0",
        "colab": {
          "base_uri": "https://localhost:8080/",
          "height": 71
        }
      },
      "source": [
        "merged_df = pd.read_csv('/content/drive/My Drive/Amazon_data/Amazon_2014_joined.csv')"
      ],
      "execution_count": 0,
      "outputs": [
        {
          "output_type": "stream",
          "text": [
            "/usr/local/lib/python3.6/dist-packages/IPython/core/interactiveshell.py:2718: DtypeWarning: Columns (2,7,15,23,26,28) have mixed types. Specify dtype option on import or set low_memory=False.\n",
            "  interactivity=interactivity, compiler=compiler, result=result)\n"
          ],
          "name": "stderr"
        }
      ]
    },
    {
      "cell_type": "code",
      "metadata": {
        "id": "uAFvWUhRxuQt",
        "colab_type": "code",
        "outputId": "b3ed0ccd-2428-4821-a542-cd0771bfbf28",
        "colab": {
          "base_uri": "https://localhost:8080/",
          "height": 136
        }
      },
      "source": [
        "merged_df = merged_df.dropna(subset=['summary','reviewText']) #Final Data cleaned of the null values\n",
        "merged_df.shape\n",
        "#merged_df.columns = ['summary']\n",
        "merged_df['Review_Theme'] = merged_df.summary.values\n",
        "merged_df.shape"
      ],
      "execution_count": 0,
      "outputs": [
        {
          "output_type": "stream",
          "text": [
            "/usr/local/lib/python3.6/dist-packages/ipykernel_launcher.py:4: SettingWithCopyWarning: \n",
            "A value is trying to be set on a copy of a slice from a DataFrame.\n",
            "Try using .loc[row_indexer,col_indexer] = value instead\n",
            "\n",
            "See the caveats in the documentation: http://pandas.pydata.org/pandas-docs/stable/user_guide/indexing.html#returning-a-view-versus-a-copy\n",
            "  after removing the cwd from sys.path.\n"
          ],
          "name": "stderr"
        },
        {
          "output_type": "execute_result",
          "data": {
            "text/plain": [
              "(99966, 32)"
            ]
          },
          "metadata": {
            "tags": []
          },
          "execution_count": 6
        }
      ]
    },
    {
      "cell_type": "code",
      "metadata": {
        "id": "3IfK8pZfBNM_",
        "colab_type": "code",
        "outputId": "a3bb4768-94c5-4c0a-ec31-63bb82b44d81",
        "colab": {
          "base_uri": "https://localhost:8080/",
          "height": 136
        }
      },
      "source": [
        "merged_df.columns"
      ],
      "execution_count": 0,
      "outputs": [
        {
          "output_type": "execute_result",
          "data": {
            "text/plain": [
              "Index(['Unnamed: 0', 'overall', 'vote', 'verified', 'reviewTime', 'reviewerID',\n",
              "       'asin', 'style', 'reviewerName', 'reviewText', 'summary',\n",
              "       'unixReviewTime', 'image_x', 'Unnamed: 0.1', 'category', 'tech1',\n",
              "       'description', 'title', 'also_buy', 'brand', 'feature', 'rank',\n",
              "       'main_cat', 'date', 'price', 'image_y', 'also_view', 'similar_item',\n",
              "       'details', 'fit', 'tech2', 'Review_Theme'],\n",
              "      dtype='object')"
            ]
          },
          "metadata": {
            "tags": []
          },
          "execution_count": 7
        }
      ]
    },
    {
      "cell_type": "code",
      "metadata": {
        "id": "woe3QAKBs3mU",
        "colab_type": "code",
        "colab": {}
      },
      "source": [
        "money_df = merged_df[merged_df['Review_Theme'].str.contains(\"money\")]\n",
        "money_df['Review_Theme'] = 'Money'\n",
        "money_df.head()"
      ],
      "execution_count": 0,
      "outputs": []
    },
    {
      "cell_type": "code",
      "metadata": {
        "id": "nN9VaF6yxLBS",
        "colab_type": "code",
        "outputId": "6a14d9e5-2ebd-49ca-aaae-9047a447f35e",
        "colab": {
          "base_uri": "https://localhost:8080/",
          "height": 136
        }
      },
      "source": [
        "quality_df = merged_df[merged_df['Review_Theme'].str.contains(\"quality\")]\n",
        "quality_df['Review_Theme'] = 'Quality'\n",
        "quality_df.shape"
      ],
      "execution_count": 0,
      "outputs": [
        {
          "output_type": "stream",
          "text": [
            "/usr/local/lib/python3.6/dist-packages/ipykernel_launcher.py:2: SettingWithCopyWarning: \n",
            "A value is trying to be set on a copy of a slice from a DataFrame.\n",
            "Try using .loc[row_indexer,col_indexer] = value instead\n",
            "\n",
            "See the caveats in the documentation: http://pandas.pydata.org/pandas-docs/stable/user_guide/indexing.html#returning-a-view-versus-a-copy\n",
            "  \n"
          ],
          "name": "stderr"
        },
        {
          "output_type": "execute_result",
          "data": {
            "text/plain": [
              "(1339, 32)"
            ]
          },
          "metadata": {
            "tags": []
          },
          "execution_count": 9
        }
      ]
    },
    {
      "cell_type": "code",
      "metadata": {
        "id": "u1oE-wKYy09U",
        "colab_type": "code",
        "outputId": "ed0ab22a-059f-4e24-de3d-8b9531f2f1d6",
        "colab": {
          "base_uri": "https://localhost:8080/",
          "height": 34
        }
      },
      "source": [
        "job_df = merged_df[merged_df['Review_Theme'].str.contains(\"job\")]\n",
        "job_df = job_df.assign(Review_Theme='Job')\n",
        "job_df.shape"
      ],
      "execution_count": 0,
      "outputs": [
        {
          "output_type": "execute_result",
          "data": {
            "text/plain": [
              "(988, 32)"
            ]
          },
          "metadata": {
            "tags": []
          },
          "execution_count": 10
        }
      ]
    },
    {
      "cell_type": "code",
      "metadata": {
        "id": "iSR_JVPKzUYn",
        "colab_type": "code",
        "outputId": "d2923e7d-a78a-4198-d622-b20741d596c1",
        "colab": {
          "base_uri": "https://localhost:8080/",
          "height": 34
        }
      },
      "source": [
        "delivery_df = merged_df[merged_df['Review_Theme'].str.contains(\"delivery\")]\n",
        "delivery_df = delivery_df.assign(Review_Theme='Delivery')\n",
        "delivery_df.shape"
      ],
      "execution_count": 0,
      "outputs": [
        {
          "output_type": "execute_result",
          "data": {
            "text/plain": [
              "(90, 32)"
            ]
          },
          "metadata": {
            "tags": []
          },
          "execution_count": 11
        }
      ]
    },
    {
      "cell_type": "code",
      "metadata": {
        "id": "UmysUoO_0GDB",
        "colab_type": "code",
        "outputId": "236ea771-2e1f-4c19-98ec-e69b2c83aedb",
        "colab": {
          "base_uri": "https://localhost:8080/",
          "height": 34
        }
      },
      "source": [
        "product_df = merged_df[merged_df['Review_Theme'].str.contains(\"product\")]\n",
        "product_df = product_df.assign(Review_Theme = 'Product Aesthetics')\n",
        "product_df.shape"
      ],
      "execution_count": 0,
      "outputs": [
        {
          "output_type": "execute_result",
          "data": {
            "text/plain": [
              "(2965, 32)"
            ]
          },
          "metadata": {
            "tags": []
          },
          "execution_count": 12
        }
      ]
    },
    {
      "cell_type": "code",
      "metadata": {
        "id": "ldgggIA07ti1",
        "colab_type": "code",
        "outputId": "f43b1e34-827c-4402-8a23-00655bb7a8d4",
        "colab": {
          "base_uri": "https://localhost:8080/",
          "height": 34
        }
      },
      "source": [
        "product1_df = merged_df[merged_df['reviewText'].str.contains(\"color\")]\n",
        "product1_df = product1_df.assign(Review_Theme = 'Product Aesthetics')\n",
        "product1_df.shape"
      ],
      "execution_count": 0,
      "outputs": [
        {
          "output_type": "execute_result",
          "data": {
            "text/plain": [
              "(871, 32)"
            ]
          },
          "metadata": {
            "tags": []
          },
          "execution_count": 13
        }
      ]
    },
    {
      "cell_type": "code",
      "metadata": {
        "id": "CPN9Iutk-CVd",
        "colab_type": "code",
        "outputId": "7f52e60c-0cff-46de-fa43-f31b568ea761",
        "colab": {
          "base_uri": "https://localhost:8080/",
          "height": 34
        }
      },
      "source": [
        "product2_df = merged_df[merged_df['summary'].str.contains(\"story\")]\n",
        "product2_df = product2_df.assign(Review_Theme = 'Product Aesthetics')\n",
        "product2_df.shape"
      ],
      "execution_count": 0,
      "outputs": [
        {
          "output_type": "execute_result",
          "data": {
            "text/plain": [
              "(11, 32)"
            ]
          },
          "metadata": {
            "tags": []
          },
          "execution_count": 14
        }
      ]
    },
    {
      "cell_type": "code",
      "metadata": {
        "id": "REcdXmZb8rJo",
        "colab_type": "code",
        "outputId": "cc70fa9f-4449-4212-8c30-144af5d72abf",
        "colab": {
          "base_uri": "https://localhost:8080/",
          "height": 34
        }
      },
      "source": [
        "worth_df = merged_df[merged_df['reviewText'].str.contains(\"worth\")]\n",
        "worth_df = worth_df.assign(Review_Theme = 'Worth')\n",
        "worth_df.shape"
      ],
      "execution_count": 0,
      "outputs": [
        {
          "output_type": "execute_result",
          "data": {
            "text/plain": [
              "(2446, 32)"
            ]
          },
          "metadata": {
            "tags": []
          },
          "execution_count": 15
        }
      ]
    },
    {
      "cell_type": "code",
      "metadata": {
        "id": "QOtsIXEn0wll",
        "colab_type": "code",
        "outputId": "e80dd9bb-0287-4cfc-a64b-fa6bb82cae73",
        "colab": {
          "base_uri": "https://localhost:8080/",
          "height": 136
        }
      },
      "source": [
        "df_concatenated = pd.concat([money_df,quality_df,job_df,delivery_df,product_df,product1_df,product2_df,worth_df])\n",
        "df_shuffled = df_concatenated.sample(frac=1)\n",
        "df_shuffled.head()\n",
        "df_shuffled.shape\n",
        "df_shuffled.columns"
      ],
      "execution_count": 0,
      "outputs": [
        {
          "output_type": "execute_result",
          "data": {
            "text/plain": [
              "Index(['Unnamed: 0', 'overall', 'vote', 'verified', 'reviewTime', 'reviewerID',\n",
              "       'asin', 'style', 'reviewerName', 'reviewText', 'summary',\n",
              "       'unixReviewTime', 'image_x', 'Unnamed: 0.1', 'category', 'tech1',\n",
              "       'description', 'title', 'also_buy', 'brand', 'feature', 'rank',\n",
              "       'main_cat', 'date', 'price', 'image_y', 'also_view', 'similar_item',\n",
              "       'details', 'fit', 'tech2', 'Review_Theme'],\n",
              "      dtype='object')"
            ]
          },
          "metadata": {
            "tags": []
          },
          "execution_count": 22
        }
      ]
    },
    {
      "cell_type": "code",
      "metadata": {
        "id": "DW52Ubrd54_G",
        "colab_type": "code",
        "outputId": "44dff82f-c9d0-42d2-ab58-bfdfd4ff2d41",
        "colab": {
          "base_uri": "https://localhost:8080/",
          "height": 54
        }
      },
      "source": [
        "merged_df.reviewText.iloc[931] #This cell is only for testing"
      ],
      "execution_count": 0,
      "outputs": [
        {
          "output_type": "execute_result",
          "data": {
            "text/plain": [
              "\"Cute as could be. We really do like these on our girl's fly-away hair. They look nice and help to keep her hair out of her face. She likes to look at the Peppa pig hair clips and select the ones for her hair each time. I think she is very proud of them and we are pleased with them.\""
            ]
          },
          "metadata": {
            "tags": []
          },
          "execution_count": 17
        }
      ]
    },
    {
      "cell_type": "code",
      "metadata": {
        "id": "QxF6h1brCOEq",
        "colab_type": "code",
        "outputId": "ee8905ce-da2e-4afa-f047-22a14cd579f8",
        "colab": {
          "base_uri": "https://localhost:8080/",
          "height": 34
        }
      },
      "source": [
        "%cd /content/drive/My Drive/Amazon_data"
      ],
      "execution_count": 0,
      "outputs": [
        {
          "output_type": "stream",
          "text": [
            "/content/drive/My Drive/Amazon_data\n"
          ],
          "name": "stdout"
        }
      ]
    },
    {
      "cell_type": "code",
      "metadata": {
        "id": "6hSy5hnw6Lfk",
        "colab_type": "code",
        "colab": {}
      },
      "source": [
        "df_shuffled.to_csv('Amazon_theme_joined.csv')"
      ],
      "execution_count": 0,
      "outputs": []
    },
    {
      "cell_type": "code",
      "metadata": {
        "id": "D7aZUALaCXYI",
        "colab_type": "code",
        "outputId": "24f0c474-9a63-4246-c4ed-d51573ea2a96",
        "colab": {
          "base_uri": "https://localhost:8080/",
          "height": 204
        }
      },
      "source": [
        "df_shuffled = df_shuffled.drop(columns=['Unnamed: 0', 'overall', 'vote', 'verified', 'reviewTime', 'reviewerID',\n",
        "       'asin', 'style', 'reviewerName', \n",
        "       'unixReviewTime', 'image_x', 'Unnamed: 0.1', 'category', 'tech1',\n",
        "       'description', 'title', 'also_buy', 'brand', 'feature', 'rank',\n",
        "       'main_cat', 'date', 'price', 'image_y', 'also_view', 'similar_item',\n",
        "       'details', 'fit', 'tech2'])\n",
        "df_shuffled.head()"
      ],
      "execution_count": 0,
      "outputs": [
        {
          "output_type": "execute_result",
          "data": {
            "text/html": [
              "<div>\n",
              "<style scoped>\n",
              "    .dataframe tbody tr th:only-of-type {\n",
              "        vertical-align: middle;\n",
              "    }\n",
              "\n",
              "    .dataframe tbody tr th {\n",
              "        vertical-align: top;\n",
              "    }\n",
              "\n",
              "    .dataframe thead th {\n",
              "        text-align: right;\n",
              "    }\n",
              "</style>\n",
              "<table border=\"1\" class=\"dataframe\">\n",
              "  <thead>\n",
              "    <tr style=\"text-align: right;\">\n",
              "      <th></th>\n",
              "      <th>reviewText</th>\n",
              "      <th>summary</th>\n",
              "      <th>Review_Theme</th>\n",
              "    </tr>\n",
              "  </thead>\n",
              "  <tbody>\n",
              "    <tr>\n",
              "      <th>4900</th>\n",
              "      <td>This hose was less expensive then many others ...</td>\n",
              "      <td>Good hose for the price</td>\n",
              "      <td>Product Aesthetics</td>\n",
              "    </tr>\n",
              "    <tr>\n",
              "      <th>84484</th>\n",
              "      <td>I use this every summer for the potted annuals...</td>\n",
              "      <td>Great product!</td>\n",
              "      <td>Product Aesthetics</td>\n",
              "    </tr>\n",
              "    <tr>\n",
              "      <th>75853</th>\n",
              "      <td>Almost just like the one that I bought 25yrs a...</td>\n",
              "      <td>Lighter, cheaper quality but cooks well.</td>\n",
              "      <td>Quality</td>\n",
              "    </tr>\n",
              "    <tr>\n",
              "      <th>96462</th>\n",
              "      <td>very good product,arrived as expected ,wouldn'...</td>\n",
              "      <td>very good product, arrived as expected</td>\n",
              "      <td>Product Aesthetics</td>\n",
              "    </tr>\n",
              "    <tr>\n",
              "      <th>33110</th>\n",
              "      <td>This thing gets the edging job done. It takes ...</td>\n",
              "      <td>Does the job its intended for</td>\n",
              "      <td>Job</td>\n",
              "    </tr>\n",
              "  </tbody>\n",
              "</table>\n",
              "</div>"
            ],
            "text/plain": [
              "                                              reviewText  ...        Review_Theme\n",
              "4900   This hose was less expensive then many others ...  ...  Product Aesthetics\n",
              "84484  I use this every summer for the potted annuals...  ...  Product Aesthetics\n",
              "75853  Almost just like the one that I bought 25yrs a...  ...             Quality\n",
              "96462  very good product,arrived as expected ,wouldn'...  ...  Product Aesthetics\n",
              "33110  This thing gets the edging job done. It takes ...  ...                 Job\n",
              "\n",
              "[5 rows x 3 columns]"
            ]
          },
          "metadata": {
            "tags": []
          },
          "execution_count": 24
        }
      ]
    },
    {
      "cell_type": "markdown",
      "metadata": {
        "id": "hymtazyGHlCh",
        "colab_type": "text"
      },
      "source": [
        "##This is the part where we want to explore the product category hierarchy"
      ]
    },
    {
      "cell_type": "code",
      "metadata": {
        "id": "AqOqwAd8FLBm",
        "colab_type": "code",
        "outputId": "287a56e5-8263-4c66-c7d6-3b39a68c85b9",
        "colab": {
          "base_uri": "https://localhost:8080/",
          "height": 34
        }
      },
      "source": [
        "#Keeping only the unique ASINs that are common in both review and meta data\n",
        "#group = merged_df.groupby('asin')\n",
        "#merged_df2['reviewText'] = group.apply(lambda x: x['reviewText'].unique())\n",
        "#merged_df2['summary'] = group.apply(lambda x: x['summary'].unique())\n",
        "merged_df['category'].groupby(merged_df['asin']).unique().apply(pd.Series)\n",
        "merged_df.shape"
      ],
      "execution_count": 0,
      "outputs": [
        {
          "output_type": "execute_result",
          "data": {
            "text/plain": [
              "(5431771, 30)"
            ]
          },
          "metadata": {
            "tags": []
          },
          "execution_count": 74
        }
      ]
    },
    {
      "cell_type": "code",
      "metadata": {
        "id": "NfN-Jx0TPrAd",
        "colab_type": "code",
        "outputId": "bbbca1c4-7205-490a-e922-18a96bac6e01",
        "colab": {
          "base_uri": "https://localhost:8080/",
          "height": 235
        }
      },
      "source": [
        "#Let's check that for the unique number of ASINS between the review and the meta data, how many categories we have.\n",
        "merged_df['COUNTER'] =1       #initially, set that counter to 1.\n",
        "group_data = merged_df.groupby(['category'])['COUNTER'].sum() #sum function\n",
        "print(group_data)\n"
      ],
      "execution_count": 0,
      "outputs": [
        {
          "output_type": "stream",
          "text": [
            "category\n",
            "['Patio, Lawn & Garden', \"Design Toscano's Halloween Store\", 'Dragon & Gargoyle']      8\n",
            "['Patio, Lawn & Garden', \"Design Toscano's Halloween Store\", 'Skeletons']             14\n",
            "['Patio, Lawn & Garden', \"Father's Day in Lawn & Garden\"]                            518\n",
            "['Patio, Lawn & Garden', \"Perky-Pet's Newest Seed Bird Feeders\"]                      41\n",
            "['Patio, Lawn & Garden', \"Red Snap'r AC Energizers\"]                                   1\n",
            "                                                                                    ... \n",
            "['Patio, Lawn & Garden', 'Zareba Gate Handles']                                        3\n",
            "['Patio, Lawn & Garden', 'Zareba High Tensile']                                        2\n",
            "['Patio, Lawn & Garden', 'Zareba Poly Accessories']                                    6\n",
            "['Patio, Lawn & Garden', 'Zareba Rod Post']                                            4\n",
            "['Patio, Lawn & Garden', 'Zareba Wood Post Insulators']                               12\n",
            "Name: COUNTER, Length: 1207, dtype: int64\n"
          ],
          "name": "stdout"
        }
      ]
    },
    {
      "cell_type": "code",
      "metadata": {
        "id": "_YaI2GmwRX37",
        "colab_type": "code",
        "outputId": "95c5a6c4-cb4d-43b3-f41c-4ba7930269bf",
        "colab": {
          "base_uri": "https://localhost:8080/",
          "height": 70
        }
      },
      "source": [
        "group_data.to_csv('/gdrive/My Drive/Amazon_data/cat_group.csv')"
      ],
      "execution_count": 0,
      "outputs": [
        {
          "output_type": "stream",
          "text": [
            "/usr/local/lib/python3.6/dist-packages/ipykernel_launcher.py:1: FutureWarning: The signature of `Series.to_csv` was aligned to that of `DataFrame.to_csv`, and argument 'header' will change its default value from False to True: please pass an explicit value to suppress this warning.\n",
            "  \"\"\"Entry point for launching an IPython kernel.\n"
          ],
          "name": "stderr"
        }
      ]
    },
    {
      "cell_type": "code",
      "metadata": {
        "id": "OdpZmRD1LB_Q",
        "colab_type": "code",
        "colab": {}
      },
      "source": [
        "cat_df = merged_df.groupby('category').sum()"
      ],
      "execution_count": 0,
      "outputs": []
    },
    {
      "cell_type": "code",
      "metadata": {
        "id": "1QcH2X-RP1ib",
        "colab_type": "code",
        "outputId": "7eba9368-434b-4ec3-f81b-dfed3cbe1715",
        "colab": {
          "base_uri": "https://localhost:8080/",
          "height": 118
        }
      },
      "source": [
        "cat_df.columns"
      ],
      "execution_count": 0,
      "outputs": [
        {
          "output_type": "execute_result",
          "data": {
            "text/plain": [
              "Index(['overall', 'vote', 'verified', 'reviewTime', 'reviewerID', 'asin',\n",
              "       'style', 'reviewerName', 'reviewText', 'summary', 'unixReviewTime',\n",
              "       'image_x', 'Unnamed: 0', 'tech1', 'description', 'title', 'also_buy',\n",
              "       'brand', 'feature', 'rank', 'main_cat', 'date', 'price', 'image_y',\n",
              "       'also_view', 'similar_item', 'details', 'fit', 'tech2'],\n",
              "      dtype='object')"
            ]
          },
          "metadata": {
            "tags": []
          },
          "execution_count": 88
        }
      ]
    },
    {
      "cell_type": "code",
      "metadata": {
        "id": "sEMCmE_kDSfA",
        "colab_type": "code",
        "colab": {}
      },
      "source": [
        "cat_df.to_csv('/gdrive/My Drive/Amazon_data/cat_group.csv')"
      ],
      "execution_count": 0,
      "outputs": []
    },
    {
      "cell_type": "code",
      "metadata": {
        "id": "4RweGL8FI4xp",
        "colab_type": "code",
        "colab": {}
      },
      "source": [
        "print(type(merged_df))\n",
        "merged_df = merged_df.groupby('category').sum()\n",
        "merged_df"
      ],
      "execution_count": 0,
      "outputs": []
    },
    {
      "cell_type": "markdown",
      "metadata": {
        "id": "fTfdhirB9d8k",
        "colab_type": "text"
      },
      "source": [
        "##This is the part where we work on the Theme part of the Amazon Reviews"
      ]
    },
    {
      "cell_type": "code",
      "metadata": {
        "id": "zvfUEthc9j0e",
        "colab_type": "code",
        "outputId": "1279531f-d9ff-4050-cb30-4f68786a3dfb",
        "colab": {
          "base_uri": "https://localhost:8080/",
          "height": 54
        }
      },
      "source": [
        "merged_df.description.iloc[9]"
      ],
      "execution_count": 0,
      "outputs": [
        {
          "output_type": "execute_result",
          "data": {
            "text/plain": [
              "'[\\'When I started reading this book, \"Jonson Road\" by Clayton E. Spriggs, I just didn\\\\\\'t want to stop until I\\\\\\'d read the whole thing. There are so many great characters (good and bad) and the suspense throughout the book just keeps building and building and Kept me wanting to read more....... Kept me guessing the whole way. Recommend the book to those that enjoy a good thriller that is dark and unpredictable. Claire Middleton - Goodreads; Shelfari; Barnes & Noble; Indie Book Reviewers (5 stars) \"Johnson Road\" is one of the most creepy, original, and well-crafted novels I\\\\\\'ve read in a long time! I was completely drawn in from the opening scenes, and absolutely loved the author\\\\\\'s use of description of the different scenery and locales, and his attention to detail especially with the characters. It starts off in 1963, and then there are some time jumps that I admit confused me at times, I\\\\\\'d lose track of what characters were when, but it was easy to read and had some really shocking twists. Can see fans of Steven King loving this one. Anabella Johnson - Goodreads; Shelfari; Barnes & Noble; Indie Book Reviewers (4 stars)Warning...when starting this book make sure you don\\\\\\'t have anywhere you need to be or anything you need to do because you won\\\\\\'t want to stop reading until you\\\\\\'ve finished it all!! Trust me on this! The book starts off with an intriguing, unforgettable beginning and just keeps going from there. The characters were nicely developed and completely unpredictable... the pacing was good and towards the end I was turning the pages of my kindle as fast as I could, and had several \"oh my God\" moments. Crazy, twisted, thriller that will appeal to fans of the genre. Adults only. Tabitha Parks - Goodreads; Shelfari; Barnes & Noble; Indie Book Reviewers (4 stars)Woah, what an insane book (ha- literally)! I\\\\\\'m not one for rehashing the plot (that\\\\\\'s what the summary is for on the book description page), but I didn\\\\\\'t expect to be so sucked into this world that Mr. Spriggs created as I was. I will probably have nightmares! That Purvis Johnson is one \\\\\\'interesting\\\\\\' guy! there is so much mystery and intrigue and \\\\\\'what the heck is happening here\\\\\\' that you can\\\\\\'t help but want to keep reading more and more...Recommended read. Brenda Maxwell - Goodreads; Shelfari; Barnes & Noble; Indie Book Reviewers (4-5 stars) Okay, I don\\\\\\'t even know where to begin because so much happens and I don\\\\\\'t want to give anything away... \"Johnson Road\" by author Clayton E. Spriggs is one of the most original and just flat out interesting mystery/thriller/suspense novels I\\\\\\'ve ever read. I liked it for so many different reasons, first the writing was great. The strong word choice and fluid prose makes it a very easy book to lose yourself in. There are enough descriptions where you can picture everything perfectly, but not so much that it bogs down the pacing... I liked that there were things I haven\\\\\\'t seen in other books like this before, and the interweaving plot lines were complex enough to keep me interested and engaged, but no so much where you get confused... a great book that will stay with me for a long time. Stacy Decker - Goodreads; Shelfari; Barnes & Noble; Indie Book Reviewers (4 stars)Let the bodies hit the floor! Yikes! Okay this book is not for the faint of heart or easily spooked... it is downright creepy and at times quite disturbing. So if you are into that then this is the book for you! .....You have small town Americana, weird occurrences, disappearances, abduction, mysteries, deaths... nothing is as it seems and the events are crazy terrible. Addicting reading and I look forward to more from Clayton Spriggs. Jenna Brewster - Goodreads; Shelfari; Barnes & Noble; Indie Book Reviewers (5 stars)\\']'"
            ]
          },
          "metadata": {
            "tags": []
          },
          "execution_count": 11
        }
      ]
    },
    {
      "cell_type": "code",
      "metadata": {
        "id": "Kftj6bVsEmXe",
        "colab_type": "code",
        "outputId": "5588d250-0dcb-4937-f7b9-d1b490f6a248",
        "colab": {
          "base_uri": "https://localhost:8080/",
          "height": 218
        }
      },
      "source": [
        "merged_df['description']"
      ],
      "execution_count": 0,
      "outputs": [
        {
          "output_type": "execute_result",
          "data": {
            "text/plain": [
              "0          ['When I started reading this book, \"Jonson Ro...\n",
              "1          ['When I started reading this book, \"Jonson Ro...\n",
              "2          ['When I started reading this book, \"Jonson Ro...\n",
              "3          ['When I started reading this book, \"Jonson Ro...\n",
              "4          ['When I started reading this book, \"Jonson Ro...\n",
              "                                 ...                        \n",
              "5431766    ['Stens 150-300 Stens Starter Pulley. REPLACES...\n",
              "5431767    ['Stens 150-300 Stens Starter Pulley. REPLACES...\n",
              "5431768    ['1534943 Caterpillar, Undercarriage Parts Wei...\n",
              "5431769    ['Stens 280-016 Stens Flat Idler. REPLACES OEM...\n",
              "5431770    ['7W5838  Weight(lbs): 11.60 Length(cm): 137.1...\n",
              "Name: description, Length: 5431771, dtype: object"
            ]
          },
          "metadata": {
            "tags": []
          },
          "execution_count": 12
        }
      ]
    },
    {
      "cell_type": "code",
      "metadata": {
        "id": "lXML9QMpEuEN",
        "colab_type": "code",
        "outputId": "a7dcf9a7-90b3-4f9e-c7ba-f208b2d3b9c8",
        "colab": {
          "base_uri": "https://localhost:8080/",
          "height": 538
        }
      },
      "source": [
        "merged_df.iloc[7]"
      ],
      "execution_count": 0,
      "outputs": [
        {
          "output_type": "execute_result",
          "data": {
            "text/plain": [
              "overall                                                           5\n",
              "vote                                                            NaN\n",
              "verified                                                       True\n",
              "reviewTime                                              11 14, 2016\n",
              "reviewerID                                           A22ON5TJM4PQCD\n",
              "asin                                                     0986121126\n",
              "style                                {'Format:': ' Kindle Edition'}\n",
              "reviewerName                                              lulubelle\n",
              "reviewText        Cliffhanger! Can't wait to read the 2nd book t...\n",
              "summary                                                      Scary!\n",
              "unixReviewTime                                           1479081600\n",
              "image_x                                                         NaN\n",
              "Unnamed: 0                                                        5\n",
              "category          ['Patio, Lawn & Garden', 'Pest Control', 'Bug ...\n",
              "tech1                                                           NaN\n",
              "description       ['When I started reading this book, \"Jonson Ro...\n",
              "title                                                  Johnson Road\n",
              "also_buy                                                        NaN\n",
              "brand                         Visit Amazon's Clayton E Spriggs Page\n",
              "feature                                                         NaN\n",
              "rank                                              3,508,632inBooks(\n",
              "main_cat                                                      Books\n",
              "date                                                            NaN\n",
              "price                                                           NaN\n",
              "image_y                                                         NaN\n",
              "also_view                                                       NaN\n",
              "similar_item                                                    NaN\n",
              "details                                                         NaN\n",
              "fit                                                             NaN\n",
              "tech2                                                           NaN\n",
              "Name: 7, dtype: object"
            ]
          },
          "metadata": {
            "tags": []
          },
          "execution_count": 18
        }
      ]
    },
    {
      "cell_type": "code",
      "metadata": {
        "id": "mLYQHfN5Bx6F",
        "colab_type": "code",
        "outputId": "6f945da1-457e-4299-ecf8-9b7e7e71d4f7",
        "colab": {
          "base_uri": "https://localhost:8080/",
          "height": 34
        }
      },
      "source": [
        "type(merged_df.category.unique())\n"
      ],
      "execution_count": 0,
      "outputs": [
        {
          "output_type": "execute_result",
          "data": {
            "text/plain": [
              "numpy.ndarray"
            ]
          },
          "metadata": {
            "tags": []
          },
          "execution_count": 19
        }
      ]
    },
    {
      "cell_type": "code",
      "metadata": {
        "id": "EjYi_GgkEzXP",
        "colab_type": "code",
        "outputId": "b51cf1a6-f862-48e2-ab9d-9c98c4a8503e",
        "colab": {
          "base_uri": "https://localhost:8080/",
          "height": 50
        }
      },
      "source": [
        "cat_list= list(merged_df.category.unique())\n",
        "print(type(cat_list))\n",
        "print('length of the list', len(cat_list))\n",
        "#cat_list#"
      ],
      "execution_count": 0,
      "outputs": [
        {
          "output_type": "stream",
          "text": [
            "<class 'list'>\n",
            "length of the list 1207\n"
          ],
          "name": "stdout"
        }
      ]
    },
    {
      "cell_type": "markdown",
      "metadata": {
        "id": "l21dOKj1H38B",
        "colab_type": "text"
      },
      "source": [
        "Let's do LDA on merged_df after removing the product details"
      ]
    },
    {
      "cell_type": "code",
      "metadata": {
        "id": "wL5cLgRaFTkr",
        "colab_type": "code",
        "colab": {}
      },
      "source": [
        "!pip install gensim\n",
        "!pip install warnings\n",
        "!pip install pyLDAvis\n",
        "!pip install tmtoolkit==0.2.0\n",
        "!pip install lda"
      ],
      "execution_count": 0,
      "outputs": []
    },
    {
      "cell_type": "code",
      "metadata": {
        "id": "71suUga4ICCv",
        "colab_type": "code",
        "outputId": "dfebb1cc-42c3-4a43-eaee-94311ea77b2f",
        "colab": {
          "base_uri": "https://localhost:8080/",
          "height": 84
        }
      },
      "source": [
        "import pandas as pd\n",
        "import logging\n",
        "import pyLDAvis.gensim\n",
        "import json\n",
        "import warnings\n",
        "warnings.filterwarnings('ignore')  # To ignore all warnings that arise here to enhance clarity\n",
        "\n",
        "from gensim.models.coherencemodel import CoherenceModel\n",
        "from gensim.models.ldamodel import LdaModel\n",
        "from gensim.corpora.dictionary import Dictionary\n",
        "from numpy import array\n",
        "import nltk\n",
        "nltk.download('wordnet')\n",
        "\n",
        "nltk.download('stopwords') \n",
        "from nltk.corpus import stopwords\n",
        "\n",
        "import numpy as np\n",
        "import spacy\n",
        "\n",
        "import matplotlib.pyplot as plt   # for plotting the results\n",
        "plt.style.use('ggplot')\n",
        "\n",
        "# for loading the data:\n",
        "#from tmtoolkit.utils import unpickle_file\n",
        "# for model evaluation with the lda package:\n",
        "from tmtoolkit.lda_utils import tm_lda\n",
        "# for constructing the evaluation plot:\n",
        "from tmtoolkit.lda_utils.common import results_by_parameter\n",
        "from tmtoolkit.lda_utils.visualize import plot_eval_results"
      ],
      "execution_count": 0,
      "outputs": [
        {
          "output_type": "stream",
          "text": [
            "[nltk_data] Downloading package wordnet to /root/nltk_data...\n",
            "[nltk_data]   Package wordnet is already up-to-date!\n",
            "[nltk_data] Downloading package stopwords to /root/nltk_data...\n",
            "[nltk_data]   Package stopwords is already up-to-date!\n"
          ],
          "name": "stdout"
        }
      ]
    },
    {
      "cell_type": "code",
      "metadata": {
        "id": "hPedwufu0aPj",
        "colab_type": "code",
        "outputId": "84eb3262-a497-4787-8282-f73db96ea710",
        "colab": {
          "base_uri": "https://localhost:8080/",
          "height": 34
        }
      },
      "source": [
        "type(merged_df['summary'])"
      ],
      "execution_count": 0,
      "outputs": [
        {
          "output_type": "execute_result",
          "data": {
            "text/plain": [
              "pandas.core.series.Series"
            ]
          },
          "metadata": {
            "tags": []
          },
          "execution_count": 29
        }
      ]
    },
    {
      "cell_type": "code",
      "metadata": {
        "id": "G1tNChI82zR9",
        "colab_type": "code",
        "colab": {}
      },
      "source": [
        "# Define function for tokenize and lemmatizing\n",
        "from nltk.stem.wordnet import WordNetLemmatizer\n",
        "from nltk.tokenize import RegexpTokenizer\n",
        "\n",
        "#First, let's remove the stopwords\n",
        "stop_words = stopwords.words('english')\n",
        "stop_words.extend(cat_list) \n",
        "merged_df['summary'] = merged_df['summary'].astype(str) \n",
        "merged_df['summary'] = merged_df.summary.str.replace(\"[^\\w\\s]_\", \"\").str.lower()\n",
        "merged_df.loc[:,'summary'] = merged_df['summary'].apply(lambda x: ' '.join([item for item in x.split() if item not in stop_words]))\n"
      ],
      "execution_count": 0,
      "outputs": []
    },
    {
      "cell_type": "code",
      "metadata": {
        "id": "qL6nHFLmIE0Q",
        "colab_type": "code",
        "outputId": "66bf6705-f453-4165-a42e-48e7ee2ac601",
        "colab": {
          "base_uri": "https://localhost:8080/",
          "height": 134
        }
      },
      "source": [
        "\n",
        "# # Define function for tokenize and lemmatizing\n",
        "# from nltk.stem.wordnet import WordNetLemmatizer\n",
        "# from nltk.tokenize import RegexpTokenizer\n",
        "\n",
        "\n",
        "# stop_words = stopwords.words('english')\n",
        "# stop_words.extend(cat_list)  \n",
        "\n",
        "# def remove_stopwords(rev):\n",
        "#     # rev is a review text, one string\n",
        "#     rev_new = \" \".join([i for i in rev if i not in stop_words])\n",
        "#     return rev_new\n",
        "\n",
        "# nlp = spacy.load('en', disable=['parser', 'ner'])\n",
        "\n",
        "#merged_df['summary'] = merged_df.summary.apply(remove_stopwords)\n",
        "#merged_df.loc[:,'summary'] = [remove_stopwords(r) for r in merged_df['summary']]\n",
        "print('Stopwords Removed \\n')\n",
        "# Convert to array\n",
        "docs = array(merged_df['summary'].head(200000).astype(str))\n",
        "print(type(docs))\n",
        "print(len(docs))\n",
        "def docs_preprocessor(docs):\n",
        "    tokenizer = RegexpTokenizer(r'\\w+')\n",
        "    for idx in range(len(docs)):\n",
        "        docs[idx] = docs[idx].lower()  # Convert to lowercase.\n",
        "        docs[idx] = tokenizer.tokenize(docs[idx])  # Split into words.\n",
        "\n",
        "    # Remove numbers, but not words that contain numbers.\n",
        "    docs = [[token for token in doc if not token.isdigit()] for doc in docs]\n",
        "    \n",
        "    # Remove words that are only one character.\n",
        "    docs = [[token for token in doc if len(token) > 3] for doc in docs]\n",
        "    \n",
        "    # Lemmatize all words in documents.\n",
        "    lemmatizer = WordNetLemmatizer()\n",
        "    docs = [[lemmatizer.lemmatize(token) for token in doc] for doc in docs]\n",
        "  \n",
        "    return docs\n",
        "# Perform function on our document\n",
        "docs = docs_preprocessor(docs)\n",
        "\n",
        "#Create Biagram & Trigram Models \n",
        "from gensim.models import Phrases\n",
        "# Add bigrams and trigrams to docs,minimum count 10 means only that appear 10 times or more.\n",
        "bigram = Phrases(docs, min_count=10)\n",
        "trigram = Phrases(bigram[docs])\n",
        "# docs = [remove_stopwords(r) for r in docs]\n",
        "# print(type(docs))\n",
        "# docs = np.asarray(docs)\n",
        "# print(type(docs))\n",
        "for idx in range(len(docs)):\n",
        "    for token in bigram[docs[idx]]:\n",
        "        if '_' in token:\n",
        "            # Token is a bigram, add to document.\n",
        "            docs[idx].append(token)\n",
        "    for token in trigram[docs[idx]]:\n",
        "        if '_' in token:\n",
        "            # Token is a bigram, add to document.\n",
        "            docs[idx].append(token)\n",
        "#Remove rare & common tokens \n",
        "# Create a dictionary representation of the documents.\n",
        "dictionary = Dictionary(docs)\n",
        "dictionary.filter_extremes(no_below=10, no_above=0.2)\n",
        "#Create dictionary and corpus required for Topic Modeling\n",
        "corpus = [dictionary.doc2bow(doc) for doc in docs]\n",
        "print('Number of unique tokens: %d' % len(dictionary))\n",
        "print('Number of documents: %d' % len(corpus))\n",
        "print(corpus[:1])"
      ],
      "execution_count": 0,
      "outputs": [
        {
          "output_type": "stream",
          "text": [
            "Stopwords Removed \n",
            "\n",
            "<class 'numpy.ndarray'>\n",
            "200000\n",
            "Number of unique tokens: 3715\n",
            "Number of documents: 200000\n",
            "[[(0, 1), (1, 1)]]\n"
          ],
          "name": "stdout"
        }
      ]
    },
    {
      "cell_type": "code",
      "metadata": {
        "id": "rUFnasi6IKEv",
        "colab_type": "code",
        "outputId": "1b196901-b7bc-42ad-e910-5b6cd2013fe4",
        "colab": {
          "base_uri": "https://localhost:8080/",
          "height": 54
        }
      },
      "source": [
        "# Set parameters.\n",
        "num_topics = 30\n",
        "chunksize = 1000 \n",
        "passes = 20 \n",
        "iterations = 400\n",
        "eval_every = 1  \n",
        "\n",
        "# Make a index to word dictionary.\n",
        "temp = dictionary[0]  # only to \"load\" the dictionary.\n",
        "id2word = dictionary.id2token\n",
        "\n",
        "lda_model = LdaModel(corpus=corpus, id2word=id2word, chunksize=chunksize, \\\n",
        "                       alpha='auto', eta='auto', \\\n",
        "                       iterations=iterations, num_topics=num_topics, \\\n",
        "                       passes=passes, eval_every=eval_every)\n",
        "# Print the Keyword in the top topics\n",
        "print(lda_model.print_topics())"
      ],
      "execution_count": 0,
      "outputs": [
        {
          "output_type": "stream",
          "text": [
            "[(8, '0.105*\"terrible\" + 0.082*\"definitely\" + 0.076*\"round\" + 0.072*\"choice\" + 0.064*\"experience\" + 0.053*\"rain\" + 0.046*\"except\" + 0.045*\"clear\" + 0.041*\"packaging\" + 0.040*\"longer\"'), (6, '0.177*\"gift\" + 0.070*\"exactly\" + 0.066*\"shear\" + 0.060*\"hedge_shear\" + 0.058*\"ordered\" + 0.037*\"hedge\" + 0.034*\"christmas_gift\" + 0.032*\"even_though\" + 0.031*\"christmas\" + 0.030*\"powerful\"'), (18, '0.151*\"tool\" + 0.130*\"must\" + 0.103*\"pump\" + 0.056*\"must_have\" + 0.050*\"extremely\" + 0.039*\"suck\" + 0.033*\"else\" + 0.031*\"return\" + 0.031*\"older\" + 0.022*\"have\"'), (1, '0.132*\"would\" + 0.105*\"would_recommend\" + 0.104*\"still\" + 0.079*\"replacement\" + 0.074*\"heavy_duty\" + 0.060*\"working\" + 0.048*\"save_money\" + 0.047*\"heavy\" + 0.046*\"still_going\" + 0.045*\"filter\"'), (11, '0.163*\"time\" + 0.094*\"last\" + 0.067*\"summer\" + 0.063*\"recommend\" + 0.059*\"highly_recommend\" + 0.058*\"plastic\" + 0.044*\"using\" + 0.043*\"long\" + 0.043*\"highly_recommended\" + 0.041*\"last_long\"'), (5, '0.103*\"disappointed\" + 0.050*\"indoor\" + 0.049*\"foot\" + 0.048*\"super\" + 0.047*\"material\" + 0.045*\"replacement_spool\" + 0.042*\"idea\" + 0.039*\"hard\" + 0.037*\"tube\" + 0.027*\"especially\"'), (16, '0.068*\"water\" + 0.059*\"piece_junk\" + 0.059*\"enough\" + 0.058*\"perfectly\" + 0.057*\"solar\" + 0.056*\"problem\" + 0.053*\"unit\" + 0.050*\"handle\" + 0.031*\"purpose\" + 0.029*\"storage\"'), (2, '0.289*\"beautiful\" + 0.107*\"waste\" + 0.066*\"light\" + 0.058*\"light_weight\" + 0.049*\"outdoor\" + 0.040*\"needed\" + 0.030*\"weight\" + 0.026*\"garbage\" + 0.025*\"never\" + 0.023*\"flimsy\"'), (7, '0.356*\"mower\" + 0.117*\"happy\" + 0.082*\"poor\" + 0.042*\"poor_quality\" + 0.031*\"kid\" + 0.029*\"customer_service\" + 0.028*\"poor_design\" + 0.026*\"picture\" + 0.023*\"cool\" + 0.021*\"customer\"'), (19, '0.510*\"perfect\" + 0.087*\"design\" + 0.062*\"lovely\" + 0.034*\"okay\" + 0.031*\"power\" + 0.029*\"wrong\" + 0.024*\"recommended\" + 0.018*\"winter\" + 0.015*\"control\" + 0.015*\"mine\"'), (17, '0.288*\"easy\" + 0.268*\"sound\" + 0.080*\"value\" + 0.064*\"sturdy\" + 0.032*\"loved\" + 0.023*\"read\" + 0.019*\"quite\" + 0.019*\"solid\" + 0.018*\"favorite\" + 0.017*\"also\"'), (27, '0.506*\"four\" + 0.358*\"nice\" + 0.027*\"came\" + 0.018*\"though\" + 0.013*\"feature\" + 0.013*\"thick\" + 0.007*\"gadget\" + 0.006*\"anywhere\" + 0.006*\"adjustment\" + 0.006*\"birthday\"'), (26, '0.249*\"well\" + 0.141*\"year\" + 0.122*\"made\" + 0.058*\"thing\" + 0.041*\"part\" + 0.035*\"lasted\" + 0.032*\"strong\" + 0.025*\"lot\" + 0.024*\"broken\" + 0.022*\"missing_part\"'), (4, '0.104*\"lawn\" + 0.062*\"review\" + 0.053*\"junk\" + 0.050*\"right\" + 0.047*\"stand\" + 0.041*\"food\" + 0.039*\"high\" + 0.039*\"purchased\" + 0.033*\"second\" + 0.031*\"hose\"'), (10, '0.151*\"excellent\" + 0.128*\"black_decker\" + 0.126*\"better\" + 0.072*\"much\" + 0.051*\"could\" + 0.049*\"black\" + 0.048*\"easy_assemble\" + 0.043*\"decker\" + 0.029*\"sure\" + 0.027*\"trap\"'), (29, '0.269*\"like\" + 0.240*\"best\" + 0.136*\"small\" + 0.072*\"make\" + 0.035*\"model\" + 0.024*\"decent\" + 0.020*\"home\" + 0.018*\"grass\" + 0.017*\"leaf\" + 0.017*\"say\"'), (24, '0.337*\"love\" + 0.216*\"feeder\" + 0.148*\"three\" + 0.097*\"bird\" + 0.035*\"bird_feeder\" + 0.033*\"deal\" + 0.027*\"amazing\" + 0.009*\"blade\" + 0.009*\"cut\" + 0.008*\"these\"'), (22, '0.421*\"good\" + 0.363*\"work\" + 0.039*\"fine\" + 0.028*\"advertised\" + 0.020*\"satisfied\" + 0.017*\"amazon\" + 0.009*\"feel\" + 0.009*\"lightweight\" + 0.008*\"stuff\" + 0.008*\"trimmer\"'), (25, '0.972*\"five\" + 0.024*\"thin\" + 0.002*\"true\" + 0.001*\"rugged\" + 0.001*\"link\" + 0.000*\"brilliant\" + 0.000*\"through\" + 0.000*\"finger\" + 0.000*\"worth\" + 0.000*\"recommend\"'), (13, '0.659*\"great\" + 0.163*\"product\" + 0.098*\"price\" + 0.016*\"piece\" + 0.010*\"service\" + 0.005*\"protection\" + 0.005*\"disappointment\" + 0.004*\"glad\" + 0.004*\"lost\" + 0.004*\"basic\"')]\n"
          ],
          "name": "stdout"
        }
      ]
    },
    {
      "cell_type": "code",
      "metadata": {
        "id": "_UVXqB2dIOhH",
        "colab_type": "code",
        "outputId": "e8b5d759-373c-4a8c-8cc4-3ec0938e1089",
        "colab": {
          "base_uri": "https://localhost:8080/",
          "height": 232
        }
      },
      "source": [
        "#This code block is to see as a data frame what each topic actually comprises of.\n",
        "word_dict = {};\n",
        "for i in range(num_topics):\n",
        "    words = lda_model.show_topic(i, topn =5)\n",
        "    word_dict['Topic # ' + '{:02d}'.format(i+1)] = [i[0] for i in words]\n",
        "pd.DataFrame(word_dict)"
      ],
      "execution_count": 0,
      "outputs": [
        {
          "output_type": "execute_result",
          "data": {
            "text/html": [
              "<div>\n",
              "<style scoped>\n",
              "    .dataframe tbody tr th:only-of-type {\n",
              "        vertical-align: middle;\n",
              "    }\n",
              "\n",
              "    .dataframe tbody tr th {\n",
              "        vertical-align: top;\n",
              "    }\n",
              "\n",
              "    .dataframe thead th {\n",
              "        text-align: right;\n",
              "    }\n",
              "</style>\n",
              "<table border=\"1\" class=\"dataframe\">\n",
              "  <thead>\n",
              "    <tr style=\"text-align: right;\">\n",
              "      <th></th>\n",
              "      <th>Topic # 01</th>\n",
              "      <th>Topic # 02</th>\n",
              "      <th>Topic # 03</th>\n",
              "      <th>Topic # 04</th>\n",
              "      <th>Topic # 05</th>\n",
              "      <th>Topic # 06</th>\n",
              "      <th>Topic # 07</th>\n",
              "      <th>Topic # 08</th>\n",
              "      <th>Topic # 09</th>\n",
              "      <th>Topic # 10</th>\n",
              "      <th>Topic # 11</th>\n",
              "      <th>Topic # 12</th>\n",
              "      <th>Topic # 13</th>\n",
              "      <th>Topic # 14</th>\n",
              "      <th>Topic # 15</th>\n",
              "      <th>Topic # 16</th>\n",
              "      <th>Topic # 17</th>\n",
              "      <th>Topic # 18</th>\n",
              "      <th>Topic # 19</th>\n",
              "      <th>Topic # 20</th>\n",
              "      <th>Topic # 21</th>\n",
              "      <th>Topic # 22</th>\n",
              "      <th>Topic # 23</th>\n",
              "      <th>Topic # 24</th>\n",
              "      <th>Topic # 25</th>\n",
              "      <th>Topic # 26</th>\n",
              "      <th>Topic # 27</th>\n",
              "      <th>Topic # 28</th>\n",
              "      <th>Topic # 29</th>\n",
              "      <th>Topic # 30</th>\n",
              "    </tr>\n",
              "  </thead>\n",
              "  <tbody>\n",
              "    <tr>\n",
              "      <th>0</th>\n",
              "      <td>really</td>\n",
              "      <td>would</td>\n",
              "      <td>beautiful</td>\n",
              "      <td>little</td>\n",
              "      <td>lawn</td>\n",
              "      <td>disappointed</td>\n",
              "      <td>gift</td>\n",
              "      <td>mower</td>\n",
              "      <td>terrible</td>\n",
              "      <td>ever</td>\n",
              "      <td>excellent</td>\n",
              "      <td>time</td>\n",
              "      <td>fit</td>\n",
              "      <td>great</td>\n",
              "      <td>electric</td>\n",
              "      <td>pool</td>\n",
              "      <td>water</td>\n",
              "      <td>easy</td>\n",
              "      <td>tool</td>\n",
              "      <td>perfect</td>\n",
              "      <td>look</td>\n",
              "      <td>quality</td>\n",
              "      <td>good</td>\n",
              "      <td>cover</td>\n",
              "      <td>love</td>\n",
              "      <td>five</td>\n",
              "      <td>well</td>\n",
              "      <td>four</td>\n",
              "      <td>worth</td>\n",
              "      <td>like</td>\n",
              "    </tr>\n",
              "    <tr>\n",
              "      <th>1</th>\n",
              "      <td>awesome</td>\n",
              "      <td>would_recommend</td>\n",
              "      <td>waste</td>\n",
              "      <td>patio</td>\n",
              "      <td>review</td>\n",
              "      <td>indoor</td>\n",
              "      <td>exactly</td>\n",
              "      <td>happy</td>\n",
              "      <td>definitely</td>\n",
              "      <td>cheap</td>\n",
              "      <td>black_decker</td>\n",
              "      <td>last</td>\n",
              "      <td>wonderful</td>\n",
              "      <td>product</td>\n",
              "      <td>bought</td>\n",
              "      <td>worked</td>\n",
              "      <td>piece_junk</td>\n",
              "      <td>sound</td>\n",
              "      <td>must</td>\n",
              "      <td>design</td>\n",
              "      <td>keep</td>\n",
              "      <td>waste_money</td>\n",
              "      <td>work</td>\n",
              "      <td>need</td>\n",
              "      <td>feeder</td>\n",
              "      <td>thin</td>\n",
              "      <td>year</td>\n",
              "      <td>nice</td>\n",
              "      <td>clean</td>\n",
              "      <td>best</td>\n",
              "    </tr>\n",
              "    <tr>\n",
              "      <th>2</th>\n",
              "      <td>purchase</td>\n",
              "      <td>still</td>\n",
              "      <td>light</td>\n",
              "      <td>item</td>\n",
              "      <td>junk</td>\n",
              "      <td>foot</td>\n",
              "      <td>shear</td>\n",
              "      <td>poor</td>\n",
              "      <td>round</td>\n",
              "      <td>durable</td>\n",
              "      <td>better</td>\n",
              "      <td>summer</td>\n",
              "      <td>hole</td>\n",
              "      <td>price</td>\n",
              "      <td>yard</td>\n",
              "      <td>pretty</td>\n",
              "      <td>enough</td>\n",
              "      <td>value</td>\n",
              "      <td>pump</td>\n",
              "      <td>lovely</td>\n",
              "      <td>even</td>\n",
              "      <td>money</td>\n",
              "      <td>fine</td>\n",
              "      <td>size</td>\n",
              "      <td>three</td>\n",
              "      <td>true</td>\n",
              "      <td>made</td>\n",
              "      <td>came</td>\n",
              "      <td>easily</td>\n",
              "      <td>small</td>\n",
              "    </tr>\n",
              "    <tr>\n",
              "      <th>3</th>\n",
              "      <td>pleased</td>\n",
              "      <td>replacement</td>\n",
              "      <td>light_weight</td>\n",
              "      <td>effective</td>\n",
              "      <td>right</td>\n",
              "      <td>super</td>\n",
              "      <td>hedge_shear</td>\n",
              "      <td>poor_quality</td>\n",
              "      <td>choice</td>\n",
              "      <td>fantastic</td>\n",
              "      <td>much</td>\n",
              "      <td>recommend</td>\n",
              "      <td>ground</td>\n",
              "      <td>piece</td>\n",
              "      <td>fast</td>\n",
              "      <td>expected</td>\n",
              "      <td>perfectly</td>\n",
              "      <td>sturdy</td>\n",
              "      <td>must_have</td>\n",
              "      <td>okay</td>\n",
              "      <td>like_charm</td>\n",
              "      <td>metal</td>\n",
              "      <td>advertised</td>\n",
              "      <td>worth_every</td>\n",
              "      <td>bird</td>\n",
              "      <td>rugged</td>\n",
              "      <td>thing</td>\n",
              "      <td>though</td>\n",
              "      <td>seems</td>\n",
              "      <td>make</td>\n",
              "    </tr>\n",
              "    <tr>\n",
              "      <th>4</th>\n",
              "      <td>found</td>\n",
              "      <td>heavy_duty</td>\n",
              "      <td>outdoor</td>\n",
              "      <td>absolutely</td>\n",
              "      <td>stand</td>\n",
              "      <td>material</td>\n",
              "      <td>ordered</td>\n",
              "      <td>kid</td>\n",
              "      <td>experience</td>\n",
              "      <td>simple</td>\n",
              "      <td>could</td>\n",
              "      <td>highly_recommend</td>\n",
              "      <td>fit_perfectly</td>\n",
              "      <td>service</td>\n",
              "      <td>wish</td>\n",
              "      <td>first</td>\n",
              "      <td>solar</td>\n",
              "      <td>loved</td>\n",
              "      <td>extremely</td>\n",
              "      <td>power</td>\n",
              "      <td>month</td>\n",
              "      <td>worth_money</td>\n",
              "      <td>satisfied</td>\n",
              "      <td>cheaply_made</td>\n",
              "      <td>bird_feeder</td>\n",
              "      <td>link</td>\n",
              "      <td>part</td>\n",
              "      <td>feature</td>\n",
              "      <td>nothing</td>\n",
              "      <td>model</td>\n",
              "    </tr>\n",
              "  </tbody>\n",
              "</table>\n",
              "</div>"
            ],
            "text/plain": [
              "  Topic # 01       Topic # 02    Topic # 03  ... Topic # 28 Topic # 29 Topic # 30\n",
              "0     really            would     beautiful  ...       four      worth       like\n",
              "1    awesome  would_recommend         waste  ...       nice      clean       best\n",
              "2   purchase            still         light  ...       came     easily      small\n",
              "3    pleased      replacement  light_weight  ...     though      seems       make\n",
              "4      found       heavy_duty       outdoor  ...    feature    nothing      model\n",
              "\n",
              "[5 rows x 30 columns]"
            ]
          },
          "metadata": {
            "tags": []
          },
          "execution_count": 17
        }
      ]
    },
    {
      "cell_type": "code",
      "metadata": {
        "id": "AiaYTTL6IRdO",
        "colab_type": "code",
        "outputId": "298d5f71-829b-42c7-9008-59155642a81c",
        "colab": {
          "base_uri": "https://localhost:8080/",
          "height": 50
        }
      },
      "source": [
        "# Compute Coherence Score using c_v\n",
        "coherence_model_lda = CoherenceModel(model=lda_model, texts=docs, dictionary=dictionary, coherence='c_v')\n",
        "coherence_lda = coherence_model_lda.get_coherence()\n",
        "print('\\nCoherence Score: ', coherence_lda)"
      ],
      "execution_count": 0,
      "outputs": [
        {
          "output_type": "stream",
          "text": [
            "\n",
            "Coherence Score:  0.5620787733770233\n"
          ],
          "name": "stdout"
        }
      ]
    },
    {
      "cell_type": "code",
      "metadata": {
        "id": "KtFQh4K5IVZf",
        "colab_type": "code",
        "colab": {}
      },
      "source": [
        "def compute_coherence_values(dictionary, corpus, texts, limit, start=2, step=3):\n",
        "    \"\"\"\n",
        "    Compute c_v coherence for various number of topics\n",
        "\n",
        "    Parameters:\n",
        "    ----------\n",
        "    dictionary : Gensim dictionary\n",
        "    corpus : Gensim corpus\n",
        "    texts : List of input texts\n",
        "    limit : Max num of topics\n",
        "\n",
        "    Returns:\n",
        "    -------\n",
        "    model_list : List of LDA topic models\n",
        "    coherence_values : Coherence values corresponding to the LDA model with respective number of topics\n",
        "    \"\"\"\n",
        "    coherence_values = []\n",
        "    model_list = []\n",
        "    for num_topics in range(start, limit, step):\n",
        "        model=LdaModel(corpus=corpus, id2word=dictionary, num_topics=num_topics)\n",
        "        model_list.append(model)\n",
        "        coherencemodel = CoherenceModel(model=model, texts=texts, dictionary=dictionary, coherence='c_v')\n",
        "        coherence_values.append(coherencemodel.get_coherence())\n",
        "\n",
        "    return model_list, coherence_values"
      ],
      "execution_count": 0,
      "outputs": []
    },
    {
      "cell_type": "code",
      "metadata": {
        "id": "Aeccv-34IZ1B",
        "colab_type": "code",
        "outputId": "4c4be540-d502-4e00-d9a2-fa715c9bb0b4",
        "colab": {
          "base_uri": "https://localhost:8080/",
          "height": 296
        }
      },
      "source": [
        "#Model list and plot Coherence score against a number of topics\n",
        "model_list, coherence_values = compute_coherence_values(dictionary=dictionary, corpus=corpus, texts=docs, start=2, limit=40, step=6)\n",
        "# Show graph\n",
        "import matplotlib.pyplot as plt\n",
        "limit=40; start=2; step=6;\n",
        "x = range(start, limit, step)\n",
        "plt.plot(x, coherence_values)\n",
        "plt.xlabel(\"Num Topics\")\n",
        "plt.ylabel(\"Coherence score\")\n",
        "plt.legend((\"coherence_values\"), loc='best')\n",
        "plt.show()\n",
        "plt.savefig('Coherence score against a number of topics- Review_Text', dpi = 500)"
      ],
      "execution_count": 0,
      "outputs": [
        {
          "output_type": "display_data",
          "data": {
            "image/png": "[encoded data removed]",
            "text/plain": [
              "<Figure size 432x288 with 1 Axes>"
            ]
          },
          "metadata": {
            "tags": []
          }
        },
        {
          "output_type": "display_data",
          "data": {
            "text/plain": [
              "<Figure size 432x288 with 0 Axes>"
            ]
          },
          "metadata": {
            "tags": []
          }
        }
      ]
    },
    {
      "cell_type": "code",
      "metadata": {
        "id": "p9mLXOQTOAWw",
        "colab_type": "code",
        "outputId": "8fa5db4e-887e-48c2-9255-7088a7bb3781",
        "colab": {
          "base_uri": "https://localhost:8080/",
          "height": 881
        }
      },
      "source": [
        "lda_display = pyLDAvis.gensim.prepare(lda_model, corpus, dictionary, sort_topics=False)\n",
        "pyLDAvis.display(lda_display)"
      ],
      "execution_count": 0,
      "outputs": [
        {
          "output_type": "execute_result",
          "data": {
            "text/html": [
              "\n",
              "<link rel=\"stylesheet\" type=\"text/css\" href=\"https://cdn.rawgit.com/bmabey/pyLDAvis/files/ldavis.v1.0.0.css\">\n",
              "\n",
              "\n",
              "<div id=\"ldavis_el1501396898303592328496703714\"></div>\n",
              "<script type=\"text/javascript\">\n",
              "\n",
              "var ldavis_el1501396898303592328496703714_data = {\"mdsDat\": {\"x\": [-0.007515763802114216, -0.20259297899171932, -0.0074678869050927715, -0.007677395326694071, -0.007570878958410001, -0.007696884173120013, -0.0076908710285324726, -0.007453943946322, -0.00782922662612377, -0.0075146053413506575, -0.007345614590316174, -0.2024348260541775, -0.007614920609381726, -0.006883277817465848, -0.007651812002111025, -0.007273443788129357, -0.0077816032505013425, -0.00729383517583432, -0.00781609938555628, -0.007529651406298203, -0.007646463578223958, 0.3008891657366519, -0.007051475110679212, -0.007428073873365521, -0.007146539884813705, -0.0067225183715866514, -0.0073929687202526195, -0.007218251223442888, 0.29772049617024055, -0.007367851965277589], \"y\": [-0.03568497517828707, 0.28387687808288464, -0.03596500710939277, -0.03535572403023045, -0.03587551539262522, -0.035139932843660605, -0.034808414171841176, -0.036021265807063184, -0.032248153791072404, -0.035541700434863974, -0.0362820131658458, 0.28360283864435093, -0.03555140018132351, -0.037146558847230345, -0.03548908024617037, -0.036223204352103834, -0.03496749645814257, -0.036259885325427225, -0.03372596619552685, -0.03550561914071538, -0.03546384804792879, 0.1812447629258891, -0.03690746839139468, -0.03625777904549375, -0.03656482670624726, -0.03719362031731996, -0.03604353408849561, -0.03612789403532105, 0.179637465717725, -0.03601106206712584], \"topics\": [1, 2, 3, 4, 5, 6, 7, 8, 9, 10, 11, 12, 13, 14, 15, 16, 17, 18, 19, 20, 21, 22, 23, 24, 25, 26, 27, 28, 29, 30], \"cluster\": [1, 1, 1, 1, 1, 1, 1, 1, 1, 1, 1, 1, 1, 1, 1, 1, 1, 1, 1, 1, 1, 1, 1, 1, 1, 1, 1, 1, 1, 1], \"Freq\": [3.0660147666931152, 2.326112985610962, 2.5806612968444824, 2.719599485397339, 3.9075653553009033, 2.424631357192993, 1.4698801040649414, 2.5664665699005127, 1.4350135326385498, 2.9008336067199707, 4.096535682678223, 2.5400872230529785, 2.877176523208618, 8.639078140258789, 2.766392469406128, 3.0256221294403076, 2.414907693862915, 3.181382179260254, 1.7488125562667847, 2.3997597694396973, 2.916273355484009, 3.1530086994171143, 7.54158353805542, 2.943699598312378, 4.200965881347656, 6.85484504699707, 3.6372408866882324, 2.796314001083374, 2.568030834197998, 4.301506042480469]}, \"tinfo\": {\"Category\": [\"Default\", \"Default\", \"Default\", \"Default\", \"Default\", \"Default\", \"Default\", \"Default\", \"Default\", \"Default\", \"Default\", \"Default\", \"Default\", \"Default\", \"Default\", \"Default\", \"Default\", \"Default\", \"Default\", \"Default\", \"Default\", \"Default\", \"Default\", \"Default\", \"Default\", \"Default\", \"Default\", \"Default\", \"Default\", \"Default\", \"Topic1\", \"Topic1\", \"Topic1\", \"Topic1\", \"Topic1\", \"Topic1\", \"Topic1\", \"Topic1\", \"Topic1\", \"Topic1\", \"Topic1\", \"Topic1\", \"Topic1\", \"Topic1\", \"Topic1\", \"Topic1\", \"Topic1\", \"Topic1\", \"Topic1\", \"Topic1\", \"Topic1\", \"Topic1\", \"Topic1\", \"Topic1\", \"Topic1\", \"Topic1\", \"Topic1\", \"Topic1\", \"Topic1\", \"Topic1\", \"Topic2\", \"Topic2\", \"Topic2\", \"Topic2\", \"Topic2\", \"Topic2\", \"Topic2\", \"Topic2\", \"Topic2\", \"Topic2\", \"Topic2\", \"Topic2\", \"Topic2\", \"Topic2\", \"Topic2\", \"Topic2\", \"Topic2\", \"Topic2\", \"Topic2\", \"Topic2\", \"Topic2\", \"Topic2\", \"Topic2\", \"Topic2\", \"Topic2\", \"Topic2\", \"Topic2\", \"Topic2\", \"Topic2\", \"Topic2\", \"Topic2\", \"Topic3\", \"Topic3\", \"Topic3\", \"Topic3\", \"Topic3\", \"Topic3\", \"Topic3\", \"Topic3\", \"Topic3\", \"Topic3\", \"Topic3\", \"Topic3\", \"Topic3\", \"Topic3\", \"Topic3\", \"Topic3\", \"Topic3\", \"Topic3\", \"Topic3\", \"Topic3\", \"Topic3\", \"Topic3\", \"Topic3\", \"Topic3\", \"Topic3\", \"Topic3\", \"Topic3\", \"Topic3\", \"Topic3\", \"Topic3\", \"Topic4\", \"Topic4\", \"Topic4\", \"Topic4\", \"Topic4\", \"Topic4\", \"Topic4\", \"Topic4\", \"Topic4\", \"Topic4\", \"Topic4\", \"Topic4\", \"Topic4\", \"Topic4\", \"Topic4\", \"Topic4\", \"Topic4\", \"Topic4\", \"Topic4\", \"Topic4\", \"Topic4\", \"Topic4\", \"Topic4\", \"Topic4\", \"Topic4\", \"Topic4\", \"Topic4\", \"Topic4\", \"Topic4\", \"Topic4\", \"Topic5\", \"Topic5\", \"Topic5\", \"Topic5\", \"Topic5\", \"Topic5\", \"Topic5\", \"Topic5\", \"Topic5\", \"Topic5\", \"Topic5\", \"Topic5\", \"Topic5\", \"Topic5\", \"Topic5\", \"Topic5\", \"Topic5\", \"Topic5\", \"Topic5\", \"Topic5\", \"Topic5\", \"Topic5\", \"Topic5\", \"Topic5\", \"Topic5\", \"Topic5\", \"Topic5\", \"Topic5\", \"Topic5\", \"Topic5\", \"Topic6\", \"Topic6\", \"Topic6\", \"Topic6\", \"Topic6\", \"Topic6\", \"Topic6\", \"Topic6\", \"Topic6\", \"Topic6\", \"Topic6\", \"Topic6\", \"Topic6\", \"Topic6\", \"Topic6\", \"Topic6\", \"Topic6\", \"Topic6\", \"Topic6\", \"Topic6\", \"Topic6\", \"Topic6\", \"Topic6\", \"Topic6\", \"Topic6\", \"Topic6\", \"Topic6\", \"Topic6\", \"Topic6\", \"Topic6\", \"Topic6\", \"Topic7\", \"Topic7\", \"Topic7\", \"Topic7\", \"Topic7\", \"Topic7\", \"Topic7\", \"Topic7\", \"Topic7\", \"Topic7\", \"Topic7\", \"Topic7\", \"Topic7\", \"Topic7\", \"Topic7\", \"Topic7\", \"Topic7\", \"Topic7\", \"Topic7\", \"Topic7\", \"Topic7\", \"Topic7\", \"Topic7\", \"Topic7\", \"Topic7\", \"Topic7\", \"Topic7\", \"Topic7\", \"Topic7\", \"Topic7\", \"Topic8\", \"Topic8\", \"Topic8\", \"Topic8\", \"Topic8\", \"Topic8\", \"Topic8\", \"Topic8\", \"Topic8\", \"Topic8\", \"Topic8\", \"Topic8\", \"Topic8\", \"Topic8\", \"Topic8\", \"Topic8\", \"Topic8\", \"Topic8\", \"Topic8\", \"Topic8\", \"Topic8\", \"Topic8\", \"Topic8\", \"Topic8\", \"Topic8\", \"Topic8\", \"Topic8\", \"Topic8\", \"Topic8\", \"Topic8\", \"Topic9\", \"Topic9\", \"Topic9\", \"Topic9\", \"Topic9\", \"Topic9\", \"Topic9\", \"Topic9\", \"Topic9\", \"Topic9\", \"Topic9\", \"Topic9\", \"Topic9\", \"Topic9\", \"Topic9\", \"Topic9\", \"Topic9\", \"Topic9\", \"Topic9\", \"Topic9\", \"Topic9\", \"Topic9\", \"Topic9\", \"Topic9\", \"Topic9\", \"Topic9\", \"Topic9\", \"Topic9\", \"Topic9\", \"Topic9\", \"Topic10\", \"Topic10\", \"Topic10\", \"Topic10\", \"Topic10\", \"Topic10\", \"Topic10\", \"Topic10\", \"Topic10\", \"Topic10\", \"Topic10\", \"Topic10\", \"Topic10\", \"Topic10\", \"Topic10\", \"Topic10\", \"Topic10\", \"Topic10\", \"Topic10\", \"Topic10\", \"Topic10\", \"Topic10\", \"Topic10\", \"Topic10\", \"Topic10\", \"Topic10\", \"Topic10\", \"Topic10\", \"Topic10\", \"Topic10\", \"Topic11\", \"Topic11\", \"Topic11\", \"Topic11\", \"Topic11\", \"Topic11\", \"Topic11\", \"Topic11\", \"Topic11\", \"Topic11\", \"Topic11\", \"Topic11\", \"Topic11\", \"Topic11\", \"Topic11\", \"Topic11\", \"Topic11\", \"Topic11\", \"Topic11\", \"Topic11\", \"Topic11\", \"Topic11\", \"Topic11\", \"Topic11\", \"Topic11\", \"Topic11\", \"Topic11\", \"Topic11\", \"Topic11\", \"Topic11\", \"Topic12\", \"Topic12\", \"Topic12\", \"Topic12\", \"Topic12\", \"Topic12\", \"Topic12\", \"Topic12\", \"Topic12\", \"Topic12\", \"Topic12\", \"Topic12\", \"Topic12\", \"Topic12\", \"Topic12\", \"Topic12\", \"Topic12\", \"Topic12\", \"Topic12\", \"Topic12\", \"Topic12\", \"Topic12\", \"Topic12\", \"Topic12\", \"Topic12\", \"Topic12\", \"Topic12\", \"Topic12\", \"Topic12\", \"Topic12\", \"Topic12\", \"Topic13\", \"Topic13\", \"Topic13\", \"Topic13\", \"Topic13\", \"Topic13\", \"Topic13\", \"Topic13\", \"Topic13\", \"Topic13\", \"Topic13\", \"Topic13\", \"Topic13\", \"Topic13\", \"Topic13\", \"Topic13\", \"Topic13\", \"Topic13\", \"Topic13\", \"Topic13\", \"Topic13\", \"Topic13\", \"Topic13\", \"Topic13\", \"Topic13\", \"Topic13\", \"Topic13\", \"Topic13\", \"Topic13\", \"Topic13\", \"Topic14\", \"Topic14\", \"Topic14\", \"Topic14\", \"Topic14\", \"Topic14\", \"Topic14\", \"Topic14\", \"Topic14\", \"Topic14\", \"Topic14\", \"Topic14\", \"Topic14\", \"Topic14\", \"Topic14\", \"Topic14\", \"Topic14\", \"Topic14\", \"Topic14\", \"Topic14\", \"Topic14\", \"Topic14\", \"Topic14\", \"Topic14\", \"Topic14\", \"Topic14\", \"Topic14\", \"Topic14\", \"Topic14\", \"Topic14\", \"Topic15\", \"Topic15\", \"Topic15\", \"Topic15\", \"Topic15\", \"Topic15\", \"Topic15\", \"Topic15\", \"Topic15\", \"Topic15\", \"Topic15\", \"Topic15\", \"Topic15\", \"Topic15\", \"Topic15\", \"Topic15\", \"Topic15\", \"Topic15\", \"Topic15\", \"Topic15\", \"Topic15\", \"Topic15\", \"Topic15\", \"Topic15\", \"Topic15\", \"Topic15\", \"Topic15\", \"Topic15\", \"Topic15\", \"Topic15\", \"Topic16\", \"Topic16\", \"Topic16\", \"Topic16\", \"Topic16\", \"Topic16\", \"Topic16\", \"Topic16\", \"Topic16\", \"Topic16\", \"Topic16\", \"Topic16\", \"Topic16\", \"Topic16\", \"Topic16\", \"Topic16\", \"Topic16\", \"Topic16\", \"Topic16\", \"Topic16\", \"Topic16\", \"Topic16\", \"Topic16\", \"Topic16\", \"Topic16\", \"Topic16\", \"Topic16\", \"Topic16\", \"Topic16\", \"Topic16\", \"Topic17\", \"Topic17\", \"Topic17\", \"Topic17\", \"Topic17\", \"Topic17\", \"Topic17\", \"Topic17\", \"Topic17\", \"Topic17\", \"Topic17\", \"Topic17\", \"Topic17\", \"Topic17\", \"Topic17\", \"Topic17\", \"Topic17\", \"Topic17\", \"Topic17\", \"Topic17\", \"Topic17\", \"Topic17\", \"Topic17\", \"Topic17\", \"Topic17\", \"Topic17\", \"Topic17\", \"Topic17\", \"Topic17\", \"Topic17\", \"Topic18\", \"Topic18\", \"Topic18\", \"Topic18\", \"Topic18\", \"Topic18\", \"Topic18\", \"Topic18\", \"Topic18\", \"Topic18\", \"Topic18\", \"Topic18\", \"Topic18\", \"Topic18\", \"Topic18\", \"Topic18\", \"Topic18\", \"Topic18\", \"Topic18\", \"Topic18\", \"Topic18\", \"Topic18\", \"Topic18\", \"Topic18\", \"Topic18\", \"Topic18\", \"Topic18\", \"Topic18\", \"Topic18\", \"Topic18\", \"Topic19\", \"Topic19\", \"Topic19\", \"Topic19\", \"Topic19\", \"Topic19\", \"Topic19\", \"Topic19\", \"Topic19\", \"Topic19\", \"Topic19\", \"Topic19\", \"Topic19\", \"Topic19\", \"Topic19\", \"Topic19\", \"Topic19\", \"Topic19\", \"Topic19\", \"Topic19\", \"Topic19\", \"Topic19\", \"Topic19\", \"Topic19\", \"Topic19\", \"Topic19\", \"Topic19\", \"Topic19\", \"Topic19\", \"Topic19\", \"Topic20\", \"Topic20\", \"Topic20\", \"Topic20\", \"Topic20\", \"Topic20\", \"Topic20\", \"Topic20\", \"Topic20\", \"Topic20\", \"Topic20\", \"Topic20\", \"Topic20\", \"Topic20\", \"Topic20\", \"Topic20\", \"Topic20\", \"Topic20\", \"Topic20\", \"Topic20\", \"Topic20\", \"Topic20\", \"Topic20\", \"Topic20\", \"Topic20\", \"Topic20\", \"Topic20\", \"Topic20\", \"Topic20\", \"Topic20\", \"Topic21\", \"Topic21\", \"Topic21\", \"Topic21\", \"Topic21\", \"Topic21\", \"Topic21\", \"Topic21\", \"Topic21\", \"Topic21\", \"Topic21\", \"Topic21\", \"Topic21\", \"Topic21\", \"Topic21\", \"Topic21\", \"Topic21\", \"Topic21\", \"Topic21\", \"Topic21\", \"Topic21\", \"Topic21\", \"Topic21\", \"Topic21\", \"Topic21\", \"Topic21\", \"Topic21\", \"Topic21\", \"Topic21\", \"Topic21\", \"Topic22\", \"Topic22\", \"Topic22\", \"Topic22\", \"Topic22\", \"Topic22\", \"Topic22\", \"Topic22\", \"Topic22\", \"Topic22\", \"Topic22\", \"Topic22\", \"Topic22\", \"Topic22\", \"Topic22\", \"Topic22\", \"Topic22\", \"Topic22\", \"Topic22\", \"Topic22\", \"Topic22\", \"Topic22\", \"Topic22\", \"Topic22\", \"Topic22\", \"Topic22\", \"Topic22\", \"Topic22\", \"Topic22\", \"Topic22\", \"Topic22\", \"Topic23\", \"Topic23\", \"Topic23\", \"Topic23\", \"Topic23\", \"Topic23\", \"Topic23\", \"Topic23\", \"Topic23\", \"Topic23\", \"Topic23\", \"Topic23\", \"Topic23\", \"Topic23\", \"Topic23\", \"Topic23\", \"Topic23\", \"Topic23\", \"Topic23\", \"Topic23\", \"Topic23\", \"Topic23\", \"Topic23\", \"Topic23\", \"Topic23\", \"Topic23\", \"Topic23\", \"Topic23\", \"Topic23\", \"Topic23\", \"Topic24\", \"Topic24\", \"Topic24\", \"Topic24\", \"Topic24\", \"Topic24\", \"Topic24\", \"Topic24\", \"Topic24\", \"Topic24\", \"Topic24\", \"Topic24\", \"Topic24\", \"Topic24\", \"Topic24\", \"Topic24\", \"Topic24\", \"Topic24\", \"Topic24\", \"Topic24\", \"Topic24\", \"Topic24\", \"Topic24\", \"Topic24\", \"Topic24\", \"Topic24\", \"Topic24\", \"Topic24\", \"Topic24\", \"Topic24\", \"Topic25\", \"Topic25\", \"Topic25\", \"Topic25\", \"Topic25\", \"Topic25\", \"Topic25\", \"Topic25\", \"Topic25\", \"Topic25\", \"Topic25\", \"Topic25\", \"Topic25\", \"Topic25\", \"Topic25\", \"Topic25\", \"Topic25\", \"Topic25\", \"Topic25\", \"Topic25\", \"Topic25\", \"Topic25\", \"Topic25\", \"Topic25\", \"Topic25\", \"Topic25\", \"Topic25\", \"Topic25\", \"Topic25\", \"Topic25\", \"Topic26\", \"Topic26\", \"Topic26\", \"Topic26\", \"Topic26\", \"Topic26\", \"Topic26\", \"Topic26\", \"Topic26\", \"Topic26\", \"Topic26\", \"Topic26\", \"Topic26\", \"Topic26\", \"Topic26\", \"Topic26\", \"Topic26\", \"Topic26\", \"Topic26\", \"Topic26\", \"Topic26\", \"Topic26\", \"Topic26\", \"Topic26\", \"Topic26\", \"Topic26\", \"Topic26\", \"Topic26\", \"Topic26\", \"Topic26\", \"Topic26\", \"Topic26\", \"Topic26\", \"Topic26\", \"Topic26\", \"Topic26\", \"Topic26\", \"Topic26\", \"Topic26\", \"Topic26\", \"Topic26\", \"Topic26\", \"Topic26\", \"Topic26\", \"Topic26\", \"Topic26\", \"Topic26\", \"Topic26\", \"Topic26\", \"Topic26\", \"Topic26\", \"Topic26\", \"Topic26\", \"Topic26\", \"Topic26\", \"Topic26\", \"Topic26\", \"Topic26\", \"Topic26\", \"Topic26\", \"Topic26\", \"Topic26\", \"Topic26\", \"Topic26\", \"Topic26\", \"Topic26\", \"Topic26\", \"Topic26\", \"Topic26\", \"Topic26\", \"Topic26\", \"Topic26\", \"Topic26\", \"Topic26\", \"Topic26\", \"Topic26\", \"Topic26\", \"Topic26\", \"Topic26\", \"Topic26\", \"Topic26\", \"Topic26\", \"Topic26\", \"Topic26\", \"Topic26\", \"Topic26\", \"Topic26\", \"Topic26\", \"Topic26\", \"Topic26\", \"Topic26\", \"Topic26\", \"Topic26\", \"Topic26\", \"Topic26\", \"Topic26\", \"Topic26\", \"Topic26\", \"Topic26\", \"Topic26\", \"Topic26\", \"Topic26\", \"Topic26\", \"Topic26\", \"Topic26\", \"Topic26\", \"Topic26\", \"Topic26\", \"Topic26\", \"Topic26\", \"Topic26\", \"Topic27\", \"Topic27\", \"Topic27\", \"Topic27\", \"Topic27\", \"Topic27\", \"Topic27\", \"Topic27\", \"Topic27\", \"Topic27\", \"Topic27\", \"Topic27\", \"Topic27\", \"Topic27\", \"Topic27\", \"Topic27\", \"Topic27\", \"Topic27\", \"Topic27\", \"Topic27\", \"Topic27\", \"Topic27\", \"Topic27\", \"Topic27\", \"Topic27\", \"Topic27\", \"Topic27\", \"Topic27\", \"Topic27\", \"Topic27\", \"Topic28\", \"Topic28\", \"Topic28\", \"Topic28\", \"Topic28\", \"Topic28\", \"Topic28\", \"Topic28\", \"Topic28\", \"Topic28\", \"Topic28\", \"Topic28\", \"Topic28\", \"Topic28\", \"Topic28\", \"Topic28\", \"Topic28\", \"Topic28\", \"Topic28\", \"Topic28\", \"Topic28\", \"Topic28\", \"Topic28\", \"Topic28\", \"Topic28\", \"Topic28\", \"Topic28\", \"Topic28\", \"Topic28\", \"Topic28\", \"Topic28\", \"Topic28\", \"Topic28\", \"Topic28\", \"Topic28\", \"Topic28\", \"Topic28\", \"Topic28\", \"Topic28\", \"Topic28\", \"Topic29\", \"Topic29\", \"Topic29\", \"Topic29\", \"Topic29\", \"Topic29\", \"Topic29\", \"Topic29\", \"Topic29\", \"Topic29\", \"Topic29\", \"Topic29\", \"Topic29\", \"Topic29\", \"Topic29\", \"Topic29\", \"Topic29\", \"Topic29\", \"Topic29\", \"Topic29\", \"Topic29\", \"Topic29\", \"Topic29\", \"Topic29\", \"Topic29\", \"Topic29\", \"Topic29\", \"Topic29\", \"Topic29\", \"Topic29\", \"Topic29\", \"Topic30\", \"Topic30\", \"Topic30\", \"Topic30\", \"Topic30\", \"Topic30\", \"Topic30\", \"Topic30\", \"Topic30\", \"Topic30\", \"Topic30\", \"Topic30\", \"Topic30\", \"Topic30\", \"Topic30\", \"Topic30\", \"Topic30\", \"Topic30\", \"Topic30\", \"Topic30\", \"Topic30\", \"Topic30\", \"Topic30\", \"Topic30\", \"Topic30\", \"Topic30\", \"Topic30\", \"Topic30\", \"Topic30\", \"Topic30\"], \"Freq\": [34855.0, 29809.0, 16607.0, 14342.0, 7403.0, 7462.0, 6405.0, 7408.0, 6230.0, 6052.0, 5246.0, 7377.0, 4781.0, 5396.0, 4801.0, 4749.0, 4467.0, 4757.0, 3900.0, 3193.0, 3272.0, 3127.0, 4409.0, 3240.0, 3263.0, 2845.0, 3057.0, 2719.0, 2684.0, 2751.0, 2391.3447265625, 2282.311767578125, 1767.8431396484375, 1079.4976806640625, 805.3185424804688, 599.070068359375, 563.6525268554688, 534.6036376953125, 529.5986328125, 443.5132141113281, 368.7884826660156, 332.6739807128906, 329.7947692871094, 262.34515380859375, 258.6809997558594, 246.07791137695312, 240.65078735351562, 229.3305206298828, 225.9017333984375, 211.8037109375, 199.3013916015625, 179.5532684326172, 164.69764709472656, 148.6024169921875, 129.50608825683594, 113.15008544921875, 104.87965393066406, 101.0019302368164, 93.95880889892578, 93.32252502441406, 1609.0418701171875, 1274.638427734375, 1262.909912109375, 967.6293334960938, 897.6322631835938, 729.1279296875, 590.3154296875, 571.8887329101562, 562.4198608398438, 542.545166015625, 464.1190490722656, 414.3793640136719, 230.85499572753906, 156.2216796875, 143.48190307617188, 129.04347229003906, 95.08184814453125, 94.28591918945312, 91.2585678100586, 88.5894546508789, 66.50992584228516, 65.56098937988281, 59.78614044189453, 48.049800872802734, 44.53218078613281, 44.28573226928711, 43.119380950927734, 41.03628158569336, 40.2150764465332, 37.2519416809082, 448.0053405761719, 3900.679931640625, 1441.2822265625, 886.4265747070312, 784.4395751953125, 666.3335571289062, 537.3554077148438, 399.79095458984375, 351.0937805175781, 336.0445251464844, 304.1639099121094, 268.2665710449219, 257.32476806640625, 232.59408569335938, 202.4964141845703, 155.75035095214844, 147.19891357421875, 144.77874755859375, 143.0098114013672, 131.69540405273438, 130.87525939941406, 128.95510864257812, 126.85138702392578, 119.50990295410156, 99.60123443603516, 94.19924926757812, 88.86873626708984, 76.99683380126953, 76.6196060180664, 72.81182861328125, 64.91785430908203, 3193.140869140625, 1842.1400146484375, 1328.9913330078125, 633.9881591796875, 412.9702453613281, 404.20098876953125, 362.3327941894531, 309.0068359375, 270.1183776855469, 272.1680603027344, 271.8121337890625, 265.7875061035156, 229.49942016601562, 192.05885314941406, 189.85293579101562, 178.95343017578125, 171.67788696289062, 160.96388244628906, 158.10943603515625, 150.7878875732422, 146.9882354736328, 140.11065673828125, 135.60414123535156, 132.66744995117188, 132.36752319335938, 127.17221069335938, 126.67366790771484, 122.66292572021484, 116.26921844482422, 102.41299438476562, 2135.057373046875, 1259.65576171875, 1090.052001953125, 1020.87451171875, 959.07275390625, 832.5819702148438, 798.0736083984375, 789.7435302734375, 665.5491943359375, 630.4771728515625, 600.9086303710938, 517.9930419921875, 495.896484375, 482.4541931152344, 449.96630859375, 432.0174255371094, 384.1504821777344, 367.1068420410156, 349.15899658203125, 339.5777587890625, 317.2596130371094, 310.44769287109375, 301.3861083984375, 240.05860900878906, 227.40408325195312, 218.16104125976562, 214.5174102783203, 200.5945587158203, 181.6105194091797, 179.8166961669922, 1302.3125, 639.84130859375, 621.8636474609375, 603.5669555664062, 593.6892700195312, 571.55322265625, 535.861572265625, 496.10467529296875, 469.99163818359375, 337.35223388671875, 330.338134765625, 326.12158203125, 301.49609375, 299.0575866699219, 297.30078125, 283.6656494140625, 267.3994140625, 226.75096130371094, 195.61260986328125, 191.64404296875, 188.83465576171875, 170.7491912841797, 166.0251922607422, 165.39401245117188, 163.76243591308594, 157.0456085205078, 145.6218719482422, 142.5986785888672, 134.66757202148438, 128.81472778320312, 129.1343536376953, 1364.166748046875, 541.0895385742188, 507.28271484375, 465.110595703125, 443.29486083984375, 286.5500793457031, 265.1162414550781, 249.8081512451172, 237.10238647460938, 234.27490234375, 188.352783203125, 171.8164520263672, 164.4169921875, 161.266357421875, 157.45986938476562, 133.1024169921875, 132.99453735351562, 127.58181762695312, 119.7177963256836, 102.39640808105469, 100.53793334960938, 88.12377166748047, 85.8676986694336, 81.79708862304688, 81.32440948486328, 79.17250061035156, 76.89607238769531, 76.2269515991211, 70.64998626708984, 70.59439086914062, 4781.16552734375, 1575.0333251953125, 1099.1038818359375, 566.6782836914062, 411.5050964355469, 383.3334655761719, 379.3291931152344, 349.6932373046875, 314.943359375, 283.88970947265625, 280.881591796875, 178.1575469970703, 173.96022033691406, 172.2410888671875, 150.3883056640625, 146.08468627929688, 142.28424072265625, 116.717529296875, 113.82162475585938, 110.6497573852539, 100.12809753417969, 99.89644622802734, 78.98481750488281, 76.89399719238281, 76.36050415039062, 70.71267700195312, 70.65682983398438, 68.88627624511719, 61.23210144042969, 60.299198150634766, 788.7911376953125, 615.5283203125, 572.2052612304688, 542.5819091796875, 476.9915771484375, 395.5400390625, 344.67730712890625, 334.6707458496094, 305.1147155761719, 298.1383056640625, 230.8465118408203, 204.94302368164062, 192.14268493652344, 155.33590698242188, 146.27565002441406, 137.765869140625, 132.35330200195312, 131.85546875, 107.0189208984375, 106.22026062011719, 97.84021759033203, 92.32099914550781, 90.00613403320312, 87.03005981445312, 86.4615478515625, 86.07496643066406, 78.30928802490234, 67.94319152832031, 66.14262390136719, 63.25167465209961, 1956.4984130859375, 1891.7589111328125, 1243.585205078125, 948.2075805664062, 805.1326904296875, 728.4910888671875, 596.646484375, 588.2914428710938, 533.1734008789062, 505.8247985839844, 467.27374267578125, 372.04876708984375, 363.58544921875, 336.1695556640625, 317.4703063964844, 280.9261474609375, 240.5118865966797, 227.09130859375, 217.3516387939453, 213.39126586914062, 203.47157287597656, 192.07791137695312, 179.88833618164062, 157.45315551757812, 152.2150421142578, 144.32164001464844, 143.4259033203125, 118.31840515136719, 115.26642608642578, 111.39949035644531, 3240.671875, 2750.886962890625, 2699.034912109375, 1545.8358154296875, 1086.5560302734375, 1059.423095703125, 1023.8259887695312, 916.970947265625, 629.840087890625, 568.4365844726562, 508.5974426269531, 485.7958679199219, 388.080322265625, 382.69122314453125, 332.1026611328125, 324.6075134277344, 323.2413635253906, 322.8227844238281, 307.7643127441406, 230.02207946777344, 208.96078491210938, 155.6408233642578, 135.54244995117188, 133.35951232910156, 124.31053924560547, 113.56794738769531, 102.43880462646484, 100.80948638916016, 95.63685607910156, 74.21763610839844, 2165.739013671875, 1250.7216796875, 895.8579711914062, 782.569091796875, 777.2237548828125, 589.9778442382812, 573.9837646484375, 569.2992553710938, 549.8314208984375, 490.78436279296875, 414.3853759765625, 293.6146545410156, 286.7998352050781, 273.70111083984375, 262.1579895019531, 248.23744201660156, 201.24249267578125, 157.05633544921875, 136.06105041503906, 133.19873046875, 126.06851959228516, 120.39263916015625, 111.50840759277344, 97.89320373535156, 84.33570861816406, 79.99398803710938, 75.66674041748047, 75.49894714355469, 71.839111328125, 59.03522872924805, 840.202880859375, 1614.8692626953125, 1357.3236083984375, 1280.695556640625, 992.02685546875, 695.4305419921875, 576.2269287109375, 542.4523315429688, 507.5372009277344, 506.19158935546875, 379.0133056640625, 319.7075500488281, 295.1090393066406, 280.8242492675781, 260.6194152832031, 257.80328369140625, 248.3365936279297, 234.33319091796875, 208.7025909423828, 189.2057342529297, 170.23301696777344, 165.23818969726562, 163.4897003173828, 162.00486755371094, 159.70941162109375, 148.40956115722656, 144.85398864746094, 142.71315002441406, 140.67088317871094, 140.90122985839844, 133.3804473876953, 29809.6015625, 7376.88427734375, 4409.4208984375, 710.8147583007812, 465.35089111328125, 248.33282470703125, 228.31057739257812, 198.46218872070312, 189.65565490722656, 189.14743041992188, 185.27203369140625, 148.06455993652344, 139.49964904785156, 113.12371826171875, 101.76448822021484, 82.33357238769531, 79.80853271484375, 78.1671371459961, 76.24931335449219, 56.37921142578125, 48.94686508178711, 40.517757415771484, 36.318023681640625, 32.564056396484375, 30.65148162841797, 30.80820083618164, 25.31112289428711, 20.33829689025879, 14.880644798278809, 8.667152404785156, 3127.677734375, 1857.9190673828125, 1343.5819091796875, 453.5748596191406, 444.5742492675781, 387.07275390625, 358.1365661621094, 300.64349365234375, 291.2894592285156, 288.9921569824219, 276.52349853515625, 275.0476989746094, 260.2217102050781, 252.2375946044922, 242.03662109375, 221.43617248535156, 218.27935791015625, 210.32037353515625, 194.14414978027344, 188.60360717773438, 184.8842010498047, 175.72833251953125, 153.19190979003906, 152.1243896484375, 150.0182342529297, 133.7212677001953, 121.53614044189453, 104.0101089477539, 102.49219512939453, 86.91226959228516, 6230.23876953125, 1410.537353515625, 1267.9517822265625, 1191.3062744140625, 1155.8154296875, 870.9622192382812, 541.1484985351562, 397.3892822265625, 272.5611877441406, 273.12261962890625, 245.49954223632812, 216.38267517089844, 172.9660186767578, 158.8825225830078, 153.38230895996094, 150.3182830810547, 135.08335876464844, 118.62195587158203, 114.48092651367188, 86.28623962402344, 67.97098541259766, 63.05927658081055, 49.9339714050293, 46.70640182495117, 43.944969177246094, 44.57555389404297, 43.99702453613281, 39.696563720703125, 38.14677429199219, 34.002357482910156, 859.6165771484375, 750.1167602539062, 744.3436279296875, 716.6422119140625, 728.5054931640625, 701.6722412109375, 666.4454956054688, 628.6005859375, 386.0201110839844, 367.3616638183594, 319.87213134765625, 302.10174560546875, 261.2536926269531, 242.9470977783203, 226.32540893554688, 223.0784149169922, 217.5676727294922, 213.78294372558594, 206.0846405029297, 198.87139892578125, 182.73178100585938, 176.9396209716797, 160.33750915527344, 157.58212280273438, 143.83935546875, 142.45201110839844, 142.47669982910156, 138.18267822265625, 138.01690673828125, 127.37437438964844, 4801.74365234375, 4467.25390625, 1332.2193603515625, 1067.4390869140625, 532.0597534179688, 376.3216857910156, 317.6051330566406, 312.69708251953125, 292.7782897949219, 289.8404235839844, 271.1598205566406, 268.0832824707031, 241.44647216796875, 201.3402099609375, 161.70484924316406, 150.11378479003906, 127.5438003540039, 111.45470428466797, 110.0565185546875, 103.10948181152344, 87.90777587890625, 79.83482360839844, 67.77972412109375, 67.20404815673828, 66.5693359375, 60.557003021240234, 59.55424499511719, 58.928836822509766, 57.859561920166016, 48.87325668334961, 1385.9559326171875, 1186.786376953125, 942.2100219726562, 511.78472900390625, 454.8294372558594, 358.2048645019531, 304.0985412597656, 283.5713195800781, 281.6533203125, 204.02740478515625, 186.94241333007812, 186.42909240722656, 178.23973083496094, 159.29278564453125, 156.78790283203125, 155.88092041015625, 130.88339233398438, 130.46836853027344, 116.25825500488281, 105.11968231201172, 105.4995346069336, 101.26639556884766, 98.80644226074219, 95.58058166503906, 94.98371124267578, 84.0565414428711, 82.08224487304688, 82.23050689697266, 79.39820861816406, 78.46043395996094, 6405.35400390625, 1097.0355224609375, 774.35693359375, 423.43115234375, 391.1878662109375, 367.2247314453125, 300.92901611328125, 230.58038330078125, 189.64016723632812, 184.8393096923828, 146.752197265625, 123.22784423828125, 120.72222900390625, 120.64350891113281, 106.94112396240234, 103.64925384521484, 97.41361236572266, 96.70755004882812, 86.87777709960938, 81.49613952636719, 71.54835510253906, 67.60783386230469, 66.78053283691406, 61.9681396484375, 59.916748046875, 58.392147064208984, 53.62631607055664, 51.79800796508789, 48.616233825683594, 48.764644622802734, 1919.1556396484375, 1701.8505859375, 1049.7091064453125, 915.6118774414062, 834.8449096679688, 771.7952880859375, 761.0050659179688, 561.635009765625, 558.6136474609375, 447.6033630371094, 425.2323913574219, 419.1489562988281, 364.5630798339844, 353.58087158203125, 300.6556701660156, 291.7806396484375, 223.1849822998047, 212.23377990722656, 189.1447296142578, 187.7347869873047, 166.71681213378906, 135.24029541015625, 135.48434448242188, 129.63507080078125, 120.57483673095703, 106.05376434326172, 106.07431030273438, 104.54680633544922, 90.8133773803711, 90.15152740478516, 3272.42236328125, 2844.88232421875, 2719.545654296875, 1801.130126953125, 1064.373779296875, 885.634033203125, 815.0764770507812, 371.7811279296875, 279.5115051269531, 224.6614990234375, 176.01583862304688, 167.74581909179688, 132.64898681640625, 127.86779022216797, 122.68232727050781, 109.6183853149414, 100.31999969482422, 90.68013763427734, 81.58811950683594, 73.45289611816406, 68.65808868408203, 65.4786148071289, 48.34697341918945, 44.03124237060547, 44.11805725097656, 41.229270935058594, 28.698232650756836, 28.761030197143555, 26.59081268310547, 24.22185707092285, 432.33447265625, 16607.52734375, 14342.658203125, 1553.2159423828125, 1087.0589599609375, 775.6298217773438, 665.7207641601562, 370.44482421875, 353.3776550292969, 319.83074951171875, 318.355224609375, 315.88983154296875, 211.0440673828125, 205.42510986328125, 161.50711059570312, 161.3392333984375, 133.9484405517578, 120.34331512451172, 115.90003967285156, 110.89515686035156, 105.27375030517578, 100.71955871582031, 92.39232635498047, 84.17444610595703, 82.06420135498047, 71.14385986328125, 69.32318878173828, 67.83763885498047, 59.448123931884766, 58.568603515625, 58.26719284057617, 7462.06494140625, 916.4297485351562, 677.5675048828125, 534.818115234375, 493.06781005859375, 451.49481201171875, 399.0760192871094, 347.5712890625, 288.499755859375, 271.4611511230469, 261.6255187988281, 201.09532165527344, 192.68612670898438, 175.70452880859375, 160.36495971679688, 137.46990966796875, 123.83985900878906, 122.77835845947266, 119.22764587402344, 115.1847152709961, 109.72514343261719, 106.96202850341797, 105.91155242919922, 101.17526245117188, 88.98507690429688, 85.5538558959961, 82.91499328613281, 76.40581512451172, 65.25955963134766, 64.52880859375, 7408.30126953125, 4757.619140625, 3263.604736328125, 2137.280517578125, 776.10791015625, 715.28857421875, 596.6943969726562, 196.06146240234375, 191.523193359375, 181.48731994628906, 181.67562866210938, 170.53042602539062, 157.37176513671875, 140.81568908691406, 125.7372055053711, 97.17414093017578, 92.97388458251953, 81.79610443115234, 66.9417953491211, 64.65039825439453, 60.305233001708984, 50.656856536865234, 47.30937576293945, 41.48344421386719, 34.57893753051758, 33.77619552612305, 33.87448501586914, 29.80051040649414, 29.11236000061035, 28.5888671875, 34854.92578125, 864.7089233398438, 68.96583557128906, 31.039697647094727, 20.640026092529297, 13.46689224243164, 7.554883003234863, 3.5656518936157227, 0.0005938792019151151, 0.0005870708264410496, 0.0006042480235919356, 0.0005896948860026896, 0.000597779406234622, 0.0005864825216121972, 0.0005864136037416756, 0.0005826696869917214, 0.0005781231448054314, 0.0005939409020356834, 0.0005986395408399403, 0.0005774717428721488, 0.0005894447094760835, 0.0005775689496658742, 0.0005960394046269357, 0.0005931796622462571, 0.0005922727286815643, 0.0005774717428721488, 0.0005775360623374581, 0.0005946124438196421, 0.0005788652924820781, 0.0005841333186253905, 0.0006085996865294874, 0.0006085284985601902, 0.0006069137598387897, 0.0006063978653401136, 0.0006060811574570835, 0.0006059707957319915, 0.0006056181155145168, 0.000605467997957021, 0.0006054667755961418, 0.0006048960494808853, 0.0006048506475053728, 0.0006045459886081517, 0.0006044302717782557, 0.0006042155437171459, 0.0006041889428161085, 0.0006040294538252056, 0.0006037299172021449, 0.0006029603537172079, 0.0006027707131579518, 0.000602201500441879, 0.0006021192530170083, 0.0053534782491624355, 0.005385038908571005, 0.005431419238448143, 0.005419909488409758, 0.005342220421880484, 0.005371496547013521, 0.005352644715458155, 0.0054330057464540005, 0.005389260593801737, 0.005422183312475681, 0.005424514412879944, 0.005451873876154423, 0.005423092283308506, 0.00543364230543375, 0.00541673181578517, 0.00543398130685091, 0.005436941981315613, 0.005391644313931465, 0.005397893488407135, 0.005438483320176601, 0.005388662219047546, 0.005436080973595381, 0.00541545869782567, 0.011497117578983307, 0.011533676646649837, 0.005482810083776712, 0.009232810698449612, 0.005455950740724802, 0.0054457220248878, 0.005468481685966253, 0.00548828998580575, 0.005500674247741699, 0.00548495352268219, 0.005518211517482996, 0.005491405259817839, 0.005480270367115736, 0.005486026871949434, 0.005459939129650593, 0.0054795709438622, 0.005463456269353628, 0.00546415476128459, 0.005680950358510017, 0.005671123508363962, 0.005662537645548582, 0.00564805930480361, 0.005646474659442902, 0.005641859490424395, 0.005637461319565773, 0.005635456647723913, 0.005634432192891836, 0.005630161613225937, 0.005627035163342953, 0.005627035163342953, 0.005623307079076767, 0.005623138044029474, 0.005622424650937319, 0.0056193056516349316, 0.005617089103907347, 0.005614333786070347, 0.005613161716610193, 4749.56884765625, 2684.49462890625, 2322.487548828125, 1112.540283203125, 788.0673217773438, 659.1671142578125, 602.357421875, 478.00799560546875, 451.1756591796875, 410.0218200683594, 375.3472595214844, 349.26385498046875, 347.87579345703125, 342.8050842285156, 251.5012969970703, 242.20523071289062, 223.96246337890625, 213.49917602539062, 163.92823791503906, 151.9832000732422, 143.09048461914062, 141.7350616455078, 139.80010986328125, 139.13209533691406, 123.97917175292969, 122.98426055908203, 114.92765045166016, 109.64698791503906, 102.52182006835938, 88.5137710571289, 7403.380859375, 5246.296875, 400.86614990234375, 267.7987060546875, 194.7227325439453, 193.15037536621094, 107.51271057128906, 94.8857650756836, 94.43795776367188, 93.4925537109375, 90.27691650390625, 84.54183959960938, 80.47824096679688, 65.2018814086914, 50.257606506347656, 45.277191162109375, 26.83146858215332, 24.316783905029297, 22.992755889892578, 17.803619384765625, 7.376803398132324, 6.718449115753174, 1.734078049659729, 1.3888670206069946, 1.2678054571151733, 0.548803448677063, 0.12215816974639893, 0.0006034025573171675, 0.0005862494581378996, 0.0005930482875555754, 0.0006077482248656452, 0.0006076770951040089, 0.000606064626481384, 0.005345988553017378, 0.005377504974603653, 0.005423820111900568, 0.005412326194345951, 0.011481031775474548, 0.01151754055172205, 0.009219893254339695, 1240.008544921875, 865.8070678710938, 781.034912109375, 543.391357421875, 535.0150756835938, 484.32952880859375, 462.2708435058594, 455.3880615234375, 427.8520812988281, 292.15081787109375, 262.14886474609375, 259.6980285644531, 247.89744567871094, 237.7205047607422, 224.57855224609375, 224.92576599121094, 213.08956909179688, 207.43289184570312, 167.58908081054688, 154.66815185546875, 154.24476623535156, 153.78863525390625, 138.48947143554688, 133.186279296875, 130.7181396484375, 127.62493133544922, 124.03836059570312, 120.00337219238281, 115.71115112304688, 113.91133117675781, 1684.865478515625, 5396.11474609375, 6051.90185546875, 3057.496826171875, 1630.9385986328125, 778.8407592773438, 551.4945068359375, 461.37554931640625, 398.93902587890625, 383.6636657714844, 376.6512451171875, 250.84239196777344, 238.25022888183594, 234.8512420654297, 218.99432373046875, 193.33274841308594, 180.61631774902344, 178.6643524169922, 173.42568969726562, 161.625, 158.67807006835938, 136.2634735107422, 117.76116943359375, 91.73540496826172, 79.36286163330078, 77.61935424804688, 65.21324920654297, 63.11066436767578, 62.171783447265625, 59.28185272216797, 55.34699249267578], \"Term\": [\"five\", \"great\", \"good\", \"work\", \"four\", \"cover\", \"perfect\", \"love\", \"pool\", \"like\", \"nice\", \"product\", \"mower\", \"best\", \"easy\", \"well\", \"sound\", \"feeder\", \"beautiful\", \"little\", \"quality\", \"electric\", \"price\", \"excellent\", \"three\", \"waste_money\", \"small\", \"money\", \"year\", \"black_decker\", \"really\", \"awesome\", \"purchase\", \"pleased\", \"found\", \"away\", \"fiskars\", \"squirrel\", \"thought\", \"stay\", \"thought_would\", \"something\", \"again\", \"stay_away\", \"finally\", \"blow\", \"open\", \"guess\", \"outstanding\", \"cleaner\", \"company\", \"seller\", \"chicken\", \"totally\", \"something_else\", \"updated\", \"happier\", \"everyone\", \"finally_found\", \"pruner\", \"would\", \"would_recommend\", \"still\", \"replacement\", \"heavy_duty\", \"working\", \"save_money\", \"heavy\", \"still_going\", \"filter\", \"large\", \"duty\", \"buck\", \"defective\", \"washer\", \"exact_replacement\", \"fitting\", \"given\", \"function\", \"here\", \"defect\", \"unfortunately\", \"jury_still\", \"kinda\", \"still_working\", \"business\", \"brass\", \"vegetable\", \"send\", \"long_lasting\", \"recommend\", \"beautiful\", \"waste\", \"light\", \"light_weight\", \"outdoor\", \"needed\", \"weight\", \"garbage\", \"never\", \"flimsy\", \"many\", \"light_duty\", \"everything\", \"exactly_needed\", \"apartment\", \"waste_time\", \"tell\", \"breeze\", \"complete_waste\", \"hope\", \"said\", \"condo\", \"complete\", \"heaven\", \"absolute\", \"crap\", \"total_waste\", \"although\", \"meant\", \"sell\", \"little\", \"patio\", \"item\", \"effective\", \"absolutely\", \"described\", \"impressed\", \"place\", \"earth\", \"simple_effective\", \"couple\", \"seed\", \"worthless\", \"match\", \"functional\", \"smaller\", \"pictured\", \"weak\", \"held\", \"short_lived\", \"bulb\", \"wasted_money\", \"meet_expectation\", \"hung\", \"advertising\", \"plus\", \"sweet\", \"paid\", \"miss\", \"noise\", \"lawn\", \"review\", \"junk\", \"right\", \"stand\", \"food\", \"high\", \"purchased\", \"second\", \"hose\", \"cleaning\", \"made_china\", \"help\", \"broke\", \"beware\", \"bang_buck\", \"charm\", \"construction\", \"exceeded_expectation\", \"life\", \"received\", \"expectation\", \"getting\", \"believe\", \"order\", \"pressure\", \"stink\", \"accessory\", \"alternative\", \"china\", \"disappointed\", \"indoor\", \"foot\", \"super\", \"material\", \"replacement_spool\", \"idea\", \"hard\", \"tube\", \"especially\", \"quiet\", \"pest_control\", \"within\", \"inch\", \"since\", \"buyer_beware\", \"spool\", \"installed\", \"within_month\", \"stick\", \"reason\", \"watch\", \"string\", \"pest\", \"slow\", \"stop\", \"fairly\", \"buyer\", \"degree\", \"weed_eater\", \"cute\", \"gift\", \"exactly\", \"shear\", \"hedge_shear\", \"ordered\", \"hedge\", \"christmas_gift\", \"even_though\", \"christmas\", \"powerful\", \"exactly_wanted\", \"supposed\", \"huge\", \"older_model\", \"piece_crap\", \"improvement\", \"people\", \"fabulous\", \"bargain\", \"switch\", \"dependable\", \"christmas_present\", \"number\", \"called\", \"shown\", \"exactly_advertised\", \"average\", \"care\", \"constructed\", \"bait\", \"mower\", \"happy\", \"poor\", \"poor_quality\", \"kid\", \"customer_service\", \"poor_design\", \"picture\", \"cool\", \"customer\", \"want\", \"kind\", \"others\", \"satisfied_customer\", \"result\", \"expensive\", \"assembly\", \"cannot\", \"overpriced\", \"instruction\", \"family\", \"might\", \"pound\", \"hatchet\", \"anyone\", \"false\", \"happy_customer\", \"shipped\", \"worse\", \"running\", \"terrible\", \"definitely\", \"round\", \"choice\", \"experience\", \"rain\", \"except\", \"clear\", \"packaging\", \"longer\", \"misleading\", \"gardening\", \"watching\", \"gauge\", \"bug\", \"plenty\", \"listening\", \"mount\", \"catcher\", \"delighted\", \"stronger\", \"kept\", \"tech\", \"discontinued\", \"definitely_recommend\", \"glad_found\", \"easiest\", \"title\", \"existing\", \"lacking\", \"ever\", \"cheap\", \"durable\", \"fantastic\", \"simple\", \"hold\", \"garden\", \"ever_owned\", \"get_done\", \"useful\", \"them\", \"get\", \"built\", \"owned\", \"worst\", \"leak\", \"poorly\", \"tank\", \"tight\", \"different\", \"poorly_designed\", \"user\", \"break\", \"efficient\", \"ease\", \"inexpensive\", \"well_built\", \"helpful\", \"sold\", \"user_friendly\", \"excellent\", \"black_decker\", \"better\", \"much\", \"could\", \"black\", \"easy_assemble\", \"decker\", \"sure\", \"trap\", \"week\", \"going\", \"addition\", \"assemble\", \"almost\", \"fell_apart\", \"investment\", \"apart\", \"day\", \"know\", \"however\", \"doesnt\", \"system\", \"version\", \"wait\", \"superior\", \"saved\", \"available\", \"next\", \"actual\", \"time\", \"last\", \"summer\", \"highly_recommend\", \"plastic\", \"using\", \"long\", \"highly_recommended\", \"last_long\", \"highly\", \"arrived\", \"designed\", \"cord\", \"dont\", \"color\", \"that\", \"damaged\", \"several\", \"quickly\", \"test\", \"last_longer\", \"tore\", \"wood\", \"hate\", \"half\", \"arrived_damaged\", \"arrived_time\", \"today\", \"knew\", \"receive\", \"recommend\", \"fit\", \"wonderful\", \"hole\", \"ground\", \"fit_perfectly\", \"take\", \"heat\", \"window\", \"quick\", \"reliable\", \"husband\", \"device\", \"finding\", \"level\", \"together\", \"pleasant\", \"always\", \"hour\", \"beat\", \"type\", \"took\", \"enjoy\", \"gold\", \"shape\", \"adequate\", \"regret\", \"leaked\", \"dream\", \"direction\", \"hanging\", \"great\", \"product\", \"price\", \"piece\", \"service\", \"protection\", \"disappointment\", \"glad\", \"lost\", \"basic\", \"house\", \"friendly\", \"difficult\", \"gear\", \"soon\", \"edge\", \"reading\", \"delivers\", \"present\", \"otherwise\", \"million\", \"garage\", \"father\", \"everyday\", \"finished\", \"down\", \"ruined\", \"constant\", \"edger\", \"detail\", \"electric\", \"bought\", \"yard\", \"fast\", \"wish\", \"shipping\", \"area\", \"accurate\", \"blue\", \"wedding\", \"fast_shipping\", \"liked\", \"porch\", \"fast_delivery\", \"delivery\", \"solution\", \"awful\", \"store\", \"deck\", \"option\", \"outside\", \"thank\", \"fall\", \"front\", \"avoid\", \"total\", \"hang\", \"terrific\", \"enjoyed\", \"chain\", \"pool\", \"worked\", \"pretty\", \"expected\", \"first\", \"used\", \"looking\", \"around\", \"weather\", \"horrible\", \"tear\", \"start\", \"sharp\", \"priced\", \"exactly_looking\", \"bamboo\", \"catch\", \"move_around\", \"move\", \"attract\", \"arrival\", \"single\", \"period\", \"brother\", \"carpet\", \"turned\", \"fact\", \"supply\", \"shop\", \"damn\", \"water\", \"piece_junk\", \"enough\", \"solar\", \"perfectly\", \"problem\", \"unit\", \"handle\", \"purpose\", \"storage\", \"tiny\", \"disappointing\", \"battery\", \"starting\", \"negative\", \"soft\", \"comfortable\", \"sized\", \"green\", \"extra\", \"space\", \"bigger\", \"least\", \"change\", \"collection\", \"careful\", \"easier\", \"deep\", \"build\", \"worth_extra\", \"easy\", \"sound\", \"value\", \"sturdy\", \"loved\", \"read\", \"quite\", \"solid\", \"favorite\", \"also\", \"without\", \"easy_install\", \"original\", \"done\", \"convenient\", \"install\", \"completely\", \"description\", \"setup\", \"rock\", \"show\", \"there\", \"durability\", \"classic\", \"intended\", \"produce\", \"modification\", \"attachment\", \"mostly\", \"lover\", \"tool\", \"must\", \"pump\", \"must_have\", \"extremely\", \"suck\", \"else\", \"return\", \"older\", \"have\", \"superb\", \"medium\", \"feeding\", \"forever\", \"pond\", \"impressive\", \"doctor_ordered\", \"last_forever\", \"pruning\", \"fountain\", \"changed\", \"sort\", \"pas\", \"essential\", \"attached\", \"body\", \"extremely_pleased\", \"job\", \"farm\", \"warning\", \"perfect\", \"design\", \"lovely\", \"okay\", \"power\", \"wrong\", \"recommended\", \"winter\", \"control\", \"mine\", \"one\", \"they\", \"mother\", \"camping\", \"property\", \"surprised\", \"seemed\", \"standard\", \"wasted\", \"giving\", \"sorry\", \"near\", \"amount\", \"factory\", \"girl\", \"often\", \"patience\", \"repair\", \"follow\", \"plant\", \"look\", \"keep\", \"even\", \"like_charm\", \"month\", \"fly\", \"find\", \"useless\", \"smell\", \"another\", \"proof\", \"season\", \"free\", \"buying\", \"lasted_month\", \"nicely\", \"later\", \"ring\", \"seem\", \"hard_find\", \"pair\", \"learn\", \"whole\", \"full\", \"equipment\", \"paper\", \"crazy\", \"chemical\", \"truly\", \"performer\", \"quality\", \"waste_money\", \"money\", \"metal\", \"worth_money\", \"high_quality\", \"brush\", \"wanted\", \"le\", \"reasonable_price\", \"range\", \"hand\", \"maintenance\", \"minute\", \"cost\", \"reasonable\", \"affordable\", \"thicker\", \"saver\", \"clipper\", \"forget\", \"saving\", \"manual\", \"hassle\", \"time_saver\", \"pain\", \"uneven\", \"acre\", \"none\", \"fashioned\", \"worth\", \"good\", \"work\", \"fine\", \"advertised\", \"satisfied\", \"amazon\", \"feel\", \"lightweight\", \"stuff\", \"trimmer\", \"live\", \"condition\", \"attractive\", \"person\", \"close\", \"loud\", \"greatest\", \"spent\", \"expecting\", \"claim\", \"craftsmanship\", \"normal\", \"dog\", \"drain\", \"luck\", \"fresh\", \"room\", \"exercise\", \"fair_price\", \"versatile\", \"cover\", \"need\", \"size\", \"worth_every\", \"cheaply_made\", \"machine\", \"this\", \"every\", \"come\", \"already\", \"think\", \"serf_purpose\", \"penny\", \"cheaply\", \"fence\", \"fill\", \"glad_bought\", \"brand\", \"friend\", \"think_twice\", \"compact\", \"winner\", \"base\", \"trash\", \"serf\", \"more\", \"annoying\", \"larger\", \"right_size\", \"cutter\", \"love\", \"feeder\", \"three\", \"bird\", \"bird_feeder\", \"deal\", \"amazing\", \"blade\", \"cut\", \"daughter\", \"these\", \"fell\", \"feed\", \"wife\", \"what\", \"birdfeeder\", \"tree\", \"real_deal\", \"convenience\", \"limited\", \"success\", \"branch\", \"advice\", \"bent\", \"wore\", \"variety\", \"followed\", \"peace\", \"snap\", \"travel\", \"five\", \"thin\", \"true\", \"rugged\", \"link\", \"brilliant\", \"through\", \"finger\", \"cake\", \"crafted\", \"get_stuck\", \"cheapo\", \"martin\", \"sandy_soil\", \"threw\", \"eats\", \"until\", \"increased\", \"freezing\", \"peasy\", \"cutest\", \"packed\", \"weird\", \"warmer\", \"kill_insect\", \"staking\", \"prone\", \"well_balanced\", \"sealant\", \"station\", \"spraying\", \"estwing\", \"solo\", \"fine_mist\", \"post_hole\", \"auger\", \"plastic_gear\", \"sheath\", \"exactly_expect\", \"rain_gauge\", \"nelson\", \"treatment\", \"american_classic\", \"organic\", \"adorable\", \"severe\", \"raintrain\", \"chapin\", \"stay_place\", \"attack\", \"nelson_raintrain\", \"fear\", \"hopper\", \"fertilizer\", \"skip\", \"central\", \"housing\", \"hawk\", \"planter\", \"hand_held\", \"kinked\", \"planting\", \"broadcast\", \"dig\", \"honor\", \"curve\", \"wimpy\", \"detailed\", \"squirt\", \"freeze\", \"electricity\", \"clogging\", \"hosed\", \"rusting\", \"recommend\", \"worth\", \"broadcast_spreader\", \"like\", \"taller\", \"honestly\", \"stand_behind\", \"local_store\", \"gilmour\", \"solidly_built\", \"spreader\", \"assembly_required\", \"gilmour_sprayer\", \"behind\", \"scary\", \"earthway\", \"youtube\", \"locking\", \"great\", \"work\", \"good\", \"product\", \"four\", \"love\", \"best\", \"easy\", \"well\", \"perfect\", \"nice\", \"quality\", \"price\", \"excellent\", \"three\", \"better\", \"little\", \"money\", \"waste_money\", \"well\", \"year\", \"made\", \"thing\", \"part\", \"lasted\", \"strong\", \"lot\", \"broken\", \"missing_part\", \"real\", \"missing\", \"give\", \"short\", \"several_year\", \"issue\", \"bottom\", \"dont_waste\", \"cup\", \"either\", \"yellow\", \"thanks\", \"rating\", \"lasted_year\", \"hook\", \"poorly_made\", \"zero\", \"folk\", \"failed\", \"ugly\", \"four\", \"nice\", \"came\", \"though\", \"feature\", \"thick\", \"gadget\", \"anywhere\", \"adjustment\", \"birthday\", \"stake\", \"timer\", \"safe\", \"split\", \"animal\", \"smelled\", \"split_wood\", \"tape\", \"seam\", \"allows\", \"lightning\", \"anywhere_else\", \"narrow\", \"ratio\", \"limitation\", \"ergonomic\", \"detailed\", \"get_stuck\", \"crafted\", \"cake\", \"spraying\", \"estwing\", \"solo\", \"fear\", \"hopper\", \"fertilizer\", \"skip\", \"recommend\", \"worth\", \"like\", \"clean\", \"easily\", \"seems\", \"nothing\", \"gone\", \"back\", \"save\", \"actually\", \"handy\", \"simply\", \"performance\", \"overall\", \"make_sure\", \"flaw\", \"spend\", \"keeping\", \"cheaper\", \"twice\", \"update\", \"ready\", \"sent\", \"opinion\", \"wish_could\", \"properly\", \"sent_back\", \"trying\", \"us\", \"maybe\", \"hoping\", \"delivered\", \"worth\", \"best\", \"like\", \"small\", \"make\", \"model\", \"decent\", \"home\", \"grass\", \"leaf\", \"say\", \"backyard\", \"photo\", \"like_champ\", \"tough\", \"market\", \"fire\", \"cutting\", \"started\", \"thinner\", \"looked\", \"probably\", \"owner\", \"champ\", \"style\", \"operation\", \"positive\", \"length\", \"center\", \"previous\", \"parent\"], \"Total\": [34855.0, 29809.0, 16607.0, 14342.0, 7403.0, 7462.0, 6405.0, 7408.0, 6230.0, 6052.0, 5246.0, 7377.0, 4781.0, 5396.0, 4801.0, 4749.0, 4467.0, 4757.0, 3900.0, 3193.0, 3272.0, 3127.0, 4409.0, 3240.0, 3263.0, 2845.0, 3057.0, 2719.0, 2684.0, 2751.0, 2391.53125, 2282.498291015625, 1768.029052734375, 1079.6834716796875, 805.5038452148438, 599.25537109375, 563.8377685546875, 534.7875366210938, 529.78369140625, 443.69805908203125, 368.97332763671875, 332.8588562011719, 329.9794006347656, 262.5291748046875, 258.8658447265625, 246.26161193847656, 240.8352813720703, 229.51455688476562, 226.0863494873047, 211.98654174804688, 199.485595703125, 179.73728942871094, 164.88186645507812, 148.7865753173828, 129.69015502929688, 113.33318328857422, 105.06297302246094, 101.18585205078125, 94.14226531982422, 93.50763702392578, 1609.2288818359375, 1274.8253173828125, 1263.0968017578125, 967.81640625, 897.8189086914062, 729.3143310546875, 590.5017700195312, 572.0751953125, 562.6054077148438, 542.7300415039062, 464.3052673339844, 414.5654602050781, 231.04010009765625, 156.40721130371094, 143.66575622558594, 129.22854614257812, 95.2664566040039, 94.46990203857422, 91.44327545166016, 88.77408599853516, 66.69391632080078, 65.74520874023438, 59.9700927734375, 48.23402786254883, 44.71633529663086, 44.46984100341797, 43.30431365966797, 41.21974563598633, 40.39842224121094, 37.4372673034668, 1288.5784912109375, 3900.867431640625, 1441.47021484375, 886.6145629882812, 784.627197265625, 666.5206909179688, 537.5431518554688, 399.97796630859375, 351.28070068359375, 336.2319030761719, 304.350830078125, 268.45391845703125, 257.51129150390625, 232.78089904785156, 202.68345642089844, 155.9362030029297, 147.3852081298828, 144.96485900878906, 143.19540405273438, 131.8812713623047, 131.0613250732422, 129.14151000976562, 127.03645324707031, 119.69596862792969, 99.78670501708984, 94.38488006591797, 89.05510711669922, 77.18254089355469, 76.805419921875, 72.99662017822266, 65.102783203125, 3193.32763671875, 1842.3250732421875, 1329.1773681640625, 634.174072265625, 413.1551513671875, 404.3858947753906, 362.51739501953125, 309.1914978027344, 270.3013916015625, 272.3529357910156, 271.99688720703125, 265.9711608886719, 229.6837921142578, 192.24246215820312, 190.03717041015625, 179.13824462890625, 171.86209106445312, 161.14813232421875, 158.29302978515625, 150.9713592529297, 147.172119140625, 140.29452514648438, 135.78814697265625, 132.85052490234375, 132.55075073242188, 127.35607147216797, 126.8577880859375, 122.84656524658203, 116.45278930664062, 102.59617614746094, 2135.24267578125, 1259.8414306640625, 1090.2376708984375, 1021.0598754882812, 959.2568359375, 832.7661743164062, 798.2587280273438, 789.9283447265625, 665.7341918945312, 630.6635131835938, 601.0926513671875, 518.177490234375, 496.0810852050781, 482.6393127441406, 450.1508483886719, 432.201416015625, 384.3352355957031, 367.29107666015625, 349.3426208496094, 339.7626647949219, 317.44390869140625, 310.6319885253906, 301.57061767578125, 240.24256896972656, 227.58837890625, 218.34518432617188, 214.70118713378906, 200.77784729003906, 181.79440307617188, 180.00057983398438, 1302.4984130859375, 640.025634765625, 622.0486450195312, 603.7525634765625, 593.873779296875, 571.7356567382812, 536.0464477539062, 496.2901916503906, 470.1752014160156, 337.5364685058594, 330.5220642089844, 326.30426025390625, 301.68048095703125, 299.2427673339844, 297.4852600097656, 283.8498840332031, 267.5826721191406, 226.9342498779297, 195.79522705078125, 191.82867431640625, 189.01866149902344, 170.93331909179688, 166.20899963378906, 165.5775909423828, 163.9461212158203, 157.22970581054688, 145.80564880371094, 142.78253173828125, 134.8500518798828, 128.99830627441406, 129.31857299804688, 1364.35400390625, 541.2766723632812, 507.4698181152344, 465.2943420410156, 443.48150634765625, 286.7343444824219, 265.30157470703125, 249.99378967285156, 237.28785705566406, 234.46128845214844, 188.53872680664062, 172.0023956298828, 164.60279846191406, 161.45147705078125, 157.6455841064453, 133.28805541992188, 133.1806640625, 127.76714324951172, 119.90296936035156, 102.58100128173828, 100.7227554321289, 88.30841064453125, 86.05330657958984, 81.98146057128906, 81.50927734375, 79.35726165771484, 77.08126068115234, 76.41270446777344, 70.83496856689453, 70.7800521850586, 4781.353515625, 1575.2218017578125, 1099.2921142578125, 566.8657836914062, 411.69146728515625, 383.5211486816406, 379.5164794921875, 349.87994384765625, 315.13018798828125, 284.0769958496094, 281.06903076171875, 178.34445190429688, 174.1470184326172, 172.42747497558594, 150.57516479492188, 146.27162170410156, 142.47073364257812, 116.90380859375, 114.00753784179688, 110.83646392822266, 100.3143081665039, 100.08307647705078, 79.1702651977539, 77.07848358154297, 76.54702758789062, 70.89810180664062, 70.84220123291016, 69.07176971435547, 61.417625427246094, 60.48419952392578, 788.9708251953125, 615.7080078125, 572.3839721679688, 542.7612915039062, 477.1705017089844, 395.7194519042969, 344.8559875488281, 334.84918212890625, 305.2933654785156, 298.3175354003906, 231.02471923828125, 205.12242126464844, 192.3206787109375, 155.51458740234375, 146.45492553710938, 137.94390869140625, 132.52984619140625, 132.03350830078125, 107.19760131835938, 106.39765930175781, 98.01802825927734, 92.49925231933594, 90.18383026123047, 87.20811462402344, 86.639404296875, 86.25359344482422, 78.48704528808594, 68.1190185546875, 66.31861114501953, 63.428958892822266, 1956.684326171875, 1891.9443359375, 1243.7703857421875, 948.3927001953125, 805.3177490234375, 728.6758422851562, 596.8319091796875, 588.4763793945312, 533.3583984375, 506.00958251953125, 467.45806884765625, 372.2335205078125, 363.7701721191406, 336.3540954589844, 317.6543273925781, 281.1108703613281, 240.6959686279297, 227.2742156982422, 217.53521728515625, 213.57553100585938, 203.6553192138672, 192.2611846923828, 180.0725555419922, 157.63690185546875, 152.39865112304688, 144.505615234375, 143.60992431640625, 118.50188446044922, 115.44915771484375, 111.58213806152344, 3240.859619140625, 2751.072265625, 2699.22216796875, 1546.0224609375, 1086.742431640625, 1059.608642578125, 1024.01171875, 917.1549072265625, 630.0261840820312, 568.6232299804688, 508.7832336425781, 485.9815368652344, 388.2652893066406, 382.8764343261719, 332.2881774902344, 324.7922058105469, 323.42633056640625, 323.0077209472656, 307.94970703125, 230.20773315429688, 209.1459197998047, 155.82530212402344, 135.7271728515625, 133.54437255859375, 124.49510192871094, 113.75231170654297, 102.62364196777344, 100.99425506591797, 95.82144927978516, 74.40137481689453, 2165.925537109375, 1250.90771484375, 896.0430908203125, 782.7548828125, 777.409423828125, 590.1632690429688, 574.1697998046875, 569.484375, 550.0170288085938, 490.9697570800781, 414.5704345703125, 293.7993469238281, 286.9843444824219, 273.88555908203125, 262.3424377441406, 248.42189025878906, 201.4266357421875, 157.24078369140625, 136.24563598632812, 133.38214111328125, 126.2524642944336, 120.57491302490234, 111.69344329833984, 98.07787322998047, 84.51993560791016, 80.17729187011719, 75.85025787353516, 75.6823501586914, 72.02251434326172, 59.21818923950195, 1288.5784912109375, 1615.0552978515625, 1357.5096435546875, 1280.8812255859375, 992.2113037109375, 695.6149291992188, 576.4124755859375, 542.6365356445312, 507.72198486328125, 506.3770751953125, 379.1981201171875, 319.8924255371094, 295.2934875488281, 281.0072021484375, 260.8035583496094, 257.9880065917969, 248.51986694335938, 234.51820373535156, 208.88748168945312, 189.3905487060547, 170.41775512695312, 165.4227752685547, 163.6741485595703, 162.18896484375, 159.89341735839844, 148.59317016601562, 145.03781127929688, 142.89715576171875, 140.85462951660156, 141.08529663085938, 133.56455993652344, 29809.79296875, 7377.0732421875, 4409.60888671875, 711.00048828125, 465.5365905761719, 248.51644897460938, 228.4951171875, 198.64749145507812, 189.83963012695312, 189.33212280273438, 185.45761108398438, 148.24851989746094, 139.68435668945312, 113.30782318115234, 101.94847106933594, 82.51847076416016, 79.99205780029297, 78.35052490234375, 76.43296813964844, 56.56328201293945, 49.128910064697266, 40.701541900634766, 36.50156784057617, 32.746891021728516, 30.833189010620117, 30.991928100585938, 25.492210388183594, 20.520509719848633, 15.064889907836914, 8.849899291992188, 3127.863525390625, 1858.1055908203125, 1343.768310546875, 453.7605895996094, 444.7598571777344, 387.25787353515625, 358.32220458984375, 300.8279724121094, 291.4731750488281, 289.1753845214844, 276.7085266113281, 275.2325439453125, 260.4059143066406, 252.42254638671875, 242.22152709960938, 221.62123107910156, 218.46383666992188, 210.50552368164062, 194.32864379882812, 188.78823852539062, 185.06924438476562, 175.9130096435547, 153.37649536132812, 152.30833435058594, 150.2027130126953, 133.9055633544922, 121.72080993652344, 104.19471740722656, 102.67555236816406, 87.09732055664062, 6230.42431640625, 1410.7252197265625, 1268.139404296875, 1191.493896484375, 1156.0030517578125, 871.1503295898438, 541.33544921875, 397.5762634277344, 272.7463073730469, 273.3089904785156, 245.6847686767578, 216.56846618652344, 173.15330505371094, 159.0681915283203, 153.56776428222656, 150.50328063964844, 135.27000427246094, 118.80626678466797, 114.66667175292969, 86.47145080566406, 68.15541076660156, 63.244956970214844, 50.118927001953125, 46.89075469970703, 44.12690353393555, 44.76030349731445, 44.18204879760742, 39.88111114501953, 38.331417083740234, 34.186912536621094, 859.8018188476562, 750.3017578125, 744.5288696289062, 716.8228759765625, 728.6904907226562, 701.8575439453125, 666.6304321289062, 628.785888671875, 386.204345703125, 367.545166015625, 320.0559387207031, 302.2858581542969, 261.43701171875, 243.12973022460938, 226.50843811035156, 223.26194763183594, 217.75172424316406, 213.96627807617188, 206.26890563964844, 199.05543518066406, 182.91580200195312, 177.12359619140625, 160.52084350585938, 157.76559448242188, 144.02162170410156, 142.6358642578125, 142.66114807128906, 138.3656768798828, 138.2003936767578, 127.55809783935547, 4801.93310546875, 4467.43994140625, 1332.406982421875, 1067.626708984375, 532.246337890625, 376.5085754394531, 317.7915954589844, 312.88409423828125, 292.965087890625, 290.0267639160156, 271.3466796875, 268.2705383300781, 241.6328125, 201.52691650390625, 161.8906707763672, 150.30026245117188, 127.7295913696289, 111.64051055908203, 110.24151611328125, 103.2952651977539, 88.09297943115234, 80.0206298828125, 67.96463012695312, 67.38959503173828, 66.75482940673828, 60.74143600463867, 59.73888397216797, 59.11406707763672, 58.044822692871094, 49.057472229003906, 1386.1397705078125, 1186.9696044921875, 942.3916015625, 511.9672546386719, 455.0115051269531, 358.385986328125, 304.2804870605469, 283.7532653808594, 281.8348693847656, 204.20921325683594, 187.1233367919922, 186.61038208007812, 178.4198455810547, 159.47381591796875, 156.968505859375, 156.06190490722656, 131.06427001953125, 130.64956665039062, 116.44084167480469, 105.29985046386719, 105.68038177490234, 101.44685363769531, 98.9870834350586, 95.76145935058594, 95.16433715820312, 84.23676300048828, 82.26179504394531, 82.41178894042969, 79.57891845703125, 78.64152526855469, 6405.54248046875, 1097.22216796875, 774.541259765625, 423.6170349121094, 391.3734130859375, 367.4102783203125, 301.1147766113281, 230.76515197753906, 189.8258056640625, 185.0243682861328, 146.93765258789062, 123.41264343261719, 120.90604400634766, 120.8287124633789, 107.12493133544922, 103.833740234375, 97.59759521484375, 96.89224243164062, 87.0619888305664, 81.67948913574219, 71.73259735107422, 67.79222869873047, 66.96503448486328, 62.152137756347656, 60.10039138793945, 58.576271057128906, 53.8094596862793, 51.98233413696289, 48.80027770996094, 48.95015335083008, 1919.341552734375, 1702.036376953125, 1049.894775390625, 915.7977905273438, 835.0302124023438, 771.98095703125, 761.1903686523438, 561.8201293945312, 558.7984008789062, 447.7886047363281, 425.4160461425781, 419.33367919921875, 364.74761962890625, 353.7655944824219, 300.8392639160156, 291.96514892578125, 223.36859130859375, 212.41676330566406, 189.32911682128906, 187.91954040527344, 166.9010009765625, 135.4232177734375, 135.6678466796875, 129.81936645507812, 120.758544921875, 106.23697662353516, 106.25807189941406, 104.730224609375, 90.99681854248047, 90.33494567871094, 3272.61181640625, 2845.071533203125, 2719.73486328125, 1801.31787109375, 1064.562255859375, 885.822265625, 815.2631225585938, 371.96875, 279.69903564453125, 224.8484649658203, 176.2017059326172, 167.9336395263672, 132.83509826660156, 128.0546417236328, 122.8692855834961, 109.80465698242188, 100.50625610351562, 90.86515045166016, 81.77523040771484, 73.64009094238281, 68.84426879882812, 65.66486358642578, 48.53314971923828, 44.21621322631836, 44.30500793457031, 41.41529846191406, 28.882951736450195, 28.947036743164062, 26.776859283447266, 24.407373428344727, 2117.574462890625, 16607.71484375, 14342.84765625, 1553.4019775390625, 1087.24462890625, 775.81494140625, 665.9058837890625, 370.6295166015625, 353.56231689453125, 320.01568603515625, 318.54034423828125, 316.0743408203125, 211.22752380371094, 205.60882568359375, 161.69065856933594, 161.52378845214844, 134.13140869140625, 120.52740478515625, 116.08393859863281, 111.07855224609375, 105.45696258544922, 100.90145874023438, 92.57520294189453, 84.35784912109375, 82.24706268310547, 71.32749938964844, 69.50578308105469, 68.02122497558594, 59.63132858276367, 58.751136779785156, 58.450599670410156, 7462.2529296875, 916.6187133789062, 677.7559814453125, 535.0060424804688, 493.25531005859375, 451.68194580078125, 399.2640380859375, 347.7593078613281, 288.6875, 271.6481628417969, 261.813232421875, 201.28167724609375, 192.873046875, 175.8911590576172, 160.55149841308594, 137.65660095214844, 124.02669525146484, 122.96587371826172, 119.4143295288086, 115.3708267211914, 109.91177368164062, 107.14826965332031, 106.09809112548828, 101.3614273071289, 89.17052459716797, 85.74034881591797, 83.10148620605469, 76.59274291992188, 65.44588470458984, 64.7154769897461, 7408.49072265625, 4757.80615234375, 3263.79296875, 2137.467529296875, 776.2931518554688, 715.4751586914062, 596.8814697265625, 196.2483367919922, 191.7097625732422, 181.67178344726562, 181.86160278320312, 170.715576171875, 157.55653381347656, 141.00103759765625, 125.92229461669922, 97.3552474975586, 93.1599349975586, 81.98175048828125, 67.12603759765625, 64.8348617553711, 60.49000930786133, 50.842166900634766, 47.493019104003906, 41.66814422607422, 34.7624626159668, 33.95964050292969, 34.058589935302734, 29.984189987182617, 29.297304153442383, 28.773168563842773, 34855.1171875, 864.89453125, 69.15145111083984, 31.22393226623535, 20.82260513305664, 13.650747299194336, 7.738389015197754, 3.7495055198669434, 0.02047058939933777, 0.020235909149050713, 0.020827993750572205, 0.020326359197497368, 0.020605027675628662, 0.020215632393956184, 0.020213257521390915, 0.020084207877516747, 0.0199274905025959, 0.02047271840274334, 0.02063467726111412, 0.01990503817796707, 0.020317738875746727, 0.019908389076590538, 0.020545052364468575, 0.020446477457880974, 0.02041521854698658, 0.01990503817796707, 0.019907254725694656, 0.020495865494012833, 0.01995307393372059, 0.020134659484028816, 0.02097800001502037, 0.020975543186068535, 0.020919885486364365, 0.020902102813124657, 0.020891185849905014, 0.020887384191155434, 0.020875228568911552, 0.02087004855275154, 0.020870011299848557, 0.02085033990442753, 0.020848773419857025, 0.02083827555179596, 0.02083428017795086, 0.020826883614063263, 0.020825963467359543, 0.020820466801524162, 0.020810144022107124, 0.020783616229891777, 0.020777082070708275, 0.020757457241415977, 0.020754622295498848, 0.22036921977996826, 0.2220841944217682, 0.24519897997379303, 0.24529427289962769, 0.2587851881980896, 0.2636067569255829, 0.2677130401134491, 0.27576664090156555, 0.27518314123153687, 0.2854900062084198, 0.2870160639286041, 0.2944197356700897, 0.29744765162467957, 0.30205461382865906, 0.3017510771751404, 0.30310049653053284, 0.30413639545440674, 0.3014565408229828, 0.30404800176620483, 0.32017865777015686, 0.32224467396736145, 0.3267238736152649, 0.33113157749176025, 1288.5784912109375, 2117.574462890625, 0.39319971203804016, 6052.20654296875, 0.3682706952095032, 0.38011494278907776, 0.4458756148815155, 0.5046164989471436, 0.5719614028930664, 0.519369900226593, 0.7539992928504944, 0.6086311340332031, 0.6229850649833679, 0.7156448364257812, 0.45379638671875, 0.6497347950935364, 0.49585041403770447, 0.5097535252571106, 29809.79296875, 14342.84765625, 16607.71484375, 7377.0732421875, 7403.56982421875, 7408.49072265625, 5396.30078125, 4801.93310546875, 4749.75634765625, 6405.54248046875, 5246.48486328125, 3272.61181640625, 4409.60888671875, 3240.859619140625, 3263.79296875, 2699.22216796875, 3193.32763671875, 2719.73486328125, 2845.071533203125, 4749.75634765625, 2684.681396484375, 2322.67431640625, 1112.7266845703125, 788.253173828125, 659.3521728515625, 602.5430297851562, 478.1929626464844, 451.36083984375, 410.2066345214844, 375.5326843261719, 349.44866943359375, 348.06097412109375, 342.9903564453125, 251.68544006347656, 242.39007568359375, 224.14688110351562, 213.68331909179688, 164.11016845703125, 152.1669464111328, 143.27450561523438, 141.9193878173828, 139.98403930664062, 139.31552124023438, 124.16273498535156, 123.169189453125, 115.1115493774414, 109.83031463623047, 102.70602416992188, 88.69686889648438, 7403.56982421875, 5246.48486328125, 401.05218505859375, 267.98455810546875, 194.9077606201172, 193.33575439453125, 107.697265625, 95.0710220336914, 94.62285614013672, 93.67642211914062, 90.46099090576172, 84.72704315185547, 80.66332244873047, 65.38719177246094, 50.4422607421875, 45.460514068603516, 27.016403198242188, 24.500673294067383, 23.176597595214844, 17.987506866455078, 7.559136867523193, 6.902430534362793, 1.9178229570388794, 1.57184636592865, 1.4512187242507935, 0.7315810322761536, 0.30413639545440674, 0.020827993750572205, 0.020235909149050713, 0.02047058939933777, 0.02097800001502037, 0.020975543186068535, 0.020919885486364365, 0.22036921977996826, 0.2220841944217682, 0.24519897997379303, 0.24529427289962769, 1288.5784912109375, 2117.574462890625, 6052.20654296875, 1240.194091796875, 865.99267578125, 781.22021484375, 543.5762939453125, 535.199462890625, 484.5149841308594, 462.45587158203125, 455.5726623535156, 428.03717041015625, 292.3352355957031, 262.33294677734375, 259.88201904296875, 248.08216857910156, 237.90447998046875, 224.76190185546875, 225.10955810546875, 213.2737274169922, 207.6170196533203, 167.77244567871094, 154.85186767578125, 154.4281768798828, 153.97164916992188, 138.67335510253906, 133.36972045898438, 130.9007110595703, 127.80876922607422, 124.22272491455078, 120.18756866455078, 115.89452362060547, 114.0949478149414, 2117.574462890625, 5396.30078125, 6052.20654296875, 3057.681884765625, 1631.1231689453125, 779.0242919921875, 551.6778564453125, 461.55902099609375, 399.1231384277344, 383.8466796875, 376.83447265625, 251.02517700195312, 238.4322509765625, 235.03456115722656, 219.17730712890625, 193.5159149169922, 180.7985382080078, 178.8479766845703, 173.60813903808594, 161.80616760253906, 158.86036682128906, 136.44625854492188, 117.94298553466797, 91.91788482666016, 79.54496765136719, 77.80076599121094, 65.39439392089844, 63.2928466796875, 62.35309600830078, 59.463741302490234, 55.528076171875], \"loglift\": [30.0, 29.0, 28.0, 27.0, 26.0, 25.0, 24.0, 23.0, 22.0, 21.0, 20.0, 19.0, 18.0, 17.0, 16.0, 15.0, 14.0, 13.0, 12.0, 11.0, 10.0, 9.0, 8.0, 7.0, 6.0, 5.0, 4.0, 3.0, 2.0, 1.0, 3.4846999645233154, 3.4846999645233154, 3.4846999645233154, 3.484600067138672, 3.484600067138672, 3.484499931335449, 3.484499931335449, 3.4844000339508057, 3.4844000339508057, 3.4844000339508057, 3.484299898147583, 3.4842000007629395, 3.4842000007629395, 3.484100103378296, 3.484100103378296, 3.4839999675750732, 3.4839999675750732, 3.4839999675750732, 3.4839999675750732, 3.4839000701904297, 3.4839000701904297, 3.483799934387207, 3.4837000370025635, 3.483599901199341, 3.4834001064300537, 3.4832000732421875, 3.4830000400543213, 3.4830000400543213, 3.482800006866455, 3.482800006866455, 3.7609000205993652, 3.7607998847961426, 3.7607998847961426, 3.7607998847961426, 3.7607998847961426, 3.760699987411499, 3.760699987411499, 3.7606000900268555, 3.7606000900268555, 3.7606000900268555, 3.7606000900268555, 3.760499954223633, 3.760200023651123, 3.7597999572753906, 3.759700059890747, 3.759500026702881, 3.759000062942505, 3.759000062942505, 3.7588999271392822, 3.7588999271392822, 3.75819993019104, 3.75819993019104, 3.7578999996185303, 3.7571001052856445, 3.7567999362945557, 3.7567999362945557, 3.756700038909912, 3.756500005722046, 3.7564001083374023, 3.75600004196167, 2.7044999599456787, 3.657099962234497, 3.6570000648498535, 3.656899929046631, 3.656899929046631, 3.6568000316619873, 3.6568000316619873, 3.6566998958587646, 3.656599998474121, 3.656599998474121, 3.6565001010894775, 3.656399965286255, 3.656399965286255, 3.6563000679016113, 3.6561999320983887, 3.655900001525879, 3.655900001525879, 3.6558001041412354, 3.6558001041412354, 3.6556999683380127, 3.6556999683380127, 3.6556999683380127, 3.6556999683380127, 3.655600070953369, 3.6552999019622803, 3.6552000045776367, 3.6549999713897705, 3.6547000408172607, 3.6547000408172607, 3.654599905014038, 3.6542999744415283, 3.604599952697754, 3.604599952697754, 3.6045000553131104, 3.6043999195098877, 3.6041998863220215, 3.6041998863220215, 3.6041998863220215, 3.604099988937378, 3.6040000915527344, 3.6040000915527344, 3.6040000915527344, 3.6040000915527344, 3.6038999557495117, 3.6036999225616455, 3.6036999225616455, 3.6036999225616455, 3.603600025177002, 3.6034998893737793, 3.6034998893737793, 3.6034998893737793, 3.6033999919891357, 3.6033999919891357, 3.603300094604492, 3.603300094604492, 3.603300094604492, 3.6031999588012695, 3.6031999588012695, 3.6031999588012695, 3.603100061416626, 3.6029000282287598, 3.2421998977661133, 3.2421000003814697, 3.2421000003814697, 3.2421000003814697, 3.2421000003814697, 3.242000102996826, 3.242000102996826, 3.242000102996826, 3.242000102996826, 3.242000102996826, 3.2418999671936035, 3.2418999671936035, 3.2418999671936035, 3.2418999671936035, 3.24180006980896, 3.24180006980896, 3.24180006980896, 3.24180006980896, 3.2416999340057373, 3.2416999340057373, 3.2416999340057373, 3.2416999340057373, 3.2416000366210938, 3.241499900817871, 3.2414000034332275, 3.2414000034332275, 3.2414000034332275, 3.241300106048584, 3.2411999702453613, 3.2411999702453613, 3.7193000316619873, 3.7191998958587646, 3.7191998958587646, 3.7191998958587646, 3.7191998958587646, 3.7191998958587646, 3.719099998474121, 3.719099998474121, 3.719099998474121, 3.718899965286255, 3.718899965286255, 3.718899965286255, 3.718899965286255, 3.718899965286255, 3.718899965286255, 3.7188000679016113, 3.7188000679016113, 3.7186999320983887, 3.718600034713745, 3.7184998989105225, 3.7184998989105225, 3.718400001525879, 3.718400001525879, 3.718400001525879, 3.718400001525879, 3.7183001041412354, 3.7181999683380127, 3.7181999683380127, 3.718100070953369, 3.718100070953369, 3.718100070953369, 4.219900131225586, 4.219600200653076, 4.219600200653076, 4.219600200653076, 4.219600200653076, 4.219299793243408, 4.219299793243408, 4.219200134277344, 4.219200134277344, 4.219200134277344, 4.218999862670898, 4.218900203704834, 4.218900203704834, 4.218800067901611, 4.218800067901611, 4.218599796295166, 4.218599796295166, 4.218500137329102, 4.218400001525879, 4.218200206756592, 4.218200206756592, 4.217899799346924, 4.217800140380859, 4.217700004577637, 4.217700004577637, 4.217700004577637, 4.217599868774414, 4.217599868774414, 4.217400074005127, 4.217400074005127, 3.662600040435791, 3.6624999046325684, 3.6624999046325684, 3.6623001098632812, 3.6621999740600586, 3.6621999740600586, 3.662100076675415, 3.662100076675415, 3.6619999408721924, 3.6619999408721924, 3.6619999408721924, 3.661600112915039, 3.661600112915039, 3.661600112915039, 3.661400079727173, 3.661400079727173, 3.66129994392395, 3.6610000133514404, 3.6610000133514404, 3.6610000133514404, 3.660799980163574, 3.660799980163574, 3.6603000164031982, 3.6602001190185547, 3.6602001190185547, 3.6600000858306885, 3.6600000858306885, 3.6600000858306885, 3.659600019454956, 3.659600019454956, 4.243800163269043, 4.24370002746582, 4.24370002746582, 4.24370002746582, 4.243599891662598, 4.243500232696533, 4.243500232696533, 4.243500232696533, 4.2434000968933105, 4.2434000968933105, 4.243199825286865, 4.243100166320801, 4.243100166320801, 4.242800235748291, 4.242800235748291, 4.242700099945068, 4.242700099945068, 4.242599964141846, 4.242300033569336, 4.242300033569336, 4.242199897766113, 4.242099761962891, 4.242000102996826, 4.242000102996826, 4.2418999671936035, 4.2418999671936035, 4.241700172424316, 4.241399765014648, 4.241300106048584, 4.241199970245361, 3.54010009765625, 3.54010009765625, 3.5399999618530273, 3.5399999618530273, 3.539900064468384, 3.539900064468384, 3.539900064468384, 3.539900064468384, 3.539799928665161, 3.539799928665161, 3.539799928665161, 3.5397000312805176, 3.5397000312805176, 3.539599895477295, 3.539599895477295, 3.5394999980926514, 3.539400100708008, 3.539400100708008, 3.539299964904785, 3.539299964904785, 3.539299964904785, 3.5392000675201416, 3.539099931716919, 3.5390000343322754, 3.5390000343322754, 3.5388998985290527, 3.5388998985290527, 3.538599967956543, 3.538599967956543, 3.5385000705718994, 3.194999933242798, 3.194999933242798, 3.194999933242798, 3.1949000358581543, 3.1949000358581543, 3.1949000358581543, 3.1947999000549316, 3.1947999000549316, 3.194700002670288, 3.194700002670288, 3.194700002670288, 3.1946001052856445, 3.1946001052856445, 3.194499969482422, 3.194499969482422, 3.194499969482422, 3.194499969482422, 3.194499969482422, 3.1944000720977783, 3.194200038909912, 3.1940999031066895, 3.1937999725341797, 3.193700075149536, 3.1935999393463135, 3.19350004196167, 3.1933999061584473, 3.19320011138916, 3.19320011138916, 3.1930999755859375, 3.1926000118255615, 3.6728999614715576, 3.672800064086914, 3.672800064086914, 3.6726999282836914, 3.6726999282836914, 3.6726999282836914, 3.672600030899048, 3.672600030899048, 3.672600030899048, 3.672600030899048, 3.672499895095825, 3.672300100326538, 3.672300100326538, 3.672300100326538, 3.672300100326538, 3.6721999645233154, 3.672100067138672, 3.671799898147583, 3.671600103378296, 3.671600103378296, 3.6714999675750732, 3.6714999675750732, 3.671299934387207, 3.671099901199341, 3.670799970626831, 3.6707000732421875, 3.6705000400543213, 3.6705000400543213, 3.6703999042510986, 3.6698999404907227, 3.245300054550171, 3.5481998920440674, 3.5481998920440674, 3.5481998920440674, 3.5481998920440674, 3.548099994659424, 3.5480000972747803, 3.5480000972747803, 3.5480000972747803, 3.5480000972747803, 3.5478999614715576, 3.547800064086914, 3.5476999282836914, 3.5476999282836914, 3.5476999282836914, 3.547600030899048, 3.547600030899048, 3.547600030899048, 3.547499895095825, 3.5473999977111816, 3.547300100326538, 3.5471999645233154, 3.5471999645233154, 3.5471999645233154, 3.5471999645233154, 3.547100067138672, 3.547100067138672, 3.547100067138672, 3.547100067138672, 3.547100067138672, 3.546999931335449, 2.448899984359741, 2.4488000869750977, 2.4488000869750977, 2.4486000537872314, 2.448499917984009, 2.4481000900268555, 2.4481000900268555, 2.4479000568389893, 2.4479000568389893, 2.4479000568389893, 2.4479000568389893, 2.4475998878479004, 2.4475998878479004, 2.447200059890747, 2.4470999240875244, 2.4465999603271484, 2.4465999603271484, 2.446500062942505, 2.446500062942505, 2.4456000328063965, 2.445199966430664, 2.4442999362945557, 2.4437999725341797, 2.4433000087738037, 2.443000078201294, 2.4428999423980713, 2.441699981689453, 2.440000057220459, 2.4365999698638916, 2.427999973297119, 3.587599992752075, 3.5875000953674316, 3.5875000953674316, 3.5871999263763428, 3.5871999263763428, 3.587100028991699, 3.587100028991699, 3.5869998931884766, 3.5869998931884766, 3.5869998931884766, 3.5869998931884766, 3.5869998931884766, 3.586899995803833, 3.586899995803833, 3.586899995803833, 3.5868000984191895, 3.5868000984191895, 3.586699962615967, 3.586699962615967, 3.5866000652313232, 3.5866000652313232, 3.5866000652313232, 3.586400032043457, 3.586400032043457, 3.586400032043457, 3.586199998855591, 3.5861001014709473, 3.585900068283081, 3.5857999324798584, 3.5855000019073486, 3.497999906539917, 3.4979000091552734, 3.4979000091552734, 3.4979000091552734, 3.4979000091552734, 3.49780011177063, 3.4976999759674072, 3.4976000785827637, 3.4974000453948975, 3.4974000453948975, 3.497299909591675, 3.4972000122070312, 3.496999979019165, 3.4969000816345215, 3.496799945831299, 3.496799945831299, 3.4967000484466553, 3.496500015258789, 3.4964001178741455, 3.4958999156951904, 3.495300054550171, 3.4951000213623047, 3.4944000244140625, 3.4941000938415527, 3.4939000606536865, 3.4939000606536865, 3.4939000606536865, 3.4934000968933105, 3.4932000637054443, 3.4925999641418457, 3.723299980163574, 3.723299980163574, 3.723299980163574, 3.723299980163574, 3.723299980163574, 3.7232000827789307, 3.7232000827789307, 3.7232000827789307, 3.7230000495910645, 3.7230000495910645, 3.722899913787842, 3.722899913787842, 3.7228000164031982, 3.7228000164031982, 3.7227001190185547, 3.7227001190185547, 3.7227001190185547, 3.7227001190185547, 3.722599983215332, 3.722599983215332, 3.7225000858306885, 3.7225000858306885, 3.722399950027466, 3.7223000526428223, 3.7221999168395996, 3.7221999168395996, 3.7221999168395996, 3.7221999168395996, 3.7221999168395996, 3.722100019454956, 3.4477999210357666, 3.4477999210357666, 3.447700023651123, 3.447700023651123, 3.447499990463257, 3.4474000930786133, 3.4472999572753906, 3.4472999572753906, 3.447200059890747, 3.447200059890747, 3.447200059890747, 3.447200059890747, 3.4470999240875244, 3.446899890899658, 3.446700096130371, 3.4465999603271484, 3.4463999271392822, 3.446199893951416, 3.446199893951416, 3.4460999965667725, 3.44569993019104, 3.445499897003174, 3.4451000690460205, 3.4451000690460205, 3.4451000690460205, 3.4447999000549316, 3.4447999000549316, 3.444700002670288, 3.444700002670288, 3.4440999031066895, 4.04610013961792, 4.04610013961792, 4.046000003814697, 4.045899868011475, 4.04580020904541, 4.0457000732421875, 4.045599937438965, 4.045599937438965, 4.045599937438965, 4.045300006866455, 4.045300006866455, 4.045300006866455, 4.045199871063232, 4.045100212097168, 4.045100212097168, 4.045100212097168, 4.044899940490723, 4.0447998046875, 4.0447001457214355, 4.04449987411499, 4.04449987411499, 4.04449987411499, 4.044400215148926, 4.044300079345703, 4.044300079345703, 4.044099807739258, 4.044000148773193, 4.044000148773193, 4.044000148773193, 4.043900012969971, 3.72979998588562, 3.729599952697754, 3.729599952697754, 3.7293999195098877, 3.729300022125244, 3.729300022125244, 3.7291998863220215, 3.7290000915527344, 3.728800058364868, 3.728800058364868, 3.7284998893737793, 3.728300094604492, 3.728300094604492, 3.728300094604492, 3.728100061416626, 3.7279999256134033, 3.7279000282287598, 3.7279000282287598, 3.7276999950408936, 3.72760009765625, 3.7272000312805176, 3.727099895477295, 3.7269999980926514, 3.726799964904785, 3.7267000675201416, 3.7267000675201416, 3.7263998985290527, 3.7262001037597656, 3.7260000705718994, 3.7260000705718994, 3.5348000526428223, 3.5348000526428223, 3.5346999168395996, 3.5346999168395996, 3.534600019454956, 3.534600019454956, 3.534600019454956, 3.5344998836517334, 3.5344998836517334, 3.53439998626709, 3.53439998626709, 3.53439998626709, 3.53439998626709, 3.5343000888824463, 3.5343000888824463, 3.5341999530792236, 3.5339999198913574, 3.5339999198913574, 3.533900022506714, 3.533900022506714, 3.533799886703491, 3.5334999561309814, 3.5334999561309814, 3.533400058746338, 3.5332999229431152, 3.533099889755249, 3.533099889755249, 3.533099889755249, 3.5327999591827393, 3.5327999591827393, 3.4567999839782715, 3.456700086593628, 3.456700086593628, 3.456700086593628, 3.4565999507904053, 3.4565999507904053, 3.4565999507904053, 3.4563000202178955, 3.4560999870300293, 3.4560000896453857, 3.4558000564575195, 3.455699920654297, 3.455399990081787, 3.455399990081787, 3.4553000926971436, 3.4551000595092773, 3.4549999237060547, 3.4547998905181885, 3.4544999599456787, 3.4542999267578125, 3.4540998935699463, 3.4539999961853027, 3.453000068664551, 3.4526000022888184, 3.4526000022888184, 3.4523000717163086, 3.4504001140594482, 3.4504001140594482, 3.4498000144958496, 3.449199914932251, 1.8680000305175781, 2.584700107574463, 2.584700107574463, 2.5845999717712402, 2.5845999717712402, 2.5845000743865967, 2.5845000743865967, 2.584199905395508, 2.584199905395508, 2.584199905395508, 2.584199905395508, 2.584199905395508, 2.583899974822998, 2.5838000774383545, 2.5836000442504883, 2.5836000442504883, 2.583400011062622, 2.583199977874756, 2.583199977874756, 2.5831000804901123, 2.5829999446868896, 2.582900047302246, 2.5827999114990234, 2.5826001167297363, 2.5824999809265137, 2.582200050354004, 2.5820999145507812, 2.5820000171661377, 2.581700086593628, 2.5815999507904053, 2.5815999507904053, 3.5255000591278076, 3.5253000259399414, 3.5251998901367188, 3.5251998901367188, 3.525099992752075, 3.525099992752075, 3.5250000953674316, 3.5250000953674316, 3.524899959564209, 3.5248000621795654, 3.5248000621795654, 3.524600028991699, 3.5244998931884766, 3.524399995803833, 3.5243000984191895, 3.5241000652313232, 3.5239999294281006, 3.5239999294281006, 3.523900032043457, 3.523900032043457, 3.5237998962402344, 3.5237998962402344, 3.523699998855591, 3.523699998855591, 3.523400068283081, 3.5232999324798584, 3.5232999324798584, 3.523099899291992, 3.522700071334839, 3.522599935531616, 3.169800043106079, 3.169800043106079, 3.169800043106079, 3.169800043106079, 3.169600009918213, 3.169600009918213, 3.1695001125335693, 3.1689000129699707, 3.1689000129699707, 3.168800115585327, 3.168800115585327, 3.168800115585327, 3.1686999797821045, 3.1684999465942383, 3.1684000492095947, 3.1679999828338623, 3.1679000854492188, 3.16759991645813, 3.167099952697754, 3.1670000553131104, 3.166800022125244, 3.1661999225616455, 3.1659998893737793, 3.1654000282287598, 3.164599895477295, 3.164400100708008, 3.164400100708008, 3.1637001037597656, 3.1635000705718994, 3.1633999347686768, 2.6802000999450684, 2.680000066757202, 2.677500009536743, 2.674299955368042, 2.6714000701904297, 2.6666998863220215, 2.6561999320983887, 2.6298999786376953, -0.8598999977111816, -0.8598999977111816, -0.8598999977111816, -0.8598999977111816, -0.8598999977111816, -0.8598999977111816, -0.8598999977111816, -0.8598999977111816, -0.8598999977111816, -0.8598999977111816, -0.8598999977111816, -0.8598999977111816, -0.8598999977111816, -0.8598999977111816, -0.8598999977111816, -0.8598999977111816, -0.8598999977111816, -0.8598999977111816, -0.8598999977111816, -0.8598999977111816, -0.8598999977111816, -0.8598999977111816, -0.8598999977111816, -0.8598999977111816, -0.8598999977111816, -0.8598999977111816, -0.8598999977111816, -0.8598999977111816, -0.8598999977111816, -0.8598999977111816, -0.8598999977111816, -0.8598999977111816, -0.8598999977111816, -0.8598999977111816, -0.8598999977111816, -0.8598999977111816, -0.8598999977111816, -0.8598999977111816, -0.8598999977111816, -0.8598999977111816, -0.8598999977111816, -0.8598999977111816, -0.8598999977111816, -1.0372999906539917, -1.039199948310852, -1.129699945449829, -1.132200002670288, -1.2000999450683594, -1.2130999565124512, -1.232100009918213, -1.2467999458312988, -1.2527999877929688, -1.2834999561309814, -1.2884000539779663, -1.3087999820709229, -1.3243999481201172, -1.3378000259399414, -1.339900016784668, -1.3411999940872192, -1.343999981880188, -1.3436000347137451, -1.3509999513626099, -1.3952000141143799, -1.4107999801635742, -1.4157999753952026, -1.4329999685287476, -8.946700096130371, -9.440299987792969, -1.5924999713897705, -10.713000297546387, -1.5319000482559204, -1.5654000043869019, -1.7208000421524048, -1.840999960899353, -1.9639999866485596, -1.8703999519348145, -2.2370998859405518, -2.0278000831604004, -2.0532000064849854, -2.1907999515533447, -1.7400000095367432, -2.0952999591827393, -1.8279999494552612, -1.8554999828338623, -12.793000221252441, -12.063199996948242, -12.211299896240234, -11.402400016784668, -11.406200408935547, -11.407699584960938, -11.09160041809082, -10.975199699401855, -10.964500427246094, -11.264300346374512, -11.065299987792969, -10.593299865722656, -10.892200469970703, -10.584199905395508, -10.591400146484375, -10.402099609375, -10.570500373840332, -10.410499572753906, -10.45580005645752, 3.3138999938964844, 3.3138999938964844, 3.3138999938964844, 3.313800096511841, 3.313699960708618, 3.313699960708618, 3.3136000633239746, 3.3136000633239746, 3.313499927520752, 3.313499927520752, 3.313499927520752, 3.3134000301361084, 3.3134000301361084, 3.3134000301361084, 3.313199996948242, 3.313199996948242, 3.3131000995635986, 3.3131000995635986, 3.3127999305725098, 3.312700033187866, 3.312700033187866, 3.3125998973846436, 3.3125998973846436, 3.3125998973846436, 3.3125, 3.3124001026153564, 3.312299966812134, 3.312299966812134, 3.3120999336242676, 3.3118999004364014, 3.5768001079559326, 3.5768001079559326, 3.5764000415802, 3.576200008392334, 3.575900077819824, 3.575900077819824, 3.575200080871582, 3.574899911880493, 3.574899911880493, 3.574899911880493, 3.5748000144958496, 3.574700117111206, 3.5745999813079834, 3.5739998817443848, 3.573199987411499, 3.5727999210357666, 3.569999933242798, 3.5692999362945557, 3.5689001083374023, 3.5666000843048096, 3.552500009536743, 3.5499000549316406, 3.4762001037597656, 3.4530999660491943, 3.441800117492676, 3.289400100708008, 2.6647000312805176, 0.03539999946951866, 0.03539999946951866, 0.03539999946951866, 0.03539999946951866, 0.03539999946951866, 0.03539999946951866, -0.1421000063419342, -0.14399999380111694, -0.23440000414848328, -0.23690000176429749, -8.05150032043457, -8.545000076293945, -9.817700386047363, 3.661900043487549, 3.661799907684326, 3.661799907684326, 3.6617000102996826, 3.6617000102996826, 3.661600112915039, 3.661600112915039, 3.661600112915039, 3.661600112915039, 3.661400079727173, 3.66129994392395, 3.66129994392395, 3.66129994392395, 3.66129994392395, 3.6612000465393066, 3.6612000465393066, 3.6612000465393066, 3.661099910736084, 3.660900115966797, 3.660799980163574, 3.660799980163574, 3.660799980163574, 3.6607000827789307, 3.6607000827789307, 3.660599946975708, 3.660599946975708, 3.6605000495910645, 3.6605000495910645, 3.660399913787842, 3.660399913787842, 3.4333999156951904, 3.146199941635132, 3.146199941635132, 3.1461000442504883, 3.1461000442504883, 3.1459999084472656, 3.145900011062622, 3.1458001136779785, 3.145699977874756, 3.145699977874756, 3.145699977874756, 3.1454999446868896, 3.145400047302246, 3.145400047302246, 3.145400047302246, 3.1452999114990234, 3.14520001411438, 3.14520001411438, 3.14520001411438, 3.1451001167297363, 3.1451001167297363, 3.14490008354187, 3.144700050354004, 3.144200086593628, 3.143899917602539, 3.143899917602539, 3.143399953842163, 3.1433000564575195, 3.1433000564575195, 3.1431000232696533, 3.142899990081787], \"logprob\": [30.0, 29.0, 28.0, 27.0, 26.0, 25.0, 24.0, 23.0, 22.0, 21.0, 20.0, 19.0, 18.0, 17.0, 16.0, 15.0, 14.0, 13.0, 12.0, 11.0, 10.0, 9.0, 8.0, 7.0, 6.0, 5.0, 4.0, 3.0, 2.0, 1.0, -1.9035999774932861, -1.9502999782562256, -2.205699920654297, -2.6989998817443848, -2.992000102996826, -3.287899971008301, -3.34879994392395, -3.401700019836426, -3.411099910736084, -3.5885000228881836, -3.7730000019073486, -3.8761000633239746, -3.8847999572753906, -4.11359977722168, -4.127699851989746, -4.177599906921387, -4.199900150299072, -4.2480998039245605, -4.263199806213379, -4.327600002288818, -4.388400077819824, -4.492800235748291, -4.579100131988525, -4.682000160217285, -4.819499969482422, -4.954500198364258, -5.030399799346924, -5.0680999755859375, -5.140399932861328, -5.147200107574463, -2.023699998855591, -2.256700038909912, -2.265899896621704, -2.5322000980377197, -2.607300043106079, -2.815200090408325, -3.026400089263916, -3.0580999851226807, -3.0748000144958496, -3.11080002784729, -3.266900062561035, -3.3803000450134277, -3.9653000831604004, -4.355800151824951, -4.440899848937988, -4.546899795532227, -4.85230016708374, -4.8607001304626465, -4.893400192260742, -4.923099994659424, -5.209700107574463, -5.224100112915039, -5.316299915313721, -5.534800052642822, -5.610899925231934, -5.616399765014648, -5.643099784851074, -5.692599773406982, -5.712800025939941, -5.789400100708008, -3.302299976348877, -1.2419999837875366, -2.237600088119507, -2.7237000465393066, -2.8459999561309814, -3.0090999603271484, -3.224299907684326, -3.5199999809265137, -3.649899959564209, -3.693700075149536, -3.7934000492095947, -3.9189000129699707, -3.960599899291992, -4.061600208282471, -4.200200080871582, -4.462699890136719, -4.519100189208984, -4.535699844360352, -4.547999858856201, -4.63040018081665, -4.63670015335083, -4.651500225067139, -4.667900085449219, -4.727499961853027, -4.909800052642822, -4.9654998779296875, -5.023799896240234, -5.167200088500977, -5.172100067138672, -5.2230000495910645, -5.337800025939941, -1.4946000576019287, -2.0446999073028564, -2.3712000846862793, -3.111299991607666, -3.5399999618530273, -3.561500072479248, -3.670799970626831, -3.8299999237060547, -3.9644999504089355, -3.956899881362915, -3.9583001136779785, -3.9807000160217285, -4.127500057220459, -4.305600166320801, -4.3171000480651855, -4.376200199127197, -4.417699813842773, -4.4822001457214355, -4.500100135803223, -4.547500133514404, -4.572999954223633, -4.6209001541137695, -4.653600215911865, -4.67549991607666, -4.677800178527832, -4.717800140380859, -4.721799850463867, -4.753900051116943, -4.807499885559082, -4.9344000816345215, -2.259500026702881, -2.7871999740600586, -2.93179988861084, -2.9974000453948975, -3.059799909591675, -3.2012999057769775, -3.2435998916625977, -3.2541000843048096, -3.4251999855041504, -3.479300022125244, -3.527400016784668, -3.675800085067749, -3.719399929046631, -3.7469000816345215, -3.8166000843048096, -3.857300043106079, -3.9748001098632812, -4.020100116729736, -4.070300102233887, -4.098100185394287, -4.166100025177002, -4.18779993057251, -4.217400074005127, -4.444900035858154, -4.499100208282471, -4.540599822998047, -4.557400226593018, -4.624499797821045, -4.723899841308594, -4.73390007019043, -2.276700019836426, -2.987299919128418, -3.0157999992370605, -3.0457000732421875, -3.0622000694274902, -3.1001999378204346, -3.1647000312805176, -3.24180006980896, -3.295799970626831, -3.6273999214172363, -3.648400068283081, -3.66129994392395, -3.739799976348877, -3.7479000091552734, -3.7537999153137207, -3.800800085067749, -3.859800100326538, -4.024700164794922, -4.172399997711182, -4.19290018081665, -4.207699775695801, -4.3084001541137695, -4.336400032043457, -4.340199947357178, -4.350100040435791, -4.392000198364258, -4.46750020980835, -4.488500118255615, -4.54580020904541, -4.590199947357178, -4.587699890136719, -1.7297999858856201, -2.6545000076293945, -2.7190001010894775, -2.805799961090088, -2.853800058364868, -3.29010009765625, -3.3678998947143555, -3.4274001121520996, -3.479599952697754, -3.4916000366210938, -3.709700107574463, -3.8015999794006348, -3.8457000255584717, -3.865000009536743, -3.8889000415802, -4.0569000244140625, -4.057799816131592, -4.099299907684326, -4.162899971008301, -4.319200038909912, -4.337500095367432, -4.469299793243408, -4.495299816131592, -4.543799877166748, -4.549600124359131, -4.576399803161621, -4.605599880218506, -4.614299774169922, -4.690299987792969, -4.691100120544434, -1.0329999923706055, -2.143399953842163, -2.503200054168701, -3.165600061416626, -3.485599994659424, -3.55649995803833, -3.566999912261963, -3.648400068283081, -3.753000020980835, -3.856800079345703, -3.867500066757202, -4.322700023651123, -4.34660005569458, -4.356500148773193, -4.492199897766113, -4.521200180053711, -4.547599792480469, -4.745699882507324, -4.7708001136779785, -4.798999786376953, -4.89900016784668, -4.901299953460693, -5.136199951171875, -5.163000106811523, -5.169899940490723, -5.246799945831299, -5.247600078582764, -5.2729997634887695, -5.390699863433838, -5.406099796295166, -2.2535998821258545, -2.5016000270843506, -2.5745999813079834, -2.627700090408325, -2.7565999031066895, -2.9437999725341797, -3.081399917602539, -3.1108999252319336, -3.203399896621704, -3.2265000343322754, -3.482300043106079, -3.601300001144409, -3.665800094604492, -3.878499984741211, -3.9386000633239746, -3.998500108718872, -4.038599967956543, -4.042399883270264, -4.251100063323975, -4.258500099182129, -4.340700149536133, -4.398799896240234, -4.424200057983398, -4.457799911499023, -4.464399814605713, -4.468800067901611, -4.563399791717529, -4.705399990081787, -4.7322001457214355, -4.776899814605713, -2.0490000247955322, -2.0826001167297363, -2.5020999908447266, -2.7732999324798584, -2.9368999004364014, -3.036900043487549, -3.236599922180176, -3.250699996948242, -3.3489999771118164, -3.401700019836426, -3.4809999465942383, -3.708899974822998, -3.7318999767303467, -3.81030011177063, -3.867500066757202, -3.989799976348877, -4.145100116729736, -4.202499866485596, -4.246399879455566, -4.264800071716309, -4.312399864196777, -4.369999885559082, -4.435500144958496, -4.56879997253418, -4.60260009765625, -4.655799865722656, -4.662099838256836, -4.854499816894531, -4.8805999755859375, -4.91480016708374, -1.8895000219345093, -2.053299903869629, -2.0724000930786133, -2.629699945449829, -2.982300043106079, -3.007499933242798, -3.0416998863220215, -3.151900053024292, -3.527600049972534, -3.6301000118255615, -3.7414000034332275, -3.7871999740600586, -4.0117998123168945, -4.0258002281188965, -4.167600154876709, -4.190400123596191, -4.1946001052856445, -4.195899963378906, -4.24370002746582, -4.534800052642822, -4.630899906158447, -4.92549991607666, -5.063700199127197, -5.079999923706055, -5.150199890136719, -5.240600109100342, -5.343800067901611, -5.359799861907959, -5.412499904632568, -5.665999889373779, -1.8145999908447266, -2.363600015640259, -2.6972999572753906, -2.8324999809265137, -2.839400053024292, -3.115000009536743, -3.1424999237060547, -3.150700092315674, -3.185499906539917, -3.299099922180176, -3.4683001041412354, -3.8127999305725098, -3.8362998962402344, -3.882999897003174, -3.926100015640259, -3.9807000160217285, -4.1905999183654785, -4.438499927520752, -4.581999778747559, -4.6031999588012695, -4.658299922943115, -4.7042999267578125, -4.781000137329102, -4.911200046539307, -5.060299873352051, -5.113100051879883, -5.168700218200684, -5.171000003814697, -5.220699787139893, -5.416900157928467, -2.761399984359741, -2.2327001094818115, -2.406399965286255, -2.4644999504089355, -2.719899892807007, -3.075200080871582, -3.263200044631958, -3.3236000537872314, -3.3901000022888184, -3.3928000926971436, -3.6821000576019287, -3.852299928665161, -3.932300090789795, -3.9820001125335693, -4.056600093841553, -4.067500114440918, -4.104899883270264, -4.162899971008301, -4.278800010681152, -4.3769001960754395, -4.482500076293945, -4.51230001449585, -4.522900104522705, -4.532100200653076, -4.546299934387207, -4.619699954986572, -4.644000053405762, -4.658899784088135, -4.673299789428711, -4.671599864959717, -4.726500034332275, -0.41659998893737793, -1.813099980354309, -2.327699899673462, -4.1528000831604, -4.576399803161621, -5.204400062561035, -5.28849983215332, -5.428599834442139, -5.473999977111816, -5.4766998291015625, -5.497399806976318, -5.721499919891357, -5.781099796295166, -5.990699768066406, -6.096499919891357, -6.3084001541137695, -6.3394999504089355, -6.360300064086914, -6.385200023651123, -6.687099933624268, -6.828400135040283, -7.017399787902832, -7.1269001960754395, -7.236000061035156, -7.296500205993652, -7.291399955749512, -7.4878997802734375, -7.706699848175049, -8.019100189208984, -8.559599876403809, -1.5324000120162964, -2.0532000064849854, -2.3773000240325928, -3.4632999897003174, -3.483299970626831, -3.621799945831299, -3.69950008392334, -3.874500036239624, -3.906100034713745, -3.9140000343322754, -3.9581000804901123, -3.9635000228881836, -4.018899917602539, -4.050099849700928, -4.091300010681152, -4.180300235748291, -4.1946001052856445, -4.231800079345703, -4.311800003051758, -4.340799808502197, -4.3607001304626465, -4.411499977111816, -4.548699855804443, -4.555699825286865, -4.569699764251709, -4.684700012207031, -4.780200004577637, -4.9359002113342285, -4.9506001472473145, -5.115499973297119, -0.9327999949455261, -2.418299913406372, -2.5248000621795654, -2.5871999263763428, -2.6173999309539795, -2.900399923324585, -3.376300096511841, -3.6851000785827637, -4.062099933624268, -4.060100078582764, -4.1666998863220215, -4.293000221252441, -4.516900062561035, -4.601799964904785, -4.6371002197265625, -4.657199859619141, -4.764100074768066, -4.894100189208984, -4.929599761962891, -5.212299823760986, -5.450900077819824, -5.525899887084961, -5.759300231933594, -5.826099872589111, -5.8871002197265625, -5.872799873352051, -5.885900020599365, -5.988699913024902, -6.028600215911865, -6.143599987030029, -2.6881000995635986, -2.8243000507354736, -2.8320000171661377, -2.869999885559082, -2.8534998893737793, -2.8910999298095703, -2.9426000118255615, -3.000999927520752, -3.4886999130249023, -3.5381999015808105, -3.6765999794006348, -3.733799934387207, -3.8791000843048096, -3.95169997215271, -4.022600173950195, -4.0370001792907715, -4.061999797821045, -4.079599857330322, -4.116300106048584, -4.151899814605713, -4.236499786376953, -4.268700122833252, -4.367300033569336, -4.3846001625061035, -4.475800037384033, -4.485499858856201, -4.485400199890137, -4.515999794006348, -4.517199993133545, -4.597400188446045, -1.243499994277954, -1.3157000541687012, -2.525599956512451, -2.7472000122070312, -3.4433999061584473, -3.789799928665161, -3.959399938583374, -3.9749999046325684, -4.040800094604492, -4.050899982452393, -4.117499828338623, -4.128900051116943, -4.233500003814697, -4.415200233459473, -4.634399890899658, -4.708799839019775, -4.871699810028076, -5.0065999031066895, -5.019199848175049, -5.084400177001953, -5.243899822235107, -5.340199947357178, -5.503900051116943, -5.512499809265137, -5.521999835968018, -5.616600036621094, -5.633299827575684, -5.643899917602539, -5.662199974060059, -5.830999851226807, -1.8876999616622925, -2.042799949645996, -2.2736001014709473, -2.8838999271392822, -3.0018999576568604, -3.2407000064849854, -3.4045000076293945, -3.474400043487549, -3.481100082397461, -3.8036000728607178, -3.8910000324249268, -3.8938000202178955, -3.938699960708618, -4.05109977722168, -4.06689977645874, -4.072700023651123, -4.247499942779541, -4.250699996948242, -4.366000175476074, -4.466700077056885, -4.463099956512451, -4.5040998458862305, -4.52869987487793, -4.561800003051758, -4.5680999755859375, -4.690299987792969, -4.714099884033203, -4.712299823760986, -4.747300148010254, -4.759200096130371, -0.6733999848365784, -2.4379000663757324, -2.7862000465393066, -3.389899969100952, -3.469099998474121, -3.5322999954223633, -3.7314000129699707, -3.9976999759674072, -4.1930999755859375, -4.218800067901611, -4.44950008392334, -4.624199867248535, -4.644800186157227, -4.645400047302246, -4.765999794006348, -4.7972002029418945, -4.859300136566162, -4.866600036621094, -4.973700046539307, -5.037700176239014, -5.167900085449219, -5.2245001792907715, -5.236800193786621, -5.311600208282471, -5.345300197601318, -5.371099948883057, -5.456200122833252, -5.490900039672852, -5.554299831390381, -5.551199913024902, -2.073499917984009, -2.193700075149536, -2.6768999099731445, -2.8136000633239746, -2.905900001525879, -2.984499931335449, -2.998500108718872, -3.302299976348877, -3.3076999187469482, -3.5292999744415283, -3.5806000232696533, -3.5950000286102295, -3.734499931335449, -3.7651000022888184, -3.9272000789642334, -3.957200050354004, -4.225200176239014, -4.2754998207092285, -4.390699863433838, -4.398200035095215, -4.516900062561035, -4.726099967956543, -4.724299907684326, -4.768499851226807, -4.84089994430542, -4.969200134277344, -4.968999862670898, -4.98360013961792, -5.1244001388549805, -5.131700038909912, -1.6180000305175781, -1.7580000162124634, -1.8029999732971191, -2.215100049972534, -2.7411000728607178, -2.9249000549316406, -3.007999897003174, -3.7929000854492188, -4.078199863433838, -4.296599864959717, -4.5406999588012695, -4.588799953460693, -4.823500156402588, -4.860199928283691, -4.901599884033203, -5.014200210571289, -5.10290002822876, -5.20389986038208, -5.309599876403809, -5.414599895477295, -5.482100009918213, -5.5295000076293945, -5.832799911499023, -5.926300048828125, -5.9243998527526855, -5.992099761962891, -6.354400157928467, -6.352200031280518, -6.430699825286865, -6.52400016784668, -3.6419999599456787, -0.8657000064849854, -1.0123000144958496, -3.2351999282836914, -3.592099905014038, -3.9296000003814697, -4.082399845123291, -4.668600082397461, -4.715799808502197, -4.815499782562256, -4.820099830627441, -4.827899932861328, -5.231200218200684, -5.258200168609619, -5.498799800872803, -5.499800205230713, -5.6859002113342285, -5.793000221252441, -5.830599784851074, -5.87470006942749, -5.926799774169922, -5.9710001945495605, -6.057300090789795, -6.150400161743164, -6.17579984664917, -6.318600177764893, -6.3445000648498535, -6.366199970245361, -6.498199939727783, -6.5131001472473145, -6.5183000564575195, -0.7250000238418579, -2.8220999240875244, -3.124000072479248, -3.360599994659424, -3.4419000148773193, -3.5299999713897705, -3.65339994430542, -3.791599988937378, -3.9779000282287598, -4.038700103759766, -4.0756001472473145, -4.338799953460693, -4.381499767303467, -4.473700046539307, -4.565100193023682, -4.719099998474121, -4.823599815368652, -4.832200050354004, -4.861499786376953, -4.895999908447266, -4.9446001052856445, -4.970099925994873, -4.979899883270264, -5.025700092315674, -5.154099941253662, -5.193399906158447, -5.224699974060059, -5.30649995803833, -5.464200019836426, -5.475399971008301, -1.0878000259399414, -1.5306999683380127, -1.9076000452041626, -2.330899953842163, -3.343899965286255, -3.42549991607666, -3.606800079345703, -4.719799995422363, -4.743199825286865, -4.796999931335449, -4.796000003814697, -4.859300136566162, -4.939599990844727, -5.0507001876831055, -5.164000034332275, -5.4217000007629395, -5.46589994430542, -5.593999862670898, -5.794400215148926, -5.82919979095459, -5.898799896240234, -6.0731000900268555, -6.141499996185303, -6.272900104522705, -6.454999923706055, -6.478400230407715, -6.475500106811523, -6.603700160980225, -6.626999855041504, -6.645199775695801, -0.02889999933540821, -3.725399971008301, -6.254199981689453, -7.052599906921387, -7.460599899291992, -7.887599945068359, -8.46560001373291, -9.216500282287598, -17.91670036315918, -17.928199768066406, -17.89940071105957, -17.9237003326416, -17.91010093688965, -17.92919921875, -17.92930030822754, -17.935699462890625, -17.943599700927734, -17.91659927368164, -17.908700942993164, -17.944700241088867, -17.9242000579834, -17.944499969482422, -17.913000106811523, -17.917800903320312, -17.91939926147461, -17.944700241088867, -17.944599151611328, -17.9153995513916, -17.94230079650879, -17.93320083618164, -17.892200469970703, -17.89229965209961, -17.895000457763672, -17.89579963684082, -17.896299362182617, -17.896499633789062, -17.8971004486084, -17.897300720214844, -17.897300720214844, -17.898300170898438, -17.898399353027344, -17.89889907836914, -17.899099349975586, -17.89940071105957, -17.899499893188477, -17.899700164794922, -17.90019989013672, -17.901500701904297, -17.90180015563965, -17.902799606323242, -17.90290069580078, -15.71780014038086, -15.711999893188477, -15.703399658203125, -15.705499649047852, -15.720000267028809, -15.714500427246094, -15.718000411987305, -15.703100204467773, -15.711199760437012, -15.705100059509277, -15.704700469970703, -15.699600219726562, -15.704899787902832, -15.70300006866455, -15.706100463867188, -15.702899932861328, -15.702400207519531, -15.710700035095215, -15.709600448608398, -15.702099800109863, -15.711299896240234, -15.702500343322754, -15.706299781799316, -14.953499794006348, -14.950300216674805, -15.694000244140625, -15.172800064086914, -15.69890022277832, -15.700799942016602, -15.696599960327148, -15.692999839782715, -15.690699577331543, -15.693599700927734, -15.6875, -15.692399978637695, -15.6943998336792, -15.693400382995605, -15.698200225830078, -15.694600105285645, -15.697500228881836, -15.697400093078613, -15.658499717712402, -15.660200119018555, -15.661700248718262, -15.664299964904785, -15.664600372314453, -15.665399551391602, -15.666199684143066, -15.666500091552734, -15.66670036315918, -15.667499542236328, -15.668000221252441, -15.668000221252441, -15.668700218200684, -15.668700218200684, -15.668800354003906, -15.669400215148926, -15.6697998046875, -15.670299530029297, -15.670499801635742, -1.3882999420166016, -1.958899974822998, -2.1036999225616455, -2.8396999835968018, -3.184499979019165, -3.363100051879883, -3.4532999992370605, -3.684499979019165, -3.742300033569336, -3.837899923324585, -3.926300048828125, -3.998300075531006, -4.002299785614014, -4.016900062561035, -4.326700210571289, -4.364299774169922, -4.442599773406982, -4.490499973297119, -4.754700183868408, -4.8302998542785645, -4.890600204467773, -4.900100231170654, -4.913899898529053, -4.918700218200684, -5.033999919891357, -5.042099952697754, -5.109799861907959, -5.156799793243408, -5.223999977111816, -5.3709001541137695, -0.6815000176429749, -1.0259000062942505, -3.597599983215332, -4.000899791717529, -4.3196001052856445, -4.327700138092041, -4.913599967956543, -5.03849983215332, -5.0432000160217285, -5.053299903869629, -5.0883002281188965, -5.153900146484375, -5.203199863433838, -5.413700103759766, -5.673999786376953, -5.77839994430542, -6.301599979400635, -6.400000095367432, -6.455999851226807, -6.7118000984191895, -7.592800140380859, -7.686299800872803, -9.04069995880127, -9.262700080871582, -9.353899955749512, -10.191200256347656, -11.693599700927734, -17.004100799560547, -17.033000946044922, -17.021400451660156, -16.99690055847168, -16.997100830078125, -16.99970054626465, -14.822600364685059, -14.816699981689453, -14.808099746704102, -14.81029987335205, -14.058199882507324, -14.055100440979004, -14.277600288391113, -2.3831000328063965, -2.7423999309539795, -2.845400094985962, -3.208199977874756, -3.2237000465393066, -3.3232998847961426, -3.3698999881744385, -3.3849000930786133, -3.447200059890747, -3.8287999629974365, -3.9370999336242676, -3.946500062942505, -3.993000030517578, -4.034900188446045, -4.091800212860107, -4.0903000831604, -4.1442999839782715, -4.171199798583984, -4.384500026702881, -4.464700222015381, -4.46750020980835, -4.470399856567383, -4.575200080871582, -4.614299774169922, -4.632999897003174, -4.656899929046631, -4.685400009155273, -4.718500137329102, -4.754899978637695, -4.770599842071533, -2.0766000747680664, -1.4284000396728516, -1.3136999607086182, -1.996500015258789, -2.6249001026153564, -3.364000082015991, -3.709199905395508, -3.8875999450683594, -4.0329999923706055, -4.0721001625061035, -4.0904998779296875, -4.497000217437744, -4.548500061035156, -4.562900066375732, -4.632800102233887, -4.757400035858154, -4.825500011444092, -4.836299896240234, -4.866099834442139, -4.936600208282471, -4.954999923706055, -5.1072998046875, -5.253200054168701, -5.502900123596191, -5.647799968719482, -5.670000076293945, -5.844200134277344, -5.876999855041504, -5.891900062561035, -5.939499855041504, -6.008200168609619]}, \"token.table\": {\"Topic\": [3, 4, 5, 15, 22, 11, 29, 11, 13, 28, 23, 4, 25, 22, 1, 28, 11, 24, 18, 5, 3, 13, 25, 23, 20, 28, 24, 21, 8, 28, 28, 11, 3, 15, 16, 16, 12, 12, 12, 11, 8, 19, 18, 16, 23, 11, 7, 15, 1, 1, 15, 29, 30, 7, 16, 5, 7, 24, 14, 17, 13, 3, 8, 5, 25, 30, 11, 5, 17, 25, 25, 25, 28, 11, 11, 25, 1, 15, 19, 27, 15, 25, 24, 2, 10, 3, 26, 5, 27, 16, 22, 2, 9, 17, 10, 4, 2, 6, 6, 21, 7, 28, 20, 8, 7, 17, 16, 16, 9, 30, 15, 30, 17, 19, 5, 10, 29, 24, 24, 21, 1, 5, 9, 7, 7, 7, 23, 18, 29, 1, 5, 9, 22, 23, 17, 12, 24, 17, 24, 1, 3, 3, 18, 23, 3, 14, 7, 5, 20, 25, 18, 8, 12, 22, 11, 4, 24, 23, 3, 21, 27, 8, 8, 25, 6, 24, 30, 12, 16, 25, 11, 25, 30, 15, 11, 17, 2, 2, 9, 9, 6, 9, 29, 14, 15, 7, 4, 18, 20, 12, 14, 13, 10, 14, 13, 6, 17, 14, 9, 19, 11, 23, 18, 12, 27, 14, 23, 13, 18, 10, 2, 4, 10, 17, 9, 29, 18, 11, 18, 14, 14, 4, 10, 27, 15, 19, 13, 15, 17, 21, 28, 6, 19, 21, 7, 10, 10, 24, 14, 1, 3, 2, 7, 7, 16, 3, 7, 5, 11, 9, 23, 9, 5, 16, 23, 8, 9, 17, 19, 19, 7, 16, 20, 27, 23, 6, 15, 8, 8, 10, 19, 22, 15, 15, 15, 14, 18, 28, 25, 25, 19, 23, 25, 11, 24, 24, 2, 1, 1, 21, 13, 23, 26, 14, 30, 16, 1, 13, 13, 2, 26, 29, 3, 21, 27, 20, 25, 5, 6, 19, 22, 1, 19, 28, 21, 23, 24, 14, 15, 21, 2, 4, 28, 14, 3, 10, 9, 9, 14, 10, 10, 5, 7, 20, 27, 2, 20, 14, 24, 9, 11, 13, 29, 23, 30, 14, 23, 17, 13, 1, 12, 22, 17, 29, 15, 13, 1, 8, 8, 6, 21, 22, 8, 12, 19, 13, 3, 2, 2, 7, 7, 4, 5, 10, 2, 5, 22, 12, 12, 12, 10, 13, 30, 27, 3, 29, 16, 5, 13, 14, 11, 7, 4, 13, 6, 4, 19, 7, 6, 6, 10, 18, 6, 8, 18, 11, 27, 4, 19, 5, 2, 21, 29, 9, 8, 8, 2, 12, 11, 9, 2, 24, 12, 19, 12, 12, 27, 21, 27, 21, 5, 22, 30, 10, 13, 21, 17, 30, 13, 5, 3, 3, 3, 28, 23, 30, 30, 21, 15, 28, 25, 26, 9, 4, 23, 12, 2, 9, 21, 30, 16, 14, 27, 23, 25, 18, 20, 18, 23, 24, 27, 5, 22, 30, 29, 22, 3, 30, 4, 6, 29, 3, 19, 4, 22, 8, 14, 20, 22, 9, 4, 27, 27, 30, 18, 22, 21, 24, 18, 20, 9, 16, 16, 8, 11, 19, 19, 28, 20, 24, 3, 17, 3, 11, 28, 21, 4, 22, 23, 29, 7, 20, 20, 19, 7, 20, 1, 30, 29, 15, 5, 7, 18, 8, 14, 3, 15, 1, 29, 8, 10, 30, 9, 4, 22, 21, 21, 30, 27, 19, 20, 4, 25, 24, 7, 20, 17, 29, 21, 16, 23, 6, 6, 30, 8, 4, 14, 7, 17, 4, 20, 12, 13, 1, 9, 4, 19, 16, 8, 8, 8, 10, 10, 27, 15, 30, 8, 20, 7, 14, 5, 16, 30, 14, 16, 30, 17, 18, 14, 21, 29, 20, 14, 1, 19, 19, 1, 5, 17, 22, 13, 12, 6, 18, 9, 22, 27, 28, 18, 14, 29, 27, 25, 1, 6, 22, 22, 12, 5, 2, 12, 20, 13, 13, 20, 2, 6, 8, 19, 5, 5, 24, 21, 18, 23, 9, 26, 14, 8, 28, 3, 23, 8, 29, 2, 11, 22, 22, 30, 28, 21, 5, 4, 21, 20, 29, 3, 1, 2, 29, 29, 24, 24, 14, 18, 12, 27, 13, 16, 7, 8, 15, 16, 27, 4, 18, 7, 10, 4, 29, 6, 16, 24, 17, 6, 30, 4, 21, 28, 25, 17, 17, 10, 18, 15, 1, 1, 14, 20, 19, 18, 17, 29, 23, 28, 28, 6, 8, 1, 28, 5, 20, 16, 30, 17, 1, 1, 6, 2, 2, 2, 5, 6, 17, 15, 6, 27, 9, 23, 18, 30, 25, 19, 12, 6, 19, 11, 16, 7, 11, 20, 4, 7, 11, 13, 10, 28, 16, 9, 3, 9, 15, 12, 15, 27, 12, 10, 18, 25, 20, 28, 22, 26, 27, 24, 24, 30, 24, 28, 1, 1, 25, 26, 10, 12, 22, 28, 17, 9, 12, 13, 13, 19, 12, 15, 3, 1, 30, 11, 24, 25, 25, 23, 26, 21, 29, 6, 16, 29, 13, 27, 22, 2, 17, 29, 1, 29, 16, 10, 21, 10, 10, 12, 18, 25, 2, 23, 11, 11, 8, 22, 19, 2, 3, 22, 3, 20, 4, 6, 9, 17, 4, 16, 15, 6, 11, 3, 27, 10, 25, 21, 25, 13, 24, 20, 15, 29, 6, 6, 18, 13, 12, 25, 23, 16, 2, 8, 10, 22, 29, 24, 17, 22, 4, 2, 2, 20, 15, 27, 27, 27], \"Freq\": [0.9959222078323364, 0.999624490737915, 1.0011065006256104, 1.000571846961975, 1.0018296241760254, 0.994605302810669, 0.9987429976463318, 0.9993167519569397, 0.9960080981254578, 0.993417501449585, 0.9997749924659729, 0.9958449602127075, 0.9896191358566284, 0.9949629306793213, 1.0000624656677246, 1.0006945133209229, 0.9991327524185181, 0.9976139664649963, 0.9999077320098877, 1.0011309385299683, 1.0025334358215332, 0.9977903366088867, 1.0001986026763916, 1.0001413822174072, 1.0005221366882324, 0.9912323355674744, 0.998778760433197, 1.000472068786621, 0.9928537011146545, 0.99925297498703, 1.014135479927063, 0.9999760985374451, 1.0004091262817383, 0.9991008043289185, 0.998550534248352, 0.9977197647094727, 0.9986240267753601, 0.9977887272834778, 1.0019742250442505, 1.000322699546814, 0.9966959357261658, 0.9982731342315674, 0.9980704188346863, 0.9945479035377502, 0.9970389008522034, 1.0000568628311157, 0.9989457726478577, 0.9986504316329956, 0.999573826789856, 0.9997816681861877, 0.9978768229484558, 0.9989371299743652, 0.999899685382843, 1.0031074285507202, 0.9966560006141663, 0.9995339512825012, 1.0008091926574707, 0.9990754723548889, 0.9982458353042603, 0.998328447341919, 0.9979378581047058, 1.000033974647522, 1.3973411321640015, 0.9989902973175049, 0.9839650988578796, 0.999944269657135, 0.9999176859855652, 0.9996649026870728, 0.9993022084236145, 0.9997812509536743, 0.9996223449707031, 0.9963510036468506, 0.9927791357040405, 0.9994255900382996, 0.999973714351654, 0.9987345933914185, 0.9989376664161682, 0.9983766078948975, 0.9971893429756165, 0.9993447065353394, 0.999943196773529, 1.003104329109192, 1.0002775192260742, 0.9929726719856262, 0.9995970726013184, 0.9986354112625122, 0.9523288011550903, 0.9986754059791565, 0.9992005228996277, 1.0023298263549805, 0.9996772408485413, 0.9998264312744141, 0.9968937635421753, 0.9985499978065491, 1.0006318092346191, 0.9988304972648621, 0.9894345998764038, 1.0015230178833008, 1.0005288124084473, 1.0006625652313232, 1.0002261400222778, 0.9998698830604553, 1.001417636871338, 1.0008227825164795, 0.9945989847183228, 0.995542049407959, 0.9971241354942322, 0.9980039596557617, 0.9981566667556763, 0.9943371415138245, 0.9988826513290405, 1.0008933544158936, 1.001485824584961, 0.993561863899231, 0.9991277456283569, 1.000029444694519, 0.9987165331840515, 1.000618815422058, 0.9994823932647705, 1.0025758743286133, 1.0007164478302002, 0.9999967813491821, 1.0004397630691528, 0.9987868666648865, 0.9988632798194885, 0.9965075850486755, 0.9956668615341187, 0.9942187666893005, 0.9998434782028198, 1.0000635385513306, 0.9998458623886108, 1.0004503726959229, 0.9913078546524048, 0.9967572093009949, 0.9998498558998108, 0.9986947178840637, 0.997618556022644, 1.0011402368545532, 1.000802755355835, 0.997565746307373, 1.0025399923324585, 1.0009002685546875, 1.0021170377731323, 0.9989228248596191, 0.9997130632400513, 0.9746346473693848, 1.0023298263549805, 0.9992074966430664, 1.000917673110962, 0.9981223940849304, 1.0006753206253052, 0.9995868802070618, 1.0000545978546143, 1.0010638236999512, 1.000236988067627, 1.0000114440917969, 0.9999660849571228, 1.0009765625, 0.9993811845779419, 0.9975712895393372, 0.9993286728858948, 0.9997289776802063, 0.9986411333084106, 1.001513957977295, 0.9975365400314331, 1.0043965578079224, 1.000849962234497, 0.9978819489479065, 0.9945326447486877, 0.9963021874427795, 1.0001633167266846, 0.9993358850479126, 0.9987713098526001, 0.9983088374137878, 0.9998310804367065, 0.997357189655304, 1.0045894384384155, 0.9973964691162109, 1.000474214553833, 0.9926199316978455, 1.0011119842529297, 0.9962624907493591, 0.999167799949646, 0.9955261945724487, 0.9990854263305664, 1.0027525424957275, 0.999045729637146, 0.9942627549171448, 0.999797523021698, 1.0006829500198364, 1.0169607400894165, 0.9990060925483704, 0.9973052740097046, 0.9951006770133972, 0.9993954300880432, 0.999617338180542, 0.9990543723106384, 0.9978331327438354, 0.9976136088371277, 0.9995096325874329, 1.001121163368225, 0.9957579374313354, 0.9973853826522827, 1.0004178285598755, 0.9968022108078003, 1.0002604722976685, 0.9969961047172546, 1.0010321140289307, 1.0005204677581787, 1.0001846551895142, 0.99863600730896, 0.9988849759101868, 0.9973841309547424, 0.9953656196594238, 0.9937945604324341, 1.000008463859558, 1.0000139474868774, 0.9999885559082031, 0.9989915490150452, 0.9937168955802917, 0.9956926107406616, 0.9997255206108093, 0.9959596991539001, 0.9989028573036194, 1.0000436305999756, 0.9990782141685486, 0.9958811402320862, 0.9934205412864685, 0.9992896318435669, 1.0019994974136353, 1.3669025897979736, 0.9984106421470642, 1.0024909973144531, 1.0001002550125122, 1.0000247955322266, 0.999650239944458, 0.9991905093193054, 1.0006921291351318, 1.0077292919158936, 0.9981632828712463, 1.000941276550293, 0.9982314705848694, 0.9994888305664062, 0.9954980611801147, 0.9963028430938721, 0.9966279864311218, 0.9971426129341125, 0.9990192651748657, 1.000043272972107, 1.0004175901412964, 0.989412784576416, 0.995195746421814, 0.9979654550552368, 0.9995855093002319, 0.9992928504943848, 0.9981430172920227, 0.9996426701545715, 0.9997215270996094, 0.9999747276306152, 0.9968175292015076, 1.0018224716186523, 0.995879590511322, 0.9975521564483643, 1.0028623342514038, 1.004235863685608, 1.0013329982757568, 0.9975453019142151, 1.0014373064041138, 0.996866762638092, 0.9995859265327454, 0.9927252531051636, 0.9833093881607056, 1.0005276203155518, 0.9983260631561279, 1.0010533332824707, 0.9862589836120605, 1.0001192092895508, 1.0004732608795166, 0.9964677095413208, 1.0000407695770264, 0.9976468682289124, 0.9983015060424805, 1.0016660690307617, 1.000639796257019, 0.9965649843215942, 0.9952301383018494, 1.0004974603652954, 1.0005182027816772, 0.9984888434410095, 0.9997498989105225, 0.9999743700027466, 0.99974125623703, 1.0668073892593384, 1.005410075187683, 1.0011142492294312, 0.9999973773956299, 1.0002877712249756, 0.9999657869338989, 0.9991160035133362, 0.9972030520439148, 0.9999966621398926, 1.000401496887207, 0.9988473057746887, 1.000024676322937, 1.0015449523925781, 1.0040926933288574, 0.9982797503471375, 1.000280737876892, 0.9999217987060547, 0.9970288872718811, 1.0022621154785156, 0.999374508857727, 0.9971523880958557, 0.999923050403595, 1.0006918907165527, 0.9927231669425964, 0.996530294418335, 0.9983236193656921, 0.9979755878448486, 1.0013914108276367, 0.995152473449707, 0.9998043775558472, 1.0028109550476074, 1.0073328018188477, 0.9992009401321411, 1.0002816915512085, 0.999403178691864, 0.9966910481452942, 0.9972832798957825, 0.999372661113739, 0.9993280172348022, 0.9981078505516052, 0.9997405409812927, 0.9983295798301697, 0.9998248219490051, 0.9950259327888489, 0.9916810393333435, 0.9967405200004578, 0.9997847676277161, 0.9970598816871643, 1.0000380277633667, 0.9988349080085754, 0.9996272921562195, 1.0000171661376953, 0.9996914863586426, 1.000006914138794, 0.9956241846084595, 0.9986963272094727, 0.9997870326042175, 0.9977580904960632, 0.9938483834266663, 1.0003951787948608, 1.000340461730957, 0.9999131560325623, 1.0022937059402466, 0.9957731366157532, 0.9994006156921387, 0.9998592138290405, 1.0022274255752563, 0.9994152784347534, 1.0004281997680664, 0.9951100945472717, 0.998981773853302, 0.999206006526947, 0.9989755153656006, 0.9988269805908203, 1.002137541770935, 0.9998685717582703, 1.00020170211792, 1.0009264945983887, 0.9993674159049988, 0.9981487989425659, 0.9998365640640259, 0.9957647323608398, 1.0025447607040405, 0.9996758699417114, 1.000200629234314, 1.0000616312026978, 1.00031316280365, 0.9991494417190552, 0.9990724921226501, 1.0000927448272705, 0.9987888336181641, 0.9986893534660339, 0.9995321035385132, 1.0009101629257202, 0.9988694190979004, 0.9989479184150696, 1.00053870677948, 0.9975325465202332, 0.999302327632904, 0.9963378310203552, 1.0011250972747803, 1.0003362894058228, 0.9999133348464966, 0.9985727667808533, 0.9996033310890198, 0.9978388547897339, 0.9991887211799622, 0.9999599456787109, 0.996501088142395, 0.9980022311210632, 1.0002896785736084, 1.00147545337677, 1.00367271900177, 0.9986818432807922, 0.9983907341957092, 0.9998665452003479, 0.9950032830238342, 0.9997820258140564, 1.000498652458191, 0.9999786019325256, 0.9995133280754089, 0.994602620601654, 1.0007494688034058, 0.998068630695343, 0.9951480627059937, 0.9996873736381531, 0.9990976452827454, 0.9932371973991394, 0.9993425011634827, 0.9922611117362976, 1.000073790550232, 0.9950281977653503, 0.9999690651893616, 0.9980003237724304, 0.9994658827781677, 1.0005342960357666, 0.9977352023124695, 0.9983498454093933, 0.9998863339424133, 1.0010759830474854, 1.0003994703292847, 0.9996055960655212, 1.000719666481018, 0.9968748688697815, 0.9967553019523621, 0.9953731298446655, 1.0007531642913818, 1.0006985664367676, 0.999306857585907, 0.998014509677887, 0.9992006421089172, 0.9260316491127014, 0.9984095692634583, 0.9999658465385437, 0.9998529553413391, 1.000220775604248, 0.9991551041603088, 0.6890760064125061, 1.002547025680542, 1.0085192918777466, 0.9960020780563354, 0.9998974204063416, 0.9997648000717163, 0.9997042417526245, 0.988319993019104, 0.9989355802536011, 0.9998220205307007, 1.000878930091858, 0.999380350112915, 1.0008447170257568, 0.9995964765548706, 0.9990202784538269, 0.9999337792396545, 0.9995371699333191, 0.9993011951446533, 0.9988284707069397, 0.9954085350036621, 0.9984902143478394, 0.9997096657752991, 0.9996574521064758, 1.0012414455413818, 0.9999244809150696, 0.9996687769889832, 0.989014744758606, 0.9983091354370117, 0.9973340034484863, 0.9987387657165527, 1.000212550163269, 0.998439371585846, 1.0000462532043457, 0.9967291355133057, 1.0015602111816406, 0.9998235106468201, 0.9991699457168579, 0.9973760843276978, 0.9998682737350464, 0.999573290348053, 0.9998930096626282, 0.9961118102073669, 0.9987160563468933, 0.9994962811470032, 0.9999688267707825, 1.004370927810669, 1.0000975131988525, 0.9999638199806213, 1.003028392791748, 0.99922776222229, 1.0007771253585815, 0.9997462034225464, 0.9941859841346741, 1.0016306638717651, 0.9999260902404785, 0.9999854564666748, 1.0000256299972534, 1.0000640153884888, 1.0428491830825806, 1.0030648708343506, 0.9993249773979187, 0.9989895820617676, 0.9977553486824036, 0.999310314655304, 1.0018633604049683, 0.9999076128005981, 1.0001193284988403, 0.9941890835762024, 1.0083333253860474, 0.993786633014679, 0.9989398121833801, 0.9993805289268494, 0.9901620149612427, 0.9985434412956238, 1.000585913658142, 0.9972036480903625, 1.0004242658615112, 1.0006839036941528, 1.0025608539581299, 1.000184178352356, 1.0011216402053833, 0.9974147081375122, 0.9989142417907715, 0.9973810911178589, 0.9991557598114014, 0.9900415539741516, 0.9992188215255737, 0.9996258616447449, 0.9996180534362793, 1.0004539489746094, 0.9999338984489441, 0.998947262763977, 1.0004833936691284, 0.9990390539169312, 1.0012489557266235, 0.9899723529815674, 1.0005931854248047, 0.9977693557739258, 0.9904899001121521, 0.9996787905693054, 1.000130534172058, 1.0035409927368164, 0.9998235702514648, 1.000527262687683, 1.0006582736968994, 0.9986434578895569, 0.9999153017997742, 1.0004247426986694, 0.9987308382987976, 0.9962921738624573, 0.9976270794868469, 1.0019131898880005, 0.9965116381645203, 0.9990675449371338, 0.9981871247291565, 1.0003430843353271, 1.0008023977279663, 0.9999992847442627, 0.9959048628807068, 0.9995978474617004, 0.9993806481361389, 1.0010182857513428, 0.9994733333587646, 0.9979081749916077, 0.9993669986724854, 1.0004066228866577, 0.9972041249275208, 1.000200629234314, 0.9999318718910217, 0.9997342824935913, 0.9986391067504883, 1.0002367496490479, 1.00126314163208, 0.9967822432518005, 0.9986263513565063, 0.998441219329834, 0.9939690232276917, 0.9978494048118591, 0.9990459084510803, 0.9980325698852539, 0.9943352937698364, 0.9984191060066223, 0.9998900890350342, 0.9922012686729431, 0.9998618960380554, 0.9995713233947754, 0.9967294335365295, 1.000203013420105, 1.0042568445205688, 0.9999900460243225, 0.9990220069885254, 0.9972278475761414, 0.9988337755203247, 0.997921884059906, 0.9945711493492126, 0.9962140321731567, 0.999584436416626, 0.999983549118042, 1.0000907182693481, 0.9994708895683289, 0.9998130202293396, 0.999255359172821, 0.9981971383094788, 0.9984204769134521, 1.0006557703018188, 1.0007089376449585, 0.9988552331924438, 1.0001139640808105, 0.6361944675445557, 0.9986492395401001, 1.0000993013381958, 1.000956654548645, 0.9985815286636353, 1.0002225637435913, 0.9997778534889221, 0.999901294708252, 1.0017789602279663, 1.0006738901138306, 0.9963154792785645, 0.9986016154289246, 0.34766992926597595, 0.6518810987472534, 0.9996188282966614, 0.9997392892837524, 0.9994775056838989, 1.0003398656845093, 1.0001896619796753, 1.000462293624878, 0.9961802363395691, 1.0008695125579834, 1.0001258850097656, 0.999941349029541, 0.9931869506835938, 0.9980379939079285, 0.9971415400505066, 0.9996879696846008, 0.999329149723053, 0.9928281903266907, 0.9806917309761047, 0.9919946193695068, 0.9917766451835632, 0.9989042282104492, 1.0002385377883911, 0.9975208640098572, 0.9990142583847046, 0.999150276184082, 0.993923008441925, 1.0027486085891724, 0.9898748993873596, 1.0004392862319946, 0.9923803210258484, 0.9992042779922485, 1.0003992319107056, 1.0001084804534912, 0.9982616901397705, 0.9938769340515137, 0.9997181296348572, 0.9984211921691895, 1.0014616250991821, 0.9901376962661743, 0.9972273111343384, 1.0007585287094116, 0.9980876445770264, 0.9986006021499634, 0.9988473653793335, 0.9978092312812805, 0.9984686970710754, 1.0012497901916504, 1.000666618347168, 0.9991146326065063, 0.9990742206573486, 0.9989609122276306, 0.9993340969085693, 0.9913539290428162, 1.000028133392334, 1.0001896619796753, 0.9989445209503174, 0.9937518835067749, 0.9996054172515869, 0.9987041354179382, 0.9988532662391663, 0.9983687996864319, 0.9961268305778503, 1.0003600120544434, 1.0001575946807861, 1.0003286600112915, 0.9997770190238953, 0.999228298664093, 1.0003607273101807, 0.989870011806488, 0.9898521900177002, 0.9988267421722412, 1.0002471208572388, 0.9961094856262207, 1.0003705024719238, 0.9971968531608582, 1.0004240274429321, 1.0023890733718872, 1.0005054473876953, 1.0037277936935425, 0.9955952167510986, 0.999901533126831, 1.0004602670669556, 1.0010592937469482, 0.9992769360542297, 0.9940784573554993, 0.9993928670883179, 0.9978224635124207, 1.3262611627578735, 1.0003973245620728, 0.9949039816856384, 0.999732255935669, 1.0011121034622192, 0.9973751306533813, 0.9964970350265503, 0.9994664192199707, 1.0006805658340454, 0.9979843497276306, 1.0008931159973145, 0.9999233484268188, 0.9989238977432251, 1.0063436031341553, 1.0013917684555054, 0.9985390305519104, 0.9985167384147644, 0.9975985288619995, 0.9987425208091736, 0.9990987777709961, 0.9998160600662231, 0.9999510049819946, 0.999413013458252, 0.993148922920227, 0.991899311542511, 0.9989230036735535, 0.9999518990516663, 1.0004098415374756, 0.9993408918380737, 1.0021774768829346, 1.0029810667037964, 0.9999860525131226, 0.9999584555625916, 1.001601219177246, 1.0011210441589355, 0.9943361878395081, 1.0020101070404053, 0.9992843866348267, 0.9987934827804565, 0.979564905166626, 0.997212827205658, 0.9979615807533264, 1.0002423524856567, 1.0000369548797607, 0.9981312155723572, 0.9971349835395813, 1.0004944801330566, 1.0005680322647095, 0.9983017444610596, 0.9990200996398926, 0.9997422099113464, 1.0007610321044922, 0.9966564178466797, 0.9982633590698242, 1.0014840364456177, 1.0001219511032104, 1.0002455711364746, 1.0007133483886719, 0.9967857599258423, 1.0011979341506958, 0.999338686466217, 1.000057578086853, 1.0004082918167114, 1.0000722408294678, 1.000063419342041, 1.0338069200515747, 0.9975396394729614, 1.0000343322753906, 0.9931157231330872, 1.0032216310501099, 0.9998252391815186, 0.998252809047699, 0.9909840226173401, 1.0000464916229248, 0.9974442720413208, 0.99989914894104, 0.9952319264411926, 1.0007052421569824, 0.9976349472999573, 1.0014344453811646, 0.9991910457611084, 0.9989039897918701, 0.9964342713356018, 1.0078834295272827, 0.9982832074165344, 0.9983037114143372, 0.997809886932373, 1.0000349283218384, 1.0014961957931519, 0.9996273517608643, 1.0053551197052002, 0.997028112411499, 0.9975486397743225, 1.0034176111221313, 1.0040525197982788, 1.003875494003296, 0.9990543127059937, 1.0013563632965088, 0.9970601201057434, 0.9982070326805115, 0.9998274445533752, 0.9999810457229614, 1.0003201961517334, 0.9986414909362793, 0.9947828650474548, 0.9997233748435974, 0.9996945261955261, 1.0011883974075317, 0.9946689009666443, 0.9922909140586853, 0.995923638343811, 0.9960231184959412, 0.9997544288635254, 1.0000840425491333, 0.9918423891067505, 0.9953659176826477, 0.9996737837791443, 0.9999748468399048, 0.9973863959312439, 0.9992879629135132, 0.997900664806366, 1.0003900527954102, 0.9983325600624084, 1.0002305507659912, 0.9990807771682739, 1.0009301900863647, 0.9993935227394104, 1.0000131130218506, 1.0004260540008545, 1.0000550746917725, 1.0000512599945068, 0.9957529306411743, 1.0006171464920044, 0.9950773119926453, 0.9999926686286926, 1.0005475282669067, 0.9986162185668945, 1.001017689704895, 1.0005398988723755, 0.9951443076133728, 0.9977443814277649, 1.001045823097229, 0.9987223744392395, 0.9996245503425598, 1.0027446746826172, 1.0068331956863403, 1.00001060962677, 1.000194787979126, 0.9995689988136292, 0.9932002425193787, 0.9979401230812073, 0.20400699973106384, 0.795721709728241, 0.9999887347221375, 0.9956247806549072, 0.9994718432426453, 0.9970229268074036, 0.9998577833175659, 1.0001369714736938, 0.9988833069801331, 1.0001723766326904, 0.9997462034225464, 0.9980840682983398, 0.9990309476852417], \"Term\": [\"absolute\", \"absolutely\", \"accessory\", \"accurate\", \"acre\", \"actual\", \"actually\", \"addition\", \"adequate\", \"adjustment\", \"advertised\", \"advertising\", \"advice\", \"affordable\", \"again\", \"allows\", \"almost\", \"already\", \"also\", \"alternative\", \"although\", \"always\", \"amazing\", \"amazon\", \"amount\", \"animal\", \"annoying\", \"another\", \"anyone\", \"anywhere\", \"anywhere_else\", \"apart\", \"apartment\", \"area\", \"around\", \"arrival\", \"arrived\", \"arrived_damaged\", \"arrived_time\", \"assemble\", \"assembly\", \"attached\", \"attachment\", \"attract\", \"attractive\", \"available\", \"average\", \"avoid\", \"away\", \"awesome\", \"awful\", \"back\", \"backyard\", \"bait\", \"bamboo\", \"bang_buck\", \"bargain\", \"base\", \"basic\", \"battery\", \"beat\", \"beautiful\", \"behind\", \"believe\", \"bent\", \"best\", \"better\", \"beware\", \"bigger\", \"bird\", \"bird_feeder\", \"birdfeeder\", \"birthday\", \"black\", \"black_decker\", \"blade\", \"blow\", \"blue\", \"body\", \"bottom\", \"bought\", \"branch\", \"brand\", \"brass\", \"break\", \"breeze\", \"brilliant\", \"broke\", \"broken\", \"brother\", \"brush\", \"buck\", \"bug\", \"build\", \"built\", \"bulb\", \"business\", \"buyer\", \"buyer_beware\", \"buying\", \"called\", \"came\", \"camping\", \"cannot\", \"care\", \"careful\", \"carpet\", \"catch\", \"catcher\", \"center\", \"chain\", \"champ\", \"change\", \"changed\", \"charm\", \"cheap\", \"cheaper\", \"cheaply\", \"cheaply_made\", \"chemical\", \"chicken\", \"china\", \"choice\", \"christmas\", \"christmas_gift\", \"christmas_present\", \"claim\", \"classic\", \"clean\", \"cleaner\", \"cleaning\", \"clear\", \"clipper\", \"close\", \"collection\", \"color\", \"come\", \"comfortable\", \"compact\", \"company\", \"complete\", \"complete_waste\", \"completely\", \"condition\", \"condo\", \"constant\", \"constructed\", \"construction\", \"control\", \"convenience\", \"convenient\", \"cool\", \"cord\", \"cost\", \"could\", \"couple\", \"cover\", \"craftsmanship\", \"crap\", \"crazy\", \"cup\", \"customer\", \"customer_service\", \"cut\", \"cute\", \"cutter\", \"cutting\", \"damaged\", \"damn\", \"daughter\", \"day\", \"deal\", \"decent\", \"deck\", \"decker\", \"deep\", \"defect\", \"defective\", \"definitely\", \"definitely_recommend\", \"degree\", \"delighted\", \"delivered\", \"delivers\", \"delivery\", \"dependable\", \"described\", \"description\", \"design\", \"designed\", \"detail\", \"device\", \"different\", \"difficult\", \"direction\", \"disappointed\", \"disappointing\", \"disappointment\", \"discontinued\", \"doctor_ordered\", \"doesnt\", \"dog\", \"done\", \"dont\", \"dont_waste\", \"down\", \"drain\", \"dream\", \"durability\", \"durable\", \"duty\", \"earth\", \"ease\", \"easier\", \"easiest\", \"easily\", \"easy\", \"easy_assemble\", \"easy_install\", \"edge\", \"edger\", \"effective\", \"efficient\", \"either\", \"electric\", \"else\", \"enjoy\", \"enjoyed\", \"enough\", \"equipment\", \"ergonomic\", \"especially\", \"essential\", \"even\", \"even_though\", \"ever\", \"ever_owned\", \"every\", \"everyday\", \"everyone\", \"everything\", \"exact_replacement\", \"exactly\", \"exactly_advertised\", \"exactly_looking\", \"exactly_needed\", \"exactly_wanted\", \"exceeded_expectation\", \"excellent\", \"except\", \"exercise\", \"existing\", \"expectation\", \"expected\", \"expecting\", \"expensive\", \"experience\", \"extra\", \"extremely\", \"extremely_pleased\", \"fabulous\", \"fact\", \"factory\", \"failed\", \"fair_price\", \"fairly\", \"fall\", \"false\", \"family\", \"fantastic\", \"farm\", \"fashioned\", \"fast\", \"fast_delivery\", \"fast_shipping\", \"father\", \"favorite\", \"feature\", \"feed\", \"feeder\", \"feeding\", \"feel\", \"fell\", \"fell_apart\", \"fence\", \"fill\", \"filter\", \"finally\", \"finally_found\", \"find\", \"finding\", \"fine\", \"finger\", \"finished\", \"fire\", \"first\", \"fiskars\", \"fit\", \"fit_perfectly\", \"fitting\", \"five\", \"flaw\", \"flimsy\", \"fly\", \"folk\", \"follow\", \"followed\", \"food\", \"foot\", \"forever\", \"forget\", \"found\", \"fountain\", \"four\", \"free\", \"fresh\", \"friend\", \"friendly\", \"front\", \"full\", \"function\", \"functional\", \"gadget\", \"garage\", \"garbage\", \"garden\", \"gardening\", \"gauge\", \"gear\", \"get\", \"get_done\", \"getting\", \"gift\", \"girl\", \"give\", \"given\", \"giving\", \"glad\", \"glad_bought\", \"glad_found\", \"going\", \"gold\", \"gone\", \"good\", \"grass\", \"great\", \"greatest\", \"green\", \"ground\", \"guess\", \"half\", \"hand\", \"handle\", \"handy\", \"hang\", \"hanging\", \"happier\", \"happy\", \"happy_customer\", \"hard\", \"hard_find\", \"hassle\", \"hatchet\", \"hate\", \"have\", \"heat\", \"heaven\", \"heavy\", \"heavy_duty\", \"hedge\", \"hedge_shear\", \"held\", \"help\", \"helpful\", \"here\", \"high\", \"high_quality\", \"highly\", \"highly_recommend\", \"highly_recommended\", \"hold\", \"hole\", \"home\", \"hook\", \"hope\", \"hoping\", \"horrible\", \"hose\", \"hour\", \"house\", \"however\", \"huge\", \"hung\", \"husband\", \"idea\", \"impressed\", \"impressive\", \"improvement\", \"inch\", \"indoor\", \"inexpensive\", \"install\", \"installed\", \"instruction\", \"intended\", \"investment\", \"issue\", \"item\", \"job\", \"junk\", \"jury_still\", \"keep\", \"keeping\", \"kept\", \"kid\", \"kind\", \"kinda\", \"knew\", \"know\", \"lacking\", \"large\", \"larger\", \"last\", \"last_forever\", \"last_long\", \"last_longer\", \"lasted\", \"lasted_month\", \"lasted_year\", \"later\", \"lawn\", \"le\", \"leaf\", \"leak\", \"leaked\", \"learn\", \"least\", \"length\", \"level\", \"life\", \"light\", \"light_duty\", \"light_weight\", \"lightning\", \"lightweight\", \"like\", \"like_champ\", \"like_charm\", \"liked\", \"limitation\", \"limited\", \"link\", \"listening\", \"little\", \"live\", \"long\", \"long_lasting\", \"longer\", \"look\", \"looked\", \"looking\", \"lost\", \"lot\", \"loud\", \"love\", \"loved\", \"lovely\", \"lover\", \"luck\", \"machine\", \"made\", \"made_china\", \"maintenance\", \"make\", \"make_sure\", \"manual\", \"many\", \"market\", \"match\", \"material\", \"maybe\", \"meant\", \"medium\", \"meet_expectation\", \"metal\", \"might\", \"million\", \"mine\", \"minute\", \"misleading\", \"miss\", \"missing\", \"missing_part\", \"model\", \"modification\", \"money\", \"month\", \"more\", \"mostly\", \"mother\", \"mount\", \"move\", \"move_around\", \"mower\", \"much\", \"must\", \"must_have\", \"narrow\", \"near\", \"need\", \"needed\", \"negative\", \"never\", \"next\", \"nice\", \"nicely\", \"noise\", \"none\", \"normal\", \"nothing\", \"number\", \"often\", \"okay\", \"older\", \"older_model\", \"one\", \"open\", \"operation\", \"opinion\", \"option\", \"order\", \"ordered\", \"original\", \"others\", \"otherwise\", \"outdoor\", \"outside\", \"outstanding\", \"overall\", \"overpriced\", \"owned\", \"owner\", \"packaging\", \"paid\", \"pain\", \"pair\", \"paper\", \"parent\", \"part\", \"pas\", \"patience\", \"patio\", \"peace\", \"penny\", \"people\", \"perfect\", \"perfectly\", \"performance\", \"performer\", \"period\", \"person\", \"pest\", \"pest_control\", \"photo\", \"picture\", \"pictured\", \"piece\", \"piece_crap\", \"piece_junk\", \"place\", \"plant\", \"plastic\", \"pleasant\", \"pleased\", \"plenty\", \"plus\", \"pond\", \"pool\", \"poor\", \"poor_design\", \"poor_quality\", \"poorly\", \"poorly_designed\", \"poorly_made\", \"porch\", \"positive\", \"pound\", \"power\", \"powerful\", \"present\", \"pressure\", \"pretty\", \"previous\", \"price\", \"priced\", \"probably\", \"problem\", \"produce\", \"product\", \"proof\", \"properly\", \"property\", \"protection\", \"pruner\", \"pruning\", \"pump\", \"purchase\", \"purchased\", \"purpose\", \"quality\", \"quick\", \"quickly\", \"quiet\", \"quite\", \"rain\", \"range\", \"rating\", \"ratio\", \"read\", \"reading\", \"ready\", \"real\", \"real_deal\", \"really\", \"reason\", \"reasonable\", \"reasonable_price\", \"receive\", \"received\", \"recommend\", \"recommend\", \"recommended\", \"regret\", \"reliable\", \"repair\", \"replacement\", \"replacement_spool\", \"result\", \"return\", \"review\", \"right\", \"right_size\", \"ring\", \"rock\", \"room\", \"round\", \"rugged\", \"ruined\", \"running\", \"safe\", \"said\", \"satisfied\", \"satisfied_customer\", \"save\", \"save_money\", \"saved\", \"saver\", \"saving\", \"say\", \"seam\", \"season\", \"second\", \"seed\", \"seem\", \"seemed\", \"seems\", \"sell\", \"seller\", \"send\", \"sent\", \"sent_back\", \"serf\", \"serf_purpose\", \"service\", \"setup\", \"several\", \"several_year\", \"shape\", \"sharp\", \"shear\", \"shipped\", \"shipping\", \"shop\", \"short\", \"short_lived\", \"show\", \"shown\", \"simple\", \"simple_effective\", \"simply\", \"since\", \"single\", \"size\", \"sized\", \"slow\", \"small\", \"smaller\", \"smell\", \"smelled\", \"snap\", \"soft\", \"solar\", \"sold\", \"solid\", \"solution\", \"something\", \"something_else\", \"soon\", \"sorry\", \"sort\", \"sound\", \"space\", \"spend\", \"spent\", \"split\", \"split_wood\", \"spool\", \"spreader\", \"squirrel\", \"stake\", \"stand\", \"standard\", \"start\", \"started\", \"starting\", \"stay\", \"stay_away\", \"stick\", \"still\", \"still_going\", \"still_working\", \"stink\", \"stop\", \"storage\", \"store\", \"string\", \"strong\", \"stronger\", \"stuff\", \"sturdy\", \"style\", \"success\", \"suck\", \"summer\", \"super\", \"superb\", \"superior\", \"supply\", \"supposed\", \"sure\", \"surprised\", \"sweet\", \"switch\", \"system\", \"take\", \"tank\", \"tape\", \"tear\", \"tech\", \"tell\", \"terrible\", \"terrific\", \"test\", \"thank\", \"thanks\", \"that\", \"them\", \"there\", \"these\", \"they\", \"thick\", \"thicker\", \"thin\", \"thing\", \"think\", \"think_twice\", \"thinner\", \"this\", \"though\", \"thought\", \"thought_would\", \"three\", \"through\", \"tight\", \"time\", \"time_saver\", \"timer\", \"tiny\", \"title\", \"today\", \"together\", \"took\", \"tool\", \"tore\", \"total\", \"total_waste\", \"totally\", \"tough\", \"trap\", \"trash\", \"travel\", \"tree\", \"trimmer\", \"true\", \"truly\", \"trying\", \"tube\", \"turned\", \"twice\", \"type\", \"ugly\", \"uneven\", \"unfortunately\", \"unit\", \"update\", \"updated\", \"us\", \"used\", \"useful\", \"useless\", \"user\", \"user_friendly\", \"using\", \"value\", \"variety\", \"vegetable\", \"versatile\", \"version\", \"wait\", \"want\", \"wanted\", \"warning\", \"washer\", \"waste\", \"waste_money\", \"waste_time\", \"wasted\", \"wasted_money\", \"watch\", \"watching\", \"water\", \"weak\", \"weather\", \"wedding\", \"weed_eater\", \"week\", \"weight\", \"well\", \"well_built\", \"what\", \"whole\", \"wife\", \"window\", \"winner\", \"winter\", \"wish\", \"wish_could\", \"within\", \"within_month\", \"without\", \"wonderful\", \"wood\", \"wore\", \"work\", \"worked\", \"working\", \"worse\", \"worst\", \"worth\", \"worth\", \"worth_every\", \"worth_extra\", \"worth_money\", \"worthless\", \"would\", \"would_recommend\", \"wrong\", \"yard\", \"year\", \"yellow\", \"zero\"]}, \"R\": 30, \"lambda.step\": 0.01, \"plot.opts\": {\"xlab\": \"PC1\", \"ylab\": \"PC2\"}, \"topic.order\": [1, 2, 3, 4, 5, 6, 7, 8, 9, 10, 11, 12, 13, 14, 15, 16, 17, 18, 19, 20, 21, 22, 23, 24, 25, 26, 27, 28, 29, 30]};\n",
              "\n",
              "function LDAvis_load_lib(url, callback){\n",
              "  var s = document.createElement('script');\n",
              "  s.src = url;\n",
              "  s.async = true;\n",
              "  s.onreadystatechange = s.onload = callback;\n",
              "  s.onerror = function(){console.warn(\"failed to load library \" + url);};\n",
              "  document.getElementsByTagName(\"head\")[0].appendChild(s);\n",
              "}\n",
              "\n",
              "if(typeof(LDAvis) !== \"undefined\"){\n",
              "   // already loaded: just create the visualization\n",
              "   !function(LDAvis){\n",
              "       new LDAvis(\"#\" + \"ldavis_el1501396898303592328496703714\", ldavis_el1501396898303592328496703714_data);\n",
              "   }(LDAvis);\n",
              "}else if(typeof define === \"function\" && define.amd){\n",
              "   // require.js is available: use it to load d3/LDAvis\n",
              "   require.config({paths: {d3: \"https://cdnjs.cloudflare.com/ajax/libs/d3/3.5.5/d3.min\"}});\n",
              "   require([\"d3\"], function(d3){\n",
              "      window.d3 = d3;\n",
              "      LDAvis_load_lib(\"https://cdn.rawgit.com/bmabey/pyLDAvis/files/ldavis.v1.0.0.js\", function(){\n",
              "        new LDAvis(\"#\" + \"ldavis_el1501396898303592328496703714\", ldavis_el1501396898303592328496703714_data);\n",
              "      });\n",
              "    });\n",
              "}else{\n",
              "    // require.js not available: dynamically load d3 & LDAvis\n",
              "    LDAvis_load_lib(\"https://cdnjs.cloudflare.com/ajax/libs/d3/3.5.5/d3.min.js\", function(){\n",
              "         LDAvis_load_lib(\"https://cdn.rawgit.com/bmabey/pyLDAvis/files/ldavis.v1.0.0.js\", function(){\n",
              "                 new LDAvis(\"#\" + \"ldavis_el1501396898303592328496703714\", ldavis_el1501396898303592328496703714_data);\n",
              "            })\n",
              "         });\n",
              "}\n",
              "</script>"
            ],
            "text/plain": [
              "<IPython.core.display.HTML object>"
            ]
          },
          "metadata": {
            "tags": []
          },
          "execution_count": 21
        }
      ]
    }
  ]
}