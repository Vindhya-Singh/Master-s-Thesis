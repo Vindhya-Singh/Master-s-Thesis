{
  "nbformat": 4,
  "nbformat_minor": 0,
  "metadata": {
    "colab": {
      "name": "DataLoader.ipynb",
      "provenance": [],
      "toc_visible": true
    },
    "kernelspec": {
      "name": "python3",
      "display_name": "Python 3"
    }
  },
  "cells": [
    {
      "cell_type": "code",
      "metadata": {
        "id": "39w3hAklvY7z",
        "colab_type": "code",
        "colab": {}
      },
      "source": [
        "from google.colab import drive\n",
        "drive.mount('/content/drive')"
      ],
      "execution_count": 0,
      "outputs": []
    },
    {
      "cell_type": "code",
      "metadata": {
        "id": "tGaDydgSwAsM",
        "colab_type": "code",
        "colab": {}
      },
      "source": [
        "!pip install gensim\n",
        "!pip install warnings\n",
        "!pip install pyLDAvis"
      ],
      "execution_count": 0,
      "outputs": []
    },
    {
      "cell_type": "code",
      "metadata": {
        "id": "xC2GbSyXvmZv",
        "colab_type": "code",
        "colab": {}
      },
      "source": [
        "import pandas as pd\n",
        "import logging\n",
        "import pyLDAvis.gensim\n",
        "import json\n",
        "import warnings\n",
        "warnings.filterwarnings('ignore')  # To ignore all warnings that arise here to enhance clarity\n",
        "\n",
        "from gensim.models.coherencemodel import CoherenceModel\n",
        "from gensim.models.ldamodel import LdaModel\n",
        "from gensim.corpora.dictionary import Dictionary\n",
        "from numpy import array\n",
        "import nltk\n",
        "nltk.download('wordnet')"
      ],
      "execution_count": 0,
      "outputs": []
    },
    {
      "cell_type": "markdown",
      "metadata": {
        "id": "re6cEuM-w1hO",
        "colab_type": "text"
      },
      "source": [
        "##Loading the raw data"
      ]
    },
    {
      "cell_type": "code",
      "metadata": {
        "id": "rFkiWwzqvbp4",
        "colab_type": "code",
        "outputId": "4e921464-b743-4c20-ed61-9d2cbd3c44c7",
        "colab": {
          "base_uri": "https://localhost:8080/",
          "height": 34
        }
      },
      "source": [
        "df_garden = pd.read_csv('/content/drive/My Drive/Amazon_data/reviews_Patio_Lawn_And_Garden.csv', error_bad_lines= False , nrows= 100000)\n",
        "df_garden.shape"
      ],
      "execution_count": 4,
      "outputs": [
        {
          "output_type": "execute_result",
          "data": {
            "text/plain": [
              "(100000, 9)"
            ]
          },
          "metadata": {
            "tags": []
          },
          "execution_count": 4
        }
      ]
    },
    {
      "cell_type": "code",
      "metadata": {
        "id": "9Isc59KNvpPv",
        "colab_type": "code",
        "outputId": "1c2c4924-4fa8-406a-e670-40e648bc3b52",
        "colab": {
          "base_uri": "https://localhost:8080/",
          "height": 272
        }
      },
      "source": [
        "df_garden.head()"
      ],
      "execution_count": 5,
      "outputs": [
        {
          "output_type": "execute_result",
          "data": {
            "text/html": [
              "<div>\n",
              "<style scoped>\n",
              "    .dataframe tbody tr th:only-of-type {\n",
              "        vertical-align: middle;\n",
              "    }\n",
              "\n",
              "    .dataframe tbody tr th {\n",
              "        vertical-align: top;\n",
              "    }\n",
              "\n",
              "    .dataframe thead th {\n",
              "        text-align: right;\n",
              "    }\n",
              "</style>\n",
              "<table border=\"1\" class=\"dataframe\">\n",
              "  <thead>\n",
              "    <tr style=\"text-align: right;\">\n",
              "      <th></th>\n",
              "      <th>reviewerID</th>\n",
              "      <th>asin</th>\n",
              "      <th>reviewerName</th>\n",
              "      <th>helpful</th>\n",
              "      <th>reviewText</th>\n",
              "      <th>overall</th>\n",
              "      <th>summary</th>\n",
              "      <th>unixReviewTime</th>\n",
              "      <th>reviewTime</th>\n",
              "    </tr>\n",
              "  </thead>\n",
              "  <tbody>\n",
              "    <tr>\n",
              "      <th>0</th>\n",
              "      <td>A2VNYWOPJ13AFP</td>\n",
              "      <td>0981850006</td>\n",
              "      <td>Amazon Customer \"carringt0n\"</td>\n",
              "      <td>[6, 7]</td>\n",
              "      <td>This was a gift for my other husband.  He's ma...</td>\n",
              "      <td>5.0</td>\n",
              "      <td>Delish</td>\n",
              "      <td>1259798400</td>\n",
              "      <td>12 3, 2009</td>\n",
              "    </tr>\n",
              "    <tr>\n",
              "      <th>1</th>\n",
              "      <td>A20DWVV8HML3AW</td>\n",
              "      <td>0981850006</td>\n",
              "      <td>Cyndy</td>\n",
              "      <td>[0, 0]</td>\n",
              "      <td>My husband rarely asks for anything specific, ...</td>\n",
              "      <td>5.0</td>\n",
              "      <td>Just what my husband wanted</td>\n",
              "      <td>1371081600</td>\n",
              "      <td>06 13, 2013</td>\n",
              "    </tr>\n",
              "    <tr>\n",
              "      <th>2</th>\n",
              "      <td>A3RVP3YBYYOPRH</td>\n",
              "      <td>0981850006</td>\n",
              "      <td>John Warren</td>\n",
              "      <td>[9, 11]</td>\n",
              "      <td>This guy knows his stuff. I love the seriously...</td>\n",
              "      <td>5.0</td>\n",
              "      <td>Love This Show!</td>\n",
              "      <td>1257984000</td>\n",
              "      <td>11 12, 2009</td>\n",
              "    </tr>\n",
              "    <tr>\n",
              "      <th>3</th>\n",
              "      <td>A28XY55TP3Q90O</td>\n",
              "      <td>0981850006</td>\n",
              "      <td>JSG \"Lover of Learning\"</td>\n",
              "      <td>[1, 1]</td>\n",
              "      <td>THIS CAN BE FOUND AT: [...] FOR $19.99, also a...</td>\n",
              "      <td>5.0</td>\n",
              "      <td>BUY ELSEWHERE, TOO EXPENSIVE</td>\n",
              "      <td>1314144000</td>\n",
              "      <td>08 24, 2011</td>\n",
              "    </tr>\n",
              "    <tr>\n",
              "      <th>4</th>\n",
              "      <td>A3VZW1BGUQO0V3</td>\n",
              "      <td>0981850006</td>\n",
              "      <td>Marc G. Belisle \"Allswell2001\"</td>\n",
              "      <td>[2, 2]</td>\n",
              "      <td>Quite good particularly for inspiration (DVD g...</td>\n",
              "      <td>5.0</td>\n",
              "      <td>Quite good but I *much* prefer the cookbooks</td>\n",
              "      <td>1308268800</td>\n",
              "      <td>06 17, 2011</td>\n",
              "    </tr>\n",
              "  </tbody>\n",
              "</table>\n",
              "</div>"
            ],
            "text/plain": [
              "       reviewerID        asin  ... unixReviewTime   reviewTime\n",
              "0  A2VNYWOPJ13AFP  0981850006  ...     1259798400   12 3, 2009\n",
              "1  A20DWVV8HML3AW  0981850006  ...     1371081600  06 13, 2013\n",
              "2  A3RVP3YBYYOPRH  0981850006  ...     1257984000  11 12, 2009\n",
              "3  A28XY55TP3Q90O  0981850006  ...     1314144000  08 24, 2011\n",
              "4  A3VZW1BGUQO0V3  0981850006  ...     1308268800  06 17, 2011\n",
              "\n",
              "[5 rows x 9 columns]"
            ]
          },
          "metadata": {
            "tags": []
          },
          "execution_count": 5
        }
      ]
    },
    {
      "cell_type": "markdown",
      "metadata": {
        "id": "S3As8yeiw4QZ",
        "colab_type": "text"
      },
      "source": [
        "##Pre-processing the reviewText "
      ]
    },
    {
      "cell_type": "code",
      "metadata": {
        "id": "6Mj5mcBovzo4",
        "colab_type": "code",
        "outputId": "ac2e045d-82ef-460f-8190-63f05f2f3202",
        "colab": {
          "base_uri": "https://localhost:8080/",
          "height": 122
        }
      },
      "source": [
        "# Convert to array\n",
        "docs =array(df_garden['reviewText'].astype(str))\n",
        "print(type(docs))\n",
        "print(len(docs))\n",
        "# Define function for tokenize and lemmatizing\n",
        "from nltk.stem.wordnet import WordNetLemmatizer\n",
        "from nltk.tokenize import RegexpTokenizer\n",
        "\n",
        "def docs_preprocessor(docs):\n",
        "    tokenizer = RegexpTokenizer(r'\\w+')\n",
        "    for idx in range(len(docs)):\n",
        "        docs[idx] = docs[idx].lower()  # Convert to lowercase.\n",
        "        docs[idx] = tokenizer.tokenize(docs[idx])  # Split into words.\n",
        "\n",
        "    # Remove numbers, but not words that contain numbers.\n",
        "    docs = [[token for token in doc if not token.isdigit()] for doc in docs]\n",
        "    \n",
        "    # Remove words that are only one character.\n",
        "    docs = [[token for token in doc if len(token) > 3] for doc in docs]\n",
        "    \n",
        "    # Lemmatize all words in documents.\n",
        "    lemmatizer = WordNetLemmatizer()\n",
        "    docs = [[lemmatizer.lemmatize(token) for token in doc] for doc in docs]\n",
        "  \n",
        "    return docs\n",
        "# Perform function on our document\n",
        "docs = docs_preprocessor(docs)\n",
        "#Create Biagram & Trigram Models \n",
        "from gensim.models import Phrases\n",
        "# Add bigrams and trigrams to docs,minimum count 10 means only that appear 10 times or more.\n",
        "bigram = Phrases(docs, min_count=10)\n",
        "trigram = Phrases(bigram[docs])\n",
        "\n",
        "for idx in range(len(docs)):\n",
        "    for token in bigram[docs[idx]]:\n",
        "        if '_' in token:\n",
        "            # Token is a bigram, add to document.\n",
        "            docs[idx].append(token)\n",
        "    for token in trigram[docs[idx]]:\n",
        "        if '_' in token:\n",
        "            # Token is a bigram, add to document.\n",
        "            docs[idx].append(token)\n",
        "#Remove rare & common tokens \n",
        "# Create a dictionary representation of the documents.\n",
        "dictionary = Dictionary(docs)\n",
        "dictionary.filter_extremes(no_below=10, no_above=0.2)\n",
        "#Create dictionary and corpus required for Topic Modeling\n",
        "corpus = [dictionary.doc2bow(doc) for doc in docs]\n",
        "print('Number of unique tokens: %d' % len(dictionary))\n",
        "print('Number of documents: %d' % len(corpus))\n",
        "print(corpus[:1])"
      ],
      "execution_count": 6,
      "outputs": [
        {
          "output_type": "stream",
          "text": [
            "<class 'numpy.ndarray'>\n",
            "100000\n",
            "Number of unique tokens: 17697\n",
            "Number of documents: 100000\n",
            "[[(0, 1), (1, 1), (2, 1), (3, 1), (4, 1), (5, 1), (6, 1), (7, 1), (8, 1), (9, 1), (10, 2), (11, 2), (12, 1), (13, 1), (14, 1), (15, 1), (16, 1), (17, 1), (18, 3), (19, 1), (20, 1), (21, 1), (22, 1), (23, 1), (24, 1), (25, 1), (26, 1), (27, 1), (28, 1), (29, 1), (30, 1), (31, 1), (32, 1), (33, 1)]]\n"
          ],
          "name": "stdout"
        }
      ]
    },
    {
      "cell_type": "code",
      "metadata": {
        "id": "ovOvx5wZxEpS",
        "colab_type": "code",
        "outputId": "738ee1d6-4583-4691-cfc6-f65662ff0531",
        "colab": {
          "base_uri": "https://localhost:8080/",
          "height": 34
        }
      },
      "source": [
        "type(corpus)"
      ],
      "execution_count": 0,
      "outputs": [
        {
          "output_type": "execute_result",
          "data": {
            "text/plain": [
              "list"
            ]
          },
          "metadata": {
            "tags": []
          },
          "execution_count": 16
        }
      ]
    },
    {
      "cell_type": "markdown",
      "metadata": {
        "id": "_KNk2o6p0yZE",
        "colab_type": "text"
      },
      "source": [
        "##LDA on the ReviewText Column of the Amazon Data"
      ]
    },
    {
      "cell_type": "code",
      "metadata": {
        "id": "dWRVqXiO0SnX",
        "colab_type": "code",
        "colab": {
          "base_uri": "https://localhost:8080/",
          "height": 54
        },
        "outputId": "fe634e6d-3b15-47a9-9920-094bfb524dcf"
      },
      "source": [
        "# Set parameters.\n",
        "num_topics = 5\n",
        "chunksize = 500 \n",
        "passes = 20 \n",
        "iterations = 400\n",
        "eval_every = 1  \n",
        "\n",
        "# Make a index to word dictionary.\n",
        "temp = dictionary[0]  # only to \"load\" the dictionary.\n",
        "id2word = dictionary.id2token\n",
        "\n",
        "lda_model = LdaModel(corpus=corpus, id2word=id2word, chunksize=chunksize, \\\n",
        "                       alpha='auto', eta='auto', \\\n",
        "                       iterations=iterations, num_topics=num_topics, \\\n",
        "                       passes=passes, eval_every=eval_every)\n",
        "# Print the Keyword in the 5 topics\n",
        "print(lda_model.print_topics())"
      ],
      "execution_count": 7,
      "outputs": [
        {
          "output_type": "stream",
          "text": [
            "[(0, '0.054*\"product\" + 0.016*\"would_recommend\" + 0.014*\"feeder\" + 0.013*\"recommend\" + 0.012*\"item\" + 0.012*\"amazon\" + 0.012*\"well_made\" + 0.010*\"better_than\" + 0.010*\"from\" + 0.009*\"been_using\"'), (1, '0.018*\"trap\" + 0.014*\"them\" + 0.014*\"mouse\" + 0.012*\"plant\" + 0.009*\"grill\" + 0.009*\"these\" + 0.007*\"house\" + 0.007*\"keep\" + 0.007*\"love\" + 0.007*\"table\"'), (2, '0.015*\"time\" + 0.015*\"year\" + 0.013*\"after\" + 0.012*\"more\" + 0.012*\"will\" + 0.011*\"about\" + 0.010*\"only\" + 0.010*\"bought\" + 0.009*\"water\" + 0.009*\"from\"'), (3, '0.018*\"yard\" + 0.013*\"grass\" + 0.012*\"battery\" + 0.011*\"look_like\" + 0.010*\"light_weight\" + 0.009*\"fence\" + 0.009*\"leaf\" + 0.008*\"power\" + 0.008*\"burner\" + 0.007*\"about_minute\"'), (4, '0.016*\"good\" + 0.016*\"easy\" + 0.011*\"like\" + 0.008*\"handle\" + 0.008*\"need\" + 0.008*\"little\" + 0.008*\"make\" + 0.008*\"your\" + 0.007*\"tool\" + 0.007*\"what\"')]\n"
          ],
          "name": "stdout"
        }
      ]
    },
    {
      "cell_type": "markdown",
      "metadata": {
        "id": "jKkHQk1G05sN",
        "colab_type": "text"
      },
      "source": [
        "##Evaluating the LDA Model"
      ]
    },
    {
      "cell_type": "code",
      "metadata": {
        "id": "Tp7qWIYv0ppq",
        "colab_type": "code",
        "colab": {
          "base_uri": "https://localhost:8080/",
          "height": 51
        },
        "outputId": "939d6b3a-cef2-471c-989a-bab534d79736"
      },
      "source": [
        "# Compute Coherence Score using c_v\n",
        "coherence_model_lda = CoherenceModel(model=lda_model, texts=docs, dictionary=dictionary, coherence='c_v')\n",
        "coherence_lda = coherence_model_lda.get_coherence()\n",
        "print('\\nCoherence Score: ', coherence_lda)"
      ],
      "execution_count": 8,
      "outputs": [
        {
          "output_type": "stream",
          "text": [
            "\n",
            "Coherence Score:  0.3268774180076323\n"
          ],
          "name": "stdout"
        }
      ]
    },
    {
      "cell_type": "code",
      "metadata": {
        "id": "jgTRMI9NeCa6",
        "colab_type": "code",
        "colab": {}
      },
      "source": [
        "def compute_coherence_values(dictionary, corpus, texts, limit, start=2, step=3):\n",
        "    \"\"\"\n",
        "    Compute c_v coherence for various number of topics\n",
        "\n",
        "    Parameters:\n",
        "    ----------\n",
        "    dictionary : Gensim dictionary\n",
        "    corpus : Gensim corpus\n",
        "    texts : List of input texts\n",
        "    limit : Max num of topics\n",
        "\n",
        "    Returns:\n",
        "    -------\n",
        "    model_list : List of LDA topic models\n",
        "    coherence_values : Coherence values corresponding to the LDA model with respective number of topics\n",
        "    \"\"\"\n",
        "    coherence_values = []\n",
        "    model_list = []\n",
        "    for num_topics in range(start, limit, step):\n",
        "        model=LdaModel(corpus=corpus, id2word=dictionary, num_topics=num_topics)\n",
        "        model_list.append(model)\n",
        "        coherencemodel = CoherenceModel(model=model, texts=texts, dictionary=dictionary, coherence='c_v')\n",
        "        coherence_values.append(coherencemodel.get_coherence())\n",
        "\n",
        "    return model_list, coherence_values"
      ],
      "execution_count": 0,
      "outputs": []
    },
    {
      "cell_type": "code",
      "metadata": {
        "id": "OlBflMTGeHHq",
        "colab_type": "code",
        "colab": {
          "base_uri": "https://localhost:8080/",
          "height": 296
        },
        "outputId": "4bdddb83-f9c5-4c9d-9290-d9d0219ce85d"
      },
      "source": [
        "#Model list and plot Coherence score against a number of topics\n",
        "model_list, coherence_values = compute_coherence_values(dictionary=dictionary, corpus=corpus, texts=docs, start=2, limit=40, step=6)\n",
        "# Show graph\n",
        "import matplotlib.pyplot as plt\n",
        "limit=40; start=2; step=6;\n",
        "x = range(start, limit, step)\n",
        "plt.plot(x, coherence_values)\n",
        "plt.xlabel(\"Num Topics\")\n",
        "plt.ylabel(\"Coherence score\")\n",
        "plt.legend((\"coherence_values\"), loc='best')\n",
        "plt.show()\n",
        "plt.savefig('Coherence score against a number of topics- Review_Text', dpi = 500)"
      ],
      "execution_count": 10,
      "outputs": [
        {
          "output_type": "display_data",
          "data": {
            "image/png": "[encoded data removed]",
            "text/plain": [
              "<Figure size 432x288 with 1 Axes>"
            ]
          },
          "metadata": {
            "tags": []
          }
        },
        {
          "output_type": "display_data",
          "data": {
            "text/plain": [
              "<Figure size 432x288 with 0 Axes>"
            ]
          },
          "metadata": {
            "tags": []
          }
        }
      ]
    },
    {
      "cell_type": "markdown",
      "metadata": {
        "id": "g34qQG_AdGoL",
        "colab_type": "text"
      },
      "source": [
        "##Pre-processing the Summary column of the AMazon Dataset"
      ]
    },
    {
      "cell_type": "code",
      "metadata": {
        "id": "Nza3nLeA0tvu",
        "colab_type": "code",
        "colab": {
          "base_uri": "https://localhost:8080/",
          "height": 102
        },
        "outputId": "2c9dea7b-f318-449f-a88e-72987cd9fcf8"
      },
      "source": [
        "# Convert to array\n",
        "docs =array(df_garden['summary'].astype(str))\n",
        "print(type(docs))\n",
        "print(len(docs))\n",
        "# Define function for tokenize and lemmatizing\n",
        "from nltk.stem.wordnet import WordNetLemmatizer\n",
        "from nltk.tokenize import RegexpTokenizer\n",
        "\n",
        "def docs_preprocessor(docs):\n",
        "    tokenizer = RegexpTokenizer(r'\\w+')\n",
        "    for idx in range(len(docs)):\n",
        "        docs[idx] = docs[idx].lower()  # Convert to lowercase.\n",
        "        docs[idx] = tokenizer.tokenize(docs[idx])  # Split into words.\n",
        "\n",
        "    # Remove numbers, but not words that contain numbers.\n",
        "    docs = [[token for token in doc if not token.isdigit()] for doc in docs]\n",
        "    \n",
        "    # Remove words that are only one character.\n",
        "    docs = [[token for token in doc if len(token) > 3] for doc in docs]\n",
        "    \n",
        "    # Lemmatize all words in documents.\n",
        "    lemmatizer = WordNetLemmatizer()\n",
        "    docs = [[lemmatizer.lemmatize(token) for token in doc] for doc in docs]\n",
        "  \n",
        "    return docs\n",
        "# Perform function on our document\n",
        "docs = docs_preprocessor(docs)\n",
        "#Create Biagram & Trigram Models \n",
        "from gensim.models import Phrases\n",
        "# Add bigrams and trigrams to docs,minimum count 10 means only that appear 10 times or more.\n",
        "bigram = Phrases(docs, min_count=10)\n",
        "trigram = Phrases(bigram[docs])\n",
        "\n",
        "for idx in range(len(docs)):\n",
        "    for token in bigram[docs[idx]]:\n",
        "        if '_' in token:\n",
        "            # Token is a bigram, add to document.\n",
        "            docs[idx].append(token)\n",
        "    for token in trigram[docs[idx]]:\n",
        "        if '_' in token:\n",
        "            # Token is a bigram, add to document.\n",
        "            docs[idx].append(token)\n",
        "#Remove rare & common tokens \n",
        "# Create a dictionary representation of the documents.\n",
        "dictionary = Dictionary(docs)\n",
        "dictionary.filter_extremes(no_below=10, no_above=0.2)\n",
        "#Create dictionary and corpus required for Topic Modeling\n",
        "corpus = [dictionary.doc2bow(doc) for doc in docs]\n",
        "print('Number of unique tokens: %d' % len(dictionary))\n",
        "print('Number of documents: %d' % len(corpus))\n",
        "print(corpus[:1])"
      ],
      "execution_count": 25,
      "outputs": [
        {
          "output_type": "stream",
          "text": [
            "<class 'numpy.ndarray'>\n",
            "100000\n",
            "Number of unique tokens: 3085\n",
            "Number of documents: 100000\n",
            "[[]]\n"
          ],
          "name": "stdout"
        }
      ]
    },
    {
      "cell_type": "markdown",
      "metadata": {
        "id": "piPC5MU5dSPA",
        "colab_type": "text"
      },
      "source": [
        "##LDA on the Summary column of the Amazon Dataset"
      ]
    },
    {
      "cell_type": "code",
      "metadata": {
        "id": "VCGtT6XPdWBg",
        "colab_type": "code",
        "colab": {
          "base_uri": "https://localhost:8080/",
          "height": 54
        },
        "outputId": "85dc35cf-3829-4ae0-856a-cfc5ef5622b0"
      },
      "source": [
        "# Set parameters.\n",
        "num_topics = 5\n",
        "chunksize = 500 \n",
        "passes = 20 \n",
        "iterations = 400\n",
        "eval_every = 1  \n",
        "\n",
        "# Make a index to word dictionary.\n",
        "temp = dictionary[0]  # only to \"load\" the dictionary.\n",
        "id2word = dictionary.id2token\n",
        "\n",
        "lda_model = LdaModel(corpus=corpus, id2word=id2word, chunksize=chunksize, \\\n",
        "                       alpha='auto', eta='auto', \\\n",
        "                       iterations=iterations, num_topics=num_topics, \\\n",
        "                       passes=passes, eval_every=eval_every)\n",
        "# Print the Keyword in the 5 topics\n",
        "print(lda_model.print_topics())"
      ],
      "execution_count": 26,
      "outputs": [
        {
          "output_type": "stream",
          "text": [
            "[(0, '0.122*\"this\" + 0.057*\"perfect\" + 0.042*\"doe\" + 0.037*\"tool\" + 0.036*\"have\" + 0.036*\"grill\" + 0.033*\"your\" + 0.031*\"stuff\" + 0.031*\"plant\" + 0.029*\"really\"'), (1, '0.278*\"great\" + 0.117*\"product\" + 0.053*\"love\" + 0.036*\"quality\" + 0.032*\"easy\" + 0.029*\"price\" + 0.028*\"better_than\" + 0.026*\"better\" + 0.024*\"money\" + 0.024*\"little\"'), (2, '0.093*\"five_star\" + 0.050*\"star\" + 0.047*\"made\" + 0.045*\"well_made\" + 0.040*\"small\" + 0.036*\"these\" + 0.036*\"more\" + 0.034*\"five\" + 0.032*\"that\" + 0.028*\"doesn\"'), (3, '0.222*\"work\" + 0.079*\"very\" + 0.055*\"nice\" + 0.054*\"well\" + 0.049*\"with\" + 0.038*\"like\" + 0.029*\"awesome\" + 0.027*\"worked\" + 0.021*\"cover\" + 0.020*\"need\"'), (4, '0.169*\"good\" + 0.070*\"best\" + 0.048*\"excellent\" + 0.047*\"what\" + 0.038*\"just\" + 0.035*\"just_what\" + 0.028*\"ever\" + 0.022*\"time\" + 0.018*\"effective\" + 0.017*\"used\"')]\n"
          ],
          "name": "stdout"
        }
      ]
    },
    {
      "cell_type": "markdown",
      "metadata": {
        "id": "AoJ8pJuXdgjX",
        "colab_type": "text"
      },
      "source": [
        "##Evaluating the LDA Model"
      ]
    },
    {
      "cell_type": "code",
      "metadata": {
        "id": "LJ1zm5Rwdim0",
        "colab_type": "code",
        "colab": {
          "base_uri": "https://localhost:8080/",
          "height": 51
        },
        "outputId": "c3b21c49-9d1c-41bc-f01c-fa51cfc481d4"
      },
      "source": [
        "# Compute Coherence Score using c_v\n",
        "coherence_model_lda = CoherenceModel(model=lda_model, texts=docs, dictionary=dictionary, coherence='c_v')\n",
        "coherence_lda = coherence_model_lda.get_coherence()\n",
        "print('\\nCoherence Score: ', coherence_lda)"
      ],
      "execution_count": 27,
      "outputs": [
        {
          "output_type": "stream",
          "text": [
            "\n",
            "Coherence Score:  0.38654120411864723\n"
          ],
          "name": "stdout"
        }
      ]
    },
    {
      "cell_type": "code",
      "metadata": {
        "id": "n-vW0ZYAdk24",
        "colab_type": "code",
        "colab": {}
      },
      "source": [
        "def compute_coherence_values(dictionary, corpus, texts, limit, start=2, step=3):\n",
        "    \"\"\"\n",
        "    Compute c_v coherence for various number of topics\n",
        "\n",
        "    Parameters:\n",
        "    ----------\n",
        "    dictionary : Gensim dictionary\n",
        "    corpus : Gensim corpus\n",
        "    texts : List of input texts\n",
        "    limit : Max num of topics\n",
        "\n",
        "    Returns:\n",
        "    -------\n",
        "    model_list : List of LDA topic models\n",
        "    coherence_values : Coherence values corresponding to the LDA model with respective number of topics\n",
        "    \"\"\"\n",
        "    coherence_values = []\n",
        "    model_list = []\n",
        "    for num_topics in range(start, limit, step):\n",
        "        model=LdaModel(corpus=corpus, id2word=dictionary, num_topics=num_topics)\n",
        "        model_list.append(model)\n",
        "        coherencemodel = CoherenceModel(model=model, texts=texts, dictionary=dictionary, coherence='c_v')\n",
        "        coherence_values.append(coherencemodel.get_coherence())\n",
        "\n",
        "    return model_list, coherence_values"
      ],
      "execution_count": 0,
      "outputs": []
    },
    {
      "cell_type": "code",
      "metadata": {
        "id": "XKixw7zTdoSL",
        "colab_type": "code",
        "colab": {
          "base_uri": "https://localhost:8080/",
          "height": 296
        },
        "outputId": "88f771eb-3fc6-458c-852c-d13dfe868513"
      },
      "source": [
        "#Model list and plot Coherence score against a number of topics\n",
        "model_list, coherence_values = compute_coherence_values(dictionary=dictionary, corpus=corpus, texts=docs, start=2, limit=40, step=6)\n",
        "# Show graph\n",
        "import matplotlib.pyplot as plt\n",
        "limit=40; start=2; step=6;\n",
        "x = range(start, limit, step)\n",
        "plt.plot(x, coherence_values)\n",
        "plt.xlabel(\"Num Topics\")\n",
        "plt.ylabel(\"Coherence score\")\n",
        "plt.legend((\"coherence_values\"), loc='best')\n",
        "plt.show()\n",
        "plt.savefig('Coherence score against a number of topics - Summary', dpi = 500)"
      ],
      "execution_count": 29,
      "outputs": [
        {
          "output_type": "display_data",
          "data": {
            "image/png": "[encoded data removed]",
            "text/plain": [
              "<Figure size 432x288 with 1 Axes>"
            ]
          },
          "metadata": {
            "tags": []
          }
        },
        {
          "output_type": "display_data",
          "data": {
            "text/plain": [
              "<Figure size 432x288 with 0 Axes>"
            ]
          },
          "metadata": {
            "tags": []
          }
        }
      ]
    },
    {
      "cell_type": "markdown",
      "metadata": {
        "id": "Ll8OaF-Gegi-",
        "colab_type": "text"
      },
      "source": [
        "##Now Working on the Meta-Data of Amazon. This is to check if the LDA works better on the category data"
      ]
    },
    {
      "cell_type": "code",
      "metadata": {
        "id": "ZYQzrvGTe47B",
        "colab_type": "code",
        "colab": {}
      },
      "source": [
        "import pandas as pd\n",
        "import gzip\n",
        "\n",
        "def parse(path):\n",
        "  g = gzip.open(path, 'rb')\n",
        "  for l in g:\n",
        "    yield json.loads(l)\n",
        "\n",
        "def getDF(path):\n",
        "  i = 0\n",
        "  df = {}\n",
        "  for d in parse(path):\n",
        "    df[i] = d\n",
        "    i += 1\n",
        "  return pd.DataFrame.from_dict(df, orient='index')"
      ],
      "execution_count": 0,
      "outputs": []
    },
    {
      "cell_type": "code",
      "metadata": {
        "id": "ShSBLG4BfHis",
        "colab_type": "code",
        "colab": {}
      },
      "source": [
        "df_meta = getDF('/content/drive/My Drive/Amazon_data/meta_Patio_Lawn_and_Garden.json.gz')"
      ],
      "execution_count": 0,
      "outputs": []
    },
    {
      "cell_type": "code",
      "metadata": {
        "id": "R3eSIM6VnOVV",
        "colab_type": "code",
        "colab": {
          "base_uri": "https://localhost:8080/",
          "height": 85
        },
        "outputId": "cdbd83c1-3a7f-4c4f-c6ce-9fc6542ee885"
      },
      "source": [
        "df_meta.shape #should be (279697, 18)\n",
        "df_meta.head()\n",
        "df_meta.columns\n",
        "#type(df_meta.category)"
      ],
      "execution_count": 19,
      "outputs": [
        {
          "output_type": "execute_result",
          "data": {
            "text/plain": [
              "Index(['category', 'tech1', 'description', 'title', 'also_buy', 'brand',\n",
              "       'feature', 'rank', 'main_cat', 'date', 'price', 'asin', 'image',\n",
              "       'also_view', 'similar_item', 'details', 'fit', 'tech2'],\n",
              "      dtype='object')"
            ]
          },
          "metadata": {
            "tags": []
          },
          "execution_count": 19
        }
      ]
    },
    {
      "cell_type": "code",
      "metadata": {
        "id": "8xU5AONhjP_7",
        "colab_type": "code",
        "colab": {
          "base_uri": "https://localhost:8080/",
          "height": 34
        },
        "outputId": "1b2332e6-4a3d-4259-e9e0-fe5e4cc88e5d"
      },
      "source": [
        "df_meta.to_csv('Amazon_Meta_Data_LawnAndGarden.csv')\n",
        "!cp Amazon_Meta_Data_LawnAndGarden.csv /content/drive/My Drive/Amazon_data"
      ],
      "execution_count": 15,
      "outputs": [
        {
          "output_type": "stream",
          "text": [
            "cp: target 'Drive/Amazon_data' is not a directory\n"
          ],
          "name": "stdout"
        }
      ]
    },
    {
      "cell_type": "markdown",
      "metadata": {
        "id": "8n4Wxj2MgYjr",
        "colab_type": "text"
      },
      "source": [
        "##Pre-processing of the meta data"
      ]
    },
    {
      "cell_type": "code",
      "metadata": {
        "id": "OtNLAtHGfKYm",
        "colab_type": "code",
        "colab": {
          "base_uri": "https://localhost:8080/",
          "height": 102
        },
        "outputId": "fb530b78-aa44-4502-807c-3c3b17bcdffa"
      },
      "source": [
        "# Convert to array\n",
        "docs =array(df_meta['category'].astype(str))\n",
        "print(type(docs))\n",
        "print(len(docs))\n",
        "# Define function for tokenize and lemmatizing\n",
        "from nltk.stem.wordnet import WordNetLemmatizer\n",
        "from nltk.tokenize import RegexpTokenizer\n",
        "\n",
        "def docs_preprocessor(docs):\n",
        "    tokenizer = RegexpTokenizer(r'\\w+')\n",
        "    for idx in range(len(docs)):\n",
        "        docs[idx] = docs[idx].lower()  # Convert to lowercase.\n",
        "        docs[idx] = tokenizer.tokenize(docs[idx])  # Split into words.\n",
        "\n",
        "    # Remove numbers, but not words that contain numbers.\n",
        "    docs = [[token for token in doc if not token.isdigit()] for doc in docs]\n",
        "    \n",
        "    # Remove words that are only one character.\n",
        "    docs = [[token for token in doc if len(token) > 3] for doc in docs]\n",
        "    \n",
        "    # Lemmatize all words in documents.\n",
        "    lemmatizer = WordNetLemmatizer()\n",
        "    docs = [[lemmatizer.lemmatize(token) for token in doc] for doc in docs]\n",
        "  \n",
        "    return docs\n",
        "# Perform function on our document\n",
        "docs = docs_preprocessor(docs)\n",
        "#Create Biagram & Trigram Models \n",
        "from gensim.models import Phrases\n",
        "# Add bigrams and trigrams to docs,minimum count 10 means only that appear 10 times or more.\n",
        "bigram = Phrases(docs, min_count=10)\n",
        "trigram = Phrases(bigram[docs])\n",
        "\n",
        "for idx in range(len(docs)):\n",
        "    for token in bigram[docs[idx]]:\n",
        "        if '_' in token:\n",
        "            # Token is a bigram, add to document.\n",
        "            docs[idx].append(token)\n",
        "    for token in trigram[docs[idx]]:\n",
        "        if '_' in token:\n",
        "            # Token is a bigram, add to document.\n",
        "            docs[idx].append(token)\n",
        "#Remove rare & common tokens \n",
        "# Create a dictionary representation of the documents.\n",
        "dictionary = Dictionary(docs)\n",
        "dictionary.filter_extremes(no_below=10, no_above=0.2)\n",
        "#Create dictionary and corpus required for Topic Modeling\n",
        "corpus = [dictionary.doc2bow(doc) for doc in docs]\n",
        "print('Number of unique tokens: %d' % len(dictionary))\n",
        "print('Number of documents: %d' % len(corpus))\n",
        "print(corpus[:1])"
      ],
      "execution_count": 20,
      "outputs": [
        {
          "output_type": "stream",
          "text": [
            "<class 'numpy.ndarray'>\n",
            "279697\n",
            "Number of unique tokens: 878\n",
            "Number of documents: 279697\n",
            "[[(0, 1), (1, 2), (2, 1), (3, 1)]]\n"
          ],
          "name": "stdout"
        }
      ]
    },
    {
      "cell_type": "markdown",
      "metadata": {
        "id": "BQFPkZSMgc80",
        "colab_type": "text"
      },
      "source": [
        "##LDA Implementation"
      ]
    },
    {
      "cell_type": "code",
      "metadata": {
        "id": "iQNa_MD3gChq",
        "colab_type": "code",
        "colab": {
          "base_uri": "https://localhost:8080/",
          "height": 54
        },
        "outputId": "50e1ba93-7ac7-43cf-dee2-31663cb68c35"
      },
      "source": [
        "# Set parameters.\n",
        "num_topics = 5\n",
        "chunksize = 500 \n",
        "passes = 20 \n",
        "iterations = 400\n",
        "eval_every = 1  \n",
        "\n",
        "# Make a index to word dictionary.\n",
        "temp = dictionary[0]  # only to \"load\" the dictionary.\n",
        "id2word = dictionary.id2token\n",
        "\n",
        "lda_model = LdaModel(corpus=corpus, id2word=id2word, chunksize=chunksize, \\\n",
        "                       alpha='auto', eta='auto', \\\n",
        "                       iterations=iterations, num_topics=num_topics, \\\n",
        "                       passes=passes, eval_every=eval_every)\n",
        "# Print the Keyword in the 5 topics\n",
        "print(lda_model.print_topics())"
      ],
      "execution_count": 21,
      "outputs": [
        {
          "output_type": "stream",
          "text": [
            "[(0, '0.286*\"part\" + 0.169*\"replacement\" + 0.110*\"mower\" + 0.077*\"power\" + 0.038*\"ranch\" + 0.038*\"farm\" + 0.031*\"agricultural\" + 0.030*\"construction\" + 0.030*\"machinery\" + 0.027*\"umbrella\"'), (1, '0.194*\"flag\" + 0.118*\"doormat\" + 0.065*\"set\" + 0.046*\"indoor\" + 0.044*\"hand\" + 0.043*\"hydroponics\" + 0.032*\"pond\" + 0.028*\"sign\" + 0.028*\"yard\" + 0.027*\"water\"'), (2, '0.124*\"plant\" + 0.107*\"bulb\" + 0.106*\"seed\" + 0.084*\"furniture\" + 0.047*\"planter\" + 0.045*\"statue\" + 0.042*\"container\" + 0.042*\"pot\" + 0.037*\"flower\" + 0.034*\"sculpture\"'), (3, '0.101*\"equipment\" + 0.098*\"watering\" + 0.076*\"power\" + 0.063*\"hammock\" + 0.049*\"hose\" + 0.043*\"generator\" + 0.041*\"stand\" + 0.041*\"furniture\" + 0.038*\"portable\" + 0.035*\"tree\"'), (4, '0.166*\"cooking\" + 0.145*\"grill\" + 0.061*\"pool\" + 0.053*\"supply\" + 0.050*\"control\" + 0.050*\"pest\" + 0.044*\"tub\" + 0.031*\"cover\" + 0.030*\"barbecue\" + 0.029*\"repellent\"')]\n"
          ],
          "name": "stdout"
        }
      ]
    },
    {
      "cell_type": "markdown",
      "metadata": {
        "id": "yel8Mwtrgfor",
        "colab_type": "text"
      },
      "source": [
        "##LDA Evaluation"
      ]
    },
    {
      "cell_type": "code",
      "metadata": {
        "id": "3pd-aD8KgHBC",
        "colab_type": "code",
        "colab": {
          "base_uri": "https://localhost:8080/",
          "height": 51
        },
        "outputId": "b0505add-b806-441f-d700-a298999e92e1"
      },
      "source": [
        "# Compute Coherence Score using c_v\n",
        "coherence_model_lda = CoherenceModel(model=lda_model, texts=docs, dictionary=dictionary, coherence='c_v')\n",
        "coherence_lda = coherence_model_lda.get_coherence()\n",
        "print('\\nCoherence Score: ', coherence_lda)"
      ],
      "execution_count": 22,
      "outputs": [
        {
          "output_type": "stream",
          "text": [
            "\n",
            "Coherence Score:  0.5146668543203112\n"
          ],
          "name": "stdout"
        }
      ]
    },
    {
      "cell_type": "code",
      "metadata": {
        "id": "fC-fksUbgNYv",
        "colab_type": "code",
        "colab": {}
      },
      "source": [
        "def compute_coherence_values(dictionary, corpus, texts, limit, start=2, step=3):\n",
        "    \"\"\"\n",
        "    Compute c_v coherence for various number of topics\n",
        "\n",
        "    Parameters:\n",
        "    ----------\n",
        "    dictionary : Gensim dictionary\n",
        "    corpus : Gensim corpus\n",
        "    texts : List of input texts\n",
        "    limit : Max num of topics\n",
        "\n",
        "    Returns:\n",
        "    -------\n",
        "    model_list : List of LDA topic models\n",
        "    coherence_values : Coherence values corresponding to the LDA model with respective number of topics\n",
        "    \"\"\"\n",
        "    coherence_values = []\n",
        "    model_list = []\n",
        "    for num_topics in range(start, limit, step):\n",
        "        model=LdaModel(corpus=corpus, id2word=dictionary, num_topics=num_topics)\n",
        "        model_list.append(model)\n",
        "        coherencemodel = CoherenceModel(model=model, texts=texts, dictionary=dictionary, coherence='c_v')\n",
        "        coherence_values.append(coherencemodel.get_coherence())\n",
        "\n",
        "    return model_list, coherence_values"
      ],
      "execution_count": 0,
      "outputs": []
    },
    {
      "cell_type": "code",
      "metadata": {
        "id": "P0JRbaBfgTCj",
        "colab_type": "code",
        "colab": {
          "base_uri": "https://localhost:8080/",
          "height": 296
        },
        "outputId": "c9a00207-429e-4126-d52e-8cee6b94727a"
      },
      "source": [
        "#Model list and plot Coherence score against a number of topics\n",
        "model_list, coherence_values = compute_coherence_values(dictionary=dictionary, corpus=corpus, texts=docs, start=2, limit=40, step=6)\n",
        "# Show graph\n",
        "import matplotlib.pyplot as plt\n",
        "limit=40; start=2; step=6;\n",
        "x = range(start, limit, step)\n",
        "plt.plot(x, coherence_values)\n",
        "plt.xlabel(\"Num Topics\")\n",
        "plt.ylabel(\"Coherence score\")\n",
        "plt.legend((\"coherence_values\"), loc='best')\n",
        "plt.show()\n",
        "plt.savefig('Coherence score against a number of topics - MetaData', dpi = 500)"
      ],
      "execution_count": 24,
      "outputs": [
        {
          "output_type": "display_data",
          "data": {
            "image/png": "[encoded data removed]",
            "text/plain": [
              "<Figure size 432x288 with 1 Axes>"
            ]
          },
          "metadata": {
            "tags": []
          }
        },
        {
          "output_type": "display_data",
          "data": {
            "text/plain": [
              "<Figure size 432x288 with 0 Axes>"
            ]
          },
          "metadata": {
            "tags": []
          }
        }
      ]
    },
    {
      "cell_type": "markdown",
      "metadata": {
        "id": "uApR4m0qglWD",
        "colab_type": "text"
      },
      "source": [
        "##Comparing the Coherence Scores per LDA Implementation"
      ]
    },
    {
      "cell_type": "code",
      "metadata": {
        "id": "bLgSofi4glBf",
        "colab_type": "code",
        "colab": {}
      },
      "source": [
        ""
      ],
      "execution_count": 0,
      "outputs": []
    }
  ]
}