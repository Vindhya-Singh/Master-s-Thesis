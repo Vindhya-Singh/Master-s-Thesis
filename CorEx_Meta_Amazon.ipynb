{
  "nbformat": 4,
  "nbformat_minor": 0,
  "metadata": {
    "colab": {
      "name": "CorEx_Meta_Amazon.ipynb",
      "provenance": [],
      "collapsed_sections": [],
      "toc_visible": true,
      "include_colab_link": true
    },
    "kernelspec": {
      "name": "python3",
      "display_name": "Python 3"
    }
  },
  "cells": [
    {
      "cell_type": "markdown",
      "metadata": {
        "id": "view-in-github",
        "colab_type": "text"
      },
      "source": [
        "<a href=\"https://colab.research.google.com/github/VindhyaSRajan/Master-s-Thesis/blob/Amazon/CorEx_Meta_Amazon.ipynb\" target=\"_parent\"><img src=\"https://colab.research.google.com/assets/colab-badge.svg\" alt=\"Open In Colab\"/></a>"
      ]
    },
    {
      "cell_type": "markdown",
      "metadata": {
        "id": "kvBOJjCDKtpY",
        "colab_type": "text"
      },
      "source": [
        "##Mounting the drive"
      ]
    },
    {
      "cell_type": "code",
      "metadata": {
        "id": "AFEKAncOKmvx",
        "colab_type": "code",
        "colab": {}
      },
      "source": [
        "from google.colab import drive\n",
        "drive.mount('/gdrive')\n",
        "%cd /gdrive"
      ],
      "execution_count": 0,
      "outputs": []
    },
    {
      "cell_type": "markdown",
      "metadata": {
        "id": "ml8fcYBwKoJz",
        "colab_type": "text"
      },
      "source": [
        "##All Imports go here but first, installations"
      ]
    },
    {
      "cell_type": "code",
      "metadata": {
        "id": "BC-fLq19LQ3-",
        "colab_type": "code",
        "colab": {}
      },
      "source": [
        "!pip install corextopic\n",
        "!pip install joblib\n",
        "!pip install pyLDAvis"
      ],
      "execution_count": 0,
      "outputs": []
    },
    {
      "cell_type": "code",
      "metadata": {
        "id": "WstfHqthKFZM",
        "colab_type": "code",
        "outputId": "ea5bf0aa-bf8c-4144-ebb7-fdd974e0b3d8",
        "colab": {
          "base_uri": "https://localhost:8080/",
          "height": 105
        }
      },
      "source": [
        "import numpy as np\n",
        "import scipy.sparse as ss\n",
        "import matplotlib.pyplot as plt\n",
        "import pandas as pd\n",
        "\n",
        "import string\n",
        "\n",
        "from corextopic import corextopic as ct\n",
        "from corextopic import vis_topic as vt \n",
        "from sklearn.feature_extraction.text import CountVectorizer\n",
        "\n",
        "\n",
        "\n",
        "pd.set_option('display.max_colwidth', -1)  # to view entire text in any column\n",
        "import random\n",
        "import matplotlib.pyplot as plt\n",
        "%matplotlib inline\n",
        "import seaborn as sns\n",
        "import re\n",
        "import string\n",
        "import gzip\n",
        "from pprint import pprint\n",
        "\n",
        "from bs4 import BeautifulSoup\n",
        "import nltk\n",
        "from nltk import FreqDist\n",
        "nltk.download('stopwords') \n",
        "from nltk.corpus import stopwords\n",
        "# from nltk.stem.wordnet import WordNetLemmatizer  # alternative lemmatizer\n",
        "# lemma = WordNetLemmatizer()\n",
        "\n",
        "import spacy\n",
        "import gensim\n",
        "from gensim import corpora\n",
        "from gensim.models import CoherenceModel\n",
        "\n",
        "import pyLDAvis\n",
        "import pyLDAvis.gensim   # for visualizing found topics\n",
        "\n",
        "import os\n",
        "\n",
        "\n",
        "import warnings\n",
        "warnings.filterwarnings(\"ignore\",category=DeprecationWarning) \n",
        "%matplotlib inline"
      ],
      "execution_count": 0,
      "outputs": [
        {
          "output_type": "stream",
          "text": [
            "/usr/local/lib/python3.6/dist-packages/sklearn/externals/joblib/__init__.py:15: DeprecationWarning: sklearn.externals.joblib is deprecated in 0.21 and will be removed in 0.23. Please import this functionality directly from joblib, which can be installed with: pip install joblib. If this warning is raised when loading pickled models, you may need to re-serialize those models with scikit-learn 0.21+.\n",
            "  warnings.warn(msg, category=DeprecationWarning)\n"
          ],
          "name": "stderr"
        },
        {
          "output_type": "stream",
          "text": [
            "[nltk_data] Downloading package stopwords to /root/nltk_data...\n",
            "[nltk_data]   Unzipping corpora/stopwords.zip.\n"
          ],
          "name": "stdout"
        }
      ]
    },
    {
      "cell_type": "code",
      "metadata": {
        "id": "fKZo-bj74Yfk",
        "colab_type": "code",
        "colab": {}
      },
      "source": [
        "import pandas as pd\n",
        "import gzip\n",
        "#import turicreate as tc\n",
        "\n",
        "def parse(path):\n",
        "  g = gzip.open(path, 'rb')\n",
        "  for l in g:\n",
        "    yield eval(l)\n",
        "\n",
        "def getDF(path):\n",
        "  i = 0\n",
        "  df = {}\n",
        "  for d in parse(path):\n",
        "    df[i] = d\n",
        "    i += 1\n",
        "  return pd.DataFrame.from_dict(df, orient='index')\n"
      ],
      "execution_count": 0,
      "outputs": []
    },
    {
      "cell_type": "code",
      "metadata": {
        "id": "4Zo4YZAB4cci",
        "colab_type": "code",
        "outputId": "b468ad88-40c0-4aaa-b369-bfe7cb5a7c57",
        "colab": {
          "base_uri": "https://localhost:8080/",
          "height": 272
        }
      },
      "source": [
        "df = getDF('/gdrive/My Drive/Amazon_data/meta_Patio_Lawn_and_Garden.json.gz')\n",
        "df.head()\n",
        "print(df.columns)\n",
        "df = df[['category']]\n",
        "df.sample(5)"
      ],
      "execution_count": 0,
      "outputs": [
        {
          "output_type": "stream",
          "text": [
            "Index(['category', 'tech1', 'description', 'title', 'also_buy', 'brand',\n",
            "       'feature', 'rank', 'main_cat', 'date', 'price', 'asin', 'image',\n",
            "       'also_view', 'similar_item', 'details', 'fit', 'tech2'],\n",
            "      dtype='object')\n"
          ],
          "name": "stdout"
        },
        {
          "output_type": "execute_result",
          "data": {
            "text/html": [
              "<div>\n",
              "<style scoped>\n",
              "    .dataframe tbody tr th:only-of-type {\n",
              "        vertical-align: middle;\n",
              "    }\n",
              "\n",
              "    .dataframe tbody tr th {\n",
              "        vertical-align: top;\n",
              "    }\n",
              "\n",
              "    .dataframe thead th {\n",
              "        text-align: right;\n",
              "    }\n",
              "</style>\n",
              "<table border=\"1\" class=\"dataframe\">\n",
              "  <thead>\n",
              "    <tr style=\"text-align: right;\">\n",
              "      <th></th>\n",
              "      <th>category</th>\n",
              "    </tr>\n",
              "  </thead>\n",
              "  <tbody>\n",
              "    <tr>\n",
              "      <th>83417</th>\n",
              "      <td>[Patio, Lawn &amp; Garden, Gardening &amp; Lawn Care, Plants, Seeds &amp; Bulbs]</td>\n",
              "    </tr>\n",
              "    <tr>\n",
              "      <th>260920</th>\n",
              "      <td>[Patio, Lawn &amp; Garden, Outdoor Dcor, Backyard Birding &amp; Wildlife, Birds, Food, Mealworms]</td>\n",
              "    </tr>\n",
              "    <tr>\n",
              "      <th>111941</th>\n",
              "      <td>[Patio, Lawn &amp; Garden, Patio Furniture &amp; Accessories, Patio Seating, Porch Swings]</td>\n",
              "    </tr>\n",
              "    <tr>\n",
              "      <th>119794</th>\n",
              "      <td>[Patio, Lawn &amp; Garden, Outdoor Dcor, Flags]</td>\n",
              "    </tr>\n",
              "    <tr>\n",
              "      <th>120041</th>\n",
              "      <td>[Patio, Lawn &amp; Garden, Outdoor Dcor, Flags]</td>\n",
              "    </tr>\n",
              "  </tbody>\n",
              "</table>\n",
              "</div>"
            ],
            "text/plain": [
              "                                                                                         category\n",
              "83417   [Patio, Lawn & Garden, Gardening & Lawn Care, Plants, Seeds & Bulbs]                     \n",
              "260920  [Patio, Lawn & Garden, Outdoor Dcor, Backyard Birding & Wildlife, Birds, Food, Mealworms]\n",
              "111941  [Patio, Lawn & Garden, Patio Furniture & Accessories, Patio Seating, Porch Swings]       \n",
              "119794  [Patio, Lawn & Garden, Outdoor Dcor, Flags]                                              \n",
              "120041  [Patio, Lawn & Garden, Outdoor Dcor, Flags]                                              "
            ]
          },
          "metadata": {
            "tags": []
          },
          "execution_count": 8
        }
      ]
    },
    {
      "cell_type": "code",
      "metadata": {
        "id": "Nzz-2umb59wZ",
        "colab_type": "code",
        "outputId": "c64a97a1-42da-451d-8bf9-efadf7e15235",
        "colab": {
          "base_uri": "https://localhost:8080/",
          "height": 51
        }
      },
      "source": [
        "import pandas as pd\n",
        "pd.set_option('display.max_colwidth', -1)  # to view entire text in any column\n",
        "import numpy as np\n",
        "import random\n",
        "import matplotlib.pyplot as plt\n",
        "%matplotlib inline\n",
        "import seaborn as sns\n",
        "import re\n",
        "import string\n",
        "import gzip\n",
        "from pprint import pprint\n",
        "\n",
        "from bs4 import BeautifulSoup\n",
        "import nltk\n",
        "from nltk import FreqDist\n",
        "nltk.download('stopwords') \n",
        "from nltk.corpus import stopwords\n",
        "# from nltk.stem.wordnet import WordNetLemmatizer  # alternative lemmatizer\n",
        "# lemma = WordNetLemmatizer()\n",
        "\n",
        "import spacy\n",
        "import gensim\n",
        "from gensim import corpora\n",
        "from gensim.models import CoherenceModel\n",
        "\n",
        "import pyLDAvis\n",
        "import pyLDAvis.gensim   # for visualizing found topics\n",
        "\n",
        "import os\n",
        "\n",
        "\n",
        "import warnings\n",
        "warnings.filterwarnings(\"ignore\",category=DeprecationWarning)"
      ],
      "execution_count": 0,
      "outputs": [
        {
          "output_type": "stream",
          "text": [
            "[nltk_data] Downloading package stopwords to /root/nltk_data...\n",
            "[nltk_data]   Package stopwords is already up-to-date!\n"
          ],
          "name": "stdout"
        }
      ]
    },
    {
      "cell_type": "code",
      "metadata": {
        "id": "1vqSl4Ds6CVj",
        "colab_type": "code",
        "outputId": "295eda41-b0cd-4e1e-e724-fe9cfbd025e2",
        "colab": {
          "base_uri": "https://localhost:8080/",
          "height": 34
        }
      },
      "source": [
        "df = df.dropna(subset = ['category'])\n",
        "df.shape[0]"
      ],
      "execution_count": 0,
      "outputs": [
        {
          "output_type": "execute_result",
          "data": {
            "text/plain": [
              "279697"
            ]
          },
          "metadata": {
            "tags": []
          },
          "execution_count": 10
        }
      ]
    },
    {
      "cell_type": "code",
      "metadata": {
        "id": "LQU9LKwl8cZh",
        "colab_type": "code",
        "colab": {}
      },
      "source": [
        "df['category'] = df['category'].astype(str)"
      ],
      "execution_count": 0,
      "outputs": []
    },
    {
      "cell_type": "code",
      "metadata": {
        "id": "LdYynhrN6jId",
        "colab_type": "code",
        "colab": {}
      },
      "source": [
        "# functions for text cleaning and pre-processing\n",
        "\n",
        "def chk_has_html(rev_df,print_all=True):\n",
        "    # check for review text that has tags such as &#34;\n",
        "    # rev_df: e.g. df['reviewText']\n",
        "    html_num = defaultdict(int)\n",
        "    review_w_html = []\n",
        "    for idx, text in enumerate(rev_df):\n",
        "        strange_text = re.findall(r'&#\\d+;',text)\n",
        "        if len(strange_text) > 1:\n",
        "            for t in strange_text:\n",
        "                html_num[t] += 1\n",
        "            review_w_html.append(text)\n",
        "    \n",
        "    if print_all == True:\n",
        "        print(sorted(html_num.items(), key = lambda kv:(kv[1], kv[0]), reverse=True))     \n",
        "    return html_num\n",
        "\n",
        "def chk_html_num(rev_df,tag):\n",
        "    # prints reviews that contain the special HTML numbers specified by tag\n",
        "    # tag: HTML numbers with pattern r'&#\\d+;'\n",
        "    for idx, text in enumerate(rev_df):\n",
        "        if tag in text:\n",
        "            print(idx, text, '\\n')\n",
        "\n",
        "def convert_html(rev): \n",
        "    # replace the html tags by the corresponding symbol using HTML_MAP\n",
        "    html_entity = re.findall(r'&#\\d+;',rev)\n",
        "    rev_new = rev\n",
        "    if len(html_entity) > 0:\n",
        "        for t in html_entity:\n",
        "            rev_new = rev_new.replace(t,HTML_MAP[t])\n",
        "    return rev_new\n",
        "\n",
        "def remove_html_tags(text):\n",
        "    return BeautifulSoup(text, \"html.parser\").get_text()\n",
        "\n",
        "punc_char = set(string.punctuation)\n",
        "\n",
        "def remove_punctuation(rev):\n",
        "    # remove punctuation from the input string rev\n",
        "    return ''.join([ch for ch in rev if ch not in punc_char])\n",
        "\n",
        "stop_words = stopwords.words('english')\n",
        "stop_words.extend(['would','dont','cant','should','it.','(',')','-','one','!','\"',',','.'])  \n",
        "\n",
        "def remove_stopwords(rev):\n",
        "    # rev is a review text, one string\n",
        "    rev_new = \" \".join([i for i in rev.split() if i not in stop_words])\n",
        "    return rev_new\n",
        "\n",
        "nlp = spacy.load('en', disable=['parser', 'ner'])\n",
        "\n",
        "def lemmatization(rev): \n",
        "    # lemmatize input string rev, i.e. reduce all forms of a word to the lemma\n",
        "    doc = nlp(\" \".join(rev.split()))\n",
        "    return \" \".join([token.lemma_ for token in doc])\n",
        "\n",
        "def lemmatization_tag(rev, tags = ['NOUN', 'ADJ']): # filter noun and adjective\n",
        "    doc = nlp(\" \".join(rev.split()))\n",
        "    return \" \".join([token.lemma_ for token in doc if token.pos_ in tags])\n",
        "\n",
        "def remove_num(s):\n",
        "    # s is a string, e.g. an entire review text\n",
        "    return ''.join([i for i in s if not i.isdigit()])"
      ],
      "execution_count": 0,
      "outputs": []
    },
    {
      "cell_type": "code",
      "metadata": {
        "id": "JMQvsXLx6poK",
        "colab_type": "code",
        "outputId": "246ca302-ecdc-4dea-fe8b-000bae7ba4db",
        "colab": {
          "base_uri": "https://localhost:8080/",
          "height": 935
        }
      },
      "source": [
        "df.loc[:,'cat_no_html'] = df['category'].apply(remove_html_tags)\n",
        "df.loc[:,'cat_no_html'] = df['cat_no_html'].apply(remove_html_tags)\n",
        "print(df['cat_no_html'].sample(5))\n",
        "df.loc[:,'cat_no_punc'] = [remove_punctuation(r) for r in df['cat_no_html']]\n",
        "print('Punctuation removed  \\n')\n",
        "df.loc[:,'cat_no_stopwords'] = [remove_stopwords(r.lower()) for r in df['cat_no_html']]\n",
        "print('Stopwords Removed \\n')\n",
        "#freq_words(df['cat_no_stopwords'])\n",
        "# lemmatize, this is a relatively slow preprocessing step \n",
        "df.loc[:,'cat_lemmatized'] = df['cat_no_stopwords'].apply(lemmatization)\n",
        "print('Lemmatisation done \\n')\n",
        "# run remove stop words again because the lemmatization process generates more stop words\n",
        "df.loc[:,'cat_lemmatized'] = df['cat_lemmatized'].apply(remove_stopwords)\n",
        "print('Stopwords now removed again after lemmatisation \\n')\n",
        "# remove numbers\n",
        "df.loc[:, 'cat_lemmatized'] = df['cat_lemmatized'].apply(remove_num)\n"
      ],
      "execution_count": 0,
      "outputs": [
        {
          "output_type": "stream",
          "text": [
            "157768    ['Patio, Lawn & Garden', 'Grills & Outdoor Cooking', 'Outdoor Cooking Tools & Accessories', 'Grilling & Barbecue Utensils']\n",
            "39330     ['Patio, Lawn & Garden', 'Patio Furniture & Accessories', 'Canopies, Gazebos & Pergolas']                                  \n",
            "278369    ['Patio, Lawn & Garden', 'Pools, Hot Tubs & Supplies', 'Parts & Accessories', 'Safety Products']                           \n",
            "274445    ['Patio, Lawn & Garden', 'Outdoor Dcor', 'Flags']                                                                          \n",
            "228030    ['Patio, Lawn & Garden', 'Outdoor Power Tools', 'Wood Chippers, Shredders, & Mulchers']                                    \n",
            "Name: cat_no_html, dtype: object\n",
            "Punctuation removed  \n",
            "\n",
            "Stopwords Removed \n",
            "\n",
            "Lemmatisation done \n",
            "\n",
            "Stopwords now removed again after lemmatisation \n",
            "\n"
          ],
          "name": "stdout"
        },
        {
          "output_type": "error",
          "ename": "KeyError",
          "evalue": "ignored",
          "traceback": [
            "\u001b[0;31m---------------------------------------------------------------------------\u001b[0m",
            "\u001b[0;31mKeyError\u001b[0m                                  Traceback (most recent call last)",
            "\u001b[0;32m/usr/local/lib/python3.6/dist-packages/pandas/core/indexes/base.py\u001b[0m in \u001b[0;36mget_loc\u001b[0;34m(self, key, method, tolerance)\u001b[0m\n\u001b[1;32m   2896\u001b[0m             \u001b[0;32mtry\u001b[0m\u001b[0;34m:\u001b[0m\u001b[0;34m\u001b[0m\u001b[0;34m\u001b[0m\u001b[0m\n\u001b[0;32m-> 2897\u001b[0;31m                 \u001b[0;32mreturn\u001b[0m \u001b[0mself\u001b[0m\u001b[0;34m.\u001b[0m\u001b[0m_engine\u001b[0m\u001b[0;34m.\u001b[0m\u001b[0mget_loc\u001b[0m\u001b[0;34m(\u001b[0m\u001b[0mkey\u001b[0m\u001b[0;34m)\u001b[0m\u001b[0;34m\u001b[0m\u001b[0;34m\u001b[0m\u001b[0m\n\u001b[0m\u001b[1;32m   2898\u001b[0m             \u001b[0;32mexcept\u001b[0m \u001b[0mKeyError\u001b[0m\u001b[0;34m:\u001b[0m\u001b[0;34m\u001b[0m\u001b[0;34m\u001b[0m\u001b[0m\n",
            "\u001b[0;32mpandas/_libs/index.pyx\u001b[0m in \u001b[0;36mpandas._libs.index.IndexEngine.get_loc\u001b[0;34m()\u001b[0m\n",
            "\u001b[0;32mpandas/_libs/index.pyx\u001b[0m in \u001b[0;36mpandas._libs.index.IndexEngine.get_loc\u001b[0;34m()\u001b[0m\n",
            "\u001b[0;32mpandas/_libs/hashtable_class_helper.pxi\u001b[0m in \u001b[0;36mpandas._libs.hashtable.PyObjectHashTable.get_item\u001b[0;34m()\u001b[0m\n",
            "\u001b[0;32mpandas/_libs/hashtable_class_helper.pxi\u001b[0m in \u001b[0;36mpandas._libs.hashtable.PyObjectHashTable.get_item\u001b[0;34m()\u001b[0m\n",
            "\u001b[0;31mKeyError\u001b[0m: 'catText'",
            "\nDuring handling of the above exception, another exception occurred:\n",
            "\u001b[0;31mKeyError\u001b[0m                                  Traceback (most recent call last)",
            "\u001b[0;32m<ipython-input-15-d375c5755767>\u001b[0m in \u001b[0;36m<module>\u001b[0;34m()\u001b[0m\n\u001b[1;32m     15\u001b[0m \u001b[0;31m# remove numbers\u001b[0m\u001b[0;34m\u001b[0m\u001b[0;34m\u001b[0m\u001b[0;34m\u001b[0m\u001b[0m\n\u001b[1;32m     16\u001b[0m \u001b[0mdf\u001b[0m\u001b[0;34m.\u001b[0m\u001b[0mloc\u001b[0m\u001b[0;34m[\u001b[0m\u001b[0;34m:\u001b[0m\u001b[0;34m,\u001b[0m \u001b[0;34m'cat_lemmatized'\u001b[0m\u001b[0;34m]\u001b[0m \u001b[0;34m=\u001b[0m \u001b[0mdf\u001b[0m\u001b[0;34m[\u001b[0m\u001b[0;34m'cat_lemmatized'\u001b[0m\u001b[0;34m]\u001b[0m\u001b[0;34m.\u001b[0m\u001b[0mapply\u001b[0m\u001b[0;34m(\u001b[0m\u001b[0mremove_num\u001b[0m\u001b[0;34m)\u001b[0m\u001b[0;34m\u001b[0m\u001b[0;34m\u001b[0m\u001b[0m\n\u001b[0;32m---> 17\u001b[0;31m \u001b[0mprint\u001b[0m\u001b[0;34m(\u001b[0m\u001b[0mdf\u001b[0m\u001b[0;34m[\u001b[0m\u001b[0;34m'catText'\u001b[0m\u001b[0;34m]\u001b[0m\u001b[0;34m.\u001b[0m\u001b[0msample\u001b[0m\u001b[0;34m(\u001b[0m\u001b[0mn\u001b[0m\u001b[0;34m=\u001b[0m\u001b[0;36m3\u001b[0m\u001b[0;34m,\u001b[0m \u001b[0mrandom_state\u001b[0m \u001b[0;34m=\u001b[0m \u001b[0;36m0\u001b[0m\u001b[0;34m)\u001b[0m\u001b[0;34m,\u001b[0m\u001b[0;34m'\\n'\u001b[0m\u001b[0;34m)\u001b[0m\u001b[0;34m\u001b[0m\u001b[0;34m\u001b[0m\u001b[0m\n\u001b[0m\u001b[1;32m     18\u001b[0m \u001b[0mprint\u001b[0m\u001b[0;34m(\u001b[0m\u001b[0mdf\u001b[0m\u001b[0;34m[\u001b[0m\u001b[0;34m'cat_no_stopwords'\u001b[0m\u001b[0;34m]\u001b[0m\u001b[0;34m.\u001b[0m\u001b[0msample\u001b[0m\u001b[0;34m(\u001b[0m\u001b[0mn\u001b[0m\u001b[0;34m=\u001b[0m\u001b[0;36m3\u001b[0m\u001b[0;34m,\u001b[0m \u001b[0mrandom_state\u001b[0m \u001b[0;34m=\u001b[0m \u001b[0;36m0\u001b[0m\u001b[0;34m)\u001b[0m\u001b[0;34m,\u001b[0m\u001b[0;34m'\\n'\u001b[0m\u001b[0;34m)\u001b[0m\u001b[0;34m\u001b[0m\u001b[0;34m\u001b[0m\u001b[0m\n\u001b[1;32m     19\u001b[0m \u001b[0mprint\u001b[0m\u001b[0;34m(\u001b[0m\u001b[0mdf\u001b[0m\u001b[0;34m[\u001b[0m\u001b[0;34m'cat_lemmatized'\u001b[0m\u001b[0;34m]\u001b[0m\u001b[0;34m.\u001b[0m\u001b[0msample\u001b[0m\u001b[0;34m(\u001b[0m\u001b[0mn\u001b[0m\u001b[0;34m=\u001b[0m\u001b[0;36m3\u001b[0m\u001b[0;34m,\u001b[0m \u001b[0mrandom_state\u001b[0m \u001b[0;34m=\u001b[0m \u001b[0;36m0\u001b[0m\u001b[0;34m)\u001b[0m\u001b[0;34m,\u001b[0m\u001b[0;34m'\\n'\u001b[0m\u001b[0;34m)\u001b[0m\u001b[0;34m\u001b[0m\u001b[0;34m\u001b[0m\u001b[0m\n",
            "\u001b[0;32m/usr/local/lib/python3.6/dist-packages/pandas/core/frame.py\u001b[0m in \u001b[0;36m__getitem__\u001b[0;34m(self, key)\u001b[0m\n\u001b[1;32m   2993\u001b[0m             \u001b[0;32mif\u001b[0m \u001b[0mself\u001b[0m\u001b[0;34m.\u001b[0m\u001b[0mcolumns\u001b[0m\u001b[0;34m.\u001b[0m\u001b[0mnlevels\u001b[0m \u001b[0;34m>\u001b[0m \u001b[0;36m1\u001b[0m\u001b[0;34m:\u001b[0m\u001b[0;34m\u001b[0m\u001b[0;34m\u001b[0m\u001b[0m\n\u001b[1;32m   2994\u001b[0m                 \u001b[0;32mreturn\u001b[0m \u001b[0mself\u001b[0m\u001b[0;34m.\u001b[0m\u001b[0m_getitem_multilevel\u001b[0m\u001b[0;34m(\u001b[0m\u001b[0mkey\u001b[0m\u001b[0;34m)\u001b[0m\u001b[0;34m\u001b[0m\u001b[0;34m\u001b[0m\u001b[0m\n\u001b[0;32m-> 2995\u001b[0;31m             \u001b[0mindexer\u001b[0m \u001b[0;34m=\u001b[0m \u001b[0mself\u001b[0m\u001b[0;34m.\u001b[0m\u001b[0mcolumns\u001b[0m\u001b[0;34m.\u001b[0m\u001b[0mget_loc\u001b[0m\u001b[0;34m(\u001b[0m\u001b[0mkey\u001b[0m\u001b[0;34m)\u001b[0m\u001b[0;34m\u001b[0m\u001b[0;34m\u001b[0m\u001b[0m\n\u001b[0m\u001b[1;32m   2996\u001b[0m             \u001b[0;32mif\u001b[0m \u001b[0mis_integer\u001b[0m\u001b[0;34m(\u001b[0m\u001b[0mindexer\u001b[0m\u001b[0;34m)\u001b[0m\u001b[0;34m:\u001b[0m\u001b[0;34m\u001b[0m\u001b[0;34m\u001b[0m\u001b[0m\n\u001b[1;32m   2997\u001b[0m                 \u001b[0mindexer\u001b[0m \u001b[0;34m=\u001b[0m \u001b[0;34m[\u001b[0m\u001b[0mindexer\u001b[0m\u001b[0;34m]\u001b[0m\u001b[0;34m\u001b[0m\u001b[0;34m\u001b[0m\u001b[0m\n",
            "\u001b[0;32m/usr/local/lib/python3.6/dist-packages/pandas/core/indexes/base.py\u001b[0m in \u001b[0;36mget_loc\u001b[0;34m(self, key, method, tolerance)\u001b[0m\n\u001b[1;32m   2897\u001b[0m                 \u001b[0;32mreturn\u001b[0m \u001b[0mself\u001b[0m\u001b[0;34m.\u001b[0m\u001b[0m_engine\u001b[0m\u001b[0;34m.\u001b[0m\u001b[0mget_loc\u001b[0m\u001b[0;34m(\u001b[0m\u001b[0mkey\u001b[0m\u001b[0;34m)\u001b[0m\u001b[0;34m\u001b[0m\u001b[0;34m\u001b[0m\u001b[0m\n\u001b[1;32m   2898\u001b[0m             \u001b[0;32mexcept\u001b[0m \u001b[0mKeyError\u001b[0m\u001b[0;34m:\u001b[0m\u001b[0;34m\u001b[0m\u001b[0;34m\u001b[0m\u001b[0m\n\u001b[0;32m-> 2899\u001b[0;31m                 \u001b[0;32mreturn\u001b[0m \u001b[0mself\u001b[0m\u001b[0;34m.\u001b[0m\u001b[0m_engine\u001b[0m\u001b[0;34m.\u001b[0m\u001b[0mget_loc\u001b[0m\u001b[0;34m(\u001b[0m\u001b[0mself\u001b[0m\u001b[0;34m.\u001b[0m\u001b[0m_maybe_cast_indexer\u001b[0m\u001b[0;34m(\u001b[0m\u001b[0mkey\u001b[0m\u001b[0;34m)\u001b[0m\u001b[0;34m)\u001b[0m\u001b[0;34m\u001b[0m\u001b[0;34m\u001b[0m\u001b[0m\n\u001b[0m\u001b[1;32m   2900\u001b[0m         \u001b[0mindexer\u001b[0m \u001b[0;34m=\u001b[0m \u001b[0mself\u001b[0m\u001b[0;34m.\u001b[0m\u001b[0mget_indexer\u001b[0m\u001b[0;34m(\u001b[0m\u001b[0;34m[\u001b[0m\u001b[0mkey\u001b[0m\u001b[0;34m]\u001b[0m\u001b[0;34m,\u001b[0m \u001b[0mmethod\u001b[0m\u001b[0;34m=\u001b[0m\u001b[0mmethod\u001b[0m\u001b[0;34m,\u001b[0m \u001b[0mtolerance\u001b[0m\u001b[0;34m=\u001b[0m\u001b[0mtolerance\u001b[0m\u001b[0;34m)\u001b[0m\u001b[0;34m\u001b[0m\u001b[0;34m\u001b[0m\u001b[0m\n\u001b[1;32m   2901\u001b[0m         \u001b[0;32mif\u001b[0m \u001b[0mindexer\u001b[0m\u001b[0;34m.\u001b[0m\u001b[0mndim\u001b[0m \u001b[0;34m>\u001b[0m \u001b[0;36m1\u001b[0m \u001b[0;32mor\u001b[0m \u001b[0mindexer\u001b[0m\u001b[0;34m.\u001b[0m\u001b[0msize\u001b[0m \u001b[0;34m>\u001b[0m \u001b[0;36m1\u001b[0m\u001b[0;34m:\u001b[0m\u001b[0;34m\u001b[0m\u001b[0;34m\u001b[0m\u001b[0m\n",
            "\u001b[0;32mpandas/_libs/index.pyx\u001b[0m in \u001b[0;36mpandas._libs.index.IndexEngine.get_loc\u001b[0;34m()\u001b[0m\n",
            "\u001b[0;32mpandas/_libs/index.pyx\u001b[0m in \u001b[0;36mpandas._libs.index.IndexEngine.get_loc\u001b[0;34m()\u001b[0m\n",
            "\u001b[0;32mpandas/_libs/hashtable_class_helper.pxi\u001b[0m in \u001b[0;36mpandas._libs.hashtable.PyObjectHashTable.get_item\u001b[0;34m()\u001b[0m\n",
            "\u001b[0;32mpandas/_libs/hashtable_class_helper.pxi\u001b[0m in \u001b[0;36mpandas._libs.hashtable.PyObjectHashTable.get_item\u001b[0;34m()\u001b[0m\n",
            "\u001b[0;31mKeyError\u001b[0m: 'catText'"
          ]
        }
      ]
    },
    {
      "cell_type": "code",
      "metadata": {
        "id": "KDXuHxfrCApC",
        "colab_type": "code",
        "outputId": "bee64d81-da8c-49c2-8ba3-692a2de0e1c2",
        "colab": {
          "base_uri": "https://localhost:8080/",
          "height": 272
        }
      },
      "source": [
        "print(df['category'].sample(n=3, random_state = 0),'\\n')\n",
        "print(df['cat_no_stopwords'].sample(n=3, random_state = 0),'\\n')\n",
        "print(df['cat_lemmatized'].sample(n=3, random_state = 0),'\\n')\n"
      ],
      "execution_count": 0,
      "outputs": [
        {
          "output_type": "stream",
          "text": [
            "56350     ['Patio, Lawn & Garden', 'Outdoor Dcor', 'Garden Sculptures & Statues', 'Outdoor Statues']        \n",
            "68050     ['Patio, Lawn & Garden', 'Outdoor Dcor', 'Backyard Birding & Wildlife', 'Birds', 'Feeders']       \n",
            "196510    ['Patio, Lawn & Garden', 'Grills & Outdoor Cooking', 'Grills', 'Gas Grills', 'Natural Gas Grills']\n",
            "Name: category, dtype: object \n",
            "\n",
            "56350     ['patio, lawn & garden', 'outdoor dcor', 'garden sculptures & statues', 'outdoor statues']        \n",
            "68050     ['patio, lawn & garden', 'outdoor dcor', 'backyard birding & wildlife', 'birds', 'feeders']       \n",
            "196510    ['patio, lawn & garden', 'grills & outdoor cooking', 'grills', 'gas grills', 'natural gas grills']\n",
            "Name: cat_no_stopwords, dtype: object \n",
            "\n",
            "56350     [ ' patio lawn & garden ' ' outdoor dcor ' ' garden sculpture & statue ' ' outdoor statue ' ]        \n",
            "68050     [ ' patio lawn & garden ' ' outdoor dcor ' ' backyard birding & wildlife ' ' bird ' ' feeder ' ]     \n",
            "196510    [ ' patio lawn & garden ' ' grill & outdoor cooking ' ' grill ' ' gas grill ' ' natural gas grill ' ]\n",
            "Name: cat_lemmatized, dtype: object \n",
            "\n"
          ],
          "name": "stdout"
        }
      ]
    },
    {
      "cell_type": "code",
      "metadata": {
        "id": "LjXGl_6s7eWo",
        "colab_type": "code",
        "colab": {}
      },
      "source": [
        "df[['category','cat_no_html', 'cat_lemmatized']].to_csv('/gdrive/My Drive/Amazon_data/meta_lawn_processed.csv')"
      ],
      "execution_count": 0,
      "outputs": []
    },
    {
      "cell_type": "markdown",
      "metadata": {
        "id": "GFJdHcwpK_nG",
        "colab_type": "text"
      },
      "source": [
        "##Reading the already pre-processed data"
      ]
    },
    {
      "cell_type": "code",
      "metadata": {
        "id": "FL1x4w02Lv2L",
        "colab_type": "code",
        "outputId": "48b5ca86-28d4-4873-d882-290571c22ee3",
        "colab": {
          "base_uri": "https://localhost:8080/",
          "height": 34
        }
      },
      "source": [
        "df = pd.read_csv('/gdrive/My Drive/Amazon_data/meta_lawn_processed.csv')\n",
        "df.head()\n",
        "df.shape"
      ],
      "execution_count": 0,
      "outputs": [
        {
          "output_type": "execute_result",
          "data": {
            "text/plain": [
              "(279697, 4)"
            ]
          },
          "metadata": {
            "tags": []
          },
          "execution_count": 18
        }
      ]
    },
    {
      "cell_type": "code",
      "metadata": {
        "id": "qMIFGXK8LELH",
        "colab_type": "code",
        "colab": {}
      },
      "source": [
        "df['cat_lemmatized'] = df['cat_lemmatized'].astype(str)"
      ],
      "execution_count": 0,
      "outputs": []
    },
    {
      "cell_type": "markdown",
      "metadata": {
        "id": "vo9okNWqtjDv",
        "colab_type": "text"
      },
      "source": [
        "##Building Dictionary,Term-Doc Matrix"
      ]
    },
    {
      "cell_type": "code",
      "metadata": {
        "id": "WkKHwCcaHvDe",
        "colab_type": "code",
        "outputId": "d75e2059-d116-4364-ce6f-da9965305a2e",
        "colab": {
          "base_uri": "https://localhost:8080/",
          "height": 340
        }
      },
      "source": [
        "#Amazon Review Data\n",
        "# number of asins, number of associated reviews for each rating\n",
        "review_cnts = df.groupby('overall').agg({'review_lemmatized':'count'}).sort_values(by = 'review_lemmatized', ascending = False)\n",
        "review_cnts = review_cnts.reset_index()\n",
        "review_cnts = review_cnts.rename({'review_lemmatized':'reviewCnt'}, axis = 'columns')\n",
        "print('Top 10 most reviewed:\\n', review_cnts.head(10),'\\n')\n",
        "print(review_cnts.reviewCnt.describe())\n",
        "plt.figure(figsize=(8,10))\n"
      ],
      "execution_count": 0,
      "outputs": [
        {
          "output_type": "stream",
          "text": [
            "Top 10 most reviewed:\n",
            "    overall  reviewCnt\n",
            "0  5.0      57019    \n",
            "1  4.0      18352    \n",
            "2  1.0      11305    \n",
            "3  3.0      7741     \n",
            "4  2.0      5524      \n",
            "\n",
            "count    5.000000    \n",
            "mean     19988.200000\n",
            "std      21263.597125\n",
            "min      5524.000000 \n",
            "25%      7741.000000 \n",
            "50%      11305.000000\n",
            "75%      18352.000000\n",
            "max      57019.000000\n",
            "Name: reviewCnt, dtype: float64\n"
          ],
          "name": "stdout"
        },
        {
          "output_type": "execute_result",
          "data": {
            "text/plain": [
              "<Figure size 576x720 with 0 Axes>"
            ]
          },
          "metadata": {
            "tags": []
          },
          "execution_count": 7
        },
        {
          "output_type": "display_data",
          "data": {
            "text/plain": [
              "<Figure size 576x720 with 0 Axes>"
            ]
          },
          "metadata": {
            "tags": []
          }
        }
      ]
    },
    {
      "cell_type": "code",
      "metadata": {
        "id": "ofx5dWhLTZgy",
        "colab_type": "code",
        "outputId": "6853acfc-ca0d-4610-a07e-d131cece7f0a",
        "colab": {
          "base_uri": "https://localhost:8080/",
          "height": 136
        }
      },
      "source": [
        "#Converting the DF to list to feed to the CorEx Model\n",
        "dfToList = df['cat_lemmatized'].tolist()\n",
        "\n",
        "dfList = list(df['cat_lemmatized'])\n",
        "\n",
        "dfValues = df['cat_lemmatized'].values\n",
        "#print(dfList)\n",
        "print(dfValues)"
      ],
      "execution_count": 0,
      "outputs": [
        {
          "output_type": "stream",
          "text": [
            "[\"[ ' patio lawn & garden ' ' outdoor power tool ' ' replacement part & accessory ' ' lawn mower part & accessory ' ]\"\n",
            " \"[ ' patio lawn & garden ' ' outdoor dcor ' ' garden sculpture & statue ' ' decorative stone ' ]\"\n",
            " \"[ ' patio lawn & garden ' ' gardening & lawn care ' ' plant seed & bulb ' ]\"\n",
            " ...\n",
            " \"[ ' patio lawn & garden ' ' farm & ranch ' ' agricultural & construction machinery ' ' part & accessory ' ' spare & replacement part ' ]\"\n",
            " \"[ ' patio lawn & garden ' ' farm & ranch ' ' agricultural & construction machinery ' ' part & accessory ' ' spare & replacement part ' ]\"\n",
            " \"[ ' patio lawn & garden ' ' patio furniture & accessory ' ' umbrella & shade ' ' umbrella ' ]\"]\n"
          ],
          "name": "stdout"
        }
      ]
    },
    {
      "cell_type": "code",
      "metadata": {
        "id": "xPhW34DxMMM9",
        "colab_type": "code",
        "outputId": "c334c03e-e74d-495f-ccad-624b725ca6f3",
        "colab": {
          "base_uri": "https://localhost:8080/",
          "height": 34
        }
      },
      "source": [
        "# Transform Amazon Reviews data into a sparse matrix\n",
        "vectorizer = CountVectorizer(stop_words='english', max_features=20000,binary = True)\n",
        "doc_word = vectorizer.fit_transform(df['cat_lemmatized'].values.astype('U')) #Learn the vocabulary dictionary and return term-document matrix.\n",
        "doc_word = ss.csr_matrix(doc_word)\n",
        "\n",
        "doc_word.shape # n_docs x m_words"
      ],
      "execution_count": 0,
      "outputs": [
        {
          "output_type": "execute_result",
          "data": {
            "text/plain": [
              "(279697, 2208)"
            ]
          },
          "metadata": {
            "tags": []
          },
          "execution_count": 21
        }
      ]
    },
    {
      "cell_type": "code",
      "metadata": {
        "id": "f_bUXNp5NFG8",
        "colab_type": "code",
        "colab": {}
      },
      "source": [
        "# Get words that label the columns (needed to extract readable topics and make anchoring easier)\n",
        "words = list(np.asarray(vectorizer.get_feature_names()))"
      ],
      "execution_count": 0,
      "outputs": []
    },
    {
      "cell_type": "code",
      "metadata": {
        "id": "yHsn6cG2NuH0",
        "colab_type": "code",
        "outputId": "f0ed6687-8068-4989-c58a-847bbe704ac5",
        "colab": {
          "base_uri": "https://localhost:8080/",
          "height": 34
        }
      },
      "source": [
        "not_digit_inds = [ind for ind,word in enumerate(words) if not word.isdigit()]\n",
        "doc_word = doc_word[:,not_digit_inds]\n",
        "words    = [word for ind,word in enumerate(words) if not word.isdigit()]\n",
        "\n",
        "doc_word.shape # n_docs x m_words"
      ],
      "execution_count": 0,
      "outputs": [
        {
          "output_type": "execute_result",
          "data": {
            "text/plain": [
              "(279697, 2208)"
            ]
          },
          "metadata": {
            "tags": []
          },
          "execution_count": 23
        }
      ]
    },
    {
      "cell_type": "markdown",
      "metadata": {
        "id": "SWPi_MkNtbsc",
        "colab_type": "text"
      },
      "source": [
        "##Training the CorEx Topic Model"
      ]
    },
    {
      "cell_type": "code",
      "metadata": {
        "id": "Z-FDTwAYNxid",
        "colab_type": "code",
        "outputId": "086d71e2-4ef4-4208-b5fe-aa6bc93416e5",
        "colab": {
          "base_uri": "https://localhost:8080/",
          "height": 34
        }
      },
      "source": [
        "# Train the CorEx topic model with 10 topics\n",
        "topic_model = ct.Corex(n_hidden=10, words=words, max_iter=500, verbose=False, seed=1)\n",
        "topic_model.fit(doc_word, words=words);"
      ],
      "execution_count": 0,
      "outputs": [
        {
          "output_type": "stream",
          "text": [
            "WARNING: Some words never appear (or always appear)\n"
          ],
          "name": "stdout"
        }
      ]
    },
    {
      "cell_type": "code",
      "metadata": {
        "id": "7OKbfhueN1sE",
        "colab_type": "code",
        "outputId": "e5d01d0f-2b43-47a6-8046-11498fb7b26e",
        "colab": {
          "base_uri": "https://localhost:8080/",
          "height": 187
        }
      },
      "source": [
        "# Print a single topic from CorEx topic model. This model is trained on the Amazon Garden and Lawn Products\n",
        "topic_model.get_topics(topic=7, n_words=10)"
      ],
      "execution_count": 0,
      "outputs": [
        {
          "output_type": "execute_result",
          "data": {
            "text/plain": [
              "[('water', 0.27992647622646005),\n",
              " ('equipment', 0.1462205468699007),\n",
              " ('pond', 0.0641669063615212),\n",
              " ('hose', 0.03955357672130647),\n",
              " ('automatic', 0.03927024310181976),\n",
              " ('irrigation', 0.028850666449103234),\n",
              " ('testing', 0.026666231592553248),\n",
              " ('connector', 0.018678798233932932),\n",
              " ('circulation', 0.01787910739597457),\n",
              " ('sprinkler', 0.016410507324117172)]"
            ]
          },
          "metadata": {
            "tags": []
          },
          "execution_count": 56
        }
      ]
    },
    {
      "cell_type": "code",
      "metadata": {
        "id": "PXEY_OBON4mi",
        "colab_type": "code",
        "outputId": "86be50c7-64c9-42c7-948c-d35ee3d63c24",
        "colab": {
          "base_uri": "https://localhost:8080/",
          "height": 187
        }
      },
      "source": [
        "# Print all topics from the CorEx topic model\n",
        "topics = topic_model.get_topics()\n",
        "for n,topic in enumerate(topics):\n",
        "    topic_words,_ = zip(*topic)\n",
        "    print('{}: '.format(n) + ','.join(topic_words))"
      ],
      "execution_count": 0,
      "outputs": [
        {
          "output_type": "stream",
          "text": [
            "0: gardening,care,plant,bulb,seed,planter,pot,container,flower,soil\n",
            "1: pool,hot,tub,supply,cleaning,chemical,instrument,product,weather,thermometer\n",
            "2: dcor,outdoor,accessory,flag,statue,sculpture,doormat,chime,control,yard\n",
            "3: power,tool,mower,mow,generator,portable,chainsaw,pressure,washer,stre\n",
            "4: farm,ranch,backyard,birding,wildlife,bird,agricultural,construction,machinery,spare\n",
            "5: grill,cooking,utensil,grilling,barbecue,snow,removal,burner,blower,plate\n",
            "6: furniture,seat,umbrella,chair,shade,cushion,table,canopy,pergola,gazebos\n",
            "7: water,equipment,pond,hose,automatic,irrigation,testing,connector,circulation,sprinkler\n",
            "8: hand,scissor,shear,pruner,spade,trowel,shovel,test,axis,manual\n",
            "9: replacement,protective,glove,gear,wheelbarrow,pad,knee,kneel,apron,workseat\n"
          ],
          "name": "stdout"
        }
      ]
    },
    {
      "cell_type": "code",
      "metadata": {
        "id": "qJPbeUImN8UC",
        "colab_type": "code",
        "outputId": "7d0e366c-0f6c-4d2c-a335-f3f0cf949da9",
        "colab": {
          "base_uri": "https://localhost:8080/",
          "height": 187
        }
      },
      "source": [
        "topic_model.get_topics(topic=5, n_words=10, print_words=False)"
      ],
      "execution_count": 0,
      "outputs": [
        {
          "output_type": "execute_result",
          "data": {
            "text/plain": [
              "[(883, 0.29094289633769976),\n",
              " (431, 0.2904476769095286),\n",
              " (2064, 0.04654133885937111),\n",
              " (884, 0.04652649635419393),\n",
              " (139, 0.04650595844123529),\n",
              " (1767, 0.02105650410201877),\n",
              " (1576, 0.020999202735327332),\n",
              " (251, 0.019668204208130452),\n",
              " (202, 0.016813966103308688),\n",
              " (1420, 0.01665730281438869)]"
            ]
          },
          "metadata": {
            "tags": []
          },
          "execution_count": 58
        }
      ]
    },
    {
      "cell_type": "code",
      "metadata": {
        "id": "v-CIEn-vOA0O",
        "colab_type": "code",
        "outputId": "ce04fa6a-99fe-4243-d568-058ff4b68f81",
        "colab": {
          "base_uri": "https://localhost:8080/",
          "height": 51
        }
      },
      "source": [
        "print(topic_model.clusters)\n",
        "print(topic_model.clusters.shape) # m_words"
      ],
      "execution_count": 0,
      "outputs": [
        {
          "output_type": "stream",
          "text": [
            "[4 8 5 ... 4 4 5]\n",
            "(2208,)\n"
          ],
          "name": "stdout"
        }
      ]
    },
    {
      "cell_type": "code",
      "metadata": {
        "id": "dTw-6XgaOD4l",
        "colab_type": "code",
        "outputId": "faf5b8aa-0fc6-42c5-d9d4-75a112681e15",
        "colab": {
          "base_uri": "https://localhost:8080/",
          "height": 204
        }
      },
      "source": [
        "# Print a single topic from CorEx topic model\n",
        "topic_model.get_top_docs(topic=7, n_docs=10, sort_by='log_prob')"
      ],
      "execution_count": 0,
      "outputs": [
        {
          "output_type": "stream",
          "text": [
            "NOTE: 'docs' not provided to CorEx. Returning top docs as lists of row indices\n"
          ],
          "name": "stdout"
        },
        {
          "output_type": "execute_result",
          "data": {
            "text/plain": [
              "[(52563, 0.0),\n",
              " (178806, 0.0),\n",
              " (42221, 0.0),\n",
              " (42222, 0.0),\n",
              " (42225, 0.0),\n",
              " (42240, 0.0),\n",
              " (42241, 0.0),\n",
              " (93740, 0.0),\n",
              " (42243, 0.0),\n",
              " (111603, 0.0)]"
            ]
          },
          "metadata": {
            "tags": []
          },
          "execution_count": 60
        }
      ]
    },
    {
      "cell_type": "code",
      "metadata": {
        "id": "z0tW_lfZOG0b",
        "colab_type": "code",
        "outputId": "2b742135-5bfb-4f05-db1b-7f368e34c892",
        "colab": {
          "base_uri": "https://localhost:8080/",
          "height": 34
        }
      },
      "source": [
        "print(topic_model.p_y_given_x.shape) # n_docs x k_topics"
      ],
      "execution_count": 0,
      "outputs": [
        {
          "output_type": "stream",
          "text": [
            "(279697, 10)\n"
          ],
          "name": "stdout"
        }
      ]
    },
    {
      "cell_type": "code",
      "metadata": {
        "id": "jiDsOSZ-OJj5",
        "colab_type": "code",
        "outputId": "a8d8b7fa-d9bc-4d05-d36e-e837ecfe6bc0",
        "colab": {
          "base_uri": "https://localhost:8080/",
          "height": 34
        }
      },
      "source": [
        "print(topic_model.labels.shape) # n_docs x k_topics"
      ],
      "execution_count": 0,
      "outputs": [
        {
          "output_type": "stream",
          "text": [
            "(279697, 10)\n"
          ],
          "name": "stdout"
        }
      ]
    },
    {
      "cell_type": "markdown",
      "metadata": {
        "id": "5iMH505FvuIj",
        "colab_type": "text"
      },
      "source": [
        "##Total Corelation and Model Selection"
      ]
    },
    {
      "cell_type": "code",
      "metadata": {
        "id": "dYUzAssfOMhv",
        "colab_type": "code",
        "outputId": "cbf6bb9e-7852-411d-f8c7-27e8b4562197",
        "colab": {
          "base_uri": "https://localhost:8080/",
          "height": 34
        }
      },
      "source": [
        "#Here trying to implement what the paper proposes. Total correlation is the measure which CorEx maximize when constructing the topic model. It can be accessed through tc and is reported in nats.\n",
        "topic_model.tc "
      ],
      "execution_count": 0,
      "outputs": [
        {
          "output_type": "execute_result",
          "data": {
            "text/plain": [
              "6.286875417453791"
            ]
          },
          "metadata": {
            "tags": []
          },
          "execution_count": 63
        }
      ]
    },
    {
      "cell_type": "code",
      "metadata": {
        "id": "L2FcresfOPCv",
        "colab_type": "code",
        "outputId": "6edc14b5-761c-49f1-e1de-591674a5b0e2",
        "colab": {
          "base_uri": "https://localhost:8080/",
          "height": 34
        }
      },
      "source": [
        "topic_model.tcs.shape # k_topics"
      ],
      "execution_count": 0,
      "outputs": [
        {
          "output_type": "execute_result",
          "data": {
            "text/plain": [
              "(10,)"
            ]
          },
          "metadata": {
            "tags": []
          },
          "execution_count": 18
        }
      ]
    },
    {
      "cell_type": "code",
      "metadata": {
        "id": "HFc3wdEvOTTo",
        "colab_type": "code",
        "outputId": "56eb8a47-143f-4b41-8116-42b07ad73c67",
        "colab": {
          "base_uri": "https://localhost:8080/",
          "height": 51
        }
      },
      "source": [
        "print(np.sum(topic_model.tcs))\n",
        "print(topic_model.tc)"
      ],
      "execution_count": 0,
      "outputs": [
        {
          "output_type": "stream",
          "text": [
            "6.286875417453791\n",
            "6.286875417453791\n"
          ],
          "name": "stdout"
        }
      ]
    },
    {
      "cell_type": "code",
      "metadata": {
        "id": "foK49skqOXP8",
        "colab_type": "code",
        "outputId": "4f9e27da-08b8-4405-8d31-02c3a04a5b32",
        "colab": {
          "base_uri": "https://localhost:8080/",
          "height": 339
        }
      },
      "source": [
        "#Selecting number of topics:Choosing from the data visualised\n",
        "plt.figure(figsize=(10,5))\n",
        "plt.bar(range(topic_model.tcs.shape[0]), topic_model.tcs, color='#4e79a7', width=0.5)\n",
        "plt.xlabel('Topic', fontsize=16)\n",
        "plt.ylabel('Total Correlation (nats)', fontsize=16);\n",
        "#plt.savefig('Distribution of TCs for each topic', dpi=600)"
      ],
      "execution_count": 0,
      "outputs": [
        {
          "output_type": "display_data",
          "data": {
            "image/png": "[encoded data removed]",
            "text/plain": [
              "<Figure size 720x360 with 1 Axes>"
            ]
          },
          "metadata": {
            "tags": []
          }
        }
      ]
    },
    {
      "cell_type": "markdown",
      "metadata": {
        "id": "XcR06sfEwsHe",
        "colab_type": "text"
      },
      "source": [
        "##Pointwise Document TC"
      ]
    },
    {
      "cell_type": "code",
      "metadata": {
        "id": "1Nc2jSGSOaaO",
        "colab_type": "code",
        "outputId": "efd1f4e8-d900-496c-eade-c05065fd1ffb",
        "colab": {
          "base_uri": "https://localhost:8080/",
          "height": 34
        }
      },
      "source": [
        "topic_model.log_z.shape # n_docs x k_topics"
      ],
      "execution_count": 0,
      "outputs": [
        {
          "output_type": "execute_result",
          "data": {
            "text/plain": [
              "(279697, 10)"
            ]
          },
          "metadata": {
            "tags": []
          },
          "execution_count": 67
        }
      ]
    },
    {
      "cell_type": "code",
      "metadata": {
        "id": "NoKQM_roOdWs",
        "colab_type": "code",
        "outputId": "4607ecd4-7c9e-4814-fdd3-2784822802cf",
        "colab": {
          "base_uri": "https://localhost:8080/",
          "height": 85
        }
      },
      "source": [
        "print(np.mean(topic_model.log_z, axis=0)) #The pointwise total correlations in log_z represent the correlations within an individual document explained by a particular topic. These correlations have been used to measure how \"surprising\" documents are with respect to given topics\n",
        "print(topic_model.tcs)"
      ],
      "execution_count": 0,
      "outputs": [
        {
          "output_type": "stream",
          "text": [
            "[1.69738781 0.89351488 0.81217524 0.78491838 0.68869838 0.48607448\n",
            " 0.43508857 0.34637922 0.13434364 0.00829481]\n",
            "[1.69738781 0.89351488 0.81217524 0.78491838 0.68869838 0.48607448\n",
            " 0.43508857 0.34637922 0.13434364 0.00829481]\n"
          ],
          "name": "stdout"
        }
      ]
    },
    {
      "cell_type": "markdown",
      "metadata": {
        "id": "siSYaPTdw_dP",
        "colab_type": "text"
      },
      "source": [
        "##Now adding some hierarchy to the Topic Model"
      ]
    },
    {
      "cell_type": "code",
      "metadata": {
        "id": "Sbj0ToiWOgSr",
        "colab_type": "code",
        "outputId": "b04208c5-e8b1-4ccd-d6ff-9b52171209d8",
        "colab": {
          "base_uri": "https://localhost:8080/",
          "height": 34
        }
      },
      "source": [
        "# Train a second layer to the topic model\n",
        "tm_layer2 = ct.Corex(n_hidden=10)\n",
        "tm_layer2.fit(topic_model.labels);\n",
        "\n",
        "# Train a third layer to the topic model\n",
        "tm_layer3 = ct.Corex(n_hidden=1)\n",
        "tm_layer3.fit(tm_layer2.labels);"
      ],
      "execution_count": 0,
      "outputs": [
        {
          "output_type": "stream",
          "text": [
            "WARNING: Some words never appear (or always appear)\n"
          ],
          "name": "stdout"
        }
      ]
    },
    {
      "cell_type": "code",
      "metadata": {
        "id": "KaaeJOWBOj8W",
        "colab_type": "code",
        "colab": {}
      },
      "source": [
        "vt.vis_hierarchy([topic_model, tm_layer2, tm_layer3], column_label=words, max_edges=200, prefix='topic-model-example')\n"
      ],
      "execution_count": 0,
      "outputs": []
    },
    {
      "cell_type": "markdown",
      "metadata": {
        "id": "zeVZe0KLxoRx",
        "colab_type": "text"
      },
      "source": [
        "##Introducing Anchoring in the semi-supervised topic model"
      ]
    },
    {
      "cell_type": "code",
      "metadata": {
        "id": "QEOuGm-bOmgc",
        "colab_type": "code",
        "colab": {}
      },
      "source": [
        "# Anchor one word to the eighth topic\n",
        "anchor_words = ['gardening']"
      ],
      "execution_count": 0,
      "outputs": []
    },
    {
      "cell_type": "code",
      "metadata": {
        "id": "tyhJ29RjOoxo",
        "colab_type": "code",
        "outputId": "19b3be7f-e7eb-4b3d-c420-5b7942191708",
        "colab": {
          "base_uri": "https://localhost:8080/",
          "height": 34
        }
      },
      "source": [
        "# Anchor the word 'shipping' to the seventh topic\n",
        "anchored_topic_model = ct.Corex(n_hidden=50, seed=2)\n",
        "anchored_topic_model.fit(doc_word, words=words, anchors=anchor_words, anchor_strength=6);"
      ],
      "execution_count": 0,
      "outputs": [
        {
          "output_type": "stream",
          "text": [
            "WARNING: Some words never appear (or always appear)\n"
          ],
          "name": "stdout"
        }
      ]
    },
    {
      "cell_type": "code",
      "metadata": {
        "id": "bwEZKJ7EOsUe",
        "colab_type": "code",
        "outputId": "2dc74003-19b5-44ac-a5eb-c18c773e82af",
        "colab": {
          "base_uri": "https://localhost:8080/",
          "height": 34
        }
      },
      "source": [
        "topic_words,_ = zip(*anchored_topic_model.get_topics(topic=9))\n",
        "print('8: ' + ','.join(topic_words))"
      ],
      "execution_count": 0,
      "outputs": [
        {
          "output_type": "stream",
          "text": [
            "8: supply,pool,hot,tub,ranch,farm,agricultural,cleaning,machinery,construction\n"
          ],
          "name": "stdout"
        }
      ]
    },
    {
      "cell_type": "code",
      "metadata": {
        "id": "30rha9MkOwCS",
        "colab_type": "code",
        "outputId": "297355eb-45a0-4a26-a7d5-99fb07e1f164",
        "colab": {
          "base_uri": "https://localhost:8080/",
          "height": 34
        }
      },
      "source": [
        "# Anchor 'electric' and 'electronic' to first topic, 'birds' and 'garden' to second topic, so on...\n",
        "anchor_words = [['gardening', 'tool'], ['pool', 'tub'], ['outdoor', 'accessory'], ['replacement', 'gear']]\n",
        "\n",
        "anchored_topic_model = ct.Corex(n_hidden=50, seed=2)\n",
        "anchored_topic_model.fit(doc_word, words=words, anchors=anchor_words, anchor_strength=6);"
      ],
      "execution_count": 0,
      "outputs": [
        {
          "output_type": "stream",
          "text": [
            "WARNING: Some words never appear (or always appear)\n"
          ],
          "name": "stdout"
        }
      ]
    },
    {
      "cell_type": "code",
      "metadata": {
        "id": "cYbA1tRqOzU7",
        "colab_type": "code",
        "outputId": "b68c3afa-f00b-4b18-d9ca-56d4cc1a08a0",
        "colab": {
          "base_uri": "https://localhost:8080/",
          "height": 85
        }
      },
      "source": [
        "for n in range(len(anchor_words)):\n",
        "    topic_words,_ = zip(*anchored_topic_model.get_topics(topic=n))\n",
        "    print('{}: '.format(n) + ','.join(topic_words))"
      ],
      "execution_count": 0,
      "outputs": [
        {
          "output_type": "stream",
          "text": [
            "0: gardening,tool,care,dcor,flag,doormat,chime,fountain,grass,mailbox\n",
            "1: pool,tub,hot,supply,chemical,cleaning,product,spa,medium,filter\n",
            "2: outdoor,accessory,plant,bulb,seed,flower,control,vegetable,hand,repellent\n",
            "3: replacement,power,mower,mow,gear,chainsaw,trim,stre,washer,pressure\n"
          ],
          "name": "stdout"
        }
      ]
    },
    {
      "cell_type": "code",
      "metadata": {
        "id": "MA-gBh5jO3C4",
        "colab_type": "code",
        "outputId": "c97d9508-d7a7-4b7d-d7a2-3e3e4f49f84a",
        "colab": {
          "base_uri": "https://localhost:8080/",
          "height": 34
        }
      },
      "source": [
        "# Anchor with single words and groups of words\n",
        "anchor_words = ['gardening', ['gardening', 'tool'], ['gardening', 'shovel'], 'flower']\n",
        "\n",
        "anchored_topic_model = ct.Corex(n_hidden=50, seed=2)\n",
        "anchored_topic_model.fit(doc_word, words=words, anchors=anchor_words, anchor_strength=6);"
      ],
      "execution_count": 0,
      "outputs": [
        {
          "output_type": "stream",
          "text": [
            "WARNING: Some words never appear (or always appear)\n"
          ],
          "name": "stdout"
        }
      ]
    },
    {
      "cell_type": "code",
      "metadata": {
        "id": "z88QyNfUO6Yb",
        "colab_type": "code",
        "outputId": "01a17838-3b53-497f-9abc-75558f8ee2e9",
        "colab": {
          "base_uri": "https://localhost:8080/",
          "height": 85
        }
      },
      "source": [
        "for n in range(len(anchor_words)):\n",
        "    topic_words,_ = zip(*anchored_topic_model.get_topics(topic=n))\n",
        "    print('{}: '.format(n) + ','.join(topic_words))"
      ],
      "execution_count": 0,
      "outputs": [
        {
          "output_type": "stream",
          "text": [
            "0: gardening,care,plant,bulb,seed,planter,pot,container,soil,fertilizer\n",
            "1: gardening,tool,dcor,flag,doormat,chime,fountain,grass,freestande,weathervane\n",
            "2: gardening,outdoor,shovel\n",
            "3: flower,bib,collar,mid,repellant,styling,thigh,throat,trench,vest\n"
          ],
          "name": "stdout"
        }
      ]
    },
    {
      "cell_type": "code",
      "metadata": {
        "id": "U8R2h2y4O80R",
        "colab_type": "code",
        "colab": {}
      },
      "source": [
        "vt.vis_rep(topic_model, column_label=words, prefix='./twenty')"
      ],
      "execution_count": 0,
      "outputs": []
    },
    {
      "cell_type": "code",
      "metadata": {
        "id": "Ku3ObOoGFoSV",
        "colab_type": "code",
        "outputId": "12ab89ee-49d0-4827-b42e-12e9befb39e2",
        "colab": {
          "base_uri": "https://localhost:8080/",
          "height": 51
        }
      },
      "source": [
        "%pwd\n",
        "%cd /content/\n",
        "%pwd"
      ],
      "execution_count": 0,
      "outputs": [
        {
          "output_type": "stream",
          "text": [
            "/content\n"
          ],
          "name": "stdout"
        },
        {
          "output_type": "execute_result",
          "data": {
            "text/plain": [
              "'/content'"
            ]
          },
          "metadata": {
            "tags": []
          },
          "execution_count": 81
        }
      ]
    },
    {
      "cell_type": "code",
      "metadata": {
        "id": "ArJckdkIEmb_",
        "colab_type": "code",
        "colab": {}
      },
      "source": [
        "#Saving the CorEx topics generated in a file\n",
        "import sys\n",
        "import csv\n",
        "import os\n",
        "with open(\"corex_topic_meta.txt\",\"w+\") as file:\n",
        "     for n in range(len(anchor_words)):\n",
        "         topic_words,_ = zip(*anchored_topic_model.get_topics(topic=n))\n",
        "         #print('{}: '.format(n) + ','.join(topic_words))\n",
        "         file.write('{}: '.format(n) + ','.join(topic_words)+'\\n')"
      ],
      "execution_count": 0,
      "outputs": []
    },
    {
      "cell_type": "code",
      "metadata": {
        "id": "nTklZFhJz_b2",
        "colab_type": "code",
        "colab": {}
      },
      "source": [
        ""
      ],
      "execution_count": 0,
      "outputs": []
    }
  ]
}