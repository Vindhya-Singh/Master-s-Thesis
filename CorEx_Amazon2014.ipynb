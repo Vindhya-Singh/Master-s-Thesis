{
  "nbformat": 4,
  "nbformat_minor": 0,
  "metadata": {
    "colab": {
      "name": "CorEx_Amazon2014.ipynb",
      "provenance": [],
      "collapsed_sections": [],
      "toc_visible": true,
      "machine_shape": "hm",
      "include_colab_link": true
    },
    "kernelspec": {
      "name": "python3",
      "display_name": "Python 3"
    }
  },
  "cells": [
    {
      "cell_type": "markdown",
      "metadata": {
        "id": "view-in-github",
        "colab_type": "text"
      },
      "source": [
        "<a href=\"https://colab.research.google.com/github/VindhyaSRajan/Master-s-Thesis/blob/master/CorEx_Amazon2014.ipynb\" target=\"_parent\"><img src=\"https://colab.research.google.com/assets/colab-badge.svg\" alt=\"Open In Colab\"/></a>"
      ]
    },
    {
      "cell_type": "markdown",
      "metadata": {
        "id": "kvBOJjCDKtpY",
        "colab_type": "text"
      },
      "source": [
        "##Mounting the drive"
      ]
    },
    {
      "cell_type": "code",
      "metadata": {
        "id": "mLW_yVgmJYch",
        "colab_type": "code",
        "colab": {}
      },
      "source": [
        "from google.colab import drive\n",
        "drive.mount('/content/drive')"
      ],
      "execution_count": 0,
      "outputs": []
    },
    {
      "cell_type": "markdown",
      "metadata": {
        "id": "ml8fcYBwKoJz",
        "colab_type": "text"
      },
      "source": [
        "##All Imports go here but first, installations"
      ]
    },
    {
      "cell_type": "code",
      "metadata": {
        "id": "BC-fLq19LQ3-",
        "colab_type": "code",
        "colab": {}
      },
      "source": [
        "!pip install corextopic\n",
        "!pip install joblib\n",
        "!pip install pyLDAvis"
      ],
      "execution_count": 0,
      "outputs": []
    },
    {
      "cell_type": "code",
      "metadata": {
        "id": "WstfHqthKFZM",
        "colab_type": "code",
        "colab": {}
      },
      "source": [
        "import numpy as np\n",
        "import scipy.sparse as ss\n",
        "import matplotlib.pyplot as plt\n",
        "import pandas as pd\n",
        "\n",
        "import string\n",
        "\n",
        "from corextopic import corextopic as ct\n",
        "from corextopic import vis_topic as vt \n",
        "from sklearn.feature_extraction.text import CountVectorizer\n",
        "\n",
        "\n",
        "\n",
        "pd.set_option('display.max_colwidth', -1)  # to view entire text in any column\n",
        "import random\n",
        "import matplotlib.pyplot as plt\n",
        "%matplotlib inline\n",
        "import seaborn as sns\n",
        "import re\n",
        "import string\n",
        "import gzip\n",
        "from pprint import pprint\n",
        "\n",
        "from bs4 import BeautifulSoup\n",
        "import nltk\n",
        "from nltk import FreqDist\n",
        "nltk.download('stopwords') \n",
        "from nltk.corpus import stopwords\n",
        "# from nltk.stem.wordnet import WordNetLemmatizer  # alternative lemmatizer\n",
        "# lemma = WordNetLemmatizer()\n",
        "\n",
        "import spacy\n",
        "import gensim\n",
        "from gensim import corpora\n",
        "from gensim.models import CoherenceModel\n",
        "\n",
        "import pyLDAvis\n",
        "import pyLDAvis.gensim   # for visualizing found topics\n",
        "\n",
        "import os\n",
        "\n",
        "\n",
        "import warnings\n",
        "warnings.filterwarnings(\"ignore\",category=DeprecationWarning) \n",
        "%matplotlib inline"
      ],
      "execution_count": 0,
      "outputs": []
    },
    {
      "cell_type": "markdown",
      "metadata": {
        "id": "GFJdHcwpK_nG",
        "colab_type": "text"
      },
      "source": [
        "##Reading the already new Amazon data"
      ]
    },
    {
      "cell_type": "code",
      "metadata": {
        "id": "grshBwm_E2Xs",
        "colab_type": "code",
        "colab": {}
      },
      "source": [
        "import pandas as pd  #This function has changed since the last curated data.\n",
        "import gzip\n",
        "import json\n",
        "\n",
        "def parse(path):\n",
        "  g = gzip.open(path, 'rb')\n",
        "  for l in g:\n",
        "    yield json.loads(l)\n",
        "\n",
        "def getDF(path):\n",
        "  i = 0\n",
        "  df = {}\n",
        "  for d in parse(path):\n",
        "    df[i] = d\n",
        "    i += 1\n",
        "  return pd.DataFrame.from_dict(df, orient='index')"
      ],
      "execution_count": 0,
      "outputs": []
    },
    {
      "cell_type": "code",
      "metadata": {
        "id": "BSEvLqoZE3Xg",
        "colab_type": "code",
        "colab": {}
      },
      "source": [
        "df = getDF('/content/drive/My Drive/Amazon_data/Patio_Lawn_and_Garden.json.gz') #Change to your file path"
      ],
      "execution_count": 0,
      "outputs": []
    },
    {
      "cell_type": "code",
      "metadata": {
        "id": "FL1x4w02Lv2L",
        "colab_type": "code",
        "colab": {}
      },
      "source": [
        "meta_df = pd.read_csv('/content/drive/My Drive/Amazon_data/metadata.csv') #Change to your file path\n",
        "merged_df = pd.merge(df, meta_df, how='inner', on=['asin'])"
      ],
      "execution_count": 0,
      "outputs": []
    },
    {
      "cell_type": "code",
      "metadata": {
        "id": "PLmBzpi8B9Ry",
        "colab_type": "code",
        "colab": {
          "base_uri": "https://localhost:8080/",
          "height": 521
        },
        "outputId": "23a2cdaa-eda0-4782-b8ef-02338cf503cd"
      },
      "source": [
        "#Some analysis -- not to be run for the file\n",
        "merged_df.columns\n",
        "merged_df_2 = merged_df.drop(columns = ['overall', 'vote', 'verified', 'reviewTime', 'reviewerID',\n",
        "       'style', 'reviewerName',  'summary', 'unixReviewTime',\n",
        "       'image_x', 'Unnamed: 0', 'category',  'description', \n",
        "       'also_buy', 'brand', 'feature', 'rank',  'date', 'price',\n",
        "       'image_y', 'also_view', 'similar_item', 'details', 'fit', 'tech2'])\n",
        "print(merged_df_2.shape)\n",
        "merged_df_2['COUNTER'] = 1\n",
        "group_data = merged_df_2.groupby(['main_cat'])['COUNTER'].sum()\n",
        "print(group_data)"
      ],
      "execution_count": 147,
      "outputs": [
        {
          "output_type": "stream",
          "text": [
            "(5431771, 5)\n",
            "main_cat\n",
            "All Beauty                      4965   \n",
            "All Electronics                 4054   \n",
            "Amazon Home                     4957515\n",
            "Appliances                      171    \n",
            "Arts, Crafts & Sewing           5967   \n",
            "Automotive                      48438  \n",
            "Baby                            2598   \n",
            "Books                           1889   \n",
            "Buy a Kindle                    85     \n",
            "Camera & Photo                  1230   \n",
            "Car Electronics                 117    \n",
            "Cell Phones & Accessories       4617   \n",
            "Computers                       898    \n",
            "GPS & Navigation                8      \n",
            "Grocery                         14920  \n",
            "Health & Personal Care          17594  \n",
            "Home Audio & Theater            1007   \n",
            "Industrial & Scientific         68833  \n",
            "Movies & TV                     56     \n",
            "Musical Instruments             590    \n",
            "Office Products                 7350   \n",
            "Pet Supplies                    53695  \n",
            "Portable Audio & Accessories    38     \n",
            "Sports & Outdoors               101918 \n",
            "Tools & Home Improvement        104077 \n",
            "Toys & Games                    18723  \n",
            "Video Games                     34     \n",
            "Name: COUNTER, dtype: int64\n"
          ],
          "name": "stdout"
        }
      ]
    },
    {
      "cell_type": "code",
      "metadata": {
        "id": "vB0V8O5o0AQ9",
        "colab_type": "code",
        "colab": {
          "base_uri": "https://localhost:8080/",
          "height": 302
        },
        "outputId": "a5185eec-de86-4994-eb93-2343b6c51b4d"
      },
      "source": [
        "print('Shape of the merged dataframe is ', merged_df.shape)\n",
        "\n",
        "merged_df['COUNTER'] =1       #initially, set that counter to 1.\n",
        "group_data = merged_df.groupby(['overall'])['COUNTER'].sum() #sum function\n",
        "print(group_data)\n",
        "print('----------------------------- After slimming down the data ----------------------------')\n",
        "merged_df = merged_df.head(500000) #In order to slim down the data from 5 million to 500k for better and time-efficient pre-processing\n",
        "print('Shape after the data slimming down ',merged_df.shape)\n",
        "merged_df['COUNTER'] =1       #initially, set that counter to 1.\n",
        "group_data = merged_df.groupby(['overall'])['COUNTER'].sum() #sum function\n",
        "print(group_data)\n",
        "\n"
      ],
      "execution_count": 107,
      "outputs": [
        {
          "output_type": "stream",
          "text": [
            "Shape of the merged dataframe is  (5431771, 30)\n",
            "overall\n",
            "1.0    612922 \n",
            "2.0    276999 \n",
            "3.0    378650 \n",
            "4.0    751360 \n",
            "5.0    3411840\n",
            "Name: COUNTER, dtype: int64\n",
            "----------------------------- After slimming down the data ----------------------------\n",
            "Shape after the data slimming down  (500000, 31)\n",
            "overall\n",
            "1.0    51271 \n",
            "2.0    25559 \n",
            "3.0    35936 \n",
            "4.0    75975 \n",
            "5.0    311259\n",
            "Name: COUNTER, dtype: int64\n"
          ],
          "name": "stdout"
        }
      ]
    },
    {
      "cell_type": "code",
      "metadata": {
        "id": "xK2tCfmOwfas",
        "colab_type": "code",
        "colab": {
          "base_uri": "https://localhost:8080/",
          "height": 118
        },
        "outputId": "8bfe6c28-db24-48e3-b450-070c9c803187"
      },
      "source": [
        "merged_df.columns"
      ],
      "execution_count": 101,
      "outputs": [
        {
          "output_type": "execute_result",
          "data": {
            "text/plain": [
              "Index(['overall', 'vote', 'verified', 'reviewTime', 'reviewerID', 'asin',\n",
              "       'style', 'reviewerName', 'reviewText', 'summary', 'unixReviewTime',\n",
              "       'image_x', 'Unnamed: 0', 'category', 'tech1', 'description', 'title',\n",
              "       'also_buy', 'brand', 'feature', 'rank', 'main_cat', 'date', 'price',\n",
              "       'image_y', 'also_view', 'similar_item', 'details', 'fit', 'tech2'],\n",
              "      dtype='object')"
            ]
          },
          "metadata": {
            "tags": []
          },
          "execution_count": 101
        }
      ]
    },
    {
      "cell_type": "code",
      "metadata": {
        "id": "ZotnBX4qW1a8",
        "colab_type": "code",
        "colab": {
          "base_uri": "https://localhost:8080/",
          "height": 34
        },
        "outputId": "3b118c04-29b8-434b-ec92-5571ccd5e062"
      },
      "source": [
        "#Not to be run for the file\n",
        "matching = [s for s in merged_df.summary if \"good\" in s]\n",
        "matching\n",
        "print('Common number of elements found ', len(matching))"
      ],
      "execution_count": 74,
      "outputs": [
        {
          "output_type": "stream",
          "text": [
            "Common number of elements found  30086\n"
          ],
          "name": "stdout"
        }
      ]
    },
    {
      "cell_type": "code",
      "metadata": {
        "id": "CY4u1nGe0l2b",
        "colab_type": "code",
        "colab": {
          "base_uri": "https://localhost:8080/",
          "height": 521
        },
        "outputId": "29dadba9-a7f3-4c27-ba4c-21a53ed2ef60"
      },
      "source": [
        "#Class balancing of the review -- This needs to be run\n",
        "merged_df = merged_df.groupby('overall').head(60000).reset_index(drop=True)\n",
        "print('Shape after class balancing  ',merged_df.shape)\n",
        "merged_df['COUNTER'] =1       #initially, set that counter to 1.\n",
        "group_data = merged_df.groupby(['overall'])['COUNTER'].sum() #sum function\n",
        "print(group_data)\n",
        "\n",
        "print('----------- Checking the main_categories present------------')\n",
        "merged_df['COUNTER'] =1       #initially, set that counter to 1.\n",
        "group_data = merged_df.groupby(['main_cat'])['COUNTER'].sum() #sum function\n",
        "print(group_data)"
      ],
      "execution_count": 148,
      "outputs": [
        {
          "output_type": "stream",
          "text": [
            "Shape after class balancing   (300000, 30)\n",
            "overall\n",
            "1.0    60000\n",
            "2.0    60000\n",
            "3.0    60000\n",
            "4.0    60000\n",
            "5.0    60000\n",
            "Name: COUNTER, dtype: int64\n",
            "----------- Checking the main_categories present------------\n",
            "main_cat\n",
            "All Beauty                   76    \n",
            "All Electronics              72    \n",
            "Amazon Home                  277547\n",
            "Arts, Crafts & Sewing        76    \n",
            "Automotive                   3178  \n",
            "Baby                         57    \n",
            "Books                        48    \n",
            "Camera & Photo               1     \n",
            "Cell Phones & Accessories    10    \n",
            "Grocery                      764   \n",
            "Health & Personal Care       510   \n",
            "Home Audio & Theater         34    \n",
            "Industrial & Scientific      3138  \n",
            "Musical Instruments          26    \n",
            "Office Products              200   \n",
            "Pet Supplies                 4883  \n",
            "Sports & Outdoors            3864  \n",
            "Tools & Home Improvement     3243  \n",
            "Toys & Games                 2244  \n",
            "Name: COUNTER, dtype: int64\n"
          ],
          "name": "stdout"
        }
      ]
    },
    {
      "cell_type": "markdown",
      "metadata": {
        "id": "vo9okNWqtjDv",
        "colab_type": "text"
      },
      "source": [
        "##Building Dictionary,Term-Doc Matrix"
      ]
    },
    {
      "cell_type": "code",
      "metadata": {
        "id": "BUYQbz49NkbM",
        "colab_type": "code",
        "colab": {
          "base_uri": "https://localhost:8080/",
          "height": 50
        },
        "outputId": "416e4c7d-c520-41cc-d19b-4389b7ede643"
      },
      "source": [
        "cat_list= list(merged_df.category.astype(str).str.lower().unique())\n",
        "print(type(cat_list))\n",
        "print('length of the list', len(cat_list))\n",
        "#cat_list"
      ],
      "execution_count": 110,
      "outputs": [
        {
          "output_type": "stream",
          "text": [
            "<class 'list'>\n",
            "length of the list 560\n"
          ],
          "name": "stdout"
        }
      ]
    },
    {
      "cell_type": "markdown",
      "metadata": {
        "id": "a-MVKpZIwo2g",
        "colab_type": "text"
      },
      "source": [
        "##CorEx for the Theme of the review"
      ]
    },
    {
      "cell_type": "code",
      "metadata": {
        "id": "NHNkXu5rN1nH",
        "colab_type": "code",
        "colab": {}
      },
      "source": [
        "# Define function for tokenize and lemmatizing\n",
        "from nltk.stem.wordnet import WordNetLemmatizer\n",
        "from nltk.tokenize import RegexpTokenizer\n",
        "\n",
        "#First, let's remove the stopwords\n",
        "stopwords = nltk.corpus.stopwords.words('english')\n",
        "stopwords.extend(cat_list) \n",
        "merged_df['summary'] = merged_df['summary'].astype(str) \n",
        "merged_df['summary'] = merged_df.summary.str.replace(\"[_\\-;%()|+&=*%.,!?:#$@\\[\\]/]\", \"\").str.lower()\n",
        "merged_df.loc[:,'summary'] = merged_df['summary'].apply(lambda x: ' '.join([item for item in x.split() if item not in stopwords]))"
      ],
      "execution_count": 0,
      "outputs": []
    },
    {
      "cell_type": "code",
      "metadata": {
        "id": "ofx5dWhLTZgy",
        "colab_type": "code",
        "outputId": "42eb8f98-4613-417e-a841-0260d1c77584",
        "colab": {
          "base_uri": "https://localhost:8080/",
          "height": 50
        }
      },
      "source": [
        "#Converting the DF to list to feed to the CorEx Model\n",
        "dfToList = merged_df['summary'].tolist()\n",
        "\n",
        "dfList = list(merged_df['summary'])\n",
        "\n",
        "dfValues = merged_df['summary'].values\n",
        "#print(dfList)\n",
        "print(dfValues)"
      ],
      "execution_count": 112,
      "outputs": [
        {
          "output_type": "stream",
          "text": [
            "['good story' \"stop can't stop last page\" 'good read' ... 'work year'\n",
            " 'slow working' 'ants']\n"
          ],
          "name": "stdout"
        }
      ]
    },
    {
      "cell_type": "code",
      "metadata": {
        "id": "xPhW34DxMMM9",
        "colab_type": "code",
        "outputId": "946c4be6-9516-452c-ae47-1c01ccc93f4c",
        "colab": {
          "base_uri": "https://localhost:8080/",
          "height": 87
        }
      },
      "source": [
        "# Transform Amazon Reviews data into a sparse matrix\n",
        "vectorizer = CountVectorizer(stop_words=stopwords , max_features=50000,binary = True)\n",
        "doc_word = vectorizer.fit_transform(merged_df['summary'].values.astype('U')) #Learn the vocabulary dictionary and return term-document matrix.\n",
        "doc_word = ss.csr_matrix(doc_word)\n",
        "\n",
        "doc_word.shape # n_docs x m_words"
      ],
      "execution_count": 113,
      "outputs": [
        {
          "output_type": "stream",
          "text": [
            "/usr/local/lib/python3.6/dist-packages/sklearn/feature_extraction/text.py:300: UserWarning: Your stop_words may be inconsistent with your preprocessing. Tokenizing the stop words generated tokens ['10', '100', '11', '17', '20', '25', '30', '36', '40', '45', '50', '60', '70', '80', 'accent', 'access', 'accessories', 'accommodate', 'achla', 'adapters', 'adirondack', 'aerators', 'agricultural', 'alarm', 'alarms', 'alert', 'algaecides', 'aluminized', 'amazon', 'appliances', 'aprons', 'aquatic', 'arbors', 'aspects', 'assemblies', 'assembly', 'attachments', 'auger', 'augers', 'automatic', 'away', 'awnings', 'axes', 'backpacks', 'backyard', 'bags', 'baits', 'balancers', 'ballast', 'balls', 'bar', 'barbecue', 'barometers', 'barrels', 'barrier', 'bars', 'base', 'bases', 'basics', 'basket', 'baskets', 'basting', 'bathing', 'bats', 'bbq', 'beautiful', 'beekeeping', 'behind', 'bench', 'benches', 'beneficial', 'best', 'big', 'bins', 'bird', 'birdbath', 'birdbaths', 'birdhouse', 'birdhouses', 'birding', 'birds', 'bistro', 'black', 'blower', 'blowers', 'boards', 'bonsai', 'boxes', 'brand', 'brass', 'bridges', 'broil', 'bromine', 'brushes', 'bug', 'bulb', 'bulbs', 'burners', 'business', 'cables', 'cacti', 'caddies', 'cage', 'cages', 'camp', 'camping', 'canopies', 'cans', 'canvas', 'cards', 'care', 'cartridge', 'cartridges', 'carts', 'cases', 'cast', 'catchers', 'center', 'chain', 'chains', 'chainsaw', 'chainsaws', 'chair', 'chairs', 'chaise', 'chaney', 'char', 'charcoal', 'chargers', 'chemicals', 'chimes', 'chippers', 'chips', 'chlorine', 'chrome', 'circulation', 'clarifiers', 'classic', 'claws', 'cleaner', 'cleaners', 'cleaning', 'clippers', 'clocks', 'cloth', 'coating', 'cobraco', 'cold', 'coleman', 'collections', 'combination', 'comfort', 'companion', 'composting', 'configuration', 'connectors', 'construction', 'container', 'control', 'controllers', 'cooker', 'cooking', 'cookware', 'cool', 'cooling', 'copper', 'cords', 'couplers', 'covers', 'cridder', 'cultivators', 'cushions', 'customers', 'cutters', 'dcor', 'de', 'deals', 'deck', 'decker', 'decorations', 'decorative', 'decorator', 'deer', 'defence', 'design', 'designs', 'detector', 'detectors', 'dexterity', 'diggers', 'dining', 'displays', 'diving', 'dome', 'doormats', 'doors', 'dr', 'drawers', 'drip', 'drippers', 'ducane', 'dupont', 'eastman', 'edgers', 'edging', 'electric', 'electronics', 'embroidered', 'enamel', 'end', 'energy', 'engine', 'enzymes', 'equipment', 'evenseed', 'every', 'extra', 'eyeballs', 'eyes', 'fabric', 'fans', 'farm', 'farmer', 'fatigue', 'faucets', 'feeder', 'feeders', 'feeding', 'feet', 'fence', 'fences', 'fencing', 'fertilizer', 'fertilizers', 'filter', 'filters', 'filtration', 'financing', 'fingertips', 'fire', 'fireplace', 'fireplaces', 'firestarters', 'firewood', 'fiskars', 'fits', 'fixtures', 'flag', 'flagpole', 'flags', 'flashlights', 'flavorizer', 'flexibility', 'floor', 'flowers', 'flowtron', 'fly', 'foggers', 'food', 'forge', 'forks', 'fountain', 'fountains', 'four', 'framed', 'frames', 'free', 'freestanding', 'fruits', 'frustration', 'fry', 'fryer', 'fryers', 'fuel', 'full', 'furniture', 'garden', 'gardening', 'gardens', 'gas', 'gauges', 'gazebos', 'gazing', 'gear', 'general', 'generator', 'generators', 'germination', 'glass', 'glasses', 'gliders', 'gloves', 'grass', 'grasses', 'grate', 'grates', 'green', 'greenhouses', 'griddles', 'grids', 'grill', 'grilling', 'grillmaster', 'grills', 'grip', 'grommets', 'group', 'growing', 'habitat', 'hammock', 'hammocks', 'hand', 'handheld', 'handles', 'handling', 'hangers', 'hanging', 'hardware', 'havahart', 'heading', 'heads', 'health', 'heat', 'heater', 'heaters', 'heating', 'heavyweight', 'hedge', 'height', 'helps', 'herbs', 'high', 'highest', 'hoes', 'hole', 'holiday', 'home', 'hooks', 'hose', 'hoses', 'hot', 'hummingbird', 'humorous', 'husqvarna', 'hydrofarm', 'hydroponics', 'hygrometers', 'ice', 'icer', 'icers', 'icing', 'igniters', 'imported', 'improvement', 'inches', 'includes', 'indicator', 'indoor', 'inflatable', 'insects', 'instruments', 'international', 'iron', 'irons', 'irrigation', 'jordan', 'keep', 'killers', 'kit', 'kitchen', 'kits', 'knee', 'kneeling', 'labels', 'ladders', 'lamps', 'lances', 'large', 'latex', 'lawn', 'leaf', 'lentek', 'level', 'lid', 'lifters', 'light', 'lighted', 'lighting', 'lights', 'lightweight', 'like', 'limited', 'liners', 'lines', 'live', 'livestock', 'living', 'lock', 'log', 'longer', 'loppers', 'lounge', 'lounges', 'loveseats', 'low', 'lures', 'lustrous', 'machetes', 'machinery', 'made', 'mailbox', 'maintenance', 'manual', 'manufacturing', 'materials', 'mats', 'mealworms', 'measures', 'media', 'medium', 'melters', 'metal', 'misting', 'mitts', 'model', 'monitors', 'mosquito', 'moss', 'mounted', 'mower', 'mowers', 'mr', 'mulch', 'mulchers', 'mulches', 'name', 'nativity', 'natural', 'nature', 'navy', 'nectar', 'nets', 'netting', 'non', 'nozzles', 'number', 'nylon', 'offers', 'oil', 'olive', 'oregon', 'organic', 'ottomans', 'outdoor', 'outdoors', 'p3', 'pads', 'pan', 'panels', 'pans', 'parts', 'patio', 'pellets', 'percent', 'pergolas', 'perky', 'pest', 'pet', 'ph', 'picks', 'picnic', 'pillows', 'pit', 'pitchforks', 'pits', 'planks', 'plant', 'planter', 'planters', 'plants', 'plated', 'plates', 'plows', 'plugs', 'point', 'pole', 'pond', 'ponds', 'pool', 'pools', 'porcelain', 'porch', 'portable', 'post', 'posthole', 'potholders', 'pots', 'potting', 'poultry', 'pounds', 'power', 'precurved', 'presses', 'pressure', 'product', 'products', 'projection', 'promotion', 'proof', 'propane', 'protection', 'protective', 'pruners', 'pruning', 'pump', 'pumps', 'purpose', 'quilts', 'racks', 'raichlen', 'rain', 'raised', 'rakes', 'ranch', 'rate', 'recliners', 'reduce', 'reels', 'removal', 'repellents', 'replacement', 'required', 'return', 'returnable', 'reusable', 'ridder', 'riding', 'ring', 'robotic', 'rocking', 'roll', 'rotisseries', 'rows', 'rubber', 'rubbermaid', 'safer', 'safety', 'sails', 'salt', 'sand', 'saucers', 'save', 'saws', 'sayings', 'scenes', 'schrodt', 'scientific', 'scissors', 'scrapers', 'screens', 'sculptures', 'seals', 'seamless', 'seating', 'seats', 'seed', 'seeds', 'select', 'selection', 'set', 'sets', 'sewn', 'shade', 'shades', 'sharpeners', 'shears', 'sheds', 'shelves', 'shovels', 'shredders', 'shrubs', 'side', 'sight', 'signs', 'size', 'sized', 'skewers', 'skimmers', 'skimming', 'slides', 'small', 'smoke', 'smoker', 'smokers', 'snake', 'snow', 'sofa', 'soil', 'soils', 'solar', 'solarmax', 'solid', 'solutions', 'sore', 'spa', 'spades', 'spare', 'specialty', 'speed', 'spinners', 'splitter', 'splitters', 'spools', 'sprayers', 'spreaders', 'spring', 'sprinkler', 'sprinklers', 'squirrel', 'squirrels', 'st', 'stakes', 'stand', 'stands', 'stars', 'starters', 'stations', 'statues', 'stay', 'steel', 'step', 'steven', 'sti', 'stitching', 'stokes', 'stones', 'stools', 'storage', 'straps', 'strathwood', 'string', 'stripes', 'strips', 'stroke', 'structures', 'succulents', 'suction', 'suet', 'suncast', 'suncatchers', 'sundials', 'supplies', 'support', 'supports', 'swatters', 'swimming', 'swings', 'switches', 'system', 'systems', 'table', 'tables', 'tabletop', 'tents', 'terrariums', 'terro', 'test', 'testing', 'textured', 'thermometers', 'thomas', 'three', 'throwers', 'thumb', 'ties', 'tillers', 'timers', 'tomato', 'tongs', 'tool', 'tools', 'top', 'toppers', 'torches', 'toro', 'tow', 'tractor', 'tractors', 'transfer', 'traps', 'trays', 'treatment', 'tree', 'trees', 'trellises', 'trimmer', 'trimmers', 'trowels', 'tubing', 'tubs', 'tune', 'turkey', 'turners', 'twine', 'twist', 'two', 'umbrella', 'umbrellas', 'ump903', 'underground', 'urban', 'urns', 'us', 'usa', 'utensils', 'vacs', 'vacuum', 'vacuums', 'valley', 'valves', 'vegetables', 'versatile', 'vertical', 'vines', 'walk', 'wall', 'wands', 'warranty', 'washer', 'washers', 'waste', 'water', 'waterers', 'watering', 'wear', 'weather', 'weathervanes', 'weber', 'weed', 'weeders', 'wheelbarrows', 'wheels', 'white', 'wide', 'wildlife', 'wind', 'windchimes', 'window', 'woks', 'wood', 'wooden', 'workseats', 'yard', 'year', 'zappers'] not in stop_words.\n",
            "  'stop_words.' % sorted(inconsistent))\n"
          ],
          "name": "stderr"
        },
        {
          "output_type": "execute_result",
          "data": {
            "text/plain": [
              "(300000, 23415)"
            ]
          },
          "metadata": {
            "tags": []
          },
          "execution_count": 113
        }
      ]
    },
    {
      "cell_type": "code",
      "metadata": {
        "id": "f_bUXNp5NFG8",
        "colab_type": "code",
        "colab": {}
      },
      "source": [
        "# Get words that label the columns (needed to extract readable topics and make anchoring easier)\n",
        "words = list(np.asarray(vectorizer.get_feature_names()))"
      ],
      "execution_count": 0,
      "outputs": []
    },
    {
      "cell_type": "code",
      "metadata": {
        "id": "yHsn6cG2NuH0",
        "colab_type": "code",
        "outputId": "3e7aaa22-5b1a-4df2-ccdf-ee70cd00c7b7",
        "colab": {
          "base_uri": "https://localhost:8080/",
          "height": 34
        }
      },
      "source": [
        "not_digit_inds = [ind for ind,word in enumerate(words) if not word.isdigit()]\n",
        "doc_word = doc_word[:,not_digit_inds]\n",
        "words    = [word for ind,word in enumerate(words) if not word.isdigit()]\n",
        "\n",
        "doc_word.shape # n_docs x m_words"
      ],
      "execution_count": 115,
      "outputs": [
        {
          "output_type": "execute_result",
          "data": {
            "text/plain": [
              "(300000, 22658)"
            ]
          },
          "metadata": {
            "tags": []
          },
          "execution_count": 115
        }
      ]
    },
    {
      "cell_type": "markdown",
      "metadata": {
        "id": "SWPi_MkNtbsc",
        "colab_type": "text"
      },
      "source": [
        "##Training the CorEx Topic Model"
      ]
    },
    {
      "cell_type": "code",
      "metadata": {
        "id": "Z-FDTwAYNxid",
        "colab_type": "code",
        "colab": {}
      },
      "source": [
        "# Train the CorEx topic model with 10 topics\n",
        "topic_model = ct.Corex(n_hidden=20, words=words, max_iter=500, verbose=False, seed=1)\n",
        "topic_model.fit(doc_word, words=words);"
      ],
      "execution_count": 0,
      "outputs": []
    },
    {
      "cell_type": "code",
      "metadata": {
        "id": "7OKbfhueN1sE",
        "colab_type": "code",
        "outputId": "71ed3fa2-931a-4994-b495-0ac511e7f428",
        "colab": {
          "base_uri": "https://localhost:8080/",
          "height": 185
        }
      },
      "source": [
        "# Print a single topic from CorEx topic model. This model is trained on the Amazon Garden and Lawn Products\n",
        "topic_model.get_topics(topic=7, n_words=10)"
      ],
      "execution_count": 117,
      "outputs": [
        {
          "output_type": "execute_result",
          "data": {
            "text/plain": [
              "[('bug', 0.02418005023042135),\n",
              " ('zapper', 0.01941978494022068),\n",
              " ('killer', 0.012465325347929983),\n",
              " ('flowtron', 0.010317429185851682),\n",
              " ('trap', 0.008755116281745069),\n",
              " ('insect', 0.00708277984970696),\n",
              " ('mole', 0.006005973286370035),\n",
              " ('rat', 0.0041699501598442225),\n",
              " ('victor', 0.003186086727738959),\n",
              " ('mosquito', 0.0031157981938187093)]"
            ]
          },
          "metadata": {
            "tags": []
          },
          "execution_count": 117
        }
      ]
    },
    {
      "cell_type": "code",
      "metadata": {
        "id": "PXEY_OBON4mi",
        "colab_type": "code",
        "outputId": "56d08936-6a0c-4354-e099-905524436495",
        "colab": {
          "base_uri": "https://localhost:8080/",
          "height": 353
        }
      },
      "source": [
        "# Print all topics from the CorEx topic model\n",
        "topics = topic_model.get_topics()\n",
        "for n,topic in enumerate(topics):\n",
        "    topic_words,_ = zip(*topic)\n",
        "    print('{}: '.format(n) + ','.join(topic_words))"
      ],
      "execution_count": 119,
      "outputs": [
        {
          "output_type": "stream",
          "text": [
            "0: stars,five,four,three,two,great,good,product,work,quality\n",
            "1: one,star,pass,deserve,shortcoming,recharges,inventions,buys,envelope,investments\n",
            "2: grill,cover,mower,feeder,weber,lawn,hummingbird,reel,pool,gas\n",
            "3: money,waste,save,worth,wasted,dont,total,cordless,complete,penny\n",
            "4: water,rain,pruning,weather,gauge,flies,shears,fiskars,station,high\n",
            "5: use,easy,like,get,first,used,set,hard,read,clean\n",
            "6: chain,black,saw,apart,wrong,picture,decker,description,fell,old\n",
            "7: bug,zapper,killer,flowtron,trap,insect,mole,rat,victor,mosquito\n",
            "8: well,made,works,poorly,fine,built,cheaply,short,designed,worked\n",
            "9: better,easily,could,much,plastic,hole,steel,snow,thin,post\n",
            "10: small,away,light,heavy,working,duty,squirrels,yard,plants,stopped\n",
            "11: squirrel,gets,mice,proof,done,mouse,rats,mosquitoes,caught,mosquitos\n",
            "12: would,recommend,arrived,thought,broken,highly,damaged,anyone,give,arrival\n",
            "13: last,long,lasted,year,months,less,expectations,warranty,time,season\n",
            "14: together,put,soil,test,chicken,table,kit,wire,bamboo,red\n",
            "15: service,customer,axe,fence,liquid,support,camp,estwing,tank,propane\n",
            "16: leaf,blower,price,earthway,spreader,toro,electric,reasonable,vac,edger\n",
            "17: effective,bugs,nothing,simple,dead,smells,zap,hoped,rate,failure\n",
            "18: super,sturdy,cute,assemble,pretty,functional,cool,chips,attractive,bench\n",
            "19: best,beware,defective,buyer,leaky,overpriced,somewhat,faulty,hammock,cooker\n"
          ],
          "name": "stdout"
        }
      ]
    },
    {
      "cell_type": "code",
      "metadata": {
        "id": "qJPbeUImN8UC",
        "colab_type": "code",
        "outputId": "12d0fdbc-db36-4b92-80b5-e8909c13d40b",
        "colab": {
          "base_uri": "https://localhost:8080/",
          "height": 185
        }
      },
      "source": [
        "topic_model.get_topics(topic=5, n_words=10, print_words=False)"
      ],
      "execution_count": 83,
      "outputs": [
        {
          "output_type": "execute_result",
          "data": {
            "text/plain": [
              "[(3638, 0.011416798094880873),\n",
              " (17708, 0.009559335911771357),\n",
              " (2463, 0.008937152763950806),\n",
              " (16335, 0.007096802774412461),\n",
              " (5162, 0.007004550163764487),\n",
              " (18105, 0.006222553955102711),\n",
              " (5392, 0.005863037710095584),\n",
              " (8707, 0.0056133477984540905),\n",
              " (8796, 0.004951930045388539),\n",
              " (8259, 0.004661411070058562)]"
            ]
          },
          "metadata": {
            "tags": []
          },
          "execution_count": 83
        }
      ]
    },
    {
      "cell_type": "code",
      "metadata": {
        "id": "v-CIEn-vOA0O",
        "colab_type": "code",
        "outputId": "44c86d39-0051-473b-e7d0-225acde0368b",
        "colab": {
          "base_uri": "https://localhost:8080/",
          "height": 50
        }
      },
      "source": [
        "print(topic_model.clusters) #In order to see which word gets assigned to which topic in the model\n",
        "print(topic_model.clusters.shape) # m_words"
      ],
      "execution_count": 84,
      "outputs": [
        {
          "output_type": "stream",
          "text": [
            "[ 3 13 15 ... 10  0  8]\n",
            "(23467,)\n"
          ],
          "name": "stdout"
        }
      ]
    },
    {
      "cell_type": "code",
      "metadata": {
        "id": "dTw-6XgaOD4l",
        "colab_type": "code",
        "outputId": "f30565e2-784c-4c5c-b67c-a280ee22dba8",
        "colab": {
          "base_uri": "https://localhost:8080/",
          "height": 202
        }
      },
      "source": [
        "# Print a single topic from CorEx topic model\n",
        "topic_model.get_top_docs(topic=7, n_docs=10, sort_by='log_prob') #This is to check the top docs per topic. The highest score is 0 for documents then decreasing to a negative "
      ],
      "execution_count": 85,
      "outputs": [
        {
          "output_type": "stream",
          "text": [
            "NOTE: 'docs' not provided to CorEx. Returning top docs as lists of row indices\n"
          ],
          "name": "stdout"
        },
        {
          "output_type": "execute_result",
          "data": {
            "text/plain": [
              "[(244164, 0.0),\n",
              " (286219, 0.0),\n",
              " (276746, 0.0),\n",
              " (465563, 0.0),\n",
              " (276745, 0.0),\n",
              " (237672, 0.0),\n",
              " (286220, 0.0),\n",
              " (211492, 0.0),\n",
              " (211491, 0.0),\n",
              " (296931, 0.0)]"
            ]
          },
          "metadata": {
            "tags": []
          },
          "execution_count": 85
        }
      ]
    },
    {
      "cell_type": "code",
      "metadata": {
        "id": "z0tW_lfZOG0b",
        "colab_type": "code",
        "outputId": "6d342f97-2b34-4d9b-dd9a-b712187929cf",
        "colab": {
          "base_uri": "https://localhost:8080/",
          "height": 34
        }
      },
      "source": [
        "print(topic_model.p_y_given_x.shape) # n_docs x k_topics"
      ],
      "execution_count": 86,
      "outputs": [
        {
          "output_type": "stream",
          "text": [
            "(500000, 20)\n"
          ],
          "name": "stdout"
        }
      ]
    },
    {
      "cell_type": "code",
      "metadata": {
        "id": "jiDsOSZ-OJj5",
        "colab_type": "code",
        "outputId": "0bd1cb48-70db-4669-b37c-9582f3708b96",
        "colab": {
          "base_uri": "https://localhost:8080/",
          "height": 34
        }
      },
      "source": [
        "print(topic_model.labels.shape) # n_docs x k_topics"
      ],
      "execution_count": 87,
      "outputs": [
        {
          "output_type": "stream",
          "text": [
            "(500000, 20)\n"
          ],
          "name": "stdout"
        }
      ]
    },
    {
      "cell_type": "markdown",
      "metadata": {
        "id": "5iMH505FvuIj",
        "colab_type": "text"
      },
      "source": [
        "##Total Corelation and Model Selection"
      ]
    },
    {
      "cell_type": "code",
      "metadata": {
        "id": "dYUzAssfOMhv",
        "colab_type": "code",
        "outputId": "322a5812-88b9-4418-a390-565b758e0c4b",
        "colab": {
          "base_uri": "https://localhost:8080/",
          "height": 34
        }
      },
      "source": [
        "#Here trying to implement what the paper proposes. Total correlation is the measure which CorEx maximize when constructing the topic model. It can be accessed through tc and is reported in nats.\n",
        "topic_model.tc "
      ],
      "execution_count": 120,
      "outputs": [
        {
          "output_type": "execute_result",
          "data": {
            "text/plain": [
              "1.1373086829944004"
            ]
          },
          "metadata": {
            "tags": []
          },
          "execution_count": 120
        }
      ]
    },
    {
      "cell_type": "code",
      "metadata": {
        "id": "L2FcresfOPCv",
        "colab_type": "code",
        "outputId": "682cd7cd-4a0b-4d65-b479-3f38bebdef4e",
        "colab": {
          "base_uri": "https://localhost:8080/",
          "height": 34
        }
      },
      "source": [
        "topic_model.tcs.shape # k_topics This is the best hyper-parameter so far as it gives the highest Total corelation"
      ],
      "execution_count": 121,
      "outputs": [
        {
          "output_type": "execute_result",
          "data": {
            "text/plain": [
              "(20,)"
            ]
          },
          "metadata": {
            "tags": []
          },
          "execution_count": 121
        }
      ]
    },
    {
      "cell_type": "code",
      "metadata": {
        "id": "HFc3wdEvOTTo",
        "colab_type": "code",
        "outputId": "cbb556d7-821f-487c-d476-617e1dac9bb1",
        "colab": {
          "base_uri": "https://localhost:8080/",
          "height": 50
        }
      },
      "source": [
        "print(np.sum(topic_model.tcs))\n",
        "print(topic_model.tc)"
      ],
      "execution_count": 122,
      "outputs": [
        {
          "output_type": "stream",
          "text": [
            "1.1373086829944004\n",
            "1.1373086829944004\n"
          ],
          "name": "stdout"
        }
      ]
    },
    {
      "cell_type": "code",
      "metadata": {
        "id": "foK49skqOXP8",
        "colab_type": "code",
        "outputId": "6567f1b3-462f-4c72-f651-e5721c24e053",
        "colab": {
          "base_uri": "https://localhost:8080/",
          "height": 339
        }
      },
      "source": [
        "#Selecting number of topics:Choosing from the data visualised\n",
        "plt.figure(figsize=(10,5))\n",
        "plt.bar(range(topic_model.tcs.shape[0]), topic_model.tcs, color='#4e79a7', width=0.5)\n",
        "plt.xlabel('Topic', fontsize=16)\n",
        "plt.ylabel('Total Correlation (nats)', fontsize=16);\n",
        "#plt.savefig('Distribution of TCs for each topic', dpi=600)"
      ],
      "execution_count": 123,
      "outputs": [
        {
          "output_type": "display_data",
          "data": {
            "image/png": "[encoded data removed]",
            "text/plain": [
              "<Figure size 720x360 with 1 Axes>"
            ]
          },
          "metadata": {
            "tags": []
          }
        }
      ]
    },
    {
      "cell_type": "markdown",
      "metadata": {
        "id": "XcR06sfEwsHe",
        "colab_type": "text"
      },
      "source": [
        "##Pointwise Document TC"
      ]
    },
    {
      "cell_type": "code",
      "metadata": {
        "id": "1Nc2jSGSOaaO",
        "colab_type": "code",
        "outputId": "816f3e2e-a999-4b5f-a912-2fda9138679b",
        "colab": {
          "base_uri": "https://localhost:8080/",
          "height": 34
        }
      },
      "source": [
        "topic_model.log_z.shape # n_docs x k_topics"
      ],
      "execution_count": 124,
      "outputs": [
        {
          "output_type": "execute_result",
          "data": {
            "text/plain": [
              "(300000, 20)"
            ]
          },
          "metadata": {
            "tags": []
          },
          "execution_count": 124
        }
      ]
    },
    {
      "cell_type": "code",
      "metadata": {
        "id": "NoKQM_roOdWs",
        "colab_type": "code",
        "outputId": "7b9a92e2-f516-403c-8d2e-a31e7a078b2f",
        "colab": {
          "base_uri": "https://localhost:8080/",
          "height": 151
        }
      },
      "source": [
        "print(np.mean(topic_model.log_z, axis=0)) #The pointwise total correlations in log_z represent the correlations within an individual document explained by a particular topic. These correlations have been used to measure how \"surprising\" documents are with respect to given topics\n",
        "print(topic_model.tcs)"
      ],
      "execution_count": 125,
      "outputs": [
        {
          "output_type": "stream",
          "text": [
            "[0.45197722 0.10295922 0.07617104 0.05823997 0.05001377 0.0429463\n",
            " 0.04276187 0.0423886  0.04202564 0.04049325 0.04044365 0.03084553\n",
            " 0.02397728 0.02387508 0.02190204 0.01852416 0.01491896 0.00686471\n",
            " 0.0038792  0.0021012 ]\n",
            "[0.45197722 0.10295922 0.07617104 0.05823997 0.05001377 0.0429463\n",
            " 0.04276187 0.0423886  0.04202564 0.04049325 0.04044365 0.03084553\n",
            " 0.02397728 0.02387508 0.02190204 0.01852416 0.01491896 0.00686471\n",
            " 0.0038792  0.0021012 ]\n"
          ],
          "name": "stdout"
        }
      ]
    },
    {
      "cell_type": "markdown",
      "metadata": {
        "id": "siSYaPTdw_dP",
        "colab_type": "text"
      },
      "source": [
        "##Now adding some hierarchy to the Topic Model"
      ]
    },
    {
      "cell_type": "code",
      "metadata": {
        "id": "Sbj0ToiWOgSr",
        "colab_type": "code",
        "colab": {}
      },
      "source": [
        "# Train a second layer to the topic model\n",
        "tm_layer2 = ct.Corex(n_hidden=10)\n",
        "tm_layer2.fit(topic_model.labels);\n",
        "\n",
        "# Train a third layer to the topic model\n",
        "tm_layer3 = ct.Corex(n_hidden=10)\n",
        "tm_layer3.fit(tm_layer2.labels);"
      ],
      "execution_count": 0,
      "outputs": []
    },
    {
      "cell_type": "code",
      "metadata": {
        "id": "KaaeJOWBOj8W",
        "colab_type": "code",
        "colab": {}
      },
      "source": [
        "vt.vis_hierarchy([topic_model, tm_layer2, tm_layer3], column_label=words, max_edges=200, prefix='topic-model-example')\n"
      ],
      "execution_count": 0,
      "outputs": []
    },
    {
      "cell_type": "markdown",
      "metadata": {
        "id": "zeVZe0KLxoRx",
        "colab_type": "text"
      },
      "source": [
        "##Introducing Anchoring in the semi-supervised topic model"
      ]
    },
    {
      "cell_type": "code",
      "metadata": {
        "id": "QEOuGm-bOmgc",
        "colab_type": "code",
        "colab": {}
      },
      "source": [
        "# Anchor one word to the eighth topic\n",
        "anchor_words = ['delivery']"
      ],
      "execution_count": 0,
      "outputs": []
    },
    {
      "cell_type": "code",
      "metadata": {
        "id": "tyhJ29RjOoxo",
        "colab_type": "code",
        "colab": {}
      },
      "source": [
        "# Anchor the word 'shipping' to the seventh topic\n",
        "anchored_topic_model = ct.Corex(n_hidden=10, seed=2)\n",
        "anchored_topic_model.fit(doc_word, words=words, anchors=anchor_words, anchor_strength=6);"
      ],
      "execution_count": 0,
      "outputs": []
    },
    {
      "cell_type": "code",
      "metadata": {
        "id": "SW-0OCRyQnus",
        "colab_type": "code",
        "colab": {
          "base_uri": "https://localhost:8080/",
          "height": 185
        },
        "outputId": "b95c2d88-f076-4766-fcc8-c371ab137ac3"
      },
      "source": [
        "# Print all topics from the CorEx topic model\n",
        "topics = anchored_topic_model.get_topics()\n",
        "for n,topic in enumerate(topics):\n",
        "    topic_words,_ = zip(*topic)\n",
        "    print('{}: '.format(n) + ','.join(topic_words))"
      ],
      "execution_count": 100,
      "outputs": [
        {
          "output_type": "stream",
          "text": [
            "0: easy,use,delivery,easily,read,fast,put,water,time,first\n",
            "1: one,star,second,season,another,purchases,2nd,rating,investments,third\n",
            "2: grill,electric,mower,outdoor,black,squirrel,rain,proof,lawn,decker\n",
            "3: chain,saw,replacement,fits,weber,fit,oregon,perfectly,poulan,pump\n",
            "4: junk,piece,useless,garbage,mole,crap,totally,completely,total,complete\n",
            "5: grass,heavy,duty,metal,pruning,shears,detector,fiskars,gets,done\n",
            "6: recommend,axe,splitting,would,highly,snow,long,expectations,short,recommended\n",
            "7: money,best,ever,waste,worth,owned,save,market,worst,loves\n",
            "8: stars,five,four,great,three,good,works,product,love,two\n",
            "9: like,better,years,get,away,much,bugs,bug,still,flies\n"
          ],
          "name": "stdout"
        }
      ]
    },
    {
      "cell_type": "code",
      "metadata": {
        "id": "bwEZKJ7EOsUe",
        "colab_type": "code",
        "outputId": "25411523-b723-4d4d-817a-903673166189",
        "colab": {
          "base_uri": "https://localhost:8080/",
          "height": 34
        }
      },
      "source": [
        "#Just look at one of the topics to see the words distributed per topic\n",
        "topic_words,_ = zip(*anchored_topic_model.get_topics(topic=9))\n",
        "print('8: ' + ','.join(topic_words))"
      ],
      "execution_count": 0,
      "outputs": [
        {
          "output_type": "stream",
          "text": [
            "8: experience,true,expect,buck,complain,folk,person,speak,temper,common\n"
          ],
          "name": "stdout"
        }
      ]
    },
    {
      "cell_type": "code",
      "metadata": {
        "id": "30rha9MkOwCS",
        "colab_type": "code",
        "colab": {}
      },
      "source": [
        "# Anchor words to respective topics, so on...\n",
        "anchor_words = [['use', 'efficient'], ['shipping', 'delivery'], ['money', 'worth'], ['price', 'quality']]\n",
        "\n",
        "anchored_topic_model = ct.Corex(n_hidden=10, seed=2) #the best so far for the hidden units that worked is n = 10\n",
        "anchored_topic_model.fit(doc_word, words=words, anchors=anchor_words, anchor_strength=6);"
      ],
      "execution_count": 0,
      "outputs": []
    },
    {
      "cell_type": "code",
      "metadata": {
        "id": "cYbA1tRqOzU7",
        "colab_type": "code",
        "outputId": "ba4e66ec-acdf-4d78-aeee-6b7eb3c59b28",
        "colab": {
          "base_uri": "https://localhost:8080/",
          "height": 85
        }
      },
      "source": [
        "for n in range(len(anchor_words)):\n",
        "    topic_words,_ = zip(*anchored_topic_model.get_topics(topic=n))\n",
        "    print('{}: '.format(n) + ','.join(topic_words))"
      ],
      "execution_count": 0,
      "outputs": [
        {
          "output_type": "stream",
          "text": [
            "0: use,efficient,extensively,conjunction,exclusively,everytime,everyday,boat,sparingly,jobe\n",
            "1: shipping,delivery,amazon,review,customer,service,say,order,send,read\n",
            "2: money,worth,waste,spend,save,penny,investment,cent,earn,pricey\n",
            "3: price,quality,reasonable,material,beat,reasonably,excellent,value,tag,bargain\n"
          ],
          "name": "stdout"
        }
      ]
    },
    {
      "cell_type": "code",
      "metadata": {
        "id": "MA-gBh5jO3C4",
        "colab_type": "code",
        "colab": {}
      },
      "source": [
        "# Anchor with single words and groups of words\n",
        "anchor_words = ['money', ['money', 'cost'], ['money', 'worth'], 'bargain']\n",
        "\n",
        "anchored_topic_model = ct.Corex(n_hidden=50, seed=2)\n",
        "anchored_topic_model.fit(doc_word, words=words, anchors=anchor_words, anchor_strength=6);"
      ],
      "execution_count": 0,
      "outputs": []
    },
    {
      "cell_type": "code",
      "metadata": {
        "id": "z88QyNfUO6Yb",
        "colab_type": "code",
        "outputId": "3d166b06-8835-43fe-ea26-b18d405f688e",
        "colab": {
          "base_uri": "https://localhost:8080/",
          "height": 85
        }
      },
      "source": [
        "for n in range(len(anchor_words)):\n",
        "    topic_words,_ = zip(*anchored_topic_model.get_topics(topic=n))\n",
        "    print('{}: '.format(n) + ','.join(topic_words))"
      ],
      "execution_count": 0,
      "outputs": [
        {
          "output_type": "stream",
          "text": [
            "0: money,waste,save,waist,wast,shopvac,preheating,patching,tops,saved\n",
            "1: money,cost,don,fraction,prohibitive,cheapskate,cram,shows,2010this,whopping\n",
            "2: money,worth,penny,cent,pricey,pricy,monie,bok,choy,cheapos\n",
            "3: bargain,high,point,note,mean,level,reviewer,simply,slightly,important\n"
          ],
          "name": "stdout"
        }
      ]
    },
    {
      "cell_type": "code",
      "metadata": {
        "id": "U8R2h2y4O80R",
        "colab_type": "code",
        "colab": {}
      },
      "source": [
        "vt.vis_rep(topic_model, column_label=words, prefix='./twenty')"
      ],
      "execution_count": 0,
      "outputs": []
    },
    {
      "cell_type": "code",
      "metadata": {
        "id": "Ku3ObOoGFoSV",
        "colab_type": "code",
        "outputId": "4299b888-05f0-4bc1-c801-d82631e72b70",
        "colab": {
          "base_uri": "https://localhost:8080/",
          "height": 51
        }
      },
      "source": [
        "%pwd\n",
        "%cd /content/\n",
        "%pwd"
      ],
      "execution_count": 0,
      "outputs": [
        {
          "output_type": "stream",
          "text": [
            "/content\n"
          ],
          "name": "stdout"
        },
        {
          "output_type": "execute_result",
          "data": {
            "text/plain": [
              "'/content'"
            ]
          },
          "metadata": {
            "tags": []
          },
          "execution_count": 88
        }
      ]
    },
    {
      "cell_type": "code",
      "metadata": {
        "id": "ArJckdkIEmb_",
        "colab_type": "code",
        "colab": {}
      },
      "source": [
        "#Saving the CorEx topics generated in a file\n",
        "import sys\n",
        "import csv\n",
        "with open(\"corex_topic_improved.txt\",\"w+\") as file:\n",
        "     for n in range(len(anchor_words)):\n",
        "         topic_words,_ = zip(*anchored_topic_model.get_topics(topic=n))\n",
        "         #print('{}: '.format(n) + ','.join(topic_words))\n",
        "         file.write('{}: '.format(n) + ','.join(topic_words)+'\\n')"
      ],
      "execution_count": 0,
      "outputs": []
    },
    {
      "cell_type": "code",
      "metadata": {
        "id": "nTklZFhJz_b2",
        "colab_type": "code",
        "colab": {}
      },
      "source": [
        ""
      ],
      "execution_count": 0,
      "outputs": []
    }
  ]
}